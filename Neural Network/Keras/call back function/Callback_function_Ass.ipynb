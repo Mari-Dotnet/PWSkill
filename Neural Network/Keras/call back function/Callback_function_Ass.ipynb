{
 "cells": [
  {
   "cell_type": "code",
   "execution_count": 1,
   "id": "1bfca82e-1049-43b7-ad05-2768bdc02d18",
   "metadata": {},
   "outputs": [],
   "source": [
    "import tensorflow as tf"
   ]
  },
  {
   "cell_type": "code",
   "execution_count": 2,
   "id": "2e0b8dca-2fb3-4db7-9778-4f45fab4e2ba",
   "metadata": {},
   "outputs": [
    {
     "name": "stdout",
     "output_type": "stream",
     "text": [
      "2.12.0\n"
     ]
    }
   ],
   "source": [
    "print(tf.__version__)"
   ]
  },
  {
   "cell_type": "code",
   "execution_count": 6,
   "id": "9dd5bd06-a9e4-471c-9aa0-37e1ae1932ad",
   "metadata": {},
   "outputs": [
    {
     "name": "stdout",
     "output_type": "stream",
     "text": [
      "2.6.0\n"
     ]
    }
   ],
   "source": [
    "from tensorflow.python import keras\n",
    "print(keras.__version__)"
   ]
  },
  {
   "cell_type": "code",
   "execution_count": 7,
   "id": "1fe92fd3-931b-4026-a864-0025760f12d9",
   "metadata": {},
   "outputs": [],
   "source": [
    "import pandas as pd\n",
    "import numpy as np\n",
    "import matplotlib.pyplot as plt\n",
    "import seaborn as sns"
   ]
  },
  {
   "cell_type": "code",
   "execution_count": 8,
   "id": "c529b31e-ef92-4706-81c0-9f3f53a52063",
   "metadata": {},
   "outputs": [],
   "source": [
    "df=pd.read_csv('wine.csv')"
   ]
  },
  {
   "cell_type": "code",
   "execution_count": 9,
   "id": "bfe6802f-d30a-4459-a912-0a80031d36c5",
   "metadata": {},
   "outputs": [
    {
     "data": {
      "text/html": [
       "<div>\n",
       "<style scoped>\n",
       "    .dataframe tbody tr th:only-of-type {\n",
       "        vertical-align: middle;\n",
       "    }\n",
       "\n",
       "    .dataframe tbody tr th {\n",
       "        vertical-align: top;\n",
       "    }\n",
       "\n",
       "    .dataframe thead th {\n",
       "        text-align: right;\n",
       "    }\n",
       "</style>\n",
       "<table border=\"1\" class=\"dataframe\">\n",
       "  <thead>\n",
       "    <tr style=\"text-align: right;\">\n",
       "      <th></th>\n",
       "      <th>fixed acidity</th>\n",
       "      <th>volatile acidity</th>\n",
       "      <th>citric acid</th>\n",
       "      <th>residual sugar</th>\n",
       "      <th>chlorides</th>\n",
       "      <th>free sulfur dioxide</th>\n",
       "      <th>total sulfur dioxide</th>\n",
       "      <th>density</th>\n",
       "      <th>pH</th>\n",
       "      <th>sulphates</th>\n",
       "      <th>alcohol</th>\n",
       "      <th>quality</th>\n",
       "    </tr>\n",
       "  </thead>\n",
       "  <tbody>\n",
       "    <tr>\n",
       "      <th>0</th>\n",
       "      <td>7.4</td>\n",
       "      <td>0.70</td>\n",
       "      <td>0.00</td>\n",
       "      <td>1.9</td>\n",
       "      <td>0.076</td>\n",
       "      <td>11.0</td>\n",
       "      <td>34.0</td>\n",
       "      <td>0.9978</td>\n",
       "      <td>3.51</td>\n",
       "      <td>0.56</td>\n",
       "      <td>9.4</td>\n",
       "      <td>bad</td>\n",
       "    </tr>\n",
       "    <tr>\n",
       "      <th>1</th>\n",
       "      <td>7.8</td>\n",
       "      <td>0.88</td>\n",
       "      <td>0.00</td>\n",
       "      <td>2.6</td>\n",
       "      <td>0.098</td>\n",
       "      <td>25.0</td>\n",
       "      <td>67.0</td>\n",
       "      <td>0.9968</td>\n",
       "      <td>3.20</td>\n",
       "      <td>0.68</td>\n",
       "      <td>9.8</td>\n",
       "      <td>bad</td>\n",
       "    </tr>\n",
       "    <tr>\n",
       "      <th>2</th>\n",
       "      <td>7.8</td>\n",
       "      <td>0.76</td>\n",
       "      <td>0.04</td>\n",
       "      <td>2.3</td>\n",
       "      <td>0.092</td>\n",
       "      <td>15.0</td>\n",
       "      <td>54.0</td>\n",
       "      <td>0.9970</td>\n",
       "      <td>3.26</td>\n",
       "      <td>0.65</td>\n",
       "      <td>9.8</td>\n",
       "      <td>bad</td>\n",
       "    </tr>\n",
       "    <tr>\n",
       "      <th>3</th>\n",
       "      <td>11.2</td>\n",
       "      <td>0.28</td>\n",
       "      <td>0.56</td>\n",
       "      <td>1.9</td>\n",
       "      <td>0.075</td>\n",
       "      <td>17.0</td>\n",
       "      <td>60.0</td>\n",
       "      <td>0.9980</td>\n",
       "      <td>3.16</td>\n",
       "      <td>0.58</td>\n",
       "      <td>9.8</td>\n",
       "      <td>good</td>\n",
       "    </tr>\n",
       "    <tr>\n",
       "      <th>4</th>\n",
       "      <td>7.4</td>\n",
       "      <td>0.70</td>\n",
       "      <td>0.00</td>\n",
       "      <td>1.9</td>\n",
       "      <td>0.076</td>\n",
       "      <td>11.0</td>\n",
       "      <td>34.0</td>\n",
       "      <td>0.9978</td>\n",
       "      <td>3.51</td>\n",
       "      <td>0.56</td>\n",
       "      <td>9.4</td>\n",
       "      <td>bad</td>\n",
       "    </tr>\n",
       "  </tbody>\n",
       "</table>\n",
       "</div>"
      ],
      "text/plain": [
       "   fixed acidity  volatile acidity  citric acid  residual sugar  chlorides  \\\n",
       "0            7.4              0.70         0.00             1.9      0.076   \n",
       "1            7.8              0.88         0.00             2.6      0.098   \n",
       "2            7.8              0.76         0.04             2.3      0.092   \n",
       "3           11.2              0.28         0.56             1.9      0.075   \n",
       "4            7.4              0.70         0.00             1.9      0.076   \n",
       "\n",
       "   free sulfur dioxide  total sulfur dioxide  density    pH  sulphates  \\\n",
       "0                 11.0                  34.0   0.9978  3.51       0.56   \n",
       "1                 25.0                  67.0   0.9968  3.20       0.68   \n",
       "2                 15.0                  54.0   0.9970  3.26       0.65   \n",
       "3                 17.0                  60.0   0.9980  3.16       0.58   \n",
       "4                 11.0                  34.0   0.9978  3.51       0.56   \n",
       "\n",
       "   alcohol quality  \n",
       "0      9.4     bad  \n",
       "1      9.8     bad  \n",
       "2      9.8     bad  \n",
       "3      9.8    good  \n",
       "4      9.4     bad  "
      ]
     },
     "execution_count": 9,
     "metadata": {},
     "output_type": "execute_result"
    }
   ],
   "source": [
    "df.head()"
   ]
  },
  {
   "cell_type": "code",
   "execution_count": 10,
   "id": "ccd30b76-75e1-4b11-b868-3d80f8393470",
   "metadata": {},
   "outputs": [
    {
     "data": {
      "text/plain": [
       "fixed acidity           0\n",
       "volatile acidity        0\n",
       "citric acid             0\n",
       "residual sugar          0\n",
       "chlorides               0\n",
       "free sulfur dioxide     0\n",
       "total sulfur dioxide    0\n",
       "density                 0\n",
       "pH                      0\n",
       "sulphates               0\n",
       "alcohol                 0\n",
       "quality                 0\n",
       "dtype: int64"
      ]
     },
     "execution_count": 10,
     "metadata": {},
     "output_type": "execute_result"
    }
   ],
   "source": [
    "#Q3. Check for null values, identify categorical variables, and encode them.\n",
    "df.isnull().sum()\n",
    "## There is no null values in this dataset"
   ]
  },
  {
   "cell_type": "code",
   "execution_count": 11,
   "id": "fe7c369e-ccc7-4343-ba4d-74fd18590fdb",
   "metadata": {},
   "outputs": [
    {
     "name": "stdout",
     "output_type": "stream",
     "text": [
      "<class 'pandas.core.frame.DataFrame'>\n",
      "RangeIndex: 1599 entries, 0 to 1598\n",
      "Data columns (total 12 columns):\n",
      " #   Column                Non-Null Count  Dtype  \n",
      "---  ------                --------------  -----  \n",
      " 0   fixed acidity         1599 non-null   float64\n",
      " 1   volatile acidity      1599 non-null   float64\n",
      " 2   citric acid           1599 non-null   float64\n",
      " 3   residual sugar        1599 non-null   float64\n",
      " 4   chlorides             1599 non-null   float64\n",
      " 5   free sulfur dioxide   1599 non-null   float64\n",
      " 6   total sulfur dioxide  1599 non-null   float64\n",
      " 7   density               1599 non-null   float64\n",
      " 8   pH                    1599 non-null   float64\n",
      " 9   sulphates             1599 non-null   float64\n",
      " 10  alcohol               1599 non-null   float64\n",
      " 11  quality               1599 non-null   object \n",
      "dtypes: float64(11), object(1)\n",
      "memory usage: 150.0+ KB\n"
     ]
    }
   ],
   "source": [
    "df.info()"
   ]
  },
  {
   "cell_type": "code",
   "execution_count": 12,
   "id": "f9802f33-160b-4195-b891-50df90faf594",
   "metadata": {},
   "outputs": [],
   "source": [
    "from sklearn.preprocessing import LabelEncoder"
   ]
  },
  {
   "cell_type": "code",
   "execution_count": 13,
   "id": "22a65d65-fb44-4848-b639-03c8646e1f6d",
   "metadata": {},
   "outputs": [],
   "source": [
    "lab_encod=LabelEncoder()"
   ]
  },
  {
   "cell_type": "code",
   "execution_count": 14,
   "id": "f9fa7a41-9438-42d5-bdb1-6352a94493f8",
   "metadata": {},
   "outputs": [],
   "source": [
    "df['quality']=lab_encod.fit_transform(df['quality'])"
   ]
  },
  {
   "cell_type": "code",
   "execution_count": 150,
   "id": "dc5d4dfa-f27c-4697-8e57-880293daa6ee",
   "metadata": {},
   "outputs": [],
   "source": [
    "## Quality is the categorical varibale\n",
    "## change the quality category value to numerical value\n",
    "df['quality'] =df['quality'].map({\"bad\":1,\"good\":2})              "
   ]
  },
  {
   "cell_type": "code",
   "execution_count": 15,
   "id": "0ad89fb6-6fde-4f06-b36a-ee9db3e6ea69",
   "metadata": {},
   "outputs": [
    {
     "data": {
      "text/plain": [
       "array([0, 1])"
      ]
     },
     "execution_count": 15,
     "metadata": {},
     "output_type": "execute_result"
    }
   ],
   "source": [
    "df['quality'].unique()"
   ]
  },
  {
   "cell_type": "code",
   "execution_count": 16,
   "id": "d2fb0ff7-ea06-4d8a-a280-851ec031fbf0",
   "metadata": {},
   "outputs": [],
   "source": [
    "## split  input and output features\n",
    "X=df.drop(labels='quality',axis=1)\n",
    "y=df['quality']"
   ]
  },
  {
   "cell_type": "code",
   "execution_count": 17,
   "id": "7a4f79d3-a7c9-43cb-ba9f-a8bd52e0bb91",
   "metadata": {},
   "outputs": [],
   "source": [
    "from sklearn.model_selection import train_test_split"
   ]
  },
  {
   "cell_type": "code",
   "execution_count": 18,
   "id": "2a2528bc-459d-4cca-8261-679398bd6022",
   "metadata": {},
   "outputs": [],
   "source": [
    "X_train, X_test, y_train, y_test = train_test_split(X, y, test_size=0.30, random_state=42)"
   ]
  },
  {
   "cell_type": "code",
   "execution_count": 20,
   "id": "b9e9eeac-2491-4b5c-a1f9-b7312375ece0",
   "metadata": {},
   "outputs": [],
   "source": [
    "from sklearn.preprocessing import MinMaxScaler"
   ]
  },
  {
   "cell_type": "code",
   "execution_count": 21,
   "id": "75fd516f-7126-4e42-ad90-f88c079c3abf",
   "metadata": {},
   "outputs": [],
   "source": [
    "minmax=MinMaxScaler()"
   ]
  },
  {
   "cell_type": "code",
   "execution_count": 22,
   "id": "d90d98b2-8fb8-4b37-940f-a7e6324ad94b",
   "metadata": {},
   "outputs": [],
   "source": [
    "X_train=minmax.fit_transform(X_train)"
   ]
  },
  {
   "cell_type": "code",
   "execution_count": 23,
   "id": "3c3459ae-bd1a-4e77-8cc5-7d98d98ce362",
   "metadata": {},
   "outputs": [],
   "source": [
    "X_test=minmax.transform(X_test)"
   ]
  },
  {
   "cell_type": "code",
   "execution_count": 24,
   "id": "c6d66210-499a-4e4b-8362-b355235f4f81",
   "metadata": {},
   "outputs": [
    {
     "data": {
      "text/plain": [
       "11"
      ]
     },
     "execution_count": 24,
     "metadata": {},
     "output_type": "execute_result"
    }
   ],
   "source": [
    "X_train.shape[1]"
   ]
  },
  {
   "cell_type": "code",
   "execution_count": 25,
   "id": "08863b66-9968-4a6f-b265-ce5a35ac4de9",
   "metadata": {},
   "outputs": [
    {
     "data": {
      "text/plain": [
       "array([[0.3539823 , 0.06849315, 0.36      , ..., 0.57480315, 0.30674847,\n",
       "        0.4       ],\n",
       "       [0.69911504, 0.23287671, 0.63      , ..., 0.19685039, 0.30674847,\n",
       "        0.27692308],\n",
       "       [0.2300885 , 0.28767123, 0.27      , ..., 0.51181102, 0.20858896,\n",
       "        0.4       ],\n",
       "       ...,\n",
       "       [0.2300885 , 0.34246575, 0.06      , ..., 0.60629921, 0.10429448,\n",
       "        0.16923077],\n",
       "       [0.2920354 , 0.05479452, 0.35      , ..., 0.45669291, 0.26380368,\n",
       "        0.53846154],\n",
       "       [0.10619469, 0.11643836, 0.26      , ..., 0.51181102, 0.10429448,\n",
       "        0.78461538]])"
      ]
     },
     "execution_count": 25,
     "metadata": {},
     "output_type": "execute_result"
    }
   ],
   "source": [
    "X_train"
   ]
  },
  {
   "cell_type": "code",
   "execution_count": 28,
   "id": "049d3304-f053-42fc-929a-96b6d00b994e",
   "metadata": {},
   "outputs": [],
   "source": [
    "from tensorflow import keras"
   ]
  },
  {
   "cell_type": "markdown",
   "id": "d80c4d65-eeb5-4c2b-9fd3-c090e4ceb064",
   "metadata": {},
   "source": [
    "#### call back function"
   ]
  },
  {
   "cell_type": "code",
   "execution_count": 105,
   "id": "903b1a5a-fbeb-4f14-9ac0-d45b19b37c79",
   "metadata": {},
   "outputs": [],
   "source": [
    "tf_cb=tf.keras.callbacks.TensorBoard(log_dir='logs/fit')\n",
    "early_stoppring_cb=tf.keras.callbacks.EarlyStopping(patience=5,restore_best_weights=True)\n",
    "model_checkpoint_cb=tf.keras.callbacks.ModelCheckpoint('Model_ckpt.h5',save_best_only=True)"
   ]
  },
  {
   "cell_type": "code",
   "execution_count": 98,
   "id": "2d3007b6-6b48-4d55-81d5-8a67b20c01e0",
   "metadata": {},
   "outputs": [],
   "source": [
    "model=keras.Sequential([\n",
    "    keras.layers.Dense(100,activation='relu',input_shape=(11,)),\n",
    "    keras.layers.Dense(50,activation='relu'),\n",
    "    keras.layers.Dense(1,activation='sigmoid')\n",
    "])"
   ]
  },
  {
   "cell_type": "code",
   "execution_count": 99,
   "id": "aa89b225-9cbd-43ca-9912-54a451638a02",
   "metadata": {},
   "outputs": [],
   "source": [
    "model.compile(optimizer='adam',\n",
    "              loss='binary_crossentropy',\n",
    "              metrics=['accuracy']\n",
    "             )      "
   ]
  },
  {
   "cell_type": "code",
   "execution_count": 112,
   "id": "1a01444d-210a-4e1a-9915-730d9c582efa",
   "metadata": {},
   "outputs": [
    {
     "name": "stdout",
     "output_type": "stream",
     "text": [
      "Epoch 1/30\n",
      "26/35 [=====================>........] - ETA: 0s - loss: 0.5132 - accuracy: 0.7512WARNING:tensorflow:Early stopping conditioned on metric `val_loss` which is not available. Available metrics are: loss,accuracy\n",
      "WARNING:tensorflow:Can save best model only with val_loss available, skipping.\n",
      "35/35 [==============================] - 0s 4ms/step - loss: 0.5139 - accuracy: 0.7498\n",
      "Epoch 2/30\n",
      "35/35 [==============================] - ETA: 0s - loss: 0.5105 - accuracy: 0.7534WARNING:tensorflow:Early stopping conditioned on metric `val_loss` which is not available. Available metrics are: loss,accuracy\n",
      "WARNING:tensorflow:Can save best model only with val_loss available, skipping.\n",
      "35/35 [==============================] - 0s 3ms/step - loss: 0.5105 - accuracy: 0.7534\n",
      "Epoch 3/30\n",
      "18/35 [==============>...............] - ETA: 0s - loss: 0.5139 - accuracy: 0.7656WARNING:tensorflow:Early stopping conditioned on metric `val_loss` which is not available. Available metrics are: loss,accuracy\n",
      "WARNING:tensorflow:Can save best model only with val_loss available, skipping.\n",
      "35/35 [==============================] - 0s 3ms/step - loss: 0.5064 - accuracy: 0.7569\n",
      "Epoch 4/30\n",
      "21/35 [=================>............] - ETA: 0s - loss: 0.5114 - accuracy: 0.7381WARNING:tensorflow:Early stopping conditioned on metric `val_loss` which is not available. Available metrics are: loss,accuracy\n",
      "WARNING:tensorflow:Can save best model only with val_loss available, skipping.\n",
      "35/35 [==============================] - 0s 3ms/step - loss: 0.5078 - accuracy: 0.7489\n",
      "Epoch 5/30\n",
      "24/35 [===================>..........] - ETA: 0s - loss: 0.5022 - accuracy: 0.7500WARNING:tensorflow:Early stopping conditioned on metric `val_loss` which is not available. Available metrics are: loss,accuracy\n",
      "WARNING:tensorflow:Can save best model only with val_loss available, skipping.\n",
      "35/35 [==============================] - 0s 3ms/step - loss: 0.5054 - accuracy: 0.7525\n",
      "Epoch 6/30\n",
      "19/35 [===============>..............] - ETA: 0s - loss: 0.4902 - accuracy: 0.7648WARNING:tensorflow:Early stopping conditioned on metric `val_loss` which is not available. Available metrics are: loss,accuracy\n",
      "WARNING:tensorflow:Can save best model only with val_loss available, skipping.\n",
      "35/35 [==============================] - 0s 3ms/step - loss: 0.5004 - accuracy: 0.7525\n",
      "Epoch 7/30\n",
      "32/35 [==========================>...] - ETA: 0s - loss: 0.5033 - accuracy: 0.7549WARNING:tensorflow:Early stopping conditioned on metric `val_loss` which is not available. Available metrics are: loss,accuracy\n",
      "WARNING:tensorflow:Can save best model only with val_loss available, skipping.\n",
      "35/35 [==============================] - 0s 4ms/step - loss: 0.5003 - accuracy: 0.7569\n",
      "Epoch 8/30\n",
      "18/35 [==============>...............] - ETA: 0s - loss: 0.4761 - accuracy: 0.7778WARNING:tensorflow:Early stopping conditioned on metric `val_loss` which is not available. Available metrics are: loss,accuracy\n",
      "WARNING:tensorflow:Can save best model only with val_loss available, skipping.\n",
      "35/35 [==============================] - 0s 3ms/step - loss: 0.4972 - accuracy: 0.7596\n",
      "Epoch 9/30\n",
      "18/35 [==============>...............] - ETA: 0s - loss: 0.4779 - accuracy: 0.7795WARNING:tensorflow:Early stopping conditioned on metric `val_loss` which is not available. Available metrics are: loss,accuracy\n",
      "WARNING:tensorflow:Can save best model only with val_loss available, skipping.\n",
      "35/35 [==============================] - 0s 3ms/step - loss: 0.4950 - accuracy: 0.7650\n",
      "Epoch 10/30\n",
      "18/35 [==============>...............] - ETA: 0s - loss: 0.4693 - accuracy: 0.7639WARNING:tensorflow:Early stopping conditioned on metric `val_loss` which is not available. Available metrics are: loss,accuracy\n",
      "WARNING:tensorflow:Can save best model only with val_loss available, skipping.\n",
      "35/35 [==============================] - 0s 3ms/step - loss: 0.4950 - accuracy: 0.7498\n",
      "Epoch 11/30\n",
      "22/35 [=================>............] - ETA: 0s - loss: 0.4905 - accuracy: 0.7699WARNING:tensorflow:Early stopping conditioned on metric `val_loss` which is not available. Available metrics are: loss,accuracy\n",
      "WARNING:tensorflow:Can save best model only with val_loss available, skipping.\n",
      "35/35 [==============================] - 0s 3ms/step - loss: 0.4981 - accuracy: 0.7614\n",
      "Epoch 12/30\n",
      "23/35 [==================>...........] - ETA: 0s - loss: 0.4834 - accuracy: 0.7717WARNING:tensorflow:Early stopping conditioned on metric `val_loss` which is not available. Available metrics are: loss,accuracy\n",
      "WARNING:tensorflow:Can save best model only with val_loss available, skipping.\n",
      "35/35 [==============================] - 0s 3ms/step - loss: 0.4920 - accuracy: 0.7632\n",
      "Epoch 13/30\n",
      "17/35 [=============>................] - ETA: 0s - loss: 0.4813 - accuracy: 0.7647WARNING:tensorflow:Early stopping conditioned on metric `val_loss` which is not available. Available metrics are: loss,accuracy\n",
      "WARNING:tensorflow:Can save best model only with val_loss available, skipping.\n",
      "35/35 [==============================] - 0s 3ms/step - loss: 0.4908 - accuracy: 0.7587\n",
      "Epoch 14/30\n",
      "21/35 [=================>............] - ETA: 0s - loss: 0.4789 - accuracy: 0.7723WARNING:tensorflow:Early stopping conditioned on metric `val_loss` which is not available. Available metrics are: loss,accuracy\n",
      "WARNING:tensorflow:Can save best model only with val_loss available, skipping.\n",
      "35/35 [==============================] - 0s 3ms/step - loss: 0.4891 - accuracy: 0.7676\n",
      "Epoch 15/30\n",
      "28/35 [=======================>......] - ETA: 0s - loss: 0.4914 - accuracy: 0.7578WARNING:tensorflow:Early stopping conditioned on metric `val_loss` which is not available. Available metrics are: loss,accuracy\n",
      "WARNING:tensorflow:Can save best model only with val_loss available, skipping.\n",
      "35/35 [==============================] - 0s 2ms/step - loss: 0.4897 - accuracy: 0.7623\n",
      "Epoch 16/30\n",
      "20/35 [================>.............] - ETA: 0s - loss: 0.4826 - accuracy: 0.7750WARNING:tensorflow:Early stopping conditioned on metric `val_loss` which is not available. Available metrics are: loss,accuracy\n",
      "WARNING:tensorflow:Can save best model only with val_loss available, skipping.\n",
      "35/35 [==============================] - 0s 3ms/step - loss: 0.4928 - accuracy: 0.7605\n",
      "Epoch 17/30\n",
      "26/35 [=====================>........] - ETA: 0s - loss: 0.5083 - accuracy: 0.7584WARNING:tensorflow:Early stopping conditioned on metric `val_loss` which is not available. Available metrics are: loss,accuracy\n",
      "WARNING:tensorflow:Can save best model only with val_loss available, skipping.\n",
      "35/35 [==============================] - 0s 3ms/step - loss: 0.4965 - accuracy: 0.7614\n",
      "Epoch 18/30\n",
      "17/35 [=============>................] - ETA: 0s - loss: 0.4800 - accuracy: 0.7739WARNING:tensorflow:Early stopping conditioned on metric `val_loss` which is not available. Available metrics are: loss,accuracy\n",
      "WARNING:tensorflow:Can save best model only with val_loss available, skipping.\n",
      "35/35 [==============================] - 0s 3ms/step - loss: 0.4882 - accuracy: 0.7659\n",
      "Epoch 19/30\n",
      "31/35 [=========================>....] - ETA: 0s - loss: 0.4782 - accuracy: 0.7792WARNING:tensorflow:Early stopping conditioned on metric `val_loss` which is not available. Available metrics are: loss,accuracy\n",
      "WARNING:tensorflow:Can save best model only with val_loss available, skipping.\n",
      "35/35 [==============================] - 0s 4ms/step - loss: 0.4858 - accuracy: 0.7721\n",
      "Epoch 20/30\n",
      "28/35 [=======================>......] - ETA: 0s - loss: 0.5053 - accuracy: 0.7511WARNING:tensorflow:Early stopping conditioned on metric `val_loss` which is not available. Available metrics are: loss,accuracy\n",
      "WARNING:tensorflow:Can save best model only with val_loss available, skipping.\n",
      "35/35 [==============================] - 0s 5ms/step - loss: 0.4865 - accuracy: 0.7676\n",
      "Epoch 21/30\n",
      "15/35 [===========>..................] - ETA: 0s - loss: 0.4856 - accuracy: 0.7792WARNING:tensorflow:Early stopping conditioned on metric `val_loss` which is not available. Available metrics are: loss,accuracy\n",
      "WARNING:tensorflow:Can save best model only with val_loss available, skipping.\n",
      "35/35 [==============================] - 0s 3ms/step - loss: 0.4818 - accuracy: 0.7676\n",
      "Epoch 22/30\n",
      "16/35 [============>.................] - ETA: 0s - loss: 0.5224 - accuracy: 0.7266WARNING:tensorflow:Early stopping conditioned on metric `val_loss` which is not available. Available metrics are: loss,accuracy\n",
      "WARNING:tensorflow:Can save best model only with val_loss available, skipping.\n",
      "35/35 [==============================] - 0s 3ms/step - loss: 0.4918 - accuracy: 0.7578\n",
      "Epoch 23/30\n",
      "23/35 [==================>...........] - ETA: 0s - loss: 0.4746 - accuracy: 0.7799WARNING:tensorflow:Early stopping conditioned on metric `val_loss` which is not available. Available metrics are: loss,accuracy\n",
      "WARNING:tensorflow:Can save best model only with val_loss available, skipping.\n",
      "35/35 [==============================] - 0s 3ms/step - loss: 0.4813 - accuracy: 0.7784\n",
      "Epoch 24/30\n",
      "31/35 [=========================>....] - ETA: 0s - loss: 0.4793 - accuracy: 0.7712WARNING:tensorflow:Early stopping conditioned on metric `val_loss` which is not available. Available metrics are: loss,accuracy\n",
      "WARNING:tensorflow:Can save best model only with val_loss available, skipping.\n",
      "35/35 [==============================] - 0s 4ms/step - loss: 0.4783 - accuracy: 0.7766\n",
      "Epoch 25/30\n",
      "35/35 [==============================] - ETA: 0s - loss: 0.4783 - accuracy: 0.7793WARNING:tensorflow:Early stopping conditioned on metric `val_loss` which is not available. Available metrics are: loss,accuracy\n",
      "WARNING:tensorflow:Can save best model only with val_loss available, skipping.\n",
      "35/35 [==============================] - 0s 4ms/step - loss: 0.4783 - accuracy: 0.7793\n",
      "Epoch 26/30\n",
      "31/35 [=========================>....] - ETA: 0s - loss: 0.4849 - accuracy: 0.7722WARNING:tensorflow:Early stopping conditioned on metric `val_loss` which is not available. Available metrics are: loss,accuracy\n",
      "WARNING:tensorflow:Can save best model only with val_loss available, skipping.\n",
      "35/35 [==============================] - 0s 4ms/step - loss: 0.4768 - accuracy: 0.7775\n",
      "Epoch 27/30\n",
      "15/35 [===========>..................] - ETA: 0s - loss: 0.4812 - accuracy: 0.7771WARNING:tensorflow:Early stopping conditioned on metric `val_loss` which is not available. Available metrics are: loss,accuracy\n",
      "WARNING:tensorflow:Can save best model only with val_loss available, skipping.\n",
      "35/35 [==============================] - 0s 3ms/step - loss: 0.4760 - accuracy: 0.7766\n",
      "Epoch 28/30\n",
      "24/35 [===================>..........] - ETA: 0s - loss: 0.4794 - accuracy: 0.7721WARNING:tensorflow:Early stopping conditioned on metric `val_loss` which is not available. Available metrics are: loss,accuracy\n",
      "WARNING:tensorflow:Can save best model only with val_loss available, skipping.\n",
      "35/35 [==============================] - 0s 5ms/step - loss: 0.4751 - accuracy: 0.7739\n",
      "Epoch 29/30\n",
      "20/35 [================>.............] - ETA: 0s - loss: 0.4692 - accuracy: 0.7859WARNING:tensorflow:Early stopping conditioned on metric `val_loss` which is not available. Available metrics are: loss,accuracy\n",
      "WARNING:tensorflow:Can save best model only with val_loss available, skipping.\n",
      "35/35 [==============================] - 0s 3ms/step - loss: 0.4736 - accuracy: 0.7811\n",
      "Epoch 30/30\n",
      "16/35 [============>.................] - ETA: 0s - loss: 0.4710 - accuracy: 0.7793WARNING:tensorflow:Early stopping conditioned on metric `val_loss` which is not available. Available metrics are: loss,accuracy\n",
      "WARNING:tensorflow:Can save best model only with val_loss available, skipping.\n",
      "35/35 [==============================] - 0s 3ms/step - loss: 0.4750 - accuracy: 0.7766\n"
     ]
    }
   ],
   "source": [
    "history=model.fit(X_train,y_train,epochs=30,batch_size=32,callbacks=[tf_cb,early_stoppring_cb,model_checkpoint_cb])"
   ]
  },
  {
   "cell_type": "code",
   "execution_count": 107,
   "id": "0fea21f5-7209-4c99-971b-d1138f7ac7fb",
   "metadata": {},
   "outputs": [
    {
     "name": "stdout",
     "output_type": "stream",
     "text": [
      "15/15 [==============================] - 0s 2ms/step - loss: 0.5467 - accuracy: 0.7229\n"
     ]
    },
    {
     "data": {
      "text/plain": [
       "[0.546728789806366, 0.7229166626930237]"
      ]
     },
     "execution_count": 107,
     "metadata": {},
     "output_type": "execute_result"
    }
   ],
   "source": [
    "model.evaluate(X_test,y_test)"
   ]
  },
  {
   "cell_type": "code",
   "execution_count": 108,
   "id": "c88417a8-de85-4cd5-a769-f74cbb151450",
   "metadata": {},
   "outputs": [
    {
     "name": "stdout",
     "output_type": "stream",
     "text": [
      "15/15 [==============================] - 0s 1ms/step\n"
     ]
    }
   ],
   "source": [
    "y_pred=model.predict(X_test)"
   ]
  },
  {
   "cell_type": "code",
   "execution_count": 109,
   "id": "0ea0dbcd-c0e5-4422-acc4-0a676cd27923",
   "metadata": {},
   "outputs": [],
   "source": [
    "y_pred=[1 if i > 0.5 else 0 for i in y_pred]"
   ]
  },
  {
   "cell_type": "code",
   "execution_count": 110,
   "id": "224608e3-e3e3-4660-a482-d3374893df71",
   "metadata": {},
   "outputs": [
    {
     "data": {
      "text/plain": [
       "[0, 0, 0, 0, 1]"
      ]
     },
     "execution_count": 110,
     "metadata": {},
     "output_type": "execute_result"
    }
   ],
   "source": [
    "y_pred[:5]"
   ]
  },
  {
   "cell_type": "code",
   "execution_count": 111,
   "id": "f54d5eaf-49f9-44a1-a1c9-7b4e05184715",
   "metadata": {},
   "outputs": [
    {
     "data": {
      "text/plain": [
       "803     1\n",
       "124     0\n",
       "350     1\n",
       "682     0\n",
       "1326    1\n",
       "Name: quality, dtype: int32"
      ]
     },
     "execution_count": 111,
     "metadata": {},
     "output_type": "execute_result"
    }
   ],
   "source": [
    "y_test[:5]"
   ]
  },
  {
   "cell_type": "code",
   "execution_count": 113,
   "id": "6a7cd551-ce29-4e36-930c-11779890c45e",
   "metadata": {},
   "outputs": [
    {
     "name": "stdout",
     "output_type": "stream",
     "text": [
      "Model: \"sequential_12\"\n",
      "_________________________________________________________________\n",
      " Layer (type)                Output Shape              Param #   \n",
      "=================================================================\n",
      " dense_48 (Dense)            (None, 100)               1200      \n",
      "                                                                 \n",
      " dense_49 (Dense)            (None, 50)                5050      \n",
      "                                                                 \n",
      " dense_50 (Dense)            (None, 1)                 51        \n",
      "                                                                 \n",
      "=================================================================\n",
      "Total params: 6,301\n",
      "Trainable params: 6,301\n",
      "Non-trainable params: 0\n",
      "_________________________________________________________________\n"
     ]
    }
   ],
   "source": [
    "model.summary()"
   ]
  },
  {
   "cell_type": "code",
   "execution_count": 117,
   "id": "7ccf63ef-e3e4-45b0-a433-8fdd198ef70c",
   "metadata": {},
   "outputs": [],
   "source": [
    "df=pd.DataFrame(history.history)"
   ]
  },
  {
   "cell_type": "code",
   "execution_count": 118,
   "id": "be4c78e1-e151-40b6-9286-eb346a5a8366",
   "metadata": {},
   "outputs": [
    {
     "data": {
      "text/html": [
       "<div>\n",
       "<style scoped>\n",
       "    .dataframe tbody tr th:only-of-type {\n",
       "        vertical-align: middle;\n",
       "    }\n",
       "\n",
       "    .dataframe tbody tr th {\n",
       "        vertical-align: top;\n",
       "    }\n",
       "\n",
       "    .dataframe thead th {\n",
       "        text-align: right;\n",
       "    }\n",
       "</style>\n",
       "<table border=\"1\" class=\"dataframe\">\n",
       "  <thead>\n",
       "    <tr style=\"text-align: right;\">\n",
       "      <th></th>\n",
       "      <th>loss</th>\n",
       "      <th>accuracy</th>\n",
       "    </tr>\n",
       "  </thead>\n",
       "  <tbody>\n",
       "    <tr>\n",
       "      <th>0</th>\n",
       "      <td>0.513939</td>\n",
       "      <td>0.749777</td>\n",
       "    </tr>\n",
       "    <tr>\n",
       "      <th>1</th>\n",
       "      <td>0.510480</td>\n",
       "      <td>0.753351</td>\n",
       "    </tr>\n",
       "    <tr>\n",
       "      <th>2</th>\n",
       "      <td>0.506398</td>\n",
       "      <td>0.756926</td>\n",
       "    </tr>\n",
       "    <tr>\n",
       "      <th>3</th>\n",
       "      <td>0.507783</td>\n",
       "      <td>0.748883</td>\n",
       "    </tr>\n",
       "    <tr>\n",
       "      <th>4</th>\n",
       "      <td>0.505402</td>\n",
       "      <td>0.752458</td>\n",
       "    </tr>\n",
       "    <tr>\n",
       "      <th>5</th>\n",
       "      <td>0.500421</td>\n",
       "      <td>0.752458</td>\n",
       "    </tr>\n",
       "    <tr>\n",
       "      <th>6</th>\n",
       "      <td>0.500302</td>\n",
       "      <td>0.756926</td>\n",
       "    </tr>\n",
       "    <tr>\n",
       "      <th>7</th>\n",
       "      <td>0.497218</td>\n",
       "      <td>0.759607</td>\n",
       "    </tr>\n",
       "    <tr>\n",
       "      <th>8</th>\n",
       "      <td>0.494953</td>\n",
       "      <td>0.764969</td>\n",
       "    </tr>\n",
       "    <tr>\n",
       "      <th>9</th>\n",
       "      <td>0.494955</td>\n",
       "      <td>0.749777</td>\n",
       "    </tr>\n",
       "    <tr>\n",
       "      <th>10</th>\n",
       "      <td>0.498079</td>\n",
       "      <td>0.761394</td>\n",
       "    </tr>\n",
       "    <tr>\n",
       "      <th>11</th>\n",
       "      <td>0.492030</td>\n",
       "      <td>0.763181</td>\n",
       "    </tr>\n",
       "    <tr>\n",
       "      <th>12</th>\n",
       "      <td>0.490811</td>\n",
       "      <td>0.758713</td>\n",
       "    </tr>\n",
       "    <tr>\n",
       "      <th>13</th>\n",
       "      <td>0.489128</td>\n",
       "      <td>0.767650</td>\n",
       "    </tr>\n",
       "    <tr>\n",
       "      <th>14</th>\n",
       "      <td>0.489655</td>\n",
       "      <td>0.762288</td>\n",
       "    </tr>\n",
       "    <tr>\n",
       "      <th>15</th>\n",
       "      <td>0.492770</td>\n",
       "      <td>0.760500</td>\n",
       "    </tr>\n",
       "    <tr>\n",
       "      <th>16</th>\n",
       "      <td>0.496518</td>\n",
       "      <td>0.761394</td>\n",
       "    </tr>\n",
       "    <tr>\n",
       "      <th>17</th>\n",
       "      <td>0.488178</td>\n",
       "      <td>0.765862</td>\n",
       "    </tr>\n",
       "    <tr>\n",
       "      <th>18</th>\n",
       "      <td>0.485764</td>\n",
       "      <td>0.772118</td>\n",
       "    </tr>\n",
       "    <tr>\n",
       "      <th>19</th>\n",
       "      <td>0.486479</td>\n",
       "      <td>0.767650</td>\n",
       "    </tr>\n",
       "    <tr>\n",
       "      <th>20</th>\n",
       "      <td>0.481751</td>\n",
       "      <td>0.767650</td>\n",
       "    </tr>\n",
       "    <tr>\n",
       "      <th>21</th>\n",
       "      <td>0.491775</td>\n",
       "      <td>0.757819</td>\n",
       "    </tr>\n",
       "    <tr>\n",
       "      <th>22</th>\n",
       "      <td>0.481274</td>\n",
       "      <td>0.778374</td>\n",
       "    </tr>\n",
       "    <tr>\n",
       "      <th>23</th>\n",
       "      <td>0.478304</td>\n",
       "      <td>0.776586</td>\n",
       "    </tr>\n",
       "    <tr>\n",
       "      <th>24</th>\n",
       "      <td>0.478337</td>\n",
       "      <td>0.779267</td>\n",
       "    </tr>\n",
       "    <tr>\n",
       "      <th>25</th>\n",
       "      <td>0.476843</td>\n",
       "      <td>0.777480</td>\n",
       "    </tr>\n",
       "    <tr>\n",
       "      <th>26</th>\n",
       "      <td>0.476017</td>\n",
       "      <td>0.776586</td>\n",
       "    </tr>\n",
       "    <tr>\n",
       "      <th>27</th>\n",
       "      <td>0.475065</td>\n",
       "      <td>0.773905</td>\n",
       "    </tr>\n",
       "    <tr>\n",
       "      <th>28</th>\n",
       "      <td>0.473641</td>\n",
       "      <td>0.781054</td>\n",
       "    </tr>\n",
       "    <tr>\n",
       "      <th>29</th>\n",
       "      <td>0.474982</td>\n",
       "      <td>0.776586</td>\n",
       "    </tr>\n",
       "  </tbody>\n",
       "</table>\n",
       "</div>"
      ],
      "text/plain": [
       "        loss  accuracy\n",
       "0   0.513939  0.749777\n",
       "1   0.510480  0.753351\n",
       "2   0.506398  0.756926\n",
       "3   0.507783  0.748883\n",
       "4   0.505402  0.752458\n",
       "5   0.500421  0.752458\n",
       "6   0.500302  0.756926\n",
       "7   0.497218  0.759607\n",
       "8   0.494953  0.764969\n",
       "9   0.494955  0.749777\n",
       "10  0.498079  0.761394\n",
       "11  0.492030  0.763181\n",
       "12  0.490811  0.758713\n",
       "13  0.489128  0.767650\n",
       "14  0.489655  0.762288\n",
       "15  0.492770  0.760500\n",
       "16  0.496518  0.761394\n",
       "17  0.488178  0.765862\n",
       "18  0.485764  0.772118\n",
       "19  0.486479  0.767650\n",
       "20  0.481751  0.767650\n",
       "21  0.491775  0.757819\n",
       "22  0.481274  0.778374\n",
       "23  0.478304  0.776586\n",
       "24  0.478337  0.779267\n",
       "25  0.476843  0.777480\n",
       "26  0.476017  0.776586\n",
       "27  0.475065  0.773905\n",
       "28  0.473641  0.781054\n",
       "29  0.474982  0.776586"
      ]
     },
     "execution_count": 118,
     "metadata": {},
     "output_type": "execute_result"
    }
   ],
   "source": [
    "df"
   ]
  },
  {
   "cell_type": "code",
   "execution_count": 119,
   "id": "7c67dd01-8b02-4e65-9a61-992fd0ee4a0e",
   "metadata": {},
   "outputs": [
    {
     "data": {
      "text/plain": [
       "<Axes: >"
      ]
     },
     "execution_count": 119,
     "metadata": {},
     "output_type": "execute_result"
    },
    {
     "data": {
      "image/png": "[encoded data removed]",
      "text/plain": [
       "<Figure size 640x480 with 1 Axes>"
      ]
     },
     "metadata": {},
     "output_type": "display_data"
    }
   ],
   "source": [
    "df.plot()"
   ]
  },
  {
   "cell_type": "code",
   "execution_count": 124,
   "id": "918f23dc-1489-4eda-846e-d9eb59a32e36",
   "metadata": {},
   "outputs": [],
   "source": [
    "%load_ext tensorboard "
   ]
  },
  {
   "cell_type": "code",
   "execution_count": 126,
   "id": "b0f6c092-b196-41bb-858e-0d3d7aba87d8",
   "metadata": {},
   "outputs": [
    {
     "data": {
      "text/plain": [
       "Reusing TensorBoard on port 6006 (pid 18256), started 0:01:14 ago. (Use '!kill 18256' to kill it.)"
      ]
     },
     "metadata": {},
     "output_type": "display_data"
    },
    {
     "data": {
      "text/html": [
       "\n",
       "      <iframe id=\"tensorboard-frame-3481bad815c39a7a\" width=\"100%\" height=\"800\" frameborder=\"0\">\n",
       "      </iframe>\n",
       "      <script>\n",
       "        (function() {\n",
       "          const frame = document.getElementById(\"tensorboard-frame-3481bad815c39a7a\");\n",
       "          const url = new URL(\"/\", window.location);\n",
       "          const port = 6006;\n",
       "          if (port) {\n",
       "            url.port = port;\n",
       "          }\n",
       "          frame.src = url;\n",
       "        })();\n",
       "      </script>\n",
       "    "
      ],
      "text/plain": [
       "<IPython.core.display.HTML object>"
      ]
     },
     "metadata": {},
     "output_type": "display_data"
    }
   ],
   "source": [
    "%tensorboard --logdir logs"
   ]
  },
  {
   "cell_type": "code",
   "execution_count": null,
   "id": "207c40ab-d59c-4feb-86f5-ba33ec9ba02e",
   "metadata": {},
   "outputs": [],
   "source": []
  }
 ],
 "metadata": {
  "kernelspec": {
   "display_name": "Python 3 (ipykernel)",
   "language": "python",
   "name": "python3"
  },
  "language_info": {
   "codemirror_mode": {
    "name": "ipython",
    "version": 3
   },
   "file_extension": ".py",
   "mimetype": "text/x-python",
   "name": "python",
   "nbconvert_exporter": "python",
   "pygments_lexer": "ipython3",
   "version": "3.9.12"
  }
 },
 "nbformat": 4,
 "nbformat_minor": 5
}
