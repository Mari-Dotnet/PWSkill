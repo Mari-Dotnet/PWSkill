{
 "cells": [
  {
   "cell_type": "code",
   "execution_count": 1,
   "id": "1bfca82e-1049-43b7-ad05-2768bdc02d18",
   "metadata": {},
   "outputs": [],
   "source": [
    "import tensorflow as tf"
   ]
  },
  {
   "cell_type": "code",
   "execution_count": 2,
   "id": "2e0b8dca-2fb3-4db7-9778-4f45fab4e2ba",
   "metadata": {},
   "outputs": [
    {
     "name": "stdout",
     "output_type": "stream",
     "text": [
      "2.12.0\n"
     ]
    }
   ],
   "source": [
    "print(tf.__version__)"
   ]
  },
  {
   "cell_type": "code",
   "execution_count": 3,
   "id": "9dd5bd06-a9e4-471c-9aa0-37e1ae1932ad",
   "metadata": {},
   "outputs": [
    {
     "name": "stdout",
     "output_type": "stream",
     "text": [
      "2.6.0\n"
     ]
    }
   ],
   "source": [
    "from tensorflow.python import keras\n",
    "print(keras.__version__)"
   ]
  },
  {
   "cell_type": "code",
   "execution_count": 4,
   "id": "1fe92fd3-931b-4026-a864-0025760f12d9",
   "metadata": {},
   "outputs": [],
   "source": [
    "import pandas as pd\n",
    "import numpy as np\n",
    "import matplotlib.pyplot as plt\n",
    "import seaborn as sns"
   ]
  },
  {
   "cell_type": "code",
   "execution_count": 103,
   "id": "c529b31e-ef92-4706-81c0-9f3f53a52063",
   "metadata": {},
   "outputs": [],
   "source": [
    "df=pd.read_csv('wine.csv')"
   ]
  },
  {
   "cell_type": "code",
   "execution_count": 104,
   "id": "bfe6802f-d30a-4459-a912-0a80031d36c5",
   "metadata": {},
   "outputs": [
    {
     "data": {
      "text/html": [
       "<div>\n",
       "<style scoped>\n",
       "    .dataframe tbody tr th:only-of-type {\n",
       "        vertical-align: middle;\n",
       "    }\n",
       "\n",
       "    .dataframe tbody tr th {\n",
       "        vertical-align: top;\n",
       "    }\n",
       "\n",
       "    .dataframe thead th {\n",
       "        text-align: right;\n",
       "    }\n",
       "</style>\n",
       "<table border=\"1\" class=\"dataframe\">\n",
       "  <thead>\n",
       "    <tr style=\"text-align: right;\">\n",
       "      <th></th>\n",
       "      <th>fixed acidity</th>\n",
       "      <th>volatile acidity</th>\n",
       "      <th>citric acid</th>\n",
       "      <th>residual sugar</th>\n",
       "      <th>chlorides</th>\n",
       "      <th>free sulfur dioxide</th>\n",
       "      <th>total sulfur dioxide</th>\n",
       "      <th>density</th>\n",
       "      <th>pH</th>\n",
       "      <th>sulphates</th>\n",
       "      <th>alcohol</th>\n",
       "      <th>quality</th>\n",
       "    </tr>\n",
       "  </thead>\n",
       "  <tbody>\n",
       "    <tr>\n",
       "      <th>0</th>\n",
       "      <td>7.4</td>\n",
       "      <td>0.70</td>\n",
       "      <td>0.00</td>\n",
       "      <td>1.9</td>\n",
       "      <td>0.076</td>\n",
       "      <td>11.0</td>\n",
       "      <td>34.0</td>\n",
       "      <td>0.9978</td>\n",
       "      <td>3.51</td>\n",
       "      <td>0.56</td>\n",
       "      <td>9.4</td>\n",
       "      <td>bad</td>\n",
       "    </tr>\n",
       "    <tr>\n",
       "      <th>1</th>\n",
       "      <td>7.8</td>\n",
       "      <td>0.88</td>\n",
       "      <td>0.00</td>\n",
       "      <td>2.6</td>\n",
       "      <td>0.098</td>\n",
       "      <td>25.0</td>\n",
       "      <td>67.0</td>\n",
       "      <td>0.9968</td>\n",
       "      <td>3.20</td>\n",
       "      <td>0.68</td>\n",
       "      <td>9.8</td>\n",
       "      <td>bad</td>\n",
       "    </tr>\n",
       "    <tr>\n",
       "      <th>2</th>\n",
       "      <td>7.8</td>\n",
       "      <td>0.76</td>\n",
       "      <td>0.04</td>\n",
       "      <td>2.3</td>\n",
       "      <td>0.092</td>\n",
       "      <td>15.0</td>\n",
       "      <td>54.0</td>\n",
       "      <td>0.9970</td>\n",
       "      <td>3.26</td>\n",
       "      <td>0.65</td>\n",
       "      <td>9.8</td>\n",
       "      <td>bad</td>\n",
       "    </tr>\n",
       "    <tr>\n",
       "      <th>3</th>\n",
       "      <td>11.2</td>\n",
       "      <td>0.28</td>\n",
       "      <td>0.56</td>\n",
       "      <td>1.9</td>\n",
       "      <td>0.075</td>\n",
       "      <td>17.0</td>\n",
       "      <td>60.0</td>\n",
       "      <td>0.9980</td>\n",
       "      <td>3.16</td>\n",
       "      <td>0.58</td>\n",
       "      <td>9.8</td>\n",
       "      <td>good</td>\n",
       "    </tr>\n",
       "    <tr>\n",
       "      <th>4</th>\n",
       "      <td>7.4</td>\n",
       "      <td>0.70</td>\n",
       "      <td>0.00</td>\n",
       "      <td>1.9</td>\n",
       "      <td>0.076</td>\n",
       "      <td>11.0</td>\n",
       "      <td>34.0</td>\n",
       "      <td>0.9978</td>\n",
       "      <td>3.51</td>\n",
       "      <td>0.56</td>\n",
       "      <td>9.4</td>\n",
       "      <td>bad</td>\n",
       "    </tr>\n",
       "  </tbody>\n",
       "</table>\n",
       "</div>"
      ],
      "text/plain": [
       "   fixed acidity  volatile acidity  citric acid  residual sugar  chlorides  \\\n",
       "0            7.4              0.70         0.00             1.9      0.076   \n",
       "1            7.8              0.88         0.00             2.6      0.098   \n",
       "2            7.8              0.76         0.04             2.3      0.092   \n",
       "3           11.2              0.28         0.56             1.9      0.075   \n",
       "4            7.4              0.70         0.00             1.9      0.076   \n",
       "\n",
       "   free sulfur dioxide  total sulfur dioxide  density    pH  sulphates  \\\n",
       "0                 11.0                  34.0   0.9978  3.51       0.56   \n",
       "1                 25.0                  67.0   0.9968  3.20       0.68   \n",
       "2                 15.0                  54.0   0.9970  3.26       0.65   \n",
       "3                 17.0                  60.0   0.9980  3.16       0.58   \n",
       "4                 11.0                  34.0   0.9978  3.51       0.56   \n",
       "\n",
       "   alcohol quality  \n",
       "0      9.4     bad  \n",
       "1      9.8     bad  \n",
       "2      9.8     bad  \n",
       "3      9.8    good  \n",
       "4      9.4     bad  "
      ]
     },
     "execution_count": 104,
     "metadata": {},
     "output_type": "execute_result"
    }
   ],
   "source": [
    "df.head()"
   ]
  },
  {
   "cell_type": "code",
   "execution_count": 105,
   "id": "ccd30b76-75e1-4b11-b868-3d80f8393470",
   "metadata": {},
   "outputs": [
    {
     "data": {
      "text/plain": [
       "fixed acidity           0\n",
       "volatile acidity        0\n",
       "citric acid             0\n",
       "residual sugar          0\n",
       "chlorides               0\n",
       "free sulfur dioxide     0\n",
       "total sulfur dioxide    0\n",
       "density                 0\n",
       "pH                      0\n",
       "sulphates               0\n",
       "alcohol                 0\n",
       "quality                 0\n",
       "dtype: int64"
      ]
     },
     "execution_count": 105,
     "metadata": {},
     "output_type": "execute_result"
    }
   ],
   "source": [
    "#Q3. Check for null values, identify categorical variables, and encode them.\n",
    "df.isnull().sum()\n",
    "## There is no null values in this dataset"
   ]
  },
  {
   "cell_type": "code",
   "execution_count": 106,
   "id": "fe7c369e-ccc7-4343-ba4d-74fd18590fdb",
   "metadata": {},
   "outputs": [
    {
     "name": "stdout",
     "output_type": "stream",
     "text": [
      "<class 'pandas.core.frame.DataFrame'>\n",
      "RangeIndex: 1599 entries, 0 to 1598\n",
      "Data columns (total 12 columns):\n",
      " #   Column                Non-Null Count  Dtype  \n",
      "---  ------                --------------  -----  \n",
      " 0   fixed acidity         1599 non-null   float64\n",
      " 1   volatile acidity      1599 non-null   float64\n",
      " 2   citric acid           1599 non-null   float64\n",
      " 3   residual sugar        1599 non-null   float64\n",
      " 4   chlorides             1599 non-null   float64\n",
      " 5   free sulfur dioxide   1599 non-null   float64\n",
      " 6   total sulfur dioxide  1599 non-null   float64\n",
      " 7   density               1599 non-null   float64\n",
      " 8   pH                    1599 non-null   float64\n",
      " 9   sulphates             1599 non-null   float64\n",
      " 10  alcohol               1599 non-null   float64\n",
      " 11  quality               1599 non-null   object \n",
      "dtypes: float64(11), object(1)\n",
      "memory usage: 150.0+ KB\n"
     ]
    }
   ],
   "source": [
    "df.info()"
   ]
  },
  {
   "cell_type": "code",
   "execution_count": 107,
   "id": "dc5d4dfa-f27c-4697-8e57-880293daa6ee",
   "metadata": {},
   "outputs": [],
   "source": [
    "## Quality is the categorical varibale\n",
    "## change the quality category value to numerical value\n",
    "df['quality'] =df['quality'].map({\"bad\":0,\"good\":1})              "
   ]
  },
  {
   "cell_type": "code",
   "execution_count": 108,
   "id": "0ad89fb6-6fde-4f06-b36a-ee9db3e6ea69",
   "metadata": {},
   "outputs": [
    {
     "data": {
      "text/plain": [
       "array([0, 1], dtype=int64)"
      ]
     },
     "execution_count": 108,
     "metadata": {},
     "output_type": "execute_result"
    }
   ],
   "source": [
    "df['quality'].unique()"
   ]
  },
  {
   "cell_type": "code",
   "execution_count": 109,
   "id": "d2fb0ff7-ea06-4d8a-a280-851ec031fbf0",
   "metadata": {},
   "outputs": [],
   "source": [
    "## split  input and output features\n",
    "X=df.drop(labels='quality',axis=1)\n",
    "y=df['quality']"
   ]
  },
  {
   "cell_type": "code",
   "execution_count": 110,
   "id": "7a4f79d3-a7c9-43cb-ba9f-a8bd52e0bb91",
   "metadata": {},
   "outputs": [],
   "source": [
    "from sklearn.model_selection import train_test_split"
   ]
  },
  {
   "cell_type": "code",
   "execution_count": 111,
   "id": "2a2528bc-459d-4cca-8261-679398bd6022",
   "metadata": {},
   "outputs": [],
   "source": [
    "X_train, X_test, y_train, y_test = train_test_split(X, y, test_size=0.30, random_state=42)"
   ]
  },
  {
   "cell_type": "code",
   "execution_count": 112,
   "id": "b9e9eeac-2491-4b5c-a1f9-b7312375ece0",
   "metadata": {},
   "outputs": [],
   "source": [
    "from sklearn.preprocessing import StandardScaler"
   ]
  },
  {
   "cell_type": "code",
   "execution_count": 113,
   "id": "75fd516f-7126-4e42-ad90-f88c079c3abf",
   "metadata": {},
   "outputs": [],
   "source": [
    "sclaer=StandardScaler()"
   ]
  },
  {
   "cell_type": "code",
   "execution_count": 114,
   "id": "d90d98b2-8fb8-4b37-940f-a7e6324ad94b",
   "metadata": {},
   "outputs": [],
   "source": [
    "X_train=sclaer.fit_transform(X_train)"
   ]
  },
  {
   "cell_type": "code",
   "execution_count": 115,
   "id": "3c3459ae-bd1a-4e77-8cc5-7d98d98ce362",
   "metadata": {},
   "outputs": [],
   "source": [
    "X_test=sclaer.transform(X_test)"
   ]
  },
  {
   "cell_type": "code",
   "execution_count": 68,
   "id": "c6d66210-499a-4e4b-8362-b355235f4f81",
   "metadata": {},
   "outputs": [
    {
     "data": {
      "text/plain": [
       "11"
      ]
     },
     "execution_count": 68,
     "metadata": {},
     "output_type": "execute_result"
    }
   ],
   "source": [
    "X_train.shape[1]"
   ]
  },
  {
   "cell_type": "code",
   "execution_count": 116,
   "id": "049d3304-f053-42fc-929a-96b6d00b994e",
   "metadata": {},
   "outputs": [],
   "source": [
    "from tensorflow import keras\n",
    "from tensorflow.keras import regularizers"
   ]
  },
  {
   "cell_type": "code",
   "execution_count": 117,
   "id": "1e7a1d91-37eb-49ac-8dd6-a7bf18ffddeb",
   "metadata": {},
   "outputs": [],
   "source": [
    "y_train=keras.utils.to_categorical(y_train,num_classes=2)"
   ]
  },
  {
   "cell_type": "code",
   "execution_count": 68,
   "id": "5630105d-585f-4a2a-9054-dd21cb114078",
   "metadata": {},
   "outputs": [],
   "source": [
    "##y_test=keras.utils.to_categorical(y_test,num_classes=2)"
   ]
  },
  {
   "cell_type": "code",
   "execution_count": 51,
   "id": "1c5e5b74-e911-49ab-ac57-8ad212f89292",
   "metadata": {},
   "outputs": [
    {
     "data": {
      "text/plain": [
       "array([[0., 1.],\n",
       "       [1., 0.],\n",
       "       [1., 0.],\n",
       "       [0., 1.],\n",
       "       [1., 0.]], dtype=float32)"
      ]
     },
     "execution_count": 51,
     "metadata": {},
     "output_type": "execute_result"
    }
   ],
   "source": [
    "y_train[:5]"
   ]
  },
  {
   "cell_type": "code",
   "execution_count": 120,
   "id": "6505259b-08b7-4041-8f89-e0c1d8627846",
   "metadata": {},
   "outputs": [],
   "source": [
    "model=keras.Sequential([\n",
    "    keras.layers.Dense(33,activation='relu',input_shape=(X_train.shape[1],)),\n",
    "    keras.layers.Dense(units=64,activation='relu'),\n",
    "    keras.layers.Dense(units=128,activation='relu'),\n",
    "    keras.layers.Dropout(0.2),\n",
    "    keras.layers.Dense(units=64,activation='relu'),\n",
    "    keras.layers.Dense(units=2,activation='sigmoid')\n",
    "])"
   ]
  },
  {
   "cell_type": "code",
   "execution_count": 121,
   "id": "22b57ddb-a7c8-4533-ab67-97bc713864df",
   "metadata": {},
   "outputs": [],
   "source": [
    "model.compile(loss='binary_crossentropy',optimizer='Adam',metrics='accuracy')"
   ]
  },
  {
   "cell_type": "code",
   "execution_count": 122,
   "id": "d9c78686-dd60-4ce5-8439-498e9f8eba8a",
   "metadata": {},
   "outputs": [
    {
     "name": "stdout",
     "output_type": "stream",
     "text": [
      "Epoch 1/30\n",
      "12/12 - 2s - loss: 0.6700 - accuracy: 0.5987 - 2s/epoch - 198ms/step\n",
      "Epoch 2/30\n",
      "12/12 - 0s - loss: 0.6043 - accuracy: 0.7024 - 56ms/epoch - 5ms/step\n",
      "Epoch 3/30\n",
      "12/12 - 0s - loss: 0.5510 - accuracy: 0.7194 - 57ms/epoch - 5ms/step\n",
      "Epoch 4/30\n",
      "12/12 - 0s - loss: 0.5363 - accuracy: 0.7274 - 56ms/epoch - 5ms/step\n",
      "Epoch 5/30\n",
      "12/12 - 0s - loss: 0.5230 - accuracy: 0.7346 - 60ms/epoch - 5ms/step\n",
      "Epoch 6/30\n",
      "12/12 - 0s - loss: 0.5118 - accuracy: 0.7542 - 60ms/epoch - 5ms/step\n",
      "Epoch 7/30\n",
      "12/12 - 0s - loss: 0.5071 - accuracy: 0.7587 - 55ms/epoch - 5ms/step\n",
      "Epoch 8/30\n",
      "12/12 - 0s - loss: 0.4920 - accuracy: 0.7676 - 47ms/epoch - 4ms/step\n",
      "Epoch 9/30\n",
      "12/12 - 0s - loss: 0.4940 - accuracy: 0.7641 - 65ms/epoch - 5ms/step\n",
      "Epoch 10/30\n",
      "12/12 - 0s - loss: 0.4832 - accuracy: 0.7748 - 70ms/epoch - 6ms/step\n",
      "Epoch 11/30\n",
      "12/12 - 0s - loss: 0.4793 - accuracy: 0.7793 - 54ms/epoch - 5ms/step\n",
      "Epoch 12/30\n",
      "12/12 - 0s - loss: 0.4712 - accuracy: 0.7828 - 75ms/epoch - 6ms/step\n",
      "Epoch 13/30\n",
      "12/12 - 0s - loss: 0.4687 - accuracy: 0.7811 - 59ms/epoch - 5ms/step\n",
      "Epoch 14/30\n",
      "12/12 - 0s - loss: 0.4541 - accuracy: 0.7855 - 54ms/epoch - 4ms/step\n",
      "Epoch 15/30\n",
      "12/12 - 0s - loss: 0.4535 - accuracy: 0.7936 - 44ms/epoch - 4ms/step\n",
      "Epoch 16/30\n",
      "12/12 - 0s - loss: 0.4510 - accuracy: 0.7989 - 67ms/epoch - 6ms/step\n",
      "Epoch 17/30\n",
      "12/12 - 0s - loss: 0.4329 - accuracy: 0.8061 - 48ms/epoch - 4ms/step\n",
      "Epoch 18/30\n",
      "12/12 - 0s - loss: 0.4277 - accuracy: 0.8097 - 63ms/epoch - 5ms/step\n",
      "Epoch 19/30\n",
      "12/12 - 0s - loss: 0.4214 - accuracy: 0.8105 - 53ms/epoch - 4ms/step\n",
      "Epoch 20/30\n",
      "12/12 - 0s - loss: 0.4139 - accuracy: 0.8204 - 47ms/epoch - 4ms/step\n",
      "Epoch 21/30\n",
      "12/12 - 0s - loss: 0.4152 - accuracy: 0.8141 - 51ms/epoch - 4ms/step\n",
      "Epoch 22/30\n",
      "12/12 - 0s - loss: 0.3953 - accuracy: 0.8284 - 59ms/epoch - 5ms/step\n",
      "Epoch 23/30\n",
      "12/12 - 0s - loss: 0.3907 - accuracy: 0.8266 - 61ms/epoch - 5ms/step\n",
      "Epoch 24/30\n",
      "12/12 - 0s - loss: 0.3831 - accuracy: 0.8338 - 65ms/epoch - 5ms/step\n",
      "Epoch 25/30\n",
      "12/12 - 0s - loss: 0.3829 - accuracy: 0.8400 - 44ms/epoch - 4ms/step\n",
      "Epoch 26/30\n",
      "12/12 - 0s - loss: 0.3705 - accuracy: 0.8374 - 52ms/epoch - 4ms/step\n",
      "Epoch 27/30\n",
      "12/12 - 0s - loss: 0.3764 - accuracy: 0.8374 - 47ms/epoch - 4ms/step\n",
      "Epoch 28/30\n",
      "12/12 - 0s - loss: 0.3609 - accuracy: 0.8409 - 55ms/epoch - 5ms/step\n",
      "Epoch 29/30\n",
      "12/12 - 0s - loss: 0.3464 - accuracy: 0.8481 - 47ms/epoch - 4ms/step\n",
      "Epoch 30/30\n",
      "12/12 - 0s - loss: 0.3721 - accuracy: 0.8445 - 65ms/epoch - 5ms/step\n"
     ]
    }
   ],
   "source": [
    "history=model.fit(X_train,y_train,epochs=30,batch_size=100,verbose=2)"
   ]
  },
  {
   "cell_type": "code",
   "execution_count": 89,
   "id": "0fea21f5-7209-4c99-971b-d1138f7ac7fb",
   "metadata": {},
   "outputs": [
    {
     "name": "stdout",
     "output_type": "stream",
     "text": [
      "15/15 [==============================] - 0s 3ms/step - loss: 0.6324 - accuracy: 0.6875\n"
     ]
    },
    {
     "data": {
      "text/plain": [
       "[0.6323785781860352, 0.6875]"
      ]
     },
     "execution_count": 89,
     "metadata": {},
     "output_type": "execute_result"
    }
   ],
   "source": [
    "##model.evaluate(X_test,y_test)"
   ]
  },
  {
   "cell_type": "code",
   "execution_count": 123,
   "id": "c88417a8-de85-4cd5-a769-f74cbb151450",
   "metadata": {},
   "outputs": [
    {
     "name": "stdout",
     "output_type": "stream",
     "text": [
      "15/15 [==============================] - 0s 2ms/step\n"
     ]
    }
   ],
   "source": [
    "y_pred=model.predict(X_test)"
   ]
  },
  {
   "cell_type": "code",
   "execution_count": 91,
   "id": "ebdb4f9f-2bcd-447e-8caf-2a9449d55b9c",
   "metadata": {},
   "outputs": [
    {
     "data": {
      "text/plain": [
       "0"
      ]
     },
     "execution_count": 91,
     "metadata": {},
     "output_type": "execute_result"
    }
   ],
   "source": [
    "np.argmax(y_pred[1])"
   ]
  },
  {
   "cell_type": "code",
   "execution_count": 124,
   "id": "547ce313-d25e-4d42-a00d-a11f7f1b2439",
   "metadata": {},
   "outputs": [],
   "source": [
    "y_pred=[np.argmax(i) for i in y_pred]"
   ]
  },
  {
   "cell_type": "code",
   "execution_count": 126,
   "id": "8c02bc1e-2912-4257-942d-2fcfa8e0fcf5",
   "metadata": {},
   "outputs": [
    {
     "data": {
      "text/plain": [
       "[1, 0, 0, 0, 1]"
      ]
     },
     "execution_count": 126,
     "metadata": {},
     "output_type": "execute_result"
    }
   ],
   "source": [
    "y_pred[:5]"
   ]
  },
  {
   "cell_type": "code",
   "execution_count": 127,
   "id": "1d2fcc7b-4e9b-401c-bb5d-6273047beb15",
   "metadata": {},
   "outputs": [
    {
     "data": {
      "text/plain": [
       "803     1\n",
       "124     0\n",
       "350     1\n",
       "682     0\n",
       "1326    1\n",
       "Name: quality, dtype: int64"
      ]
     },
     "execution_count": 127,
     "metadata": {},
     "output_type": "execute_result"
    }
   ],
   "source": [
    "y_test[:5]"
   ]
  },
  {
   "cell_type": "code",
   "execution_count": 128,
   "id": "6a7cd551-ce29-4e36-930c-11779890c45e",
   "metadata": {},
   "outputs": [
    {
     "name": "stdout",
     "output_type": "stream",
     "text": [
      "Model: \"sequential_8\"\n",
      "_________________________________________________________________\n",
      " Layer (type)                Output Shape              Param #   \n",
      "=================================================================\n",
      " dense_34 (Dense)            (None, 33)                396       \n",
      "                                                                 \n",
      " dense_35 (Dense)            (None, 64)                2176      \n",
      "                                                                 \n",
      " dense_36 (Dense)            (None, 128)               8320      \n",
      "                                                                 \n",
      " dropout_4 (Dropout)         (None, 128)               0         \n",
      "                                                                 \n",
      " dense_37 (Dense)            (None, 64)                8256      \n",
      "                                                                 \n",
      " dense_38 (Dense)            (None, 2)                 130       \n",
      "                                                                 \n",
      "=================================================================\n",
      "Total params: 19,278\n",
      "Trainable params: 19,278\n",
      "Non-trainable params: 0\n",
      "_________________________________________________________________\n"
     ]
    }
   ],
   "source": [
    "model.summary()"
   ]
  },
  {
   "cell_type": "code",
   "execution_count": 129,
   "id": "7ccf63ef-e3e4-45b0-a433-8fdd198ef70c",
   "metadata": {},
   "outputs": [],
   "source": [
    "df=pd.DataFrame(history.history)"
   ]
  },
  {
   "cell_type": "code",
   "execution_count": 130,
   "id": "7c67dd01-8b02-4e65-9a61-992fd0ee4a0e",
   "metadata": {},
   "outputs": [
    {
     "data": {
      "text/plain": [
       "<AxesSubplot:>"
      ]
     },
     "execution_count": 130,
     "metadata": {},
     "output_type": "execute_result"
    },
    {
     "data": {
      "image/png": "[encoded data removed]",
      "text/plain": [
       "<Figure size 432x288 with 1 Axes>"
      ]
     },
     "metadata": {
      "needs_background": "light"
     },
     "output_type": "display_data"
    }
   ],
   "source": [
    "df.plot()"
   ]
  },
  {
   "cell_type": "code",
   "execution_count": 131,
   "id": "918f23dc-1489-4eda-846e-d9eb59a32e36",
   "metadata": {},
   "outputs": [],
   "source": [
    "from sklearn.metrics import accuracy_score, confusion_matrix"
   ]
  },
  {
   "cell_type": "code",
   "execution_count": 132,
   "id": "339e9976-6ad1-46c2-96f7-9566248373a3",
   "metadata": {},
   "outputs": [
    {
     "data": {
      "text/plain": [
       "0.7541666666666667"
      ]
     },
     "execution_count": 132,
     "metadata": {},
     "output_type": "execute_result"
    }
   ],
   "source": [
    "accuracy_score(y_test,y_pred)"
   ]
  },
  {
   "cell_type": "code",
   "execution_count": 134,
   "id": "c426408b-74ec-4bee-99af-b3dc46e39196",
   "metadata": {},
   "outputs": [],
   "source": [
    "cf=confusion_matrix(y_test,y_pred)"
   ]
  },
  {
   "cell_type": "code",
   "execution_count": 135,
   "id": "f2a28ae1-8bc5-46f5-8470-861d5a0c6cc8",
   "metadata": {},
   "outputs": [
    {
     "data": {
      "text/plain": [
       "Text(33.0, 0.5, 'actual')"
      ]
     },
     "execution_count": 135,
     "metadata": {},
     "output_type": "execute_result"
    },
    {
     "data": {
      "image/png": "[encoded data removed]",
      "text/plain": [
       "<Figure size 432x288 with 2 Axes>"
      ]
     },
     "metadata": {
      "needs_background": "light"
     },
     "output_type": "display_data"
    }
   ],
   "source": [
    "label = ['average','good']\n",
    "ax = sns.heatmap(cf, annot=True, fmt='d', cmap='Reds', xticklabels=label, yticklabels=label)\n",
    "ax.set_title('confusion matrix for wine quality dataset')\n",
    "ax.set_xlabel('prediction', fontsize=16)\n",
    "ax.set_ylabel('actual', fontsize=16)"
   ]
  },
  {
   "cell_type": "code",
   "execution_count": null,
   "id": "a848ea7e-6982-415e-847c-e02128c9d31d",
   "metadata": {},
   "outputs": [],
   "source": []
  }
 ],
 "metadata": {
  "kernelspec": {
   "display_name": "Python 3 (ipykernel)",
   "language": "python",
   "name": "python3"
  },
  "language_info": {
   "codemirror_mode": {
    "name": "ipython",
    "version": 3
   },
   "file_extension": ".py",
   "mimetype": "text/x-python",
   "name": "python",
   "nbconvert_exporter": "python",
   "pygments_lexer": "ipython3",
   "version": "3.9.12"
  }
 },
 "nbformat": 4,
 "nbformat_minor": 5
}
