{
 "cells": [
  {
   "cell_type": "markdown",
   "id": "e3ceaec5-f8f3-45b6-8ab0-b771dd3f5fd4",
   "metadata": {},
   "source": [
    "#### What is Batch Normalization?\n",
    "- A technique for normalizing the activations of intermediate layers during training"
   ]
  },
  {
   "cell_type": "markdown",
   "id": "9059a210-00b0-4ccc-b63c-4c75754604b2",
   "metadata": {},
   "source": [
    "#### What is the main benefit of Batch Normalization?\n",
    "- All of the above\n",
    "- Speeding up the training process"
   ]
  },
  {
   "cell_type": "markdown",
   "id": "1c3acd95-2407-430f-9989-0eb097a4982d",
   "metadata": {},
   "source": [
    "#### How does Batch Normalization work?\n",
    "- By subtracting the mean and dividing by the standard deviation of each batch"
   ]
  },
  {
   "cell_type": "markdown",
   "id": "27a390c4-158e-4c80-beaf-1343f5586cb8",
   "metadata": {},
   "source": [
    "#### During inference (testing or prediction), how are the activation values normalized in Batch Normalization?\n",
    "- Using the batch mean and variance computed during training\n"
   ]
  },
  {
   "cell_type": "markdown",
   "id": "aa846476-547f-4a1e-ace8-6b0ad7ec7cdf",
   "metadata": {},
   "source": [
    "#### What is the effect of Batch Normalization on the activation distribution?\n",
    "-   It makes the distribution more Gaussian-like\n",
    "- It has no effect on the distribution"
   ]
  },
  {
   "cell_type": "markdown",
   "id": "eb7a45e5-062a-4f3b-9d43-323dd33329f2",
   "metadata": {},
   "source": [
    "#### Question: What problem does Batch Normalization help alleviate during the training of deep neural networks?\n",
    "- Covariate shift\n",
    "- All of the above"
   ]
  },
  {
   "cell_type": "markdown",
   "id": "40ed6c7a-099c-4e48-b0f3-821d2d4e0d40",
   "metadata": {},
   "source": [
    "#### How does Batch Normalization contribute to regularization in ANN training?\n",
    "- By reducing the internal covariate shift"
   ]
  },
  {
   "cell_type": "markdown",
   "id": "68b70de8-0c1d-4416-a241-20e3fd26e9c8",
   "metadata": {},
   "source": [
    "#### What is the recommended position of Batch Normalization in a neural network architecture?\n",
    "- After each activation function"
   ]
  },
  {
   "cell_type": "markdown",
   "id": "a556dd50-ccdd-44c3-a47c-fa4c875debf9",
   "metadata": {},
   "source": [
    "#### Can Batch Normalization be applied to small or shallow neural networks?\n",
    "- It depends on the specific characteristics of the network"
   ]
  },
  {
   "cell_type": "markdown",
   "id": "eb2c9858-7d9e-47b6-b62d-944687e28ffd",
   "metadata": {},
   "source": [
    "#### What is the main disadvantage of Batch Normalization?\n",
    "- It can increase the computational complexity of training"
   ]
  }
 ],
 "metadata": {
  "kernelspec": {
   "display_name": "Python 3 (ipykernel)",
   "language": "python",
   "name": "python3"
  },
  "language_info": {
   "codemirror_mode": {
    "name": "ipython",
    "version": 3
   },
   "file_extension": ".py",
   "mimetype": "text/x-python",
   "name": "python",
   "nbconvert_exporter": "python",
   "pygments_lexer": "ipython3",
   "version": "3.9.12"
  }
 },
 "nbformat": 4,
 "nbformat_minor": 5
}
