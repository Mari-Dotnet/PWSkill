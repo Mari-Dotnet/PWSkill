{
 "cells": [
  {
   "cell_type": "code",
   "execution_count": null,
   "id": "63751d9c-e8ad-4299-b496-e3e870e4259e",
   "metadata": {},
   "outputs": [],
   "source": [
    "##https://github.com/kcncell/DeepLearning_BreastCancer_Beginner/blob/main/Cancer_diagnosis_deepLearningProject.ipynb"
   ]
  },
  {
   "cell_type": "code",
   "execution_count": 5,
   "id": "78add62c-d7f7-42dc-ad4e-a4d8af51c359",
   "metadata": {},
   "outputs": [],
   "source": [
    "import pandas as pd \n",
    "import numpy as np\n",
    "import matplotlib.pyplot as plt\n",
    "import seaborn as sns\n",
    "from sklearn.datasets import load_breast_cancer"
   ]
  },
  {
   "cell_type": "code",
   "execution_count": 12,
   "id": "8da989f1-a760-419c-ac78-321a1a0eb872",
   "metadata": {},
   "outputs": [],
   "source": [
    "data=load_breast_cancer()"
   ]
  },
  {
   "cell_type": "code",
   "execution_count": 17,
   "id": "6c0fefd3-f51c-4a6d-8c27-c7b0e2fffbef",
   "metadata": {},
   "outputs": [],
   "source": [
    "df=pd.DataFrame(data=data.data,columns=data.feature_names)"
   ]
  },
  {
   "cell_type": "code",
   "execution_count": 18,
   "id": "b26bf857-70c1-4fe3-b96f-61ef55ef6466",
   "metadata": {},
   "outputs": [],
   "source": [
    "df['target']=data.target"
   ]
  },
  {
   "cell_type": "code",
   "execution_count": 19,
   "id": "886b10e2-73bc-440d-8322-5a9b55ca3411",
   "metadata": {},
   "outputs": [
    {
     "data": {
      "text/html": [
       "<div>\n",
       "<style scoped>\n",
       "    .dataframe tbody tr th:only-of-type {\n",
       "        vertical-align: middle;\n",
       "    }\n",
       "\n",
       "    .dataframe tbody tr th {\n",
       "        vertical-align: top;\n",
       "    }\n",
       "\n",
       "    .dataframe thead th {\n",
       "        text-align: right;\n",
       "    }\n",
       "</style>\n",
       "<table border=\"1\" class=\"dataframe\">\n",
       "  <thead>\n",
       "    <tr style=\"text-align: right;\">\n",
       "      <th></th>\n",
       "      <th>mean radius</th>\n",
       "      <th>mean texture</th>\n",
       "      <th>mean perimeter</th>\n",
       "      <th>mean area</th>\n",
       "      <th>mean smoothness</th>\n",
       "      <th>mean compactness</th>\n",
       "      <th>mean concavity</th>\n",
       "      <th>mean concave points</th>\n",
       "      <th>mean symmetry</th>\n",
       "      <th>mean fractal dimension</th>\n",
       "      <th>...</th>\n",
       "      <th>worst texture</th>\n",
       "      <th>worst perimeter</th>\n",
       "      <th>worst area</th>\n",
       "      <th>worst smoothness</th>\n",
       "      <th>worst compactness</th>\n",
       "      <th>worst concavity</th>\n",
       "      <th>worst concave points</th>\n",
       "      <th>worst symmetry</th>\n",
       "      <th>worst fractal dimension</th>\n",
       "      <th>target</th>\n",
       "    </tr>\n",
       "  </thead>\n",
       "  <tbody>\n",
       "    <tr>\n",
       "      <th>0</th>\n",
       "      <td>17.99</td>\n",
       "      <td>10.38</td>\n",
       "      <td>122.80</td>\n",
       "      <td>1001.0</td>\n",
       "      <td>0.11840</td>\n",
       "      <td>0.27760</td>\n",
       "      <td>0.3001</td>\n",
       "      <td>0.14710</td>\n",
       "      <td>0.2419</td>\n",
       "      <td>0.07871</td>\n",
       "      <td>...</td>\n",
       "      <td>17.33</td>\n",
       "      <td>184.60</td>\n",
       "      <td>2019.0</td>\n",
       "      <td>0.1622</td>\n",
       "      <td>0.6656</td>\n",
       "      <td>0.7119</td>\n",
       "      <td>0.2654</td>\n",
       "      <td>0.4601</td>\n",
       "      <td>0.11890</td>\n",
       "      <td>0</td>\n",
       "    </tr>\n",
       "    <tr>\n",
       "      <th>1</th>\n",
       "      <td>20.57</td>\n",
       "      <td>17.77</td>\n",
       "      <td>132.90</td>\n",
       "      <td>1326.0</td>\n",
       "      <td>0.08474</td>\n",
       "      <td>0.07864</td>\n",
       "      <td>0.0869</td>\n",
       "      <td>0.07017</td>\n",
       "      <td>0.1812</td>\n",
       "      <td>0.05667</td>\n",
       "      <td>...</td>\n",
       "      <td>23.41</td>\n",
       "      <td>158.80</td>\n",
       "      <td>1956.0</td>\n",
       "      <td>0.1238</td>\n",
       "      <td>0.1866</td>\n",
       "      <td>0.2416</td>\n",
       "      <td>0.1860</td>\n",
       "      <td>0.2750</td>\n",
       "      <td>0.08902</td>\n",
       "      <td>0</td>\n",
       "    </tr>\n",
       "    <tr>\n",
       "      <th>2</th>\n",
       "      <td>19.69</td>\n",
       "      <td>21.25</td>\n",
       "      <td>130.00</td>\n",
       "      <td>1203.0</td>\n",
       "      <td>0.10960</td>\n",
       "      <td>0.15990</td>\n",
       "      <td>0.1974</td>\n",
       "      <td>0.12790</td>\n",
       "      <td>0.2069</td>\n",
       "      <td>0.05999</td>\n",
       "      <td>...</td>\n",
       "      <td>25.53</td>\n",
       "      <td>152.50</td>\n",
       "      <td>1709.0</td>\n",
       "      <td>0.1444</td>\n",
       "      <td>0.4245</td>\n",
       "      <td>0.4504</td>\n",
       "      <td>0.2430</td>\n",
       "      <td>0.3613</td>\n",
       "      <td>0.08758</td>\n",
       "      <td>0</td>\n",
       "    </tr>\n",
       "    <tr>\n",
       "      <th>3</th>\n",
       "      <td>11.42</td>\n",
       "      <td>20.38</td>\n",
       "      <td>77.58</td>\n",
       "      <td>386.1</td>\n",
       "      <td>0.14250</td>\n",
       "      <td>0.28390</td>\n",
       "      <td>0.2414</td>\n",
       "      <td>0.10520</td>\n",
       "      <td>0.2597</td>\n",
       "      <td>0.09744</td>\n",
       "      <td>...</td>\n",
       "      <td>26.50</td>\n",
       "      <td>98.87</td>\n",
       "      <td>567.7</td>\n",
       "      <td>0.2098</td>\n",
       "      <td>0.8663</td>\n",
       "      <td>0.6869</td>\n",
       "      <td>0.2575</td>\n",
       "      <td>0.6638</td>\n",
       "      <td>0.17300</td>\n",
       "      <td>0</td>\n",
       "    </tr>\n",
       "    <tr>\n",
       "      <th>4</th>\n",
       "      <td>20.29</td>\n",
       "      <td>14.34</td>\n",
       "      <td>135.10</td>\n",
       "      <td>1297.0</td>\n",
       "      <td>0.10030</td>\n",
       "      <td>0.13280</td>\n",
       "      <td>0.1980</td>\n",
       "      <td>0.10430</td>\n",
       "      <td>0.1809</td>\n",
       "      <td>0.05883</td>\n",
       "      <td>...</td>\n",
       "      <td>16.67</td>\n",
       "      <td>152.20</td>\n",
       "      <td>1575.0</td>\n",
       "      <td>0.1374</td>\n",
       "      <td>0.2050</td>\n",
       "      <td>0.4000</td>\n",
       "      <td>0.1625</td>\n",
       "      <td>0.2364</td>\n",
       "      <td>0.07678</td>\n",
       "      <td>0</td>\n",
       "    </tr>\n",
       "  </tbody>\n",
       "</table>\n",
       "<p>5 rows × 31 columns</p>\n",
       "</div>"
      ],
      "text/plain": [
       "   mean radius  mean texture  mean perimeter  mean area  mean smoothness  \\\n",
       "0        17.99         10.38          122.80     1001.0          0.11840   \n",
       "1        20.57         17.77          132.90     1326.0          0.08474   \n",
       "2        19.69         21.25          130.00     1203.0          0.10960   \n",
       "3        11.42         20.38           77.58      386.1          0.14250   \n",
       "4        20.29         14.34          135.10     1297.0          0.10030   \n",
       "\n",
       "   mean compactness  mean concavity  mean concave points  mean symmetry  \\\n",
       "0           0.27760          0.3001              0.14710         0.2419   \n",
       "1           0.07864          0.0869              0.07017         0.1812   \n",
       "2           0.15990          0.1974              0.12790         0.2069   \n",
       "3           0.28390          0.2414              0.10520         0.2597   \n",
       "4           0.13280          0.1980              0.10430         0.1809   \n",
       "\n",
       "   mean fractal dimension  ...  worst texture  worst perimeter  worst area  \\\n",
       "0                 0.07871  ...          17.33           184.60      2019.0   \n",
       "1                 0.05667  ...          23.41           158.80      1956.0   \n",
       "2                 0.05999  ...          25.53           152.50      1709.0   \n",
       "3                 0.09744  ...          26.50            98.87       567.7   \n",
       "4                 0.05883  ...          16.67           152.20      1575.0   \n",
       "\n",
       "   worst smoothness  worst compactness  worst concavity  worst concave points  \\\n",
       "0            0.1622             0.6656           0.7119                0.2654   \n",
       "1            0.1238             0.1866           0.2416                0.1860   \n",
       "2            0.1444             0.4245           0.4504                0.2430   \n",
       "3            0.2098             0.8663           0.6869                0.2575   \n",
       "4            0.1374             0.2050           0.4000                0.1625   \n",
       "\n",
       "   worst symmetry  worst fractal dimension  target  \n",
       "0          0.4601                  0.11890       0  \n",
       "1          0.2750                  0.08902       0  \n",
       "2          0.3613                  0.08758       0  \n",
       "3          0.6638                  0.17300       0  \n",
       "4          0.2364                  0.07678       0  \n",
       "\n",
       "[5 rows x 31 columns]"
      ]
     },
     "execution_count": 19,
     "metadata": {},
     "output_type": "execute_result"
    }
   ],
   "source": [
    "df.head()"
   ]
  },
  {
   "cell_type": "code",
   "execution_count": 20,
   "id": "5118dc95-9027-4f18-83a6-376b5b23ffce",
   "metadata": {},
   "outputs": [
    {
     "data": {
      "text/plain": [
       "array([0, 1])"
      ]
     },
     "execution_count": 20,
     "metadata": {},
     "output_type": "execute_result"
    }
   ],
   "source": [
    "df['target'].unique()"
   ]
  },
  {
   "cell_type": "code",
   "execution_count": 21,
   "id": "2a17916d-c214-434f-988a-c56664fdc27d",
   "metadata": {},
   "outputs": [
    {
     "data": {
      "text/plain": [
       "mean radius                0\n",
       "mean texture               0\n",
       "mean perimeter             0\n",
       "mean area                  0\n",
       "mean smoothness            0\n",
       "mean compactness           0\n",
       "mean concavity             0\n",
       "mean concave points        0\n",
       "mean symmetry              0\n",
       "mean fractal dimension     0\n",
       "radius error               0\n",
       "texture error              0\n",
       "perimeter error            0\n",
       "area error                 0\n",
       "smoothness error           0\n",
       "compactness error          0\n",
       "concavity error            0\n",
       "concave points error       0\n",
       "symmetry error             0\n",
       "fractal dimension error    0\n",
       "worst radius               0\n",
       "worst texture              0\n",
       "worst perimeter            0\n",
       "worst area                 0\n",
       "worst smoothness           0\n",
       "worst compactness          0\n",
       "worst concavity            0\n",
       "worst concave points       0\n",
       "worst symmetry             0\n",
       "worst fractal dimension    0\n",
       "target                     0\n",
       "dtype: int64"
      ]
     },
     "execution_count": 21,
     "metadata": {},
     "output_type": "execute_result"
    }
   ],
   "source": [
    "df.isnull().sum()"
   ]
  },
  {
   "cell_type": "code",
   "execution_count": 22,
   "id": "f028cacf-8190-4828-be19-2c4b2225a76a",
   "metadata": {},
   "outputs": [],
   "source": [
    "##split independent and dependent variable\n",
    "X=df.drop(labels='target',axis=1)\n",
    "y=df['target']"
   ]
  },
  {
   "cell_type": "code",
   "execution_count": 23,
   "id": "be746382-340c-4867-a6df-2de61e4fe816",
   "metadata": {},
   "outputs": [],
   "source": [
    "from sklearn.model_selection import train_test_split"
   ]
  },
  {
   "cell_type": "code",
   "execution_count": 36,
   "id": "7e612ad9-6fc3-4f41-aa42-11ada0d969e9",
   "metadata": {},
   "outputs": [],
   "source": [
    "X_train, X_test, y_train, y_test = train_test_split(X, y, test_size=0.33, random_state=42)"
   ]
  },
  {
   "cell_type": "code",
   "execution_count": 37,
   "id": "4c192f98-bfd6-4349-bb36-c43e7c01aab4",
   "metadata": {},
   "outputs": [],
   "source": [
    "from sklearn.preprocessing import MinMaxScaler"
   ]
  },
  {
   "cell_type": "code",
   "execution_count": 38,
   "id": "f2c9f122-5408-456d-8705-77a814bc90a2",
   "metadata": {},
   "outputs": [],
   "source": [
    "Min_max=MinMaxScaler()"
   ]
  },
  {
   "cell_type": "code",
   "execution_count": 39,
   "id": "61290515-4f37-4401-a6a8-6eb7d2e8a6f7",
   "metadata": {},
   "outputs": [],
   "source": [
    "X_train=Min_max.fit_transform(X_train)"
   ]
  },
  {
   "cell_type": "code",
   "execution_count": 40,
   "id": "e75d17ea-6752-4498-bce3-865a603ea0a6",
   "metadata": {},
   "outputs": [],
   "source": [
    "X_test=Min_max.transform(X_test)"
   ]
  },
  {
   "cell_type": "code",
   "execution_count": 29,
   "id": "4fe82375-3bd1-46ae-b311-6824078c04f8",
   "metadata": {},
   "outputs": [],
   "source": [
    "## load tensorflow keras Api"
   ]
  },
  {
   "cell_type": "code",
   "execution_count": 30,
   "id": "5b5e2f4e-3171-4eb8-8244-30aeec04a58d",
   "metadata": {},
   "outputs": [],
   "source": [
    "from tensorflow import keras"
   ]
  },
  {
   "cell_type": "code",
   "execution_count": 41,
   "id": "43764528-78f5-4fd3-81f4-337c4de1d877",
   "metadata": {},
   "outputs": [],
   "source": [
    "y_train=keras.utils.to_categorical(y_train,num_classes=2)"
   ]
  },
  {
   "cell_type": "code",
   "execution_count": 42,
   "id": "cd2057c4-ca59-4cc9-9603-c5283e9bfcb3",
   "metadata": {},
   "outputs": [
    {
     "data": {
      "text/plain": [
       "array([[1., 0.],\n",
       "       [0., 1.],\n",
       "       [1., 0.],\n",
       "       [0., 1.],\n",
       "       [0., 1.]], dtype=float32)"
      ]
     },
     "execution_count": 42,
     "metadata": {},
     "output_type": "execute_result"
    }
   ],
   "source": [
    "y_train[:5]"
   ]
  },
  {
   "cell_type": "code",
   "execution_count": 33,
   "id": "a5a468a6-5514-4e52-acbf-58bf26571004",
   "metadata": {},
   "outputs": [
    {
     "data": {
      "text/plain": [
       "(381, 30)"
      ]
     },
     "execution_count": 33,
     "metadata": {},
     "output_type": "execute_result"
    }
   ],
   "source": [
    "X_train.shape"
   ]
  },
  {
   "cell_type": "code",
   "execution_count": 43,
   "id": "3ef99e30-7c4c-47e4-978f-addf3ae587af",
   "metadata": {},
   "outputs": [],
   "source": [
    "## create keras model for breast cancer\n",
    "model=keras.Sequential([\n",
    "    keras.layers.Dense(100,activation='relu',input_shape=(X_train.shape[1],)),\n",
    "    keras.layers.Dense(200,activation='relu'),\n",
    "    keras.layers.Dropout(0.2),\n",
    "    keras.layers.Dense(2,activation='softmax')\n",
    "])"
   ]
  },
  {
   "cell_type": "code",
   "execution_count": 45,
   "id": "7ccc566b-99dd-4cbb-969e-1f3f34b10a06",
   "metadata": {},
   "outputs": [
    {
     "name": "stdout",
     "output_type": "stream",
     "text": [
      "Model: \"sequential\"\n",
      "_________________________________________________________________\n",
      " Layer (type)                Output Shape              Param #   \n",
      "=================================================================\n",
      " dense (Dense)               (None, 100)               3100      \n",
      "                                                                 \n",
      " dense_1 (Dense)             (None, 200)               20200     \n",
      "                                                                 \n",
      " dropout (Dropout)           (None, 200)               0         \n",
      "                                                                 \n",
      " dense_2 (Dense)             (None, 2)                 402       \n",
      "                                                                 \n",
      "=================================================================\n",
      "Total params: 23,702\n",
      "Trainable params: 23,702\n",
      "Non-trainable params: 0\n",
      "_________________________________________________________________\n"
     ]
    }
   ],
   "source": [
    "model.compile(optimizer='adam',loss='categorical_crossentropy',metrics='accuracy')\n",
    "model.summary()"
   ]
  },
  {
   "cell_type": "code",
   "execution_count": 46,
   "id": "5c0f8849-4e6f-4c63-aea1-cd036f1ace47",
   "metadata": {},
   "outputs": [
    {
     "name": "stdout",
     "output_type": "stream",
     "text": [
      "Epoch 1/30\n",
      "9/9 - 2s - loss: 0.6389 - accuracy: 0.6391 - val_loss: 0.5957 - val_accuracy: 0.8609 - 2s/epoch - 243ms/step\n",
      "Epoch 2/30\n",
      "9/9 - 0s - loss: 0.5422 - accuracy: 0.8609 - val_loss: 0.4987 - val_accuracy: 0.8783 - 98ms/epoch - 11ms/step\n",
      "Epoch 3/30\n",
      "9/9 - 0s - loss: 0.4314 - accuracy: 0.8910 - val_loss: 0.3952 - val_accuracy: 0.8783 - 103ms/epoch - 11ms/step\n",
      "Epoch 4/30\n",
      "9/9 - 0s - loss: 0.3345 - accuracy: 0.8947 - val_loss: 0.3267 - val_accuracy: 0.8870 - 95ms/epoch - 11ms/step\n",
      "Epoch 5/30\n",
      "9/9 - 0s - loss: 0.2948 - accuracy: 0.8722 - val_loss: 0.2746 - val_accuracy: 0.8957 - 98ms/epoch - 11ms/step\n",
      "Epoch 6/30\n",
      "9/9 - 0s - loss: 0.2551 - accuracy: 0.8872 - val_loss: 0.2536 - val_accuracy: 0.8957 - 95ms/epoch - 11ms/step\n",
      "Epoch 7/30\n",
      "9/9 - 0s - loss: 0.2170 - accuracy: 0.9023 - val_loss: 0.2375 - val_accuracy: 0.8957 - 99ms/epoch - 11ms/step\n",
      "Epoch 8/30\n",
      "9/9 - 0s - loss: 0.2025 - accuracy: 0.9060 - val_loss: 0.2154 - val_accuracy: 0.9043 - 97ms/epoch - 11ms/step\n",
      "Epoch 9/30\n",
      "9/9 - 0s - loss: 0.1915 - accuracy: 0.9135 - val_loss: 0.1962 - val_accuracy: 0.9043 - 97ms/epoch - 11ms/step\n",
      "Epoch 10/30\n",
      "9/9 - 0s - loss: 0.1744 - accuracy: 0.9323 - val_loss: 0.1883 - val_accuracy: 0.9043 - 104ms/epoch - 12ms/step\n",
      "Epoch 11/30\n",
      "9/9 - 0s - loss: 0.1526 - accuracy: 0.9474 - val_loss: 0.1725 - val_accuracy: 0.9217 - 99ms/epoch - 11ms/step\n",
      "Epoch 12/30\n",
      "9/9 - 0s - loss: 0.1332 - accuracy: 0.9624 - val_loss: 0.1613 - val_accuracy: 0.9478 - 94ms/epoch - 10ms/step\n",
      "Epoch 13/30\n",
      "9/9 - 0s - loss: 0.1248 - accuracy: 0.9436 - val_loss: 0.1580 - val_accuracy: 0.9304 - 92ms/epoch - 10ms/step\n",
      "Epoch 14/30\n",
      "9/9 - 0s - loss: 0.1195 - accuracy: 0.9549 - val_loss: 0.1420 - val_accuracy: 0.9565 - 82ms/epoch - 9ms/step\n",
      "Epoch 15/30\n",
      "9/9 - 0s - loss: 0.1034 - accuracy: 0.9624 - val_loss: 0.1363 - val_accuracy: 0.9565 - 94ms/epoch - 10ms/step\n",
      "Epoch 16/30\n",
      "9/9 - 0s - loss: 0.0938 - accuracy: 0.9850 - val_loss: 0.1285 - val_accuracy: 0.9565 - 112ms/epoch - 12ms/step\n",
      "Epoch 17/30\n",
      "9/9 - 0s - loss: 0.0828 - accuracy: 0.9774 - val_loss: 0.1215 - val_accuracy: 0.9565 - 96ms/epoch - 11ms/step\n",
      "Epoch 18/30\n",
      "9/9 - 0s - loss: 0.0810 - accuracy: 0.9850 - val_loss: 0.1176 - val_accuracy: 0.9565 - 94ms/epoch - 10ms/step\n",
      "Epoch 19/30\n",
      "9/9 - 0s - loss: 0.0762 - accuracy: 0.9812 - val_loss: 0.1136 - val_accuracy: 0.9652 - 92ms/epoch - 10ms/step\n",
      "Epoch 20/30\n",
      "9/9 - 0s - loss: 0.0726 - accuracy: 0.9812 - val_loss: 0.1077 - val_accuracy: 0.9565 - 111ms/epoch - 12ms/step\n",
      "Epoch 21/30\n",
      "9/9 - 0s - loss: 0.0757 - accuracy: 0.9850 - val_loss: 0.1194 - val_accuracy: 0.9478 - 117ms/epoch - 13ms/step\n",
      "Epoch 22/30\n",
      "9/9 - 0s - loss: 0.0661 - accuracy: 0.9774 - val_loss: 0.1157 - val_accuracy: 0.9478 - 93ms/epoch - 10ms/step\n",
      "Epoch 23/30\n",
      "9/9 - 0s - loss: 0.0676 - accuracy: 0.9737 - val_loss: 0.1244 - val_accuracy: 0.9391 - 97ms/epoch - 11ms/step\n",
      "Epoch 24/30\n",
      "9/9 - 0s - loss: 0.0592 - accuracy: 0.9812 - val_loss: 0.0997 - val_accuracy: 0.9565 - 95ms/epoch - 11ms/step\n",
      "Epoch 25/30\n",
      "9/9 - 0s - loss: 0.0603 - accuracy: 0.9812 - val_loss: 0.1085 - val_accuracy: 0.9565 - 97ms/epoch - 11ms/step\n",
      "Epoch 26/30\n",
      "9/9 - 0s - loss: 0.0551 - accuracy: 0.9887 - val_loss: 0.0931 - val_accuracy: 0.9739 - 99ms/epoch - 11ms/step\n",
      "Epoch 27/30\n",
      "9/9 - 0s - loss: 0.0482 - accuracy: 0.9850 - val_loss: 0.0910 - val_accuracy: 0.9739 - 100ms/epoch - 11ms/step\n",
      "Epoch 28/30\n",
      "9/9 - 0s - loss: 0.0456 - accuracy: 0.9962 - val_loss: 0.0962 - val_accuracy: 0.9739 - 96ms/epoch - 11ms/step\n",
      "Epoch 29/30\n",
      "9/9 - 0s - loss: 0.0427 - accuracy: 0.9887 - val_loss: 0.0913 - val_accuracy: 0.9652 - 102ms/epoch - 11ms/step\n",
      "Epoch 30/30\n",
      "9/9 - 0s - loss: 0.0412 - accuracy: 0.9962 - val_loss: 0.0873 - val_accuracy: 0.9652 - 118ms/epoch - 13ms/step\n"
     ]
    }
   ],
   "source": [
    "history=model.fit(X_train,y_train,epochs=30,batch_size=30,verbose=2,validation_split=0.3, shuffle=True)"
   ]
  },
  {
   "cell_type": "code",
   "execution_count": 49,
   "id": "b9d91c2a-9309-430f-9df8-6bb9af474705",
   "metadata": {},
   "outputs": [
    {
     "name": "stdout",
     "output_type": "stream",
     "text": [
      "6/6 [==============================] - 0s 5ms/step\n"
     ]
    }
   ],
   "source": [
    "y_pred=model.predict(X_test)"
   ]
  },
  {
   "cell_type": "code",
   "execution_count": 51,
   "id": "041d6289-c0f3-4e50-9359-fbe47fbdd930",
   "metadata": {},
   "outputs": [
    {
     "data": {
      "text/plain": [
       "array([[1.6396320e-01, 8.3603686e-01],\n",
       "       [9.9987113e-01, 1.2888944e-04],\n",
       "       [9.9771631e-01, 2.2837692e-03],\n",
       "       [7.4022624e-04, 9.9925977e-01],\n",
       "       [5.3469138e-04, 9.9946529e-01]], dtype=float32)"
      ]
     },
     "execution_count": 51,
     "metadata": {},
     "output_type": "execute_result"
    }
   ],
   "source": [
    "y_pred[:5]"
   ]
  },
  {
   "cell_type": "code",
   "execution_count": 56,
   "id": "b7d9c654-37f0-45be-a80f-534be6bd7695",
   "metadata": {},
   "outputs": [],
   "source": [
    "y_pred= [np.argmax(i) for i in y_pred]"
   ]
  },
  {
   "cell_type": "code",
   "execution_count": 57,
   "id": "c6e3f2e0-7991-4e00-807c-cb486dcff36e",
   "metadata": {},
   "outputs": [
    {
     "data": {
      "text/plain": [
       "[1, 0, 0, 1, 1]"
      ]
     },
     "execution_count": 57,
     "metadata": {},
     "output_type": "execute_result"
    }
   ],
   "source": [
    "y_pred[:5]"
   ]
  },
  {
   "cell_type": "code",
   "execution_count": 58,
   "id": "21eb7088-a472-4d45-9fc2-1c136a8d46a4",
   "metadata": {},
   "outputs": [
    {
     "data": {
      "text/plain": [
       "204    1\n",
       "70     0\n",
       "131    0\n",
       "431    1\n",
       "540    1\n",
       "Name: target, dtype: int32"
      ]
     },
     "execution_count": 58,
     "metadata": {},
     "output_type": "execute_result"
    }
   ],
   "source": [
    "y_test[:5]"
   ]
  },
  {
   "cell_type": "code",
   "execution_count": 63,
   "id": "d5d55c8e-0ed0-439e-bde0-75072b459b71",
   "metadata": {},
   "outputs": [],
   "source": [
    "from sklearn.metrics import  confusion_matrix,accuracy_score"
   ]
  },
  {
   "cell_type": "code",
   "execution_count": 64,
   "id": "10935a54-931d-4292-92b8-feeb882f1690",
   "metadata": {},
   "outputs": [],
   "source": [
    "ac=accuracy_score(y_test,y_pred)\n",
    "cf=confusion_matrix(y_test,y_pred)"
   ]
  },
  {
   "cell_type": "code",
   "execution_count": 65,
   "id": "8723386c-5bae-4821-8bdd-5119dd9dc8e4",
   "metadata": {},
   "outputs": [
    {
     "name": "stdout",
     "output_type": "stream",
     "text": [
      "score 0.9787234042553191\n",
      "confusion matrirc [[ 66   1]\n",
      " [  3 118]]\n"
     ]
    }
   ],
   "source": [
    "print(\"score\",ac)\n",
    "print(\"confusion matrirc\",cf)"
   ]
  },
  {
   "cell_type": "code",
   "execution_count": null,
   "id": "7a9d572e-17b0-4f97-aaef-c4bdbe0a943d",
   "metadata": {},
   "outputs": [],
   "source": [
    "fig = plt.subplots(figsize = (5,5))\n",
    "fig = sns.heatmap(cf, annot=True, fmt='d',xticklabels=('cancer','No-cancer'), yticklabels=('cancer', 'No-cancer'), cmap='Blues',)\n",
    "fig.set_title('Confusion Matrix', fontsize=14)\n",
    "fig.set_xlabel('Predicted', fontsize=14)\n",
    "fig.set_ylabel('Actual',fontsize=14)"
   ]
  },
  {
   "cell_type": "code",
   "execution_count": null,
   "id": "506b28e7-9568-4ac3-8339-14fbb158aaeb",
   "metadata": {},
   "outputs": [],
   "source": []
  }
 ],
 "metadata": {
  "kernelspec": {
   "display_name": "Python 3 (ipykernel)",
   "language": "python",
   "name": "python3"
  },
  "language_info": {
   "codemirror_mode": {
    "name": "ipython",
    "version": 3
   },
   "file_extension": ".py",
   "mimetype": "text/x-python",
   "name": "python",
   "nbconvert_exporter": "python",
   "pygments_lexer": "ipython3",
   "version": "3.9.12"
  }
 },
 "nbformat": 4,
 "nbformat_minor": 5
}
