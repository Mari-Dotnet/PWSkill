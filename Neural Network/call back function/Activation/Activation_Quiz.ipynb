{
 "cells": [
  {
   "cell_type": "markdown",
   "id": "2a9ea54a-4577-4508-833a-e447c9bc27c7",
   "metadata": {},
   "source": [
    "#### What is the role of an optimizer in training a neural network?\n",
    "- Minimize the loss function\n",
    "\n",
    "#### Which optimizer updates the model's weights by taking the average of the gradients across a mini-batch of training examples?\n",
    "- Stochastic Gradient Descent (SGD)\n",
    "\n",
    "#### Which optimizer adapts the learning rate for each parameter based on the historical gradients?\n",
    "- Momentum\n",
    "\n",
    "####  Which optimizer is an extension of RMSprop that also includes a moving average of the squared gradients?\n",
    "- Adam\n",
    "\n",
    "#### Which optimizer is known for its simplicity and ease of implementation?\n",
    "- Adam\n",
    "\n",
    "#### Which optimizer is recommended for training deep neural networks with many layers\n",
    "- Adam\n",
    "\n",
    "####  Momentum helps accelerate convergence and escape local optima in optimization.\n",
    "- TRUE\n",
    "\n",
    "#### Optimizers are only used during the training phase of a neural network.\n",
    "- True\n",
    "\n",
    "#### Optimizers help in finding the global minimum of the loss function in neural network training.\n",
    "- True \n",
    "\n",
    "#### Optimizers play a crucial role in gradient descent-based optimization algorithms.\n",
    "- True\n",
    "\n",
    "#### The choice of optimizer can have a significant impact on the convergence and performance of a neural network.\n",
    "- True\n",
    "\n",
    "#### AdaGrad adapts the learning rate for each parameter based on the gradient magnitudes accumulated over time.\n",
    "- True"
   ]
  }
 ],
 "metadata": {
  "kernelspec": {
   "display_name": "Python 3 (ipykernel)",
   "language": "python",
   "name": "python3"
  },
  "language_info": {
   "codemirror_mode": {
    "name": "ipython",
    "version": 3
   },
   "file_extension": ".py",
   "mimetype": "text/x-python",
   "name": "python",
   "nbconvert_exporter": "python",
   "pygments_lexer": "ipython3",
   "version": "3.9.12"
  }
 },
 "nbformat": 4,
 "nbformat_minor": 5
}
