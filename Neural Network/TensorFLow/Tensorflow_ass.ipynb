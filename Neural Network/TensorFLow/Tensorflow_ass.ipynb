{
 "cells": [
  {
   "cell_type": "markdown",
   "id": "e91d9299-81d1-4ade-b44d-a909b31bf377",
   "metadata": {},
   "source": [
    "#### 1. What are the different data structures used in Tensorflow?. Give some examples\n",
    "- Variable\n",
    "- data\n",
    "- Constant"
   ]
  },
  {
   "cell_type": "code",
   "execution_count": 1,
   "id": "08d2c283-e9f6-4e5d-b1aa-fe582c212ac2",
   "metadata": {},
   "outputs": [],
   "source": [
    "import tensorflow as tf"
   ]
  },
  {
   "cell_type": "code",
   "execution_count": 4,
   "id": "97b133e8-97f7-4240-809c-fd53bfc09dce",
   "metadata": {},
   "outputs": [
    {
     "name": "stdout",
     "output_type": "stream",
     "text": [
      "tf.Tensor(23, shape=(), dtype=int32)\n",
      "<tf.Variable 'Variable:0' shape=() dtype=int32, numpy=34>\n",
      "<_TensorSliceDataset element_spec=TensorSpec(shape=(2,), dtype=tf.int32, name=None)>\n"
     ]
    }
   ],
   "source": [
    "a=tf.constant(23)\n",
    "b=tf.Variable(34)\n",
    "input_data = [[1, 2], [3, 4], [5, 6], [7, 8], [9, 10]]\n",
    "dataset = tf.data.Dataset.from_tensor_slices(input_data)\n",
    "print(a)\n",
    "print(b)\n",
    "print(dataset)"
   ]
  },
  {
   "cell_type": "markdown",
   "id": "74a69201-7d59-4710-a101-668e497646f3",
   "metadata": {},
   "source": [
    "#### How does the TensorFlow constant differ from a TensorFlow variable? Explain with an example\n",
    "- Constants hold fixed values that cannot be changed, while variables are mutable and can be updated."
   ]
  },
  {
   "cell_type": "code",
   "execution_count": 5,
   "id": "57f40b1b-bbbc-4188-a87a-2fc374251272",
   "metadata": {},
   "outputs": [],
   "source": [
    "con=tf.constant(3)\n",
    "var=tf.Variable(45)"
   ]
  },
  {
   "cell_type": "code",
   "execution_count": 9,
   "id": "9c0222e0-defa-423e-a241-bd402d601135",
   "metadata": {},
   "outputs": [
    {
     "data": {
      "text/plain": [
       "45"
      ]
     },
     "execution_count": 9,
     "metadata": {},
     "output_type": "execute_result"
    }
   ],
   "source": [
    "con\n",
    "##contand don't have any assign function"
   ]
  },
  {
   "cell_type": "code",
   "execution_count": 10,
   "id": "8f931f60-3070-4409-b124-44837d037131",
   "metadata": {},
   "outputs": [
    {
     "data": {
      "text/plain": [
       "<tf.Variable 'UnreadVariable' shape=() dtype=int32, numpy=34>"
      ]
     },
     "execution_count": 10,
     "metadata": {},
     "output_type": "execute_result"
    }
   ],
   "source": [
    "var.assign(34)"
   ]
  },
  {
   "cell_type": "markdown",
   "id": "5f83abcb-6139-4761-8bde-8dcb7a455ab1",
   "metadata": {},
   "source": [
    "### 3.Describe the process of matrix addition, multiplication, and elementDwise operations in TensorFlow."
   ]
  },
  {
   "cell_type": "code",
   "execution_count": 13,
   "id": "7d9bf04e-05b1-47f7-9673-9b90eaad7f1d",
   "metadata": {},
   "outputs": [
    {
     "name": "stdout",
     "output_type": "stream",
     "text": [
      "Matrix Addition Result:\n",
      "[[ 6  8]\n",
      " [10 12]]\n",
      "Matrix Addition Result (Op):\n",
      "[[ 6  8]\n",
      " [10 12]]\n"
     ]
    }
   ],
   "source": [
    "matrix_a = tf.constant([[1, 2], [3, 4]])\n",
    "matrix_b = tf.constant([[5, 6], [7, 8]])\n",
    "result_add = tf.add(matrix_a, matrix_b)\n",
    "print(\"Matrix Addition Result:\")\n",
    "print(result_add.numpy())\n",
    "\n",
    "# Matrix addition using +\n",
    "result_add_op = matrix_a + matrix_b\n",
    "print(\"Matrix Addition Result (Op):\")\n",
    "print(result_add_op.numpy())"
   ]
  },
  {
   "cell_type": "code",
   "execution_count": 14,
   "id": "7903a499-18b9-4b42-ba4f-d8aba9c4114b",
   "metadata": {},
   "outputs": [
    {
     "name": "stdout",
     "output_type": "stream",
     "text": [
      "Matrix Addition Result:\n",
      "[[19 22]\n",
      " [43 50]]\n",
      "Matrix Addition Result (Op):\n",
      "[[ 5 12]\n",
      " [21 32]]\n"
     ]
    }
   ],
   "source": [
    "matrix_a = tf.constant([[1, 2], [3, 4]])\n",
    "matrix_b = tf.constant([[5, 6], [7, 8]])\n",
    "result_add = tf.matmul(matrix_a, matrix_b)\n",
    "print(\"Matrix Addition Result:\")\n",
    "print(result_add.numpy())\n",
    "\n",
    "# Matrix addition using +\n",
    "result_add_op = matrix_a * matrix_b\n",
    "print(\"Matrix Addition Result (Op):\")\n",
    "print(result_add_op.numpy())"
   ]
  },
  {
   "cell_type": "code",
   "execution_count": 19,
   "id": "559b40d9-f1f4-4882-90dd-2a5ff24471da",
   "metadata": {},
   "outputs": [
    {
     "name": "stdout",
     "output_type": "stream",
     "text": [
      "add [[ 6  8]\n",
      " [10 12]]\n",
      "div [[0.2        0.33333333]\n",
      " [0.42857143 0.5       ]]\n",
      "mul [[ 5 12]\n",
      " [21 32]]\n",
      "div [[0.2        0.33333333]\n",
      " [0.42857143 0.5       ]]\n"
     ]
    }
   ],
   "source": [
    "matrix_a = tf.constant([[1, 2], [3, 4]])\n",
    "matrix_b = tf.constant([[5, 6], [7, 8]])\n",
    "# Matrix  elementwise\n",
    "result_add_op = matrix_a + matrix_b\n",
    "result_div_op = matrix_a - matrix_b\n",
    "result_mul_op = matrix_a * matrix_b\n",
    "result_div_op = matrix_a / matrix_b\n",
    "print(\"add\",result_add_op.numpy())\n",
    "print(\"div\",result_div_op.numpy())\n",
    "print(\"mul\",result_mul_op.numpy())\n",
    "print(\"div\",result_div_op.numpy())"
   ]
  },
  {
   "cell_type": "markdown",
   "id": "6f71c29f-e8a4-4c44-8065-5f8c9a13744c",
   "metadata": {},
   "source": [
    "#### 4. Create a normal matrix A with dimensions 4x4, using TensorFlow's random_normal function. Display the values of matrix A"
   ]
  },
  {
   "cell_type": "code",
   "execution_count": 70,
   "id": "053e80c9-4638-4a34-a23e-05f6b5e845e6",
   "metadata": {},
   "outputs": [
    {
     "data": {
      "text/plain": [
       "<tf.Tensor: shape=(4, 4), dtype=float32, numpy=\n",
       "array([[-1.7376856 ,  0.607164  ,  0.85498244,  0.600156  ],\n",
       "       [-1.054437  ,  0.6212021 ,  1.4448001 ,  0.76276124],\n",
       "       [ 0.7136727 , -1.150614  ,  1.7849942 , -0.9582446 ],\n",
       "       [ 0.70901346, -0.44178343,  0.24696025, -1.8348274 ]],\n",
       "      dtype=float32)>"
      ]
     },
     "execution_count": 70,
     "metadata": {},
     "output_type": "execute_result"
    }
   ],
   "source": [
    "matirx_a=tf.random.normal(shape=(4,4))\n",
    "matirx_a"
   ]
  },
  {
   "cell_type": "markdown",
   "id": "be594b7f-33a2-4f93-82f0-177608b9141c",
   "metadata": {},
   "source": [
    "#### 5. Create a Gaussian matrix B with dimensions 4x4, using TensorFlow's truncated_normal function. Display the values of matrix b"
   ]
  },
  {
   "cell_type": "code",
   "execution_count": 71,
   "id": "6bd11111-f7c8-4b56-aa8b-56e6e4becd33",
   "metadata": {},
   "outputs": [
    {
     "name": "stdout",
     "output_type": "stream",
     "text": [
      "[[-1.1568284   1.234316   -1.3926697   0.5871198 ]\n",
      " [ 1.4279202  -0.20630702  1.6364379   0.2568684 ]\n",
      " [ 0.72015476 -0.09620837 -1.1391588   1.0138958 ]\n",
      " [ 0.25406006 -0.79838896  1.0643198  -0.28188702]]\n"
     ]
    }
   ],
   "source": [
    "matrix_b=tf.random.truncated_normal(shape=(4,4))\n",
    "print(matrix_b.numpy())"
   ]
  },
  {
   "cell_type": "markdown",
   "id": "bb7249e1-d854-4489-9239-290261139e37",
   "metadata": {},
   "source": [
    "#### 6.Create a matrix C with dimensions 4x4, where the values are drawn from a normal distribution with a mean of 3 and a standard deviation of 0.5, using TensorFlow's random.normal function. Display the values of matrix C"
   ]
  },
  {
   "cell_type": "code",
   "execution_count": 77,
   "id": "e33b0647-e83a-42c7-a194-cef8d5dd5af3",
   "metadata": {},
   "outputs": [
    {
     "data": {
      "text/plain": [
       "array([[3.4454095, 2.203536 , 3.6716542, 3.2304246],\n",
       "       [3.003105 , 2.6989632, 2.5642197, 2.768471 ],\n",
       "       [3.8363087, 3.005832 , 3.9116333, 3.4919682],\n",
       "       [3.5361207, 2.8015425, 3.0866156, 3.3784688]], dtype=float32)"
      ]
     },
     "execution_count": 77,
     "metadata": {},
     "output_type": "execute_result"
    }
   ],
   "source": [
    "matrix_c=tf.random.normal(shape=(4,4),mean=3,stddev=0.5)\n",
    "matrix_c.numpy()"
   ]
  },
  {
   "cell_type": "markdown",
   "id": "b5601846-c81b-4788-acd1-bc0e601310ca",
   "metadata": {},
   "source": [
    "### 7. Perform matrix addition between matrix A and matrix B, and store the result in matrix D"
   ]
  },
  {
   "cell_type": "code",
   "execution_count": 78,
   "id": "aefc9622-076b-415e-9fc5-3113de3a2d19",
   "metadata": {},
   "outputs": [
    {
     "data": {
      "text/plain": [
       "<tf.Tensor: shape=(4, 4), dtype=float32, numpy=\n",
       "array([[-2.894514  ,  1.84148   , -0.53768724,  1.1872759 ],\n",
       "       [ 0.37348318,  0.4148951 ,  3.081238  ,  1.0196296 ],\n",
       "       [ 1.4338274 , -1.2468224 ,  0.6458354 ,  0.05565113],\n",
       "       [ 0.9630735 , -1.2401724 ,  1.3112801 , -2.1167145 ]],\n",
       "      dtype=float32)>"
      ]
     },
     "execution_count": 78,
     "metadata": {},
     "output_type": "execute_result"
    }
   ],
   "source": [
    "matrix_d= tf.add(matirx_a,matrix_b)\n",
    "matrix_d"
   ]
  },
  {
   "cell_type": "markdown",
   "id": "0bb34694-27d6-4b2e-95ee-a49af78202d7",
   "metadata": {},
   "source": [
    "#### 8.Perform matrix multiplication between matrix C and matrix D, and store the result in matrix E."
   ]
  },
  {
   "cell_type": "code",
   "execution_count": 79,
   "id": "ebb2d840-03be-4d5b-a921-029edd08fc6f",
   "metadata": {},
   "outputs": [
    {
     "data": {
      "text/plain": [
       "<tf.Tensor: shape=(4, 4), dtype=float32, numpy=\n",
       "array([[-9.972787  ,  4.0577674 , -1.9742017 ,  3.8354053 ],\n",
       "       [ 1.1216092 ,  1.1197865 ,  7.9009714 ,  2.822815  ],\n",
       "       [ 5.5006046 , -3.7477386 ,  2.5262713 ,  0.19433197],\n",
       "       [ 3.405544  , -3.4743958 ,  4.0474176 , -7.1512537 ]],\n",
       "      dtype=float32)>"
      ]
     },
     "execution_count": 79,
     "metadata": {},
     "output_type": "execute_result"
    }
   ],
   "source": [
    "matrix_d= tf.multiply(matrix_c,matrix_d)\n",
    "matrix_d"
   ]
  },
  {
   "cell_type": "markdown",
   "id": "a9a6aaae-5be9-4db9-8f4e-097fc44843bc",
   "metadata": {},
   "source": [
    "- 1.Create a matrix F with dimensions 2x2, initialized with random values using TensorFlow's random_uniform function\n",
    "- 2.Calculate the transpose of matrix F and store the result in matrix G\n",
    "- 3.Calculate the elementDwise exponential of matrix F and store the result in matrix H\n",
    "- 4.Create a matrix I by concatenating matrix F and matrix G horizontally\n",
    "- 5.Create a matrix J by concatenating matrix F and matrix H vertically."
   ]
  },
  {
   "cell_type": "code",
   "execution_count": 62,
   "id": "3a759b95-8181-4e3e-b904-1b7a11b7225c",
   "metadata": {},
   "outputs": [
    {
     "data": {
      "text/plain": [
       "<tf.Tensor: shape=(2, 2), dtype=float32, numpy=\n",
       "array([[0.39829516, 4.5055666 ],\n",
       "       [1.9967251 , 1.8893516 ]], dtype=float32)>"
      ]
     },
     "execution_count": 62,
     "metadata": {},
     "output_type": "execute_result"
    }
   ],
   "source": [
    "matrix_f=tf.random.uniform(shape=(2,2),minval=0,maxval=6)\n",
    "matrix_f"
   ]
  },
  {
   "cell_type": "code",
   "execution_count": 63,
   "id": "3e2be377-0680-453e-a414-6f2147f0debc",
   "metadata": {},
   "outputs": [
    {
     "data": {
      "text/plain": [
       "<tf.Tensor: shape=(2, 2), dtype=float32, numpy=\n",
       "array([[0.39829516, 1.9967251 ],\n",
       "       [4.5055666 , 1.8893516 ]], dtype=float32)>"
      ]
     },
     "execution_count": 63,
     "metadata": {},
     "output_type": "execute_result"
    }
   ],
   "source": [
    "matrix_g=tf.transpose(matrix_f)\n",
    "matrix_g"
   ]
  },
  {
   "cell_type": "code",
   "execution_count": 64,
   "id": "6ca1cbbb-bdf3-4184-a0b3-7085fba11c53",
   "metadata": {},
   "outputs": [
    {
     "data": {
      "text/plain": [
       "<tf.Tensor: shape=(2, 2), dtype=float32, numpy=\n",
       "array([[ 1.4892836, 90.519615 ],\n",
       "       [ 7.3648973,  6.615078 ]], dtype=float32)>"
      ]
     },
     "execution_count": 64,
     "metadata": {},
     "output_type": "execute_result"
    }
   ],
   "source": [
    "matrix_h=tf.exp(matrix_f)\n",
    "matrix_h"
   ]
  },
  {
   "cell_type": "code",
   "execution_count": 65,
   "id": "79edca28-e6e4-410b-bfdc-abc6b566998c",
   "metadata": {},
   "outputs": [
    {
     "data": {
      "text/plain": [
       "<tf.Tensor: shape=(2, 4), dtype=float32, numpy=\n",
       "array([[0.39829516, 4.5055666 , 0.39829516, 1.9967251 ],\n",
       "       [1.9967251 , 1.8893516 , 4.5055666 , 1.8893516 ]], dtype=float32)>"
      ]
     },
     "execution_count": 65,
     "metadata": {},
     "output_type": "execute_result"
    }
   ],
   "source": [
    "matrix_i=tf.concat([matrix_f,matrix_g],axis=1)\n",
    "matrix_i"
   ]
  },
  {
   "cell_type": "code",
   "execution_count": 66,
   "id": "11341fbb-cc65-4316-b426-a0afa0228ea4",
   "metadata": {},
   "outputs": [
    {
     "data": {
      "text/plain": [
       "<tf.Tensor: shape=(2, 4), dtype=float32, numpy=\n",
       "array([[ 0.39829516,  4.5055666 ,  1.4892836 , 90.519615  ],\n",
       "       [ 1.9967251 ,  1.8893516 ,  7.3648973 ,  6.615078  ]],\n",
       "      dtype=float32)>"
      ]
     },
     "execution_count": 66,
     "metadata": {},
     "output_type": "execute_result"
    }
   ],
   "source": [
    "matrix_j=tf.concat([matrix_f,matrix_h],axis=1)\n",
    "matrix_j"
   ]
  },
  {
   "cell_type": "code",
   "execution_count": null,
   "id": "f23e2000-c27f-4b30-b1ce-039d7f88aa3a",
   "metadata": {},
   "outputs": [],
   "source": []
  }
 ],
 "metadata": {
  "kernelspec": {
   "display_name": "Python 3 (ipykernel)",
   "language": "python",
   "name": "python3"
  },
  "language_info": {
   "codemirror_mode": {
    "name": "ipython",
    "version": 3
   },
   "file_extension": ".py",
   "mimetype": "text/x-python",
   "name": "python",
   "nbconvert_exporter": "python",
   "pygments_lexer": "ipython3",
   "version": "3.9.12"
  }
 },
 "nbformat": 4,
 "nbformat_minor": 5
}
