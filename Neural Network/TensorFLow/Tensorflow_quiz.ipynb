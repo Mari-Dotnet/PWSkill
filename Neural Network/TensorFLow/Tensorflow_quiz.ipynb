{
 "cells": [
  {
   "cell_type": "markdown",
   "id": "de9215a8-a4cf-49d5-acad-3d36894577d1",
   "metadata": {
    "tags": []
   },
   "source": [
    "#### 1.How do you create a matrix in TensorFlow?\n",
    "- tf.constant()"
   ]
  },
  {
   "cell_type": "markdown",
   "id": "ef7ecb8a-1f80-45b9-b4df-0bcf34c0c1c7",
   "metadata": {
    "jp-MarkdownHeadingCollapsed": true,
    "tags": []
   },
   "source": [
    "#### Which TensorFlow function is used to perform element-wise addition of two matrices?\n",
    "- tf.add()"
   ]
  },
  {
   "cell_type": "markdown",
   "id": "f13a22f3-76a3-4ba0-9445-7aaffff4fe90",
   "metadata": {},
   "source": [
    "#### How do you perform matrix multiplication in TensorFlow?\n",
    "- tf.matmul()"
   ]
  },
  {
   "cell_type": "markdown",
   "id": "cd2694d4-53f4-43ca-b1c6-09ab7d648452",
   "metadata": {},
   "source": [
    "#### What is the difference between TensorFlow constants and variables?\n",
    "- Constants hold fixed values that cannot be changed, while variables are mutable and can be updated."
   ]
  },
  {
   "cell_type": "markdown",
   "id": "0a962584-f28c-44d9-81a5-2a95815088a3",
   "metadata": {},
   "source": [
    "#### How do you initialize a TensorFlow variable with random values?\n",
    "- tf.random_uniform()`"
   ]
  },
  {
   "cell_type": "markdown",
   "id": "3d464fe8-426f-45cc-9807-d852fb1535af",
   "metadata": {},
   "source": [
    "### How do you perform element-wise multiplication of two matrices in TensorFlow?\n",
    "- `tf.multiply()"
   ]
  },
  {
   "cell_type": "markdown",
   "id": "852bb882-e72a-4fd4-ac28-d1206e572334",
   "metadata": {},
   "source": [
    "#### How can you access the shape of a TensorFlow matrix?\n",
    "- tf.shape()"
   ]
  },
  {
   "cell_type": "markdown",
   "id": "a19c14c4-eb60-4f2e-8a14-2b5bc9a52e2f",
   "metadata": {},
   "source": [
    "### How do you reassign elements in a TensorFlow matrix?\n",
    "- By using the `tf.assign()` function"
   ]
  },
  {
   "cell_type": "markdown",
   "id": "7700a4c9-db3a-469d-be15-87697caa9d05",
   "metadata": {},
   "source": [
    "#### Which TensorFlow function is used to calculate the mean of a matrix along a specified axis?\n",
    "- tf.reduce_mean()"
   ]
  },
  {
   "cell_type": "markdown",
   "id": "b2f64222-f6b7-43dc-a2a5-e3ab160352c4",
   "metadata": {
    "tags": []
   },
   "source": [
    "#### How can you convert a TensorFlow tensor to a NumPy array?\n",
    "- tensor.numpy()"
   ]
  },
  {
   "cell_type": "markdown",
   "id": "15d3fb1d-ef41-42cb-b696-582ade874f6a",
   "metadata": {},
   "source": [
    "#### How do you create a zero-filled matrix of specific shape in TensorFlow?\n",
    "- tf.zeros()`"
   ]
  },
  {
   "cell_type": "markdown",
   "id": "1b05dc17-58d5-496c-a0c7-7cd168cac8a4",
   "metadata": {
    "jp-MarkdownHeadingCollapsed": true,
    "tags": []
   },
   "source": [
    "#### Which TensorFlow function is used to calculate the element-wise square root of a matrix?\n",
    "- tf.sqrt()`"
   ]
  }
 ],
 "metadata": {
  "kernelspec": {
   "display_name": "Python 3 (ipykernel)",
   "language": "python",
   "name": "python3"
  },
  "language_info": {
   "codemirror_mode": {
    "name": "ipython",
    "version": 3
   },
   "file_extension": ".py",
   "mimetype": "text/x-python",
   "name": "python",
   "nbconvert_exporter": "python",
   "pygments_lexer": "ipython3",
   "version": "3.9.12"
  }
 },
 "nbformat": 4,
 "nbformat_minor": 5
}
