{
 "cells": [
  {
   "cell_type": "code",
   "execution_count": 2,
   "id": "a0930b18-0497-4b51-bee5-ae8485516e27",
   "metadata": {},
   "outputs": [],
   "source": [
    "import tensorflow as tf"
   ]
  },
  {
   "cell_type": "markdown",
   "id": "00905160-abfb-41b6-a5f4-fea4c1ad29ec",
   "metadata": {},
   "source": [
    "## Constant"
   ]
  },
  {
   "cell_type": "code",
   "execution_count": 4,
   "id": "4bc28def-9fa5-4a30-b853-7bd4d5d130f1",
   "metadata": {},
   "outputs": [
    {
     "data": {
      "text/plain": [
       "<tf.Tensor: shape=(), dtype=int32, numpy=42>"
      ]
     },
     "execution_count": 4,
     "metadata": {},
     "output_type": "execute_result"
    }
   ],
   "source": [
    "cons=tf.constant(42)\n",
    "cons"
   ]
  },
  {
   "cell_type": "code",
   "execution_count": 6,
   "id": "b2c1a6d4-880a-4430-96f1-1ee5f1bb85e3",
   "metadata": {},
   "outputs": [
    {
     "data": {
      "text/plain": [
       "42"
      ]
     },
     "execution_count": 6,
     "metadata": {},
     "output_type": "execute_result"
    }
   ],
   "source": [
    "cons.numpy()"
   ]
  },
  {
   "cell_type": "code",
   "execution_count": 9,
   "id": "2757823a-40aa-4b97-b1a8-0de5e38ef9be",
   "metadata": {},
   "outputs": [
    {
     "data": {
      "text/plain": [
       "<tf.Tensor: shape=(), dtype=int64, numpy=1>"
      ]
     },
     "execution_count": 9,
     "metadata": {},
     "output_type": "execute_result"
    }
   ],
   "source": [
    "con_init=tf.constant(1,dtype=tf.int64)\n",
    "con_init"
   ]
  },
  {
   "cell_type": "code",
   "execution_count": 10,
   "id": "d90ddc2f-bbe2-4df1-8526-ec2d0e6d3a26",
   "metadata": {},
   "outputs": [
    {
     "data": {
      "text/plain": [
       "1"
      ]
     },
     "execution_count": 10,
     "metadata": {},
     "output_type": "execute_result"
    }
   ],
   "source": [
    "con_init.numpy()"
   ]
  },
  {
   "cell_type": "code",
   "execution_count": 11,
   "id": "9b3a0d55-dc55-484d-b66d-6028f8bda845",
   "metadata": {},
   "outputs": [
    {
     "data": {
      "text/plain": [
       "<tf.Tensor: shape=(2, 2), dtype=int32, numpy=\n",
       "array([[2, 2],\n",
       "       [4, 5]])>"
      ]
     },
     "execution_count": 11,
     "metadata": {},
     "output_type": "execute_result"
    }
   ],
   "source": [
    "con_init=tf.constant([[2,2],[4,5]])\n",
    "con_init"
   ]
  },
  {
   "cell_type": "code",
   "execution_count": 16,
   "id": "289b8e17-7523-45b8-9c76-9c9d8f2243a3",
   "metadata": {},
   "outputs": [
    {
     "data": {
      "text/plain": [
       "5"
      ]
     },
     "execution_count": 16,
     "metadata": {},
     "output_type": "execute_result"
    }
   ],
   "source": [
    "con_init.numpy()[1][1]"
   ]
  },
  {
   "cell_type": "code",
   "execution_count": 17,
   "id": "412ab261-5082-4ae3-b46c-ad898c4f96a1",
   "metadata": {},
   "outputs": [
    {
     "data": {
      "text/plain": [
       "tf.int32"
      ]
     },
     "execution_count": 17,
     "metadata": {},
     "output_type": "execute_result"
    }
   ],
   "source": [
    "con_init.dtype"
   ]
  },
  {
   "cell_type": "markdown",
   "id": "92e37466-a849-4f08-b732-9be28f58540d",
   "metadata": {},
   "source": [
    "## generaet the zeros and ones"
   ]
  },
  {
   "cell_type": "code",
   "execution_count": 18,
   "id": "b6539cd1-08dc-4dcc-849f-1edf0b53e14c",
   "metadata": {},
   "outputs": [
    {
     "data": {
      "text/plain": [
       "<tf.Tensor: shape=(2, 3), dtype=float32, numpy=\n",
       "array([[0., 0., 0.],\n",
       "       [0., 0., 0.]], dtype=float32)>"
      ]
     },
     "execution_count": 18,
     "metadata": {},
     "output_type": "execute_result"
    }
   ],
   "source": [
    "tf.zeros(shape=(2,3))"
   ]
  },
  {
   "cell_type": "code",
   "execution_count": 19,
   "id": "80de9fdb-3c51-4d45-bac4-0118f2dc6c73",
   "metadata": {},
   "outputs": [],
   "source": [
    "## multiple function"
   ]
  },
  {
   "cell_type": "code",
   "execution_count": 23,
   "id": "374eb11a-e69d-46b6-bbe1-8ed192b18ba8",
   "metadata": {},
   "outputs": [
    {
     "data": {
      "text/plain": [
       "<tf.Tensor: shape=(2, 3), dtype=int32, numpy=\n",
       "array([[ 7,  9, 11],\n",
       "       [13, 15, 17]])>"
      ]
     },
     "execution_count": 23,
     "metadata": {},
     "output_type": "execute_result"
    }
   ],
   "source": [
    "cons1=tf.constant([[1,2,3],[4,5,6]])\n",
    "cons2=tf.constant([[6,7,8],[9,10,11]])\n",
    "result=tf.add(cons1,cons2)\n",
    "result"
   ]
  },
  {
   "cell_type": "markdown",
   "id": "2083a54e-85bd-4da8-9adb-4807cdbfc512",
   "metadata": {},
   "source": [
    "## Random constant"
   ]
  },
  {
   "cell_type": "code",
   "execution_count": 24,
   "id": "a58ba982-fb63-40a0-89d1-2c9917a88d12",
   "metadata": {},
   "outputs": [
    {
     "data": {
      "text/plain": [
       "<tf.Tensor: shape=(2, 2), dtype=float32, numpy=\n",
       "array([[-0.07680674,  0.10144116],\n",
       "       [ 0.03545678, -0.06576454]], dtype=float32)>"
      ]
     },
     "execution_count": 24,
     "metadata": {},
     "output_type": "execute_result"
    }
   ],
   "source": [
    "tf.random.normal(shape=(2,2),mean=0,stddev=0.1)"
   ]
  },
  {
   "cell_type": "code",
   "execution_count": 26,
   "id": "1edbb5d4-5b55-4d90-a717-63115a541bcb",
   "metadata": {},
   "outputs": [
    {
     "data": {
      "text/plain": [
       "<tf.Tensor: shape=(2, 2), dtype=int64, numpy=\n",
       "array([[6, 3],\n",
       "       [4, 9]], dtype=int64)>"
      ]
     },
     "execution_count": 26,
     "metadata": {},
     "output_type": "execute_result"
    }
   ],
   "source": [
    "tf.random.uniform(shape=(2,2),minval=0,maxval=10,dtype=tf.int64)"
   ]
  },
  {
   "cell_type": "markdown",
   "id": "0cc19dfd-c3a3-4e91-b780-4f6b13066e34",
   "metadata": {},
   "source": [
    "### Variables"
   ]
  },
  {
   "cell_type": "code",
   "execution_count": 30,
   "id": "53e6c113-efe7-4dee-890f-2635048da7bd",
   "metadata": {},
   "outputs": [
    {
     "data": {
      "text/plain": [
       "(23, 45)"
      ]
     },
     "execution_count": 30,
     "metadata": {},
     "output_type": "execute_result"
    }
   ],
   "source": [
    "var0=23\n",
    "var1=tf.Variable(45)\n",
    "var0,var1.numpy()"
   ]
  },
  {
   "cell_type": "markdown",
   "id": "94eb8957-0a54-4509-8a7a-7dd45e0e028b",
   "metadata": {},
   "source": [
    "## Ranking"
   ]
  },
  {
   "cell_type": "code",
   "execution_count": 33,
   "id": "4c5e5487-e137-4161-b748-f3dba471aeb1",
   "metadata": {},
   "outputs": [
    {
     "data": {
      "text/plain": [
       "2"
      ]
     },
     "execution_count": 33,
     "metadata": {},
     "output_type": "execute_result"
    }
   ],
   "source": [
    "cons=tf.constant([[1,2,3],[4,5,6]])\n",
    "tf.rank(cons).numpy()"
   ]
  },
  {
   "cell_type": "code",
   "execution_count": 32,
   "id": "d8fde4ae-8746-4a59-93cb-0f8c9274c87c",
   "metadata": {},
   "outputs": [
    {
     "data": {
      "text/plain": [
       "TensorShape([2, 3])"
      ]
     },
     "execution_count": 32,
     "metadata": {},
     "output_type": "execute_result"
    }
   ],
   "source": [
    "cons.shape"
   ]
  },
  {
   "cell_type": "code",
   "execution_count": 34,
   "id": "982f9cca-0cf9-4355-bd6e-371b57be2fc5",
   "metadata": {},
   "outputs": [
    {
     "data": {
      "text/plain": [
       "array([[1, 2, 3],\n",
       "       [4, 5, 6]])"
      ]
     },
     "execution_count": 34,
     "metadata": {},
     "output_type": "execute_result"
    }
   ],
   "source": [
    "cons.numpy()"
   ]
  },
  {
   "cell_type": "code",
   "execution_count": 36,
   "id": "bcb9af7c-b6e0-489d-82b8-1062ec3384d9",
   "metadata": {},
   "outputs": [
    {
     "data": {
      "text/plain": [
       "6"
      ]
     },
     "execution_count": 36,
     "metadata": {},
     "output_type": "execute_result"
    }
   ],
   "source": [
    "tf.size([[1, 2, 3],\n",
    "       [4, 5, 6]]).numpy()"
   ]
  },
  {
   "cell_type": "code",
   "execution_count": 37,
   "id": "7a5106f1-6918-43ba-a131-c56ba61ec271",
   "metadata": {},
   "outputs": [
    {
     "data": {
      "text/plain": [
       "<tf.Tensor: shape=(2, 3), dtype=int32, numpy=\n",
       "array([[ 49,  81, 121],\n",
       "       [169, 225, 289]])>"
      ]
     },
     "execution_count": 37,
     "metadata": {},
     "output_type": "execute_result"
    }
   ],
   "source": [
    "cons1=tf.constant([[1,2,3],[4,5,6]])\n",
    "cons2=tf.constant([[6,7,8],[9,10,11]])\n",
    "result=tf.add(cons1,cons2)\n",
    "tf.square(result)"
   ]
  },
  {
   "cell_type": "markdown",
   "id": "e54f3d0a-f580-47cb-9262-290772bb1872",
   "metadata": {},
   "source": [
    "### Data type"
   ]
  },
  {
   "cell_type": "code",
   "execution_count": 39,
   "id": "d56371e4-1855-4baa-9362-3cad056cea8f",
   "metadata": {},
   "outputs": [],
   "source": [
    "a=10\n"
   ]
  },
  {
   "cell_type": "code",
   "execution_count": 41,
   "id": "a9e90855-91bd-4ab9-bd3a-9e400ed1e429",
   "metadata": {},
   "outputs": [
    {
     "data": {
      "text/plain": [
       "int"
      ]
     },
     "execution_count": 41,
     "metadata": {},
     "output_type": "execute_result"
    }
   ],
   "source": [
    "type(a)"
   ]
  },
  {
   "cell_type": "code",
   "execution_count": 45,
   "id": "3ee06977-8aba-416d-9f3b-655ce6187227",
   "metadata": {},
   "outputs": [],
   "source": [
    "b=tf.cast(a,dtype=tf.float16)"
   ]
  },
  {
   "cell_type": "code",
   "execution_count": 46,
   "id": "04b1ad5b-1604-4f48-8126-0a762508c96d",
   "metadata": {},
   "outputs": [
    {
     "data": {
      "text/plain": [
       "<tf.Tensor: shape=(), dtype=float16, numpy=10.0>"
      ]
     },
     "execution_count": 46,
     "metadata": {},
     "output_type": "execute_result"
    }
   ],
   "source": [
    "b"
   ]
  },
  {
   "cell_type": "code",
   "execution_count": 47,
   "id": "f79a03da-e388-4426-8c34-06bd849cba78",
   "metadata": {},
   "outputs": [
    {
     "data": {
      "text/plain": [
       "<tf.Tensor: shape=(4,), dtype=int32, numpy=array([4, 1, 0, 1])>"
      ]
     },
     "execution_count": 47,
     "metadata": {},
     "output_type": "execute_result"
    }
   ],
   "source": [
    "varx=[3,4,5,6]\n",
    "vary=5\n",
    "varz=tf.math.squared_difference(varx,vary)\n",
    "varz"
   ]
  },
  {
   "cell_type": "markdown",
   "id": "bbd14675-64b1-4f25-9aec-3c7065ea9f68",
   "metadata": {},
   "source": [
    "## mean "
   ]
  },
  {
   "cell_type": "code",
   "execution_count": 50,
   "id": "cc0cce3e-0477-4409-bbb8-0503dedccb65",
   "metadata": {},
   "outputs": [
    {
     "data": {
      "text/plain": [
       "<tf.Tensor: shape=(), dtype=int32, numpy=3>"
      ]
     },
     "execution_count": 50,
     "metadata": {},
     "output_type": "execute_result"
    }
   ],
   "source": [
    "num=[1,2,4,5,6]\n",
    "data=tf.reduce_mean(num)\n",
    "data"
   ]
  },
  {
   "cell_type": "code",
   "execution_count": 56,
   "id": "bf03e9f2-c7a9-43ed-b357-315ea09be8a2",
   "metadata": {},
   "outputs": [
    {
     "data": {
      "text/plain": [
       "<tf.Tensor: shape=(5,), dtype=float16, numpy=array([2. , 3. , 4.5, 5.5, 6.5], dtype=float16)>"
      ]
     },
     "execution_count": 56,
     "metadata": {},
     "output_type": "execute_result"
    }
   ],
   "source": [
    "num=tf.constant([[1,2,4,5,6],[3,4,5,6,7]],dtype=tf.float16)\n",
    "data=tf.reduce_mean(num,axis=0)\n",
    "data"
   ]
  },
  {
   "cell_type": "markdown",
   "id": "8fd058ed-6e5b-42be-bedb-cc322da0f024",
   "metadata": {},
   "source": [
    "## example of dice"
   ]
  },
  {
   "cell_type": "code",
   "execution_count": 64,
   "id": "389737d1-2c45-4935-a146-f144afe3b11c",
   "metadata": {},
   "outputs": [
    {
     "data": {
      "text/plain": [
       "<tf.Tensor: shape=(6, 3), dtype=int32, numpy=\n",
       "array([[5, 2, 7],\n",
       "       [2, 1, 3],\n",
       "       [2, 4, 6],\n",
       "       [1, 4, 5],\n",
       "       [2, 2, 4],\n",
       "       [4, 4, 8]])>"
      ]
     },
     "execution_count": 64,
     "metadata": {},
     "output_type": "execute_result"
    }
   ],
   "source": [
    "dice1=tf.random.uniform(shape=[6,1],minval=1,maxval=6,dtype=tf.int32)\n",
    "dice2=tf.random.uniform(shape=[6,1],minval=1,maxval=6,dtype=tf.int32)\n",
    "dice_sum=dice1+dice2\n",
    "\n",
    "result=tf.concat([dice1,dice2,dice_sum],axis=1)\n",
    "result"
   ]
  },
  {
   "cell_type": "code",
   "execution_count": 71,
   "id": "a124b26c-b310-402b-b412-0c3f6e4a7b64",
   "metadata": {},
   "outputs": [
    {
     "data": {
      "text/plain": [
       "9"
      ]
     },
     "execution_count": 71,
     "metadata": {},
     "output_type": "execute_result"
    }
   ],
   "source": [
    "tf5=tf.constant([3,4,5,6,7,8,9])\n",
    "resu=tf.argmax(tf5)\n",
    "tf5[resu.numpy()].numpy()"
   ]
  },
  {
   "cell_type": "code",
   "execution_count": 72,
   "id": "ce22a980-44de-4fff-b49c-cb17ec28b71a",
   "metadata": {},
   "outputs": [],
   "source": [
    "from datetime import datetime"
   ]
  },
  {
   "cell_type": "code",
   "execution_count": 75,
   "id": "dc4588ca-8e6e-417f-b1c9-7673ecffb600",
   "metadata": {},
   "outputs": [
    {
     "data": {
      "text/plain": [
       "'23_06_11'"
      ]
     },
     "execution_count": 75,
     "metadata": {},
     "output_type": "execute_result"
    }
   ],
   "source": [
    "datetime.now().strftime(\"%y_%m_%d\")"
   ]
  },
  {
   "cell_type": "markdown",
   "id": "8594c714-a2cc-4f5e-9a03-821b29aabc25",
   "metadata": {},
   "source": [
    "## Saving and restoring the values"
   ]
  },
  {
   "cell_type": "code",
   "execution_count": 84,
   "id": "de0c05d2-e54b-48ea-adc7-cfa58b32638f",
   "metadata": {},
   "outputs": [],
   "source": [
    "varible=tf.Variable([2,3,4])\n",
    "checkpoint=tf.train.Checkpoint(var=varible)\n",
    "savepath=checkpoint.save('./vars')"
   ]
  },
  {
   "cell_type": "code",
   "execution_count": 87,
   "id": "9c95e6db-355d-40e9-beca-d166ea440a68",
   "metadata": {},
   "outputs": [
    {
     "data": {
      "text/plain": [
       "<tensorflow.python.checkpoint.checkpoint.CheckpointLoadStatus at 0x2362237c430>"
      ]
     },
     "execution_count": 87,
     "metadata": {},
     "output_type": "execute_result"
    }
   ],
   "source": [
    "checkpoint.restore(savepath)"
   ]
  },
  {
   "cell_type": "markdown",
   "id": "269b0720-8a9d-4edd-8527-868029b6e59d",
   "metadata": {},
   "source": [
    "## Gradient Decent"
   ]
  },
  {
   "cell_type": "code",
   "execution_count": 88,
   "id": "9c3aaa54-90e3-426e-840d-cedc10832b7e",
   "metadata": {},
   "outputs": [],
   "source": [
    "a=tf.random.uniform(shape=(2,2))\n",
    "b=tf.random.uniform(shape=(2,2))"
   ]
  },
  {
   "cell_type": "code",
   "execution_count": 89,
   "id": "17bdb423-fe23-48cf-a9a5-850b40e29f2d",
   "metadata": {},
   "outputs": [
    {
     "name": "stdout",
     "output_type": "stream",
     "text": [
      "tf.Tensor(\n",
      "[[0.8662174  0.3121996 ]\n",
      " [0.04481037 0.80714464]], shape=(2, 2), dtype=float32)\n"
     ]
    }
   ],
   "source": [
    "with tf.GradientTape() as tape:\n",
    "    tape.watch(a)\n",
    "    c=tf.sqrt(tf.square(a)+tf.square(b))\n",
    "    dc_da=tape.gradient(c,a)\n",
    "    print(dc_da)"
   ]
  },
  {
   "cell_type": "code",
   "execution_count": 92,
   "id": "08c71260-4216-404f-bdaf-ccaa37da5868",
   "metadata": {},
   "outputs": [
    {
     "name": "stdout",
     "output_type": "stream",
     "text": [
      "tf.Tensor(\n",
      "[[0.8662174  0.3121996 ]\n",
      " [0.04481037 0.80714464]], shape=(2, 2), dtype=float32)\n"
     ]
    }
   ],
   "source": [
    "a=tf.Variable(a)\n",
    "with tf.GradientTape() as tape:\n",
    "    c=tf.sqrt(tf.square(a)+tf.square(b))\n",
    "    dc_da=tape.gradient(c,a)\n",
    "    print(dc_da)"
   ]
  },
  {
   "cell_type": "code",
   "execution_count": null,
   "id": "931b9aab-c272-4865-95e8-336bddccc9f1",
   "metadata": {},
   "outputs": [],
   "source": []
  }
 ],
 "metadata": {
  "kernelspec": {
   "display_name": "Python 3 (ipykernel)",
   "language": "python",
   "name": "python3"
  },
  "language_info": {
   "codemirror_mode": {
    "name": "ipython",
    "version": 3
   },
   "file_extension": ".py",
   "mimetype": "text/x-python",
   "name": "python",
   "nbconvert_exporter": "python",
   "pygments_lexer": "ipython3",
   "version": "3.9.12"
  }
 },
 "nbformat": 4,
 "nbformat_minor": 5
}
