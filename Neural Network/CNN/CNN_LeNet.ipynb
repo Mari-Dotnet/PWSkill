{
 "cells": [
  {
   "cell_type": "code",
   "execution_count": 1,
   "id": "34f54300-449c-43a5-90bb-fb7bb7540a8c",
   "metadata": {},
   "outputs": [],
   "source": [
    "import tensorflow as tf"
   ]
  },
  {
   "cell_type": "code",
   "execution_count": 2,
   "id": "fb6f2606-4e30-45a0-b5f4-2f8c936114e9",
   "metadata": {},
   "outputs": [],
   "source": [
    "from tensorflow.keras.datasets import mnist"
   ]
  },
  {
   "cell_type": "code",
   "execution_count": 3,
   "id": "b0df9f00-66a7-4769-92bf-232a97d5f9be",
   "metadata": {},
   "outputs": [],
   "source": [
    "from tensorflow import keras"
   ]
  },
  {
   "cell_type": "code",
   "execution_count": 4,
   "id": "86135438-70e6-4ebb-a0af-755ff1e66acd",
   "metadata": {},
   "outputs": [],
   "source": [
    "##loading the dataset\n",
    "(X_train,y_train),(X_test,y_test)=mnist.load_data()"
   ]
  },
  {
   "cell_type": "code",
   "execution_count": 7,
   "id": "1a75eee2-a29f-4ded-976f-820a3934a6e9",
   "metadata": {},
   "outputs": [],
   "source": [
    "## Reshaping operation\n",
    "X_train=X_train.reshape(X_train.shape[0],28,28,1)\n",
    "X_test=X_test.reshape(X_test.shape[0],28,28,1)"
   ]
  },
  {
   "cell_type": "code",
   "execution_count": 8,
   "id": "efbf18d8-c618-42e5-99b8-241e38738ab9",
   "metadata": {},
   "outputs": [],
   "source": [
    "##Normalization\n",
    "X_train=X_train/255\n",
    "X_test=X_test/255"
   ]
  },
  {
   "cell_type": "code",
   "execution_count": 9,
   "id": "ba4cc99a-9bf3-46c3-b548-972e44d60cf3",
   "metadata": {},
   "outputs": [],
   "source": [
    "## One hot encoding for categorical\n",
    "y_train=keras.utils.to_categorical(y_train,num_classes=10)\n",
    "y_test=keras.utils.to_categorical(y_test,num_classes=10)"
   ]
  },
  {
   "cell_type": "code",
   "execution_count": 20,
   "id": "63a2a5f0-6243-43e8-b60d-d54f716e20ee",
   "metadata": {},
   "outputs": [],
   "source": [
    "## Building the model architecture\n",
    "model=keras.Sequential()"
   ]
  },
  {
   "cell_type": "code",
   "execution_count": 21,
   "id": "31b626c5-563a-4ad9-b08d-79fce5152ba1",
   "metadata": {},
   "outputs": [],
   "source": [
    "model.add(keras.layers.Conv2D(6,kernel_size=(5,5),activation='relu',input_shape=(28,28,1)))"
   ]
  },
  {
   "cell_type": "code",
   "execution_count": 22,
   "id": "e0c31c2c-5f21-40f6-8fab-5ea785f4048b",
   "metadata": {},
   "outputs": [],
   "source": [
    "##max pooling layes doesn't have any learnable parameter its only get max values form the 2*2 size\n",
    "model.add(keras.layers.MaxPooling2D(pool_size=(2,2)))"
   ]
  },
  {
   "cell_type": "code",
   "execution_count": 23,
   "id": "0729986f-739b-4e0b-bf28-82ef84e4ad99",
   "metadata": {},
   "outputs": [],
   "source": [
    "model.add(keras.layers.Conv2D(16,kernel_size=(5,5),activation='relu'))"
   ]
  },
  {
   "cell_type": "code",
   "execution_count": 24,
   "id": "81148fbf-8795-4f2e-82d6-255d70289315",
   "metadata": {},
   "outputs": [],
   "source": [
    "model.add(keras.layers.MaxPooling2D(pool_size=(2,2)))"
   ]
  },
  {
   "cell_type": "code",
   "execution_count": 25,
   "id": "76a95db6-f714-40f1-936e-004a516cea1a",
   "metadata": {},
   "outputs": [],
   "source": [
    "model.add(keras.layers.Flatten())"
   ]
  },
  {
   "cell_type": "code",
   "execution_count": 26,
   "id": "067227f1-fab8-45f5-b6f6-e3b5f064f5fb",
   "metadata": {},
   "outputs": [],
   "source": [
    "model.add(keras.layers.Dense(84,activation='relu'))"
   ]
  },
  {
   "cell_type": "code",
   "execution_count": 27,
   "id": "d622a2cc-79e9-4703-bb40-fcddaec310e6",
   "metadata": {},
   "outputs": [],
   "source": [
    "model.add(keras.layers.Dense(10,activation='softmax'))"
   ]
  },
  {
   "cell_type": "code",
   "execution_count": 28,
   "id": "85bdb112-0faa-45ef-a37d-f43e54b8ffa1",
   "metadata": {},
   "outputs": [
    {
     "name": "stdout",
     "output_type": "stream",
     "text": [
      "Model: \"sequential_1\"\n",
      "_________________________________________________________________\n",
      " Layer (type)                Output Shape              Param #   \n",
      "=================================================================\n",
      " conv2d_2 (Conv2D)           (None, 24, 24, 6)         156       \n",
      "                                                                 \n",
      " max_pooling2d_3 (MaxPooling  (None, 12, 12, 6)        0         \n",
      " 2D)                                                             \n",
      "                                                                 \n",
      " conv2d_3 (Conv2D)           (None, 8, 8, 16)          2416      \n",
      "                                                                 \n",
      " max_pooling2d_4 (MaxPooling  (None, 4, 4, 16)         0         \n",
      " 2D)                                                             \n",
      "                                                                 \n",
      " flatten_1 (Flatten)         (None, 256)               0         \n",
      "                                                                 \n",
      " dense_1 (Dense)             (None, 84)                21588     \n",
      "                                                                 \n",
      " dense_2 (Dense)             (None, 10)                850       \n",
      "                                                                 \n",
      "=================================================================\n",
      "Total params: 25,010\n",
      "Trainable params: 25,010\n",
      "Non-trainable params: 0\n",
      "_________________________________________________________________\n"
     ]
    }
   ],
   "source": [
    "model.summary()"
   ]
  },
  {
   "cell_type": "code",
   "execution_count": 29,
   "id": "28067e2e-91c3-4ac8-bb24-c34d6a8fa3b2",
   "metadata": {},
   "outputs": [],
   "source": [
    "model.compile(optimizer='adam',metrics='accuracy',loss=keras.metrics.categorical_crossentropy)"
   ]
  },
  {
   "cell_type": "code",
   "execution_count": 30,
   "id": "8914268c-3768-4948-a8f3-040f9780c84b",
   "metadata": {},
   "outputs": [
    {
     "name": "stdout",
     "output_type": "stream",
     "text": [
      "Epoch 1/10\n",
      "469/469 [==============================] - 13s 23ms/step - loss: 0.3519 - accuracy: 0.8974 - val_loss: 0.1064 - val_accuracy: 0.9652\n",
      "Epoch 2/10\n",
      "469/469 [==============================] - 11s 23ms/step - loss: 0.0963 - accuracy: 0.9715 - val_loss: 0.0676 - val_accuracy: 0.9791\n",
      "Epoch 3/10\n",
      "469/469 [==============================] - 11s 22ms/step - loss: 0.0695 - accuracy: 0.9787 - val_loss: 0.0574 - val_accuracy: 0.9819\n",
      "Epoch 4/10\n",
      "469/469 [==============================] - 13s 28ms/step - loss: 0.0571 - accuracy: 0.9825 - val_loss: 0.0476 - val_accuracy: 0.9840\n",
      "Epoch 5/10\n",
      "469/469 [==============================] - 13s 27ms/step - loss: 0.0479 - accuracy: 0.9847 - val_loss: 0.0419 - val_accuracy: 0.9868\n",
      "Epoch 6/10\n",
      "469/469 [==============================] - 14s 30ms/step - loss: 0.0403 - accuracy: 0.9875 - val_loss: 0.0401 - val_accuracy: 0.9869\n",
      "Epoch 7/10\n",
      "469/469 [==============================] - 14s 31ms/step - loss: 0.0360 - accuracy: 0.9886 - val_loss: 0.0344 - val_accuracy: 0.9889\n",
      "Epoch 8/10\n",
      "469/469 [==============================] - 13s 28ms/step - loss: 0.0320 - accuracy: 0.9897 - val_loss: 0.0443 - val_accuracy: 0.9851\n",
      "Epoch 9/10\n",
      "469/469 [==============================] - 18s 38ms/step - loss: 0.0288 - accuracy: 0.9906 - val_loss: 0.0370 - val_accuracy: 0.9877\n",
      "Epoch 10/10\n",
      "469/469 [==============================] - 19s 40ms/step - loss: 0.0265 - accuracy: 0.9911 - val_loss: 0.0395 - val_accuracy: 0.9870\n"
     ]
    },
    {
     "data": {
      "text/plain": [
       "<keras.callbacks.History at 0x14100a1ed90>"
      ]
     },
     "execution_count": 30,
     "metadata": {},
     "output_type": "execute_result"
    }
   ],
   "source": [
    "model.fit(X_train,y_train,batch_size=128,epochs=10,verbose=1,validation_data=(X_test,y_test))"
   ]
  },
  {
   "cell_type": "code",
   "execution_count": 33,
   "id": "0080e3fc-5654-4e89-9fed-19cca1e8eae1",
   "metadata": {},
   "outputs": [],
   "source": [
    "from sklearn.metrics import accuracy_score"
   ]
  },
  {
   "cell_type": "code",
   "execution_count": 36,
   "id": "405abf49-95b1-4450-89cc-0efaed63c260",
   "metadata": {},
   "outputs": [
    {
     "name": "stdout",
     "output_type": "stream",
     "text": [
      "313/313 [==============================] - 3s 9ms/step\n"
     ]
    }
   ],
   "source": [
    "y_pred=model.predict(X_test)"
   ]
  },
  {
   "cell_type": "code",
   "execution_count": 39,
   "id": "bf02d083-a12b-4a91-a3c1-36ee1cd84fd7",
   "metadata": {},
   "outputs": [
    {
     "name": "stdout",
     "output_type": "stream",
     "text": [
      "313/313 [==============================] - 3s 10ms/step - loss: 0.0395 - accuracy: 0.9870\n"
     ]
    }
   ],
   "source": [
    "score=model.evaluate(X_test,y_test)"
   ]
  },
  {
   "cell_type": "code",
   "execution_count": 40,
   "id": "5962409c-ba1d-4e1f-9a42-d7fb94357911",
   "metadata": {},
   "outputs": [
    {
     "data": {
      "text/plain": [
       "array([2.1174140e-08, 5.4149428e-08, 2.2589854e-06, 5.8386736e-06,\n",
       "       7.0762205e-09, 6.2227795e-10, 2.7299916e-15, 9.9998796e-01,\n",
       "       1.8758775e-09, 3.9887364e-06], dtype=float32)"
      ]
     },
     "execution_count": 40,
     "metadata": {},
     "output_type": "execute_result"
    }
   ],
   "source": [
    "y_pred[0]"
   ]
  },
  {
   "cell_type": "code",
   "execution_count": 42,
   "id": "9075c324-615a-4bbb-a4a0-cc551ff20468",
   "metadata": {},
   "outputs": [
    {
     "data": {
      "text/plain": [
       "array([0., 0., 0., 0., 0., 0., 0., 1., 0., 0.], dtype=float32)"
      ]
     },
     "execution_count": 42,
     "metadata": {},
     "output_type": "execute_result"
    }
   ],
   "source": [
    "y_test[0]"
   ]
  },
  {
   "cell_type": "code",
   "execution_count": 44,
   "id": "789749f8-9858-4e09-851d-e2592d150289",
   "metadata": {},
   "outputs": [],
   "source": [
    "import numpy as np"
   ]
  },
  {
   "cell_type": "code",
   "execution_count": 45,
   "id": "5f1a8137-8a5f-4b5b-84fc-72525b16af84",
   "metadata": {},
   "outputs": [
    {
     "data": {
      "text/plain": [
       "7"
      ]
     },
     "execution_count": 45,
     "metadata": {},
     "output_type": "execute_result"
    }
   ],
   "source": [
    "np.argmax(y_pred[0])"
   ]
  },
  {
   "cell_type": "code",
   "execution_count": null,
   "id": "68f95704-d71f-4832-ad45-ba3bf49556cd",
   "metadata": {},
   "outputs": [],
   "source": []
  }
 ],
 "metadata": {
  "kernelspec": {
   "display_name": "Python 3 (ipykernel)",
   "language": "python",
   "name": "python3"
  },
  "language_info": {
   "codemirror_mode": {
    "name": "ipython",
    "version": 3
   },
   "file_extension": ".py",
   "mimetype": "text/x-python",
   "name": "python",
   "nbconvert_exporter": "python",
   "pygments_lexer": "ipython3",
   "version": "3.9.12"
  }
 },
 "nbformat": 4,
 "nbformat_minor": 5
}
