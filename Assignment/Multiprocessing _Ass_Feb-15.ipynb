{
 "cells": [
  {
   "cell_type": "markdown",
   "id": "f2dbfe63-e0be-4c44-8d3f-169c96569aca",
   "metadata": {},
   "source": [
    "#### Q1. What is multiprocessing in python?\n",
    "- multiprocessing is used to run the multiple process simultanesouly using multiple cpu cores.\n",
    "####  Why is it useful?\n",
    "- To imporving the performance and speed of the program using full power of the system"
   ]
  },
  {
   "cell_type": "markdown",
   "id": "3bbadca6-7714-415b-8f8a-6f9246a83452",
   "metadata": {},
   "source": [
    "#### Q2. What are the differences between multiprocessing and multithreading?\n",
    "- multithreads of single process executed simultanesously\n",
    "- multiple process are executed simultanesouly\n",
    "\n",
    "- multiprcoess: each prccess has its own memory space, memory usuage is high\n",
    "- multithreading: threads are shared same memory space , memory usuage is low."
   ]
  },
  {
   "cell_type": "markdown",
   "id": "8cd8c667-bfbe-4e18-a517-8d3fdbee82dc",
   "metadata": {},
   "source": [
    "#### Q3. Write a python code to create a process using the multiprocessing module."
   ]
  },
  {
   "cell_type": "code",
   "execution_count": 3,
   "id": "a76b4a96-b21e-495d-9729-3ff66827098e",
   "metadata": {},
   "outputs": [],
   "source": [
    "import multiprocessing"
   ]
  },
  {
   "cell_type": "code",
   "execution_count": 7,
   "id": "2652059a-2ea9-451c-8068-20a431c96a21",
   "metadata": {},
   "outputs": [],
   "source": [
    "def processdata():\n",
    "    print(\"This is multiprocessing\")"
   ]
  },
  {
   "cell_type": "code",
   "execution_count": null,
   "id": "a72b9f21-53ce-41de-8cb5-32dcc461de23",
   "metadata": {},
   "outputs": [],
   "source": [
    "if __name__==\"__main__\":\n",
    "    m=multiprocessing.Process(target=processdata)\n",
    "    print(\"this is my parent\")\n",
    "    m.start()\n",
    "    m.join()"
   ]
  },
  {
   "cell_type": "markdown",
   "id": "fc84b0cb-20c2-4d46-b501-55a1aea4bd73",
   "metadata": {},
   "source": [
    "#### Q4. What is a multiprocessing pool in python? \n",
    "- A multiprocessing pool in Python is a way of spreading tasks across multiple processors or CPU cores. It is used to parallelize the execution of a function across multiple input values in a collection, such as a list or tuple.\n",
    "#### Why is it used?\n",
    "\n",
    "- The multiprocessing pool in Python is created using the multiprocessing.Pool class. The number of processors or cores to be used can be specified when the pool is created, or the pool can be allowed to use all available processors or cores by default. Once the pool is created, a function can be mapped to the pool using the map() method, which distributes the input values to the processors or cores in the pool and executes the function on each value. The results are returned as a list of output values in the same order as the input values."
   ]
  },
  {
   "cell_type": "markdown",
   "id": "9df0358b-0ad4-4071-9754-8e6ef469c5cf",
   "metadata": {},
   "source": [
    "#### Q5. How can we create a pool of worker processes in python using the multiprocessing module?"
   ]
  },
  {
   "cell_type": "code",
   "execution_count": 14,
   "id": "fb8bfb8f-16d8-44d1-abf3-2d5cf9be3f98",
   "metadata": {},
   "outputs": [],
   "source": [
    "def  square(n):\n",
    "    return n*n"
   ]
  },
  {
   "cell_type": "code",
   "execution_count": null,
   "id": "b2b5d09a-6431-4b23-ac2a-8d345bbce947",
   "metadata": {},
   "outputs": [],
   "source": [
    "if __name__==\"__main__\":\n",
    "    with multiprocessing.Pool(processes=4) as pol:\n",
    "        out=pol.map(square[1,2,3,4,5])\n",
    "        print(out)"
   ]
  },
  {
   "cell_type": "code",
   "execution_count": 17,
   "id": "247a8a37-b22f-4743-9108-69944e34d683",
   "metadata": {},
   "outputs": [
    {
     "name": "stdout",
     "output_type": "stream",
     "text": [
      "9\n"
     ]
    }
   ],
   "source": [
    "print(square(3))"
   ]
  },
  {
   "cell_type": "markdown",
   "id": "06640170-abd3-4e27-b036-3e83ff4358fe",
   "metadata": {},
   "source": [
    "#### Q6. Write a python program to create 4 processes, each process should print a different number using multiprocessing module in python."
   ]
  },
  {
   "cell_type": "code",
   "execution_count": 21,
   "id": "b72509e6-1f4a-486f-8784-a285e2bc38d9",
   "metadata": {},
   "outputs": [],
   "source": [
    "def proc1(x):\n",
    "    print(\"the first process %d \" %x)\n",
    "\n",
    "def proc2(x):\n",
    "    print(\"the first process %d \" %x)\n",
    "\n",
    "def proc3(x):\n",
    "    print(\"the first process %d \" %x)\n",
    "\n",
    "def proc4(x):\n",
    "    print(\"the first process %d \" %x)"
   ]
  },
  {
   "cell_type": "code",
   "execution_count": 26,
   "id": "52634285-2875-42d1-aed5-90f59a063d01",
   "metadata": {},
   "outputs": [],
   "source": [
    "if __name__==\"__main__\":\n",
    "    m1=multiprocessing.Process(target=proc1, args=(4,))\n",
    "    m2=multiprocessing.Process(target=proc1, args=(6,))\n",
    "    m3=multiprocessing.Process(target=proc1, args=(7,))\n",
    "    m4=multiprocessing.Process(target=proc1, args=(9,))\n",
    "    m1.start()\n",
    "    m2.start()\n",
    "    m3.start()\n",
    "    m4.start()\n",
    "    m1.join()\n",
    "    m2.join()\n",
    "    m3.join()\n",
    "    m4.join()   "
   ]
  },
  {
   "cell_type": "code",
   "execution_count": null,
   "id": "723daf41-1387-4670-89a7-acab91c13556",
   "metadata": {},
   "outputs": [],
   "source": [
    "The  line 26 o/p is : In my local jupyter multiprocessing not working:\n",
    "the first process 4 \n",
    "the first process 6 \n",
    "the first process 7 \n",
    "the first process 9 "
   ]
  },
  {
   "cell_type": "code",
   "execution_count": null,
   "id": "59af0945-71cd-4ce0-983a-e5a60cb45bea",
   "metadata": {},
   "outputs": [],
   "source": []
  }
 ],
 "metadata": {
  "kernelspec": {
   "display_name": "Python 3 (ipykernel)",
   "language": "python",
   "name": "python3"
  },
  "language_info": {
   "codemirror_mode": {
    "name": "ipython",
    "version": 3
   },
   "file_extension": ".py",
   "mimetype": "text/x-python",
   "name": "python",
   "nbconvert_exporter": "python",
   "pygments_lexer": "ipython3",
   "version": "3.9.12"
  }
 },
 "nbformat": 4,
 "nbformat_minor": 5
}
