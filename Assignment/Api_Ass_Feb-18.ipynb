{
 "cells": [
  {
   "cell_type": "markdown",
   "id": "be047ed0-4469-48d5-8d83-4b3720fb1e66",
   "metadata": {},
   "source": [
    "#### Q1. What is an API? Give an example, where an API is used in real life.\n",
    "- API : application programing interface\n",
    "- The API used to data transfer from different system\n",
    "- Gpay, Phonebe"
   ]
  },
  {
   "cell_type": "markdown",
   "id": "66d8103d-9c0f-4905-bf09-18f035035024",
   "metadata": {},
   "source": [
    "#### Q2.advantages of API\n",
    "- Rest api is easy to understand and learn  and easy to explore and discover\n",
    "- use standard  http procedure call to retrive the request\n",
    "- serializing  datein  XML and Json \n",
    "- high load can be manage using http proxy and server and cache\n",
    "#### disadvantages API.\n",
    "- low security \n",
    "- lack of state"
   ]
  },
  {
   "cell_type": "markdown",
   "id": "1585d27a-4993-494d-8b23-9cc460d00ec9",
   "metadata": {},
   "source": [
    "#### Q3. What is a Web API? \n",
    "- A Web API, also known as a web service, is an API that is accessed over a network connection through the HTTP protocol.\n",
    "\n",
    "#### Differentiate between API and Web API.\n",
    "- web API is specifically designed to be accessed over the internetwhile an API can be accessed from within a single application or across a network."
   ]
  },
  {
   "cell_type": "markdown",
   "id": "3e3134c0-104e-485f-9c3a-b036ca2a285d",
   "metadata": {
    "tags": []
   },
   "source": [
    "#### Q4. Explain REST and SOAP Architecture. \n",
    "\n",
    "REST Architecture:\n",
    "\n",
    "REST is a lightweight, flexible architectural style that uses standard HTTP methods (GET, POST, PUT, DELETE, etc.) to perform operations on data resources. RESTful APIs are designed to be stateless, meaning that each request contains all the information necessary for the server to understand and respond to it. REST APIs use URLs to identify resources and return data in a variety of formats, such as JSON or XML.\n",
    "\n",
    "SOAP Architecture:\n",
    "\n",
    "SOAP is a more complex architectural style that uses XML to structure data and send messages between applications. SOAP APIs use the HTTP protocol to transport messages and can be used with a variety of other transport protocols. SOAP defines a standardized message format and protocol for exchanging data, and supports advanced features such as encryption, authentication, and reliable messaging.\n",
    "\n",
    "\n"
   ]
  },
  {
   "cell_type": "markdown",
   "id": "77c9485e-7ed3-4562-8104-326b6d536455",
   "metadata": {},
   "source": [
    "##### Q5. Differentiate between REST and SOAP."
   ]
  },
  {
   "cell_type": "markdown",
   "id": "272fc96e-aec1-4576-abfb-d928b080ef7a",
   "metadata": {},
   "source": [
    "- Soap uses XMl as message format , Rest support Json,XML and plain text\n",
    "- soap used diffferent protocal like http, smptp,tcp , Rest used only Http\n",
    "- soap used set of rules while sending and receiveing message on different application, Rest have http methods\n",
    "- Rest is faster and scalable , Soap have require less bandwidth"
   ]
  },
  {
   "cell_type": "code",
   "execution_count": null,
   "id": "f971787b-38f4-4f07-a04f-72ee2b5896c4",
   "metadata": {},
   "outputs": [],
   "source": []
  }
 ],
 "metadata": {
  "kernelspec": {
   "display_name": "Python 3 (ipykernel)",
   "language": "python",
   "name": "python3"
  },
  "language_info": {
   "codemirror_mode": {
    "name": "ipython",
    "version": 3
   },
   "file_extension": ".py",
   "mimetype": "text/x-python",
   "name": "python",
   "nbconvert_exporter": "python",
   "pygments_lexer": "ipython3",
   "version": "3.9.12"
  }
 },
 "nbformat": 4,
 "nbformat_minor": 5
}
