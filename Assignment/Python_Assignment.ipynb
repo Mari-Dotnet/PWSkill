{
 "cells": [
  {
   "cell_type": "markdown",
   "id": "bd59f3c0-bf62-4d38-8563-714844419fb3",
   "metadata": {},
   "source": [
    "#### Q1. Create a python program to sort the given list of tuples based on integer value using a lambda function. \n",
    "[('Sachin Tendulkar', 34357), ('Ricky Ponting', 27483), ('Jack Kallis', 25534), ('Virat Kohli', 24936)]"
   ]
  },
  {
   "cell_type": "code",
   "execution_count": 2,
   "id": "cab25990-ff60-4425-bf3b-01c4b6732542",
   "metadata": {},
   "outputs": [
    {
     "data": {
      "text/plain": [
       "[('Virat Kohli', 24936),\n",
       " ('Jack Kallis', 25534),\n",
       " ('Ricky Ponting', 27483),\n",
       " ('Sachin Tendulkar', 34357)]"
      ]
     },
     "execution_count": 2,
     "metadata": {},
     "output_type": "execute_result"
    }
   ],
   "source": [
    "records = [('Sachin Tendulkar', 34357), \n",
    "                  ('Ricky Ponting', 27483), \n",
    "                  ('Jack Kallis', 25534), \n",
    "                  ('Virat Kohli', 24936)]\n",
    "\n",
    "op=sorted(records,key=lambda x: x[1])\n",
    "op"
   ]
  },
  {
   "cell_type": "markdown",
   "id": "4a0ee085-69a1-4ba7-b10e-9469b2176c70",
   "metadata": {},
   "source": [
    "#### Q2. Write a Python Program to find the squares of all the numbers in the given list of integers using\n",
    "lambda and map functions.\n",
    "\n",
    "[1, 2, 3, 4, 5, 6, 7, 8, 9, 10]"
   ]
  },
  {
   "cell_type": "code",
   "execution_count": 6,
   "id": "e13425d7-71ca-4b98-a873-30dddf173bd4",
   "metadata": {},
   "outputs": [
    {
     "data": {
      "text/plain": [
       "[1, 4, 9, 16, 25, 36, 49, 64, 81, 100]"
      ]
     },
     "execution_count": 6,
     "metadata": {},
     "output_type": "execute_result"
    }
   ],
   "source": [
    "lst=[1, 2, 3, 4, 5, 6, 7, 8, 9, 10]\n",
    "square=list(map(lambda x: x**2,lst))\n",
    "square"
   ]
  },
  {
   "cell_type": "markdown",
   "id": "77cb8116-6c9d-4e5f-86dc-98df440d22b8",
   "metadata": {},
   "source": [
    " #### Q3. Write a python program to convert the given list of integers into a tuple of strings. Use map and  lambda functions\n",
    "\n",
    "\n",
    "Given String: [1, 2, 3, 4, 5, 6, 7, 8, 9, 10]\n",
    "\n",
    "Expected output: ('1', '2', '3', '4', '5', '6', '7', '8', '9', '10')"
   ]
  },
  {
   "cell_type": "code",
   "execution_count": 8,
   "id": "ae9c647a-3c62-4544-be58-ba92e49279d3",
   "metadata": {},
   "outputs": [
    {
     "data": {
      "text/plain": [
       "('1', '2', '3', '4', '5', '6', '7', '8', '9', '10')"
      ]
     },
     "execution_count": 8,
     "metadata": {},
     "output_type": "execute_result"
    }
   ],
   "source": [
    "given= [1, 2, 3, 4, 5, 6, 7, 8, 9, 10]\n",
    "str_op=tuple(map(lambda x:str(x), given))\n",
    "str_op"
   ]
  },
  {
   "cell_type": "markdown",
   "id": "598e4e95-fcf2-4710-8532-a5cc4ac7a565",
   "metadata": {},
   "source": [
    "#### Q4.  Write a python program using reduce function to compute the product of a list containing numbers\n",
    "#### from 1 to 25."
   ]
  },
  {
   "cell_type": "code",
   "execution_count": 17,
   "id": "6eaac79a-cc63-475b-9956-2a05b5a57efa",
   "metadata": {},
   "outputs": [],
   "source": [
    "from functools import reduce"
   ]
  },
  {
   "cell_type": "code",
   "execution_count": 25,
   "id": "bfcd73a7-6484-43fe-9c81-596c94768f8c",
   "metadata": {},
   "outputs": [
    {
     "data": {
      "text/plain": [
       "0"
      ]
     },
     "execution_count": 25,
     "metadata": {},
     "output_type": "execute_result"
    }
   ],
   "source": [
    "series=range(25)\n",
    "num=reduce(lambda x,y:x , range(25))\n",
    "num"
   ]
  },
  {
   "cell_type": "code",
   "execution_count": 21,
   "id": "e804d31c-8cfb-489d-b59d-f7c329f98f5d",
   "metadata": {},
   "outputs": [
    {
     "data": {
      "text/plain": [
       "range(0, 25)"
      ]
     },
     "execution_count": 21,
     "metadata": {},
     "output_type": "execute_result"
    }
   ],
   "source": [
    "series"
   ]
  },
  {
   "cell_type": "markdown",
   "id": "79b261c0-6217-4075-8e71-1baa65e529ab",
   "metadata": {},
   "source": [
    "#### Q5. Write a python program to filter the numbers in a given list that are divisible by 2 and 3 using the\n",
    "#### filter function.\n",
    "[2, 3, 6, 9, 27, 60, 90, 120, 55, 46]"
   ]
  },
  {
   "cell_type": "code",
   "execution_count": 27,
   "id": "dab95523-079a-48a2-a9f8-198df6060732",
   "metadata": {},
   "outputs": [],
   "source": [
    "div_num=[2, 3, 6, 9, 27, 60, 90, 120, 55, 46]"
   ]
  },
  {
   "cell_type": "code",
   "execution_count": 32,
   "id": "a4a7a1b4-37fd-4226-bf7b-dacda6b452c3",
   "metadata": {},
   "outputs": [
    {
     "data": {
      "text/plain": [
       "[6, 60, 90, 120]"
      ]
     },
     "execution_count": 32,
     "metadata": {},
     "output_type": "execute_result"
    }
   ],
   "source": [
    "list(filter(lambda x:x%2 == 0 and  x%3==0 ,div_num))"
   ]
  },
  {
   "cell_type": "markdown",
   "id": "a3ff7a2e-6456-4d49-aca2-e077df3f0b3e",
   "metadata": {},
   "source": [
    "#### Q6. Write a python program to find palindromes in the given list of strings using lambda and filter function."
   ]
  },
  {
   "cell_type": "code",
   "execution_count": 33,
   "id": "acd1395e-4daf-49d9-bdef-7b94e5c5583d",
   "metadata": {},
   "outputs": [],
   "source": [
    "str_name=['python', 'php', 'aba', 'radar', 'level']"
   ]
  },
  {
   "cell_type": "code",
   "execution_count": 37,
   "id": "90e6913f-8234-4b2a-9527-97d3704196ba",
   "metadata": {},
   "outputs": [
    {
     "data": {
      "text/plain": [
       "['php', 'aba', 'radar', 'level']"
      ]
     },
     "execution_count": 37,
     "metadata": {},
     "output_type": "execute_result"
    }
   ],
   "source": [
    "palin=list(filter(lambda x: x==x[::-1], str_name))\n",
    "palin"
   ]
  },
  {
   "cell_type": "code",
   "execution_count": null,
   "id": "edbae014-35ed-4d9b-84f1-5582344235d0",
   "metadata": {},
   "outputs": [],
   "source": []
  }
 ],
 "metadata": {
  "kernelspec": {
   "display_name": "Python 3 (ipykernel)",
   "language": "python",
   "name": "python3"
  },
  "language_info": {
   "codemirror_mode": {
    "name": "ipython",
    "version": 3
   },
   "file_extension": ".py",
   "mimetype": "text/x-python",
   "name": "python",
   "nbconvert_exporter": "python",
   "pygments_lexer": "ipython3",
   "version": "3.9.12"
  }
 },
 "nbformat": 4,
 "nbformat_minor": 5
}
