{
 "cells": [
  {
   "cell_type": "markdown",
   "id": "502a9850-5810-4cbc-8157-732ca83db4f2",
   "metadata": {},
   "source": [
    "#### Q1. What is Web Scraping?\n",
    "- web scrapping is used to get the data from website \n",
    "#### Why is it Used?\n",
    "- collect the data from different sites for research\n",
    "#### Give three areas where Web Scraping is used to get data.\n",
    "- Monitoring e-commerce prices.\n",
    "- Finding opportunities for investment.\n",
    "- Analyzing social media web data.\n",
    "- Applying machine learning techniques."
   ]
  },
  {
   "cell_type": "markdown",
   "id": "3586ddd3-37a6-4df6-8063-95a86d1b58ac",
   "metadata": {},
   "source": [
    "#### Q2. What are the different methods used for Web Scraping?\n",
    "- beautifulSoup\n",
    "- requests\n",
    "- urllib.reqest\n",
    " "
   ]
  },
  {
   "cell_type": "markdown",
   "id": "f563561b-e749-4475-932b-893dfa6f629f",
   "metadata": {},
   "source": [
    "#### Q3. What is Beautiful Soup?\n",
    "- Parsing the HTML/XML data\n",
    "#### Why is it used?\n",
    "- its provide the tree structure data of html and extract the data in-side the html.\n"
   ]
  },
  {
   "cell_type": "markdown",
   "id": "f019c9dd-9d51-473a-9442-d8d85fdf5a33",
   "metadata": {},
   "source": [
    "#### Q4. Why is flask used in this Web Scraping project?\n",
    "- we can create UI application using flask so user provide the input, based on the input we extract the data from differnt sites."
   ]
  },
  {
   "cell_type": "markdown",
   "id": "b1c1fdc7-f9d4-4b4d-bf5c-08bf15a2f118",
   "metadata": {},
   "source": [
    "#### Q5. Write the names of AWS services used in this project. Also, explain the use of each service.\n",
    "- code pipeline\n",
    "    - To give the source code to bean stalk (reosource)\n",
    "    - this code pipeline to get the code from git hub.\n",
    "- bean stalk\n",
    "    - its system , here we are hosting our application so we can access public"
   ]
  },
  {
   "cell_type": "code",
   "execution_count": null,
   "id": "dd8e7386-ef74-4e0d-88cf-7c68dd46e6de",
   "metadata": {},
   "outputs": [],
   "source": []
  }
 ],
 "metadata": {
  "kernelspec": {
   "display_name": "Python 3 (ipykernel)",
   "language": "python",
   "name": "python3"
  },
  "language_info": {
   "codemirror_mode": {
    "name": "ipython",
    "version": 3
   },
   "file_extension": ".py",
   "mimetype": "text/x-python",
   "name": "python",
   "nbconvert_exporter": "python",
   "pygments_lexer": "ipython3",
   "version": "3.9.12"
  }
 },
 "nbformat": 4,
 "nbformat_minor": 5
}
