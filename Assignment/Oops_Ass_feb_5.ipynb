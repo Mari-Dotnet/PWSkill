{
 "cells": [
  {
   "cell_type": "markdown",
   "id": "73009534-0755-41b9-a868-fd4b6884101c",
   "metadata": {},
   "source": [
    "#### Q1. Explain Class and Object with respect to Object-Oriented Programming. Give a suitable example."
   ]
  },
  {
   "cell_type": "markdown",
   "id": "d2dbca75-0cc6-4b6a-a95a-c9ddc3782bb1",
   "metadata": {},
   "source": [
    "Classes are user-defined data types that act as the blueprint for individual objects, attributes and methods. Objects are instances of a class created with specifically defined data."
   ]
  },
  {
   "cell_type": "code",
   "execution_count": 1,
   "id": "90cf02fb-3976-40db-b01e-ff7869009c2f",
   "metadata": {},
   "outputs": [],
   "source": [
    "class car:\n",
    "    def __init__(self,carname,color,mfyear):\n",
    "        self.CarName=carname\n",
    "        self.Color=color\n",
    "        self.MFYear=mfyear\n",
    "        \n",
    "    def cardetails(self):\n",
    "        print(self.CarName,self.Color,self.MFYear)"
   ]
  },
  {
   "cell_type": "code",
   "execution_count": 3,
   "id": "8f0b1245-2ec2-4f7a-8e5f-2be623941e63",
   "metadata": {},
   "outputs": [],
   "source": [
    "car_obj=car(\"Audi\",\"White\",2023)"
   ]
  },
  {
   "cell_type": "code",
   "execution_count": 5,
   "id": "c190020a-f3e3-4a44-9c6b-b1bb2d1e8f44",
   "metadata": {},
   "outputs": [
    {
     "name": "stdout",
     "output_type": "stream",
     "text": [
      "Audi White 2023\n"
     ]
    }
   ],
   "source": [
    "car_obj.cardetails()"
   ]
  },
  {
   "cell_type": "markdown",
   "id": "a68dae42-c83f-43fa-b651-593ef1872716",
   "metadata": {},
   "source": [
    "#### Q2. Name the four pillars of OOPs."
   ]
  },
  {
   "cell_type": "markdown",
   "id": "d4ff1851-ff5e-4885-ba48-ae095037b3b6",
   "metadata": {},
   "source": [
    "Abstraction\n",
    "Encapsulation\n",
    "Inheritance\n",
    "Polymorphism"
   ]
  },
  {
   "cell_type": "markdown",
   "id": "ead68245-6cb4-47c6-81f5-6b58360b85e5",
   "metadata": {},
   "source": [
    "#### Q3. Explain why the __init__() function is used. Give a suitable example."
   ]
  },
  {
   "cell_type": "markdown",
   "id": "75c72236-fb97-42fc-bd04-a4f749c461a4",
   "metadata": {},
   "source": [
    "All classes have a function called __init__(), which is always executed when the class is being initiated.\n",
    "\n",
    "I provide the example for Q1"
   ]
  },
  {
   "cell_type": "markdown",
   "id": "34d4e270-6386-4e82-ad3d-d6f23fa4f3d5",
   "metadata": {},
   "source": [
    "#### Q4. Why self is used in OOPs?"
   ]
  },
  {
   "cell_type": "markdown",
   "id": "79e81a20-fa87-4beb-9598-635465d0aeca",
   "metadata": {},
   "source": [
    "The self variable is used to represent the instance of the class. Python uses the self parameter to refer to instance attributes and methods of the class."
   ]
  },
  {
   "cell_type": "markdown",
   "id": "b89cda60-9645-49dd-ae65-a2be36be6d60",
   "metadata": {},
   "source": [
    "#### Q5. What is inheritance? Give an example for each type of inheritance."
   ]
  },
  {
   "cell_type": "markdown",
   "id": "fafdd291-0893-4bbe-9bc5-1505dcb55070",
   "metadata": {},
   "source": [
    "Inheritance allows us to define a class that inherits all the methods and properties from another class.\n",
    "Parent class is the class being inherited from, also called base class.\n",
    "Child class is the class that inherits from another class, also called derived class."
   ]
  },
  {
   "cell_type": "code",
   "execution_count": 13,
   "id": "5776a9e5-f9a9-415a-8584-6daa4fc3cd86",
   "metadata": {},
   "outputs": [],
   "source": [
    "##Parent class\n",
    "class person():\n",
    "    def __init__(self,fname,lname):\n",
    "        self.FirstName=fname\n",
    "        self.LastName=lname\n",
    "    def printname(self):\n",
    "        print(self.FirstName,self.LastName)\n",
    "\n",
    "### child class:\n",
    "class student(person):\n",
    "     pass"
   ]
  },
  {
   "cell_type": "code",
   "execution_count": 14,
   "id": "105349d3-f65a-429f-a9f7-987a32877fe6",
   "metadata": {},
   "outputs": [
    {
     "name": "stdout",
     "output_type": "stream",
     "text": [
      "Mari muthu\n"
     ]
    }
   ],
   "source": [
    "stud=student(\"Mari\",\"muthu\")\n",
    "stud.printname()"
   ]
  },
  {
   "cell_type": "code",
   "execution_count": null,
   "id": "170b99d1-bc8e-46ea-a0bc-f445c4cfe300",
   "metadata": {},
   "outputs": [],
   "source": []
  }
 ],
 "metadata": {
  "kernelspec": {
   "display_name": "Python 3 (ipykernel)",
   "language": "python",
   "name": "python3"
  },
  "language_info": {
   "codemirror_mode": {
    "name": "ipython",
    "version": 3
   },
   "file_extension": ".py",
   "mimetype": "text/x-python",
   "name": "python",
   "nbconvert_exporter": "python",
   "pygments_lexer": "ipython3",
   "version": "3.9.12"
  }
 },
 "nbformat": 4,
 "nbformat_minor": 5
}
