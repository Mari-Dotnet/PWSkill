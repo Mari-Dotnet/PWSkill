{
 "cells": [
  {
   "cell_type": "markdown",
   "id": "b191ea01-95cd-4e1d-91fd-2a9a44cf7e14",
   "metadata": {},
   "source": [
    "#### Q1. What are the characteristics of the tuples? Is tuple immutable?"
   ]
  },
  {
   "cell_type": "markdown",
   "id": "6526b8c5-abe0-47f0-b162-583735e49c7e",
   "metadata": {},
   "source": [
    "##### yes tuple is im-mutable.\n",
    "##### we can add list,set, dict inside the tuple\n",
    "##### once  values are added in tuble we are not able to change any values inside the tuble.\n",
    "##### tuble have two inbuild function count and index .\n",
    "##### count=> its return count of same values  in the tuple\n",
    "##### index=> retun the first matched   index value"
   ]
  },
  {
   "cell_type": "markdown",
   "id": "54a4dd86-7296-4415-8b19-1e6e253738f5",
   "metadata": {},
   "source": [
    "#### Q2. What are the two tuple methods in python? Give an example of each method. Give a reason why\n",
    "#### tuples have only two in-built methods as compared to Lists."
   ]
  },
  {
   "cell_type": "code",
   "execution_count": 3,
   "id": "a6b491db-b180-4a7a-97da-95ae4439660b",
   "metadata": {},
   "outputs": [
    {
     "data": {
      "text/plain": [
       "2"
      ]
     },
     "execution_count": 3,
     "metadata": {},
     "output_type": "execute_result"
    }
   ],
   "source": [
    "tup=(1,2,3,4,5,6,4,5)\n",
    "## count method\n",
    "tup.count(4)"
   ]
  },
  {
   "cell_type": "code",
   "execution_count": 4,
   "id": "1b189e58-1d3e-4e01-9566-813605b9c701",
   "metadata": {},
   "outputs": [
    {
     "data": {
      "text/plain": [
       "3"
      ]
     },
     "execution_count": 4,
     "metadata": {},
     "output_type": "execute_result"
    }
   ],
   "source": [
    "#index method\n",
    "tup.index(4)"
   ]
  },
  {
   "cell_type": "markdown",
   "id": "64291cb9-0413-449d-b852-9d149dbc5f0a",
   "metadata": {},
   "source": [
    "#### Q3. Which collection datatypes in python do not allow duplicate items? Write a code using a set to remove\n",
    "#### duplicates from the given list.\n"
   ]
  },
  {
   "cell_type": "code",
   "execution_count": 6,
   "id": "97d7c7a8-b747-4962-afbf-b31fb77fcf97",
   "metadata": {},
   "outputs": [],
   "source": [
    "List = [1, 1, 1, 2, 1, 3, 1, 4, 2, 1, 2, 2, 2, 3, 2, 4, 3, 1, 3, 2, 3, 3, 3, 4, 4, 1, 4, 2, 4, 3, 4, 4]"
   ]
  },
  {
   "cell_type": "code",
   "execution_count": 8,
   "id": "038d432a-2318-44f3-8293-462aa5a5410a",
   "metadata": {},
   "outputs": [
    {
     "data": {
      "text/plain": [
       "{1, 2, 3, 4}"
      ]
     },
     "execution_count": 8,
     "metadata": {},
     "output_type": "execute_result"
    }
   ],
   "source": [
    "#using set to remove the duplicate values\n",
    "set(List)"
   ]
  },
  {
   "cell_type": "markdown",
   "id": "705f069d-c4d3-4059-a5f4-cfecbac9f096",
   "metadata": {},
   "source": [
    "#### Q4. Explain the difference between the union() and update() methods for a set. Give an example of each method."
   ]
  },
  {
   "cell_type": "markdown",
   "id": "2b1d4710-2a5b-469d-9659-05883b720e8b",
   "metadata": {},
   "source": [
    "union() method create and return a new set.\n",
    "update() method does not create a new set instead of add the values."
   ]
  },
  {
   "cell_type": "code",
   "execution_count": 23,
   "id": "218fa6f7-c507-41e1-a2fd-f2378960b185",
   "metadata": {},
   "outputs": [],
   "source": [
    "a={1,2,3,4,5}\n",
    "b={6,7,8,9,10,10}\n",
    "c={11,12,13}"
   ]
  },
  {
   "cell_type": "code",
   "execution_count": 28,
   "id": "1b829150-84a8-45c0-b51c-1f62bf3829da",
   "metadata": {},
   "outputs": [
    {
     "data": {
      "text/plain": [
       "{1, 2, 3, 4, 5, 6, 7, 8, 9, 10, 11, 12, 13}"
      ]
     },
     "execution_count": 28,
     "metadata": {},
     "output_type": "execute_result"
    }
   ],
   "source": [
    "s=a.union(b)\n",
    "s"
   ]
  },
  {
   "cell_type": "code",
   "execution_count": 29,
   "id": "dcad2dd7-681f-4f56-ba64-6fc262c26892",
   "metadata": {},
   "outputs": [],
   "source": [
    "a.update(b,c)"
   ]
  },
  {
   "cell_type": "code",
   "execution_count": 30,
   "id": "c3ecd16f-c1ef-40c6-8bed-6099807097ec",
   "metadata": {},
   "outputs": [
    {
     "data": {
      "text/plain": [
       "{1, 2, 3, 4, 5, 6, 7, 8, 9, 10, 11, 12, 13}"
      ]
     },
     "execution_count": 30,
     "metadata": {},
     "output_type": "execute_result"
    }
   ],
   "source": [
    "a"
   ]
  },
  {
   "cell_type": "markdown",
   "id": "7ddab33f-58e7-41ed-b6a5-475530408190",
   "metadata": {},
   "source": [
    "#### Q5. What is a dictionary? Give an example. Also, state whether a dictionary is ordered or unordered."
   ]
  },
  {
   "cell_type": "markdown",
   "id": "cc173f52-c7da-479b-a574-fc09bf6d9227",
   "metadata": {},
   "source": [
    "- Dictionar is key and value pair\n",
    "- Its unordered"
   ]
  },
  {
   "cell_type": "code",
   "execution_count": 32,
   "id": "496d7e74-962a-4a90-916d-4779a8c6cd1c",
   "metadata": {},
   "outputs": [
    {
     "data": {
      "text/plain": [
       "{'name': 'mari', 'Age': 26, 'Id': 1234}"
      ]
     },
     "execution_count": 32,
     "metadata": {},
     "output_type": "execute_result"
    }
   ],
   "source": [
    "dict={\"name\":\"mari\",\"Age\":26,\"Id\":1234}\n",
    "dict"
   ]
  },
  {
   "cell_type": "markdown",
   "id": "fe647c62-da8d-46eb-a85a-0fc400436b85",
   "metadata": {},
   "source": [
    "#### Q6. Can we create a nested dictionary? If so, please give an example by creating a simple one-level nested dictionary."
   ]
  },
  {
   "cell_type": "code",
   "execution_count": 37,
   "id": "c6998bb6-c3d3-4343-a0d1-998d927f9983",
   "metadata": {},
   "outputs": [
    {
     "ename": "SyntaxError",
     "evalue": "invalid syntax (404885038.py, line 1)",
     "output_type": "error",
     "traceback": [
      "\u001b[1;36m  Input \u001b[1;32mIn [37]\u001b[1;36m\u001b[0m\n\u001b[1;33m    yes we can able to create neseted dict\u001b[0m\n\u001b[1;37m        ^\u001b[0m\n\u001b[1;31mSyntaxError\u001b[0m\u001b[1;31m:\u001b[0m invalid syntax\n"
     ]
    }
   ],
   "source": [
    "yes we can able to create neseted dict"
   ]
  },
  {
   "cell_type": "code",
   "execution_count": 33,
   "id": "b4c91232-79e5-4b5d-9a2b-4c24b885e60d",
   "metadata": {},
   "outputs": [],
   "source": [
    "dict_nest={\"name\":\"mari\",\"Age\":26,\"Id\":1234,\"nest\":dict}"
   ]
  },
  {
   "cell_type": "code",
   "execution_count": 36,
   "id": "817f62a4-0fc3-4dcd-b686-f9da63a6dffe",
   "metadata": {},
   "outputs": [
    {
     "data": {
      "text/plain": [
       "'mari'"
      ]
     },
     "execution_count": 36,
     "metadata": {},
     "output_type": "execute_result"
    }
   ],
   "source": [
    "dict_nest['nest']['name']"
   ]
  },
  {
   "cell_type": "markdown",
   "id": "0862587b-f36d-4754-b75d-2553c42a4c4c",
   "metadata": {},
   "source": [
    "#### Q7. Using setdefault() method, create key named topics in the given dictionary and also add the value of the key as this\n",
    "- list ['Python', 'Machine Learning’, 'Deep Learning']\n",
    "- dict1 = {'language' : 'Python', 'course': 'Data Science Masters'}"
   ]
  },
  {
   "cell_type": "code",
   "execution_count": 38,
   "id": "a5f0f33e-156c-40d0-ac4e-469a494c5348",
   "metadata": {},
   "outputs": [],
   "source": [
    "dict1 = {'language' : 'Python', 'course': 'Data Science Masters'}"
   ]
  },
  {
   "cell_type": "code",
   "execution_count": 47,
   "id": "683c2975-136b-437d-aa27-5331b6e8b0e7",
   "metadata": {},
   "outputs": [
    {
     "name": "stdout",
     "output_type": "stream",
     "text": [
      "['Python', 'Machine Learning', 'Deep Learning']\n"
     ]
    }
   ],
   "source": [
    "lst=['Python','Machine Learning','Deep Learning']\n",
    "print(dict1.setdefault('topics',lst) )"
   ]
  },
  {
   "cell_type": "code",
   "execution_count": 44,
   "id": "1d0c8e0f-0527-4ab8-aaff-f4118a5d13dc",
   "metadata": {},
   "outputs": [
    {
     "data": {
      "text/plain": [
       "{'language': 'Python',\n",
       " 'course': 'Data Science Masters',\n",
       " 'topics': ['Python', 'Machine Learning', 'Deep Learning']}"
      ]
     },
     "execution_count": 44,
     "metadata": {},
     "output_type": "execute_result"
    }
   ],
   "source": [
    "dict1"
   ]
  },
  {
   "cell_type": "markdown",
   "id": "e35a6ac3-60f2-497a-84a1-c962228d8da3",
   "metadata": {},
   "source": [
    "#### Q8. What are the three view objects in dictionaries? Use the three in-built methods in python to display these three view objects for the given dictionary."
   ]
  },
  {
   "cell_type": "markdown",
   "id": "5297841e-0631-41e0-8ff3-9c92eef2209d",
   "metadata": {},
   "source": [
    "#### Threee view objects\n",
    "- keys\n",
    "- values\n",
    "- items"
   ]
  },
  {
   "cell_type": "code",
   "execution_count": 48,
   "id": "414812e1-9ba4-4a54-aa1a-d1871d297a0b",
   "metadata": {},
   "outputs": [],
   "source": [
    "dict1 = {'Sport': 'Cricket' , 'Teams': ['India', 'Australia', 'England', 'South Africa', 'Sri Lanka', 'New Zealand']}"
   ]
  },
  {
   "cell_type": "code",
   "execution_count": 50,
   "id": "438aad1f-77b3-450a-9058-a4ef42bc6b4a",
   "metadata": {},
   "outputs": [
    {
     "data": {
      "text/plain": [
       "dict_keys(['Sport', 'Teams'])"
      ]
     },
     "execution_count": 50,
     "metadata": {},
     "output_type": "execute_result"
    }
   ],
   "source": [
    "dict1.keys()"
   ]
  },
  {
   "cell_type": "code",
   "execution_count": 51,
   "id": "632a3474-7331-434d-b1d9-2d232e97932e",
   "metadata": {},
   "outputs": [
    {
     "data": {
      "text/plain": [
       "dict_values(['Cricket', ['India', 'Australia', 'England', 'South Africa', 'Sri Lanka', 'New Zealand']])"
      ]
     },
     "execution_count": 51,
     "metadata": {},
     "output_type": "execute_result"
    }
   ],
   "source": [
    "dict1.values()"
   ]
  },
  {
   "cell_type": "code",
   "execution_count": 52,
   "id": "f279dfa6-f405-46f0-bfb6-6045881a287d",
   "metadata": {},
   "outputs": [
    {
     "data": {
      "text/plain": [
       "dict_items([('Sport', 'Cricket'), ('Teams', ['India', 'Australia', 'England', 'South Africa', 'Sri Lanka', 'New Zealand'])])"
      ]
     },
     "execution_count": 52,
     "metadata": {},
     "output_type": "execute_result"
    }
   ],
   "source": [
    "dict1.items()"
   ]
  },
  {
   "cell_type": "code",
   "execution_count": null,
   "id": "f0be52f0-6c0c-4ddd-9e9a-67595dabab34",
   "metadata": {},
   "outputs": [],
   "source": []
  }
 ],
 "metadata": {
  "kernelspec": {
   "display_name": "Python 3 (ipykernel)",
   "language": "python",
   "name": "python3"
  },
  "language_info": {
   "codemirror_mode": {
    "name": "ipython",
    "version": 3
   },
   "file_extension": ".py",
   "mimetype": "text/x-python",
   "name": "python",
   "nbconvert_exporter": "python",
   "pygments_lexer": "ipython3",
   "version": "3.9.12"
  }
 },
 "nbformat": 4,
 "nbformat_minor": 5
}
