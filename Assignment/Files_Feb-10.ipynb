{
 "cells": [
  {
   "cell_type": "markdown",
   "id": "79cab691-4a12-43af-bc26-7223593b6a2a",
   "metadata": {},
   "source": [
    "#### Q1. Which function is used to open a file? What are the different modes of opening a file? Explain each mode of file opening.\n",
    "\n",
    "- we can use open function to open the file\n",
    "- We can use open and with open two function to open the file\n"
   ]
  },
  {
   "cell_type": "code",
   "execution_count": null,
   "id": "76c4a9bd-d180-4b25-ae6a-db33e2eb1381",
   "metadata": {},
   "outputs": [],
   "source": [
    "##method 1\n",
    "f=open(\"test.txt\",\"r\")\n",
    "\n",
    "#method 2\n",
    "\n",
    "with open(\"test.txt\",'r') as f:\n"
   ]
  },
  {
   "cell_type": "markdown",
   "id": "1cfd3ffc-68d1-48d6-b365-6d7f1efef40b",
   "metadata": {},
   "source": [
    "#### Q2. Why close() function is used? Why is it important to close a file?"
   ]
  },
  {
   "cell_type": "markdown",
   "id": "e7710c0d-f52a-4df4-9faa-c83f8057e6c8",
   "metadata": {},
   "source": [
    "#### ANS\n",
    "- if we are not using close fucntion are not able to see any data inside the file\n",
    "- so we can use close() is  must then only we can see the data"
   ]
  },
  {
   "cell_type": "markdown",
   "id": "3403e54c-43e4-435a-bfed-a9bef622d451",
   "metadata": {},
   "source": [
    "#### Q3. Write a python program to create a text file. Write ‘I want to become a Data Scientist’ in that file. \n",
    "- Then close the file. Open this file and read the content of the file."
   ]
  },
  {
   "cell_type": "code",
   "execution_count": 19,
   "id": "e104a8b4-b2e5-420e-90c5-a2247aac62f7",
   "metadata": {},
   "outputs": [],
   "source": [
    "#create a file \n",
    "with open('test.txt','w') as f:\n",
    "    f.write(\"I want to become a Data Scientist\")"
   ]
  },
  {
   "cell_type": "code",
   "execution_count": 20,
   "id": "974aa8b7-cfa7-49d9-8384-90cfa8706ea1",
   "metadata": {},
   "outputs": [
    {
     "data": {
      "text/plain": [
       "'I want to become a Data Scientist'"
      ]
     },
     "execution_count": 20,
     "metadata": {},
     "output_type": "execute_result"
    }
   ],
   "source": [
    "##read the file\n",
    "f=open('test.txt','r')\n",
    "data=f.read()\n",
    "f.close()\n",
    "data"
   ]
  },
  {
   "cell_type": "markdown",
   "id": "dae8d4ff-aee4-457d-b47c-ad946009122e",
   "metadata": {},
   "source": [
    "#### Q4. Explain the following with python code: read(), readline() and readlines().\n",
    "- read() : to read entire file data and return the string data\n",
    "- readline() : to return the first line of file\n",
    "- readlines() : its return  all lines with list format\n"
   ]
  },
  {
   "cell_type": "markdown",
   "id": "fb7cc29a-6763-4794-80ed-0fd1b5bad620",
   "metadata": {},
   "source": [
    "#### Q5. Explain why with statement is used with open(). What is the advantage of using with statement  and open() together?"
   ]
  },
  {
   "cell_type": "markdown",
   "id": "9add5719-b2f4-483e-a3db-54e9ac5477bd",
   "metadata": {},
   "source": [
    "####  with open statement()\n",
    "- with statement closes the file for you without you telling it to."
   ]
  },
  {
   "cell_type": "markdown",
   "id": "d2640581-fbc2-453b-bd6c-181547673b42",
   "metadata": {},
   "source": [
    "##### advantage\n",
    "- The main advantage of using with statment open is taken care of opening and closing file"
   ]
  },
  {
   "cell_type": "markdown",
   "id": "fa91c30f-86a2-4e06-95a2-c87fc6adad46",
   "metadata": {},
   "source": [
    "#### Q6. Explain the write() and writelines() functions. Give a suitable example.\n",
    "- write : to insert the string input we can use write\n",
    "- writelines : to insert list of string input we can use writelines"
   ]
  },
  {
   "cell_type": "code",
   "execution_count": 23,
   "id": "b8d250a6-030b-48cf-8b0b-732832c330fe",
   "metadata": {},
   "outputs": [],
   "source": [
    "# write example\n",
    "with open('test1.txt','w') as f:\n",
    "    f.write(\"I am a datascientist\")\n",
    "    \n",
    "#write line example\n",
    "lst=[\"i am a data sciecntst\\n\",\"I am data anayst\\n\",\"I am data visualization developer\"]\n",
    "with open('test2.txt','w') as f:\n",
    "    f.writelines(lst)"
   ]
  },
  {
   "cell_type": "code",
   "execution_count": null,
   "id": "5db375ca-b4dc-4e02-b134-f1df409243a8",
   "metadata": {},
   "outputs": [],
   "source": []
  }
 ],
 "metadata": {
  "kernelspec": {
   "display_name": "Python 3 (ipykernel)",
   "language": "python",
   "name": "python3"
  },
  "language_info": {
   "codemirror_mode": {
    "name": "ipython",
    "version": 3
   },
   "file_extension": ".py",
   "mimetype": "text/x-python",
   "name": "python",
   "nbconvert_exporter": "python",
   "pygments_lexer": "ipython3",
   "version": "3.9.12"
  }
 },
 "nbformat": 4,
 "nbformat_minor": 5
}
