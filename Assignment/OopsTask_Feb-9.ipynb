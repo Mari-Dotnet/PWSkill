{
 "cells": [
  {
   "cell_type": "markdown",
   "id": "02756cea-c790-4789-993b-98c0cf9d8caf",
   "metadata": {},
   "source": [
    "#### Q1, Create a vehicle class with an init method having instance variables as\n",
    "- name_of_vehicle, max_speed and average_of_vehicle."
   ]
  },
  {
   "cell_type": "code",
   "execution_count": 4,
   "id": "9521feb1-0a50-4ddc-80cd-16aee54a9e60",
   "metadata": {},
   "outputs": [],
   "source": [
    "class vehicle:\n",
    "    def __init__(self,name_of_vehicle,max_speed,average_of_vehicle):\n",
    "        self.Nameofvechile=name_of_vehicle\n",
    "        self.MaxSpeed=max_speed\n",
    "        self.AvgofVechile=average_of_vehicle\n",
    "        "
   ]
  },
  {
   "cell_type": "markdown",
   "id": "d1bd6d68-8b9e-4ff6-9fbe-13dfc8d1c7f3",
   "metadata": {},
   "source": [
    "#### Q2. Create a child class car from the vehicle class created in Que 1, which will inherit the vehicle class.\n",
    "-  Create a method named seating_capacity which takes capacity as an argument and returns the name of the vehicle and its seating capacity."
   ]
  },
  {
   "cell_type": "code",
   "execution_count": 9,
   "id": "9dc35883-3182-47b4-b3ff-0d084ca423af",
   "metadata": {},
   "outputs": [],
   "source": [
    "class car(vehicle):\n",
    "    def seating_capacity(self,capacity):\n",
    "        return self.Nameofvechile,capacity"
   ]
  },
  {
   "cell_type": "code",
   "execution_count": 10,
   "id": "c4108afb-f0ec-40ee-aebf-1fa9df3f347a",
   "metadata": {},
   "outputs": [
    {
     "data": {
      "text/plain": [
       "('Audi', 4)"
      ]
     },
     "execution_count": 10,
     "metadata": {},
     "output_type": "execute_result"
    }
   ],
   "source": [
    "car_obj=car('Audi',150,100)\n",
    "car_obj.seating_capacity(4)"
   ]
  },
  {
   "cell_type": "markdown",
   "id": "f1c7f654-9040-46c7-8160-93693097bb01",
   "metadata": {},
   "source": [
    "#### Q3. What is multiple inheritance? Write a python code to demonstrate multiple inheritance."
   ]
  },
  {
   "cell_type": "code",
   "execution_count": 11,
   "id": "d1b2e530-a7b3-4289-96c8-89186b5f1ebf",
   "metadata": {},
   "outputs": [],
   "source": [
    "## Ans:\n",
    "## When class is dervied from one or more base class is called multipl inheritance"
   ]
  },
  {
   "cell_type": "code",
   "execution_count": 12,
   "id": "ade5fdc3-5ee0-4f44-9848-32e16dccaf31",
   "metadata": {},
   "outputs": [],
   "source": [
    "class class1():\n",
    "    def cls1(self):\n",
    "        print(\"class 1\")\n",
    "        \n",
    "class class2():\n",
    "    def cls2(self):\n",
    "        print(\"class 2\")\n",
    "\n",
    "class class3(class1,class2):\n",
    "    def cls3(self):\n",
    "        print(\"class 3\")"
   ]
  },
  {
   "cell_type": "code",
   "execution_count": 14,
   "id": "e068ee38-9a48-448e-ba9f-8680781fdc04",
   "metadata": {},
   "outputs": [
    {
     "name": "stdout",
     "output_type": "stream",
     "text": [
      "class 1\n",
      "class 2\n",
      "class 3\n"
     ]
    }
   ],
   "source": [
    "obj=class3()\n",
    "obj.cls1()\n",
    "obj.cls2()\n",
    "obj.cls3()"
   ]
  },
  {
   "cell_type": "markdown",
   "id": "dbb153b3-5f66-425b-87c9-b7847c8d0a8d",
   "metadata": {},
   "source": [
    "#### Q4. What are getter and setter in python? Create a class and create a getter and a setter method in this class."
   ]
  },
  {
   "cell_type": "code",
   "execution_count": 1,
   "id": "26e8eb39-beb2-47fc-927c-8ebfd156ab31",
   "metadata": {},
   "outputs": [],
   "source": [
    "## Getter:\n",
    "### To get the values of private varible inside the class\n",
    "##setter:\n",
    "### To set the values of private varible inside the class"
   ]
  },
  {
   "cell_type": "code",
   "execution_count": 3,
   "id": "d41c027b-7f9d-4183-93a8-750c23ef1456",
   "metadata": {},
   "outputs": [],
   "source": [
    "class Student:\n",
    "    def __init__(self, Name,Age):\n",
    "        self.__Name=Name\n",
    "        self.__Age=Age\n",
    "    ##Getter method\n",
    "    def Age_getter(self):\n",
    "        return self.__Age\n",
    "    ## setter Age value\n",
    "    def Age_setter(self,age):\n",
    "         self.__Age=age"
   ]
  },
  {
   "cell_type": "code",
   "execution_count": 4,
   "id": "d2b95f94-5f40-4045-bac5-e44d2ff3be00",
   "metadata": {},
   "outputs": [],
   "source": [
    "stud_obj=Student(\"Mari\",19)"
   ]
  },
  {
   "cell_type": "code",
   "execution_count": 5,
   "id": "2702b87c-d7e9-489e-9fa5-efcda1e1b914",
   "metadata": {},
   "outputs": [
    {
     "data": {
      "text/plain": [
       "19"
      ]
     },
     "execution_count": 5,
     "metadata": {},
     "output_type": "execute_result"
    }
   ],
   "source": [
    "stud_obj.Age_getter()"
   ]
  },
  {
   "cell_type": "code",
   "execution_count": 6,
   "id": "69258010-a435-439b-b937-4128f8be1f82",
   "metadata": {},
   "outputs": [],
   "source": [
    "stud_obj.Age_setter(25)"
   ]
  },
  {
   "cell_type": "code",
   "execution_count": 7,
   "id": "2ba53f28-283d-42b3-9acd-71c0af3a125f",
   "metadata": {},
   "outputs": [
    {
     "data": {
      "text/plain": [
       "25"
      ]
     },
     "execution_count": 7,
     "metadata": {},
     "output_type": "execute_result"
    }
   ],
   "source": [
    "stud_obj.Age_getter()"
   ]
  },
  {
   "cell_type": "markdown",
   "id": "165b132b-bf66-4ab2-9551-565ad1af0a5a",
   "metadata": {},
   "source": [
    "#### Q5.What is method overriding in python? Write a python code to demonstrate method overriding."
   ]
  },
  {
   "cell_type": "markdown",
   "id": "fe648b36-f3f5-476a-959b-3eb4c8abbbef",
   "metadata": {},
   "source": [
    "- Method overriding is same function in parent and child class with same paremeter,retun type.  \n",
    "- when calling the child object, parent method not execute only child method only exceute"
   ]
  },
  {
   "cell_type": "code",
   "execution_count": 24,
   "id": "cf46cd23-59df-4954-9aa8-655e258b8ce0",
   "metadata": {},
   "outputs": [],
   "source": [
    "class Animal():\n",
    "    def show(self):\n",
    "        print(\"parent\")\n",
    "\n",
    "class Dog(Animal):\n",
    "    def show(self):\n",
    "        print(\"Child\")"
   ]
  },
  {
   "cell_type": "code",
   "execution_count": 23,
   "id": "341e85ee-1ef0-40dc-8ed7-589ffcbafe29",
   "metadata": {},
   "outputs": [
    {
     "name": "stdout",
     "output_type": "stream",
     "text": [
      "Child\n"
     ]
    }
   ],
   "source": [
    "Dog_obj=Dog()\n",
    "Dog_obj.show()"
   ]
  },
  {
   "cell_type": "code",
   "execution_count": null,
   "id": "80a6de2c-94b2-4fef-8348-ef1796fb7791",
   "metadata": {},
   "outputs": [],
   "source": []
  }
 ],
 "metadata": {
  "kernelspec": {
   "display_name": "Python 3 (ipykernel)",
   "language": "python",
   "name": "python3"
  },
  "language_info": {
   "codemirror_mode": {
    "name": "ipython",
    "version": 3
   },
   "file_extension": ".py",
   "mimetype": "text/x-python",
   "name": "python",
   "nbconvert_exporter": "python",
   "pygments_lexer": "ipython3",
   "version": "3.9.12"
  }
 },
 "nbformat": 4,
 "nbformat_minor": 5
}
