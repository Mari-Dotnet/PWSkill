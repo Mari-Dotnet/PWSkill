{
 "cells": [
  {
   "cell_type": "markdown",
   "id": "cc24b027-801b-4e0d-a9bf-bfa8369ac488",
   "metadata": {},
   "source": [
    "#### Q1. You are writing code for a company. The requirement of the company is that you create a python\n",
    "#### function that will check whether the password entered by the user is correct or not. The function should\n",
    "#### take the password as input and return the string “Valid Password” if the entered password follows the\n",
    "#### below-given password guidelines else it should return “Invalid Password”.\n",
    "\n",
    "- 1. The Password should contain at least two uppercase letters and at least two lowercase letters.\n",
    "- 2. The Password should contain at least a number and three special characters.\n",
    "- 3. The length of the password should be 10 characters long."
   ]
  },
  {
   "cell_type": "code",
   "execution_count": null,
   "id": "71bc4103-2ea6-4aa3-bf63-7ab843203566",
   "metadata": {},
   "outputs": [],
   "source": [
    "def passwordchecker(inpass):\n",
    "    up=0\n",
    "    lo=0\n",
    "    sp=0\n",
    "    num=0\n",
    "    if(len(inpass)>=10):\n",
    "        for i in inpass:\n",
    "            if i.isdigit():\n",
    "                num+=1\n",
    "            if i.isalpha() and i.isupper():\n",
    "                up+=1\n",
    "            if i.isalpha() and i.islower():\n",
    "                lo+=1\n",
    "            if not (i.isdigit() or i.isalpha() or i==' '):\n",
    "                sp+=1\n",
    "        if up>=2 and lo>=2 and sp>=3 and num>=1:\n",
    "            return True\n",
    "        else:\n",
    "             return False\n",
    "        \n",
    "    else:\n",
    "        return False\n",
    "\n",
    "password=input(\"enter your password\")\n",
    "if(passwordchecker(password)):\n",
    "    print(\"Valid password\")\n",
    "else:\n",
    "    print(\"invalid password\")\n"
   ]
  },
  {
   "cell_type": "markdown",
   "id": "16d9726e-f570-48aa-a519-c603c81f9764",
   "metadata": {},
   "source": [
    "#### Q2. Solve the below-given questions using at least one of the following:\n",
    "- Lambda function\n",
    "- Filter function\n",
    "- Zap function\n",
    "- List Comprehensin\n"
   ]
  },
  {
   "cell_type": "code",
   "execution_count": 3,
   "id": "e58e75c3-16a1-41c6-8988-f95458e05dfd",
   "metadata": {},
   "outputs": [],
   "source": [
    "#### Check if the string starts with a particular letter s\n",
    "string= lambda x:x.startswith('s')"
   ]
  },
  {
   "cell_type": "code",
   "execution_count": 7,
   "id": "38632b99-b8d3-487c-9d9c-7fca310436f9",
   "metadata": {},
   "outputs": [
    {
     "data": {
      "text/plain": [
       "False"
      ]
     },
     "execution_count": 7,
     "metadata": {},
     "output_type": "execute_result"
    }
   ],
   "source": [
    "string('data') ## op is false because its start with d"
   ]
  },
  {
   "cell_type": "code",
   "execution_count": 16,
   "id": "f956f43e-0a68-4f5b-87bf-46e1a33d14d2",
   "metadata": {},
   "outputs": [
    {
     "data": {
      "text/plain": [
       "True"
      ]
     },
     "execution_count": 16,
     "metadata": {},
     "output_type": "execute_result"
    }
   ],
   "source": [
    "###Check if the string is numeric\n",
    "string=\"1231\"\n",
    "numeric=string.isnumeric() ### to check input is number or not \n",
    "numeric"
   ]
  },
  {
   "cell_type": "code",
   "execution_count": 18,
   "id": "806374c1-ae6a-4070-b6f9-685377ec06fa",
   "metadata": {},
   "outputs": [
    {
     "data": {
      "text/plain": [
       "[('orange', 80), ('mango', 99), ('grapes', 1000)]"
      ]
     },
     "execution_count": 18,
     "metadata": {},
     "output_type": "execute_result"
    }
   ],
   "source": [
    "###Sort a list of tuples having fruit names and their quantity. [(\"mango\",99),(\"orange\",80), (\"grapes\", 1000)-\n",
    "lst=[(\"mango\",99),(\"orange\",80), (\"grapes\", 1000)]\n",
    "tu=sorted(lst,key=lambda x:x,reverse=True)\n",
    "tu"
   ]
  },
  {
   "cell_type": "code",
   "execution_count": 20,
   "id": "301b8801-3777-469d-8eb6-3671250b676c",
   "metadata": {},
   "outputs": [
    {
     "data": {
      "text/plain": [
       "[1, 4, 9, 16, 25, 36, 49, 64, 81, 100]"
      ]
     },
     "execution_count": 20,
     "metadata": {},
     "output_type": "execute_result"
    }
   ],
   "source": [
    "##Find the squares of numbers from 1 to 10\n",
    "[ x**2 for x in range(1,11) ]"
   ]
  },
  {
   "cell_type": "code",
   "execution_count": 21,
   "id": "b3a4afe7-0031-4178-9200-b2ca1fd8b54f",
   "metadata": {},
   "outputs": [
    {
     "data": {
      "text/plain": [
       "[1.0,\n",
       " 1.2599210498948732,\n",
       " 1.4422495703074083,\n",
       " 1.5874010519681994,\n",
       " 1.7099759466766968,\n",
       " 1.8171205928321397,\n",
       " 1.912931182772389,\n",
       " 2.0,\n",
       " 2.080083823051904,\n",
       " 2.154434690031884]"
      ]
     },
     "execution_count": 21,
     "metadata": {},
     "output_type": "execute_result"
    }
   ],
   "source": [
    "### Find the cube root of numbers from 1 to 10Y\n",
    "[ x**(1/3) for x in range(1,11)]"
   ]
  },
  {
   "cell_type": "code",
   "execution_count": 26,
   "id": "bbf6a74a-aedd-41f7-a5cb-b15f7314f52f",
   "metadata": {},
   "outputs": [
    {
     "name": "stdin",
     "output_type": "stream",
     "text": [
      "enter the number 12\n"
     ]
    },
    {
     "name": "stdout",
     "output_type": "stream",
     "text": [
      "this is even number\n"
     ]
    }
   ],
   "source": [
    "### Check if a given number is even\n",
    "num=int(input(\"enter the number\"))\n",
    "if(num%2==0):\n",
    "        print(\"this is even number\")\n",
    "else:\n",
    "    print(\"this is not even number\")"
   ]
  },
  {
   "cell_type": "code",
   "execution_count": 33,
   "id": "7e7b2c10-6984-43f3-86bf-b6da30648eca",
   "metadata": {},
   "outputs": [
    {
     "data": {
      "text/plain": [
       "[1, 3, 5, 7, 9]"
      ]
     },
     "execution_count": 33,
     "metadata": {},
     "output_type": "execute_result"
    }
   ],
   "source": [
    "###Filter odd numbers from the given list.\n",
    "numlist= [1,2,3,4,5,6,7,8,9,10]\n",
    "oddlist=list(filter(lambda x: x%2!=0,numlist))\n",
    "oddlist"
   ]
  },
  {
   "cell_type": "code",
   "execution_count": 36,
   "id": "dfb88834-ebc0-494e-9669-58a6817c45e3",
   "metadata": {},
   "outputs": [
    {
     "name": "stdout",
     "output_type": "stream",
     "text": [
      "positive [1, 2, 3, 4, 5, 6]\n",
      "negative [-1, -2, -3, -4, -5]\n"
     ]
    }
   ],
   "source": [
    "##Sort a list of integers into positive and negative integers lists.\n",
    "lst=[1,2,3,4,5,6,-1,-2,-3,-4,-5,0]\n",
    "positive=list(filter(lambda x: x>0,lst))\n",
    "negative=list(filter(lambda x: x<0,lst))\n",
    "print(\"positive\",positive)\n",
    "print(\"negative\",negative)"
   ]
  },
  {
   "cell_type": "code",
   "execution_count": null,
   "id": "c2c3c6c9-b3d8-41fe-a1ca-04cbbaf5a924",
   "metadata": {},
   "outputs": [],
   "source": []
  }
 ],
 "metadata": {
  "kernelspec": {
   "display_name": "Python 3 (ipykernel)",
   "language": "python",
   "name": "python3"
  },
  "language_info": {
   "codemirror_mode": {
    "name": "ipython",
    "version": 3
   },
   "file_extension": ".py",
   "mimetype": "text/x-python",
   "name": "python",
   "nbconvert_exporter": "python",
   "pygments_lexer": "ipython3",
   "version": "3.9.12"
  }
 },
 "nbformat": 4,
 "nbformat_minor": 5
}
