{
 "cells": [
  {
   "cell_type": "code",
   "execution_count": null,
   "id": "bbabbfce-fcbf-44cd-a08e-03f137f5f6af",
   "metadata": {},
   "outputs": [],
   "source": [
    "# assignment link: https://drive.google.com/file/d/1hyD9pv5dlwP2dnIkvfvyw2CHSECrJw2x/view"
   ]
  },
  {
   "cell_type": "code",
   "execution_count": null,
   "id": "4caab638-675d-47c0-9e01-aaeb8557d9bd",
   "metadata": {},
   "outputs": [],
   "source": [
    "mark= int(input(\"enter the mark\"))\n",
    "if mark>90:\n",
    "    print(\"Grade A\")\n",
    "elif mark>80:\n",
    "      print(\"Grade b\")\n",
    "elif mark >= 60:\n",
    "      print(\"Grade c\")\n",
    "else:\n",
    "     print(\"Grade D\")"
   ]
  },
  {
   "cell_type": "code",
   "execution_count": null,
   "id": "c9299a45-36b1-411c-8ebb-7ccf791a9c62",
   "metadata": {},
   "outputs": [],
   "source": [
    "tax= int(input(\"enter the tax amount\"))\n",
    "if tax>100000:\n",
    "    print(\"15 % tax\")\n",
    "elif tax>50000:\n",
    "     print(\"10 % tax\")\n",
    "else:\n",
    "      print(\"5 % tax\")"
   ]
  },
  {
   "cell_type": "code",
   "execution_count": null,
   "id": "aa758da2-d280-4ed3-8d3d-011eca87f006",
   "metadata": {},
   "outputs": [],
   "source": [
    "city= input(\"enter the City\").title()\n",
    "if city==\"Delhi\":\n",
    "    print(\"Red fort\")\n",
    "elif city==\"Agra\":\n",
    "      print(\"Taj mahal\")\n",
    "elif city ==\"Jaipur\":\n",
    "      print(\"Jai mahal\")\n",
    "else:\n",
    "     print(\"No\")"
   ]
  },
  {
   "cell_type": "markdown",
   "id": "36d4489f-75bc-432d-969e-7609691f8d61",
   "metadata": {},
   "source": [
    "#### check how many times a given number can be divided by 3 before it is less ot equal 3."
   ]
  },
  {
   "cell_type": "code",
   "execution_count": null,
   "id": "f2ebd969-ab72-4938-aec7-1aac3605ee80",
   "metadata": {},
   "outputs": [],
   "source": [
    "num=int(input(\"enter the number\"))\n",
    "if num<=10:\n",
    "    print(\" 3 is {} time divide by {}\".format(int(num/3),num))\n",
    "else:\n",
    "    print(\"number is greater than 10\")\n",
    "            "
   ]
  },
  {
   "cell_type": "markdown",
   "id": "4f05286b-8ea5-48ef-9486-766de8ba4f6d",
   "metadata": {},
   "source": [
    "#### why and when use while loop in python"
   ]
  },
  {
   "cell_type": "raw",
   "id": "309ed3f8-766d-44b8-ad82-671ce7e11da6",
   "metadata": {},
   "source": [
    "The while loop in Python is used to repeatedly execute a block of code as long as a certain condition is met. \n",
    "\n",
    "The condition is evaluated at the start of each iteration of the loop, and as long as it is True, the code inside the loop will continue to be executed. Once the condition becomes False, the loop will terminate."
   ]
  },
  {
   "cell_type": "markdown",
   "id": "12eb20f5-640e-449d-b55e-5e75c32a52c9",
   "metadata": {},
   "source": [
    "#### Reverse a while loop 10 to 1"
   ]
  },
  {
   "cell_type": "code",
   "execution_count": 3,
   "id": "f2272682-42b4-41c5-a47a-9f5b5233cf29",
   "metadata": {},
   "outputs": [
    {
     "name": "stdout",
     "output_type": "stream",
     "text": [
      "10\n",
      "9\n",
      "8\n",
      "7\n",
      "6\n",
      "5\n",
      "4\n",
      "3\n",
      "2\n",
      "1\n"
     ]
    }
   ],
   "source": [
    "i = 10\n",
    "while i >= 1:\n",
    "    print(i)\n",
    "    i -= 1"
   ]
  },
  {
   "cell_type": "code",
   "execution_count": 4,
   "id": "e3c0c490-f2ed-4302-9444-42ebf161269a",
   "metadata": {},
   "outputs": [
    {
     "name": "stdout",
     "output_type": "stream",
     "text": [
      "1\n",
      "2\n",
      "3\n",
      "4\n",
      "5\n",
      "6\n",
      "7\n",
      "8\n",
      "9\n",
      "10\n"
     ]
    }
   ],
   "source": [
    "i = 1\n",
    "while i <= 10:\n",
    "    print(i)\n",
    "    i += 1"
   ]
  },
  {
   "cell_type": "code",
   "execution_count": null,
   "id": "f7418a20-98b8-40cf-a01e-142488d48a0d",
   "metadata": {},
   "outputs": [],
   "source": []
  }
 ],
 "metadata": {
  "kernelspec": {
   "display_name": "Python 3 (ipykernel)",
   "language": "python",
   "name": "python3"
  },
  "language_info": {
   "codemirror_mode": {
    "name": "ipython",
    "version": 3
   },
   "file_extension": ".py",
   "mimetype": "text/x-python",
   "name": "python",
   "nbconvert_exporter": "python",
   "pygments_lexer": "ipython3",
   "version": "3.9.12"
  }
 },
 "nbformat": 4,
 "nbformat_minor": 5
}
