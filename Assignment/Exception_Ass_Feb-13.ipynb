{
 "cells": [
  {
   "cell_type": "markdown",
   "id": "d9a17815-0e6f-434d-85b9-f6358f3b9fc4",
   "metadata": {},
   "source": [
    "#### Q1. Explain why we have to use the Exception class while creating a Custom Exception."
   ]
  },
  {
   "cell_type": "markdown",
   "id": "e8947e6c-20ad-41a5-b06e-2d01454a9b5f",
   "metadata": {},
   "source": [
    "The Exception class is used as a base class for creating custom exceptions in Python because it provides a standard way to define custom exceptions that are compatible with the rest of the built-in exception hierarchy."
   ]
  },
  {
   "cell_type": "markdown",
   "id": "dce38b0c-2310-4519-a08a-65f63eb1e25d",
   "metadata": {},
   "source": [
    "#### Q2. Write a python program to print Python Exception Hierarchy."
   ]
  },
  {
   "cell_type": "code",
   "execution_count": 2,
   "id": "8bc5e783-6cff-49b4-ba64-0b189b77fcb5",
   "metadata": {},
   "outputs": [
    {
     "name": "stdout",
     "output_type": "stream",
     "text": [
      "division by zero\n"
     ]
    }
   ],
   "source": [
    "try:\n",
    "    a=10\n",
    "    b=10/0\n",
    "except KeyError as ex:\n",
    "    print(ex)\n",
    "except ZeroDivisionError as ex:\n",
    "    print(ex)\n",
    "except Exception as ex:\n",
    "    print(ex)"
   ]
  },
  {
   "cell_type": "markdown",
   "id": "49f3cab4-c47b-457e-a5a3-c6c8282c4922",
   "metadata": {},
   "source": [
    "#### Q3. What errors are defined in the ArithmeticError class? Explain any two with an example."
   ]
  },
  {
   "cell_type": "code",
   "execution_count": null,
   "id": "4cdb151f-505f-4e22-8a23-444fb023c8ab",
   "metadata": {},
   "outputs": [],
   "source": [
    "## OverFlowError\n",
    "## ZeroDivisionError\n",
    "## FloatingPointError"
   ]
  },
  {
   "cell_type": "code",
   "execution_count": 5,
   "id": "290bc829-169a-45b7-b6fe-412d97703703",
   "metadata": {},
   "outputs": [
    {
     "name": "stdout",
     "output_type": "stream",
     "text": [
      "division by zero\n"
     ]
    }
   ],
   "source": [
    "##Zero Division Error\n",
    "\n",
    "try:\n",
    "    10/0\n",
    "except ZeroDivisionError as ex:\n",
    "    print(ex)"
   ]
  },
  {
   "cell_type": "code",
   "execution_count": 7,
   "id": "fd668cee-7167-425e-8407-91c738f318bf",
   "metadata": {},
   "outputs": [],
   "source": [
    "## Floating point error\n",
    "try:\n",
    "    x = 1e308\n",
    "    y = 1e308\n",
    "    z = x * y\n",
    "except FloatingPointError as ex:\n",
    "    print(ex)"
   ]
  },
  {
   "cell_type": "markdown",
   "id": "4222028f-2330-40a9-968e-d4afe8e9c69d",
   "metadata": {},
   "source": [
    "#### Q4. Why LookupError class is used? Explain with an example KeyError and IndexError."
   ]
  },
  {
   "cell_type": "code",
   "execution_count": 9,
   "id": "695a3b50-c394-4d1f-87c8-1a128d64654b",
   "metadata": {},
   "outputs": [],
   "source": [
    "## Lookup error class is a subclass of the exception class is used to look up operation like string,tuple list"
   ]
  },
  {
   "cell_type": "code",
   "execution_count": 12,
   "id": "6713ecea-a6fd-40ee-ad4a-c064f471b2e4",
   "metadata": {},
   "outputs": [
    {
     "name": "stdout",
     "output_type": "stream",
     "text": [
      "The key 'key3' is not in dict\n"
     ]
    }
   ],
   "source": [
    "## key error\n",
    "try:\n",
    "    d={\"key1\":1,\"key2\":2}\n",
    "    d[\"key3\"]\n",
    "except KeyError as ex:\n",
    "    print(\"The key {} is not in dict\".format(ex))"
   ]
  },
  {
   "cell_type": "code",
   "execution_count": 15,
   "id": "4b8d2054-ef64-4bdc-bdc0-0c711ab5b7d3",
   "metadata": {},
   "outputs": [
    {
     "name": "stdout",
     "output_type": "stream",
     "text": [
      "Index error list index out of range\n"
     ]
    }
   ],
   "source": [
    "##index eror\n",
    "try:\n",
    "    lst=[1,2,3,4,5,5]\n",
    "    lst[7]\n",
    "except IndexError as ex:\n",
    "    print(\"Index error\",ex)"
   ]
  },
  {
   "cell_type": "markdown",
   "id": "4e020975-3b99-4966-81ce-c680c1bab22d",
   "metadata": {},
   "source": [
    "#### Q5. Explain ImportError. What is ModuleNotFoundError?\n",
    "- import class is not availbe and not created"
   ]
  },
  {
   "cell_type": "code",
   "execution_count": 16,
   "id": "9420eda2-1552-4a05-90d9-ac5cf7bb63ea",
   "metadata": {},
   "outputs": [
    {
     "name": "stdout",
     "output_type": "stream",
     "text": [
      "No module named 'sth'\n"
     ]
    }
   ],
   "source": [
    "##example:\n",
    "try:\n",
    "    import sth\n",
    "except ImportError as ip:\n",
    "    print(ip)"
   ]
  },
  {
   "cell_type": "markdown",
   "id": "37cb159c-4885-43fa-b60c-2862f66efdd7",
   "metadata": {},
   "source": [
    "#### Q6. List down some best practices for exception handling in python.\n",
    "- use always specific exception\n",
    "- print proper error meeage  for exception\n",
    "- Always use logging to log our error\n",
    "- To avoid wrote multiple exception in same function\n",
    "- clean up all resouces eg: sql conn opn we can close the connection"
   ]
  },
  {
   "cell_type": "code",
   "execution_count": null,
   "id": "04b319a3-03c4-4831-acf0-3ea7e8c18a60",
   "metadata": {},
   "outputs": [],
   "source": []
  }
 ],
 "metadata": {
  "kernelspec": {
   "display_name": "Python 3 (ipykernel)",
   "language": "python",
   "name": "python3"
  },
  "language_info": {
   "codemirror_mode": {
    "name": "ipython",
    "version": 3
   },
   "file_extension": ".py",
   "mimetype": "text/x-python",
   "name": "python",
   "nbconvert_exporter": "python",
   "pygments_lexer": "ipython3",
   "version": "3.9.12"
  }
 },
 "nbformat": 4,
 "nbformat_minor": 5
}
