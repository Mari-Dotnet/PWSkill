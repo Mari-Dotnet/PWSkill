{
 "cells": [
  {
   "cell_type": "markdown",
   "id": "d7f1c637-3d52-495a-b870-cfab43565500",
   "metadata": {
    "tags": []
   },
   "source": [
    "#### Q1. Create a function which will take a list as an argument and return the product of all the numbers after creating a flat list.\n",
    "#### Use the below-given list as an argument for your function."
   ]
  },
  {
   "cell_type": "code",
   "execution_count": 1,
   "id": "42cd1305-3ffb-4bb0-bfe4-8db4f8487adc",
   "metadata": {},
   "outputs": [],
   "source": [
    "list1 = [1,2,3,4, [44,55,66, True], False, (34,56,78,89,34), {1,2,3,3,2,1}, {1:34, \"key2\": [55, 67, 78, 89], 4: (45,\n",
    "22, 61, 34)}, [56, 'data science'], 'Machine Learning']"
   ]
  },
  {
   "cell_type": "code",
   "execution_count": 14,
   "id": "8278f69f-e62e-4e66-9296-f2db1c426c8f",
   "metadata": {},
   "outputs": [],
   "source": [
    "def flatlist(lst):\n",
    "    new_list=[]\n",
    "    for i in lst:\n",
    "        if type(i)==list:\n",
    "            for x in i:\n",
    "                new_list.append(x)\n",
    "        elif type(i)==tuple:\n",
    "            for x in i:\n",
    "                new_list.append(x)\n",
    "        elif type(i)==set:\n",
    "            for x in i:\n",
    "                new_list.append(x)\n",
    "        elif type(i)==dict:\n",
    "            for k,v in i.items():\n",
    "                new_list.append(k)  \n",
    "                if type(v)==list:\n",
    "                    for x in v:\n",
    "                        new_list.append(x)\n",
    "                elif type(v)==tuple:\n",
    "                    for x in v:\n",
    "                        new_list.append(x)\n",
    "                elif type(v)==set:\n",
    "                    for x in v:\n",
    "                        new_list.append(x)\n",
    "                else:\n",
    "                     new_list.append(v)              \n",
    "        else:\n",
    "            new_list.append(i)\n",
    "    return list(filter(lambda final: type(final)==int,new_list))\n",
    "                                   "
   ]
  },
  {
   "cell_type": "code",
   "execution_count": 15,
   "id": "3f94949e-5a8d-4fe3-9953-83b042803ef3",
   "metadata": {},
   "outputs": [
    {
     "data": {
      "text/plain": [
       "[1,\n",
       " 2,\n",
       " 3,\n",
       " 4,\n",
       " 44,\n",
       " 55,\n",
       " 66,\n",
       " 34,\n",
       " 56,\n",
       " 78,\n",
       " 89,\n",
       " 34,\n",
       " 1,\n",
       " 2,\n",
       " 3,\n",
       " 1,\n",
       " 34,\n",
       " 55,\n",
       " 67,\n",
       " 78,\n",
       " 89,\n",
       " 4,\n",
       " 45,\n",
       " 22,\n",
       " 61,\n",
       " 34,\n",
       " 56]"
      ]
     },
     "execution_count": 15,
     "metadata": {},
     "output_type": "execute_result"
    }
   ],
   "source": [
    "flatlist(list1)"
   ]
  },
  {
   "cell_type": "markdown",
   "id": "70864248-e5d3-4203-9360-8f38d9199b01",
   "metadata": {},
   "source": [
    "#### Q2. Write a python program for encrypting a message sent to you by your friend. The logic of encryption\n",
    "#### should be such that, for a the output should be z. For b, the output should be y. For c, the output should\n",
    "#### be x respectively. Also, the whitespace should be replaced with a dollar sign. Keep the punctuation marks unchanged.\n",
    "- Input Sentence: I want to become a Data Scientist.\n",
    "- Encrypt the above input sentence using the program you just created.\n",
    "- Note: Convert the given input sentence into lowercase before encrypting. The final output should be lowercase."
   ]
  },
  {
   "cell_type": "markdown",
   "id": "5bc6f3e7-05fb-4c65-b195-618f1070a6b7",
   "metadata": {},
   "source": []
  }
 ],
 "metadata": {
  "kernelspec": {
   "display_name": "Python 3 (ipykernel)",
   "language": "python",
   "name": "python3"
  },
  "language_info": {
   "codemirror_mode": {
    "name": "ipython",
    "version": 3
   },
   "file_extension": ".py",
   "mimetype": "text/x-python",
   "name": "python",
   "nbconvert_exporter": "python",
   "pygments_lexer": "ipython3",
   "version": "3.9.12"
  }
 },
 "nbformat": 4,
 "nbformat_minor": 5
}
