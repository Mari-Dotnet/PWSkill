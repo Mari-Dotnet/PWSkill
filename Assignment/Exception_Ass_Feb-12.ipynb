{
 "cells": [
  {
   "cell_type": "markdown",
   "id": "8ec06c31-46f3-414c-8b65-36ec10c7014f",
   "metadata": {
    "jp-MarkdownHeadingCollapsed": true,
    "tags": []
   },
   "source": [
    "#### Q1 What is exception in python? \n",
    "- An exception in Python is an error that occurs during the execution of a program.\n",
    "- Exceptions are typically raised when there is an error or unexpected behavior in the code\n",
    "#### exception vs syntax error\n",
    "- exception will occur at run time\n",
    "   - file not found, division by zero\n",
    "- error occured at compile time\n",
    "   - syntax errors are caused by mistakes such as missing a colon, forgetting to close parentheses or quotes, etc"
   ]
  },
  {
   "cell_type": "markdown",
   "id": "c010580b-234c-4f73-8ec2-033d56cbffc5",
   "metadata": {},
   "source": [
    "#### what happen an exception not handled?\n",
    "- The program stopped immediatlya and error message is displyed.\n",
    "#### Explain  with an example"
   ]
  },
  {
   "cell_type": "code",
   "execution_count": 5,
   "id": "86454de7-cb60-407a-9754-0d792ca661c1",
   "metadata": {},
   "outputs": [
    {
     "ename": "ZeroDivisionError",
     "evalue": "division by zero",
     "output_type": "error",
     "traceback": [
      "\u001b[1;31m---------------------------------------------------------------------------\u001b[0m",
      "\u001b[1;31mZeroDivisionError\u001b[0m                         Traceback (most recent call last)",
      "Input \u001b[1;32mIn [5]\u001b[0m, in \u001b[0;36m<cell line: 3>\u001b[1;34m()\u001b[0m\n\u001b[0;32m      1\u001b[0m x \u001b[38;5;241m=\u001b[39m \u001b[38;5;241m10\u001b[39m\n\u001b[0;32m      2\u001b[0m y \u001b[38;5;241m=\u001b[39m \u001b[38;5;241m0\u001b[39m\n\u001b[1;32m----> 3\u001b[0m z \u001b[38;5;241m=\u001b[39m \u001b[43mx\u001b[49m\u001b[38;5;241;43m/\u001b[39;49m\u001b[43my\u001b[49m\n\u001b[0;32m      4\u001b[0m \u001b[38;5;28mprint\u001b[39m(z)\n",
      "\u001b[1;31mZeroDivisionError\u001b[0m: division by zero"
     ]
    }
   ],
   "source": [
    "x = 10\n",
    "y = 0\n",
    "z = x/y\n",
    "print(z)"
   ]
  },
  {
   "cell_type": "markdown",
   "id": "16bc3bff-d686-438e-894f-f0e30ebe05e7",
   "metadata": {},
   "source": [
    "#### Q3. Which Python statments are used to handle the exception?\n",
    "- try except block used to hanldle the exception"
   ]
  },
  {
   "cell_type": "code",
   "execution_count": 7,
   "id": "c2b4c5cf-17d6-4f03-ad50-7aa8c8179315",
   "metadata": {},
   "outputs": [
    {
     "name": "stdout",
     "output_type": "stream",
     "text": [
      "[Errno 2] No such file or directory: 'error.txt'\n"
     ]
    }
   ],
   "source": [
    "###example\n",
    "try :\n",
    "    with open (\"error.txt\",\"r\") as f:\n",
    "        f.read()\n",
    "except Exception as ex:\n",
    "    print(ex)"
   ]
  },
  {
   "cell_type": "markdown",
   "id": "4d059fc8-0fb6-4124-9fdc-e20fef34ca74",
   "metadata": {},
   "source": [
    "#### Q4 explain with example"
   ]
  },
  {
   "cell_type": "code",
   "execution_count": 17,
   "id": "ace59fd0-df8d-4fa0-b6ef-94506f369ef0",
   "metadata": {},
   "outputs": [
    {
     "name": "stdout",
     "output_type": "stream",
     "text": [
      "1.1111111111111112\n"
     ]
    }
   ],
   "source": [
    "### try and else\n",
    "try:\n",
    "    a=10\n",
    "    b=9\n",
    "    c=a/b\n",
    "except Exception as ex:\n",
    "    print(ex)\n",
    "else:\n",
    "    print(c)\n",
    "## If no error occur at our try bolck we can do some other action under else block"
   ]
  },
  {
   "cell_type": "code",
   "execution_count": 19,
   "id": "608739e0-14bc-42ef-ab3b-bf59d02e2a0f",
   "metadata": {},
   "outputs": [
    {
     "name": "stdout",
     "output_type": "stream",
     "text": [
      "division by zero\n",
      "if any error occur or not this bloch code will run\n"
     ]
    }
   ],
   "source": [
    "### Finally: if any exception occur in try block , the finally block code will run\n",
    "try:\n",
    "    a=10\n",
    "    b=0\n",
    "    c=a/b\n",
    "except Exception as ex:\n",
    "    print(ex)\n",
    "finally:\n",
    "    print(\"if any error occur or not this bloch code will run\")\n"
   ]
  },
  {
   "cell_type": "code",
   "execution_count": 25,
   "id": "d1a0df68-1d6f-4031-9cb8-9e339c5e768f",
   "metadata": {},
   "outputs": [
    {
     "ename": "Exception",
     "evalue": "you are not elligbile for to apply election card",
     "output_type": "error",
     "traceback": [
      "\u001b[1;31m---------------------------------------------------------------------------\u001b[0m",
      "\u001b[1;31mException\u001b[0m                                 Traceback (most recent call last)",
      "Input \u001b[1;32mIn [25]\u001b[0m, in \u001b[0;36m<cell line: 3>\u001b[1;34m()\u001b[0m\n\u001b[0;32m      2\u001b[0m voteage\u001b[38;5;241m=\u001b[39m\u001b[38;5;241m17\u001b[39m\n\u001b[0;32m      3\u001b[0m \u001b[38;5;28;01mif\u001b[39;00m voteage \u001b[38;5;241m<\u001b[39m \u001b[38;5;241m18\u001b[39m:\n\u001b[1;32m----> 4\u001b[0m     \u001b[38;5;28;01mraise\u001b[39;00m  \u001b[38;5;167;01mException\u001b[39;00m(\u001b[38;5;124m\"\u001b[39m\u001b[38;5;124myou are not elligbile for to apply election card\u001b[39m\u001b[38;5;124m\"\u001b[39m)\n",
      "\u001b[1;31mException\u001b[0m: you are not elligbile for to apply election card"
     ]
    }
   ],
   "source": [
    "## Raise : Raise is a key word to raise the exception any place in our code\n",
    "voteage=17\n",
    "if voteage < 18:\n",
    "    raise  Exception(\"you are not elligbile for to apply election card\")"
   ]
  },
  {
   "cell_type": "markdown",
   "id": "f317699b-f02d-4ca0-9323-5366ec43b44e",
   "metadata": {},
   "source": [
    "#### Q5. What are custom exception in python?\n",
    "- Custom exception is an exception to created by user based onrequirement.\n",
    "#### Why do we need custom exception?\n",
    "- developers can create specific error messages and handling logic that is tailored to their particular needs\n",
    "#### Custom exception example:\n",
    "- below 28 line provide the example\n"
   ]
  },
  {
   "cell_type": "code",
   "execution_count": 28,
   "id": "5c8a980a-e772-482c-a6ff-e84e666b1f11",
   "metadata": {},
   "outputs": [],
   "source": [
    "class Error(Exception):\n",
    "    pass\n",
    "class voterIderror(Error):\n",
    "    pass"
   ]
  },
  {
   "cell_type": "markdown",
   "id": "6f43ada4-3538-4e8d-a06f-463c1dddeff9",
   "metadata": {},
   "source": [
    "#### Q6. create a custom exception class "
   ]
  },
  {
   "cell_type": "code",
   "execution_count": 26,
   "id": "60d846b9-2bb8-4acf-96cc-67071a947a37",
   "metadata": {},
   "outputs": [],
   "source": [
    "class Error(Exception):\n",
    "    pass\n",
    "class voterIderror(Error):\n",
    "    pass"
   ]
  },
  {
   "cell_type": "code",
   "execution_count": 27,
   "id": "99ce11ad-04b8-4ac0-9bec-553acbbba1a3",
   "metadata": {},
   "outputs": [
    {
     "name": "stdout",
     "output_type": "stream",
     "text": [
      "You are not eligible to apply votter Id\n"
     ]
    }
   ],
   "source": [
    "##handle this exception:\n",
    "\n",
    "try:\n",
    "    age=17\n",
    "    if age>18:\n",
    "        print(\"you are eligible to apply voter id\")\n",
    "    else:\n",
    "        raise voterIderror\n",
    "except voterIderror:\n",
    "    print(\"You are not eligible to apply votter Id\")"
   ]
  },
  {
   "cell_type": "code",
   "execution_count": null,
   "id": "25072069-3206-4af1-a0d1-243a8111740f",
   "metadata": {},
   "outputs": [],
   "source": []
  }
 ],
 "metadata": {
  "kernelspec": {
   "display_name": "Python 3 (ipykernel)",
   "language": "python",
   "name": "python3"
  },
  "language_info": {
   "codemirror_mode": {
    "name": "ipython",
    "version": 3
   },
   "file_extension": ".py",
   "mimetype": "text/x-python",
   "name": "python",
   "nbconvert_exporter": "python",
   "pygments_lexer": "ipython3",
   "version": "3.9.12"
  }
 },
 "nbformat": 4,
 "nbformat_minor": 5
}
