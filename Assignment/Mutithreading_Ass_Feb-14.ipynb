{
 "cells": [
  {
   "cell_type": "markdown",
   "id": "e938b5c9-06f4-4fb5-94c7-f49ec1ff2a66",
   "metadata": {
    "tags": []
   },
   "source": [
    "#### Q1. what is multithreading in python? \n",
    "- To run multiple threads simultanesouly within a single process\n",
    "#### why is it used? \n",
    "- Multiple task executes simultanesouly such as downloading file, updating UI elements and performing I/O operations\n",
    "#### Name the module used to handle threads in python\n",
    "- Threading"
   ]
  },
  {
   "cell_type": "markdown",
   "id": "05130fed-757a-43a6-a752-ae370d5ee8de",
   "metadata": {},
   "source": [
    "#### Q2. Why threading module used?\n",
    "- threading module used to create and manage the threads. Its provid run the multiple threads in singe processs.\n",
    "#### activeCount()\n",
    "- in this method retun the count of active or running thread\n",
    "#### currentThread()\n",
    "- its return the current thread object\n",
    "#### enumerate()\n",
    "- returns a list of all Thread objects currently alive"
   ]
  },
  {
   "cell_type": "markdown",
   "id": "ae286817-6111-4f7c-9d76-696a217de0f4",
   "metadata": {},
   "source": [
    "#### Q3. Explain the following functions\n",
    "#### run\n",
    "#### start()\n",
    "- to start the thread \n",
    "#### join()\n",
    "- join() method will return and the current thread can continue to execute.\n",
    "#### isalive\n",
    "- this method to check thread is still alive or has completed execution"
   ]
  },
  {
   "cell_type": "markdown",
   "id": "b45f32dd-78f5-4af4-97a5-2ce4cb6605ca",
   "metadata": {
    "tags": []
   },
   "source": [
    "#### Q4. write a python program to create two threads. \n",
    "#### Thread one must print the list of squares and thread  two  must print the list of cubes"
   ]
  },
  {
   "cell_type": "code",
   "execution_count": 9,
   "id": "004318e9-f16a-43d6-98ab-a2b030e8917f",
   "metadata": {},
   "outputs": [],
   "source": [
    "import threading\n",
    "def square(n):\n",
    "    for i in range(n):\n",
    "        print(\"square value is\", i*i)\n",
    "    \n",
    "def cube(n):\n",
    "    for i in range(n):\n",
    "        print(\"cube value is\", i*i*i)\n",
    "    "
   ]
  },
  {
   "cell_type": "code",
   "execution_count": 12,
   "id": "f28b4913-a178-43f4-a364-4bbc52fa3879",
   "metadata": {},
   "outputs": [
    {
     "name": "stdout",
     "output_type": "stream",
     "text": [
      "square value is 0\n",
      "square value is 1\n",
      "square value is 4\n",
      "square value is 9\n",
      "square value iscube value is 0\n",
      "cube value is 1\n",
      "cube value is 8\n",
      "cube value is 27\n",
      " 16\n",
      "cube value is 64\n"
     ]
    }
   ],
   "source": [
    "if __name__==\"__main__\":\n",
    "    t1=threading.Thread(target=square,args=(5,))\n",
    "    t2=threading.Thread(target=cube,args=(5,))\n",
    "    t1.start()\n",
    "    t2.start()"
   ]
  },
  {
   "cell_type": "markdown",
   "id": "5b9fd5e6-56ab-4a48-8e5e-6297d592e99b",
   "metadata": {},
   "source": [
    "#### Q5. State advantages and disadvantages of multithreading"
   ]
  },
  {
   "cell_type": "markdown",
   "id": "5fafabf9-cea7-40e6-afd5-4431014f850f",
   "metadata": {},
   "source": [
    "#### Advantages:\n",
    "- increased performance\n",
    "- resource sharing\n",
    "- responsivenes\n",
    "#### dis-advantages:\n",
    "- complexity\n",
    "- deadlcoks\n",
    "- synchronization"
   ]
  },
  {
   "cell_type": "markdown",
   "id": "c0361abf-f10d-4290-9051-366f57f409f2",
   "metadata": {},
   "source": [
    "#### Q6.Explain deadlocks and race conditions."
   ]
  },
  {
   "cell_type": "markdown",
   "id": "7068782e-c9d0-4818-a33d-33e23f909b17",
   "metadata": {},
   "source": [
    "Deadlock is a situation where two or more threads are blocked indefinitely, waiting for each other to release resources. This can happen when two threads are trying to access the same resource at the same time, but they both need another resource that the other thread is holding. As a result, both threads are blocked and cannot proceed.\n",
    "\n",
    "Race conditions occur when two or more threads are accessing the same shared data or resource, and the final outcome depends on the order in which the threads execute. The problem arises when two or more threads try to modify the shared data at the same time, and the final value of the data depends on the order in which the threads execute. This can lead to inconsistent or unexpected results."
   ]
  },
  {
   "cell_type": "code",
   "execution_count": null,
   "id": "bd6fabc6-a9c0-4ae8-8ca8-01056dd33c9b",
   "metadata": {},
   "outputs": [],
   "source": []
  }
 ],
 "metadata": {
  "kernelspec": {
   "display_name": "Python 3 (ipykernel)",
   "language": "python",
   "name": "python3"
  },
  "language_info": {
   "codemirror_mode": {
    "name": "ipython",
    "version": 3
   },
   "file_extension": ".py",
   "mimetype": "text/x-python",
   "name": "python",
   "nbconvert_exporter": "python",
   "pygments_lexer": "ipython3",
   "version": "3.9.12"
  }
 },
 "nbformat": 4,
 "nbformat_minor": 5
}
