{
 "cells": [
  {
   "cell_type": "markdown",
   "id": "f7331ad6-f92f-4de5-9890-1882e5848ea3",
   "metadata": {},
   "source": [
    "#### Q1. Which keyword is used to create a function? Create a function to return a list of odd numbers in the \n",
    "#### range of 1 to 25."
   ]
  },
  {
   "cell_type": "code",
   "execution_count": 1,
   "id": "c4f04cda-8ae4-458c-85d5-155395ca6430",
   "metadata": {},
   "outputs": [],
   "source": [
    "### def keyword is use to create a function\n",
    "\n",
    "def oddnum():\n",
    "    return [ i for i in range(1,26) if i%2!=0]"
   ]
  },
  {
   "cell_type": "code",
   "execution_count": 2,
   "id": "ae91bea9-812a-4193-80d2-7e7c3e8a0ca3",
   "metadata": {},
   "outputs": [
    {
     "data": {
      "text/plain": [
       "[1, 3, 5, 7, 9, 11, 13, 15, 17, 19, 21, 23, 25]"
      ]
     },
     "execution_count": 2,
     "metadata": {},
     "output_type": "execute_result"
    }
   ],
   "source": [
    "oddnum()"
   ]
  },
  {
   "cell_type": "markdown",
   "id": "be46992c-387d-49fd-8b78-4e1b280e13c7",
   "metadata": {},
   "source": [
    "####  Q2. Why *args and **kwargs is used in some functions? Create a function each for *args and **kwargs to demonstrate their use."
   ]
  },
  {
   "cell_type": "markdown",
   "id": "e603dcec-71ab-4731-a7a3-4f2002e0c62a",
   "metadata": {},
   "source": [
    "##### *args is used to pass a non-keyworded, variable-length argument list to a function. It is used when you are not sure #### about the number of arguments that will be passed to the function.\n",
    "\n"
   ]
  },
  {
   "cell_type": "code",
   "execution_count": 4,
   "id": "15989a2b-5c5d-4ff6-8ac2-eb024ddb15bf",
   "metadata": {},
   "outputs": [],
   "source": [
    "def args(*args):\n",
    "    for i in args:\n",
    "        print(i)"
   ]
  },
  {
   "cell_type": "code",
   "execution_count": 5,
   "id": "e57b0973-cf42-41de-81c6-b4818efad09a",
   "metadata": {},
   "outputs": [
    {
     "name": "stdout",
     "output_type": "stream",
     "text": [
      "1\n",
      "2\n",
      "3\n",
      "4\n"
     ]
    }
   ],
   "source": [
    "args(1,2,3,4)"
   ]
  },
  {
   "cell_type": "markdown",
   "id": "f7c13e2b-28ba-454d-b8a0-e39da5a2bd1b",
   "metadata": {},
   "source": [
    "##### **kwargs is used to pass keyworded, variable-length argument list to a function. It allows you to pass keyword \n",
    "##### arguments to a function, where the keyword names are used as the argument names."
   ]
  },
  {
   "cell_type": "code",
   "execution_count": 9,
   "id": "b7a51018-04e7-451b-b161-d0171cc07387",
   "metadata": {},
   "outputs": [],
   "source": [
    "def kargu(**kargus):\n",
    "    for key,value in kargus.items():\n",
    "        print(\"The key is {} and value is {}\".format(key,value))"
   ]
  },
  {
   "cell_type": "code",
   "execution_count": 10,
   "id": "8d44ad15-3202-4bb6-84bf-5714a06da30f",
   "metadata": {},
   "outputs": [
    {
     "name": "stdout",
     "output_type": "stream",
     "text": [
      "The key is name and value is John\n",
      "The key is age and value is 32\n",
      "The key is city and value is New York\n"
     ]
    }
   ],
   "source": [
    "kargu(name=\"John\", age=32, city=\"New York\")"
   ]
  },
  {
   "cell_type": "markdown",
   "id": "c6396b99-f5b8-4c19-b2d0-b6b4af4bca24",
   "metadata": {},
   "source": [
    "#### Q3. What is an iterator in python? Name the method used to initialise the iterator object and the method\n",
    "#### used for iteration. Use these methods to print the first five elements of the given list\n"
   ]
  },
  {
   "cell_type": "raw",
   "id": "0f22715e-bc2b-4e14-a781-9b54762ba3b3",
   "metadata": {},
   "source": [
    "The __iter__ method initializes the iterator and returns the iterator object, and the __next__ method returns the next value from the iterator, raising a StopIteration exception when there are no more values to return."
   ]
  },
  {
   "cell_type": "code",
   "execution_count": 15,
   "id": "61089222-64e6-4b13-8357-65762e99eec4",
   "metadata": {},
   "outputs": [
    {
     "name": "stdout",
     "output_type": "stream",
     "text": [
      "2\n",
      "4\n",
      "6\n",
      "8\n",
      "10\n"
     ]
    }
   ],
   "source": [
    "lst=[2, 4, 6, 8, 10, 12, 14, 16,18, 20]\n",
    "\n",
    "##create Iterator object\n",
    "iterator=iter(lst)\n",
    "for i in range(5):\n",
    "    print(next(iterator))"
   ]
  },
  {
   "cell_type": "markdown",
   "id": "5218f7fe-8f78-4e06-9d40-b523fde193c1",
   "metadata": {},
   "source": [
    "#### Q4. What is a generator function in python? Why yield keyword is used? Give an example of a generator\n",
    "#### function."
   ]
  },
  {
   "cell_type": "raw",
   "id": "4f242f7c-809f-42f0-963a-d2c360485338",
   "metadata": {},
   "source": [
    "A generator function in python is a special type of function that returns a generator object that can be iterated over one item at a time. The \"yield\" keyword is used instead of \"return\" to produce a value for each iteration, and the generator function resumes from where it left off after each value is produced."
   ]
  },
  {
   "cell_type": "code",
   "execution_count": 16,
   "id": "2caf3e5f-6e25-4dc6-a8a2-e871504baec9",
   "metadata": {},
   "outputs": [],
   "source": [
    "def generator():\n",
    "    yield \"hello generator\"\n"
   ]
  },
  {
   "cell_type": "code",
   "execution_count": 17,
   "id": "640dc668-7adb-4a20-802a-7cda67cb8e41",
   "metadata": {},
   "outputs": [
    {
     "data": {
      "text/plain": [
       "<generator object generator at 0x000001E29D6B7970>"
      ]
     },
     "execution_count": 17,
     "metadata": {},
     "output_type": "execute_result"
    }
   ],
   "source": [
    "generator()"
   ]
  },
  {
   "cell_type": "code",
   "execution_count": 18,
   "id": "f8200277-db8b-4cb7-a2b5-940b17c65725",
   "metadata": {},
   "outputs": [
    {
     "data": {
      "text/plain": [
       "'hello generator'"
      ]
     },
     "execution_count": 18,
     "metadata": {},
     "output_type": "execute_result"
    }
   ],
   "source": [
    "next(generator())"
   ]
  },
  {
   "cell_type": "markdown",
   "id": "b3b0b377-3b02-49c3-a7f6-9dd27f10c194",
   "metadata": {},
   "source": [
    "#### Q5. Create a generator function for prime numbers less than 1000. Use the next() method to print the\n",
    "#### first 20 prime numbers."
   ]
  },
  {
   "cell_type": "code",
   "execution_count": 21,
   "id": "b798cb0c-921f-4b06-8bd9-55c7050c123d",
   "metadata": {},
   "outputs": [],
   "source": [
    "def prim(limit):\n",
    "    num=2\n",
    "    while num<limit:\n",
    "        for i in range(2,num):\n",
    "            if(num% i==0):\n",
    "                break\n",
    "            else:\n",
    "                yield num\n",
    "        num+=1\n",
    "             \n",
    "    "
   ]
  },
  {
   "cell_type": "code",
   "execution_count": 23,
   "id": "efb2c08d-cece-404a-8558-b9d40c6656b4",
   "metadata": {},
   "outputs": [],
   "source": [
    "prime_gen = prim(1000)"
   ]
  },
  {
   "cell_type": "code",
   "execution_count": 27,
   "id": "0b267109-30bd-4aa9-bf44-123be0a04488",
   "metadata": {},
   "outputs": [
    {
     "name": "stdout",
     "output_type": "stream",
     "text": [
      "19\n",
      "19\n",
      "19\n",
      "19\n",
      "19\n",
      "19\n",
      "21\n",
      "23\n",
      "23\n",
      "23\n",
      "23\n",
      "23\n",
      "23\n",
      "23\n",
      "23\n",
      "23\n",
      "23\n",
      "23\n",
      "23\n",
      "23\n"
     ]
    }
   ],
   "source": [
    "count = 0\n",
    "while count < 20:\n",
    "    print(next(prime_gen))\n",
    "    count += 1"
   ]
  },
  {
   "cell_type": "code",
   "execution_count": null,
   "id": "51e1657d-a8fb-4d27-9ae7-c9326ba704ab",
   "metadata": {},
   "outputs": [],
   "source": []
  }
 ],
 "metadata": {
  "kernelspec": {
   "display_name": "Python 3 (ipykernel)",
   "language": "python",
   "name": "python3"
  },
  "language_info": {
   "codemirror_mode": {
    "name": "ipython",
    "version": 3
   },
   "file_extension": ".py",
   "mimetype": "text/x-python",
   "name": "python",
   "nbconvert_exporter": "python",
   "pygments_lexer": "ipython3",
   "version": "3.9.12"
  }
 },
 "nbformat": 4,
 "nbformat_minor": 5
}
