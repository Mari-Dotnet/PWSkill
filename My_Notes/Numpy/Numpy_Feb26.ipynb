{
 "cells": [
  {
   "cell_type": "markdown",
   "id": "ad178dc1-182d-4f58-9f85-c523fc15e8d0",
   "metadata": {},
   "source": [
    "#### Part -1"
   ]
  },
  {
   "cell_type": "code",
   "execution_count": 62,
   "id": "6dd87be1-ef25-4fa7-a921-a86becc60fe7",
   "metadata": {},
   "outputs": [],
   "source": [
    "import numpy as np"
   ]
  },
  {
   "cell_type": "code",
   "execution_count": 153,
   "id": "70241a0f-c5ad-44f9-82af-5c704cd3b87e",
   "metadata": {},
   "outputs": [
    {
     "data": {
      "text/plain": [
       "list"
      ]
     },
     "execution_count": 153,
     "metadata": {},
     "output_type": "execute_result"
    }
   ],
   "source": [
    "ls=[1,2,3,4,5]\n",
    "type(ls)"
   ]
  },
  {
   "cell_type": "code",
   "execution_count": 7,
   "id": "17759e32-ba9f-47fb-b578-c1640642dcd6",
   "metadata": {},
   "outputs": [
    {
     "data": {
      "text/plain": [
       "array([1, 2, 3, 4, 5])"
      ]
     },
     "execution_count": 7,
     "metadata": {},
     "output_type": "execute_result"
    }
   ],
   "source": [
    "arr=np.array(ls)\n",
    "arr"
   ]
  },
  {
   "cell_type": "code",
   "execution_count": 8,
   "id": "2015074f-5227-4d86-b947-11b8253bd8bd",
   "metadata": {},
   "outputs": [
    {
     "data": {
      "text/plain": [
       "numpy.ndarray"
      ]
     },
     "execution_count": 8,
     "metadata": {},
     "output_type": "execute_result"
    }
   ],
   "source": [
    "type(arr)"
   ]
  },
  {
   "cell_type": "code",
   "execution_count": 13,
   "id": "615740a4-f790-4d6a-86da-2ca8cccb611e",
   "metadata": {},
   "outputs": [],
   "source": [
    "arr2=np.array([[1,2,3],[4,5,6]])"
   ]
  },
  {
   "cell_type": "code",
   "execution_count": 14,
   "id": "e0d393e1-765a-401e-8738-bc4322d67bfc",
   "metadata": {},
   "outputs": [
    {
     "data": {
      "text/plain": [
       "2"
      ]
     },
     "execution_count": 14,
     "metadata": {},
     "output_type": "execute_result"
    }
   ],
   "source": [
    "arr2.ndim"
   ]
  },
  {
   "cell_type": "code",
   "execution_count": 15,
   "id": "50010616-d20b-448e-8394-3759c76c49a2",
   "metadata": {},
   "outputs": [
    {
     "data": {
      "text/plain": [
       "array([[1, 2, 3],\n",
       "       [4, 5, 6]])"
      ]
     },
     "execution_count": 15,
     "metadata": {},
     "output_type": "execute_result"
    }
   ],
   "source": [
    "arr2"
   ]
  },
  {
   "cell_type": "code",
   "execution_count": 16,
   "id": "663d88aa-1e6a-41f1-975c-7fbe6ec8b4b0",
   "metadata": {},
   "outputs": [],
   "source": [
    "mat=np.matrix(ls)"
   ]
  },
  {
   "cell_type": "code",
   "execution_count": 17,
   "id": "5a4fc104-037e-4b2f-a22a-464ee4541270",
   "metadata": {},
   "outputs": [
    {
     "data": {
      "text/plain": [
       "matrix([[1, 2, 3, 4, 5]])"
      ]
     },
     "execution_count": 17,
     "metadata": {},
     "output_type": "execute_result"
    }
   ],
   "source": [
    "mat"
   ]
  },
  {
   "cell_type": "code",
   "execution_count": 22,
   "id": "76199ba9-1cc7-4ff0-8b9d-a1853c50c00e",
   "metadata": {},
   "outputs": [
    {
     "data": {
      "text/plain": [
       "matrix([[1, 2, 3, 4, 5]])"
      ]
     },
     "execution_count": 22,
     "metadata": {},
     "output_type": "execute_result"
    }
   ],
   "source": [
    "np.asanyarray(mat)"
   ]
  },
  {
   "cell_type": "code",
   "execution_count": 23,
   "id": "5b2e3826-67a0-47ec-a9b6-522bc9984c3f",
   "metadata": {},
   "outputs": [
    {
     "data": {
      "text/plain": [
       "array([1, 2, 3, 4, 5])"
      ]
     },
     "execution_count": 23,
     "metadata": {},
     "output_type": "execute_result"
    }
   ],
   "source": [
    "arr"
   ]
  },
  {
   "cell_type": "code",
   "execution_count": 24,
   "id": "63fc186d-f8db-4714-9de5-5eb93987846b",
   "metadata": {},
   "outputs": [],
   "source": [
    "arr[0]=12"
   ]
  },
  {
   "cell_type": "code",
   "execution_count": 25,
   "id": "cf863535-1410-439d-84f9-b24e7f9066d6",
   "metadata": {},
   "outputs": [],
   "source": [
    "a=arr"
   ]
  },
  {
   "cell_type": "code",
   "execution_count": 26,
   "id": "c2fec5c0-cb03-48da-963a-24904ada3f9d",
   "metadata": {},
   "outputs": [
    {
     "data": {
      "text/plain": [
       "array([12,  2,  3,  4,  5])"
      ]
     },
     "execution_count": 26,
     "metadata": {},
     "output_type": "execute_result"
    }
   ],
   "source": [
    "a"
   ]
  },
  {
   "cell_type": "code",
   "execution_count": 27,
   "id": "df4c31c5-03bb-477e-a89a-2f466b94d132",
   "metadata": {},
   "outputs": [],
   "source": [
    "arr[1]=20"
   ]
  },
  {
   "cell_type": "code",
   "execution_count": 29,
   "id": "88a1226a-7a49-4873-a68d-37aec31981ae",
   "metadata": {},
   "outputs": [
    {
     "data": {
      "text/plain": [
       "array([12, 20,  3,  4,  5])"
      ]
     },
     "execution_count": 29,
     "metadata": {},
     "output_type": "execute_result"
    }
   ],
   "source": [
    "a\n",
    "## in this case both values are changes in a and arr"
   ]
  },
  {
   "cell_type": "code",
   "execution_count": 33,
   "id": "9bd614a5-573c-49ab-86c9-a16a7fa4a0e5",
   "metadata": {},
   "outputs": [],
   "source": [
    "b=np.copy(arr)"
   ]
  },
  {
   "cell_type": "code",
   "execution_count": 34,
   "id": "6a2c8316-0649-466a-bfe6-c1d5927f5642",
   "metadata": {},
   "outputs": [
    {
     "data": {
      "text/plain": [
       "array([12, 20,  3,  4,  5])"
      ]
     },
     "execution_count": 34,
     "metadata": {},
     "output_type": "execute_result"
    }
   ],
   "source": [
    "b"
   ]
  },
  {
   "cell_type": "code",
   "execution_count": 35,
   "id": "734ad662-a9b8-49d0-98a8-3b3a97c6a3fd",
   "metadata": {},
   "outputs": [],
   "source": [
    "arr[0]=100"
   ]
  },
  {
   "cell_type": "code",
   "execution_count": 36,
   "id": "e0b9b0ca-ec46-43a4-b89f-22e099346324",
   "metadata": {},
   "outputs": [
    {
     "data": {
      "text/plain": [
       "array([100,  20,   3,   4,   5])"
      ]
     },
     "execution_count": 36,
     "metadata": {},
     "output_type": "execute_result"
    }
   ],
   "source": [
    "arr"
   ]
  },
  {
   "cell_type": "code",
   "execution_count": 37,
   "id": "0cdcf0c5-9a38-499a-92e0-1819d731a394",
   "metadata": {},
   "outputs": [
    {
     "data": {
      "text/plain": [
       "array([12, 20,  3,  4,  5])"
      ]
     },
     "execution_count": 37,
     "metadata": {},
     "output_type": "execute_result"
    }
   ],
   "source": [
    "b"
   ]
  },
  {
   "cell_type": "code",
   "execution_count": 38,
   "id": "a5332b39-b917-46f2-a04f-e7cd5542f1d6",
   "metadata": {},
   "outputs": [
    {
     "data": {
      "text/plain": [
       "array([[ True, False],\n",
       "       [False,  True]])"
      ]
     },
     "execution_count": 38,
     "metadata": {},
     "output_type": "execute_result"
    }
   ],
   "source": [
    "np.fromfunction(lambda i,j : i==j,(2,2))"
   ]
  },
  {
   "cell_type": "code",
   "execution_count": 42,
   "id": "e5f147c3-440f-4f14-9c55-8680f0eda4fa",
   "metadata": {},
   "outputs": [
    {
     "data": {
      "text/plain": [
       "array([[ 0.,  0.],\n",
       "       [10., 10.]])"
      ]
     },
     "execution_count": 42,
     "metadata": {},
     "output_type": "execute_result"
    }
   ],
   "source": [
    "np.fromfunction(lambda i,j : i*10,(2,2))"
   ]
  },
  {
   "cell_type": "code",
   "execution_count": 45,
   "id": "a38dcdfe-9421-44a3-ae8d-42bf1ef5833d",
   "metadata": {},
   "outputs": [
    {
     "data": {
      "text/plain": [
       "[0, 1, 4, 9, 16]"
      ]
     },
     "execution_count": 45,
     "metadata": {},
     "output_type": "execute_result"
    }
   ],
   "source": [
    "list(i*i for i in range(0,5))"
   ]
  },
  {
   "cell_type": "code",
   "execution_count": 46,
   "id": "7952f6c8-90ee-4634-8cc6-51a2bf19d343",
   "metadata": {},
   "outputs": [],
   "source": [
    "iterable=(i*i for i in range(0,5))"
   ]
  },
  {
   "cell_type": "code",
   "execution_count": 47,
   "id": "c8669f0f-31df-41a2-9c30-c35000194c7a",
   "metadata": {},
   "outputs": [
    {
     "data": {
      "text/plain": [
       "array([ 0,  1,  4,  9, 16])"
      ]
     },
     "execution_count": 47,
     "metadata": {},
     "output_type": "execute_result"
    }
   ],
   "source": [
    "np.fromiter(iterable,int)"
   ]
  },
  {
   "cell_type": "code",
   "execution_count": 49,
   "id": "0723b144-f381-4e07-af48-39f9baa79733",
   "metadata": {},
   "outputs": [
    {
     "data": {
      "text/plain": [
       "array([23., 34., 45.])"
      ]
     },
     "execution_count": 49,
     "metadata": {},
     "output_type": "execute_result"
    }
   ],
   "source": [
    "np.fromstring('23 34 45',sep= ' ')"
   ]
  },
  {
   "cell_type": "code",
   "execution_count": 50,
   "id": "700769df-f9a7-4117-b601-7037ec3ef355",
   "metadata": {},
   "outputs": [
    {
     "data": {
      "text/plain": [
       "array([23.34, 45.  ])"
      ]
     },
     "execution_count": 50,
     "metadata": {},
     "output_type": "execute_result"
    }
   ],
   "source": [
    "np.fromstring('23.34.45',sep= '.')"
   ]
  },
  {
   "cell_type": "code",
   "execution_count": 53,
   "id": "352c58c0-2355-4ca6-b64b-adf59b22bd0e",
   "metadata": {},
   "outputs": [
    {
     "data": {
      "text/plain": [
       "array([[1, 2, 3],\n",
       "       [4, 5, 6]])"
      ]
     },
     "execution_count": 53,
     "metadata": {},
     "output_type": "execute_result"
    }
   ],
   "source": [
    "arr2"
   ]
  },
  {
   "cell_type": "code",
   "execution_count": 54,
   "id": "78099592-bfb3-46e2-85fa-a72e6221250f",
   "metadata": {},
   "outputs": [
    {
     "data": {
      "text/plain": [
       "2"
      ]
     },
     "execution_count": 54,
     "metadata": {},
     "output_type": "execute_result"
    }
   ],
   "source": [
    "arr2.ndim"
   ]
  },
  {
   "cell_type": "code",
   "execution_count": 55,
   "id": "213fee65-590e-4942-9131-6ebdd6839be4",
   "metadata": {},
   "outputs": [
    {
     "data": {
      "text/plain": [
       "6"
      ]
     },
     "execution_count": 55,
     "metadata": {},
     "output_type": "execute_result"
    }
   ],
   "source": [
    "arr2.size"
   ]
  },
  {
   "cell_type": "code",
   "execution_count": 57,
   "id": "18267ecc-bb6f-4a6f-8385-d5517b39f749",
   "metadata": {},
   "outputs": [
    {
     "data": {
      "text/plain": [
       "(2, 3)"
      ]
     },
     "execution_count": 57,
     "metadata": {},
     "output_type": "execute_result"
    }
   ],
   "source": [
    "arr2.shape"
   ]
  },
  {
   "cell_type": "code",
   "execution_count": 61,
   "id": "3a70e1ca-fd80-4936-b9eb-99a6ae7b91b4",
   "metadata": {},
   "outputs": [
    {
     "data": {
      "text/plain": [
       "dtype('int32')"
      ]
     },
     "execution_count": 61,
     "metadata": {},
     "output_type": "execute_result"
    }
   ],
   "source": [
    "arr2.dtype"
   ]
  },
  {
   "cell_type": "markdown",
   "id": "810371b1-8d52-494e-87b2-9fa09ff6ebb2",
   "metadata": {},
   "source": [
    "### Part-2"
   ]
  },
  {
   "cell_type": "code",
   "execution_count": 64,
   "id": "26b632ad-4b69-45e7-87a3-7cd1f7d1d86a",
   "metadata": {},
   "outputs": [
    {
     "data": {
      "text/plain": [
       "[0, 1, 2, 3, 4]"
      ]
     },
     "execution_count": 64,
     "metadata": {},
     "output_type": "execute_result"
    }
   ],
   "source": [
    "list(range(5))"
   ]
  },
  {
   "cell_type": "code",
   "execution_count": 65,
   "id": "7922fd30-aa7d-45ca-9631-47593feed636",
   "metadata": {},
   "outputs": [
    {
     "data": {
      "text/plain": [
       "[0, 1, 2, 3, 4, 5, 6, 7, 8, 9]"
      ]
     },
     "execution_count": 65,
     "metadata": {},
     "output_type": "execute_result"
    }
   ],
   "source": [
    "list(range(0,10))"
   ]
  },
  {
   "cell_type": "code",
   "execution_count": 66,
   "id": "cd7ce269-0f95-438e-b078-707079e7eb98",
   "metadata": {},
   "outputs": [
    {
     "ename": "TypeError",
     "evalue": "'float' object cannot be interpreted as an integer",
     "output_type": "error",
     "traceback": [
      "\u001b[1;31m---------------------------------------------------------------------------\u001b[0m",
      "\u001b[1;31mTypeError\u001b[0m                                 Traceback (most recent call last)",
      "Input \u001b[1;32mIn [66]\u001b[0m, in \u001b[0;36m<cell line: 1>\u001b[1;34m()\u001b[0m\n\u001b[1;32m----> 1\u001b[0m \u001b[38;5;28mlist\u001b[39m(\u001b[38;5;28;43mrange\u001b[39;49m\u001b[43m(\u001b[49m\u001b[38;5;241;43m0.4\u001b[39;49m\u001b[43m,\u001b[49m\u001b[38;5;241;43m10.4\u001b[39;49m\u001b[43m,\u001b[49m\u001b[38;5;241;43m0.1\u001b[39;49m\u001b[43m)\u001b[49m)\n",
      "\u001b[1;31mTypeError\u001b[0m: 'float' object cannot be interpreted as an integer"
     ]
    }
   ],
   "source": [
    "list(range(0.4,10.4,0.1))"
   ]
  },
  {
   "cell_type": "code",
   "execution_count": 67,
   "id": "a2933660-7b27-4ee0-bbb1-7d46590eac02",
   "metadata": {},
   "outputs": [
    {
     "data": {
      "text/plain": [
       "array([0.1, 0.2, 0.3, 0.4, 0.5, 0.6, 0.7, 0.8, 0.9])"
      ]
     },
     "execution_count": 67,
     "metadata": {},
     "output_type": "execute_result"
    }
   ],
   "source": [
    "np.arange(0.1,1,0.1)"
   ]
  },
  {
   "cell_type": "code",
   "execution_count": 68,
   "id": "7bed1bf7-33ad-4708-a4d6-7bea82eb33bd",
   "metadata": {},
   "outputs": [
    {
     "data": {
      "text/plain": [
       "array([ 0.        ,  1.11111111,  2.22222222,  3.33333333,  4.44444444,\n",
       "        5.55555556,  6.66666667,  7.77777778,  8.88888889, 10.        ])"
      ]
     },
     "execution_count": 68,
     "metadata": {},
     "output_type": "execute_result"
    }
   ],
   "source": [
    "np.linspace(0,10,10)"
   ]
  },
  {
   "cell_type": "code",
   "execution_count": 69,
   "id": "18d36e8d-59e6-4d94-87ed-4853bcce0816",
   "metadata": {},
   "outputs": [
    {
     "data": {
      "text/plain": [
       "array([1.00000000e+00, 1.29154967e+01, 1.66810054e+02, 2.15443469e+03,\n",
       "       2.78255940e+04, 3.59381366e+05, 4.64158883e+06, 5.99484250e+07,\n",
       "       7.74263683e+08, 1.00000000e+10])"
      ]
     },
     "execution_count": 69,
     "metadata": {},
     "output_type": "execute_result"
    }
   ],
   "source": [
    "np.logspace(0,10,10)"
   ]
  },
  {
   "cell_type": "code",
   "execution_count": 70,
   "id": "740b7337-29d6-41e6-bed9-bfbe0405b598",
   "metadata": {},
   "outputs": [
    {
     "data": {
      "text/plain": [
       "array([0., 0., 0., 0., 0.])"
      ]
     },
     "execution_count": 70,
     "metadata": {},
     "output_type": "execute_result"
    }
   ],
   "source": [
    "np.zeros(5)"
   ]
  },
  {
   "cell_type": "code",
   "execution_count": 80,
   "id": "34357c43-9bdb-4d85-97f5-0280cdad5309",
   "metadata": {},
   "outputs": [
    {
     "data": {
      "text/plain": [
       "array([[[0.],\n",
       "        [0.]],\n",
       "\n",
       "       [[0.],\n",
       "        [0.]]])"
      ]
     },
     "execution_count": 80,
     "metadata": {},
     "output_type": "execute_result"
    }
   ],
   "source": [
    "np.zeros((2,2,1))"
   ]
  },
  {
   "cell_type": "code",
   "execution_count": 79,
   "id": "0b3f6981-09b9-4a06-ac54-bcd83235790f",
   "metadata": {},
   "outputs": [
    {
     "data": {
      "text/plain": [
       "array([[[0., 0., 0., 0.],\n",
       "        [0., 0., 0., 0.]],\n",
       "\n",
       "       [[0., 0., 0., 0.],\n",
       "        [0., 0., 0., 0.]],\n",
       "\n",
       "       [[0., 0., 0., 0.],\n",
       "        [0., 0., 0., 0.]]])"
      ]
     },
     "execution_count": 79,
     "metadata": {},
     "output_type": "execute_result"
    }
   ],
   "source": [
    "np.zeros((3,2,4))"
   ]
  },
  {
   "cell_type": "code",
   "execution_count": 82,
   "id": "fbb2bc02-dd11-4c98-89ab-ac7c687c9cba",
   "metadata": {},
   "outputs": [],
   "source": [
    "ze=np.zeros((3,3))"
   ]
  },
  {
   "cell_type": "code",
   "execution_count": 84,
   "id": "31ef7ba5-7c45-4d91-b71d-08a12068b2b8",
   "metadata": {},
   "outputs": [
    {
     "data": {
      "text/plain": [
       "9"
      ]
     },
     "execution_count": 84,
     "metadata": {},
     "output_type": "execute_result"
    }
   ],
   "source": [
    "ze.size"
   ]
  },
  {
   "cell_type": "code",
   "execution_count": 85,
   "id": "224ef2e8-5931-4a69-bd0b-af55b3fb4990",
   "metadata": {},
   "outputs": [
    {
     "data": {
      "text/plain": [
       "(3, 3)"
      ]
     },
     "execution_count": 85,
     "metadata": {},
     "output_type": "execute_result"
    }
   ],
   "source": [
    "ze.shape"
   ]
  },
  {
   "cell_type": "code",
   "execution_count": 87,
   "id": "8ff33ad2-f8ba-4766-b46b-382642b8184a",
   "metadata": {},
   "outputs": [],
   "source": [
    "on=np.ones((3,2))"
   ]
  },
  {
   "cell_type": "code",
   "execution_count": 89,
   "id": "0a22ee06-e1a2-41d6-9649-94f6867885b6",
   "metadata": {},
   "outputs": [
    {
     "data": {
      "text/plain": [
       "array([[5., 5.],\n",
       "       [5., 5.],\n",
       "       [5., 5.]])"
      ]
     },
     "execution_count": 89,
     "metadata": {},
     "output_type": "execute_result"
    }
   ],
   "source": [
    "on+4"
   ]
  },
  {
   "cell_type": "code",
   "execution_count": 90,
   "id": "8fa83b43-1ebd-4b4a-b661-c0e86acb357c",
   "metadata": {},
   "outputs": [
    {
     "data": {
      "text/plain": [
       "array([[1., 0.],\n",
       "       [0., 1.]])"
      ]
     },
     "execution_count": 90,
     "metadata": {},
     "output_type": "execute_result"
    }
   ],
   "source": [
    "np.eye(2,2)"
   ]
  },
  {
   "cell_type": "code",
   "execution_count": 91,
   "id": "ce2077fd-0d1a-494a-9cd3-218b76d8947c",
   "metadata": {},
   "outputs": [],
   "source": [
    "import pandas as pd"
   ]
  },
  {
   "cell_type": "code",
   "execution_count": 94,
   "id": "7ea49102-8971-4730-9c19-91aef77bc1ed",
   "metadata": {},
   "outputs": [],
   "source": [
    "arr2=np.eye(5)"
   ]
  },
  {
   "cell_type": "code",
   "execution_count": 95,
   "id": "135c2a1b-62a5-481a-9eb9-6f7f5aeba2e0",
   "metadata": {},
   "outputs": [
    {
     "data": {
      "text/plain": [
       "array([[1., 0., 0., 0., 0.],\n",
       "       [0., 1., 0., 0., 0.],\n",
       "       [0., 0., 1., 0., 0.],\n",
       "       [0., 0., 0., 1., 0.],\n",
       "       [0., 0., 0., 0., 1.]])"
      ]
     },
     "execution_count": 95,
     "metadata": {},
     "output_type": "execute_result"
    }
   ],
   "source": [
    "arr2"
   ]
  },
  {
   "cell_type": "code",
   "execution_count": 98,
   "id": "785bedfc-8ee5-4eab-9393-c20834f548fc",
   "metadata": {},
   "outputs": [
    {
     "data": {
      "text/html": [
       "<div>\n",
       "<style scoped>\n",
       "    .dataframe tbody tr th:only-of-type {\n",
       "        vertical-align: middle;\n",
       "    }\n",
       "\n",
       "    .dataframe tbody tr th {\n",
       "        vertical-align: top;\n",
       "    }\n",
       "\n",
       "    .dataframe thead th {\n",
       "        text-align: right;\n",
       "    }\n",
       "</style>\n",
       "<table border=\"1\" class=\"dataframe\">\n",
       "  <thead>\n",
       "    <tr style=\"text-align: right;\">\n",
       "      <th></th>\n",
       "      <th>a</th>\n",
       "      <th>b</th>\n",
       "      <th>c</th>\n",
       "      <th>d</th>\n",
       "      <th>e</th>\n",
       "    </tr>\n",
       "  </thead>\n",
       "  <tbody>\n",
       "    <tr>\n",
       "      <th>0</th>\n",
       "      <td>1.0</td>\n",
       "      <td>0.0</td>\n",
       "      <td>0.0</td>\n",
       "      <td>0.0</td>\n",
       "      <td>0.0</td>\n",
       "    </tr>\n",
       "    <tr>\n",
       "      <th>1</th>\n",
       "      <td>0.0</td>\n",
       "      <td>1.0</td>\n",
       "      <td>0.0</td>\n",
       "      <td>0.0</td>\n",
       "      <td>0.0</td>\n",
       "    </tr>\n",
       "    <tr>\n",
       "      <th>2</th>\n",
       "      <td>0.0</td>\n",
       "      <td>0.0</td>\n",
       "      <td>1.0</td>\n",
       "      <td>0.0</td>\n",
       "      <td>0.0</td>\n",
       "    </tr>\n",
       "    <tr>\n",
       "      <th>3</th>\n",
       "      <td>0.0</td>\n",
       "      <td>0.0</td>\n",
       "      <td>0.0</td>\n",
       "      <td>1.0</td>\n",
       "      <td>0.0</td>\n",
       "    </tr>\n",
       "    <tr>\n",
       "      <th>4</th>\n",
       "      <td>0.0</td>\n",
       "      <td>0.0</td>\n",
       "      <td>0.0</td>\n",
       "      <td>0.0</td>\n",
       "      <td>1.0</td>\n",
       "    </tr>\n",
       "  </tbody>\n",
       "</table>\n",
       "</div>"
      ],
      "text/plain": [
       "     a    b    c    d    e\n",
       "0  1.0  0.0  0.0  0.0  0.0\n",
       "1  0.0  1.0  0.0  0.0  0.0\n",
       "2  0.0  0.0  1.0  0.0  0.0\n",
       "3  0.0  0.0  0.0  1.0  0.0\n",
       "4  0.0  0.0  0.0  0.0  1.0"
      ]
     },
     "execution_count": 98,
     "metadata": {},
     "output_type": "execute_result"
    }
   ],
   "source": [
    "pd.DataFrame(arr2, columns=['a','b','c','d','e'])"
   ]
  },
  {
   "cell_type": "code",
   "execution_count": 99,
   "id": "97c104e9-0456-47a1-a06c-3fb2fa6441ed",
   "metadata": {},
   "outputs": [
    {
     "data": {
      "text/plain": [
       "array([[0.27557371],\n",
       "       [0.27888013]])"
      ]
     },
     "execution_count": 99,
     "metadata": {},
     "output_type": "execute_result"
    }
   ],
   "source": [
    "np.random.rand(2,1)"
   ]
  },
  {
   "cell_type": "code",
   "execution_count": 100,
   "id": "621e28ea-d614-4b1f-8ff6-1b95538693ea",
   "metadata": {},
   "outputs": [
    {
     "data": {
      "text/plain": [
       "array([[-0.91073702],\n",
       "       [-0.00671906]])"
      ]
     },
     "execution_count": 100,
     "metadata": {},
     "output_type": "execute_result"
    }
   ],
   "source": [
    "np.random.randn(2,1)"
   ]
  },
  {
   "cell_type": "code",
   "execution_count": 106,
   "id": "e24af695-b754-47b9-a316-7521615b329c",
   "metadata": {},
   "outputs": [],
   "source": [
    "arr3=np.random.randint(1,4,(4,2))"
   ]
  },
  {
   "cell_type": "code",
   "execution_count": 107,
   "id": "bf5d88a4-5051-4b3b-9deb-a122f2b2dae6",
   "metadata": {},
   "outputs": [
    {
     "data": {
      "text/plain": [
       "array([[2, 3],\n",
       "       [3, 1],\n",
       "       [3, 2],\n",
       "       [3, 1]])"
      ]
     },
     "execution_count": 107,
     "metadata": {},
     "output_type": "execute_result"
    }
   ],
   "source": [
    "arr3"
   ]
  },
  {
   "cell_type": "code",
   "execution_count": 108,
   "id": "86f42e7a-be6c-43eb-b110-fd2dbe14c3b0",
   "metadata": {},
   "outputs": [
    {
     "data": {
      "text/plain": [
       "(4, 2)"
      ]
     },
     "execution_count": 108,
     "metadata": {},
     "output_type": "execute_result"
    }
   ],
   "source": [
    "arr3.shape"
   ]
  },
  {
   "cell_type": "code",
   "execution_count": 110,
   "id": "3b7b9b78-4025-42f7-8426-c25aaaebfebd",
   "metadata": {},
   "outputs": [
    {
     "data": {
      "text/plain": [
       "array([[2, 3, 3, 1],\n",
       "       [3, 2, 3, 1]])"
      ]
     },
     "execution_count": 110,
     "metadata": {},
     "output_type": "execute_result"
    }
   ],
   "source": [
    "arr3.reshape(2,4)"
   ]
  },
  {
   "cell_type": "code",
   "execution_count": 111,
   "id": "e286c501-4f1d-4bbf-9273-3e8192c6e8fb",
   "metadata": {},
   "outputs": [
    {
     "data": {
      "text/plain": [
       "array([[2, 3],\n",
       "       [3, 1],\n",
       "       [3, 2],\n",
       "       [3, 1]])"
      ]
     },
     "execution_count": 111,
     "metadata": {},
     "output_type": "execute_result"
    }
   ],
   "source": [
    "arr3.reshape(4,2)"
   ]
  },
  {
   "cell_type": "code",
   "execution_count": null,
   "id": "69fd11c7-0802-45b7-ade3-880d5634beaa",
   "metadata": {},
   "outputs": [],
   "source": [
    "art"
   ]
  },
  {
   "cell_type": "code",
   "execution_count": 17,
   "id": "76be65b1-6b3a-4d5d-9710-748873715388",
   "metadata": {},
   "outputs": [],
   "source": [
    "arr1=np.random.randint(1,10,(2,5))"
   ]
  },
  {
   "cell_type": "code",
   "execution_count": 18,
   "id": "360e9ff1-35bf-4f51-9f4a-56d6e54e0cc3",
   "metadata": {},
   "outputs": [
    {
     "data": {
      "text/plain": [
       "array([[4, 6, 3, 2, 5],\n",
       "       [4, 2, 9, 9, 7]])"
      ]
     },
     "execution_count": 18,
     "metadata": {},
     "output_type": "execute_result"
    }
   ],
   "source": [
    "arr1"
   ]
  },
  {
   "cell_type": "code",
   "execution_count": 20,
   "id": "56949749-c69b-4c21-9ea2-a62e2edc00eb",
   "metadata": {},
   "outputs": [
    {
     "data": {
      "text/plain": [
       "array([[False,  True, False, False, False],\n",
       "       [False, False,  True,  True,  True]])"
      ]
     },
     "execution_count": 20,
     "metadata": {},
     "output_type": "execute_result"
    }
   ],
   "source": [
    "arr1>5"
   ]
  },
  {
   "cell_type": "code",
   "execution_count": 21,
   "id": "ec2ec109-e05f-426c-b0b1-32e4d985da66",
   "metadata": {},
   "outputs": [
    {
     "data": {
      "text/plain": [
       "array([6, 9, 9, 7])"
      ]
     },
     "execution_count": 21,
     "metadata": {},
     "output_type": "execute_result"
    }
   ],
   "source": [
    "arr1[arr1>5]"
   ]
  },
  {
   "cell_type": "code",
   "execution_count": 27,
   "id": "42032abf-c6df-4ec7-9f52-e8fede766110",
   "metadata": {},
   "outputs": [
    {
     "data": {
      "text/plain": [
       "array([[4, 6]])"
      ]
     },
     "execution_count": 27,
     "metadata": {},
     "output_type": "execute_result"
    }
   ],
   "source": [
    "arr1[0:1,0:2]"
   ]
  },
  {
   "cell_type": "code",
   "execution_count": 29,
   "id": "96069aee-5164-488f-8797-c9ad954cdb59",
   "metadata": {},
   "outputs": [
    {
     "data": {
      "text/plain": [
       "array([6, 3])"
      ]
     },
     "execution_count": 29,
     "metadata": {},
     "output_type": "execute_result"
    }
   ],
   "source": [
    "arr1[0][1:3]"
   ]
  },
  {
   "cell_type": "code",
   "execution_count": 30,
   "id": "44f198d9-af52-4d50-926f-eec93a35360d",
   "metadata": {},
   "outputs": [],
   "source": [
    "a5=np.random.randint(1,10,(5,6))"
   ]
  },
  {
   "cell_type": "code",
   "execution_count": 31,
   "id": "2ab671f7-0e3d-46fb-aa0c-fa5cb286dbe8",
   "metadata": {},
   "outputs": [
    {
     "data": {
      "text/plain": [
       "array([[2, 8, 5, 6, 5, 9],\n",
       "       [3, 1, 2, 9, 7, 5],\n",
       "       [7, 4, 2, 6, 8, 6],\n",
       "       [4, 6, 3, 2, 8, 8],\n",
       "       [9, 4, 7, 7, 1, 3]])"
      ]
     },
     "execution_count": 31,
     "metadata": {},
     "output_type": "execute_result"
    }
   ],
   "source": [
    "a5"
   ]
  },
  {
   "cell_type": "code",
   "execution_count": 35,
   "id": "5ee9e34b-b701-4f7e-a16b-3853ee3335a3",
   "metadata": {},
   "outputs": [
    {
     "data": {
      "text/plain": [
       "array([8, 5])"
      ]
     },
     "execution_count": 35,
     "metadata": {},
     "output_type": "execute_result"
    }
   ],
   "source": [
    "a5[0][1:3]"
   ]
  },
  {
   "cell_type": "code",
   "execution_count": 36,
   "id": "2ea62541-708a-45d5-90d8-106e3fb8398d",
   "metadata": {},
   "outputs": [
    {
     "data": {
      "text/plain": [
       "array([[8, 6],\n",
       "       [8, 8]])"
      ]
     },
     "execution_count": 36,
     "metadata": {},
     "output_type": "execute_result"
    }
   ],
   "source": [
    "a5[2:4,(4,5)]"
   ]
  },
  {
   "cell_type": "code",
   "execution_count": 37,
   "id": "2f1efa91-5dca-45dd-8f7f-a5a773d3d111",
   "metadata": {},
   "outputs": [],
   "source": [
    "arr8=np.random.randint(1,3,(3,3))\n",
    "arr9=np.random.randint(1,3,(3,3))"
   ]
  },
  {
   "cell_type": "code",
   "execution_count": 38,
   "id": "1a711eb4-f9d0-4725-a05a-f8fd5042ffc4",
   "metadata": {},
   "outputs": [
    {
     "data": {
      "text/plain": [
       "array([[2, 2, 1],\n",
       "       [1, 1, 2],\n",
       "       [2, 1, 2]])"
      ]
     },
     "execution_count": 38,
     "metadata": {},
     "output_type": "execute_result"
    }
   ],
   "source": [
    "arr8"
   ]
  },
  {
   "cell_type": "code",
   "execution_count": 39,
   "id": "d6d6f8cc-b5fd-4848-b748-e6dbad0f96bd",
   "metadata": {},
   "outputs": [
    {
     "data": {
      "text/plain": [
       "array([[2, 2, 2],\n",
       "       [1, 1, 2],\n",
       "       [2, 2, 2]])"
      ]
     },
     "execution_count": 39,
     "metadata": {},
     "output_type": "execute_result"
    }
   ],
   "source": [
    "arr9"
   ]
  },
  {
   "cell_type": "code",
   "execution_count": 42,
   "id": "04882aa4-9560-4c68-ab9f-d39124866511",
   "metadata": {},
   "outputs": [
    {
     "data": {
      "text/plain": [
       "array([[4, 4, 3],\n",
       "       [2, 2, 4],\n",
       "       [4, 3, 4]])"
      ]
     },
     "execution_count": 42,
     "metadata": {},
     "output_type": "execute_result"
    }
   ],
   "source": [
    "\n",
    "##index based add/multi\n",
    "arr8+arr9"
   ]
  },
  {
   "cell_type": "code",
   "execution_count": 41,
   "id": "9cda31c7-1111-4972-b9e7-99131800017f",
   "metadata": {},
   "outputs": [
    {
     "data": {
      "text/plain": [
       "array([[4, 4, 2],\n",
       "       [1, 1, 4],\n",
       "       [4, 2, 4]])"
      ]
     },
     "execution_count": 41,
     "metadata": {},
     "output_type": "execute_result"
    }
   ],
   "source": [
    "arr8*arr9"
   ]
  },
  {
   "cell_type": "markdown",
   "id": "fa4d8f7e-96e3-45cd-ad68-4c70ade52a80",
   "metadata": {},
   "source": [
    "## matrix based multiplication"
   ]
  },
  {
   "cell_type": "code",
   "execution_count": 67,
   "id": "7084050b-1e44-4273-8e56-32a1b649950f",
   "metadata": {},
   "outputs": [],
   "source": [
    "arr1=np.array([[2,2,1],[1,1,1],[1,2,2]])"
   ]
  },
  {
   "cell_type": "code",
   "execution_count": 72,
   "id": "5b2df704-a454-4439-b07a-36527a45b669",
   "metadata": {},
   "outputs": [],
   "source": [
    "arr2=np.array([[[1,2,2],[1,2,1],[2,1,1]]])"
   ]
  },
  {
   "cell_type": "code",
   "execution_count": 64,
   "id": "21f7e65f-1065-4362-a073-ab2d66e16a9b",
   "metadata": {},
   "outputs": [
    {
     "data": {
      "text/plain": [
       "array([[1, 1, 1],\n",
       "       [1, 1, 1],\n",
       "       [1, 1, 1]])"
      ]
     },
     "execution_count": 64,
     "metadata": {},
     "output_type": "execute_result"
    }
   ],
   "source": [
    "np.random.randint(1,2,(3,3))"
   ]
  },
  {
   "cell_type": "code",
   "execution_count": 69,
   "id": "afa9ff01-2519-4961-a4e6-382b9d8279b0",
   "metadata": {},
   "outputs": [
    {
     "data": {
      "text/plain": [
       "(3, 3)"
      ]
     },
     "execution_count": 69,
     "metadata": {},
     "output_type": "execute_result"
    }
   ],
   "source": [
    "arr1.shape"
   ]
  },
  {
   "cell_type": "code",
   "execution_count": 73,
   "id": "2cc4070a-bb7b-4a01-be27-27710e0154d8",
   "metadata": {},
   "outputs": [
    {
     "data": {
      "text/plain": [
       "array([[[2, 4, 2],\n",
       "        [1, 2, 1],\n",
       "        [2, 2, 2]]])"
      ]
     },
     "execution_count": 73,
     "metadata": {},
     "output_type": "execute_result"
    }
   ],
   "source": [
    "np.multiply(arr1,arr2)"
   ]
  },
  {
   "cell_type": "code",
   "execution_count": 74,
   "id": "308ea8cc-16ab-4319-b1f5-d90c17960957",
   "metadata": {},
   "outputs": [
    {
     "data": {
      "text/plain": [
       "array([[[6, 9, 7],\n",
       "        [4, 5, 4],\n",
       "        [7, 8, 6]]])"
      ]
     },
     "execution_count": 74,
     "metadata": {},
     "output_type": "execute_result"
    }
   ],
   "source": [
    "arr1 @ arr2"
   ]
  },
  {
   "cell_type": "code",
   "execution_count": 81,
   "id": "8d2e49d5-854f-455a-89f8-beb04ae391ff",
   "metadata": {},
   "outputs": [
    {
     "data": {
      "text/plain": [
       "array([[1, 2, 3, 4]])"
      ]
     },
     "execution_count": 81,
     "metadata": {},
     "output_type": "execute_result"
    }
   ],
   "source": [
    "art=np.array([[1,2,3,4]])\n",
    "art"
   ]
  },
  {
   "cell_type": "code",
   "execution_count": 82,
   "id": "bf2cba8d-785e-4f74-af5f-bafac26b3802",
   "metadata": {},
   "outputs": [
    {
     "data": {
      "text/plain": [
       "(1, 4)"
      ]
     },
     "execution_count": 82,
     "metadata": {},
     "output_type": "execute_result"
    }
   ],
   "source": [
    "art.shape"
   ]
  },
  {
   "cell_type": "code",
   "execution_count": 83,
   "id": "7c53f364-e6b0-4a3b-8010-c526445c0898",
   "metadata": {},
   "outputs": [],
   "source": [
    "b=art.T"
   ]
  },
  {
   "cell_type": "code",
   "execution_count": 84,
   "id": "9a739ba5-5b70-4211-a0ff-38ecb0379fbd",
   "metadata": {},
   "outputs": [
    {
     "data": {
      "text/plain": [
       "(4, 1)"
      ]
     },
     "execution_count": 84,
     "metadata": {},
     "output_type": "execute_result"
    }
   ],
   "source": [
    "b.shape"
   ]
  },
  {
   "cell_type": "code",
   "execution_count": 85,
   "id": "dd105c93-3e93-44f4-8d92-97e2003dcc85",
   "metadata": {},
   "outputs": [
    {
     "data": {
      "text/plain": [
       "array([[1],\n",
       "       [2],\n",
       "       [3],\n",
       "       [4]])"
      ]
     },
     "execution_count": 85,
     "metadata": {},
     "output_type": "execute_result"
    }
   ],
   "source": [
    "b"
   ]
  },
  {
   "cell_type": "markdown",
   "id": "1dc8df27-64a9-46c8-babd-9686219ea1bc",
   "metadata": {},
   "source": [
    "## Part-3"
   ]
  },
  {
   "cell_type": "code",
   "execution_count": 86,
   "id": "45060548-04f5-4635-ab41-d13f1cea6d65",
   "metadata": {},
   "outputs": [],
   "source": [
    "import numpy as np"
   ]
  },
  {
   "cell_type": "code",
   "execution_count": 113,
   "id": "82acfcb4-8202-4f7d-a2ba-3b177292fa66",
   "metadata": {},
   "outputs": [
    {
     "data": {
      "text/plain": [
       "array([[1, 7, 1, 9],\n",
       "       [5, 9, 5, 1],\n",
       "       [6, 9, 2, 3],\n",
       "       [5, 5, 5, 8]])"
      ]
     },
     "execution_count": 113,
     "metadata": {},
     "output_type": "execute_result"
    }
   ],
   "source": [
    "### array manipulation\n",
    "arr=np.random.randint(1,10,(4,4))\n",
    "arr"
   ]
  },
  {
   "cell_type": "code",
   "execution_count": 116,
   "id": "089342f4-172a-4894-8ef6-8d1b200782a4",
   "metadata": {},
   "outputs": [
    {
     "data": {
      "text/plain": [
       "array([[2, 3],\n",
       "       [5, 8]])"
      ]
     },
     "execution_count": 116,
     "metadata": {},
     "output_type": "execute_result"
    }
   ],
   "source": [
    "arr[2:4,(2,3)]"
   ]
  },
  {
   "cell_type": "code",
   "execution_count": 120,
   "id": "285143fa-ae33-4e08-a769-3f0058698044",
   "metadata": {},
   "outputs": [],
   "source": [
    "arr1=arr.reshape(2,8)"
   ]
  },
  {
   "cell_type": "code",
   "execution_count": 121,
   "id": "b72d4c0e-9287-44bc-9569-da7ef323c42a",
   "metadata": {},
   "outputs": [
    {
     "data": {
      "text/plain": [
       "array([[1, 7, 1, 9, 5, 9, 5, 1],\n",
       "       [6, 9, 2, 3, 5, 5, 5, 8]])"
      ]
     },
     "execution_count": 121,
     "metadata": {},
     "output_type": "execute_result"
    }
   ],
   "source": [
    "arr1"
   ]
  },
  {
   "cell_type": "code",
   "execution_count": 122,
   "id": "65d862f5-01f5-4731-9ebd-aa22913d2a5d",
   "metadata": {},
   "outputs": [
    {
     "data": {
      "text/plain": [
       "array([[1, 6],\n",
       "       [7, 9],\n",
       "       [1, 2],\n",
       "       [9, 3],\n",
       "       [5, 5],\n",
       "       [9, 5],\n",
       "       [5, 5],\n",
       "       [1, 8]])"
      ]
     },
     "execution_count": 122,
     "metadata": {},
     "output_type": "execute_result"
    }
   ],
   "source": [
    "arr1.T"
   ]
  },
  {
   "cell_type": "code",
   "execution_count": 123,
   "id": "1c19cebd-d5f4-469a-9ce9-d402a6aadfdd",
   "metadata": {},
   "outputs": [
    {
     "data": {
      "text/plain": [
       "array([[1, 7, 1, 9],\n",
       "       [5, 9, 5, 1],\n",
       "       [6, 9, 2, 3],\n",
       "       [5, 5, 5, 8]])"
      ]
     },
     "execution_count": 123,
     "metadata": {},
     "output_type": "execute_result"
    }
   ],
   "source": [
    "arr"
   ]
  },
  {
   "cell_type": "code",
   "execution_count": 124,
   "id": "61e559b3-fa05-4389-82d6-d6d2aa9fb037",
   "metadata": {},
   "outputs": [
    {
     "data": {
      "text/plain": [
       "array([1, 7, 1, 9, 5, 9, 5, 1, 6, 9, 2, 3, 5, 5, 5, 8])"
      ]
     },
     "execution_count": 124,
     "metadata": {},
     "output_type": "execute_result"
    }
   ],
   "source": [
    "arr.flatten()"
   ]
  },
  {
   "cell_type": "code",
   "execution_count": 126,
   "id": "d39a3a9b-62a7-47d9-97bf-5b9d4e5a41aa",
   "metadata": {},
   "outputs": [],
   "source": [
    "sq=np.array([[1],[2],[3]])"
   ]
  },
  {
   "cell_type": "code",
   "execution_count": 128,
   "id": "d459ddf4-b794-4aea-b357-aa91a1dd042a",
   "metadata": {},
   "outputs": [
    {
     "data": {
      "text/plain": [
       "array([1, 2, 3])"
      ]
     },
     "execution_count": 128,
     "metadata": {},
     "output_type": "execute_result"
    }
   ],
   "source": [
    "sq.squeeze()"
   ]
  },
  {
   "cell_type": "code",
   "execution_count": 129,
   "id": "e547bc8f-e36a-47d3-be1a-265498cd6211",
   "metadata": {},
   "outputs": [
    {
     "data": {
      "text/plain": [
       "array([1, 1, 1, 2, 2, 2, 3, 3, 3])"
      ]
     },
     "execution_count": 129,
     "metadata": {},
     "output_type": "execute_result"
    }
   ],
   "source": [
    "np.repeat(sq,3)"
   ]
  },
  {
   "cell_type": "code",
   "execution_count": 131,
   "id": "68372b6e-e14d-41e5-bbd1-954c1ad736be",
   "metadata": {},
   "outputs": [
    {
     "data": {
      "text/plain": [
       "array([[1, 0, 0, 0],\n",
       "       [0, 2, 0, 0],\n",
       "       [0, 0, 4, 0],\n",
       "       [0, 0, 0, 5]])"
      ]
     },
     "execution_count": 131,
     "metadata": {},
     "output_type": "execute_result"
    }
   ],
   "source": [
    "## diagonal value update\n",
    "np.diag(np.array([1,2,4,5]))"
   ]
  },
  {
   "cell_type": "markdown",
   "id": "52340b4e-1d08-4599-8106-fa3e9dcdbb73",
   "metadata": {},
   "source": [
    "### numpy string operation"
   ]
  },
  {
   "cell_type": "code",
   "execution_count": 134,
   "id": "ac4ba9cd-f88b-46b7-b3a8-34cc6d248747",
   "metadata": {},
   "outputs": [],
   "source": [
    "arr=np.array(['mar','eee','eee'])"
   ]
  },
  {
   "cell_type": "code",
   "execution_count": 135,
   "id": "5aff5969-2e4e-47c6-8827-80dfe6b149af",
   "metadata": {},
   "outputs": [
    {
     "data": {
      "text/plain": [
       "array(['mar', 'eee', 'eee'], dtype='<U3')"
      ]
     },
     "execution_count": 135,
     "metadata": {},
     "output_type": "execute_result"
    }
   ],
   "source": [
    "arr"
   ]
  },
  {
   "cell_type": "code",
   "execution_count": 136,
   "id": "31d4bc98-cab4-4e58-94ce-df2db7255af3",
   "metadata": {},
   "outputs": [
    {
     "data": {
      "text/plain": [
       "array(['MAR', 'EEE', 'EEE'], dtype='<U3')"
      ]
     },
     "execution_count": 136,
     "metadata": {},
     "output_type": "execute_result"
    }
   ],
   "source": [
    "np.char.upper(arr)"
   ]
  },
  {
   "cell_type": "code",
   "execution_count": 137,
   "id": "a5dfab9b-508d-4fc1-bfcd-70f270cf972f",
   "metadata": {},
   "outputs": [
    {
     "data": {
      "text/plain": [
       "array(['Mar', 'Eee', 'Eee'], dtype='<U3')"
      ]
     },
     "execution_count": 137,
     "metadata": {},
     "output_type": "execute_result"
    }
   ],
   "source": [
    "np.char.capitalize(arr)"
   ]
  },
  {
   "cell_type": "code",
   "execution_count": 138,
   "id": "fb4d19c6-3cb4-45e1-88a8-44aa5e8ea669",
   "metadata": {},
   "outputs": [
    {
     "data": {
      "text/plain": [
       "array(['Mar', 'Eee', 'Eee'], dtype='<U3')"
      ]
     },
     "execution_count": 138,
     "metadata": {},
     "output_type": "execute_result"
    }
   ],
   "source": [
    "np.char.title(arr)"
   ]
  },
  {
   "cell_type": "code",
   "execution_count": 141,
   "id": "4d870cbd-f3e6-499c-ae96-379d52183ffd",
   "metadata": {},
   "outputs": [
    {
     "data": {
      "text/plain": [
       "array([[1, 7, 1, 9],\n",
       "       [5, 9, 5, 1],\n",
       "       [6, 9, 2, 3],\n",
       "       [5, 5, 5, 8]])"
      ]
     },
     "execution_count": 141,
     "metadata": {},
     "output_type": "execute_result"
    }
   ],
   "source": [
    "arr1.reshape(4,4)\n"
   ]
  },
  {
   "cell_type": "markdown",
   "id": "70c5178c-ccb8-4bd7-96ea-d25be9bbb35c",
   "metadata": {},
   "source": [
    "## mathematical operation"
   ]
  },
  {
   "cell_type": "code",
   "execution_count": 143,
   "id": "95d3995d-d17e-4567-a6f5-fb121018616b",
   "metadata": {},
   "outputs": [
    {
     "data": {
      "text/plain": [
       "array([[ 0.84147098,  0.6569866 ,  0.84147098,  0.41211849, -0.95892427,\n",
       "         0.41211849, -0.95892427,  0.84147098],\n",
       "       [-0.2794155 ,  0.41211849,  0.90929743,  0.14112001, -0.95892427,\n",
       "        -0.95892427, -0.95892427,  0.98935825]])"
      ]
     },
     "execution_count": 143,
     "metadata": {},
     "output_type": "execute_result"
    }
   ],
   "source": [
    "np.sin(arr1)"
   ]
  },
  {
   "cell_type": "code",
   "execution_count": 144,
   "id": "a2af4126-8d18-470a-bf30-bbc448986e8b",
   "metadata": {},
   "outputs": [
    {
     "data": {
      "text/plain": [
       "array([[ 0.54030231,  0.75390225,  0.54030231, -0.91113026,  0.28366219,\n",
       "        -0.91113026,  0.28366219,  0.54030231],\n",
       "       [ 0.96017029, -0.91113026, -0.41614684, -0.9899925 ,  0.28366219,\n",
       "         0.28366219,  0.28366219, -0.14550003]])"
      ]
     },
     "execution_count": 144,
     "metadata": {},
     "output_type": "execute_result"
    }
   ],
   "source": [
    "np.cos(arr1)"
   ]
  },
  {
   "cell_type": "code",
   "execution_count": 145,
   "id": "d20e6636-3a3e-4e99-82b9-95917284069e",
   "metadata": {},
   "outputs": [
    {
     "data": {
      "text/plain": [
       "array([[0.        , 1.94591015, 0.        , 2.19722458, 1.60943791,\n",
       "        2.19722458, 1.60943791, 0.        ],\n",
       "       [1.79175947, 2.19722458, 0.69314718, 1.09861229, 1.60943791,\n",
       "        1.60943791, 1.60943791, 2.07944154]])"
      ]
     },
     "execution_count": 145,
     "metadata": {},
     "output_type": "execute_result"
    }
   ],
   "source": [
    "np.log(arr1)"
   ]
  },
  {
   "cell_type": "code",
   "execution_count": 146,
   "id": "31ee0a75-e4c6-417b-a99f-422bc0f2b60b",
   "metadata": {},
   "outputs": [
    {
     "data": {
      "text/plain": [
       "array([[ 1, 49,  1, 81, 25, 81, 25,  1],\n",
       "       [36, 81,  4,  9, 25, 25, 25, 64]], dtype=int32)"
      ]
     },
     "execution_count": 146,
     "metadata": {},
     "output_type": "execute_result"
    }
   ],
   "source": [
    "np.power(arr1,2)"
   ]
  },
  {
   "cell_type": "code",
   "execution_count": 147,
   "id": "e8b6a172-70e1-4714-92e4-986ccee59ced",
   "metadata": {},
   "outputs": [
    {
     "data": {
      "text/plain": [
       "5.0625"
      ]
     },
     "execution_count": 147,
     "metadata": {},
     "output_type": "execute_result"
    }
   ],
   "source": [
    "np.mean(arr1)"
   ]
  },
  {
   "cell_type": "code",
   "execution_count": 149,
   "id": "ddc67525-a1e4-45e8-8a22-41e42850296a",
   "metadata": {},
   "outputs": [
    {
     "data": {
      "text/plain": [
       "5.0"
      ]
     },
     "execution_count": 149,
     "metadata": {},
     "output_type": "execute_result"
    }
   ],
   "source": [
    "np.median(arr1)"
   ]
  },
  {
   "cell_type": "code",
   "execution_count": 151,
   "id": "c925bc3a-69cf-4fe1-854c-16ec75f7c1b4",
   "metadata": {},
   "outputs": [
    {
     "data": {
      "text/plain": [
       "2.7719296076920856"
      ]
     },
     "execution_count": 151,
     "metadata": {},
     "output_type": "execute_result"
    }
   ],
   "source": [
    "np.std(arr1)"
   ]
  },
  {
   "cell_type": "code",
   "execution_count": 152,
   "id": "835c8e8e-5f80-49af-9c1c-4137f884a59b",
   "metadata": {},
   "outputs": [
    {
     "data": {
      "text/plain": [
       "2.7719296076920856"
      ]
     },
     "execution_count": 152,
     "metadata": {},
     "output_type": "execute_result"
    }
   ],
   "source": [
    "arr1.std()"
   ]
  },
  {
   "cell_type": "markdown",
   "id": "aba7e43d-56a9-4778-9901-ad6589389802",
   "metadata": {},
   "source": [
    "## part -4 (sort, search and counting function)"
   ]
  },
  {
   "cell_type": "code",
   "execution_count": 154,
   "id": "6879e66f-db53-42a8-b8c3-395df9833e84",
   "metadata": {},
   "outputs": [],
   "source": [
    "import numpy as  np"
   ]
  },
  {
   "cell_type": "code",
   "execution_count": 167,
   "id": "c66ccc05-8fea-4884-90ec-014522c614e3",
   "metadata": {},
   "outputs": [],
   "source": [
    "arr=np.array([1,2,3,3,3])\n",
    "arr1=np.array([1,2,3,3,3])"
   ]
  },
  {
   "cell_type": "code",
   "execution_count": 156,
   "id": "fece713e-df7b-41dc-a260-2ea5246e4fd2",
   "metadata": {},
   "outputs": [
    {
     "data": {
      "text/plain": [
       "array([16777216, 33554432, 50331648])"
      ]
     },
     "execution_count": 156,
     "metadata": {},
     "output_type": "execute_result"
    }
   ],
   "source": [
    "arr.byteswap()"
   ]
  },
  {
   "cell_type": "code",
   "execution_count": 165,
   "id": "f2448934-aaeb-4643-b427-add795108d7f",
   "metadata": {},
   "outputs": [
    {
     "data": {
      "text/plain": [
       "array([0, 1, 2, 3, 4], dtype=int64)"
      ]
     },
     "execution_count": 165,
     "metadata": {},
     "output_type": "execute_result"
    }
   ],
   "source": [
    "np.argsort(arr)"
   ]
  },
  {
   "cell_type": "code",
   "execution_count": 166,
   "id": "409ab11b-89cb-490e-9fa6-87ec8fbabad2",
   "metadata": {},
   "outputs": [
    {
     "data": {
      "text/plain": [
       "array([3, 3, 3, 2, 1])"
      ]
     },
     "execution_count": 166,
     "metadata": {},
     "output_type": "execute_result"
    }
   ],
   "source": [
    "np.flip(arr)"
   ]
  },
  {
   "cell_type": "code",
   "execution_count": null,
   "id": "854c1d12-0031-48d1-871f-016efb45a1e8",
   "metadata": {},
   "outputs": [],
   "source": [
    "np.concatenate(arr,arr1)"
   ]
  },
  {
   "cell_type": "code",
   "execution_count": 169,
   "id": "f59be1b3-01c0-40c3-9883-39251839d685",
   "metadata": {},
   "outputs": [
    {
     "data": {
      "text/plain": [
       "array([1, 2, 3])"
      ]
     },
     "execution_count": 169,
     "metadata": {},
     "output_type": "execute_result"
    }
   ],
   "source": [
    "np.unique(arr)"
   ]
  },
  {
   "cell_type": "code",
   "execution_count": 170,
   "id": "10af68ca-dd2a-4b64-99b9-eea87f13ac85",
   "metadata": {},
   "outputs": [],
   "source": [
    "arr=np.array([2,3,4,5])"
   ]
  },
  {
   "cell_type": "code",
   "execution_count": 174,
   "id": "a55f8cb1-2ad9-493f-ae90-17455227199b",
   "metadata": {},
   "outputs": [
    {
     "data": {
      "text/plain": [
       "array([2, 3, 4, 5])"
      ]
     },
     "execution_count": 174,
     "metadata": {},
     "output_type": "execute_result"
    }
   ],
   "source": [
    "np.sort(arr)"
   ]
  },
  {
   "cell_type": "code",
   "execution_count": 180,
   "id": "e5127a98-d5a7-420c-9b25-7a7864e35ffe",
   "metadata": {},
   "outputs": [],
   "source": [
    "arrs=np.array([2,390,4,5,789])"
   ]
  },
  {
   "cell_type": "code",
   "execution_count": 181,
   "id": "0f32f34d-a345-4594-a402-415da61c4643",
   "metadata": {},
   "outputs": [
    {
     "data": {
      "text/plain": [
       "array([  2,   4,   5, 390, 789])"
      ]
     },
     "execution_count": 181,
     "metadata": {},
     "output_type": "execute_result"
    }
   ],
   "source": [
    "np.sort(arrs)"
   ]
  },
  {
   "cell_type": "code",
   "execution_count": 189,
   "id": "e9702353-6d0d-49f8-83e4-61da447ce7f9",
   "metadata": {},
   "outputs": [
    {
     "data": {
      "text/plain": [
       "5"
      ]
     },
     "execution_count": 189,
     "metadata": {},
     "output_type": "execute_result"
    }
   ],
   "source": [
    "np.searchsorted(arrs,900)"
   ]
  },
  {
   "cell_type": "code",
   "execution_count": 190,
   "id": "24f40028-7cfa-46e8-b3e6-1515670fa769",
   "metadata": {},
   "outputs": [],
   "source": [
    "ar=np.array([0,0,0,1,2,3,4])"
   ]
  },
  {
   "cell_type": "code",
   "execution_count": 191,
   "id": "dd25c11a-61ba-420e-9dac-20d5e61af96c",
   "metadata": {},
   "outputs": [
    {
     "data": {
      "text/plain": [
       "4"
      ]
     },
     "execution_count": 191,
     "metadata": {},
     "output_type": "execute_result"
    }
   ],
   "source": [
    "np.count_nonzero(ar)"
   ]
  },
  {
   "cell_type": "code",
   "execution_count": 194,
   "id": "d1d4a892-c08c-4973-9374-b8437a594251",
   "metadata": {},
   "outputs": [
    {
     "data": {
      "text/plain": [
       "(array([3, 4, 5, 6], dtype=int64),)"
      ]
     },
     "execution_count": 194,
     "metadata": {},
     "output_type": "execute_result"
    }
   ],
   "source": [
    "np.where(ar>0)"
   ]
  },
  {
   "cell_type": "code",
   "execution_count": 195,
   "id": "0210be37-8b3d-4fe7-8c42-7cd1f71cfcbf",
   "metadata": {},
   "outputs": [
    {
     "data": {
      "text/plain": [
       "array([  2, 390,   4,   5, 789])"
      ]
     },
     "execution_count": 195,
     "metadata": {},
     "output_type": "execute_result"
    }
   ],
   "source": [
    "arrs"
   ]
  },
  {
   "cell_type": "code",
   "execution_count": 196,
   "id": "99e1e73a-6840-4247-b829-e1fa805de4ac",
   "metadata": {},
   "outputs": [
    {
     "data": {
      "text/plain": [
       "array([390, 789])"
      ]
     },
     "execution_count": 196,
     "metadata": {},
     "output_type": "execute_result"
    }
   ],
   "source": [
    "np.extract(arrs >5 ,arrs)"
   ]
  },
  {
   "cell_type": "code",
   "execution_count": 197,
   "id": "6ea782c0-5602-41cf-b950-2f30dd6767a6",
   "metadata": {},
   "outputs": [
    {
     "data": {
      "text/plain": [
       "array([   33554432, -2046754816,    67108864,    83886080,   352518144])"
      ]
     },
     "execution_count": 197,
     "metadata": {},
     "output_type": "execute_result"
    }
   ],
   "source": [
    "arrs.byteswap()"
   ]
  },
  {
   "cell_type": "code",
   "execution_count": 198,
   "id": "6295685c-918f-4094-94b4-7dae48942995",
   "metadata": {},
   "outputs": [
    {
     "data": {
      "text/plain": [
       "array([  2, 390,   4,   5, 789])"
      ]
     },
     "execution_count": 198,
     "metadata": {},
     "output_type": "execute_result"
    }
   ],
   "source": [
    "arrs"
   ]
  },
  {
   "cell_type": "code",
   "execution_count": 199,
   "id": "c48f8f08-8106-4bbb-b952-da97dc676293",
   "metadata": {},
   "outputs": [],
   "source": [
    "##copy and views"
   ]
  },
  {
   "cell_type": "code",
   "execution_count": 200,
   "id": "91177699-1202-49e5-9c8a-5fab65b01a89",
   "metadata": {},
   "outputs": [],
   "source": [
    "a=np.array([1,2,3])"
   ]
  },
  {
   "cell_type": "code",
   "execution_count": 204,
   "id": "452ebcb9-7931-4789-b6dd-c919c98bcd0d",
   "metadata": {},
   "outputs": [],
   "source": [
    "b=np.copy(a)"
   ]
  },
  {
   "cell_type": "code",
   "execution_count": 202,
   "id": "fd7317e1-6dc6-42ec-ae3c-9967fc672b5e",
   "metadata": {},
   "outputs": [
    {
     "data": {
      "text/plain": [
       "array([1, 2, 3])"
      ]
     },
     "execution_count": 202,
     "metadata": {},
     "output_type": "execute_result"
    }
   ],
   "source": [
    "b"
   ]
  },
  {
   "cell_type": "code",
   "execution_count": 205,
   "id": "2cac347f-12ff-47bd-940e-af4e3d7d1088",
   "metadata": {},
   "outputs": [],
   "source": [
    "c=a.view()"
   ]
  },
  {
   "cell_type": "code",
   "execution_count": 206,
   "id": "d4b6a48c-1bc6-42c1-85f0-8ef006e5f08a",
   "metadata": {},
   "outputs": [
    {
     "data": {
      "text/plain": [
       "array([1, 2, 3])"
      ]
     },
     "execution_count": 206,
     "metadata": {},
     "output_type": "execute_result"
    }
   ],
   "source": [
    "c"
   ]
  },
  {
   "cell_type": "markdown",
   "id": "4cea01d7-143a-42c0-9aca-8a1a6e5a26d4",
   "metadata": {},
   "source": [
    "## matrix"
   ]
  },
  {
   "cell_type": "code",
   "execution_count": 207,
   "id": "1448eae6-96a3-43e9-9f1b-eb6def57c9f4",
   "metadata": {},
   "outputs": [],
   "source": [
    "import numpy.matlib as nm"
   ]
  },
  {
   "cell_type": "code",
   "execution_count": 208,
   "id": "24517bfd-5e8c-49dc-9dc3-633f930e0bff",
   "metadata": {},
   "outputs": [
    {
     "data": {
      "text/plain": [
       "matrix([[0.]])"
      ]
     },
     "execution_count": 208,
     "metadata": {},
     "output_type": "execute_result"
    }
   ],
   "source": [
    "nm.zeros(1)"
   ]
  },
  {
   "cell_type": "code",
   "execution_count": 211,
   "id": "b5202c89-13f9-4d6e-b1ca-cdfbb531783c",
   "metadata": {},
   "outputs": [
    {
     "data": {
      "text/plain": [
       "matrix([[1., 1., 1., 1.],\n",
       "        [1., 1., 1., 1.]])"
      ]
     },
     "execution_count": 211,
     "metadata": {},
     "output_type": "execute_result"
    }
   ],
   "source": [
    "nm.ones((2,4))"
   ]
  },
  {
   "cell_type": "code",
   "execution_count": 212,
   "id": "d7f828c4-0983-4407-a0ae-f30c8f1b1210",
   "metadata": {},
   "outputs": [
    {
     "data": {
      "text/plain": [
       "matrix([[1., 0., 0., 0.],\n",
       "        [0., 1., 0., 0.],\n",
       "        [0., 0., 1., 0.],\n",
       "        [0., 0., 0., 1.]])"
      ]
     },
     "execution_count": 212,
     "metadata": {},
     "output_type": "execute_result"
    }
   ],
   "source": [
    "nm.eye(4)"
   ]
  },
  {
   "cell_type": "code",
   "execution_count": null,
   "id": "6a03a5fb-095e-4125-a4dc-c093eb056d0d",
   "metadata": {},
   "outputs": [],
   "source": []
  }
 ],
 "metadata": {
  "kernelspec": {
   "display_name": "Python 3 (ipykernel)",
   "language": "python",
   "name": "python3"
  },
  "language_info": {
   "codemirror_mode": {
    "name": "ipython",
    "version": 3
   },
   "file_extension": ".py",
   "mimetype": "text/x-python",
   "name": "python",
   "nbconvert_exporter": "python",
   "pygments_lexer": "ipython3",
   "version": "3.9.12"
  }
 },
 "nbformat": 4,
 "nbformat_minor": 5
}
