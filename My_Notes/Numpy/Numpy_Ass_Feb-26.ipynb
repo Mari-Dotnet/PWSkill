{
 "cells": [
  {
   "cell_type": "markdown",
   "id": "c03d6f49-a6ff-480e-af83-f2eca2a70107",
   "metadata": {},
   "source": [
    "#### Q5. Write a code to create numpy array of 3*3 matrix containing zeros only, using a numpy array creation function."
   ]
  },
  {
   "cell_type": "code",
   "execution_count": 1,
   "id": "b1031f3e-8fad-4096-8dee-e3db8d125037",
   "metadata": {},
   "outputs": [],
   "source": [
    "import numpy as np"
   ]
  },
  {
   "cell_type": "code",
   "execution_count": 5,
   "id": "3bff58c5-5fde-41fb-871e-aa90d68767ca",
   "metadata": {},
   "outputs": [
    {
     "data": {
      "text/plain": [
       "array([[0., 0., 0.],\n",
       "       [0., 0., 0.],\n",
       "       [0., 0., 0.]])"
      ]
     },
     "execution_count": 5,
     "metadata": {},
     "output_type": "execute_result"
    }
   ],
   "source": [
    "q3arr=np.zeros((3,3))\n",
    "q3arr"
   ]
  },
  {
   "cell_type": "markdown",
   "id": "cf7cfcb1-58c3-4177-8a89-546b6cac5757",
   "metadata": {},
   "source": [
    "#### Q4. Write a code to find the following characteristics of variable, num_array:\n",
    "(i) shape\n",
    "(ii) size"
   ]
  },
  {
   "cell_type": "code",
   "execution_count": 10,
   "id": "ec53b80b-288f-4530-bb7f-591cf31407f4",
   "metadata": {},
   "outputs": [
    {
     "name": "stdout",
     "output_type": "stream",
     "text": [
      "shape of the arrey  (3, 3)\n",
      "size of the arrey  9\n"
     ]
    }
   ],
   "source": [
    "##shape- Its retun the rows and column \n",
    "print(\"shape of the arrey \", q3arr.shape)\n",
    "\n",
    "### size - its reurn the multiply of rows * column\n",
    "print(\"size of the arrey \", q3arr.size )"
   ]
  },
  {
   "cell_type": "code",
   "execution_count": 9,
   "id": "1c9920b4-56f5-4a4a-b7d1-1782a82f36d0",
   "metadata": {},
   "outputs": [
    {
     "data": {
      "text/plain": [
       "2"
      ]
     },
     "execution_count": 9,
     "metadata": {},
     "output_type": "execute_result"
    }
   ],
   "source": [
    "q3arr.ndim"
   ]
  },
  {
   "cell_type": "markdown",
   "id": "84afbde5-791c-4b48-affc-b098a7fdbbf9",
   "metadata": {},
   "source": [
    "#### Q6. Create an identity matrix of shape (5,5) using numpy functions?\n",
    "#### [Hint: An identity matrix is a matrix containing 1 diagonally and other elements will be 0.]"
   ]
  },
  {
   "cell_type": "code",
   "execution_count": 15,
   "id": "b81f1729-0ed4-480a-a74c-a34f4950c4d7",
   "metadata": {},
   "outputs": [
    {
     "data": {
      "text/plain": [
       "array([[1., 0., 0., 0., 0.],\n",
       "       [0., 1., 0., 0., 0.],\n",
       "       [0., 0., 1., 0., 0.],\n",
       "       [0., 0., 0., 1., 0.],\n",
       "       [0., 0., 0., 0., 1.]])"
      ]
     },
     "execution_count": 15,
     "metadata": {},
     "output_type": "execute_result"
    }
   ],
   "source": [
    "q6=np.eye(5)\n",
    "q6"
   ]
  },
  {
   "cell_type": "code",
   "execution_count": 16,
   "id": "976a9e24-428d-4ccf-bbc6-494de76e6778",
   "metadata": {},
   "outputs": [
    {
     "data": {
      "text/plain": [
       "(5, 5)"
      ]
     },
     "execution_count": 16,
     "metadata": {},
     "output_type": "execute_result"
    }
   ],
   "source": [
    "q6.shape"
   ]
  },
  {
   "cell_type": "markdown",
   "id": "64aee52b-d618-488b-b5f5-55262dae4fea",
   "metadata": {},
   "source": [
    "\n",
    "\n",
    "#### Q1. Is there any difference in the data type of variables list_ and array_list? If there is then write a code to print the data types of both the variables."
   ]
  },
  {
   "cell_type": "code",
   "execution_count": 96,
   "id": "5517e5fe-ff34-4688-97ba-a8200597de09",
   "metadata": {},
   "outputs": [],
   "source": [
    "import numpy as np\n",
    "list_ = [ '1', '2' , '3' , '4' , '5' ]\n",
    "array_list = np.array(object = list_)"
   ]
  },
  {
   "cell_type": "markdown",
   "id": "b69cf98d-1a23-4ff5-b4a7-05428023c159",
   "metadata": {},
   "source": [
    "- yes there is difference between the list_ and array_list.\n",
    "- list_ is a python object\n",
    "- array_list is a numpy array object"
   ]
  },
  {
   "cell_type": "code",
   "execution_count": 97,
   "id": "195ff1ab-c94a-4bbf-89cd-93eaff1aac6b",
   "metadata": {},
   "outputs": [
    {
     "data": {
      "text/plain": [
       "array(['1', '2', '3', '4', '5'], dtype='<U1')"
      ]
     },
     "execution_count": 97,
     "metadata": {},
     "output_type": "execute_result"
    }
   ],
   "source": [
    "array_list"
   ]
  },
  {
   "cell_type": "code",
   "execution_count": 92,
   "id": "79964375-34ab-4a59-b7b2-0e85d2b0f318",
   "metadata": {},
   "outputs": [
    {
     "data": {
      "text/plain": [
       "numpy.ndarray"
      ]
     },
     "execution_count": 92,
     "metadata": {},
     "output_type": "execute_result"
    }
   ],
   "source": [
    "type(array_list)"
   ]
  },
  {
   "cell_type": "code",
   "execution_count": 99,
   "id": "cbce464a-b697-4170-af10-c7010b94cfdf",
   "metadata": {},
   "outputs": [
    {
     "data": {
      "text/plain": [
       "list"
      ]
     },
     "execution_count": 99,
     "metadata": {},
     "output_type": "execute_result"
    }
   ],
   "source": [
    "type(list_)"
   ]
  },
  {
   "cell_type": "markdown",
   "id": "2980662e-9b35-4389-bbc6-51de6e840417",
   "metadata": {},
   "source": [
    "### Q2. Write a code to print the data type of each and every element of both the variables list_ and arra_list."
   ]
  },
  {
   "cell_type": "code",
   "execution_count": 102,
   "id": "bd7f91d3-d0a7-4b90-9808-6428441f0fa6",
   "metadata": {},
   "outputs": [
    {
     "name": "stdout",
     "output_type": "stream",
     "text": [
      "<class 'str'>\n",
      "<class 'str'>\n",
      "<class 'str'>\n",
      "<class 'str'>\n",
      "<class 'str'>\n"
     ]
    },
    {
     "data": {
      "text/plain": [
       "[None, None, None, None, None]"
      ]
     },
     "execution_count": 102,
     "metadata": {},
     "output_type": "execute_result"
    }
   ],
   "source": [
    "[print(type(x)) for x in list_ ]"
   ]
  },
  {
   "cell_type": "code",
   "execution_count": 103,
   "id": "069a9911-0f33-46ba-a40a-c16049e9211b",
   "metadata": {},
   "outputs": [
    {
     "name": "stdout",
     "output_type": "stream",
     "text": [
      "<class 'numpy.str_'>\n",
      "<class 'numpy.str_'>\n",
      "<class 'numpy.str_'>\n",
      "<class 'numpy.str_'>\n",
      "<class 'numpy.str_'>\n"
     ]
    },
    {
     "data": {
      "text/plain": [
       "[None, None, None, None, None]"
      ]
     },
     "execution_count": 103,
     "metadata": {},
     "output_type": "execute_result"
    }
   ],
   "source": [
    "[print(type(x)) for x in array_list ]"
   ]
  },
  {
   "cell_type": "markdown",
   "id": "c76fb6aa-4e7c-404a-946b-ff338f4873ad",
   "metadata": {},
   "source": [
    "#### Q3. Considering the following changes in the variable, array_list:\n",
    "\n",
    "array_list = np.array(object = list_, dtype = int)\n",
    "\n",
    "Will there be any difference in the data type of the elements present in both the variables, list_ and\n",
    "arra_list? If so then print the data types of each and every element present in both the variables, list_\n",
    "and arra_list.\n",
    "\n",
    "Consider the below code to answer further questions:\n"
   ]
  },
  {
   "cell_type": "code",
   "execution_count": 106,
   "id": "2a5dddac-0eb5-4f6c-b6fa-2426bf277f26",
   "metadata": {},
   "outputs": [],
   "source": [
    "import numpy as np\n",
    "list_ = [ '1', '2' , '3' , '4' , '5' ]\n",
    "array_list = np.array(object = list_, dtype = int)"
   ]
  },
  {
   "cell_type": "code",
   "execution_count": 109,
   "id": "ca10b1c7-bb98-43e8-a4c6-eddf3be42750",
   "metadata": {},
   "outputs": [
    {
     "data": {
      "text/plain": [
       "str"
      ]
     },
     "execution_count": 109,
     "metadata": {},
     "output_type": "execute_result"
    }
   ],
   "source": [
    "type(list_[0])"
   ]
  },
  {
   "cell_type": "code",
   "execution_count": 108,
   "id": "4780ffec-a2fb-48a5-8c62-aea2fe923884",
   "metadata": {},
   "outputs": [
    {
     "data": {
      "text/plain": [
       "numpy.int32"
      ]
     },
     "execution_count": 108,
     "metadata": {},
     "output_type": "execute_result"
    }
   ],
   "source": [
    "type(array_list[0])"
   ]
  },
  {
   "cell_type": "markdown",
   "id": "b71c72d8-d46e-4d1f-9ca0-386206dd67c0",
   "metadata": {},
   "source": [
    "- yes there is difference between the list_and arraylist_.\n",
    "  - list_ type as  str\n",
    "  - array_list_ as numpy.32"
   ]
  },
  {
   "cell_type": "code",
   "execution_count": 111,
   "id": "652b4dcf-b983-4f65-96ca-5e7b707bdd44",
   "metadata": {},
   "outputs": [],
   "source": [
    "import numpy as np\n",
    "num_list = [ [ 1 , 2 , 3 ] , [ 4 , 5 , 6 ] ]\n",
    "num_array = np.array(object = num_list)"
   ]
  },
  {
   "cell_type": "code",
   "execution_count": 113,
   "id": "40911b98-0ac5-4b0e-a790-8c90350a5918",
   "metadata": {},
   "outputs": [
    {
     "data": {
      "text/plain": [
       "int"
      ]
     },
     "execution_count": 113,
     "metadata": {},
     "output_type": "execute_result"
    }
   ],
   "source": [
    "type(num_list[0][0])"
   ]
  },
  {
   "cell_type": "code",
   "execution_count": 117,
   "id": "780cc2a9-d755-42b0-81c1-fea23a767b64",
   "metadata": {},
   "outputs": [
    {
     "data": {
      "text/plain": [
       "numpy.int32"
      ]
     },
     "execution_count": 117,
     "metadata": {},
     "output_type": "execute_result"
    }
   ],
   "source": [
    "type(num_array[0][0])"
   ]
  },
  {
   "cell_type": "markdown",
   "id": "3c0c7b8f-cba9-4273-a2e8-5756ec54a000",
   "metadata": {},
   "source": [
    "- yes there is difference between the num_list num_array.\n",
    "  - num_list type as  int\n",
    "  - num_array as numpy.32"
   ]
  },
  {
   "cell_type": "code",
   "execution_count": null,
   "id": "dde49034-eea7-4459-b4c6-d79fdee649cd",
   "metadata": {},
   "outputs": [],
   "source": []
  }
 ],
 "metadata": {
  "kernelspec": {
   "display_name": "Python 3 (ipykernel)",
   "language": "python",
   "name": "python3"
  },
  "language_info": {
   "codemirror_mode": {
    "name": "ipython",
    "version": 3
   },
   "file_extension": ".py",
   "mimetype": "text/x-python",
   "name": "python",
   "nbconvert_exporter": "python",
   "pygments_lexer": "ipython3",
   "version": "3.9.12"
  }
 },
 "nbformat": 4,
 "nbformat_minor": 5
}
