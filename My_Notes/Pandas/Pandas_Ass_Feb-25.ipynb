{
 "cells": [
  {
   "cell_type": "code",
   "execution_count": 5,
   "id": "faf2ecbc-3161-4a36-8eef-6b4fa75c0185",
   "metadata": {},
   "outputs": [],
   "source": [
    "##Consider following code to answer further questions:\n",
    "import pandas as pd\n",
    "course_name = ['Data Science', 'Machine Learning' ,'Big Data', 'Data Engineer']\n",
    "duration = [2,3,6,4]\n",
    "df = pd.DataFrame(data = {'course_name' : course_name,'duration' : duration})"
   ]
  },
  {
   "cell_type": "code",
   "execution_count": 6,
   "id": "511c3d9b-cfb2-4a38-94bd-12a8ee28fb5d",
   "metadata": {},
   "outputs": [
    {
     "data": {
      "text/html": [
       "<div>\n",
       "<style scoped>\n",
       "    .dataframe tbody tr th:only-of-type {\n",
       "        vertical-align: middle;\n",
       "    }\n",
       "\n",
       "    .dataframe tbody tr th {\n",
       "        vertical-align: top;\n",
       "    }\n",
       "\n",
       "    .dataframe thead th {\n",
       "        text-align: right;\n",
       "    }\n",
       "</style>\n",
       "<table border=\"1\" class=\"dataframe\">\n",
       "  <thead>\n",
       "    <tr style=\"text-align: right;\">\n",
       "      <th></th>\n",
       "      <th>course_name</th>\n",
       "      <th>duration</th>\n",
       "    </tr>\n",
       "  </thead>\n",
       "  <tbody>\n",
       "    <tr>\n",
       "      <th>0</th>\n",
       "      <td>Data Science</td>\n",
       "      <td>2</td>\n",
       "    </tr>\n",
       "    <tr>\n",
       "      <th>1</th>\n",
       "      <td>Machine Learning</td>\n",
       "      <td>3</td>\n",
       "    </tr>\n",
       "    <tr>\n",
       "      <th>2</th>\n",
       "      <td>Big Data</td>\n",
       "      <td>6</td>\n",
       "    </tr>\n",
       "    <tr>\n",
       "      <th>3</th>\n",
       "      <td>Data Engineer</td>\n",
       "      <td>4</td>\n",
       "    </tr>\n",
       "  </tbody>\n",
       "</table>\n",
       "</div>"
      ],
      "text/plain": [
       "        course_name  duration\n",
       "0      Data Science         2\n",
       "1  Machine Learning         3\n",
       "2          Big Data         6\n",
       "3     Data Engineer         4"
      ]
     },
     "execution_count": 6,
     "metadata": {},
     "output_type": "execute_result"
    }
   ],
   "source": [
    "### Q1. Write a code to print the data present in the second row of the dataframe, \n",
    "df"
   ]
  },
  {
   "cell_type": "code",
   "execution_count": 24,
   "id": "9549e95d-c9b5-4d56-a2dc-bc0db26e97f1",
   "metadata": {},
   "outputs": [
    {
     "data": {
      "text/plain": [
       "course_name    Machine Learning\n",
       "duration                      3\n",
       "Name: 1, dtype: object"
      ]
     },
     "execution_count": 24,
     "metadata": {},
     "output_type": "execute_result"
    }
   ],
   "source": [
    "df.loc[1]"
   ]
  },
  {
   "cell_type": "code",
   "execution_count": 25,
   "id": "aeb42564-d7b2-4d40-bc96-284aa28cfbf4",
   "metadata": {},
   "outputs": [
    {
     "data": {
      "text/plain": [
       "course_name    Machine Learning\n",
       "duration                      3\n",
       "Name: 1, dtype: object"
      ]
     },
     "execution_count": 25,
     "metadata": {},
     "output_type": "execute_result"
    }
   ],
   "source": [
    "df.iloc[1]"
   ]
  },
  {
   "cell_type": "markdown",
   "id": "19b3ae90-1d22-4dfa-9e96-6c8ab661b1f3",
   "metadata": {},
   "source": [
    "### Q2. What is the difference between the functions loc and iloc in pandas.DataFrame?\n",
    "- iloc:\n",
    "    -  Index based record will return\n",
    "- loc\n",
    "    - label based record will return"
   ]
  },
  {
   "cell_type": "markdown",
   "id": "cdca8ed4-3027-4033-b56f-3d48524a13af",
   "metadata": {},
   "source": [
    "#### Q3. Reindex the given dataframe using a variable, reindex = [3,0,1,2] and store it in the variable, new_df then find the output for both new_df.loc[2] and new_df.iloc[2]."
   ]
  },
  {
   "cell_type": "code",
   "execution_count": 15,
   "id": "7f20825b-7fea-46e9-9115-059597e9a651",
   "metadata": {},
   "outputs": [],
   "source": [
    "new_df=df.reindex([3,0,1,2])"
   ]
  },
  {
   "cell_type": "code",
   "execution_count": 16,
   "id": "2dc4e992-1fdd-4bb9-9166-106f6725b9ea",
   "metadata": {},
   "outputs": [
    {
     "data": {
      "text/html": [
       "<div>\n",
       "<style scoped>\n",
       "    .dataframe tbody tr th:only-of-type {\n",
       "        vertical-align: middle;\n",
       "    }\n",
       "\n",
       "    .dataframe tbody tr th {\n",
       "        vertical-align: top;\n",
       "    }\n",
       "\n",
       "    .dataframe thead th {\n",
       "        text-align: right;\n",
       "    }\n",
       "</style>\n",
       "<table border=\"1\" class=\"dataframe\">\n",
       "  <thead>\n",
       "    <tr style=\"text-align: right;\">\n",
       "      <th></th>\n",
       "      <th>course_name</th>\n",
       "      <th>duration</th>\n",
       "    </tr>\n",
       "  </thead>\n",
       "  <tbody>\n",
       "    <tr>\n",
       "      <th>3</th>\n",
       "      <td>Data Engineer</td>\n",
       "      <td>4</td>\n",
       "    </tr>\n",
       "    <tr>\n",
       "      <th>0</th>\n",
       "      <td>Data Science</td>\n",
       "      <td>2</td>\n",
       "    </tr>\n",
       "    <tr>\n",
       "      <th>1</th>\n",
       "      <td>Machine Learning</td>\n",
       "      <td>3</td>\n",
       "    </tr>\n",
       "    <tr>\n",
       "      <th>2</th>\n",
       "      <td>Big Data</td>\n",
       "      <td>6</td>\n",
       "    </tr>\n",
       "  </tbody>\n",
       "</table>\n",
       "</div>"
      ],
      "text/plain": [
       "        course_name  duration\n",
       "3     Data Engineer         4\n",
       "0      Data Science         2\n",
       "1  Machine Learning         3\n",
       "2          Big Data         6"
      ]
     },
     "execution_count": 16,
     "metadata": {},
     "output_type": "execute_result"
    }
   ],
   "source": [
    "new_df"
   ]
  },
  {
   "cell_type": "code",
   "execution_count": 17,
   "id": "8d3620e3-aa97-4e68-9f5b-fb9b4531323f",
   "metadata": {},
   "outputs": [
    {
     "data": {
      "text/plain": [
       "course_name    Big Data\n",
       "duration              6\n",
       "Name: 2, dtype: object"
      ]
     },
     "execution_count": 17,
     "metadata": {},
     "output_type": "execute_result"
    }
   ],
   "source": [
    "new_df.loc[2]"
   ]
  },
  {
   "cell_type": "code",
   "execution_count": 18,
   "id": "cf2ae52e-cb99-47a8-9d4f-3d3559f449a1",
   "metadata": {},
   "outputs": [
    {
     "data": {
      "text/plain": [
       "course_name    Machine Learning\n",
       "duration                      3\n",
       "Name: 1, dtype: object"
      ]
     },
     "execution_count": 18,
     "metadata": {},
     "output_type": "execute_result"
    }
   ],
   "source": [
    "new_df.iloc[2]"
   ]
  },
  {
   "cell_type": "markdown",
   "id": "7e56741f-d74d-44e4-b068-ac0d25378a99",
   "metadata": {},
   "source": [
    "### it will show different data \n",
    "- iloc matched with index based values 2 mean 0,1,2 , which values located in 2 index that values come\n",
    "- loc macthec on index values equal to 2 so this values is come"
   ]
  },
  {
   "cell_type": "code",
   "execution_count": 26,
   "id": "adfa0c8e-cae3-4258-a4dc-794c91a54d39",
   "metadata": {},
   "outputs": [],
   "source": [
    "import pandas as pd\n",
    "import numpy as np\n",
    "columns = ['column_1', 'column_2', 'column_3', 'column_4', 'column_5', 'column_6']\n",
    "indices = [1,2,3,4,5,6]\n",
    "#Creating a dataframe:\n",
    "df1 = pd.DataFrame(np.random.rand(6,6), columns = columns, index = indices)"
   ]
  },
  {
   "cell_type": "code",
   "execution_count": 27,
   "id": "eafe9c10-7ea6-4f66-8832-5978a56a5abd",
   "metadata": {},
   "outputs": [
    {
     "data": {
      "text/html": [
       "<div>\n",
       "<style scoped>\n",
       "    .dataframe tbody tr th:only-of-type {\n",
       "        vertical-align: middle;\n",
       "    }\n",
       "\n",
       "    .dataframe tbody tr th {\n",
       "        vertical-align: top;\n",
       "    }\n",
       "\n",
       "    .dataframe thead th {\n",
       "        text-align: right;\n",
       "    }\n",
       "</style>\n",
       "<table border=\"1\" class=\"dataframe\">\n",
       "  <thead>\n",
       "    <tr style=\"text-align: right;\">\n",
       "      <th></th>\n",
       "      <th>column_1</th>\n",
       "      <th>column_2</th>\n",
       "      <th>column_3</th>\n",
       "      <th>column_4</th>\n",
       "      <th>column_5</th>\n",
       "      <th>column_6</th>\n",
       "    </tr>\n",
       "  </thead>\n",
       "  <tbody>\n",
       "    <tr>\n",
       "      <th>1</th>\n",
       "      <td>0.511369</td>\n",
       "      <td>0.706470</td>\n",
       "      <td>0.023049</td>\n",
       "      <td>0.041229</td>\n",
       "      <td>0.567883</td>\n",
       "      <td>0.657837</td>\n",
       "    </tr>\n",
       "    <tr>\n",
       "      <th>2</th>\n",
       "      <td>0.622350</td>\n",
       "      <td>0.331277</td>\n",
       "      <td>0.984943</td>\n",
       "      <td>0.352535</td>\n",
       "      <td>0.133854</td>\n",
       "      <td>0.000180</td>\n",
       "    </tr>\n",
       "    <tr>\n",
       "      <th>3</th>\n",
       "      <td>0.302878</td>\n",
       "      <td>0.439233</td>\n",
       "      <td>0.981517</td>\n",
       "      <td>0.056555</td>\n",
       "      <td>0.125868</td>\n",
       "      <td>0.556510</td>\n",
       "    </tr>\n",
       "    <tr>\n",
       "      <th>4</th>\n",
       "      <td>0.736518</td>\n",
       "      <td>0.197609</td>\n",
       "      <td>0.780356</td>\n",
       "      <td>0.465510</td>\n",
       "      <td>0.470408</td>\n",
       "      <td>0.538117</td>\n",
       "    </tr>\n",
       "    <tr>\n",
       "      <th>5</th>\n",
       "      <td>0.812047</td>\n",
       "      <td>0.607042</td>\n",
       "      <td>0.174488</td>\n",
       "      <td>0.328667</td>\n",
       "      <td>0.307418</td>\n",
       "      <td>0.098702</td>\n",
       "    </tr>\n",
       "    <tr>\n",
       "      <th>6</th>\n",
       "      <td>0.887033</td>\n",
       "      <td>0.461153</td>\n",
       "      <td>0.588306</td>\n",
       "      <td>0.983579</td>\n",
       "      <td>0.681846</td>\n",
       "      <td>0.296357</td>\n",
       "    </tr>\n",
       "  </tbody>\n",
       "</table>\n",
       "</div>"
      ],
      "text/plain": [
       "   column_1  column_2  column_3  column_4  column_5  column_6\n",
       "1  0.511369  0.706470  0.023049  0.041229  0.567883  0.657837\n",
       "2  0.622350  0.331277  0.984943  0.352535  0.133854  0.000180\n",
       "3  0.302878  0.439233  0.981517  0.056555  0.125868  0.556510\n",
       "4  0.736518  0.197609  0.780356  0.465510  0.470408  0.538117\n",
       "5  0.812047  0.607042  0.174488  0.328667  0.307418  0.098702\n",
       "6  0.887033  0.461153  0.588306  0.983579  0.681846  0.296357"
      ]
     },
     "execution_count": 27,
     "metadata": {},
     "output_type": "execute_result"
    }
   ],
   "source": [
    "df1"
   ]
  },
  {
   "cell_type": "markdown",
   "id": "b13d067b-73d4-43d4-b30e-cc27df008131",
   "metadata": {},
   "source": [
    "#### Q4. Write a code to find the following statistical measurements for the above dataframe df1:\n",
    "- (i) mean of each and every column present in the dataframe.\n",
    "- (ii) standard deviation of column, ‘column_2’"
   ]
  },
  {
   "cell_type": "code",
   "execution_count": 38,
   "id": "ed13577b-f6d5-412e-9e60-308896c99baf",
   "metadata": {},
   "outputs": [
    {
     "data": {
      "text/html": [
       "<div>\n",
       "<style scoped>\n",
       "    .dataframe tbody tr th:only-of-type {\n",
       "        vertical-align: middle;\n",
       "    }\n",
       "\n",
       "    .dataframe tbody tr th {\n",
       "        vertical-align: top;\n",
       "    }\n",
       "\n",
       "    .dataframe thead th {\n",
       "        text-align: right;\n",
       "    }\n",
       "</style>\n",
       "<table border=\"1\" class=\"dataframe\">\n",
       "  <thead>\n",
       "    <tr style=\"text-align: right;\">\n",
       "      <th></th>\n",
       "      <th>column_1</th>\n",
       "      <th>column_2</th>\n",
       "      <th>column_3</th>\n",
       "      <th>column_4</th>\n",
       "      <th>column_5</th>\n",
       "      <th>column_6</th>\n",
       "    </tr>\n",
       "  </thead>\n",
       "  <tbody>\n",
       "    <tr>\n",
       "      <th>mean</th>\n",
       "      <td>0.645366</td>\n",
       "      <td>0.45713</td>\n",
       "      <td>0.588776</td>\n",
       "      <td>0.371346</td>\n",
       "      <td>0.381213</td>\n",
       "      <td>0.357951</td>\n",
       "    </tr>\n",
       "  </tbody>\n",
       "</table>\n",
       "</div>"
      ],
      "text/plain": [
       "      column_1  column_2  column_3  column_4  column_5  column_6\n",
       "mean  0.645366   0.45713  0.588776  0.371346  0.381213  0.357951"
      ]
     },
     "execution_count": 38,
     "metadata": {},
     "output_type": "execute_result"
    }
   ],
   "source": [
    "df1.describe()[1:2]"
   ]
  },
  {
   "cell_type": "code",
   "execution_count": 39,
   "id": "234c5992-0092-477a-8ac1-47e97b9d8382",
   "metadata": {},
   "outputs": [
    {
     "data": {
      "text/plain": [
       "0.1833959810345553"
      ]
     },
     "execution_count": 39,
     "metadata": {},
     "output_type": "execute_result"
    }
   ],
   "source": [
    "df1['column_2'].std()"
   ]
  },
  {
   "cell_type": "markdown",
   "id": "95f6d024-9621-4aff-824a-a68eed93cb53",
   "metadata": {},
   "source": [
    "#### Q5. Replace the data present in the second row of column, ‘column_2’ by a string variable then find the mean of column, column_2.\n",
    "\n",
    "If you are getting errors in executing it then explain why.\n",
    "\n",
    "[Hint: To replace the data use df1.loc[] and equate this to string data of your choice.]"
   ]
  },
  {
   "cell_type": "code",
   "execution_count": 30,
   "id": "c2e5b945-1ea9-4da4-b6c1-7a3280d4793d",
   "metadata": {},
   "outputs": [],
   "source": [
    "## string variable not able to calculate the mean value , only numerical value only calculate the mean value"
   ]
  },
  {
   "cell_type": "markdown",
   "id": "7f42ad14-b41f-4397-9929-cc847dbdd628",
   "metadata": {},
   "source": [
    "#### Q6. What do you understand about the windows function in pandas and list the types of windows functions?\n",
    "- windows function are used to perform the set of calculation across of set of rows that are interrelated with current row."
   ]
  },
  {
   "cell_type": "code",
   "execution_count": 42,
   "id": "4c400afa-d1d4-4e9c-a5e9-afb8e1bd754c",
   "metadata": {},
   "outputs": [],
   "source": [
    "arr=[1,2,3,4,5,6]\n",
    "dfar=pd.DataFrame(arr)"
   ]
  },
  {
   "cell_type": "code",
   "execution_count": 47,
   "id": "3cd0e1a0-b969-4943-ba07-04ac9eb38836",
   "metadata": {},
   "outputs": [
    {
     "data": {
      "text/html": [
       "<div>\n",
       "<style scoped>\n",
       "    .dataframe tbody tr th:only-of-type {\n",
       "        vertical-align: middle;\n",
       "    }\n",
       "\n",
       "    .dataframe tbody tr th {\n",
       "        vertical-align: top;\n",
       "    }\n",
       "\n",
       "    .dataframe thead th {\n",
       "        text-align: right;\n",
       "    }\n",
       "</style>\n",
       "<table border=\"1\" class=\"dataframe\">\n",
       "  <thead>\n",
       "    <tr style=\"text-align: right;\">\n",
       "      <th></th>\n",
       "      <th>0</th>\n",
       "    </tr>\n",
       "  </thead>\n",
       "  <tbody>\n",
       "    <tr>\n",
       "      <th>0</th>\n",
       "      <td>NaN</td>\n",
       "    </tr>\n",
       "    <tr>\n",
       "      <th>1</th>\n",
       "      <td>1.5</td>\n",
       "    </tr>\n",
       "    <tr>\n",
       "      <th>2</th>\n",
       "      <td>2.5</td>\n",
       "    </tr>\n",
       "    <tr>\n",
       "      <th>3</th>\n",
       "      <td>3.5</td>\n",
       "    </tr>\n",
       "    <tr>\n",
       "      <th>4</th>\n",
       "      <td>4.5</td>\n",
       "    </tr>\n",
       "    <tr>\n",
       "      <th>5</th>\n",
       "      <td>5.5</td>\n",
       "    </tr>\n",
       "  </tbody>\n",
       "</table>\n",
       "</div>"
      ],
      "text/plain": [
       "     0\n",
       "0  NaN\n",
       "1  1.5\n",
       "2  2.5\n",
       "3  3.5\n",
       "4  4.5\n",
       "5  5.5"
      ]
     },
     "execution_count": 47,
     "metadata": {},
     "output_type": "execute_result"
    }
   ],
   "source": [
    "dfar.rolling(window=2).mean()"
   ]
  },
  {
   "cell_type": "markdown",
   "id": "2ec7a04b-481d-437d-9fc6-fba74c7ab625",
   "metadata": {},
   "source": [
    "#### Q7. Write a code to print only the current month and year at the time of answering this question."
   ]
  },
  {
   "cell_type": "markdown",
   "id": "2511ccde-12e0-4823-ba37-ae2ccee9efa7",
   "metadata": {},
   "source": [
    "data7={'date':['2023-02-28']}"
   ]
  },
  {
   "cell_type": "code",
   "execution_count": 66,
   "id": "16e858ef-bbbd-4a46-a50c-fb28c1750ab3",
   "metadata": {},
   "outputs": [],
   "source": [
    "df7=pd.DataFrame(data7)"
   ]
  },
  {
   "cell_type": "code",
   "execution_count": 69,
   "id": "b3899bcf-cd60-4c6d-84ae-33f14207f265",
   "metadata": {},
   "outputs": [],
   "source": [
    "df7['year']=pd.to_datetime(df7['date']).dt.year\n",
    "df7['month']=pd.to_datetime(df7['date']).dt.month"
   ]
  },
  {
   "cell_type": "code",
   "execution_count": 70,
   "id": "9e1f258a-0adf-4a1f-8991-54056871ff2e",
   "metadata": {},
   "outputs": [
    {
     "data": {
      "text/html": [
       "<div>\n",
       "<style scoped>\n",
       "    .dataframe tbody tr th:only-of-type {\n",
       "        vertical-align: middle;\n",
       "    }\n",
       "\n",
       "    .dataframe tbody tr th {\n",
       "        vertical-align: top;\n",
       "    }\n",
       "\n",
       "    .dataframe thead th {\n",
       "        text-align: right;\n",
       "    }\n",
       "</style>\n",
       "<table border=\"1\" class=\"dataframe\">\n",
       "  <thead>\n",
       "    <tr style=\"text-align: right;\">\n",
       "      <th></th>\n",
       "      <th>date</th>\n",
       "      <th>year</th>\n",
       "      <th>month</th>\n",
       "    </tr>\n",
       "  </thead>\n",
       "  <tbody>\n",
       "    <tr>\n",
       "      <th>0</th>\n",
       "      <td>2023-02-28</td>\n",
       "      <td>2023</td>\n",
       "      <td>2</td>\n",
       "    </tr>\n",
       "  </tbody>\n",
       "</table>\n",
       "</div>"
      ],
      "text/plain": [
       "         date  year  month\n",
       "0  2023-02-28  2023      2"
      ]
     },
     "execution_count": 70,
     "metadata": {},
     "output_type": "execute_result"
    }
   ],
   "source": [
    "df7"
   ]
  },
  {
   "cell_type": "markdown",
   "id": "a623d93c-3752-41eb-b20c-3af93c239485",
   "metadata": {},
   "source": [
    "#### Q8. Write a Python program that takes in two dates as input (in the format YYYY-MM-DD) and calculates the difference between them in days, hours, and minutes using Pandas time delta. Theprogram should prompt the user to enter the dates and display the result."
   ]
  },
  {
   "cell_type": "code",
   "execution_count": 77,
   "id": "87580c15-b464-44c0-a30a-0ad93b8b6b24",
   "metadata": {},
   "outputs": [
    {
     "name": "stdin",
     "output_type": "stream",
     "text": [
      "enter the from date 2023-02-01\n",
      "enter the to date 2023-02-28\n"
     ]
    }
   ],
   "source": [
    "fromdate=input(\"enter the from date\")\n",
    "todate= input(\"enter the to date\")"
   ]
  },
  {
   "cell_type": "code",
   "execution_count": 82,
   "id": "9566dfb7-4360-4a5e-853c-0777350f8776",
   "metadata": {},
   "outputs": [
    {
     "name": "stdout",
     "output_type": "stream",
     "text": [
      "The difference between 2023-02-01 and 2023-02-28 is 27 days, 0 hours, and 0 minutes.\n"
     ]
    }
   ],
   "source": [
    "date1=pd.to_datetime(fromdate)\n",
    "date2=pd.to_datetime(todate)\n",
    "datediff=date2-date1\n",
    "datediff\n",
    "days = datediff.days\n",
    "hours = datediff.seconds // 3600\n",
    "minutes = (datediff.seconds % 3600) // 60\n",
    "\n",
    "# Display the result to the user\n",
    "print(f\"The difference between {date1.date()} and {date2.date()} is {days} days, {hours} hours, and {minutes} minutes.\")"
   ]
  },
  {
   "cell_type": "markdown",
   "id": "dead06a2-e29e-446b-9988-955f3cbd9b65",
   "metadata": {
    "tags": []
   },
   "source": [
    "#### Q9. Write a Python program that reads a CSV file containing categorical data and converts a specifiedcolumn to a categorical data type. The program should prompt the user to enter the file path, columnname, and category order, and then display the sorted data."
   ]
  },
  {
   "cell_type": "code",
   "execution_count": null,
   "id": "2e3d9751-13fa-42e1-9538-847e7671ddd8",
   "metadata": {},
   "outputs": [],
   "source": [
    "file_path = input(\"Enter the file path: \")\n",
    "col_name = input(\"Enter the column name: \")\n",
    "cat_order = input(\"Enter the category order (comma-separated values): \").split(\",\")\n",
    "\n",
    "# Read the CSV file and convert the specified column to a categorical data type\n",
    "df = pd.read_csv(file_path)\n",
    "df[col_name] = pd.Categorical(df[col_name], categories=cat_order, ordered=True)\n",
    "\n",
    "# Sort the data based on the specified column and display the result\n",
    "sorted_df = df.sort_values(by=[col_name])\n",
    "print(sorted_df)"
   ]
  },
  {
   "cell_type": "code",
   "execution_count": 84,
   "id": "64186424-cae4-4912-a9ea-4bd646f8ec14",
   "metadata": {},
   "outputs": [],
   "source": [
    "data9={\"cat\":[\"mari\",\"praks\",\"queen\"]}\n",
    "df9=pd.DataFrame(data9)"
   ]
  },
  {
   "cell_type": "code",
   "execution_count": 85,
   "id": "9efcd3f3-cdb5-460f-92b9-57ab56cd5d22",
   "metadata": {},
   "outputs": [
    {
     "data": {
      "text/html": [
       "<div>\n",
       "<style scoped>\n",
       "    .dataframe tbody tr th:only-of-type {\n",
       "        vertical-align: middle;\n",
       "    }\n",
       "\n",
       "    .dataframe tbody tr th {\n",
       "        vertical-align: top;\n",
       "    }\n",
       "\n",
       "    .dataframe thead th {\n",
       "        text-align: right;\n",
       "    }\n",
       "</style>\n",
       "<table border=\"1\" class=\"dataframe\">\n",
       "  <thead>\n",
       "    <tr style=\"text-align: right;\">\n",
       "      <th></th>\n",
       "      <th>cat</th>\n",
       "    </tr>\n",
       "  </thead>\n",
       "  <tbody>\n",
       "    <tr>\n",
       "      <th>0</th>\n",
       "      <td>mari</td>\n",
       "    </tr>\n",
       "    <tr>\n",
       "      <th>1</th>\n",
       "      <td>praks</td>\n",
       "    </tr>\n",
       "    <tr>\n",
       "      <th>2</th>\n",
       "      <td>queen</td>\n",
       "    </tr>\n",
       "  </tbody>\n",
       "</table>\n",
       "</div>"
      ],
      "text/plain": [
       "     cat\n",
       "0   mari\n",
       "1  praks\n",
       "2  queen"
      ]
     },
     "execution_count": 85,
     "metadata": {},
     "output_type": "execute_result"
    }
   ],
   "source": [
    "df9"
   ]
  },
  {
   "cell_type": "code",
   "execution_count": 87,
   "id": "41b3c2a9-387a-4d7d-8d48-08e566a53a63",
   "metadata": {},
   "outputs": [],
   "source": [
    "df9['cat'] = pd.Categorical(df9['cat'], categories=['mari','praks'], ordered=True)"
   ]
  },
  {
   "cell_type": "code",
   "execution_count": 89,
   "id": "e6a8c9b1-85bb-491d-b651-3fc572060eac",
   "metadata": {},
   "outputs": [
    {
     "name": "stdout",
     "output_type": "stream",
     "text": [
      "     cat\n",
      "0   mari\n",
      "1  praks\n",
      "2    NaN\n"
     ]
    }
   ],
   "source": [
    "# Sort the data based on the specified column and display the result\n",
    "sorted_df = df9.sort_values(by=['cat'])\n",
    "print(sorted_df)"
   ]
  },
  {
   "cell_type": "code",
   "execution_count": null,
   "id": "97f30029-f774-43ef-895e-805b0d3d9728",
   "metadata": {},
   "outputs": [],
   "source": [
    "Q10. Write a Python program that reads a CSV file containing sales data for different products and\n",
    "visualizes the data using a stacked bar chart to show the sales of each product category over time. The\n",
    "program should prompt the user to enter the file path and display the chart."
   ]
  },
  {
   "cell_type": "code",
   "execution_count": null,
   "id": "52e7de1e-dfeb-464e-a588-fd4b3a14b5b9",
   "metadata": {},
   "outputs": [],
   "source": [
    "import pandas as pd\n",
    "import matplotlib.pyplot as plt\n",
    "\n",
    "# Prompt the user to enter the file path\n",
    "file_path = input(\"Enter the file path: \")\n",
    "\n",
    "# Read the CSV file into a pandas DataFrame\n",
    "df = pd.read_csv(file_path)\n",
    "\n",
    "# Convert the 'Date' column to datetime format\n",
    "df['Date'] = pd.to_datetime(df['Date'])\n",
    "\n",
    "# Set the 'Date' column as the index\n",
    "df.set_index('Date', inplace=True)\n",
    "\n",
    "# Group the data by product category and resample by month\n",
    "grouped = df.groupby('Product Category').resample('M')['Sales'].sum().unstack()\n",
    "\n",
    "# Create a stacked bar chart of the sales data\n",
    "ax = grouped.plot(kind='bar', stacked=True, figsize=(10,6))\n",
    "\n",
    "# Set the title and axis labels\n",
    "ax.set_title('Sales by Product Category', fontsize=16)\n",
    "ax.set_xlabel('Month', fontsize=14)\n",
    "ax.set_ylabel('Sales', fontsize=14)\n",
    "\n",
    "# Display the chart\n",
    "plt.show()\n"
   ]
  },
  {
   "cell_type": "markdown",
   "id": "e96cd652-68a9-498c-ba04-68422b51213a",
   "metadata": {},
   "source": [
    "Q11. You are given a CSV file containing student data that includes the student ID and their test score. Write\n",
    "a Python program that reads the CSV file, calculates the mean, median, and mode of the test scores, and\n",
    "displays the results in a table."
   ]
  },
  {
   "cell_type": "code",
   "execution_count": 4,
   "id": "1f14f6d6-6fa4-441c-bde1-de5d85808f7f",
   "metadata": {},
   "outputs": [
    {
     "name": "stdin",
     "output_type": "stream",
     "text": [
      "enter the file path testscore.csv\n"
     ]
    }
   ],
   "source": [
    "import pandas as pd\n",
    "filepath=input('enter the file path')\n",
    "data=pd.read_csv(filepath)"
   ]
  },
  {
   "cell_type": "code",
   "execution_count": null,
   "id": "c5793c10-cdec-438d-a57a-619d98a37113",
   "metadata": {},
   "outputs": [],
   "source": [
    "mean=data['Test Score'].mean()\n",
    "print(data['Test Score'].mean())"
   ]
  },
  {
   "cell_type": "code",
   "execution_count": null,
   "id": "11b8b882-cb3c-4037-9a04-81877d49a859",
   "metadata": {},
   "outputs": [],
   "source": [
    "median=data['Test Score'].median()\n",
    "print(data['Test Score'].median())"
   ]
  },
  {
   "cell_type": "code",
   "execution_count": null,
   "id": "cf434c03-d6ee-45bf-81a4-ec31ba9f2f9d",
   "metadata": {},
   "outputs": [],
   "source": [
    "mode=data['Test Score'].mode()\n",
    "mode[0]"
   ]
  },
  {
   "cell_type": "code",
   "execution_count": 29,
   "id": "4bd28045-e15a-4cba-acc6-cde6aa84c3e7",
   "metadata": {},
   "outputs": [
    {
     "data": {
      "text/html": [
       "<div>\n",
       "<style scoped>\n",
       "    .dataframe tbody tr th:only-of-type {\n",
       "        vertical-align: middle;\n",
       "    }\n",
       "\n",
       "    .dataframe tbody tr th {\n",
       "        vertical-align: top;\n",
       "    }\n",
       "\n",
       "    .dataframe thead th {\n",
       "        text-align: right;\n",
       "    }\n",
       "</style>\n",
       "<table border=\"1\" class=\"dataframe\">\n",
       "  <thead>\n",
       "    <tr style=\"text-align: right;\">\n",
       "      <th></th>\n",
       "      <th>Statistics</th>\n",
       "      <th>value</th>\n",
       "    </tr>\n",
       "  </thead>\n",
       "  <tbody>\n",
       "    <tr>\n",
       "      <th>0</th>\n",
       "      <td>mean</td>\n",
       "      <td>83.5</td>\n",
       "    </tr>\n",
       "    <tr>\n",
       "      <th>1</th>\n",
       "      <td>median</td>\n",
       "      <td>85.0</td>\n",
       "    </tr>\n",
       "    <tr>\n",
       "      <th>2</th>\n",
       "      <td>mode</td>\n",
       "      <td>85.0</td>\n",
       "    </tr>\n",
       "  </tbody>\n",
       "</table>\n",
       "</div>"
      ],
      "text/plain": [
       "  Statistics  value\n",
       "0       mean   83.5\n",
       "1     median   85.0\n",
       "2       mode   85.0"
      ]
     },
     "execution_count": 29,
     "metadata": {},
     "output_type": "execute_result"
    }
   ],
   "source": [
    "dataop={\"Statistics\":['mean','median','mode'],\n",
    "       'value':[mean,median,mode[0]]}\n",
    "data1=pd.DataFrame(dataop)\n",
    "data1"
   ]
  },
  {
   "cell_type": "code",
   "execution_count": null,
   "id": "0e1b1e43-5dca-4ce2-b9b4-631d4bba3ab2",
   "metadata": {},
   "outputs": [],
   "source": []
  },
  {
   "cell_type": "code",
   "execution_count": null,
   "id": "4f3b9ee5-68c0-4932-96eb-7026da9af06c",
   "metadata": {},
   "outputs": [],
   "source": []
  }
 ],
 "metadata": {
  "kernelspec": {
   "display_name": "Python 3 (ipykernel)",
   "language": "python",
   "name": "python3"
  },
  "language_info": {
   "codemirror_mode": {
    "name": "ipython",
    "version": 3
   },
   "file_extension": ".py",
   "mimetype": "text/x-python",
   "name": "python",
   "nbconvert_exporter": "python",
   "pygments_lexer": "ipython3",
   "version": "3.9.12"
  }
 },
 "nbformat": 4,
 "nbformat_minor": 5
}
