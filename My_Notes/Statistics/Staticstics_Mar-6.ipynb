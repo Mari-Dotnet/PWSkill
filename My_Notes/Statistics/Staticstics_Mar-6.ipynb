{
 "cells": [
  {
   "cell_type": "markdown",
   "id": "ae679cc3-51c4-44e6-8a2c-9a49224c2714",
   "metadata": {},
   "source": [
    "#### statistics:\n",
    "- statistics is the science of collecting, organizing and alayyzing the data\n",
    "- data\n",
    "  - facts and piecs of information\n",
    "- Data analyst\n",
    "  - Analyst the data and decision making the process"
   ]
  },
  {
   "cell_type": "markdown",
   "id": "568d9f94-105b-4014-80a6-ff27bc27ad20",
   "metadata": {},
   "source": [
    "#### Types of statistics\n",
    "- Descriptive stats\n",
    "- influential stats"
   ]
  },
  {
   "cell_type": "markdown",
   "id": "f8182db6-a458-4dee-8d15-5ca3bafc5578",
   "metadata": {},
   "source": [
    "#### descriptive stats\n",
    "- its consists organizing and summerzing the data\n",
    "- summerzing method\n",
    "  - measure of centeral tendancy : mean median mode\n",
    "  - measure of dispresoon : variance std\n",
    "  - histograms, bar chart,pie chart"
   ]
  },
  {
   "cell_type": "markdown",
   "id": "0766837c-dbd6-4aba-9ca9-3bc53577b5bd",
   "metadata": {},
   "source": [
    "#### influential stats\n",
    "- its consist of using data you have measured to from the conclusion\n",
    "- test methods\n",
    "  - Z-test\n",
    "  - t-test\n",
    "  - Hypthesis test, P values, siginifigance"
   ]
  },
  {
   "cell_type": "markdown",
   "id": "c600645b-8af0-466d-a31f-a88ee9f3292e",
   "metadata": {},
   "source": [
    "Eg:50 students in math class in the university, we have collected the height of the every students in the class.\n",
    "[175,180,185,140,135,140,14.....]"
   ]
  },
  {
   "cell_type": "markdown",
   "id": "2c6267c9-bf24-44f4-a022-9166b5467988",
   "metadata": {},
   "source": [
    "#### Discriptive question:\n",
    "- what is average height of the students (mean)\n",
    "- what is common height of the students(mode)\n",
    "\n",
    "#### Infrential question:\n",
    "- are the height of the student in class room to what you expect in the entire college"
   ]
  },
  {
   "cell_type": "markdown",
   "id": "011352f6-fa77-4b42-9b3d-6a120a2cd468",
   "metadata": {
    "tags": []
   },
   "source": [
    "## 2. Types of Data"
   ]
  },
  {
   "cell_type": "markdown",
   "id": "25c5e054-53fa-440b-9c28-3ef3dc5b9bc2",
   "metadata": {},
   "source": [
    "#### Data\n",
    "- Quantitative (Numerical data)\n",
    "  - Discrete (specifica whole number with range)\n",
    "  - Contineous (height, weight, speed, temperature)\n",
    "- Qualitative( categorical data)\n",
    "  - nominal (fixed set of data gender(male,female) blood group)\n",
    "  - odinal(Rank good, bad, satisfying)"
   ]
  },
  {
   "cell_type": "markdown",
   "id": "0792fc98-36e5-40aa-91e6-67dbab42d264",
   "metadata": {},
   "source": [
    "## 3. Level of measurement"
   ]
  },
  {
   "cell_type": "markdown",
   "id": "7f9a7121-1718-4240-a3a6-9dd19ebaeac9",
   "metadata": {},
   "source": [
    "- Nomianl scale data\n",
    "- ordinal scale data\n",
    "- interval scale data\n",
    "- ratio scale data"
   ]
  },
  {
   "cell_type": "markdown",
   "id": "63ec968c-36f6-41e1-ad8d-53699a6d3b5d",
   "metadata": {},
   "source": [
    "#### Nomianl scale data\n",
    "- qualitative/ categrical values\n",
    "- gender , color,order does not matter "
   ]
  },
  {
   "cell_type": "markdown",
   "id": "4ba95bee-60a6-45fd-9da5-4e88d1d81760",
   "metadata": {},
   "source": [
    "#### ordinal scale data\n",
    "- ranking and orders matter\n",
    "- differece cannot be measure\n",
    "- qualification \n",
    "    - phd 1\n",
    "    - master 2\n",
    "    - Be  3\n",
    "    - bcom 4\n",
    "- Marks\n",
    "   - 90 1\n",
    "   - 80 2\n",
    "  "
   ]
  },
  {
   "cell_type": "markdown",
   "id": "4d1b43e3-1b17-4df1-8481-0a6810537900",
   "metadata": {},
   "source": [
    "#### Interval scale data\n",
    "- The rank and order matters\n",
    "- is does not have zero starting point\n",
    "- difference can be measured (excluding ratio)\n",
    "- Eg: temperature\n",
    " - 30f 60f 80f\n",
    " - 30 20 difference"
   ]
  },
  {
   "cell_type": "markdown",
   "id": "3833ee09-eb99-44a4-92a2-5e72099476ed",
   "metadata": {},
   "source": [
    "#### ratio scale data\n",
    "- Order and rank matter\n",
    "- difference and ration also matter\n",
    "- its does have zero starting point\n",
    "- garde\n",
    "    - 100\n",
    "    - 90\n",
    "    - 80 \n",
    "    - 50\n",
    "- difference 10,10,10,30\n",
    "- rank 1,2,3,4\n",
    "- ratio  100 :50 = 2:1 "
   ]
  },
  {
   "cell_type": "code",
   "execution_count": null,
   "id": "cc799311-b7e5-49de-a439-b85ffa0a9452",
   "metadata": {},
   "outputs": [],
   "source": []
  }
 ],
 "metadata": {
  "kernelspec": {
   "display_name": "Python 3 (ipykernel)",
   "language": "python",
   "name": "python3"
  },
  "language_info": {
   "codemirror_mode": {
    "name": "ipython",
    "version": 3
   },
   "file_extension": ".py",
   "mimetype": "text/x-python",
   "name": "python",
   "nbconvert_exporter": "python",
   "pygments_lexer": "ipython3",
   "version": "3.9.12"
  }
 },
 "nbformat": 4,
 "nbformat_minor": 5
}
