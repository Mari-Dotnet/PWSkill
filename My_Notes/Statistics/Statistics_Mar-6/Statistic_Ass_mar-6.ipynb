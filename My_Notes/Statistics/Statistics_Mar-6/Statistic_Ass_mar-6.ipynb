{
 "cells": [
  {
   "cell_type": "markdown",
   "id": "2b003f2b-605d-43dc-8551-5f9b3b447d97",
   "metadata": {},
   "source": [
    "#### Q1. What is Statistics?\n",
    "- statistics is the science of collection,organizing and analysing the data."
   ]
  },
  {
   "cell_type": "markdown",
   "id": "8957d0e9-ba0c-43fc-acaa-52df753d7891",
   "metadata": {},
   "source": [
    "#### Q2. Define the different types of statistics and give an example of when each type might be used.\n",
    "- Descriptive statistics\n",
    "    -its consist of organizaing and summarizing the data.\n",
    "    - Mean , median, mode,standard deviation ,range\n",
    "- Inferential statistics\n",
    "    - its consists of using the data you have measured form of conclusion\n",
    "    -hypothesis testing, confidence intervals, and regression analysis"
   ]
  },
  {
   "cell_type": "markdown",
   "id": "4f6fd23f-133c-41ae-aa68-d26f4535056d",
   "metadata": {},
   "source": [
    "#### Q3. What are the different types of data and how do they differ from each other? Provide an example of each type of data.\n",
    "\n",
    "- Quantitative \n",
    "    - Numerical data\n",
    "- Qualititative\n",
    "    - Categorical data"
   ]
  },
  {
   "cell_type": "markdown",
   "id": "4fd4d02a-dbcf-4f23-9255-3e1c725d1ecd",
   "metadata": {},
   "source": [
    "#### Q4. Categorise the following datasets with respect to quantitative and qualitative data types:\n",
    "- (i) Grading in exam: A+, A, B+, B, C+, C, D, E \n",
    "    - Nominal data\n",
    "- (ii) Colour of mangoes: yellow, green, orange, red\n",
    "    - Ordinal data\n",
    "- (iii) Height data of a class: [178.9, 179, 179.5, 176, 177.2, 178.3, 175.8,...]\n",
    "    - contineous data\n",
    "- (iv) Number of mangoes exported by a farm: [500, 600, 478, 672, ...]\n",
    "    - Discrete data"
   ]
  },
  {
   "cell_type": "markdown",
   "id": "a4bc25c4-cd81-4578-b665-b342303b57ec",
   "metadata": {},
   "source": [
    "#### Q5. Explain the concept of levels of measurement and give an example of a variable for each level.\n",
    "- nominal data\n",
    "- ordinal data\n",
    "- interval data\n",
    "- Ratio scale data"
   ]
  },
  {
   "cell_type": "markdown",
   "id": "8bd23093-8a9e-4d10-a9ac-9be5715f5017",
   "metadata": {},
   "source": [
    "#### Q7. How nominal data type is different from ordinal data type.\n",
    "- the nominal data type is fixed values :Blood group, Days\n",
    "- The odninal data is categorical : Qualification, mark\n",
    " "
   ]
  },
  {
   "cell_type": "markdown",
   "id": "b485ce18-189f-46ca-9397-e26c101162db",
   "metadata": {},
   "source": [
    "### Q8. Which type of plot can be used to display data in terms of range?\n",
    "- A box plot can be used to display data in terms of range."
   ]
  },
  {
   "cell_type": "markdown",
   "id": "b9379f2c-65d4-4968-aaac-16bfe2cb7d25",
   "metadata": {},
   "source": [
    "#### Q9. Describe the difference between descriptive and inferential statistics. Give an example of each type of statistics and explain how they are used."
   ]
  },
  {
   "cell_type": "markdown",
   "id": "36422c27-2527-4c6b-8b76-d94c1ea674a2",
   "metadata": {},
   "source": [
    "- Descriptive statistics\n",
    "    -its consist of organizaing and summarizing the data.\n",
    "    - Mean , median, mode,standard deviation ,range\n",
    "- Inferential statistics\n",
    "    - its consists of using the data you have measured form of conclusion\n",
    "    -hypothesis testing, confidence intervals, and regression analysis"
   ]
  },
  {
   "cell_type": "markdown",
   "id": "a11c964a-6d44-4933-b44b-bb700cd8a2bb",
   "metadata": {},
   "source": [
    "#### Q10. What are some common measures of central tendency and variability used in statistics? Explain how each measure can be used to describe a dataset."
   ]
  },
  {
   "cell_type": "code",
   "execution_count": 4,
   "id": "95d04fe1-6eff-4864-b2bd-89e6d6e1de9f",
   "metadata": {},
   "outputs": [],
   "source": [
    "import numpy as np\n",
    "import pandas as pd\n",
    "import scipy.stats as stat"
   ]
  },
  {
   "cell_type": "code",
   "execution_count": 8,
   "id": "2f580c5a-5cec-4ad1-b97c-e64e0d0f7575",
   "metadata": {},
   "outputs": [
    {
     "name": "stdout",
     "output_type": "stream",
     "text": [
      "mean 5.0\n",
      "median 5.5\n",
      "mode ModeResult(mode=array([7]), count=array([2]))\n"
     ]
    }
   ],
   "source": [
    "data=[1,4,5,6,7,7]\n",
    "##mean\n",
    "print(\"mean\",np.mean(data))\n",
    "print(\"median\", np.median(data))\n",
    "print(\"mode\", stat.mode(data))"
   ]
  },
  {
   "cell_type": "markdown",
   "id": "171def22-b5d9-4b62-8d0d-3b1e3cebd473",
   "metadata": {},
   "source": [
    "#### Q6. Why is it important to understand the level of measurement when analyzing data? Provide an example to illustrate your answer.\n",
    "- The level at which you measure a variable determines how you can analyze your data.\n",
    "- Depending on the level of measurement, you can perform different descriptive statistics to get an overall summary of your data and inferential statistics to see if your results support or refute your hypothesis."
   ]
  },
  {
   "cell_type": "code",
   "execution_count": null,
   "id": "ded52d57-5262-47a8-969c-db9d60dce9c0",
   "metadata": {},
   "outputs": [],
   "source": []
  }
 ],
 "metadata": {
  "kernelspec": {
   "display_name": "Python 3 (ipykernel)",
   "language": "python",
   "name": "python3"
  },
  "language_info": {
   "codemirror_mode": {
    "name": "ipython",
    "version": 3
   },
   "file_extension": ".py",
   "mimetype": "text/x-python",
   "name": "python",
   "nbconvert_exporter": "python",
   "pygments_lexer": "ipython3",
   "version": "3.9.12"
  }
 },
 "nbformat": 4,
 "nbformat_minor": 5
}
