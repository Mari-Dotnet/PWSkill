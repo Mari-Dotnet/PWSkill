{
 "cells": [
  {
   "cell_type": "markdown",
   "id": "b475eea4-74a7-4372-b9af-7b2247b499bf",
   "metadata": {},
   "source": [
    "#### Q1: What is Estimation Statistics? \n",
    "- Its specified observed numerical value used to  to estimate the unknown population parameter\n",
    "#### point estimate \n",
    "- single numerical value used to estimate an unknown population parameter.\n",
    "#### interval estimate.\n",
    "- Range of values used to estimate the unknown population parameter"
   ]
  },
  {
   "cell_type": "markdown",
   "id": "37757961-6389-4452-990d-4b458f0ff1c0",
   "metadata": {},
   "source": [
    "#### Q2. Write a Python function to estimate the population mean using a sample mean and standard deviation."
   ]
  },
  {
   "cell_type": "code",
   "execution_count": 1,
   "id": "27a52954-9274-4dca-be78-7aaba068aeec",
   "metadata": {},
   "outputs": [],
   "source": [
    "import math\n",
    "\n",
    "def estimate_population_mean(sample_mean, sample_std, sample_size, confidence_level=0.95):\n",
    "    \"\"\"\n",
    "    Estimate the population mean using a sample mean and standard deviation.\n",
    "    \n",
    "    Args:\n",
    "        sample_mean (float): the sample mean\n",
    "        sample_std (float): the sample standard deviation\n",
    "        sample_size (int): the sample size\n",
    "        confidence_level (float): the confidence level (default: 0.95)\n",
    "        \n",
    "    Returns:\n",
    "        tuple: a tuple containing the lower and upper bounds of the interval estimate\n",
    "    \"\"\"\n",
    "    # Calculate the standard error of the mean\n",
    "    std_error = sample_std / math.sqrt(sample_size)\n",
    "    \n",
    "    # Calculate the t-value for the given confidence level and degrees of freedom\n",
    "    degrees_of_freedom = sample_size - 1\n",
    "    t_value = abs(stats.t.ppf((1 - confidence_level) / 2, degrees_of_freedom))\n",
    "    \n",
    "    # Calculate the lower and upper bounds of the interval estimate\n",
    "    lower_bound = sample_mean - t_value * std_error\n",
    "    upper_bound = sample_mean + t_value * std_error\n",
    "    \n",
    "    return (lower_bound, upper_bound)"
   ]
  },
  {
   "cell_type": "markdown",
   "id": "827191b3-fa00-4bee-8fa2-fdd628330793",
   "metadata": {},
   "source": [
    "#### Q3: What is Hypothesis testing? Why is it used? State the importance of Hypothesis testing.\n",
    "- hypothesis testing is the statistical method used to determine whether hypothesis about population likely true or not based on sample data.\n",
    "- its involves making an assumption called null hypothesis about a population parameter and then testing whether the sample data provides enough evidence to reject or fail to reject the null hypothesis.\n",
    "- Hypothesis testing is important because it helps to make data-driven decisions in various fields such as medicine, engineering, business, and more"
   ]
  },
  {
   "cell_type": "markdown",
   "id": "f694edd6-571c-40ed-8a8c-96ba41ad7683",
   "metadata": {},
   "source": [
    "#### Q4. Create a hypothesis that states whether the average weight of male college students is greater than the average weight of female college students.\n",
    "\n",
    "- Null hypothesis: male clg student weight greater than female clg student weight\n",
    "- Alternate hypothesis: male clg student weight not greater than female clg student weight"
   ]
  },
  {
   "cell_type": "markdown",
   "id": "52b66da1-3250-401d-ac18-03696eda9881",
   "metadata": {},
   "source": [
    "#### Q5. Write a Python script to conduct a hypothesis test on the difference between two population means, given a sample from each population."
   ]
  },
  {
   "cell_type": "code",
   "execution_count": 2,
   "id": "f191317b-2f59-4d64-a39b-4d210f029886",
   "metadata": {},
   "outputs": [
    {
     "name": "stdout",
     "output_type": "stream",
     "text": [
      "Reject the null hypothesis\n"
     ]
    }
   ],
   "source": [
    "import numpy as np\n",
    "from scipy import stats\n",
    "\n",
    "# Generate two random samples\n",
    "np.random.seed(1234)\n",
    "sample1 = np.random.normal(loc=10, scale=2, size=50)\n",
    "sample2 = np.random.normal(loc=12, scale=2, size=60)\n",
    "\n",
    "# Calculate the sample means and standard deviations\n",
    "sample1_mean = np.mean(sample1)\n",
    "sample2_mean = np.mean(sample2)\n",
    "sample1_std = np.std(sample1, ddof=1)\n",
    "sample2_std = np.std(sample2, ddof=1)\n",
    "\n",
    "# Calculate the degrees of freedom\n",
    "df = len(sample1) + len(sample2) - 2\n",
    "\n",
    "# Calculate the pooled standard deviation\n",
    "s_pool = np.sqrt(((len(sample1) - 1) * sample1_std ** 2 + (len(sample2) - 1) * sample2_std ** 2) / df)\n",
    "\n",
    "# Calculate the t-statistic\n",
    "t = (sample1_mean - sample2_mean) / (s_pool * np.sqrt(1 / len(sample1) + 1 / len(sample2)))\n",
    "\n",
    "# Calculate the p-value\n",
    "p = 2 * stats.t.cdf(-abs(t), df)\n",
    "\n",
    "# Set the significance level\n",
    "alpha = 0.05\n",
    "\n",
    "# Compare the p-value to the significance level\n",
    "if p < alpha:\n",
    "    print(\"Reject the null hypothesis\")\n",
    "else:\n",
    "    print(\"Fail to reject the null hypothesis\")"
   ]
  },
  {
   "cell_type": "markdown",
   "id": "b601fbcb-b01a-4c9f-ac26-203c89c1741f",
   "metadata": {},
   "source": [
    "#### Q6: What is a null hypothesis\n",
    "- statement that assumes there is no significant difference between two populations or variables.\n",
    "####  alternative hypothesis? \n",
    "- significant difference between two populations or variables.\n",
    "\n",
    "#### Give some examples.\n",
    "- Null hypothesis: The mean height of men and women in a population is the same.\n",
    "- Alternative hypothesis: The mean height of men and women in a population is different. "
   ]
  },
  {
   "cell_type": "markdown",
   "id": "bb64bf3d-38f1-4cc5-8537-a3ffe2aba79c",
   "metadata": {},
   "source": [
    "#### Q7: Write down the steps involved in hypothesis testing.\n",
    "- Accecpt the null hypothesis\n",
    "- Alternate hypothesis\n",
    "- Experiments\n",
    "- Conclusion (Accept the null hypothesis or Reject the null hypothesis)"
   ]
  },
  {
   "cell_type": "markdown",
   "id": "75f41879-58dd-4154-bbf9-74b16b0bb273",
   "metadata": {},
   "source": [
    "#### Q8. Define p-value and explain its significance in hypothesis testing.\n",
    "- In hypothesis testing, p-value is defined as the probability of observing a test statistic as extreme or more extreme than the one calculated from the sample, given that the null hypothesis is true.\n",
    "\n",
    "- The significance of p-value in hypothesis testing is that it helps to determine whether to reject or fail to reject the null hypothesis. A p-value less than the significance level (usually 0.05) indicates that the observed result is statistically significant, and the null hypothesis is rejected in favor of the alternative hypothesis. Conversely, a p-value greater than the significance level indicates that there is insufficient evidence to reject the null hypothesis."
   ]
  },
  {
   "cell_type": "markdown",
   "id": "121ea28d-4a3d-47dc-9274-c7a46f58e57c",
   "metadata": {},
   "source": [
    "#### Q9. Generate a Student's t-distribution plot using Python's matplotlib library, with the degrees of freedom parameter set to 10."
   ]
  },
  {
   "cell_type": "code",
   "execution_count": 7,
   "id": "7e0577fd-2863-4ed5-9a63-ccda965a474b",
   "metadata": {},
   "outputs": [
    {
     "data": {
      "image/png": "[encoded data removed]",
      "text/plain": [
       "<Figure size 432x288 with 1 Axes>"
      ]
     },
     "metadata": {
      "needs_background": "light"
     },
     "output_type": "display_data"
    }
   ],
   "source": [
    "import numpy as np\n",
    "import matplotlib.pyplot as plt\n",
    "from scipy.stats import t\n",
    "\n",
    "df = 10  # degrees of freedom\n",
    "x = np.linspace(t.ppf(0.001, df), t.ppf(0.999, df), 100)  # range of x values\n",
    "pdf = t.pdf(x, df)  # probability density function\n",
    "\n",
    "plt.plot(x, pdf)\n",
    "plt.title(\"Student's t-distribution with 10 degrees of freedom\")\n",
    "plt.xlabel('x')\n",
    "plt.ylabel('Probability density')\n",
    "plt.show()"
   ]
  },
  {
   "cell_type": "markdown",
   "id": "022e7081-7c24-4804-abe3-00ba0b00cd16",
   "metadata": {},
   "source": [
    "#### Q10. Write a Python program to calculate the two-sample t-test for independent samples, given two  random samples of equal size and a null hypothesis that the population means are equal."
   ]
  },
  {
   "cell_type": "code",
   "execution_count": 19,
   "id": "c8cff659-827d-408b-8e47-1a5ebd86832c",
   "metadata": {},
   "outputs": [
    {
     "name": "stdout",
     "output_type": "stream",
     "text": [
      "t-statistic:  -3.9657211779675565\n",
      "p-value:  0.0001392460150027706\n",
      "Reject the null hypothesis\n"
     ]
    }
   ],
   "source": [
    "import numpy as np\n",
    "from scipy.stats import ttest_ind\n",
    "\n",
    "# Generate two random samples\n",
    "sample1 = np.random.normal(10, 2, 50)\n",
    "sample2 = np.random.normal(12, 2, 50)\n",
    "\n",
    "t_stat, p_value = ttest_ind(sample1, sample2, equal_var=True)\n",
    "\n",
    "# print the results\n",
    "print(\"t-statistic: \", t_stat)\n",
    "print(\"p-value: \", p_value)\n",
    "\n",
    "alpha = 0.05\n",
    "\n",
    "# Compare the p-value to the significance level\n",
    "if p_value < alpha:\n",
    "    print(\"Reject the null hypothesis\")\n",
    "else:\n",
    "    print(\"Fail to reject the null hypothesis\")"
   ]
  },
  {
   "cell_type": "markdown",
   "id": "55f5949d-dfc2-49b5-9e2e-a052add186e7",
   "metadata": {},
   "source": [
    "#### Q11: What is Student’s t distribution? \n",
    "- Student's t-distribution is a probability distribution that is used in statistics to make inferences about population means when the sample size is small or the population standard deviation is unknown. It is a symmetric distribution that looks similar to a normal distribution, but has heavier tails.\n",
    "### When to use the t-Distribution.\n",
    "- when population of standard deviation is not knowing we can use t test.\n",
    "- when sample size is small and less than 30 \n"
   ]
  },
  {
   "cell_type": "markdown",
   "id": "d462d855-0ad2-42f5-bfa0-89d7bd14e4fe",
   "metadata": {},
   "source": [
    "### Q12: What is t-statistic? State the formula for t-statistic.\n",
    "\n",
    "- The t-statistic is a measure used in hypothesis testing when the population standard deviation is unknown and the sample size is small. It is used to determine if the difference between two sample means is significant or if it could have occurred by chance. The formula for t-statistic is:\n",
    "\n",
    "- t = (x1 - x2) / (s * sqrt(2/n))\n",
    "\n",
    "Where,\n",
    "- x1 and x2 are the sample means of two groups,\n",
    "- s is the pooled standard deviation,\n",
    "- n is the sample size of each group."
   ]
  },
  {
   "cell_type": "code",
   "execution_count": null,
   "id": "90b8b5c6-06af-4999-9d88-103912436c71",
   "metadata": {},
   "outputs": [],
   "source": []
  }
 ],
 "metadata": {
  "kernelspec": {
   "display_name": "Python 3 (ipykernel)",
   "language": "python",
   "name": "python3"
  },
  "language_info": {
   "codemirror_mode": {
    "name": "ipython",
    "version": 3
   },
   "file_extension": ".py",
   "mimetype": "text/x-python",
   "name": "python",
   "nbconvert_exporter": "python",
   "pygments_lexer": "ipython3",
   "version": "3.9.12"
  }
 },
 "nbformat": 4,
 "nbformat_minor": 5
}
