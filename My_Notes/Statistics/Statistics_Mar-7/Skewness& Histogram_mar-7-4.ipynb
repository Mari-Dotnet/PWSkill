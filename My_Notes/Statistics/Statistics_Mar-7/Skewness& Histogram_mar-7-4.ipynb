{
 "cells": [
  {
   "cell_type": "markdown",
   "id": "41704d74-0e3c-4168-bae5-91807fb53033",
   "metadata": {},
   "source": [
    "#### skewness"
   ]
  },
  {
   "cell_type": "markdown",
   "id": "e9e0cbae-6543-4ca4-b74d-c73a65625374",
   "metadata": {},
   "source": [
    "### symmeretical distribution\n",
    "- both right and leaf hand side have equal distribution\n",
    "- no skewness\n",
    "- mean,mode and median perfectly at center"
   ]
  },
  {
   "cell_type": "markdown",
   "id": "ca435729-d067-4330-a044-7073bc347475",
   "metadata": {},
   "source": [
    "### Right skew:\n",
    "- Mean > median > mode\n",
    "- Q3-Q2 > Q2-Q1"
   ]
  },
  {
   "cell_type": "markdown",
   "id": "93748396-94f1-4e32-896f-45ffc25c633d",
   "metadata": {},
   "source": [
    "### left skew:\n",
    "- Mean < median < mode\n",
    "- Q3-Q2 < Q2-Q1"
   ]
  },
  {
   "cell_type": "markdown",
   "id": "0de3b60d-540c-4433-a721-4440168bb92d",
   "metadata": {},
   "source": [
    "### Histogram"
   ]
  },
  {
   "cell_type": "markdown",
   "id": "5cbafaec-3d84-4bb4-81df-52ca52aeb78a",
   "metadata": {},
   "source": [
    "- bins (frequency of element)\n",
    "- last element value - first element / binscount(10)\n",
    "- smoothning the curve"
   ]
  },
  {
   "cell_type": "code",
   "execution_count": null,
   "id": "c4dfd9e0-5ebc-4b83-af07-56924e5a13fc",
   "metadata": {},
   "outputs": [],
   "source": [
    "eg age=[1,3,5,7,8,12,14,20] bins=5\n",
    "X axis is values 0,5,10,15,20\n",
    "y axis count of values: 0-5 =>2 5-10 =>3 10-15 =>2 15-20 =>2"
   ]
  },
  {
   "cell_type": "markdown",
   "id": "b22f89fe-e462-42a7-8cb7-cfea8f9078fa",
   "metadata": {},
   "source": [
    "Pdf(probility distribution function)"
   ]
  },
  {
   "cell_type": "markdown",
   "id": "25833658-c8a7-4061-9300-10bd6bfefeed",
   "metadata": {},
   "source": [
    "### Bell curve\n",
    "- Normal/ Gaussion distribution"
   ]
  },
  {
   "cell_type": "markdown",
   "id": "18b28d93-20b1-4b66-928a-cc30aa9b1581",
   "metadata": {},
   "source": [
    "## Log normal Distribution\n",
    "- its look like right side skewness"
   ]
  },
  {
   "cell_type": "code",
   "execution_count": null,
   "id": "790f2e67-7daa-4e76-a80c-32122ef3369f",
   "metadata": {},
   "outputs": [],
   "source": []
  }
 ],
 "metadata": {
  "kernelspec": {
   "display_name": "Python 3 (ipykernel)",
   "language": "python",
   "name": "python3"
  },
  "language_info": {
   "codemirror_mode": {
    "name": "ipython",
    "version": 3
   },
   "file_extension": ".py",
   "mimetype": "text/x-python",
   "name": "python",
   "nbconvert_exporter": "python",
   "pygments_lexer": "ipython3",
   "version": "3.9.12"
  }
 },
 "nbformat": 4,
 "nbformat_minor": 5
}
