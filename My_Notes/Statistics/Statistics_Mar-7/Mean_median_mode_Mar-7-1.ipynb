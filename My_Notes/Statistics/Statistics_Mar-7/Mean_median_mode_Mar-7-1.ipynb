{
 "cells": [
  {
   "cell_type": "markdown",
   "id": "240795ca-67b6-40c4-aea1-b6ea989185b9",
   "metadata": {},
   "source": [
    "#### Measure of central tendancy"
   ]
  },
  {
   "cell_type": "code",
   "execution_count": 2,
   "id": "623aa7cd-3234-4653-9dc3-58f3b2397575",
   "metadata": {},
   "outputs": [],
   "source": [
    "##mean\n",
    "age=[12,13,14,21,24]"
   ]
  },
  {
   "cell_type": "code",
   "execution_count": 3,
   "id": "4b11eed0-08bf-4d1e-bf72-09e947aa8b91",
   "metadata": {},
   "outputs": [
    {
     "data": {
      "text/plain": [
       "16.8"
      ]
     },
     "execution_count": 3,
     "metadata": {},
     "output_type": "execute_result"
    }
   ],
   "source": [
    "(12+13+14+21+24)/5"
   ]
  },
  {
   "cell_type": "code",
   "execution_count": 4,
   "id": "e170529e-be7d-4f92-ab81-2088423cedea",
   "metadata": {},
   "outputs": [],
   "source": [
    "import numpy as np"
   ]
  },
  {
   "cell_type": "code",
   "execution_count": 5,
   "id": "728b5248-8576-400e-81bd-ba1798ace7bf",
   "metadata": {},
   "outputs": [
    {
     "data": {
      "text/plain": [
       "16.8"
      ]
     },
     "execution_count": 5,
     "metadata": {},
     "output_type": "execute_result"
    }
   ],
   "source": [
    "np.mean(age)"
   ]
  },
  {
   "cell_type": "markdown",
   "id": "c6d62a2b-f511-423d-a566-fb365aa9eb03",
   "metadata": {},
   "source": [
    "## median"
   ]
  },
  {
   "cell_type": "code",
   "execution_count": 6,
   "id": "160d5241-692c-443f-829b-e25be4175991",
   "metadata": {},
   "outputs": [
    {
     "data": {
      "text/plain": [
       "14.0"
      ]
     },
     "execution_count": 6,
     "metadata": {},
     "output_type": "execute_result"
    }
   ],
   "source": [
    "np.median(age)"
   ]
  },
  {
   "cell_type": "code",
   "execution_count": 12,
   "id": "ae0f2df2-5863-466a-8a2a-220838bd5897",
   "metadata": {},
   "outputs": [],
   "source": [
    "weight=[44,56,77,87,56,34,98,78,34]"
   ]
  },
  {
   "cell_type": "code",
   "execution_count": 13,
   "id": "c4f8d7a4-5556-438f-af81-d569f5257009",
   "metadata": {},
   "outputs": [
    {
     "data": {
      "text/plain": [
       "62.666666666666664"
      ]
     },
     "execution_count": 13,
     "metadata": {},
     "output_type": "execute_result"
    }
   ],
   "source": [
    "np.mean(weight)"
   ]
  },
  {
   "cell_type": "code",
   "execution_count": 19,
   "id": "dad75d67-929e-415b-9464-f852c6c25c4a",
   "metadata": {},
   "outputs": [],
   "source": [
    "weight=[44,56,77,87,56,34,34,98,78,34,1000] ## here is putlier beacuse 1000 is outlier\n"
   ]
  },
  {
   "cell_type": "code",
   "execution_count": 20,
   "id": "9e62959e-1868-4c0f-8886-d872b1204970",
   "metadata": {},
   "outputs": [
    {
     "data": {
      "text/plain": [
       "145.27272727272728"
      ]
     },
     "execution_count": 20,
     "metadata": {},
     "output_type": "execute_result"
    }
   ],
   "source": [
    "np.mean(weight)"
   ]
  },
  {
   "cell_type": "code",
   "execution_count": 21,
   "id": "f85e7bba-ab75-4445-8f9e-9a9a58708737",
   "metadata": {},
   "outputs": [
    {
     "data": {
      "text/plain": [
       "56.0"
      ]
     },
     "execution_count": 21,
     "metadata": {},
     "output_type": "execute_result"
    }
   ],
   "source": [
    "np.median(weight)"
   ]
  },
  {
   "cell_type": "markdown",
   "id": "f30604b6-b3cb-4f80-ac4e-9f92db1f1de9",
   "metadata": {},
   "source": [
    "##### mode"
   ]
  },
  {
   "cell_type": "code",
   "execution_count": 17,
   "id": "06e2fb13-567c-4dfc-88df-4b15fb078db7",
   "metadata": {},
   "outputs": [],
   "source": [
    "from scipy import stats"
   ]
  },
  {
   "cell_type": "code",
   "execution_count": 22,
   "id": "1041eb75-84e9-4542-89ef-5f29332c78d3",
   "metadata": {},
   "outputs": [
    {
     "data": {
      "text/plain": [
       "ModeResult(mode=array([34]), count=array([3]))"
      ]
     },
     "execution_count": 22,
     "metadata": {},
     "output_type": "execute_result"
    }
   ],
   "source": [
    "stats.mode(weight)"
   ]
  },
  {
   "cell_type": "code",
   "execution_count": null,
   "id": "0e419892-6fe0-45a4-a436-e0ff919c59e9",
   "metadata": {},
   "outputs": [],
   "source": []
  }
 ],
 "metadata": {
  "kernelspec": {
   "display_name": "Python 3 (ipykernel)",
   "language": "python",
   "name": "python3"
  },
  "language_info": {
   "codemirror_mode": {
    "name": "ipython",
    "version": 3
   },
   "file_extension": ".py",
   "mimetype": "text/x-python",
   "name": "python",
   "nbconvert_exporter": "python",
   "pygments_lexer": "ipython3",
   "version": "3.9.12"
  }
 },
 "nbformat": 4,
 "nbformat_minor": 5
}
