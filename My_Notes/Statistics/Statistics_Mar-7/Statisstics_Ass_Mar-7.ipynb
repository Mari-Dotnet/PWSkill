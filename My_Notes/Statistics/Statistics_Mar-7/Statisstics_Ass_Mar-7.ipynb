{
 "cells": [
  {
   "cell_type": "markdown",
   "id": "46b5b0b6-e3ac-4688-9702-6f8219c24424",
   "metadata": {},
   "source": [
    "#### Q1. What are the three measures of central tendency?\n",
    "- Mean\n",
    "- Median\n",
    "- mode"
   ]
  },
  {
   "cell_type": "markdown",
   "id": "9e8af15b-5ff5-4254-b41b-1d360cdaf094",
   "metadata": {},
   "source": [
    "#### Q2. What is the difference between the mean, median, and mode? \n",
    "- Mean : Average of the value in data points\n",
    "- median : mit of the values in data points\n",
    "- mode : most frequent value in data points\n",
    "#### How are they used to measure the central tendency of a dataset?\n",
    "- The mean is useful when the dataset is normally distributed and the values are not skewed.\n",
    "- The median is preferred when the dataset is skewed or has outliers, as it is less affected by extreme values.\n",
    "- The mode is useful when looking for the most common value in a dataset, especially when dealing with categorical data."
   ]
  },
  {
   "cell_type": "markdown",
   "id": "463e750c-cb0b-4d09-bab6-578403b255d1",
   "metadata": {},
   "source": [
    "#### Q3. Measure the three measures of central tendency for the given height data:"
   ]
  },
  {
   "cell_type": "code",
   "execution_count": 11,
   "id": "0d68ca76-b5da-479b-89b1-3bda7f9184e6",
   "metadata": {},
   "outputs": [
    {
     "name": "stdout",
     "output_type": "stream",
     "text": [
      "mean 177.01875\n",
      "median 177.0\n",
      "mode ModeResult(mode=array([177.]), count=array([3]))\n"
     ]
    }
   ],
   "source": [
    "import numpy as np\n",
    "from scipy import stats\n",
    "data3=[178,177,176,177,178.2,178,175,179,180,175,178.9,176.2,177,172.5,178,176.5]\n",
    "print('mean',np.mean(data3))\n",
    "print('median',np.median(data3))\n",
    "print('mode',stats.mode(data3))"
   ]
  },
  {
   "cell_type": "markdown",
   "id": "c047f4f3-139f-4d09-bcfd-bc3f12daed02",
   "metadata": {},
   "source": [
    "#### Q4. Find the standard deviation for the given data:"
   ]
  },
  {
   "cell_type": "code",
   "execution_count": 12,
   "id": "9f547266-f66c-48cc-9f1c-a8ad332a9c7b",
   "metadata": {},
   "outputs": [],
   "source": [
    "Data4=[178,177,176,177,178.2,178,175,179,180,175,178.9,176.2,177,172.5,178,176.5]"
   ]
  },
  {
   "cell_type": "code",
   "execution_count": 13,
   "id": "144c513e-2244-4a66-9892-f2524ca25064",
   "metadata": {},
   "outputs": [
    {
     "data": {
      "text/plain": [
       "1.7885814036548633"
      ]
     },
     "execution_count": 13,
     "metadata": {},
     "output_type": "execute_result"
    }
   ],
   "source": [
    "np.std(Data4)"
   ]
  },
  {
   "cell_type": "markdown",
   "id": "75f61158-f268-4a15-a169-ee157286bf92",
   "metadata": {},
   "source": [
    "#### Q5. How are measures of dispersion such as range, variance, and standard deviation used to describethe spread of a dataset? Provide an example."
   ]
  },
  {
   "cell_type": "markdown",
   "id": "d5e70f65-8257-4baa-899f-4b1026a0a4a7",
   "metadata": {},
   "source": [
    "#### Range:\n",
    "- The difference between highest and lowest data point in the data set\n",
    "\n",
    "#### variance\n",
    "- The variance is the average of the squared differences from the mean of the dataset.\n",
    "- A higher variance indicates that the data points are more spread out from the mean\n",
    "#### standard deviation\n",
    "- The standard deviation is the square root of the variance. It is commonly used to describe the spread of a dataset and is less sensitive to outliers than the range and variance. It provides a measure of how far the data is from the mean on average.\n",
    "- A higher standard deviation indicates that the data is more spread out."
   ]
  },
  {
   "cell_type": "code",
   "execution_count": 17,
   "id": "7872a378-aac0-45df-9066-4b139aa81b9c",
   "metadata": {},
   "outputs": [],
   "source": [
    "data5=(165, 170, 175, 180, 185)"
   ]
  },
  {
   "cell_type": "code",
   "execution_count": 18,
   "id": "2f74a25d-1a84-4e8e-8e81-bdb86cda958c",
   "metadata": {},
   "outputs": [
    {
     "data": {
      "text/plain": [
       "175.0"
      ]
     },
     "execution_count": 18,
     "metadata": {},
     "output_type": "execute_result"
    }
   ],
   "source": [
    "np.mean(data5)"
   ]
  },
  {
   "cell_type": "code",
   "execution_count": 19,
   "id": "c1411659-a8e3-456e-bb97-fa2529337a94",
   "metadata": {},
   "outputs": [
    {
     "data": {
      "text/plain": [
       "7.0710678118654755"
      ]
     },
     "execution_count": 19,
     "metadata": {},
     "output_type": "execute_result"
    }
   ],
   "source": [
    "np.std(data5)"
   ]
  },
  {
   "cell_type": "code",
   "execution_count": 20,
   "id": "8c392abe-32d2-4e33-b304-2e7fde2e14d2",
   "metadata": {},
   "outputs": [
    {
     "data": {
      "text/plain": [
       "50.0"
      ]
     },
     "execution_count": 20,
     "metadata": {},
     "output_type": "execute_result"
    }
   ],
   "source": [
    "np.var(data5)"
   ]
  },
  {
   "cell_type": "markdown",
   "id": "eeb78004-7751-4843-93ac-c48db2bf7b7f",
   "metadata": {},
   "source": [
    "#### Q6. What is a Venn diagram?\n",
    "- its graphical representaion on sets and relatioship of one to another"
   ]
  },
  {
   "cell_type": "markdown",
   "id": "a299ef59-483b-419f-9798-fc0ea5b54731",
   "metadata": {},
   "source": [
    "#### Q7. For the two given sets A = (2,3,4,5,6,7) & B = (0,2,6,8,10). Find:\n",
    "- (i) A ⋂ B : {2,6}\n",
    "- (ii) A ⋃ B : {0,2,3,4,5,6,7,8,10}"
   ]
  },
  {
   "cell_type": "markdown",
   "id": "6cb9678a-6383-4e43-b139-74b9f030adf7",
   "metadata": {},
   "source": [
    "#### Q8. What do you understand about skewness in data?\n",
    "- Skewness in data refers to the degree of asymmetry in the distribution of values. \n",
    "- If a dataset is symmetrical, it has no skewness. However, if the distribution is not symmetrical and is shifted to one side, it is said to be skewed."
   ]
  },
  {
   "cell_type": "markdown",
   "id": "2103b552-ebd3-4da1-972b-947035c6c917",
   "metadata": {},
   "source": [
    "#### Q9. If a data is right skewed then what will be the position of median with respect to mean?\n",
    "- median is less than mean\n",
    "- its closer to center of disttibution"
   ]
  },
  {
   "cell_type": "markdown",
   "id": "390b3103-d8dd-4064-9579-d8c05cbc5e65",
   "metadata": {},
   "source": [
    "#### Q10. Explain the difference between covariance and correlation. How are these measures used in statistical analysis?\n",
    "- Covariance measures the extent to which two variables are linearly related.\n",
    "It is a measure of the joint variability of two variables.\n",
    "\n",
    "- Correlation, on the other hand, measures the strength and direction of the linear relationship between two variables. Correlation is calculated as the covariance divided by the product of the standard deviations of the two variables."
   ]
  },
  {
   "cell_type": "markdown",
   "id": "ba87bff8-1bb4-43b5-9b5f-299738ce96e6",
   "metadata": {},
   "source": [
    "Q11. What is the formula for calculating the sample mean? Provide an example calculation for a\n",
    "dataset.\n",
    "\n",
    "- mean= sum of values in sample/ number of values in sample\n",
    "- eg : 3,4,5,6+2 \n",
    "- mean= 3+4+5+6+2/5 :4"
   ]
  },
  {
   "cell_type": "markdown",
   "id": "79cd478a-c762-45e0-a74c-7c2b36029cd9",
   "metadata": {},
   "source": [
    "#### Q12. For a normal distribution data what is the relationship between its measure of central tendency?\n",
    "- mean = median = mode"
   ]
  },
  {
   "cell_type": "markdown",
   "id": "97c18168-72e9-4b03-b122-f0ae235088ee",
   "metadata": {},
   "source": [
    "### Q13. How is covariance different from correlation?\n",
    "- covariance :\n",
    "    - Does not have specific values \n",
    "    - value is postive (postive covaaiance), negative means (negative covarince)\n",
    "    \n",
    "- Co-relation\n",
    "     - corelation have specfic range -1 to 1\n",
    "     - negtive mean negative relatiosnhip\n",
    "    - positive mean positive relatiosnhip\n",
    "    - zero means no relatioship"
   ]
  },
  {
   "cell_type": "markdown",
   "id": "bee13252-1071-4cb3-aa49-93bcfe13afb5",
   "metadata": {},
   "source": [
    "### Q14. How do outliers affect measures of central tendency and dispersion? Provide an example.\n",
    " - mean mode values affected by outliers\n",
    "- age=[1,2,3,5,6,60]\n",
    "     - mean :1+2+3+5+6+60/6 77/6= 12\n",
    "     - median : 3+5/2 = 4\n",
    "- median is less affected by outliers\n"
   ]
  },
  {
   "cell_type": "code",
   "execution_count": null,
   "id": "50ef1f5b-7e0c-46e5-954e-9a46697b89b9",
   "metadata": {},
   "outputs": [],
   "source": []
  }
 ],
 "metadata": {
  "kernelspec": {
   "display_name": "Python 3 (ipykernel)",
   "language": "python",
   "name": "python3"
  },
  "language_info": {
   "codemirror_mode": {
    "name": "ipython",
    "version": 3
   },
   "file_extension": ".py",
   "mimetype": "text/x-python",
   "name": "python",
   "nbconvert_exporter": "python",
   "pygments_lexer": "ipython3",
   "version": "3.9.12"
  }
 },
 "nbformat": 4,
 "nbformat_minor": 5
}
