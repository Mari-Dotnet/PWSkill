{
 "cells": [
  {
   "cell_type": "markdown",
   "id": "1bb31f6d-d102-4a2d-9435-9d19714b4b13",
   "metadata": {},
   "source": [
    "#### 1.Mesure of Dispresion\n",
    "- Variance \n",
    "- Standard deviation"
   ]
  },
  {
   "cell_type": "code",
   "execution_count": 1,
   "id": "1770f3df-02d4-40b1-9e7f-8e8fafef6d6c",
   "metadata": {},
   "outputs": [],
   "source": [
    "##variance \n",
    "age=[23,45,56,74,34,56,78,98,56]"
   ]
  },
  {
   "cell_type": "code",
   "execution_count": 2,
   "id": "9d073762-ea44-476f-abfa-a8b9301402ea",
   "metadata": {},
   "outputs": [],
   "source": [
    "import numpy as np"
   ]
  },
  {
   "cell_type": "code",
   "execution_count": 5,
   "id": "070134da-7f94-435f-9c07-6628892a854a",
   "metadata": {},
   "outputs": [
    {
     "data": {
      "text/plain": [
       "57.77777777777778"
      ]
     },
     "execution_count": 5,
     "metadata": {},
     "output_type": "execute_result"
    }
   ],
   "source": [
    "mean=np.mean(age)\n",
    "mean"
   ]
  },
  {
   "cell_type": "code",
   "execution_count": 6,
   "id": "e8a82838-7a03-42cb-b4a9-99697ee8c57a",
   "metadata": {},
   "outputs": [],
   "source": [
    "var=np.var(age)"
   ]
  },
  {
   "cell_type": "code",
   "execution_count": 7,
   "id": "05427432-74f1-48aa-9d87-71e4f0ce5974",
   "metadata": {},
   "outputs": [
    {
     "data": {
      "text/plain": [
       "470.8395061728395"
      ]
     },
     "execution_count": 7,
     "metadata": {},
     "output_type": "execute_result"
    }
   ],
   "source": [
    "var"
   ]
  },
  {
   "cell_type": "code",
   "execution_count": 8,
   "id": "5202a0d6-2ce2-46ad-82d3-d7370a70ddc5",
   "metadata": {},
   "outputs": [
    {
     "data": {
      "text/plain": [
       "21.69883651657018"
      ]
     },
     "execution_count": 8,
     "metadata": {},
     "output_type": "execute_result"
    }
   ],
   "source": [
    "###standard deviation\n",
    "np.std(age)"
   ]
  },
  {
   "cell_type": "markdown",
   "id": "230fac33-fcea-49b8-a22d-a2be66d37e48",
   "metadata": {},
   "source": [
    "#### 2.Random variable"
   ]
  },
  {
   "cell_type": "markdown",
   "id": "724971bd-4778-40f0-b8e5-58e539b3039a",
   "metadata": {},
   "source": [
    "### Quantntifying the randam process\n",
    "# eg => flip the coin head or tail \n",
    "## Process of the outcome will be changed based randam variable"
   ]
  },
  {
   "cell_type": "markdown",
   "id": "2f83fabb-f2e2-4875-82d9-4d2a1bdb37f5",
   "metadata": {},
   "source": [
    "#### 3. Sets"
   ]
  },
  {
   "cell_type": "markdown",
   "id": "9ea58663-aee8-4d3f-9acd-1f15973c09ef",
   "metadata": {},
   "source": [
    "#### A intersection b\n",
    "- A={2,3,4,5,6,7,8}\n",
    "- b={4,5,6,7,8,9,10}\n",
    "- The o/p is : only macthed values are o/p"
   ]
  },
  {
   "cell_type": "markdown",
   "id": "736c7512-e5ad-4a59-9739-76a8d76d0f02",
   "metadata": {},
   "source": [
    "#### A union B\n",
    "- A={2,3,4,5,6,7,8}\n",
    "- b={4,5,6,7,8,9,10}\n",
    "- The o/p is : {2,3,4,5,6,7,8,9,10}"
   ]
  },
  {
   "cell_type": "markdown",
   "id": "e0500c70-675b-469e-acfe-02940fa230cf",
   "metadata": {},
   "source": [
    "#### A difference B\n",
    "- A={2,3,4,5,6,7,8}\n",
    "- b={4,5,6,7,8,9,10}\n",
    "- The o/p is : {2,3,9,10} here we are get not mactehd value in both the section"
   ]
  },
  {
   "cell_type": "markdown",
   "id": "db3a1943-4a69-4ac3-9f0d-15b2d28a78d6",
   "metadata": {},
   "source": [
    "#### Subset \n",
    "A={2,3,4,5,6,7,8}\n",
    "b={4,5,6,7,8}\n",
    "- A subset of b => False (A all values is not present in b)\n",
    "- b subset of A = True (B all values presesnt on A)"
   ]
  },
  {
   "cell_type": "markdown",
   "id": "b89791a5-21e0-4bda-960e-58578abe8bda",
   "metadata": {},
   "source": [
    "#### super set\n",
    "- A={2,3,4,5,6,7,8} b={4,5,6,7,8}\n",
    "- A super set of B => True b all valuse present in a\n",
    "- B super set of A => False A values not present oin a"
   ]
  },
  {
   "cell_type": "code",
   "execution_count": null,
   "id": "0d24f28f-cc54-4aa8-934b-ff8257e2968e",
   "metadata": {},
   "outputs": [],
   "source": []
  }
 ],
 "metadata": {
  "kernelspec": {
   "display_name": "Python 3 (ipykernel)",
   "language": "python",
   "name": "python3"
  },
  "language_info": {
   "codemirror_mode": {
    "name": "ipython",
    "version": 3
   },
   "file_extension": ".py",
   "mimetype": "text/x-python",
   "name": "python",
   "nbconvert_exporter": "python",
   "pygments_lexer": "ipython3",
   "version": "3.9.12"
  }
 },
 "nbformat": 4,
 "nbformat_minor": 5
}
