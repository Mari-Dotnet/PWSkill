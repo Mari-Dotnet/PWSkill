{
 "cells": [
  {
   "cell_type": "markdown",
   "id": "889151e5-7e8b-4996-af92-5f93ef20dcb9",
   "metadata": {},
   "source": [
    "### Q1: What is the difference between a t-test and a z-test? Provide an example scenario where you would use each type of test.\n",
    "\n",
    "- T-test is used when sample size is less than 30 and population varinace unknown\n",
    "- Z-test is used when sample size is  >=30  and popilation variance known"
   ]
  },
  {
   "cell_type": "markdown",
   "id": "88568713-0634-4ac4-8a41-c7c0f607fe96",
   "metadata": {},
   "source": [
    "#### Q2: Differentiate between one-tailed and two-tailed tests.\n",
    "- In statistical hypothesis testing, a one-tailed (or one-sided) test is a type of hypothesis test where the null hypothesis is rejected only when the test statistic is either significantly larger or significantly smaller than the critical value in the rejection region, but not both. In contrast, a two-tailed (or two-sided) test is a hypothesis test where the null hypothesis is rejected when the test statistic is significantly different from the critical value in either direction"
   ]
  },
  {
   "cell_type": "markdown",
   "id": "976281a6-9a43-411d-a570-91c3d5d02433",
   "metadata": {},
   "source": [
    "### Q3: Explain the concept of Type 1 and Type 2 errors in hypothesis testing. Provide an example scenario for each type of error.\n",
    "- In hypothesis testing, a Type 1 error occurs when the null hypothesis is rejected when it is actually true, while a Type 2 error occurs when the null hypothesis is not rejected when it is actually false."
   ]
  },
  {
   "cell_type": "markdown",
   "id": "479d5e50-505b-4d5c-beb1-839275c81d30",
   "metadata": {},
   "source": [
    "### Q4: Explain Bayes's theorem with an example.\n",
    "- It is used to update the probability of an event occurring given new information or data. The formula is:\n",
    "\n",
    "- P(A|B) = P(B|A) * P(A) / P(B)\n",
    "\n",
    "= where:\n",
    "\n",
    "- P(A|B) is the conditional probability of event A given event B\n",
    "- P(B|A) is the conditional probability of event B given event A\n",
    "- P(A) is the prior probability of event A\n",
    "- P(B) is the prior probability of event B"
   ]
  },
  {
   "cell_type": "markdown",
   "id": "e6821e89-68c7-4347-994b-dfc35544e0a2",
   "metadata": {},
   "source": [
    "#### Q5: What is a confidence interval? How to calculate the confidence interval, explain with an example.\n",
    "- A confidence interval is a range of values that is likely to contain the true population parameter with a certain degree of confidence. In other words, it is a measure of the precision of an estimate.\n",
    "- To calculate the confidence interval, we need to know the sample mean, sample standard deviation, sample size, and the desired level of confidence. The formula for a confidence interval for a population mean is:\n",
    "\n",
    "    \n",
    "CI = X ± z*(s/√n)\n",
    "\n",
    "\n",
    "where:\n",
    "\n",
    "X is the sample mean\n",
    "\n",
    "s is the sample standard deviation\n",
    "\n",
    "n is the sample size\n",
    "\n",
    "z is the z-score based on the desired level of confidence"
   ]
  },
  {
   "cell_type": "markdown",
   "id": "86af5572-41e9-4389-b7bb-d8b5cb5eda46",
   "metadata": {},
   "source": [
    "#### Q7. Calculate the 95% confidence interval for a sample of data with a mean of 50 and a standard deviation of 5. Interpret the results.\n",
    "\n",
    "Confidence interval = sample mean ± (Z-score x standard error)\n",
    "\n",
    "where Z-score is the critical value for the desired confidence level (in this case 95%), and the standard error is calculated as:\n",
    "\n",
    "Standard error = standard deviation / sqrt(sample size)\n",
    "\n",
    "Assuming a sample size of 30 or more, we can use the Z-score of 1.96 for a 95% confidence level.\n",
    "\n",
    "Thus, the confidence interval can be calculated as:\n",
    "\n",
    "CI = 50 ± (1.96 x (5 / sqrt(n)))\n",
    "\n",
    "Assuming a sample size of 30, the confidence interval is:\n",
    "\n",
    "CI = 50 ± (1.96 x (5 / sqrt(30)))\n",
    "= 50 ± 1.81\n",
    "\n",
    "Therefore, the 95% confidence interval for the sample mean is (48.19, 51.81). We can interpret this result as follows: if we repeatedly took samples of the same size from the population and calculated their means, 95% of the resulting confidence intervals would contain the true population mean."
   ]
  },
  {
   "cell_type": "markdown",
   "id": "f4f3bcf4-d133-48a9-9d9a-58f5978b501d",
   "metadata": {},
   "source": [
    "#### Q9. Calculate the z-score for a data point with a value of 75, a population mean of 70, and a population standard deviation of 5. Interpret the results\n",
    "- z = (x - μ) / σ\n",
    "- z= (75-70)/5\n",
    "- z=1\n",
    "- The z-score of 1 indicates that the data point is one standard deviation above the population mean."
   ]
  },
  {
   "cell_type": "markdown",
   "id": "02fe519a-c19e-40f6-95ee-875fba21862c",
   "metadata": {},
   "source": [
    "#### Q10. In a study of the effectiveness of a new weight loss drug, a sample of 50 participants lost an average of 6 pounds with a standard deviation of 2.5 pounds. Conduct a hypothesis test to determine if the drug is significantly effective at a 95% confidence level using a t-test.\n",
    "\n",
    "- Null hypothesis (H0): The mean weight loss is not significantly different from zero. µ = 0\n",
    "- Alternative hypothesis (Ha): The mean weight loss is significantly different from zero. µ ≠ 0\n",
    "- We will use a significance level of 0.05.\n",
    "- t = (x̄ - µ) / (s / √n)\n",
    "- t = (6 - 0) / (2.5 / √50) = 12\n",
    "- Next, we need to find the critical t-value from the t-distribution table with n-1 degrees of freedom (df = 49) and a significance level of 0.05. From the table, the critical t-value is ±2.01.\n",
    "\n",
    "- Since our calculated t-value of 12 is greater than the critical t-value of 2.01, we reject the null hypothesis.\n",
    "\n",
    "- Therefore, we conclude that the weight loss drug is significantly effective at a 95% confidence level."
   ]
  },
  {
   "cell_type": "markdown",
   "id": "2bfd8797-12b0-4344-bcc4-99960e6a4c2c",
   "metadata": {},
   "source": [
    "#### Q13. A population has a mean of 60 and a standard deviation of 8. A sample of 50 observations has a mean of 65. Calculate the 90% confidence interval for the true population mean.\n",
    "\n",
    "CI = x̄ ± z*(σ/√n)\n",
    "\n",
    "where:\n",
    "x̄ = sample mean = 65\n",
    "σ = population standard deviation = 8\n",
    "n = sample size = 50\n",
    "z = the z-score for the desired confidence level; for a 90% confidence interval, z = 1.645 (from a standard normal distribution table)\n",
    "\n",
    "Substituting the values, we get:\n",
    "\n",
    "CI = 65 ± 1.645*(8/√50)\n",
    "\n",
    "CI = 65 ± 2.34\n",
    "\n",
    "The 90% confidence interval for the true population mean is (62.66, 67.34).\n",
    "\n",
    "Interpretation: We can be 90% confident that the true population mean lies between 62.66 and 67.34."
   ]
  },
  {
   "cell_type": "code",
   "execution_count": null,
   "id": "6e7ad987-e714-4576-8ba2-889e3d76a00d",
   "metadata": {},
   "outputs": [],
   "source": []
  }
 ],
 "metadata": {
  "kernelspec": {
   "display_name": "Python 3 (ipykernel)",
   "language": "python",
   "name": "python3"
  },
  "language_info": {
   "codemirror_mode": {
    "name": "ipython",
    "version": 3
   },
   "file_extension": ".py",
   "mimetype": "text/x-python",
   "name": "python",
   "nbconvert_exporter": "python",
   "pygments_lexer": "ipython3",
   "version": "3.9.12"
  }
 },
 "nbformat": 4,
 "nbformat_minor": 5
}
