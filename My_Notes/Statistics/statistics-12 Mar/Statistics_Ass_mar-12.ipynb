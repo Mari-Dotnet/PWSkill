{
 "cells": [
  {
   "cell_type": "markdown",
   "id": "28c6e96d-a5c3-4757-90e4-5cee520ad584",
   "metadata": {},
   "source": [
    "#### Q1. Calculate the 95% confidence interval for a sample of data with a mean of 50 and a standard deviation of 5 using Python. Interpret the results."
   ]
  },
  {
   "cell_type": "code",
   "execution_count": 2,
   "id": "6324846e-3d79-4ed0-828d-14e6f9f31086",
   "metadata": {},
   "outputs": [],
   "source": [
    "import scipy.stats as stat"
   ]
  },
  {
   "cell_type": "code",
   "execution_count": 6,
   "id": "5aabf9e6-5252-470d-b1f3-c2ecbf6921eb",
   "metadata": {},
   "outputs": [
    {
     "data": {
      "text/plain": [
       "(49.02001800772997, 50.97998199227003)"
      ]
     },
     "execution_count": 6,
     "metadata": {},
     "output_type": "execute_result"
    }
   ],
   "source": [
    "sample_mean=50\n",
    "sample_std=5\n",
    "sample_size=100\n",
    "\n",
    "\n",
    "#standard error\n",
    "std_error=sample_std/(sample_size**0.5)\n",
    "\n",
    "#confidence interval\n",
    "con_int=stat.norm.interval(0.95,loc=sample_mean,scale=std_error)\n",
    "con_int"
   ]
  },
  {
   "cell_type": "markdown",
   "id": "c585d8be-2365-4458-a50b-a25f9d7e4c9b",
   "metadata": {},
   "source": [
    "#### Q2. Conduct a chi-square goodness of fit test to determine if the distribution of colors of M&Ms in a bag matches the expected distribution of 20% blue, 20% orange, 20% green, 10% yellow, 10% red, and 20% brown. Use Python to perform the test with a significance level of 0.05."
   ]
  },
  {
   "cell_type": "code",
   "execution_count": 7,
   "id": "6067968f-f942-4757-9624-51d43c320998",
   "metadata": {},
   "outputs": [],
   "source": [
    "import numpy as np\n",
    "import scipy.stats as  stat"
   ]
  },
  {
   "cell_type": "code",
   "execution_count": 10,
   "id": "8577d081-57e1-4bc4-8d89-bd1cea51f2b6",
   "metadata": {},
   "outputs": [],
   "source": [
    "##observer freq\n",
    "obs_freq = np.array([20, 10, 20, 20, 10, 20])\n",
    "ex_freq=np.array([20,20,20,10,10,20])"
   ]
  },
  {
   "cell_type": "code",
   "execution_count": 11,
   "id": "66535491-8d1e-4bdb-927d-21ab7e56ef8d",
   "metadata": {},
   "outputs": [],
   "source": [
    "statistics,pvalue=stat.chisquare(obs_freq,ex_freq)"
   ]
  },
  {
   "cell_type": "code",
   "execution_count": 12,
   "id": "3d6de905-8669-4a96-801d-5b9939509eaa",
   "metadata": {},
   "outputs": [
    {
     "data": {
      "text/plain": [
       "0.010362337915786429"
      ]
     },
     "execution_count": 12,
     "metadata": {},
     "output_type": "execute_result"
    }
   ],
   "source": [
    "pvalue"
   ]
  },
  {
   "cell_type": "code",
   "execution_count": 13,
   "id": "3161a1b9-b625-4eb7-a0a5-5d0ab5d41954",
   "metadata": {},
   "outputs": [
    {
     "name": "stdout",
     "output_type": "stream",
     "text": [
      "reject the null hypothesis\n"
     ]
    }
   ],
   "source": [
    "if pvalue < 0.05 :\n",
    "    print(\"reject the null hypothesis\")\n",
    "else:\n",
    "    print(\"Accept the null hypothesis\")"
   ]
  },
  {
   "cell_type": "markdown",
   "id": "72388156-2203-4ffb-9768-3bb4a541421d",
   "metadata": {},
   "source": [
    "#### Q3. Use Python to calculate the chi-square statistic and p-value for a contingency table with the following data:"
   ]
  },
  {
   "cell_type": "code",
   "execution_count": null,
   "id": "b9606d5b-276d-479f-8cef-7b17a2f618d0",
   "metadata": {},
   "outputs": [],
   "source": [
    "from scipy.stats import chisquare\n",
    "import numpy as np\n",
    "\n",
    "grp_a_exp = np.array([20, 10, 15])\n",
    "grp_b_obs = np.array([15, 25, 20])\n",
    "\n",
    "chi_sq, p_value = chisquare(f_obs=grp_b_obs, f_exp=grp_a_exp)\n",
    "\n",
    "print(\"Chi-square statistic:\", chi_sq)\n",
    "print(\"P-value:\", p_value)"
   ]
  },
  {
   "cell_type": "markdown",
   "id": "83adfbe5-597d-4d96-8fd3-31abfd6f87c1",
   "metadata": {},
   "source": [
    "#### Q4. A study of the prevalence of smoking in a population of 500 individuals found that 60 individuals smoked. Use Python to calculate the 95% confidence interval for the true proportion of individuals in the population who smoke."
   ]
  },
  {
   "cell_type": "code",
   "execution_count": 3,
   "id": "fe3b2e65-f8d2-47c6-b7ae-0cb43e00abac",
   "metadata": {},
   "outputs": [],
   "source": [
    "import statsmodels.api as sm\n",
    "import numpy as np"
   ]
  },
  {
   "cell_type": "code",
   "execution_count": 4,
   "id": "f8d40cd9-6aa3-49cf-9ca7-4f09f338da95",
   "metadata": {},
   "outputs": [],
   "source": [
    "n=500\n",
    "x=60\n",
    "pro=x/n"
   ]
  },
  {
   "cell_type": "code",
   "execution_count": 6,
   "id": "e24750fb-0b49-4efd-9287-3e0390928a3d",
   "metadata": {},
   "outputs": [
    {
     "data": {
      "text/plain": [
       "(0.09151638887130706, 0.14848361112869293)"
      ]
     },
     "execution_count": 6,
     "metadata": {},
     "output_type": "execute_result"
    }
   ],
   "source": [
    "## calculate the confidence interval\n",
    "ci=sm.stats.proportion_confint(x,n,alpha=0.05)\n",
    "ci"
   ]
  },
  {
   "cell_type": "markdown",
   "id": "443e0329-a14f-42af-ba93-b6755c76c939",
   "metadata": {},
   "source": [
    "#### Q5. Calculate the 90% confidence interval for a sample of data with a mean of 75 and a standard deviation of 12 using Python. Interpret the results."
   ]
  },
  {
   "cell_type": "code",
   "execution_count": 12,
   "id": "d5aa36b3-7ee5-45d4-8058-7a5632e88914",
   "metadata": {},
   "outputs": [
    {
     "name": "stdout",
     "output_type": "stream",
     "text": [
      "90% confidence interval: (32.85, 117.15)\n"
     ]
    }
   ],
   "source": [
    "import scipy.stats as stats\n",
    "\n",
    "data = [50,75,100] \n",
    "mean = np.mean(data)\n",
    "std_dev = np.std(data, ddof=1) \n",
    "\n",
    "n = len(data)\n",
    "confidence_level = 0.90\n",
    "alpha = 1 - confidence_level\n",
    "\n",
    "t_critical = stats.t.ppf(1 - alpha/2, df=n-1)\n",
    "\n",
    "margin_of_error = t_critical * (std_dev / np.sqrt(n))\n",
    "\n",
    "lower_bound = mean - margin_of_error\n",
    "upper_bound = mean + margin_of_error\n",
    "\n",
    "print(\"90% confidence interval: ({:.2f}, {:.2f})\".format(lower_bound, upper_bound))\n"
   ]
  },
  {
   "cell_type": "markdown",
   "id": "0a9a41ea-2728-4b6a-8825-ae4181a790a6",
   "metadata": {},
   "source": [
    "#### Q10. A study was conducted to determine if the proportion of people who prefer milk chocolate, dark chocolate, or white chocolate is different in the U.S. versus the U.K. A random sample of 500 people from the U.S. and a random sample of 500 people from the U.K. were surveyed. The results are shown in the contingency table below. Conduct a chi-square test for independence to determine if there is a significant association between chocolate preference and country of origin."
   ]
  },
  {
   "cell_type": "code",
   "execution_count": 24,
   "id": "0a9f1acb-6081-4734-b172-4d95ccb78cef",
   "metadata": {},
   "outputs": [],
   "source": [
    "import scipy.stats as stat\n",
    "observed=np.array([[200,150,150],[225,175,100]])\n",
    "expected=np.array([[212.5,162.5,150],[212.5,162.5,150]])\n",
    "df=(observed[0]-1)*(expected[0]-1)\n"
   ]
  },
  {
   "cell_type": "code",
   "execution_count": 36,
   "id": "f87d09f3-ff2d-433a-8557-da6975992f7b",
   "metadata": {},
   "outputs": [
    {
     "data": {
      "text/plain": [
       "0.0012348168997745918"
      ]
     },
     "execution_count": 36,
     "metadata": {},
     "output_type": "execute_result"
    }
   ],
   "source": [
    "chi2, pval, dof, exp_freq = stats.chi2_contingency(observed)\n",
    "pval"
   ]
  },
  {
   "cell_type": "code",
   "execution_count": null,
   "id": "f7c1d0a2-2165-4992-8ec3-511d27ddd6ac",
   "metadata": {},
   "outputs": [],
   "source": [
    "# p-value (0.123) is greater than the significance level of 0.05, we fail to reject the null hypothesis"
   ]
  },
  {
   "cell_type": "markdown",
   "id": "9075520e-218c-4962-ac58-913b2a1d9b13",
   "metadata": {},
   "source": [
    "### Q11. A random sample of 30 people was selected from a population with an unknown mean and standard deviation. The sample mean was found to be 72 and the sample standard deviation was found to be 10. Conduct a hypothesis test to determine if the population mean is significantly different from 70. Use a significance level of 0.05."
   ]
  },
  {
   "cell_type": "code",
   "execution_count": 42,
   "id": "ade8eff6-e918-4dcd-87e9-66c24e7869cd",
   "metadata": {},
   "outputs": [
    {
     "name": "stdout",
     "output_type": "stream",
     "text": [
      "t-statistic: 1.0954451150103321\n"
     ]
    }
   ],
   "source": [
    "import math\n",
    "\n",
    "sample_mean = 72\n",
    "hypothesized_mean = 70\n",
    "sample_std_dev = 10\n",
    "sample_size = 30\n",
    "\n",
    "t = (sample_mean - hypothesized_mean) / (sample_std_dev / math.sqrt(sample_size))\n",
    "print(\"t-statistic:\", t)\n"
   ]
  },
  {
   "cell_type": "code",
   "execution_count": null,
   "id": "c9d01862-164e-4bb7-a909-359baeb5ebf1",
   "metadata": {},
   "outputs": [],
   "source": []
  },
  {
   "cell_type": "markdown",
   "id": "b989c5ae-29af-423a-a949-ee33146980ba",
   "metadata": {},
   "source": [
    "#### Q9. A study was conducted to determine if there is an association between smoking status (smoker or non-smoker) and lung cancer diagnosis (yes or no). The results are shown in the contingency table below. Conduct a chi-square test for independence to determine if there is a significant association between smoking status and lung cancer diagnosis."
   ]
  },
  {
   "cell_type": "code",
   "execution_count": 53,
   "id": "9f5ea4f0-ea41-49de-a601-8a8decd17d10",
   "metadata": {},
   "outputs": [],
   "source": [
    "observed=np.array([[60,140],[30,170]])"
   ]
  },
  {
   "cell_type": "code",
   "execution_count": 54,
   "id": "db887bdd-8034-4110-b327-47b948b2149e",
   "metadata": {},
   "outputs": [
    {
     "data": {
      "text/plain": [
       "array([[ 60, 140],\n",
       "       [ 30, 170]])"
      ]
     },
     "execution_count": 54,
     "metadata": {},
     "output_type": "execute_result"
    }
   ],
   "source": [
    "observed"
   ]
  },
  {
   "cell_type": "code",
   "execution_count": 55,
   "id": "663e5483-269c-48f7-afe2-e8de74f2974a",
   "metadata": {},
   "outputs": [],
   "source": [
    "from scipy.stats import chi2_contingency\n",
    "stat, p, dof, expected = chi2_contingency(observed)"
   ]
  },
  {
   "cell_type": "code",
   "execution_count": 56,
   "id": "a9a38a70-7f22-4d12-8f3e-709dec0a2bef",
   "metadata": {},
   "outputs": [
    {
     "data": {
      "text/plain": [
       "array([[ 45., 155.],\n",
       "       [ 45., 155.]])"
      ]
     },
     "execution_count": 56,
     "metadata": {},
     "output_type": "execute_result"
    }
   ],
   "source": [
    "expected"
   ]
  },
  {
   "cell_type": "code",
   "execution_count": 59,
   "id": "cfbcab8d-31e1-47a4-99b2-058ce5a03355",
   "metadata": {},
   "outputs": [
    {
     "data": {
      "text/plain": [
       "array([10.        ,  2.90322581])"
      ]
     },
     "execution_count": 59,
     "metadata": {},
     "output_type": "execute_result"
    }
   ],
   "source": [
    "import scipy.stats as stat\n",
    "## chi square goodness of fit\n",
    "chisquare_test,p_value=stat.chisquare(observed,expected)\n",
    "p_value\n",
    "chisquare_test"
   ]
  },
  {
   "cell_type": "code",
   "execution_count": 58,
   "id": "d277c9b7-2689-4e54-a19f-1a477e10f07d",
   "metadata": {},
   "outputs": [
    {
     "data": {
      "text/plain": [
       "3.841458820694124"
      ]
     },
     "execution_count": 58,
     "metadata": {},
     "output_type": "execute_result"
    }
   ],
   "source": [
    "siginifinace=0.05\n",
    "dof=len(observed)-1\n",
    "critivalvalue=stat.chi2.ppf(1-siginifinace,dof)\n",
    "critivalvalue"
   ]
  },
  {
   "cell_type": "markdown",
   "id": "7ef1b619-a815-488b-b92d-f94cf58c0da2",
   "metadata": {},
   "source": [
    "we can reject the null hypothesis \n",
    "chisquare_test > critivalvalue"
   ]
  },
  {
   "cell_type": "markdown",
   "id": "5b5411e3-222d-49a7-b370-9cc4a3e4b2bb",
   "metadata": {},
   "source": [
    "#### Q8. A researcher hypothesizes that a coin is biased towards tails. They flip the coin 100 times and observe  45 tails. Conduct a chi-square goodness of fit test to determine if the observed frequencies match the expected frequencies of a fair coin. Use a significance level of 0.05."
   ]
  },
  {
   "cell_type": "markdown",
   "id": "e73ba775-4a8a-4220-91e2-2d0b9925074b",
   "metadata": {},
   "source": [
    "Step 1: Define the null and alternative hypotheses:\n",
    "\n",
    "H0: The coin is fair (i.e., P(heads) = 0.5, P(tails) = 0.5)\n",
    "H1: The coin is biased towards tails (i.e., P(heads) > 0.5, P(tails) < 0.5)\n",
    "\n",
    "Step 2: Calculate the expected frequencies under the null hypothesis:\n",
    "\n",
    "Under the null hypothesis, we expect the number of heads and tails to be equal. Therefore, the expected frequencies are:\n",
    "\n",
    "Expected frequency of heads: 0.5 * 100 = 50\n",
    "Expected frequency of tails: 0.5 * 100 = 50\n",
    "Step 3: Calculate the test statistic:\n",
    "\n",
    "The test statistic for a chi-square goodness of fit test is calculated as:\n",
    "\n",
    "X2 = Σ ((Oi - Ei)^2 / Ei)\n",
    "\n",
    "where Oi is the observed frequency and Ei is the expected frequency.\n",
    "\n",
    "In our case, the observed frequencies are 55 for heads and 45 for tails, and the expected frequencies under the null hypothesis are 50 for each. Therefore, the test statistic is:\n",
    "\n",
    "X2 = ((55 - 50)^2 / 50) + ((45 - 50)^2 / 50) = 1\n",
    "\n",
    "Step 4: Determine the p-value and compare it to the significance level:\n",
    "\n",
    "To determine the p-value, we need to calculate the probability of observing a test statistic as extreme as the one we calculated (or more extreme) under the null hypothesis. We can use the chi-square distribution with 1 degree of freedom (since we have 2 categories - heads and tails - and we estimated 1 parameter - the probability of tails)."
   ]
  },
  {
   "cell_type": "code",
   "execution_count": 62,
   "id": "f572a652-b989-4b55-b2da-450e37fc3013",
   "metadata": {},
   "outputs": [
    {
     "name": "stdout",
     "output_type": "stream",
     "text": [
      "0.31731050786291415\n"
     ]
    }
   ],
   "source": [
    "import scipy.stats as stats\n",
    "\n",
    "p_value = 1 - stats.chi2.cdf(1, 1)\n",
    "\n",
    "print(p_value)"
   ]
  },
  {
   "cell_type": "markdown",
   "id": "a2b73875-6f43-4976-b394-0fd092e86777",
   "metadata": {},
   "source": [
    "#### The p-value is approximately 0.317, which is greater than the significance level of 0.05. Therefore, we fail to reject the null hypothesis."
   ]
  },
  {
   "cell_type": "code",
   "execution_count": null,
   "id": "8ed5486c-bc7c-47e0-ba48-ac859b04dc58",
   "metadata": {},
   "outputs": [],
   "source": []
  }
 ],
 "metadata": {
  "kernelspec": {
   "display_name": "Python 3 (ipykernel)",
   "language": "python",
   "name": "python3"
  },
  "language_info": {
   "codemirror_mode": {
    "name": "ipython",
    "version": 3
   },
   "file_extension": ".py",
   "mimetype": "text/x-python",
   "name": "python",
   "nbconvert_exporter": "python",
   "pygments_lexer": "ipython3",
   "version": "3.9.12"
  }
 },
 "nbformat": 4,
 "nbformat_minor": 5
}
