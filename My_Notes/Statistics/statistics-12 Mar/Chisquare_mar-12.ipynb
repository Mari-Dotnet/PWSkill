{
 "cells": [
  {
   "cell_type": "markdown",
   "id": "12ffee47-ce6a-45bc-b151-37ec4bf2aa99",
   "metadata": {},
   "source": [
    "#### Chi Square test"
   ]
  },
  {
   "cell_type": "code",
   "execution_count": 2,
   "id": "af4a644f-f70f-44aa-bdef-14f5c819683c",
   "metadata": {},
   "outputs": [],
   "source": [
    "import scipy.stats as stat\n",
    "import numpy as np"
   ]
  },
  {
   "cell_type": "code",
   "execution_count": 7,
   "id": "ab64af66-4ae4-40ef-99eb-74fc4c492c6c",
   "metadata": {},
   "outputs": [],
   "source": [
    "### No of students leaning in  daily on week days\n",
    "expexted_data=[8,6,7,9,6,9,7]\n",
    "observed_data=[7,8,6,9,9,6,7]"
   ]
  },
  {
   "cell_type": "code",
   "execution_count": 5,
   "id": "122a6ed8-61ca-4662-a636-602ed99a8b12",
   "metadata": {},
   "outputs": [
    {
     "data": {
      "text/plain": [
       "52"
      ]
     },
     "execution_count": 5,
     "metadata": {},
     "output_type": "execute_result"
    }
   ],
   "source": [
    "sum(expexted_data)"
   ]
  },
  {
   "cell_type": "code",
   "execution_count": 8,
   "id": "887c2e6e-8bdb-49cb-ba43-4e8a9b5d3b06",
   "metadata": {},
   "outputs": [
    {
     "data": {
      "text/plain": [
       "52"
      ]
     },
     "execution_count": 8,
     "metadata": {},
     "output_type": "execute_result"
    }
   ],
   "source": [
    "sum(observed_data)"
   ]
  },
  {
   "cell_type": "code",
   "execution_count": 10,
   "id": "6be15426-76aa-4ad4-b6f3-dbe7b94ace31",
   "metadata": {},
   "outputs": [
    {
     "data": {
      "text/plain": [
       "0.7526596580922865"
      ]
     },
     "execution_count": 10,
     "metadata": {},
     "output_type": "execute_result"
    }
   ],
   "source": [
    "## chi square goodness of fit\n",
    "chisquare_test,p_value=stat.chisquare(observed_data,expexted_data)\n",
    "p_value"
   ]
  },
  {
   "cell_type": "code",
   "execution_count": 11,
   "id": "b4a3f12f-e98a-4882-bd25-63ac027f1f6a",
   "metadata": {},
   "outputs": [
    {
     "name": "stdout",
     "output_type": "stream",
     "text": [
      "3.4345238095238093\n"
     ]
    }
   ],
   "source": [
    "print(chisquare_test)"
   ]
  },
  {
   "cell_type": "code",
   "execution_count": 14,
   "id": "d8119fc4-2bf6-4c07-b467-181b7423092b",
   "metadata": {},
   "outputs": [
    {
     "data": {
      "text/plain": [
       "12.591587243743977"
      ]
     },
     "execution_count": 14,
     "metadata": {},
     "output_type": "execute_result"
    }
   ],
   "source": [
    "### find the critical value \n",
    "siginifinace=0.05\n",
    "dof=len(observed_data)-1\n",
    "critivalvalue=stat.chi2.ppf(1-siginifinace,dof)\n",
    "critivalvalue"
   ]
  },
  {
   "cell_type": "code",
   "execution_count": 15,
   "id": "2b93e895-ef84-4d80-90c7-02ec36c20ea0",
   "metadata": {},
   "outputs": [
    {
     "name": "stdout",
     "output_type": "stream",
     "text": [
      "accept the null hupothesis\n"
     ]
    }
   ],
   "source": [
    "if chisquare_test >critivalvalue:\n",
    "    print(\"reject the null hypothesis\")\n",
    "else:\n",
    "    print(\"accept the null hupothesis\")"
   ]
  },
  {
   "cell_type": "code",
   "execution_count": 16,
   "id": "acf72c41-8c98-4d4b-a804-9b72d9537ae1",
   "metadata": {},
   "outputs": [],
   "source": [
    "critivalvaluenew=stat.chi2.ppf(1-siginifinace,4)"
   ]
  },
  {
   "cell_type": "code",
   "execution_count": 18,
   "id": "6352006a-b3ea-437b-a5f4-cf0b82412ce5",
   "metadata": {},
   "outputs": [
    {
     "name": "stdout",
     "output_type": "stream",
     "text": [
      "reject the null hypothesis\n"
     ]
    }
   ],
   "source": [
    "if 25.84 >critivalvaluenew:\n",
    "    print(\"reject the null hypothesis\")\n",
    "else:\n",
    "    print(\"accept the null hupothesis\")"
   ]
  },
  {
   "cell_type": "code",
   "execution_count": null,
   "id": "15173af5-a57c-4a5c-a059-0bd94e1f8882",
   "metadata": {},
   "outputs": [],
   "source": []
  }
 ],
 "metadata": {
  "kernelspec": {
   "display_name": "Python 3 (ipykernel)",
   "language": "python",
   "name": "python3"
  },
  "language_info": {
   "codemirror_mode": {
    "name": "ipython",
    "version": 3
   },
   "file_extension": ".py",
   "mimetype": "text/x-python",
   "name": "python",
   "nbconvert_exporter": "python",
   "pygments_lexer": "ipython3",
   "version": "3.9.12"
  }
 },
 "nbformat": 4,
 "nbformat_minor": 5
}
