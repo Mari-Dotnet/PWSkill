{
 "cells": [
  {
   "cell_type": "markdown",
   "id": "703820b3-9cab-4f0f-a0be-fc1d9c2172fb",
   "metadata": {},
   "source": [
    "#### Q1. What is the Probability density function?\n",
    "- The Pdf reoresents the density of the countineous randam variable lying between the specific range"
   ]
  },
  {
   "cell_type": "markdown",
   "id": "85b77c90-3da3-479a-84e6-2d4a7ef2e865",
   "metadata": {},
   "source": [
    "#### Q2. What are the types of Probability distribution?\n",
    "- Normal distiribution\n",
    "- bernoli distribution\n",
    "- poission distribution\n",
    "- bionominal distrbution\n",
    "- log normal distribution\n",
    "- uniform distibution\n"
   ]
  },
  {
   "cell_type": "markdown",
   "id": "2853e585-e9e8-46d3-873d-aed9a80e74ec",
   "metadata": {},
   "source": [
    "#### Q3. Write a Python function to calculate the probability density function of a normal distribution with given mean and standard deviation at a given point."
   ]
  },
  {
   "cell_type": "code",
   "execution_count": 9,
   "id": "3147dddb-ef31-4ce5-bdce-64ec5948d4a6",
   "metadata": {},
   "outputs": [],
   "source": [
    "import numpy as np\n",
    "from scipy.stats import norm"
   ]
  },
  {
   "cell_type": "code",
   "execution_count": 17,
   "id": "6d427c11-728f-4b00-baa9-5248910ad868",
   "metadata": {},
   "outputs": [],
   "source": [
    "def pdf_data(data):\n",
    "    mean=np.mean(data)\n",
    "    std=np.std(data)\n",
    "    problitypdf=norm.pdf(4,loc=mean, scale=std)\n",
    "    print(problitypdf)"
   ]
  },
  {
   "cell_type": "code",
   "execution_count": 19,
   "id": "6987769f-b162-406d-b059-6b82fa694a21",
   "metadata": {},
   "outputs": [
    {
     "name": "stdout",
     "output_type": "stream",
     "text": [
      "0.16143422587153622\n"
     ]
    }
   ],
   "source": [
    "pdf_data([2,4,6,8])"
   ]
  },
  {
   "cell_type": "markdown",
   "id": "33b49ba2-e3d0-4794-9689-c368d9f33e35",
   "metadata": {},
   "source": [
    "#### Q4. What are the properties of Binomial distribution? Give two examples of events where binomial distribution can be applied.\n",
    "\n",
    "- Fixed number of independed trail has two possible outcome sucess and failure\n",
    "- tossing a coin to get outcome (head or tails)"
   ]
  },
  {
   "cell_type": "markdown",
   "id": "dce61e4d-241a-4488-8bfc-5137ff936790",
   "metadata": {},
   "source": [
    "#### Q5. Generate a random sample of size 1000 from a binomial distribution with probability of success 0.4and plot a histogram of the results using matplotlib."
   ]
  },
  {
   "cell_type": "code",
   "execution_count": 22,
   "id": "7f177ee1-3fc8-4651-b57a-ec513c409c03",
   "metadata": {},
   "outputs": [],
   "source": [
    "import numpy as np\n",
    "import matplotlib.pyplot as plt"
   ]
  },
  {
   "cell_type": "code",
   "execution_count": 27,
   "id": "06e06e11-635b-420a-bb58-4800b666468a",
   "metadata": {},
   "outputs": [
    {
     "data": {
      "image/png": "[encoded data removed]",
      "text/plain": [
       "<Figure size 432x288 with 1 Axes>"
      ]
     },
     "metadata": {
      "needs_background": "light"
     },
     "output_type": "display_data"
    }
   ],
   "source": [
    "n=1000\n",
    "p=0.4\n",
    "data=np.random.binomial(n,p,size=1000)\n",
    "plt.hist(data,bins=20,color='blue')\n",
    "plt.xlabel('Sucess')\n",
    "plt.ylabel('proability')\n",
    "plt.title('bionominal feature')\n",
    "plt.show()"
   ]
  },
  {
   "cell_type": "markdown",
   "id": "90da03de-a36a-49fa-b884-70d862e3b2e6",
   "metadata": {},
   "source": [
    "### #Q6. Write a Python function to calculate the cumulative distribution function of a Poisson distributionwith given mean at a given point."
   ]
  },
  {
   "cell_type": "code",
   "execution_count": 31,
   "id": "e17f5892-b4fb-4b2d-9449-2d748fd78799",
   "metadata": {},
   "outputs": [],
   "source": [
    "import math\n",
    "##P(X = i) = (e^(-λ) * λ^i) / i!\n",
    "def poission_df(mean,x):\n",
    "    cdf=0\n",
    "    for i in range(x+1):\n",
    "        cdf+= math.exp(-mean)*(mean **i)/math.factorial(i)\n",
    "    return cdf"
   ]
  },
  {
   "cell_type": "code",
   "execution_count": 30,
   "id": "a6a7d5ec-1a10-4d01-9db7-72f96b7df121",
   "metadata": {},
   "outputs": [
    {
     "data": {
      "text/plain": [
       "0.9160820579686966"
      ]
     },
     "execution_count": 30,
     "metadata": {},
     "output_type": "execute_result"
    }
   ],
   "source": [
    "poission_df(3,5)"
   ]
  },
  {
   "cell_type": "markdown",
   "id": "c83355a1-c468-4ad5-a4a1-063227f0123c",
   "metadata": {},
   "source": [
    "#### Q7. How Binomial distribution different from Poisson distribution?\n",
    "- bionominal distribution used to number of sucess in fixed number of trails with two possible outcomes\n",
    "- Poisson distribution is used to model the number of events in a fixed interval of time"
   ]
  },
  {
   "cell_type": "markdown",
   "id": "14aeb2f9-9662-4c19-b62d-8f7f122a860e",
   "metadata": {},
   "source": [
    "#### Q8. Generate a random sample of size 1000 from a Poisson distribution with mean 5 and calculate the sample mean and variance."
   ]
  },
  {
   "cell_type": "code",
   "execution_count": 36,
   "id": "38fb1dd8-0338-4e63-9a37-20eaaaf4262f",
   "metadata": {},
   "outputs": [
    {
     "name": "stdout",
     "output_type": "stream",
     "text": [
      "sample mean 5.014\n",
      "sample var 5.147804\n"
     ]
    }
   ],
   "source": [
    "import numpy as np\n",
    "sample=np.random.poisson(lam=5,size=1000)\n",
    "print(\"sample mean\",np.mean(sample))\n",
    "print(\"sample var\",np.var(sample))"
   ]
  },
  {
   "cell_type": "markdown",
   "id": "dcfdcdab-0f3c-4766-8231-f2692dfb37f4",
   "metadata": {},
   "source": [
    "### Q9. How mean and variance are related in Binomial distribution and Poisson distribution?"
   ]
  },
  {
   "cell_type": "markdown",
   "id": "aac86d4f-7282-40a8-b5e2-1320b6ab4b7c",
   "metadata": {},
   "source": [
    "- Bionaminal\n",
    "    - mean = n * p\n",
    "    - variance = n * p * (1 - p)\n",
    "- Poission\n",
    "    - mean = variance "
   ]
  },
  {
   "cell_type": "markdown",
   "id": "36f49b60-840e-4988-bc29-1bd3cf8a5893",
   "metadata": {},
   "source": [
    "#### Q10. In normal distribution with respect to mean position, where does the least frequent data appear?\n",
    "- In a normal distribution, the data is symmetrically distributed around the mean. \n",
    "- In a standard normal distribution (where the mean is 0 and the standard deviation is 1), the least frequent data would be found at the values that are more than 2 or 3 standard deviations away from the mean, since these values are relatively rare in the distribution."
   ]
  },
  {
   "cell_type": "code",
   "execution_count": null,
   "id": "66f194ac-e7e7-4894-bcb4-e33a22a89091",
   "metadata": {},
   "outputs": [],
   "source": []
  }
 ],
 "metadata": {
  "kernelspec": {
   "display_name": "Python 3 (ipykernel)",
   "language": "python",
   "name": "python3"
  },
  "language_info": {
   "codemirror_mode": {
    "name": "ipython",
    "version": 3
   },
   "file_extension": ".py",
   "mimetype": "text/x-python",
   "name": "python",
   "nbconvert_exporter": "python",
   "pygments_lexer": "ipython3",
   "version": "3.9.12"
  }
 },
 "nbformat": 4,
 "nbformat_minor": 5
}
