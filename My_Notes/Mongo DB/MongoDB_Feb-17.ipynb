{
 "cells": [
  {
   "cell_type": "code",
   "execution_count": 54,
   "id": "edf5a113-02ac-4f9c-a7f9-2a782087a91a",
   "metadata": {},
   "outputs": [],
   "source": [
    "### https://www.w3schools.com/python/python_mongodb_find.asp\n",
    "## https://cloud.mongodb.com/v2/63efa3e8a565f009ede35c05#/metrics/replicaSet/63efa53725e3e94f8f7a2b3c/explorer/mytest/test_tbl/find\n",
    "import pymongo"
   ]
  },
  {
   "cell_type": "code",
   "execution_count": 19,
   "id": "0d89f836-3b9e-4db6-a979-a995844b992c",
   "metadata": {},
   "outputs": [],
   "source": [
    "password=\"Mari1234\""
   ]
  },
  {
   "cell_type": "code",
   "execution_count": 20,
   "id": "d0a70f82-337c-4584-93e8-0723808b7cdc",
   "metadata": {},
   "outputs": [],
   "source": [
    "client = pymongo.MongoClient(\"mongodb+srv://maripvm14:{}@cluster0.v4ymegh.mongodb.net/?retryWrites=true&w=majority\".format(password))\n",
    "db = client.test"
   ]
  },
  {
   "cell_type": "code",
   "execution_count": 21,
   "id": "8a9bf2b2-3499-42dc-b158-0f18bcfaf368",
   "metadata": {},
   "outputs": [
    {
     "name": "stdout",
     "output_type": "stream",
     "text": [
      "MongoClient(host=['ac-s3sz4tb-shard-00-02.v4ymegh.mongodb.net:27017', 'ac-s3sz4tb-shard-00-01.v4ymegh.mongodb.net:27017', 'ac-s3sz4tb-shard-00-00.v4ymegh.mongodb.net:27017'], document_class=dict, tz_aware=False, connect=True, retrywrites=True, w='majority', authsource='admin', replicaset='atlas-12ahjv-shard-0', tls=True)\n"
     ]
    }
   ],
   "source": [
    "print(client)"
   ]
  },
  {
   "cell_type": "code",
   "execution_count": 26,
   "id": "6f8844ce-a1f0-48fa-bdb3-ed7b89f55c1e",
   "metadata": {},
   "outputs": [],
   "source": [
    "con = pymongo.MongoClient(\"mongodb+srv://maripvm14:{}@cluster0.v4ymegh.mongodb.net/?retryWrites=true&w=majority\".format(password))"
   ]
  },
  {
   "cell_type": "code",
   "execution_count": 30,
   "id": "ee16b420-8899-4376-8610-e411cf54a125",
   "metadata": {},
   "outputs": [],
   "source": [
    "mydb=con['mytest']"
   ]
  },
  {
   "cell_type": "code",
   "execution_count": 34,
   "id": "42b44231-83a8-4c44-ab66-840c2b7cb15f",
   "metadata": {},
   "outputs": [],
   "source": [
    "mycol=mydb[\"test_tbl\"]"
   ]
  },
  {
   "cell_type": "code",
   "execution_count": 35,
   "id": "4812a328-b783-499e-ad0a-ba9651213b5a",
   "metadata": {},
   "outputs": [
    {
     "data": {
      "text/plain": [
       "['admin', 'local']"
      ]
     },
     "execution_count": 35,
     "metadata": {},
     "output_type": "execute_result"
    }
   ],
   "source": [
    "con.list_database_names()"
   ]
  },
  {
   "cell_type": "code",
   "execution_count": 36,
   "id": "d2962e1e-aa2d-4430-aa08-2c14c73c997f",
   "metadata": {},
   "outputs": [
    {
     "data": {
      "text/plain": [
       "[]"
      ]
     },
     "execution_count": 36,
     "metadata": {},
     "output_type": "execute_result"
    }
   ],
   "source": [
    "mydb.list_collection_names()"
   ]
  },
  {
   "cell_type": "code",
   "execution_count": 48,
   "id": "0505186c-481d-4337-8194-ed47f810d3b2",
   "metadata": {},
   "outputs": [],
   "source": [
    "data={\n",
    "    \"Name\":\"jack\",\n",
    "    \"Age\":27,\n",
    "    \"course\":\"data science\",\n",
    "    \"phone\":9788779247\n",
    "}"
   ]
  },
  {
   "cell_type": "code",
   "execution_count": 49,
   "id": "2ff35b76-6ed2-4e8e-adf1-7f2c0f16f94a",
   "metadata": {},
   "outputs": [
    {
     "data": {
      "text/plain": [
       "<pymongo.results.InsertOneResult at 0x1ed22fd6460>"
      ]
     },
     "execution_count": 49,
     "metadata": {},
     "output_type": "execute_result"
    }
   ],
   "source": [
    "mycol.insert_one(data)"
   ]
  },
  {
   "cell_type": "code",
   "execution_count": 50,
   "id": "af17725b-b0ad-4895-b8bf-d97b50ec19d9",
   "metadata": {},
   "outputs": [
    {
     "name": "stdout",
     "output_type": "stream",
     "text": [
      "{'_id': ObjectId('63efadb151f8d795bea64325'), 'Name': 'Marimuthu', 'Age': 27, 'course': 'data science'}\n",
      "{'_id': ObjectId('63efae2451f8d795bea64326'), 'Name': 'Prakash', 'Age': 27, 'course': 'data science'}\n",
      "{'_id': ObjectId('63efaec051f8d795bea64327'), 'Name': 'jack', 'Age': 27, 'course': 'data science', 'phone': 9788779247}\n"
     ]
    }
   ],
   "source": [
    "##find the record\n",
    "for x in mycol.find():\n",
    "    print(x)"
   ]
  },
  {
   "cell_type": "code",
   "execution_count": 51,
   "id": "0dba5baf-c15f-4aec-a68d-b94f518e2bb1",
   "metadata": {},
   "outputs": [],
   "source": [
    "listdata={\"listcpurce\":[\"C#\",\"Java\",\"Pyhton\"],\"Mentor\":[\"Ram\",\"jack\",\"janu\"]}"
   ]
  },
  {
   "cell_type": "code",
   "execution_count": 52,
   "id": "7245fbdd-1bc4-4956-b0a2-b13ad0634e5e",
   "metadata": {},
   "outputs": [
    {
     "data": {
      "text/plain": [
       "<pymongo.results.InsertOneResult at 0x1ed229924c0>"
      ]
     },
     "execution_count": 52,
     "metadata": {},
     "output_type": "execute_result"
    }
   ],
   "source": [
    "mycol.insert_one(listdata)"
   ]
  },
  {
   "cell_type": "code",
   "execution_count": 53,
   "id": "2cdfabe8-ab5f-43de-b18d-95e0e8779ea9",
   "metadata": {},
   "outputs": [
    {
     "name": "stdout",
     "output_type": "stream",
     "text": [
      "{'_id': ObjectId('63efadb151f8d795bea64325'), 'Name': 'Marimuthu', 'Age': 27, 'course': 'data science'}\n",
      "{'_id': ObjectId('63efae2451f8d795bea64326'), 'Name': 'Prakash', 'Age': 27, 'course': 'data science'}\n",
      "{'_id': ObjectId('63efaec051f8d795bea64327'), 'Name': 'jack', 'Age': 27, 'course': 'data science', 'phone': 9788779247}\n",
      "{'_id': ObjectId('63efaf1151f8d795bea64328'), 'listcpurce': ['C#', 'Java', 'Pyhton'], 'Mentor': ['Ram', 'jack', 'janu']}\n"
     ]
    }
   ],
   "source": [
    "for x in mycol.find():\n",
    "    print(x)"
   ]
  },
  {
   "cell_type": "code",
   "execution_count": 59,
   "id": "2f7e255d-d557-4703-b965-9c86b97ee559",
   "metadata": {},
   "outputs": [
    {
     "name": "stdout",
     "output_type": "stream",
     "text": [
      "{'_id': ObjectId('63efadb151f8d795bea64325'), 'Name': 'Marimuthu', 'Age': 27, 'course': 'data science'}\n"
     ]
    }
   ],
   "source": [
    "##finde the record\n",
    "query={\"Name\":\"Marimuthu\"}\n",
    "for da in mycol.find(query):\n",
    "    print(da)"
   ]
  },
  {
   "cell_type": "code",
   "execution_count": 66,
   "id": "db14a56c-0421-4113-9da7-bab777cb15fe",
   "metadata": {},
   "outputs": [
    {
     "name": "stdout",
     "output_type": "stream",
     "text": [
      "{'_id': ObjectId('63efaf1151f8d795bea64328'), 'listcpurce': ['C#', 'Java', 'Pyhton'], 'Mentor': ['Ram', 'jack', 'janu']}\n",
      "{'_id': ObjectId('63efadb151f8d795bea64325'), 'Name': 'Marimuthu', 'Age': 27, 'course': 'data science'}\n",
      "{'_id': ObjectId('63efae2451f8d795bea64326'), 'Name': 'Prakash', 'Age': 27, 'course': 'data science'}\n",
      "{'_id': ObjectId('63efaec051f8d795bea64327'), 'Name': 'jack', 'Age': 27, 'course': 'data science', 'phone': 9788779247}\n"
     ]
    }
   ],
   "source": [
    "##sort the \n",
    "\n",
    "for i in mycol.find().sort(\"Name\"):\n",
    "    print(i)"
   ]
  },
  {
   "cell_type": "code",
   "execution_count": 65,
   "id": "f20e411f-57fe-42ef-8b82-ad52fc680e3f",
   "metadata": {},
   "outputs": [],
   "source": [
    "##Greater than check\n",
    "for i in mycol.find({\"Age\":{\"$gte\":\"27\"}}):\n",
    "    print(i)"
   ]
  },
  {
   "cell_type": "code",
   "execution_count": 69,
   "id": "e97ff6e5-e477-47af-9eb0-57f70f3ea2e7",
   "metadata": {},
   "outputs": [
    {
     "data": {
      "text/plain": [
       "<pymongo.results.UpdateResult at 0x1ed24904eb0>"
      ]
     },
     "execution_count": 69,
     "metadata": {},
     "output_type": "execute_result"
    }
   ],
   "source": [
    "##update the values\n",
    "\n",
    "mycol.update_one({\"Name\":\"Prakash\"},{\"$set\":{\"Age\":30}})"
   ]
  },
  {
   "cell_type": "code",
   "execution_count": 70,
   "id": "ac574e6a-3326-45be-97b0-8e680b377947",
   "metadata": {},
   "outputs": [],
   "source": [
    "for i in mycol.find({\"Age\":{\"$gte\":\"24\"}}):\n",
    "    print(i)"
   ]
  },
  {
   "cell_type": "code",
   "execution_count": 71,
   "id": "5fac9505-44ca-4825-93a7-2a9dc9d99018",
   "metadata": {},
   "outputs": [
    {
     "name": "stdout",
     "output_type": "stream",
     "text": [
      "{'_id': ObjectId('63efadb151f8d795bea64325'), 'Name': 'Marimuthu', 'Age': 27, 'course': 'data science'}\n",
      "{'_id': ObjectId('63efae2451f8d795bea64326'), 'Name': 'Prakash', 'Age': 30, 'course': 'data science'}\n",
      "{'_id': ObjectId('63efaf1151f8d795bea64328'), 'listcpurce': ['C#', 'Java', 'Pyhton'], 'Mentor': ['Ram', 'jack', 'janu']}\n"
     ]
    }
   ],
   "source": [
    "##delete the data \n",
    "de_qry={\"Name\":\"jack\"}\n",
    "mycol.delete_one(de_qry)\n",
    "for i in mycol.find():\n",
    "    print(i)"
   ]
  },
  {
   "cell_type": "code",
   "execution_count": null,
   "id": "68afb789-953e-4cfa-ade9-f2a45941f3cd",
   "metadata": {},
   "outputs": [],
   "source": []
  }
 ],
 "metadata": {
  "kernelspec": {
   "display_name": "Python 3 (ipykernel)",
   "language": "python",
   "name": "python3"
  },
  "language_info": {
   "codemirror_mode": {
    "name": "ipython",
    "version": 3
   },
   "file_extension": ".py",
   "mimetype": "text/x-python",
   "name": "python",
   "nbconvert_exporter": "python",
   "pygments_lexer": "ipython3",
   "version": "3.9.12"
  }
 },
 "nbformat": 4,
 "nbformat_minor": 5
}
