{
 "cells": [
  {
   "cell_type": "markdown",
   "id": "6d991f89-90c8-4687-8afd-c23b07697d10",
   "metadata": {},
   "source": [
    "## working with files"
   ]
  },
  {
   "cell_type": "code",
   "execution_count": 14,
   "id": "2630954c-9fd7-4d25-bc57-eb9be29ac996",
   "metadata": {},
   "outputs": [],
   "source": [
    "##new file is created \n",
    "f=open('test.txt','w')"
   ]
  },
  {
   "cell_type": "code",
   "execution_count": null,
   "id": "308270d2-5b68-4f71-9f3b-e1075e6e21ff",
   "metadata": {},
   "outputs": [],
   "source": [
    "ls"
   ]
  },
  {
   "cell_type": "code",
   "execution_count": 18,
   "id": "2e3c168f-baaa-4a77-ab10-77f8a8200e90",
   "metadata": {},
   "outputs": [
    {
     "data": {
      "text/plain": [
       "32"
      ]
     },
     "execution_count": 18,
     "metadata": {},
     "output_type": "execute_result"
    }
   ],
   "source": [
    "## write somethings on this file\n",
    "f.write('THis is my first line of my file')"
   ]
  },
  {
   "cell_type": "code",
   "execution_count": 19,
   "id": "00122ead-a868-4ad2-bc40-40ee5f7fd1c7",
   "metadata": {},
   "outputs": [],
   "source": [
    "##once clse the file using close function then only we can see our updates\n",
    "f.close()"
   ]
  },
  {
   "cell_type": "code",
   "execution_count": 16,
   "id": "15da88b7-a636-4dc7-87a7-80c7f7c34f2b",
   "metadata": {},
   "outputs": [
    {
     "data": {
      "text/plain": [
       "719"
      ]
     },
     "execution_count": 16,
     "metadata": {},
     "output_type": "execute_result"
    }
   ],
   "source": [
    "f.write(\"Data Science Masters course is highly curated and uniquely designed according to the latest industry standards. This program instills students the skills essential to knowledge discovery efforts to identify standard, novel, and truly differentiated solutions and decision-making, including skills in managing, querying, analyzing, visualizing, and extracting meaning from extremely large data sets. This trending program provides students with the statistical, mathematical and computational skills needed to meet the large-scale data science challenges of today's professional world. You will learn all the stack required to work in data science industry including cloud infrastructure and real-time industry projects.\")\n",
    "        "
   ]
  },
  {
   "cell_type": "code",
   "execution_count": 23,
   "id": "6df407bc-01df-4d53-b433-83bb68b758fb",
   "metadata": {},
   "outputs": [],
   "source": [
    "## append the new line using a\n",
    "f=open('test.txt','a')\n",
    "f.write(\"Data Science Masters course is highly curated and uniquely designed according to the latest industry standards. This program instills students the skills essential to knowledge discovery efforts to identify standard, novel, and truly differentiated solutions and decision-making, including skills in managing, querying, analyzing, visualizing, and extracting meaning from extremely large data sets. This trending program provides students with the statistical, mathematical and computational skills needed to meet the large-scale data science challenges of today's professional world. You will learn all the stack required to work in data science industry including cloud infrastructure and real-time industry projects.\")\n",
    "f.close()"
   ]
  },
  {
   "cell_type": "code",
   "execution_count": 24,
   "id": "3c65402e-6748-4a36-948b-f3affc79faf8",
   "metadata": {},
   "outputs": [],
   "source": [
    "##read the file data\n",
    "f=open('test.txt','r')"
   ]
  },
  {
   "cell_type": "code",
   "execution_count": 25,
   "id": "cc9591f5-14bf-4f26-a082-0a5d00799bb5",
   "metadata": {},
   "outputs": [
    {
     "data": {
      "text/plain": [
       "\"THis is my first line of my fileData Science Masters course is highly curated and uniquely designed according to the latest industry standards. This program instills students the skills essential to knowledge discovery efforts to identify standard, novel, and truly differentiated solutions and decision-making, including skills in managing, querying, analyzing, visualizing, and extracting meaning from extremely large data sets. This trending program provides students with the statistical, mathematical and computational skills needed to meet the large-scale data science challenges of today's professional world. You will learn all the stack required to work in data science industry including cloud infrastructure and real-time industry projects.THis is my first line of my fileTHis is my first line of my fileData Science Masters course is highly curated and uniquely designed according to the latest industry standards. This program instills students the skills essential to knowledge discovery efforts to identify standard, novel, and truly differentiated solutions and decision-making, including skills in managing, querying, analyzing, visualizing, and extracting meaning from extremely large data sets. This trending program provides students with the statistical, mathematical and computational skills needed to meet the large-scale data science challenges of today's professional world. You will learn all the stack required to work in data science industry including cloud infrastructure and real-time industry projects.Data Science Masters course is highly curated and uniquely designed according to the latest industry standards. This program instills students the skills essential to knowledge discovery efforts to identify standard, novel, and truly differentiated solutions and decision-making, including skills in managing, querying, analyzing, visualizing, and extracting meaning from extremely large data sets. This trending program provides students with the statistical, mathematical and computational skills needed to meet the large-scale data science challenges of today's professional world. You will learn all the stack required to work in data science industry including cloud infrastructure and real-time industry projects.\""
      ]
     },
     "execution_count": 25,
     "metadata": {},
     "output_type": "execute_result"
    }
   ],
   "source": [
    "f.read()\n",
    "## cursor start from intial value"
   ]
  },
  {
   "cell_type": "code",
   "execution_count": 26,
   "id": "0a4b1c5c-0227-44fd-bf37-03cb4f22547b",
   "metadata": {},
   "outputs": [
    {
     "data": {
      "text/plain": [
       "10"
      ]
     },
     "execution_count": 26,
     "metadata": {},
     "output_type": "execute_result"
    }
   ],
   "source": [
    "## How to set the cursor values\n",
    "f.seek(10)"
   ]
  },
  {
   "cell_type": "code",
   "execution_count": 27,
   "id": "13eb30d7-b028-4559-b943-4171267fc447",
   "metadata": {},
   "outputs": [
    {
     "data": {
      "text/plain": [
       "\" first line of my fileData Science Masters course is highly curated and uniquely designed according to the latest industry standards. This program instills students the skills essential to knowledge discovery efforts to identify standard, novel, and truly differentiated solutions and decision-making, including skills in managing, querying, analyzing, visualizing, and extracting meaning from extremely large data sets. This trending program provides students with the statistical, mathematical and computational skills needed to meet the large-scale data science challenges of today's professional world. You will learn all the stack required to work in data science industry including cloud infrastructure and real-time industry projects.THis is my first line of my fileTHis is my first line of my fileData Science Masters course is highly curated and uniquely designed according to the latest industry standards. This program instills students the skills essential to knowledge discovery efforts to identify standard, novel, and truly differentiated solutions and decision-making, including skills in managing, querying, analyzing, visualizing, and extracting meaning from extremely large data sets. This trending program provides students with the statistical, mathematical and computational skills needed to meet the large-scale data science challenges of today's professional world. You will learn all the stack required to work in data science industry including cloud infrastructure and real-time industry projects.Data Science Masters course is highly curated and uniquely designed according to the latest industry standards. This program instills students the skills essential to knowledge discovery efforts to identify standard, novel, and truly differentiated solutions and decision-making, including skills in managing, querying, analyzing, visualizing, and extracting meaning from extremely large data sets. This trending program provides students with the statistical, mathematical and computational skills needed to meet the large-scale data science challenges of today's professional world. You will learn all the stack required to work in data science industry including cloud infrastructure and real-time industry projects.\""
      ]
     },
     "execution_count": 27,
     "metadata": {},
     "output_type": "execute_result"
    }
   ],
   "source": [
    "f.read()"
   ]
  },
  {
   "cell_type": "code",
   "execution_count": 30,
   "id": "ae0f3959-5668-476b-a58b-8ebc0a05e306",
   "metadata": {},
   "outputs": [],
   "source": [
    "##how to check file size\n",
    "import os"
   ]
  },
  {
   "cell_type": "code",
   "execution_count": 29,
   "id": "a49aa00e-cb3e-4e5a-b879-68b23ecc42a7",
   "metadata": {},
   "outputs": [
    {
     "data": {
      "text/plain": [
       "2253"
      ]
     },
     "execution_count": 29,
     "metadata": {},
     "output_type": "execute_result"
    }
   ],
   "source": [
    "os.path.getsize('test.txt')"
   ]
  },
  {
   "cell_type": "code",
   "execution_count": 31,
   "id": "9caa0594-76b3-4803-bffb-10e73d6dc310",
   "metadata": {},
   "outputs": [
    {
     "data": {
      "text/plain": [
       "'newtest.txt'"
      ]
     },
     "execution_count": 31,
     "metadata": {},
     "output_type": "execute_result"
    }
   ],
   "source": [
    "#copy file \n",
    "import shutil\n",
    "shutil.copy(\"test.txt\",\"newtest.txt\")"
   ]
  },
  {
   "cell_type": "code",
   "execution_count": 32,
   "id": "2bd7e160-d03b-4102-b6f9-c589566a50a2",
   "metadata": {},
   "outputs": [],
   "source": [
    "## how to remove file \n",
    "os.remove(\"newtest.txt\")"
   ]
  },
  {
   "cell_type": "code",
   "execution_count": 37,
   "id": "e453c6bc-2b0f-441f-8be2-2b548e46f428",
   "metadata": {},
   "outputs": [
    {
     "name": "stdout",
     "output_type": "stream",
     "text": [
      "THis is my first line of my fileData Science Masters course is highly curated and uniquely designed according to the latest industry standards. This program instills students the skills essential to knowledge discovery efforts to identify standard, novel, and truly differentiated solutions and decision-making, including skills in managing, querying, analyzing, visualizing, and extracting meaning from extremely large data sets. This trending program provides students with the statistical, mathematical and computational skills needed to meet the large-scale data science challenges of today's professional world. You will learn all the stack required to work in data science industry including cloud infrastructure and real-time industry projects.THis is my first line of my fileTHis is my first line of my fileData Science Masters course is highly curated and uniquely designed according to the latest industry standards. This program instills students the skills essential to knowledge discovery efforts to identify standard, novel, and truly differentiated solutions and decision-making, including skills in managing, querying, analyzing, visualizing, and extracting meaning from extremely large data sets. This trending program provides students with the statistical, mathematical and computational skills needed to meet the large-scale data science challenges of today's professional world. You will learn all the stack required to work in data science industry including cloud infrastructure and real-time industry projects.Data Science Masters course is highly curated and uniquely designed according to the latest industry standards. This program instills students the skills essential to knowledge discovery efforts to identify standard, novel, and truly differentiated solutions and decision-making, including skills in managing, querying, analyzing, visualizing, and extracting meaning from extremely large data sets. This trending program provides students with the statistical, mathematical and computational skills needed to meet the large-scale data science challenges of today's professional world. You will learn all the stack required to work in data science industry including cloud infrastructure and real-time industry projects.\n"
     ]
    }
   ],
   "source": [
    "## how to open the file differnet way\n",
    "with open('test.txt','r') as f:\n",
    "    print(f.read())\n",
    "    f.close()"
   ]
  },
  {
   "cell_type": "code",
   "execution_count": 38,
   "id": "e05e48ad-c98a-48db-ae4f-92adfcb97364",
   "metadata": {},
   "outputs": [
    {
     "ename": "PermissionError",
     "evalue": "[WinError 32] The process cannot access the file because it is being used by another process: 'test.txt' -> 'temp.txt'",
     "output_type": "error",
     "traceback": [
      "\u001b[1;31m---------------------------------------------------------------------------\u001b[0m",
      "\u001b[1;31mPermissionError\u001b[0m                           Traceback (most recent call last)",
      "Input \u001b[1;32mIn [38]\u001b[0m, in \u001b[0;36m<cell line: 2>\u001b[1;34m()\u001b[0m\n\u001b[0;32m      1\u001b[0m \u001b[38;5;66;03m##how to rename of the file\u001b[39;00m\n\u001b[1;32m----> 2\u001b[0m \u001b[43mos\u001b[49m\u001b[38;5;241;43m.\u001b[39;49m\u001b[43mrename\u001b[49m\u001b[43m(\u001b[49m\u001b[38;5;124;43m\"\u001b[39;49m\u001b[38;5;124;43mtest.txt\u001b[39;49m\u001b[38;5;124;43m\"\u001b[39;49m\u001b[43m,\u001b[49m\u001b[38;5;124;43m\"\u001b[39;49m\u001b[38;5;124;43mtemp.txt\u001b[39;49m\u001b[38;5;124;43m\"\u001b[39;49m\u001b[43m)\u001b[49m\n",
      "\u001b[1;31mPermissionError\u001b[0m: [WinError 32] The process cannot access the file because it is being used by another process: 'test.txt' -> 'temp.txt'"
     ]
    }
   ],
   "source": [
    "##how to rename of the file\n",
    "os.rename(\"test.txt\",\"temp.txt\")"
   ]
  },
  {
   "cell_type": "markdown",
   "id": "d78718d9-4135-45db-b7ae-a9b65fe581d6",
   "metadata": {},
   "source": [
    "### Reading and Writing File"
   ]
  },
  {
   "cell_type": "code",
   "execution_count": 8,
   "id": "abcf8405-d0a8-4c7e-8978-f9cc7fd1d5e3",
   "metadata": {},
   "outputs": [],
   "source": [
    "data={\n",
    "    \"Name\":\"Mari\",\n",
    "    \"Age\":26,\n",
    "    \"mobile\":9788779247,\n",
    "    \"subject\":[\"data science\",\"big data\",\"data analtics\"]\n",
    "}"
   ]
  },
  {
   "cell_type": "code",
   "execution_count": 43,
   "id": "b989c4e0-33ce-45b4-8af2-999f00030490",
   "metadata": {},
   "outputs": [],
   "source": [
    "##json => javascipt object notation"
   ]
  },
  {
   "cell_type": "code",
   "execution_count": 9,
   "id": "d1d1656c-5b9b-4248-90e7-f52f636383dd",
   "metadata": {},
   "outputs": [],
   "source": [
    "import json"
   ]
  },
  {
   "cell_type": "code",
   "execution_count": 10,
   "id": "6ff75a2f-c3eb-4d94-b675-49136203c0a7",
   "metadata": {},
   "outputs": [],
   "source": [
    "with open('test.json','w') as f:\n",
    "    json.dump(data,f)"
   ]
  },
  {
   "cell_type": "code",
   "execution_count": 11,
   "id": "9b972ca3-f7e5-47cf-9eee-cac6faf32b79",
   "metadata": {},
   "outputs": [],
   "source": [
    "##read mode\n",
    "with open('test.json','r') as f:\n",
    "    data1=json.load(f)\n"
   ]
  },
  {
   "cell_type": "code",
   "execution_count": 12,
   "id": "99270e4d-0e82-4c5d-b6f8-afd915141e02",
   "metadata": {},
   "outputs": [
    {
     "data": {
      "text/plain": [
       "{'Name': 'Mari',\n",
       " 'Age': 26,\n",
       " 'mobile': 9788779247,\n",
       " 'subject': ['data science', 'big data', 'data analtics']}"
      ]
     },
     "execution_count": 12,
     "metadata": {},
     "output_type": "execute_result"
    }
   ],
   "source": [
    "data1"
   ]
  },
  {
   "cell_type": "code",
   "execution_count": 15,
   "id": "0a886ab0-45d7-4abb-a4f7-635f3ca47870",
   "metadata": {},
   "outputs": [
    {
     "data": {
      "text/plain": [
       "'data science'"
      ]
     },
     "execution_count": 15,
     "metadata": {},
     "output_type": "execute_result"
    }
   ],
   "source": [
    "data1['subject'][0]"
   ]
  },
  {
   "cell_type": "markdown",
   "id": "62a360bb-156b-4cfb-9c50-9d0469359289",
   "metadata": {},
   "source": [
    "## comma seperated value using CSV file"
   ]
  },
  {
   "cell_type": "code",
   "execution_count": 16,
   "id": "ada33592-ff41-4348-ac0b-d8954a87c4b6",
   "metadata": {},
   "outputs": [],
   "source": [
    "data=[\n",
    "    ['name','eamil','number'],\n",
    "    ['mari','maripvm14@gmail.com',9788779247],\n",
    "     ['praks','poraks@gmail.com',9600548864],\n",
    "]"
   ]
  },
  {
   "cell_type": "code",
   "execution_count": 19,
   "id": "69aebc4d-8d1f-4166-abc7-f1684ae9e255",
   "metadata": {},
   "outputs": [
    {
     "data": {
      "text/plain": [
       "['name', 'eamil', 'number']"
      ]
     },
     "execution_count": 19,
     "metadata": {},
     "output_type": "execute_result"
    }
   ],
   "source": [
    "data[0]"
   ]
  },
  {
   "cell_type": "code",
   "execution_count": 20,
   "id": "59c3cf8e-ce46-40b4-bd2f-e4fcb23268c5",
   "metadata": {},
   "outputs": [],
   "source": [
    "import csv"
   ]
  },
  {
   "cell_type": "code",
   "execution_count": 22,
   "id": "6ce8bc85-a081-4366-9955-b5e3f8878956",
   "metadata": {},
   "outputs": [],
   "source": [
    "# new file save \n",
    "with open ('test.csv','w') as f:\n",
    "    w= csv.writer(f)\n",
    "    for i in data:\n",
    "        w.writerow(i)"
   ]
  },
  {
   "cell_type": "code",
   "execution_count": 24,
   "id": "f2fa640a-c915-4e0c-bc52-adeac967496e",
   "metadata": {},
   "outputs": [
    {
     "name": "stdout",
     "output_type": "stream",
     "text": [
      "['name', 'eamil', 'number']\n",
      "[]\n",
      "['mari', 'maripvm14@gmail.com', '9788779247']\n",
      "[]\n",
      "['praks', 'poraks@gmail.com', '9600548864']\n",
      "[]\n"
     ]
    }
   ],
   "source": [
    "##read the file\n",
    "with open('test.csv','r') as f:\n",
    "    read=csv.reader(f)\n",
    "    for i in read:\n",
    "        print(i)"
   ]
  },
  {
   "cell_type": "code",
   "execution_count": 25,
   "id": "8d8bdcd9-3eee-4c69-959e-3325d07eb6e9",
   "metadata": {},
   "outputs": [],
   "source": [
    "### binary\n",
    "with open('test.bin','wb') as f: ##wb only for binary(write\n",
    "    f.write(b\"\\x01\\x02\\x03\")"
   ]
  },
  {
   "cell_type": "code",
   "execution_count": 26,
   "id": "351cda59-5e07-45c5-b7a1-c225d18ce2f2",
   "metadata": {},
   "outputs": [
    {
     "name": "stdout",
     "output_type": "stream",
     "text": [
      "b'\\x01\\x02\\x03'\n"
     ]
    }
   ],
   "source": [
    "##read the bin file\n",
    "with open('test.bin','rb') as f: ##rb only for binary(read)\n",
    "    print(f.read())"
   ]
  },
  {
   "cell_type": "markdown",
   "id": "af954051-4e37-4a92-ae86-cf9acb8cd7fe",
   "metadata": {},
   "source": [
    "## Buffer read ad writter mrthod"
   ]
  },
  {
   "cell_type": "code",
   "execution_count": 27,
   "id": "2d009adc-8e83-40fd-9bdf-d4bc642bb715",
   "metadata": {},
   "outputs": [],
   "source": [
    "import io"
   ]
  },
  {
   "cell_type": "code",
   "execution_count": 28,
   "id": "3ef8d31b-bc8b-45ab-a7e9-f13298096f9b",
   "metadata": {},
   "outputs": [],
   "source": [
    "with open (\"test.txt\",\"wb\") as f:\n",
    "    write=io.BufferedWriter(f)\n",
    "    write.write(b\"this is my first buffer\\n\")\n",
    "    write.write(b\"this is my second buffer\\n\")\n",
    "    write.flush()"
   ]
  },
  {
   "cell_type": "code",
   "execution_count": 33,
   "id": "4ae62539-8fb4-4d54-81a4-ab9a14943eee",
   "metadata": {},
   "outputs": [
    {
     "name": "stdout",
     "output_type": "stream",
     "text": [
      "b'this is my first buffer\\nthis is my second buffer\\n'\n"
     ]
    }
   ],
   "source": [
    "## read the file\n",
    "with open(\"test.txt\",\"rb\") as f:\n",
    "    file=io.BufferedReader(f)\n",
    "    data=file.read(100) ##100 is control the buffer bytes\n",
    "    print(data)"
   ]
  },
  {
   "cell_type": "markdown",
   "id": "4221ebbe-a39a-4c9c-8982-eaca6df0dd8b",
   "metadata": {},
   "source": [
    "## Logging and debugger"
   ]
  },
  {
   "cell_type": "code",
   "execution_count": 2,
   "id": "9ddff27f-b49f-40cd-a59d-3416905be111",
   "metadata": {},
   "outputs": [],
   "source": [
    "import logging"
   ]
  },
  {
   "cell_type": "code",
   "execution_count": 4,
   "id": "00d42aec-8c8c-4e91-b765-2818080b6b10",
   "metadata": {},
   "outputs": [],
   "source": [
    "logging.basicConfig(filename=\"test.log\",level=logging.INFO)"
   ]
  },
  {
   "cell_type": "code",
   "execution_count": 14,
   "id": "23c4fda5-f9b4-4a41-adfd-6da314a79206",
   "metadata": {},
   "outputs": [],
   "source": [
    "logging.info(\"this is line of execution\")"
   ]
  },
  {
   "cell_type": "code",
   "execution_count": 8,
   "id": "6fe95cd1-09c4-4494-b799-b2d0369bf82e",
   "metadata": {},
   "outputs": [],
   "source": [
    "logging.error(\"object is null\")"
   ]
  },
  {
   "cell_type": "code",
   "execution_count": 10,
   "id": "e68caab4-c7d5-4dbc-bad0-629c9e17468f",
   "metadata": {},
   "outputs": [],
   "source": [
    "logging.critical(\"this is critical\")"
   ]
  },
  {
   "cell_type": "code",
   "execution_count": 16,
   "id": "cf7caecf-a3bd-4026-bd3b-3f890ac934a8",
   "metadata": {},
   "outputs": [],
   "source": [
    "logging.warning(\"this is my warning\")"
   ]
  },
  {
   "cell_type": "code",
   "execution_count": 15,
   "id": "c73f37fa-f440-400c-9367-f3f929b06389",
   "metadata": {},
   "outputs": [],
   "source": [
    "logging.debug(\"this in my info debug\")"
   ]
  },
  {
   "cell_type": "code",
   "execution_count": 17,
   "id": "2321fcac-8da1-495a-899c-3abf1679fb03",
   "metadata": {},
   "outputs": [],
   "source": [
    "## how to stop logging\n",
    "logging.shutdown()"
   ]
  },
  {
   "cell_type": "code",
   "execution_count": 2,
   "id": "830a5323-fa89-47c8-9db9-cc5f7dfb212d",
   "metadata": {},
   "outputs": [],
   "source": [
    "## create a new logging\n",
    "logging.basicConfig(filename=\"test1.log\",level=logging.DEBUG, format='%(asctime)s %(message)s')"
   ]
  },
  {
   "cell_type": "code",
   "execution_count": 3,
   "id": "289fa4ae-42a5-4e28-8bb4-59a41ced419f",
   "metadata": {},
   "outputs": [],
   "source": [
    "logging.info(\"this is first warning with time\")"
   ]
  },
  {
   "cell_type": "code",
   "execution_count": 4,
   "id": "0101798c-abac-4255-a401-864fc852add2",
   "metadata": {},
   "outputs": [],
   "source": [
    "logging.debug(\"this is first debug with time\")"
   ]
  },
  {
   "cell_type": "code",
   "execution_count": 5,
   "id": "f45f0340-a42d-4e23-9d12-669291f20d09",
   "metadata": {},
   "outputs": [],
   "source": [
    "logging.warning(\"this is my warning\")"
   ]
  },
  {
   "cell_type": "code",
   "execution_count": 1,
   "id": "a94d99af-066c-48e9-a4e6-d8344be3beca",
   "metadata": {},
   "outputs": [
    {
     "ename": "NameError",
     "evalue": "name 'logging' is not defined",
     "output_type": "error",
     "traceback": [
      "\u001b[1;31m---------------------------------------------------------------------------\u001b[0m",
      "\u001b[1;31mNameError\u001b[0m                                 Traceback (most recent call last)",
      "Input \u001b[1;32mIn [1]\u001b[0m, in \u001b[0;36m<cell line: 2>\u001b[1;34m()\u001b[0m\n\u001b[0;32m      1\u001b[0m \u001b[38;5;66;03m## how to stop logging\u001b[39;00m\n\u001b[1;32m----> 2\u001b[0m \u001b[43mlogging\u001b[49m\u001b[38;5;241m.\u001b[39mshutdown()\n",
      "\u001b[1;31mNameError\u001b[0m: name 'logging' is not defined"
     ]
    }
   ],
   "source": [
    "## how to stop logging\n",
    "logging.shutdown()"
   ]
  },
  {
   "cell_type": "code",
   "execution_count": 21,
   "id": "1cfd5cab-21d8-4828-8947-21ca5f9d366b",
   "metadata": {},
   "outputs": [],
   "source": [
    "logging.basicConfig(filename=\"test3.log\",level=logging.INFO,format='%(asctime)s %(name)%(level) %(message)')"
   ]
  },
  {
   "cell_type": "code",
   "execution_count": null,
   "id": "f1fbc9fa-e5aa-4d15-8fa8-fae8c09f5b42",
   "metadata": {},
   "outputs": [],
   "source": [
    "logging.debug(\"this is first debug with time\")"
   ]
  },
  {
   "cell_type": "code",
   "execution_count": null,
   "id": "fe385325-6a63-485f-98f6-a66e8c5a1312",
   "metadata": {},
   "outputs": [],
   "source": [
    "logging.info(\"this is first warning with time\")"
   ]
  },
  {
   "cell_type": "code",
   "execution_count": null,
   "id": "0531f6f0-42ff-4eb9-bf2a-bdcc80ea6918",
   "metadata": {},
   "outputs": [],
   "source": [
    "logging.warning(\"this is my warning\")"
   ]
  },
  {
   "cell_type": "code",
   "execution_count": 7,
   "id": "ceb78c31-7fe4-4309-97af-8f34649cc3fe",
   "metadata": {},
   "outputs": [],
   "source": [
    "## Eg program\n",
    "lst=[1,2,3,4,[4,5,6],\"mari\",\"muthu\"]"
   ]
  },
  {
   "cell_type": "code",
   "execution_count": 23,
   "id": "d51c8d18-4a3e-462d-a1d2-6351bac522b3",
   "metadata": {},
   "outputs": [],
   "source": [
    "lst_int=[]\n",
    "lst_str=[]\n",
    "for i in lst:\n",
    "    #logging.info(\"this is my start of my loop {}\".format(i))\n",
    "    if type(i)==list:\n",
    "        #logging.info(\"this is my loop inside the list{}\".format(i))\n",
    "        for j in i:\n",
    "            if type(j)==int:\n",
    "                lst_int.append(j)\n",
    "            else:\n",
    "                lst_str.append(j)\n",
    "    elif type(i)==int:\n",
    "        lst_int.append(i)\n",
    "    else:\n",
    "        if type(i)==str:\n",
    "            lst_str.append(i)\n",
    "                "
   ]
  },
  {
   "cell_type": "code",
   "execution_count": 15,
   "id": "1759468d-a6e9-46ee-b172-020c76fdfa18",
   "metadata": {},
   "outputs": [
    {
     "data": {
      "text/plain": [
       "[1, 2, 3, 4, 4, 5, 6]"
      ]
     },
     "execution_count": 15,
     "metadata": {},
     "output_type": "execute_result"
    }
   ],
   "source": [
    "lst_int"
   ]
  },
  {
   "cell_type": "code",
   "execution_count": 16,
   "id": "5d75e01b-cc71-4bf1-96e4-f10798cb415f",
   "metadata": {},
   "outputs": [
    {
     "data": {
      "text/plain": [
       "['mari', 'muthu']"
      ]
     },
     "execution_count": 16,
     "metadata": {},
     "output_type": "execute_result"
    }
   ],
   "source": [
    "lst_str"
   ]
  },
  {
   "cell_type": "markdown",
   "id": "23bb2d36-32d3-4556-aafe-ee781e258c87",
   "metadata": {},
   "source": [
    "## modules and Import statements"
   ]
  },
  {
   "cell_type": "code",
   "execution_count": null,
   "id": "49cb3f58-4ac9-4f1f-bee4-886be341f7ee",
   "metadata": {},
   "outputs": [],
   "source": []
  }
 ],
 "metadata": {
  "kernelspec": {
   "display_name": "Python 3 (ipykernel)",
   "language": "python",
   "name": "python3"
  },
  "language_info": {
   "codemirror_mode": {
    "name": "ipython",
    "version": 3
   },
   "file_extension": ".py",
   "mimetype": "text/x-python",
   "name": "python",
   "nbconvert_exporter": "python",
   "pygments_lexer": "ipython3",
   "version": "3.9.12"
  }
 },
 "nbformat": 4,
 "nbformat_minor": 5
}
