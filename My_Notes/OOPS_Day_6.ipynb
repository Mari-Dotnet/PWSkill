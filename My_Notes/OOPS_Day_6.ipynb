{
 "cells": [
  {
   "cell_type": "markdown",
   "id": "f2df6f19-767e-415b-ae25-388784279050",
   "metadata": {},
   "source": [
    "## Class"
   ]
  },
  {
   "cell_type": "code",
   "execution_count": 2,
   "id": "d928bd32-3a48-496f-bf42-4cbc73198adc",
   "metadata": {},
   "outputs": [],
   "source": [
    "class test:\n",
    "    pass"
   ]
  },
  {
   "cell_type": "code",
   "execution_count": 14,
   "id": "a3071368-719c-41c3-aede-1605fea40325",
   "metadata": {},
   "outputs": [],
   "source": [
    "class test1:\n",
    "    def welcome(self):\n",
    "        print(\"welcome to all\")"
   ]
  },
  {
   "cell_type": "code",
   "execution_count": 15,
   "id": "a5a6de77-1c06-465a-b375-225e6beaa786",
   "metadata": {},
   "outputs": [
    {
     "name": "stdout",
     "output_type": "stream",
     "text": [
      "welcome to all\n"
     ]
    }
   ],
   "source": [
    "a=test1()\n",
    "a.welcome()"
   ]
  },
  {
   "cell_type": "code",
   "execution_count": 6,
   "id": "c8b60c9e-f66c-44b1-9afe-2c6e9a118772",
   "metadata": {},
   "outputs": [
    {
     "name": "stdout",
     "output_type": "stream",
     "text": [
      "<class '__main__.test'>\n"
     ]
    }
   ],
   "source": [
    "print(type(a))"
   ]
  },
  {
   "cell_type": "markdown",
   "id": "30c46eb6-e6cf-448c-8e6f-a136d5664a98",
   "metadata": {},
   "source": [
    "#### constructor\n",
    "\n",
    "##### self is not a keyword, its refernece"
   ]
  },
  {
   "cell_type": "code",
   "execution_count": 30,
   "id": "c147519a-4ae8-47cd-a5ba-406e5e28f4b3",
   "metadata": {},
   "outputs": [],
   "source": [
    "class pwskill:\n",
    "    def __init__(self,phonenumber,eamil_Id, Student_Id):\n",
    "        self.phonenumber=phonenumber\n",
    "        self.eamil_Id=eamil_Id\n",
    "        self.student_Id=Student_Id\n",
    "    def studentdata(self):\n",
    "        return self.phonenumber,self.eamil_Id,self.student_Id\n",
    "        "
   ]
  },
  {
   "cell_type": "code",
   "execution_count": 34,
   "id": "abbc5fcd-f640-4b80-92f7-ad42bd807b73",
   "metadata": {},
   "outputs": [
    {
     "data": {
      "text/plain": [
       "9788779247"
      ]
     },
     "execution_count": 34,
     "metadata": {},
     "output_type": "execute_result"
    }
   ],
   "source": [
    "student=pwskill(9788779247,\"maripvm14@gmail.com\",12345)\n",
    "a,b,c=student.studentdata()\n"
   ]
  },
  {
   "cell_type": "code",
   "execution_count": 35,
   "id": "30ee0a16-11c9-4c6b-a298-5cce808f7ba4",
   "metadata": {},
   "outputs": [
    {
     "data": {
      "text/plain": [
       "'maripvm14@gmail.com'"
      ]
     },
     "execution_count": 35,
     "metadata": {},
     "output_type": "execute_result"
    }
   ],
   "source": [
    "student.eamil_Id"
   ]
  },
  {
   "cell_type": "code",
   "execution_count": 36,
   "id": "4197ffa2-aa6b-48b8-a3ef-6cb6b021f053",
   "metadata": {},
   "outputs": [
    {
     "data": {
      "text/plain": [
       "9788779247"
      ]
     },
     "execution_count": 36,
     "metadata": {},
     "output_type": "execute_result"
    }
   ],
   "source": [
    "student.phonenumber"
   ]
  },
  {
   "cell_type": "code",
   "execution_count": 37,
   "id": "b062cd99-e21a-46fb-9475-d32f747be27b",
   "metadata": {},
   "outputs": [
    {
     "data": {
      "text/plain": [
       "12345"
      ]
     },
     "execution_count": 37,
     "metadata": {},
     "output_type": "execute_result"
    }
   ],
   "source": [
    "student.student_Id"
   ]
  },
  {
   "cell_type": "code",
   "execution_count": null,
   "id": "edab33eb-3228-4224-a854-60996de752e4",
   "metadata": {},
   "outputs": [],
   "source": []
  }
 ],
 "metadata": {
  "kernelspec": {
   "display_name": "Python 3 (ipykernel)",
   "language": "python",
   "name": "python3"
  },
  "language_info": {
   "codemirror_mode": {
    "name": "ipython",
    "version": 3
   },
   "file_extension": ".py",
   "mimetype": "text/x-python",
   "name": "python",
   "nbconvert_exporter": "python",
   "pygments_lexer": "ipython3",
   "version": "3.9.12"
  }
 },
 "nbformat": 4,
 "nbformat_minor": 5
}
