{
 "cells": [
  {
   "cell_type": "code",
   "execution_count": null,
   "id": "8a797dae-e945-42ad-b134-3913232a8241",
   "metadata": {},
   "outputs": [],
   "source": [
    "from bs4 import BeautifulSoup as bs"
   ]
  },
  {
   "cell_type": "code",
   "execution_count": null,
   "id": "73f3caef-f6ef-44d0-aef8-600f26bba2bf",
   "metadata": {},
   "outputs": [],
   "source": [
    "import requests"
   ]
  },
  {
   "cell_type": "code",
   "execution_count": null,
   "id": "b136ee19-e72d-4a29-8d5d-13620eec540b",
   "metadata": {},
   "outputs": [],
   "source": [
    "from urllib.request import urlopen\n",
    "import logging"
   ]
  },
  {
   "cell_type": "code",
   "execution_count": null,
   "id": "e70d658e-c6e1-4b89-a158-3d29906440b8",
   "metadata": {},
   "outputs": [],
   "source": [
    "flipkarturl= \"https://www.flipkart.com/search?q=+\"+\"tv\""
   ]
  },
  {
   "cell_type": "code",
   "execution_count": null,
   "id": "d4a0dd0a-4012-430d-8309-a4b00b55a194",
   "metadata": {},
   "outputs": [],
   "source": [
    "flipkarturl"
   ]
  },
  {
   "cell_type": "code",
   "execution_count": null,
   "id": "0e6127be-ff76-462b-9c51-78aa2931e948",
   "metadata": {},
   "outputs": [],
   "source": [
    "urlclient=urlopen(flipkarturl)"
   ]
  },
  {
   "cell_type": "code",
   "execution_count": null,
   "id": "4694d720-cbee-4031-b0f8-c44fbecdf292",
   "metadata": {},
   "outputs": [],
   "source": [
    "flipkartpage=urlclient.read()"
   ]
  },
  {
   "cell_type": "code",
   "execution_count": null,
   "id": "6f18ed4a-591b-4210-bd43-bda9c83506b6",
   "metadata": {},
   "outputs": [],
   "source": [
    "flipkart_parser=bs(flipkartpage, 'html.parser')"
   ]
  },
  {
   "cell_type": "code",
   "execution_count": null,
   "id": "f33a98bd-eee7-46ec-b8ad-aa4112a4a694",
   "metadata": {},
   "outputs": [],
   "source": [
    "bigboxdiv=flipkart_parser.find_all('div',{\"class\":\"_1AtVbE col-12-12\"})"
   ]
  },
  {
   "cell_type": "code",
   "execution_count": null,
   "id": "b2780bba-a4c7-44d4-930b-ab4d8ad35dcc",
   "metadata": {},
   "outputs": [],
   "source": [
    "len(bigboxdiv)"
   ]
  },
  {
   "cell_type": "code",
   "execution_count": null,
   "id": "51c791d7-db90-4d7c-8230-1d16e5813ed4",
   "metadata": {},
   "outputs": [],
   "source": [
    "del bigboxdiv[0:3]"
   ]
  },
  {
   "cell_type": "code",
   "execution_count": 34,
   "id": "2d664c32-fa8f-49f1-9395-98fbf463e027",
   "metadata": {},
   "outputs": [],
   "source": [
    "product1=\"https://www.flipkart.com\"+bigboxdiv[0].div.div.div.a['href']\n",
    "prouct1=\"https://www.flipkart.com/oneplus-y1-100-cm-40-inch-full-hd-led-smart-android-tv-dolby-audio/p/itmdcbd9784403b2?pid=TVSG25MMGB8NKFD8&lid=LSTTVSG25MMGB8NKFD8BZ88HR&marketplace=FLIPKART&q=+tv&store=ckf%2Fczl&srno=s_1_6&otracker=search&fm=organic&iid=3e9416eb-9b6e-4c7f-a44d-9304e07bf439.TVSG25MMGB8NKFD8.SEARCH&ppt=None&ppn=None&ssid=2zt6s5qbq80000001677001542243&qH=df45e3af57048342\""
   ]
  },
  {
   "cell_type": "code",
   "execution_count": null,
   "id": "b73d464f-abef-4c90-8d6c-5e55d644aa90",
   "metadata": {},
   "outputs": [],
   "source": [
    "for x in bigboxdiv:\n",
    "    print (x.div.div.div.a['href'])"
   ]
  },
  {
   "cell_type": "code",
   "execution_count": null,
   "id": "80868b8e-3687-47f4-9f1d-966150438a03",
   "metadata": {},
   "outputs": [],
   "source": [
    "product1"
   ]
  },
  {
   "cell_type": "code",
   "execution_count": 28,
   "id": "0eeb2f0c-15af-49e5-aba5-56b2eaed201f",
   "metadata": {},
   "outputs": [],
   "source": [
    "prod_html=requests.get(product1)"
   ]
  },
  {
   "cell_type": "code",
   "execution_count": 32,
   "id": "76248fa7-b8e5-4373-803d-675432c82c5f",
   "metadata": {},
   "outputs": [],
   "source": [
    "prod_htmlvale=bs(prod_html.text,\"html.parser\")"
   ]
  },
  {
   "cell_type": "code",
   "execution_count": null,
   "id": "eb9fd0de-8b6d-4476-8d0d-579eaec37011",
   "metadata": {},
   "outputs": [],
   "source": []
  }
 ],
 "metadata": {
  "kernelspec": {
   "display_name": "Python 3 (ipykernel)",
   "language": "python",
   "name": "python3"
  },
  "language_info": {
   "codemirror_mode": {
    "name": "ipython",
    "version": 3
   },
   "file_extension": ".py",
   "mimetype": "text/x-python",
   "name": "python",
   "nbconvert_exporter": "python",
   "pygments_lexer": "ipython3",
   "version": "3.10.8"
  }
 },
 "nbformat": 4,
 "nbformat_minor": 5
}
