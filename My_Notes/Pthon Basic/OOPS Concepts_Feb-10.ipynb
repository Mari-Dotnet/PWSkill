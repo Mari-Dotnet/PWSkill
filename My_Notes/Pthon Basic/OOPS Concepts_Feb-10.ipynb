{
 "cells": [
  {
   "cell_type": "markdown",
   "id": "ac554dbf-53bb-44fa-9acc-a45056c8dfbb",
   "metadata": {},
   "source": [
    "- Decorators\n",
    "- class methods\n",
    "- static method\n",
    "- special (magic/dunder) method\n",
    "- Getter/setter/delete"
   ]
  },
  {
   "cell_type": "markdown",
   "id": "9e5cef14-5e6a-475c-bf8a-ee7a4827eb6f",
   "metadata": {},
   "source": [
    "#### decorators\n",
    "- repted statment we are using this decorater\n",
    "- we can use start of the function and end of the function"
   ]
  },
  {
   "cell_type": "code",
   "execution_count": 3,
   "id": "342f0d3e-26c1-4bc0-a699-c4b007c46272",
   "metadata": {},
   "outputs": [],
   "source": [
    "def fun1():\n",
    "    print(\"start\")\n",
    "    print(9-7)\n",
    "    print(\"end\")"
   ]
  },
  {
   "cell_type": "code",
   "execution_count": 4,
   "id": "d864b4d5-70ea-40ef-ab39-4b380cca8727",
   "metadata": {},
   "outputs": [
    {
     "name": "stdout",
     "output_type": "stream",
     "text": [
      "start\n",
      "2\n",
      "end\n"
     ]
    }
   ],
   "source": [
    "fun1()"
   ]
  },
  {
   "cell_type": "code",
   "execution_count": 11,
   "id": "217ea6e8-b8d7-4209-867c-0af54be343cc",
   "metadata": {},
   "outputs": [],
   "source": [
    "## above function start and end we are every time manually entered\n",
    "## using deco\n",
    "def repeat(fun):\n",
    "    def inner_metho():\n",
    "        print(\"method start\")\n",
    "        fun()\n",
    "        print(\"method end\")\n",
    "    return inner_metho"
   ]
  },
  {
   "cell_type": "code",
   "execution_count": 12,
   "id": "cf02965d-4773-4ff5-85cd-e6d9d64bb5d6",
   "metadata": {},
   "outputs": [],
   "source": [
    "@repeat\n",
    "def testme():\n",
    "    print(9-5)"
   ]
  },
  {
   "cell_type": "code",
   "execution_count": 13,
   "id": "2d337321-d474-47b6-ac1b-5207c3688981",
   "metadata": {},
   "outputs": [
    {
     "name": "stdout",
     "output_type": "stream",
     "text": [
      "method start\n",
      "4\n",
      "method end\n"
     ]
    }
   ],
   "source": [
    "testme()"
   ]
  },
  {
   "cell_type": "code",
   "execution_count": 20,
   "id": "e9bb665c-e6b6-4f9a-9c3e-60c90009dc9f",
   "metadata": {},
   "outputs": [],
   "source": [
    "import time"
   ]
  },
  {
   "cell_type": "code",
   "execution_count": 36,
   "id": "c0a55090-f346-44ec-be1e-6c2b05a47fbf",
   "metadata": {},
   "outputs": [],
   "source": [
    "def timer_test(fun):\n",
    "    def inner_test_timer():\n",
    "        start=time.time()\n",
    "        fun()\n",
    "        end=time.time()\n",
    "        print(\"start {}, end {}\".format(start,end), end - start)\n",
    "    return inner_test_timer"
   ]
  },
  {
   "cell_type": "code",
   "execution_count": 37,
   "id": "adb0186d-01b1-45e2-b32d-c547ccaa17b8",
   "metadata": {},
   "outputs": [],
   "source": [
    "@timer_test\n",
    "def testmethod():\n",
    "    print(407-200)"
   ]
  },
  {
   "cell_type": "code",
   "execution_count": 38,
   "id": "b2c79683-569d-4163-8e21-d1e023e41f13",
   "metadata": {},
   "outputs": [
    {
     "name": "stdout",
     "output_type": "stream",
     "text": [
      "207\n",
      "start 1676046964.9587936, end 1676046964.959159 0.00036525726318359375\n"
     ]
    }
   ],
   "source": [
    "testmethod()"
   ]
  },
  {
   "cell_type": "code",
   "execution_count": 45,
   "id": "a7b5768b-294a-4e07-a969-9bcb41197066",
   "metadata": {},
   "outputs": [],
   "source": [
    "@timer_test\n",
    "def test3():\n",
    "    for i in range(1,100000):\n",
    "        pass\n"
   ]
  },
  {
   "cell_type": "code",
   "execution_count": 46,
   "id": "9e548261-62f0-42fb-b923-9f00ca218ae8",
   "metadata": {},
   "outputs": [
    {
     "name": "stdout",
     "output_type": "stream",
     "text": [
      "start 1676047054.696908, end 1676047054.6993515 0.002443552017211914\n"
     ]
    }
   ],
   "source": [
    "test3()"
   ]
  },
  {
   "cell_type": "markdown",
   "id": "22707996-d586-458a-a51d-2de1ff9337d7",
   "metadata": {},
   "source": [
    "#### class methods\n",
    "- with out init method we can pass parameter for class using classmethod"
   ]
  },
  {
   "cell_type": "code",
   "execution_count": 50,
   "id": "d5605553-2c16-4f7e-8776-e59afc7ac66b",
   "metadata": {},
   "outputs": [],
   "source": [
    "class student:\n",
    "    def __init__(self,name,email):\n",
    "        self.Name=name\n",
    "        self.Email=email\n",
    "    def stud_details(self):\n",
    "        print(self.Name,self.Email)"
   ]
  },
  {
   "cell_type": "code",
   "execution_count": 52,
   "id": "a55e032d-12f2-4891-b11d-38b419fa70b7",
   "metadata": {},
   "outputs": [
    {
     "name": "stdout",
     "output_type": "stream",
     "text": [
      "Mari maripvm14@gmail.com\n"
     ]
    }
   ],
   "source": [
    "stud_obj=student(\"Mari\",\"maripvm14@gmail.com\")\n",
    "stud_obj.stud_details()"
   ]
  },
  {
   "cell_type": "code",
   "execution_count": 53,
   "id": "5274565c-d1bb-416c-bdbb-a4f2e222ce63",
   "metadata": {},
   "outputs": [
    {
     "data": {
      "text/plain": [
       "'maripvm14@gmail.com'"
      ]
     },
     "execution_count": 53,
     "metadata": {},
     "output_type": "execute_result"
    }
   ],
   "source": [
    "stud_obj.Email"
   ]
  },
  {
   "cell_type": "code",
   "execution_count": 54,
   "id": "dce7b982-8a1c-479e-af5e-e4366ab046ba",
   "metadata": {},
   "outputs": [
    {
     "data": {
      "text/plain": [
       "'Mari'"
      ]
     },
     "execution_count": 54,
     "metadata": {},
     "output_type": "execute_result"
    }
   ],
   "source": [
    "stud_obj.Name"
   ]
  },
  {
   "cell_type": "code",
   "execution_count": 55,
   "id": "3afdf63f-09e0-4af2-9691-b275391b9bb6",
   "metadata": {},
   "outputs": [],
   "source": [
    "class student1:\n",
    "    def __init__(self,name,email):\n",
    "        self.Name=name\n",
    "        self.Email=email\n",
    "    @classmethod\n",
    "    def details(cls,name,email):\n",
    "        return cls(name,email)\n",
    "    def stud_details(self):\n",
    "        print(self.Name,self.Email)"
   ]
  },
  {
   "cell_type": "code",
   "execution_count": 57,
   "id": "c6be742c-f2fd-478e-9f86-d43109b70b95",
   "metadata": {},
   "outputs": [],
   "source": [
    "stu_obj=student1.details(\"mari\",\"maripvm14@gmail.com\")"
   ]
  },
  {
   "cell_type": "code",
   "execution_count": 59,
   "id": "0a62a3bd-8086-48d5-9058-73f37a62cc3c",
   "metadata": {},
   "outputs": [
    {
     "name": "stdout",
     "output_type": "stream",
     "text": [
      "mari maripvm14@gmail.com\n"
     ]
    },
    {
     "data": {
      "text/plain": [
       "'mari'"
      ]
     },
     "execution_count": 59,
     "metadata": {},
     "output_type": "execute_result"
    }
   ],
   "source": [
    "stu_obj.stud_details()\n",
    "stu_obj.Name"
   ]
  },
  {
   "cell_type": "code",
   "execution_count": 73,
   "id": "a0e6c895-623e-4990-8bd6-e2a11c37314d",
   "metadata": {},
   "outputs": [],
   "source": [
    "### outside the function varibal access\n",
    "class student1:\n",
    "    mobile=9788779247\n",
    "    def __init__(self,name,email):\n",
    "        self.Name=name\n",
    "        self.Email=email\n",
    "    ##one more method to change the mobile number\n",
    "    @classmethod\n",
    "    def chagemobile(cls,number):\n",
    "        student1.mobile=number\n",
    "    @classmethod\n",
    "    def details(cls,name,email):\n",
    "        return cls(name,email)\n",
    "    def stud_details(self):\n",
    "        print(self.Name,self.Email,student1.mobile)"
   ]
  },
  {
   "cell_type": "code",
   "execution_count": 63,
   "id": "2e042fce-b503-4788-b253-e36c4fe9dbbf",
   "metadata": {},
   "outputs": [],
   "source": [
    "st2=student1.details(\"mari\",\"marupvm14@gmail.com\")"
   ]
  },
  {
   "cell_type": "code",
   "execution_count": 65,
   "id": "d5d316fb-bb2b-46e1-a555-0c9e648b48a6",
   "metadata": {},
   "outputs": [
    {
     "name": "stdout",
     "output_type": "stream",
     "text": [
      "mari marupvm14@gmail.com\n"
     ]
    }
   ],
   "source": [
    "st2.stud_details()"
   ]
  },
  {
   "cell_type": "code",
   "execution_count": 66,
   "id": "697579bc-8bdf-41e0-92bb-87b290c05403",
   "metadata": {},
   "outputs": [
    {
     "data": {
      "text/plain": [
       "9788779247"
      ]
     },
     "execution_count": 66,
     "metadata": {},
     "output_type": "execute_result"
    }
   ],
   "source": [
    "print(st2.mobile)"
   ]
  },
  {
   "cell_type": "code",
   "execution_count": 67,
   "id": "4135f6bf-2c87-415e-91a4-61e0d7646c27",
   "metadata": {},
   "outputs": [
    {
     "data": {
      "text/plain": [
       "'mari'"
      ]
     },
     "execution_count": 67,
     "metadata": {},
     "output_type": "execute_result"
    }
   ],
   "source": [
    "st2.Name"
   ]
  },
  {
   "cell_type": "code",
   "execution_count": 74,
   "id": "4f2bf4be-c9b7-477c-a725-f12666a01980",
   "metadata": {},
   "outputs": [],
   "source": [
    "st2_obj=student1('mari',\"ranju@gmail.com\")"
   ]
  },
  {
   "cell_type": "code",
   "execution_count": 75,
   "id": "cb81a606-610e-40c1-a2d1-79f3d616d0ad",
   "metadata": {},
   "outputs": [
    {
     "data": {
      "text/plain": [
       "9788779247"
      ]
     },
     "execution_count": 75,
     "metadata": {},
     "output_type": "execute_result"
    }
   ],
   "source": [
    "st2_obj.mobile"
   ]
  },
  {
   "cell_type": "code",
   "execution_count": 76,
   "id": "d9468b63-0d3c-49ef-8b95-0ec7f1c2aa7f",
   "metadata": {},
   "outputs": [
    {
     "name": "stdout",
     "output_type": "stream",
     "text": [
      "mari ranju@gmail.com 9788779247\n"
     ]
    }
   ],
   "source": [
    "st2_obj.stud_details()"
   ]
  },
  {
   "cell_type": "code",
   "execution_count": 77,
   "id": "e1ddff46-350d-4b42-bea0-bf5275dfeb9e",
   "metadata": {},
   "outputs": [],
   "source": [
    "st2_obj.chagemobile(9600548864)"
   ]
  },
  {
   "cell_type": "code",
   "execution_count": 78,
   "id": "154d2a8a-5067-4619-87fa-4bcabc88f925",
   "metadata": {},
   "outputs": [
    {
     "data": {
      "text/plain": [
       "9600548864"
      ]
     },
     "execution_count": 78,
     "metadata": {},
     "output_type": "execute_result"
    }
   ],
   "source": [
    "st2_obj.mobile"
   ]
  },
  {
   "cell_type": "markdown",
   "id": "f4375fae-250c-4eb2-91ca-bc8b900ea00d",
   "metadata": {},
   "source": [
    "## Add outside functon to inide the class"
   ]
  },
  {
   "cell_type": "code",
   "execution_count": 87,
   "id": "602f454e-e6a7-4c01-9533-68d8e6647160",
   "metadata": {},
   "outputs": [],
   "source": [
    "\n",
    "class student1:\n",
    "    mobile=9788779247\n",
    "    def __init__(self,name,email):\n",
    "        self.Name=name\n",
    "        self.Email=email\n",
    "    ##one more method to change the mobile number\n",
    "    @classmethod\n",
    "    def chagemobile(cls,number):\n",
    "        student1.mobile=number\n",
    "    @classmethod\n",
    "    def details(cls,name,email):\n",
    "        return cls(name,email)\n",
    "    def stud_details(self):\n",
    "        print(self.Name,self.Email,student1.mobile)"
   ]
  },
  {
   "cell_type": "code",
   "execution_count": 80,
   "id": "6b03b130-9fca-48a4-aea1-3a158f160bbd",
   "metadata": {},
   "outputs": [],
   "source": [
    "def course(cls,coursename):\n",
    "    print(\"course\",coursename)"
   ]
  },
  {
   "cell_type": "markdown",
   "id": "ee8201c5-a0c3-4d23-a97f-9c62b2c76577",
   "metadata": {},
   "source": [
    "### method added to class"
   ]
  },
  {
   "cell_type": "code",
   "execution_count": 83,
   "id": "94a36ba2-b4d0-493a-8b59-42552d7e2e95",
   "metadata": {},
   "outputs": [],
   "source": [
    "student1.course=classmethod(course)"
   ]
  },
  {
   "cell_type": "code",
   "execution_count": 84,
   "id": "41f6bc0f-db71-4701-ba18-182d094c048b",
   "metadata": {},
   "outputs": [
    {
     "name": "stdout",
     "output_type": "stream",
     "text": [
      "course pwskill\n"
     ]
    }
   ],
   "source": [
    "student1.course(\"pwskill\")"
   ]
  },
  {
   "cell_type": "markdown",
   "id": "94e0cd65-4bb8-4811-adf6-bd70bc677fc4",
   "metadata": {},
   "source": [
    "### method remove in the class"
   ]
  },
  {
   "cell_type": "code",
   "execution_count": 86,
   "id": "bd162d3a-f832-4a3e-8fb7-c003531cfd9f",
   "metadata": {},
   "outputs": [],
   "source": [
    "del student1.chagemobile"
   ]
  },
  {
   "cell_type": "code",
   "execution_count": 89,
   "id": "683f78c7-ec65-4f4c-9ca9-8f2016679a68",
   "metadata": {},
   "outputs": [],
   "source": [
    "delattr(student1,\"chagemobile\")"
   ]
  },
  {
   "cell_type": "code",
   "execution_count": 90,
   "id": "0547682c-4ff3-46e7-a7ea-767f97867660",
   "metadata": {},
   "outputs": [
    {
     "data": {
      "text/plain": [
       "9788779247"
      ]
     },
     "execution_count": 90,
     "metadata": {},
     "output_type": "execute_result"
    }
   ],
   "source": [
    "student1.mobile"
   ]
  },
  {
   "cell_type": "code",
   "execution_count": 91,
   "id": "c43e9001-88af-40cb-a1b0-c9e6776a7813",
   "metadata": {},
   "outputs": [],
   "source": [
    "delattr(student1,\"mobile\")"
   ]
  },
  {
   "cell_type": "code",
   "execution_count": 92,
   "id": "dd7882dd-0760-482a-82f2-76c4b65d042f",
   "metadata": {},
   "outputs": [
    {
     "ename": "AttributeError",
     "evalue": "type object 'student1' has no attribute 'mobile'",
     "output_type": "error",
     "traceback": [
      "\u001b[1;31m---------------------------------------------------------------------------\u001b[0m",
      "\u001b[1;31mAttributeError\u001b[0m                            Traceback (most recent call last)",
      "Input \u001b[1;32mIn [92]\u001b[0m, in \u001b[0;36m<cell line: 1>\u001b[1;34m()\u001b[0m\n\u001b[1;32m----> 1\u001b[0m \u001b[43mstudent1\u001b[49m\u001b[38;5;241;43m.\u001b[39;49m\u001b[43mmobile\u001b[49m\n",
      "\u001b[1;31mAttributeError\u001b[0m: type object 'student1' has no attribute 'mobile'"
     ]
    }
   ],
   "source": [
    "student1.mobile"
   ]
  },
  {
   "cell_type": "markdown",
   "id": "0f1a9ee5-7f36-4b2f-9bdb-83f0f324ddbe",
   "metadata": {},
   "source": [
    "## static method\n",
    "- without object cretaion we can access the class methods\n",
    "- function above we can use @staticmethod\n",
    "- class method call inside static method\n",
    "- static method inside another static method also we can call"
   ]
  },
  {
   "cell_type": "code",
   "execution_count": 8,
   "id": "684aabb8-cb0e-4617-b26d-56d90e135eb8",
   "metadata": {},
   "outputs": [
    {
     "name": "stdout",
     "output_type": "stream",
     "text": [
      "mari EEE\n"
     ]
    }
   ],
   "source": [
    "class dep:\n",
    "    def depdetails(self,name,sub):\n",
    "        print(name,sub)\n",
    "\n",
    "cls=dep()\n",
    "cls.depdetails(\"mari\",\"EEE\")"
   ]
  },
  {
   "cell_type": "code",
   "execution_count": 9,
   "id": "cb480e97-1820-4cb2-bcc5-8ac29c9a7862",
   "metadata": {},
   "outputs": [],
   "source": [
    "#without object we can access the method\n",
    "class dep:\n",
    "    def depdetails(self,name,sub):\n",
    "        print(name,sub)\n",
    "    @staticmethod\n",
    "    def depdetailsself(Deptname,studcount):\n",
    "        print(Deptname,studcount)\n"
   ]
  },
  {
   "cell_type": "code",
   "execution_count": 10,
   "id": "532abcda-aeba-41ed-9e08-d3022c943c33",
   "metadata": {},
   "outputs": [
    {
     "name": "stdout",
     "output_type": "stream",
     "text": [
      "EEE 45\n"
     ]
    }
   ],
   "source": [
    "dep.depdetailsself(\"EEE\",45)"
   ]
  },
  {
   "cell_type": "code",
   "execution_count": 18,
   "id": "116b7cc8-c386-4989-be61-8b38e1e55dd3",
   "metadata": {},
   "outputs": [],
   "source": [
    "class pwskill:\n",
    "    def stud(self,name,age,email):\n",
    "        print(name,age,email)\n",
    "    @staticmethod\n",
    "    def mentorname(lst):\n",
    "        print(lst)\n",
    "        \n",
    "    @classmethod\n",
    "    def mentorclass(cls,lst):\n",
    "        cls.mentorname(['mari','jack'])\n",
    "   \n",
    "    def mentornameindi(self,mentorlist):\n",
    "        print(mentorlist)\n",
    "        self.mentorname(mentorlist)"
   ]
  },
  {
   "cell_type": "code",
   "execution_count": 16,
   "id": "3817186a-6c4e-449a-8194-242ae87882f2",
   "metadata": {},
   "outputs": [
    {
     "name": "stdout",
     "output_type": "stream",
     "text": [
      "['mari', 'sen']\n",
      "['mari', 'sen']\n"
     ]
    }
   ],
   "source": [
    "skil_obj=pwskill()\n",
    "skil_obj.mentornameindi(['mari','sen'])"
   ]
  },
  {
   "cell_type": "code",
   "execution_count": 19,
   "id": "bd50450c-8e5c-4b2d-8bfd-af617ee64776",
   "metadata": {},
   "outputs": [
    {
     "name": "stdout",
     "output_type": "stream",
     "text": [
      "['mari', 'sen']\n"
     ]
    }
   ],
   "source": [
    "##static method calling\n",
    "pwskill.mentorname(['mari','sen'])"
   ]
  },
  {
   "cell_type": "code",
   "execution_count": 20,
   "id": "e45f6c06-ac49-4bc2-9592-f6fd260fbb4f",
   "metadata": {},
   "outputs": [
    {
     "name": "stdout",
     "output_type": "stream",
     "text": [
      "['mari', 'jack']\n"
     ]
    }
   ],
   "source": [
    "#classmethod calling\n",
    "pwskill.mentorclass(['ram','som'])"
   ]
  },
  {
   "cell_type": "markdown",
   "id": "bd0d4300-0d26-4fdf-b55f-2bf40d8233cc",
   "metadata": {},
   "source": [
    "### Special (magic/dunder) methods"
   ]
  },
  {
   "cell_type": "code",
   "execution_count": 23,
   "id": "89c15cc5-47e4-48cc-89d7-2c4399245dda",
   "metadata": {},
   "outputs": [
    {
     "data": {
      "text/plain": [
       "['__abs__',\n",
       " '__add__',\n",
       " '__and__',\n",
       " '__bool__',\n",
       " '__ceil__',\n",
       " '__class__',\n",
       " '__delattr__',\n",
       " '__dir__',\n",
       " '__divmod__',\n",
       " '__doc__',\n",
       " '__eq__',\n",
       " '__float__',\n",
       " '__floor__',\n",
       " '__floordiv__',\n",
       " '__format__',\n",
       " '__ge__',\n",
       " '__getattribute__',\n",
       " '__getnewargs__',\n",
       " '__gt__',\n",
       " '__hash__',\n",
       " '__index__',\n",
       " '__init__',\n",
       " '__init_subclass__',\n",
       " '__int__',\n",
       " '__invert__',\n",
       " '__le__',\n",
       " '__lshift__',\n",
       " '__lt__',\n",
       " '__mod__',\n",
       " '__mul__',\n",
       " '__ne__',\n",
       " '__neg__',\n",
       " '__new__',\n",
       " '__or__',\n",
       " '__pos__',\n",
       " '__pow__',\n",
       " '__radd__',\n",
       " '__rand__',\n",
       " '__rdivmod__',\n",
       " '__reduce__',\n",
       " '__reduce_ex__',\n",
       " '__repr__',\n",
       " '__rfloordiv__',\n",
       " '__rlshift__',\n",
       " '__rmod__',\n",
       " '__rmul__',\n",
       " '__ror__',\n",
       " '__round__',\n",
       " '__rpow__',\n",
       " '__rrshift__',\n",
       " '__rshift__',\n",
       " '__rsub__',\n",
       " '__rtruediv__',\n",
       " '__rxor__',\n",
       " '__setattr__',\n",
       " '__sizeof__',\n",
       " '__str__',\n",
       " '__sub__',\n",
       " '__subclasshook__',\n",
       " '__truediv__',\n",
       " '__trunc__',\n",
       " '__xor__',\n",
       " 'as_integer_ratio',\n",
       " 'bit_length',\n",
       " 'conjugate',\n",
       " 'denominator',\n",
       " 'from_bytes',\n",
       " 'imag',\n",
       " 'numerator',\n",
       " 'real',\n",
       " 'to_bytes']"
      ]
     },
     "execution_count": 23,
     "metadata": {},
     "output_type": "execute_result"
    }
   ],
   "source": [
    "##below __methods are magic/dunder methods\n",
    "dir(int)"
   ]
  },
  {
   "cell_type": "code",
   "execution_count": 24,
   "id": "c482b0bc-4a1e-4e6f-a501-f046c11f59b2",
   "metadata": {},
   "outputs": [],
   "source": [
    "a=10"
   ]
  },
  {
   "cell_type": "code",
   "execution_count": 25,
   "id": "ad7e1117-fd79-4ad2-9134-f3c204f23e1a",
   "metadata": {},
   "outputs": [
    {
     "data": {
      "text/plain": [
       "19"
      ]
     },
     "execution_count": 25,
     "metadata": {},
     "output_type": "execute_result"
    }
   ],
   "source": [
    "a+9"
   ]
  },
  {
   "cell_type": "code",
   "execution_count": 30,
   "id": "721218a6-2e0f-40a2-8c9e-c7d8ecb42265",
   "metadata": {},
   "outputs": [
    {
     "data": {
      "text/plain": [
       "19"
      ]
     },
     "execution_count": 30,
     "metadata": {},
     "output_type": "execute_result"
    }
   ],
   "source": [
    "##magic methods we are able to see only use dir(int) then it will show and we can use\n",
    "a.__add__(9)"
   ]
  },
  {
   "cell_type": "code",
   "execution_count": 31,
   "id": "bf25c510-5652-480c-897e-f37df14e2b60",
   "metadata": {},
   "outputs": [
    {
     "data": {
      "text/plain": [
       "['__add__',\n",
       " '__class__',\n",
       " '__contains__',\n",
       " '__delattr__',\n",
       " '__dir__',\n",
       " '__doc__',\n",
       " '__eq__',\n",
       " '__format__',\n",
       " '__ge__',\n",
       " '__getattribute__',\n",
       " '__getitem__',\n",
       " '__getnewargs__',\n",
       " '__gt__',\n",
       " '__hash__',\n",
       " '__init__',\n",
       " '__init_subclass__',\n",
       " '__iter__',\n",
       " '__le__',\n",
       " '__len__',\n",
       " '__lt__',\n",
       " '__mod__',\n",
       " '__mul__',\n",
       " '__ne__',\n",
       " '__new__',\n",
       " '__reduce__',\n",
       " '__reduce_ex__',\n",
       " '__repr__',\n",
       " '__rmod__',\n",
       " '__rmul__',\n",
       " '__setattr__',\n",
       " '__sizeof__',\n",
       " '__str__',\n",
       " '__subclasshook__',\n",
       " 'capitalize',\n",
       " 'casefold',\n",
       " 'center',\n",
       " 'count',\n",
       " 'encode',\n",
       " 'endswith',\n",
       " 'expandtabs',\n",
       " 'find',\n",
       " 'format',\n",
       " 'format_map',\n",
       " 'index',\n",
       " 'isalnum',\n",
       " 'isalpha',\n",
       " 'isascii',\n",
       " 'isdecimal',\n",
       " 'isdigit',\n",
       " 'isidentifier',\n",
       " 'islower',\n",
       " 'isnumeric',\n",
       " 'isprintable',\n",
       " 'isspace',\n",
       " 'istitle',\n",
       " 'isupper',\n",
       " 'join',\n",
       " 'ljust',\n",
       " 'lower',\n",
       " 'lstrip',\n",
       " 'maketrans',\n",
       " 'partition',\n",
       " 'removeprefix',\n",
       " 'removesuffix',\n",
       " 'replace',\n",
       " 'rfind',\n",
       " 'rindex',\n",
       " 'rjust',\n",
       " 'rpartition',\n",
       " 'rsplit',\n",
       " 'rstrip',\n",
       " 'split',\n",
       " 'splitlines',\n",
       " 'startswith',\n",
       " 'strip',\n",
       " 'swapcase',\n",
       " 'title',\n",
       " 'translate',\n",
       " 'upper',\n",
       " 'zfill']"
      ]
     },
     "execution_count": 31,
     "metadata": {},
     "output_type": "execute_result"
    }
   ],
   "source": [
    "dir(str)"
   ]
  },
  {
   "cell_type": "code",
   "execution_count": 33,
   "id": "7a499a3a-ab00-458b-ad98-44b37e64148d",
   "metadata": {},
   "outputs": [
    {
     "data": {
      "text/plain": [
       "'marmuth'"
      ]
     },
     "execution_count": 33,
     "metadata": {},
     "output_type": "execute_result"
    }
   ],
   "source": [
    "b=\"mar\"\n",
    "b+\"muth\""
   ]
  },
  {
   "cell_type": "code",
   "execution_count": 35,
   "id": "73b38f80-17af-46c5-8cec-c801722c16ca",
   "metadata": {},
   "outputs": [
    {
     "data": {
      "text/plain": [
       "'marmuhtu'"
      ]
     },
     "execution_count": 35,
     "metadata": {},
     "output_type": "execute_result"
    }
   ],
   "source": [
    "b.__add__('muhtu')"
   ]
  },
  {
   "cell_type": "code",
   "execution_count": 36,
   "id": "f7efcde9-6b23-404b-8964-82bb61dde6fd",
   "metadata": {},
   "outputs": [],
   "source": [
    "##before init new method is called interannly\n",
    "class skill:\n",
    "    def __init__(self):\n",
    "        print('this is init')"
   ]
  },
  {
   "cell_type": "code",
   "execution_count": 37,
   "id": "70bd5cd7-4de8-4061-8dff-b230fdc2a299",
   "metadata": {},
   "outputs": [
    {
     "name": "stdout",
     "output_type": "stream",
     "text": [
      "this is init\n"
     ]
    }
   ],
   "source": [
    "obj=skill()"
   ]
  },
  {
   "cell_type": "code",
   "execution_count": 38,
   "id": "a908d1c3-2da1-4e86-b099-f3b476e8e451",
   "metadata": {},
   "outputs": [],
   "source": [
    "##writing the new method \n",
    "class skill:\n",
    "    def __new__(cls):\n",
    "        print(\"this is new\")\n",
    "    def __init__(self):\n",
    "        print('this is init')"
   ]
  },
  {
   "cell_type": "code",
   "execution_count": 39,
   "id": "37321304-b5fe-4f0e-804a-67c920d67bf1",
   "metadata": {},
   "outputs": [
    {
     "name": "stdout",
     "output_type": "stream",
     "text": [
      "this is new\n"
     ]
    }
   ],
   "source": [
    "##during object creation init not call because system internally call the new function\n",
    "objsk=skill()"
   ]
  },
  {
   "cell_type": "code",
   "execution_count": 40,
   "id": "0508cbfe-e886-47a8-b4a4-dbfbc4d502b8",
   "metadata": {},
   "outputs": [],
   "source": [
    "objsk"
   ]
  },
  {
   "cell_type": "code",
   "execution_count": 41,
   "id": "22ae64fd-f628-448c-9baf-1ce4ddab8055",
   "metadata": {},
   "outputs": [],
   "source": [
    "\n",
    "\n",
    "class check:\n",
    "    def __init__(self):\n",
    "        self.Name=\"Marimuthu\"\n",
    "    "
   ]
  },
  {
   "cell_type": "code",
   "execution_count": 43,
   "id": "bfceb255-1c91-4f6d-a813-23cbe5fd5a04",
   "metadata": {},
   "outputs": [],
   "source": [
    "che_obj=check()"
   ]
  },
  {
   "cell_type": "code",
   "execution_count": 44,
   "id": "9fa62ff1-27a2-424b-af70-3cc16c6d4886",
   "metadata": {},
   "outputs": [
    {
     "data": {
      "text/plain": [
       "<__main__.check at 0x1e36d3400d0>"
      ]
     },
     "execution_count": 44,
     "metadata": {},
     "output_type": "execute_result"
    }
   ],
   "source": [
    "che_obj"
   ]
  },
  {
   "cell_type": "code",
   "execution_count": null,
   "id": "217f83b0-9403-42ca-817e-de34d05f1c8f",
   "metadata": {},
   "outputs": [],
   "source": [
    "## ## <__main__.check at 0x1e36d3400d0> over ride this values"
   ]
  },
  {
   "cell_type": "code",
   "execution_count": 2,
   "id": "cca45602-c259-4a85-b197-cd1d8c9b30be",
   "metadata": {},
   "outputs": [],
   "source": [
    "class checking:\n",
    "    def __init__(self):\n",
    "        self.Name=\"Marimuthu\"\n",
    "        \n",
    "    def __str__(self):\n",
    "        return \"this is the object\""
   ]
  },
  {
   "cell_type": "code",
   "execution_count": 3,
   "id": "48088175-347b-40b3-b475-f7555153f456",
   "metadata": {},
   "outputs": [],
   "source": [
    "checking_obj=checking()"
   ]
  },
  {
   "cell_type": "code",
   "execution_count": 4,
   "id": "9b8258cf-d970-43b9-b483-a67470d43fc4",
   "metadata": {},
   "outputs": [
    {
     "data": {
      "text/plain": [
       "<__main__.checking at 0x26641ad9790>"
      ]
     },
     "execution_count": 4,
     "metadata": {},
     "output_type": "execute_result"
    }
   ],
   "source": [
    "checking_obj"
   ]
  },
  {
   "cell_type": "markdown",
   "id": "825b5fa4-36e9-4334-89a0-1c90d0c585d8",
   "metadata": {},
   "source": [
    "### property decorators,getters,setters and delets\n",
    "- Getter to retrive the private varibale using @property method"
   ]
  },
  {
   "cell_type": "code",
   "execution_count": 33,
   "id": "9aa1bd5b-d808-45b5-a270-1955dbac97c1",
   "metadata": {},
   "outputs": [],
   "source": [
    "class pwskill:\n",
    "    def __init__(self,coursename,price):\n",
    "        self.__price=price ## private varibale user nota able to access this using object\n",
    "        self.coursename=coursename\n",
    "    def getprice(self):\n",
    "        return self.__price"
   ]
  },
  {
   "cell_type": "code",
   "execution_count": 34,
   "id": "7513e6c7-bbe9-4503-9bef-a5772643c314",
   "metadata": {},
   "outputs": [],
   "source": [
    "pwobj=pwskill(\"data science\",3500)"
   ]
  },
  {
   "cell_type": "code",
   "execution_count": 35,
   "id": "26617f1b-632e-4815-aaaa-856b92c1d4b3",
   "metadata": {},
   "outputs": [
    {
     "data": {
      "text/plain": [
       "'data science'"
      ]
     },
     "execution_count": 35,
     "metadata": {},
     "output_type": "execute_result"
    }
   ],
   "source": [
    "pwobj.coursename"
   ]
  },
  {
   "cell_type": "code",
   "execution_count": 36,
   "id": "35a6f441-ed96-4e42-b2f5-a9edc68ef65f",
   "metadata": {},
   "outputs": [
    {
     "data": {
      "text/plain": [
       "3500"
      ]
     },
     "execution_count": 36,
     "metadata": {},
     "output_type": "execute_result"
    }
   ],
   "source": [
    "pwobj.getprice()"
   ]
  },
  {
   "cell_type": "code",
   "execution_count": 9,
   "id": "2e7b5f64-3f7d-472f-8595-503c4358c1fc",
   "metadata": {},
   "outputs": [
    {
     "data": {
      "text/plain": [
       "3500"
      ]
     },
     "execution_count": 9,
     "metadata": {},
     "output_type": "execute_result"
    }
   ],
   "source": [
    "##how to access private variable\n",
    "pwobj._pwskill__price"
   ]
  },
  {
   "cell_type": "code",
   "execution_count": 48,
   "id": "5a6a9078-41c7-4bf4-9a5b-86a224c02a96",
   "metadata": {},
   "outputs": [],
   "source": [
    "# @property method\n",
    "\n",
    "class pwskill:\n",
    "    def __init__(self,coursename,price):\n",
    "        self.__price=price ## private varibale user nota able to access this using object\n",
    "        self.coursename=coursename\n",
    "    @property ## if you are use propert method we can call this method act as variable\n",
    "    def courseprice(self):\n",
    "        return self.__price\n",
    "    ##function to get the prise\n",
    "    def getprice(self):\n",
    "        return self.__price\n",
    "    ##function to set the amount\n",
    "    def setproice(self,amount):\n",
    "        self.__price=amount\n",
    "    ##setter to set the values\n",
    "    @courseprice.setter\n",
    "    def set_price(self,price):\n",
    "        if price >=3500:\n",
    "            self.__price=price\n",
    "        else:\n",
    "            pass\n",
    "    ##delete the price values\n",
    "    @courseprice.deleter\n",
    "    def picedele(self):\n",
    "        del self.__price\n",
    "        \n",
    "    "
   ]
  },
  {
   "cell_type": "code",
   "execution_count": 49,
   "id": "78493e86-fcc3-4da2-9060-d810bb1e0e78",
   "metadata": {},
   "outputs": [],
   "source": [
    "pwskillobj=pwskill(\"datascience\",3200)"
   ]
  },
  {
   "cell_type": "code",
   "execution_count": 50,
   "id": "a78ee0ee-37aa-4a04-bdcd-c40299c1273d",
   "metadata": {},
   "outputs": [
    {
     "data": {
      "text/plain": [
       "'datascience'"
      ]
     },
     "execution_count": 50,
     "metadata": {},
     "output_type": "execute_result"
    }
   ],
   "source": [
    "pwskillobj.coursename"
   ]
  },
  {
   "cell_type": "code",
   "execution_count": 51,
   "id": "791bd69e-9d98-4343-88fa-040f130183f0",
   "metadata": {},
   "outputs": [
    {
     "name": "stdout",
     "output_type": "stream",
     "text": [
      "property 3200\n",
      "function 3200\n"
     ]
    }
   ],
   "source": [
    "print(\"property\",pwskillobj.courseprice)\n",
    "print(\"function\",pwskillobj.getprice())"
   ]
  },
  {
   "cell_type": "code",
   "execution_count": 52,
   "id": "e565666e-e2b4-4490-8e45-752661361393",
   "metadata": {},
   "outputs": [],
   "source": [
    "## valuse set using function\n",
    "pwskillobj.setproice(5000)\n",
    "\n",
    "##values set using property\n",
    "pwskillobj.set_price=6000"
   ]
  },
  {
   "cell_type": "code",
   "execution_count": 55,
   "id": "ead2d71d-bbc0-4093-9891-a0e96640d68e",
   "metadata": {},
   "outputs": [
    {
     "data": {
      "text/plain": [
       "6000"
      ]
     },
     "execution_count": 55,
     "metadata": {},
     "output_type": "execute_result"
    }
   ],
   "source": [
    "pwskillobj.courseprice"
   ]
  },
  {
   "cell_type": "code",
   "execution_count": 56,
   "id": "ac84bd9c-d429-43be-833d-aa427268a93b",
   "metadata": {},
   "outputs": [
    {
     "data": {
      "text/plain": [
       "6000"
      ]
     },
     "execution_count": 56,
     "metadata": {},
     "output_type": "execute_result"
    }
   ],
   "source": [
    "pwskillobj.picedele"
   ]
  },
  {
   "cell_type": "code",
   "execution_count": 59,
   "id": "a58f80c5-a18c-404b-aeab-3091d53eaacf",
   "metadata": {},
   "outputs": [],
   "source": [
    "del pwskillobj.picedele"
   ]
  },
  {
   "cell_type": "code",
   "execution_count": 60,
   "id": "085b76da-2801-4453-9422-69906e820971",
   "metadata": {},
   "outputs": [
    {
     "ename": "AttributeError",
     "evalue": "'pwskill' object has no attribute '_pwskill__price'",
     "output_type": "error",
     "traceback": [
      "\u001b[1;31m---------------------------------------------------------------------------\u001b[0m",
      "\u001b[1;31mAttributeError\u001b[0m                            Traceback (most recent call last)",
      "Input \u001b[1;32mIn [60]\u001b[0m, in \u001b[0;36m<cell line: 1>\u001b[1;34m()\u001b[0m\n\u001b[1;32m----> 1\u001b[0m \u001b[43mpwskillobj\u001b[49m\u001b[38;5;241;43m.\u001b[39;49m\u001b[43mcourseprice\u001b[49m\n",
      "Input \u001b[1;32mIn [48]\u001b[0m, in \u001b[0;36mpwskill.courseprice\u001b[1;34m(self)\u001b[0m\n\u001b[0;32m      7\u001b[0m \u001b[38;5;129m@property\u001b[39m \u001b[38;5;66;03m## if you are use propert method we can call this method act as variable\u001b[39;00m\n\u001b[0;32m      8\u001b[0m \u001b[38;5;28;01mdef\u001b[39;00m \u001b[38;5;21mcourseprice\u001b[39m(\u001b[38;5;28mself\u001b[39m):\n\u001b[1;32m----> 9\u001b[0m     \u001b[38;5;28;01mreturn\u001b[39;00m \u001b[38;5;28;43mself\u001b[39;49m\u001b[38;5;241;43m.\u001b[39;49m\u001b[43m__price\u001b[49m\n",
      "\u001b[1;31mAttributeError\u001b[0m: 'pwskill' object has no attribute '_pwskill__price'"
     ]
    }
   ],
   "source": [
    "pwskillobj.courseprice"
   ]
  },
  {
   "cell_type": "code",
   "execution_count": null,
   "id": "42ffb996-aa9b-4bb0-84a8-fa56d23f9a8c",
   "metadata": {},
   "outputs": [],
   "source": []
  }
 ],
 "metadata": {
  "kernelspec": {
   "display_name": "Python 3 (ipykernel)",
   "language": "python",
   "name": "python3"
  },
  "language_info": {
   "codemirror_mode": {
    "name": "ipython",
    "version": 3
   },
   "file_extension": ".py",
   "mimetype": "text/x-python",
   "name": "python",
   "nbconvert_exporter": "python",
   "pygments_lexer": "ipython3",
   "version": "3.9.12"
  }
 },
 "nbformat": 4,
 "nbformat_minor": 5
}
