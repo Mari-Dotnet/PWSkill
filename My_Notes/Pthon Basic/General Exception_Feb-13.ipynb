{
 "cells": [
  {
   "cell_type": "code",
   "execution_count": 3,
   "id": "726cd2ee-b6b1-4c91-ab63-ffb785f54c10",
   "metadata": {},
   "outputs": [
    {
     "name": "stdout",
     "output_type": "stream",
     "text": [
      "division by zero\n"
     ]
    }
   ],
   "source": [
    "try:\n",
    "    a=10\n",
    "    10/0\n",
    "except ZeroDivisionError as ex:\n",
    "    print(ex)\n",
    "    "
   ]
  },
  {
   "cell_type": "code",
   "execution_count": null,
   "id": "76b2093e-65b2-4abe-b7d5-09dc465b9bb6",
   "metadata": {},
   "outputs": [],
   "source": []
  },
  {
   "cell_type": "code",
   "execution_count": 6,
   "id": "4b6aa03c-5370-4781-8567-b75f3d23a8d1",
   "metadata": {},
   "outputs": [
    {
     "name": "stdout",
     "output_type": "stream",
     "text": [
      "invalid literal for int() with base 10: 'ha'\n"
     ]
    }
   ],
   "source": [
    "try:\n",
    "    int('ha')\n",
    "except (ValueError, TypeError) as ex:\n",
    "    print(ex)\n"
   ]
  },
  {
   "cell_type": "code",
   "execution_count": 4,
   "id": "f5372e58-aec2-4fd5-964b-5be310e726f7",
   "metadata": {},
   "outputs": [
    {
     "ename": "ValueError",
     "evalue": "invalid literal for int() with base 10: 'thu'",
     "output_type": "error",
     "traceback": [
      "\u001b[1;31m---------------------------------------------------------------------------\u001b[0m",
      "\u001b[1;31mValueError\u001b[0m                                Traceback (most recent call last)",
      "Input \u001b[1;32mIn [4]\u001b[0m, in \u001b[0;36m<cell line: 1>\u001b[1;34m()\u001b[0m\n\u001b[1;32m----> 1\u001b[0m \u001b[38;5;28;43mint\u001b[39;49m\u001b[43m(\u001b[49m\u001b[38;5;124;43m'\u001b[39;49m\u001b[38;5;124;43mthu\u001b[39;49m\u001b[38;5;124;43m'\u001b[39;49m\u001b[43m)\u001b[49m\n",
      "\u001b[1;31mValueError\u001b[0m: invalid literal for int() with base 10: 'thu'"
     ]
    }
   ],
   "source": [
    "int('thu')"
   ]
  },
  {
   "cell_type": "code",
   "execution_count": 9,
   "id": "89bd8d02-cb6a-4753-9208-2666916861d7",
   "metadata": {},
   "outputs": [
    {
     "name": "stdout",
     "output_type": "stream",
     "text": [
      "No module named 'sufd'\n"
     ]
    }
   ],
   "source": [
    "try:\n",
    "    import sufd\n",
    "except ImportError as e:\n",
    "    print(e)"
   ]
  },
  {
   "cell_type": "code",
   "execution_count": 10,
   "id": "b04fef35-4544-4f74-b45f-d459dd427ef4",
   "metadata": {},
   "outputs": [
    {
     "name": "stdout",
     "output_type": "stream",
     "text": [
      "'key10'\n"
     ]
    }
   ],
   "source": [
    "try:\n",
    "    d={\"1\":[2,3,4],\"key1\":[3,4,5,]}\n",
    "    d[\"key10\"]\n",
    "except KeyError as e:\n",
    "    print(e)"
   ]
  },
  {
   "cell_type": "code",
   "execution_count": 12,
   "id": "40572c7f-463c-4560-afac-4b1321ce5314",
   "metadata": {},
   "outputs": [
    {
     "name": "stdout",
     "output_type": "stream",
     "text": [
      "'str' object has no attribute 'totest'\n"
     ]
    }
   ],
   "source": [
    "try:\n",
    "    \"mari\".totest()\n",
    "except AttributeError as ex:\n",
    "    print(ex)"
   ]
  },
  {
   "cell_type": "code",
   "execution_count": 13,
   "id": "2e21143c-43ee-4cf7-9eb2-767ad8a9cabc",
   "metadata": {},
   "outputs": [
    {
     "name": "stdout",
     "output_type": "stream",
     "text": [
      "list index out of range\n"
     ]
    }
   ],
   "source": [
    "try:\n",
    "    lst=[12,3,5]\n",
    "    lst[10]\n",
    "except IndexError as ex:\n",
    "    print(ex)"
   ]
  },
  {
   "cell_type": "code",
   "execution_count": 14,
   "id": "2e201cde-575c-4db1-86ef-409a35341eb6",
   "metadata": {},
   "outputs": [
    {
     "name": "stdout",
     "output_type": "stream",
     "text": [
      "unsupported operand type(s) for +: 'int' and 'str'\n"
     ]
    }
   ],
   "source": [
    "try:\n",
    "    123+\"sdsf\"\n",
    "except TypeError as ex:\n",
    "    print(ex)"
   ]
  },
  {
   "cell_type": "code",
   "execution_count": 16,
   "id": "a322b03e-816b-4513-9ed5-47900457e624",
   "metadata": {},
   "outputs": [
    {
     "name": "stdout",
     "output_type": "stream",
     "text": [
      "[Errno 2] No such file or directory: 'tst.txt'\n"
     ]
    }
   ],
   "source": [
    "try:\n",
    "    with open('tst.txt','r') as f:\n",
    "        pass\n",
    "except FileNotFoundError as ex:\n",
    "    print(ex)\n",
    "    "
   ]
  },
  {
   "cell_type": "markdown",
   "id": "272a69b5-7fb3-4eba-926a-bd4b222429ba",
   "metadata": {},
   "source": [
    "### best practise exception handling"
   ]
  },
  {
   "cell_type": "code",
   "execution_count": 17,
   "id": "0f564726-11b9-44ce-a69e-7412e0039c8b",
   "metadata": {},
   "outputs": [
    {
     "name": "stdout",
     "output_type": "stream",
     "text": [
      "division by zero\n"
     ]
    }
   ],
   "source": [
    "## user always specific exception\n",
    "try:\n",
    "    10/0\n",
    "except Exception as ex:\n",
    "    print(ex)"
   ]
  },
  {
   "cell_type": "code",
   "execution_count": 20,
   "id": "123e3131-6977-460a-bb61-5d452ffcbe9c",
   "metadata": {},
   "outputs": [
    {
     "name": "stdout",
     "output_type": "stream",
     "text": [
      "This is zero divdion error handling  division by zero\n"
     ]
    }
   ],
   "source": [
    "# print always  correct message with log\n",
    "try:\n",
    "    10/0\n",
    "except ZeroDivisionError as ex:\n",
    "    print(\"This is zero divdion error handling \",ex)\n",
    "    "
   ]
  },
  {
   "cell_type": "code",
   "execution_count": 50,
   "id": "3e97b948-e9c9-40af-92cb-36c554a5f335",
   "metadata": {},
   "outputs": [],
   "source": [
    "## always use logging to log our error\n",
    "import logging\n",
    "logging.basicConfig(filename= \"error_log.log\",level=logging.ERROR)"
   ]
  },
  {
   "cell_type": "code",
   "execution_count": 51,
   "id": "01373049-e373-46d5-96cd-92d733ab53fc",
   "metadata": {},
   "outputs": [
    {
     "name": "stderr",
     "output_type": "stream",
     "text": [
      "ERROR:root:this is zero divison error division by zero\n"
     ]
    }
   ],
   "source": [
    "try:\n",
    "    10/0\n",
    "except ZeroDivisionError as ex:\n",
    "    logging.error(\"this is zero divison error {}\".format(ex))"
   ]
  },
  {
   "cell_type": "code",
   "execution_count": 53,
   "id": "144f8cf5-89e4-465a-bb8e-2c12957e924b",
   "metadata": {},
   "outputs": [
    {
     "name": "stderr",
     "output_type": "stream",
     "text": [
      "ERROR:root:this is zero divison error division by zero\n"
     ]
    }
   ],
   "source": [
    "## always avoid write multiple exception handling\n",
    "try:\n",
    "    10/0\n",
    "except KeyError as ex :\n",
    "    logging.error(\"this is key not found error {}\".format(ex))\n",
    "except ZeroDivisionError as ex:\n",
    "    logging.error(\"this is zero divison error {}\".format(ex))"
   ]
  },
  {
   "cell_type": "code",
   "execution_count": 54,
   "id": "1d4c01e3-3a4b-4885-a05d-889c79c0d10b",
   "metadata": {},
   "outputs": [],
   "source": [
    "## prepare a proper  documentation\n",
    "## objct class function"
   ]
  },
  {
   "cell_type": "code",
   "execution_count": 55,
   "id": "b134cd37-78be-4600-a3c8-732c0b3c2cca",
   "metadata": {},
   "outputs": [],
   "source": [
    "## clean up all resources\n",
    "try:\n",
    "    with open(\"tst.txt\",\"w\") as f:\n",
    "        f.write(\"thsis is my line\")\n",
    "except FileNotFoundError as ex:\n",
    "    print(\"File not fount {}\".format(ex))\n",
    "finally:\n",
    "    f.close()"
   ]
  },
  {
   "cell_type": "code",
   "execution_count": 58,
   "id": "fe1f9b19-3c7a-4161-a351-906e8dec5936",
   "metadata": {},
   "outputs": [
    {
     "ename": "NameError",
     "evalue": "name 'k' is not defined",
     "output_type": "error",
     "traceback": [
      "\u001b[1;31m---------------------------------------------------------------------------\u001b[0m",
      "\u001b[1;31mNameError\u001b[0m                                 Traceback (most recent call last)",
      "Input \u001b[1;32mIn [58]\u001b[0m, in \u001b[0;36m<cell line: 1>\u001b[1;34m()\u001b[0m\n\u001b[1;32m----> 1\u001b[0m \u001b[43mk\u001b[49m\n",
      "\u001b[1;31mNameError\u001b[0m: name 'k' is not defined"
     ]
    }
   ],
   "source": [
    "k"
   ]
  },
  {
   "cell_type": "code",
   "execution_count": 60,
   "id": "f0e9cb50-1b0e-4ba2-9240-9695db8ad051",
   "metadata": {},
   "outputs": [
    {
     "ename": "NameError",
     "evalue": "name 'g' is not defined",
     "output_type": "error",
     "traceback": [
      "\u001b[1;31m---------------------------------------------------------------------------\u001b[0m",
      "\u001b[1;31mNameError\u001b[0m                                 Traceback (most recent call last)",
      "Input \u001b[1;32mIn [60]\u001b[0m, in \u001b[0;36m<cell line: 1>\u001b[1;34m()\u001b[0m\n\u001b[1;32m----> 1\u001b[0m c\u001b[38;5;241m=\u001b[39m\u001b[43mg\u001b[49m\n",
      "\u001b[1;31mNameError\u001b[0m: name 'g' is not defined"
     ]
    }
   ],
   "source": [
    "c=g"
   ]
  },
  {
   "cell_type": "code",
   "execution_count": 62,
   "id": "b0acf21d-ac76-433d-8b36-f76fb1ffa560",
   "metadata": {},
   "outputs": [
    {
     "ename": "SyntaxError",
     "evalue": "Missing parentheses in call to 'print'. Did you mean print(\"Square=\",R)? (1185114226.py, line 4)",
     "output_type": "error",
     "traceback": [
      "\u001b[1;36m  Input \u001b[1;32mIn [62]\u001b[1;36m\u001b[0m\n\u001b[1;33m    print \"Square=\",R\u001b[0m\n\u001b[1;37m          ^\u001b[0m\n\u001b[1;31mSyntaxError\u001b[0m\u001b[1;31m:\u001b[0m Missing parentheses in call to 'print'. Did you mean print(\"Square=\",R)?\n"
     ]
    }
   ],
   "source": [
    "X = int(input(\"Enter a Number\")) \n",
    "\n",
    "R = X*X \n",
    "print \"Square=\",R"
   ]
  },
  {
   "cell_type": "code",
   "execution_count": null,
   "id": "bd7b5773-3239-4c38-9820-45945418abda",
   "metadata": {},
   "outputs": [],
   "source": []
  }
 ],
 "metadata": {
  "kernelspec": {
   "display_name": "Python 3 (ipykernel)",
   "language": "python",
   "name": "python3"
  },
  "language_info": {
   "codemirror_mode": {
    "name": "ipython",
    "version": 3
   },
   "file_extension": ".py",
   "mimetype": "text/x-python",
   "name": "python",
   "nbconvert_exporter": "python",
   "pygments_lexer": "ipython3",
   "version": "3.9.12"
  }
 },
 "nbformat": 4,
 "nbformat_minor": 5
}
