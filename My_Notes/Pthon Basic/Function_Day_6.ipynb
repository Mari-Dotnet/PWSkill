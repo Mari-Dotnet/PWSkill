{
 "cells": [
  {
   "cell_type": "markdown",
   "id": "1597ccf4-81da-4795-95d5-d4c51b78759a",
   "metadata": {},
   "source": [
    "#### Function:"
   ]
  },
  {
   "cell_type": "code",
   "execution_count": 2,
   "id": "6fd8eaba-6bc5-4205-8257-0c421e679228",
   "metadata": {},
   "outputs": [],
   "source": [
    "def add(a):\n",
    "    print(a**a)"
   ]
  },
  {
   "cell_type": "code",
   "execution_count": 6,
   "id": "34262008-e91e-4f55-a73d-e9272f96ff99",
   "metadata": {},
   "outputs": [
    {
     "name": "stdout",
     "output_type": "stream",
     "text": [
      "256\n"
     ]
    }
   ],
   "source": [
    "add(4)"
   ]
  },
  {
   "cell_type": "code",
   "execution_count": 7,
   "id": "bef92f40-704e-4772-b9b9-d508d35402e5",
   "metadata": {},
   "outputs": [],
   "source": [
    "def check():\n",
    "    return 3*3+34"
   ]
  },
  {
   "cell_type": "code",
   "execution_count": 9,
   "id": "cb38329c-6900-447d-abf1-d22baa84ec1f",
   "metadata": {},
   "outputs": [
    {
     "data": {
      "text/plain": [
       "int"
      ]
     },
     "execution_count": 9,
     "metadata": {},
     "output_type": "execute_result"
    }
   ],
   "source": [
    "type(check())"
   ]
  },
  {
   "cell_type": "code",
   "execution_count": 10,
   "id": "b6cbdbe3-7620-4b12-a821-5390a54554ea",
   "metadata": {},
   "outputs": [],
   "source": [
    "l = [1,2,3,4,5,\"sudh\" , \"pwskills\" , [1,2,3,34,45]]"
   ]
  },
  {
   "cell_type": "code",
   "execution_count": 48,
   "id": "56f99c9a-1f75-4e1b-8b7a-813540b5aa41",
   "metadata": {},
   "outputs": [
    {
     "name": "stdout",
     "output_type": "stream",
     "text": [
      "number 1\n",
      "number 2\n",
      "number 3\n",
      "number 4\n",
      "number 5\n",
      "number sudh\n",
      "number pwskills\n",
      "list number 1\n",
      "list number 2\n",
      "list number 3\n",
      "list number 34\n",
      "list number 45\n"
     ]
    },
    {
     "data": {
      "text/plain": [
       "[None, None, None, None, None, None, None, [None, None, None, None, None]]"
      ]
     },
     "execution_count": 48,
     "metadata": {},
     "output_type": "execute_result"
    }
   ],
   "source": [
    " [[print(\"list number {}\".format(j)) for j in i]  if type(i)==list   else print(\"number {}\".format(i))   for i in l   ]"
   ]
  },
  {
   "cell_type": "code",
   "execution_count": 49,
   "id": "bff74a0a-1a5c-4a89-a107-01d1a4975f93",
   "metadata": {},
   "outputs": [
    {
     "data": {
      "text/plain": [
       "[1, 0, 1, 0, 1, 0, 1, 0, 1, 0]"
      ]
     },
     "execution_count": 49,
     "metadata": {},
     "output_type": "execute_result"
    }
   ],
   "source": [
    "[0 if i%2==0 else 1 for i in range(1,11)]"
   ]
  },
  {
   "cell_type": "code",
   "execution_count": 53,
   "id": "1e49c3e7-69cc-4cd9-85bf-b4d925a57ac0",
   "metadata": {},
   "outputs": [
    {
     "name": "stdout",
     "output_type": "stream",
     "text": [
      "[(1, 1), (1, 2), (1, 3), (1, 4), (1, 5), (1, 6), (1, 7), (1, 8), (1, 9), (1, 10), (2, 1), (2, 2), (2, 3), (2, 4), (2, 5), (2, 6), (2, 7), (2, 8), (2, 9), (2, 10), (3, 1), (3, 2), (3, 3), (3, 4), (3, 5), (3, 6), (3, 7), (3, 8), (3, 9), (3, 10), (4, 1), (4, 2), (4, 3), (4, 4), (4, 5), (4, 6), (4, 7), (4, 8), (4, 9), (4, 10), (5, 1), (5, 2), (5, 3), (5, 4), (5, 5), (5, 6), (5, 7), (5, 8), (5, 9), (5, 10), (6, 1), (6, 2), (6, 3), (6, 4), (6, 5), (6, 6), (6, 7), (6, 8), (6, 9), (6, 10), (7, 1), (7, 2), (7, 3), (7, 4), (7, 5), (7, 6), (7, 7), (7, 8), (7, 9), (7, 10), (8, 1), (8, 2), (8, 3), (8, 4), (8, 5), (8, 6), (8, 7), (8, 8), (8, 9), (8, 10), (9, 1), (9, 2), (9, 3), (9, 4), (9, 5), (9, 6), (9, 7), (9, 8), (9, 9), (9, 10), (10, 1), (10, 2), (10, 3), (10, 4), (10, 5), (10, 6), (10, 7), (10, 8), (10, 9), (10, 10)]\n"
     ]
    }
   ],
   "source": [
    "lst=[(i,j) for i in range(1,11) for j in range(1,11)]\n",
    "print(lst)"
   ]
  },
  {
   "cell_type": "code",
   "execution_count": 54,
   "id": "63c8cd84-e822-499d-96a8-7f6e69b09f21",
   "metadata": {},
   "outputs": [],
   "source": [
    "atuple = (100, 200, 300, 400, 500)"
   ]
  },
  {
   "cell_type": "code",
   "execution_count": 57,
   "id": "2fadc69a-2fa7-4d59-b833-d3f82ede7964",
   "metadata": {},
   "outputs": [
    {
     "data": {
      "text/plain": [
       "(200, 300, 400)"
      ]
     },
     "execution_count": 57,
     "metadata": {},
     "output_type": "execute_result"
    }
   ],
   "source": [
    "atuple[-4:-1]"
   ]
  },
  {
   "cell_type": "code",
   "execution_count": 64,
   "id": "3f932be6-f791-45bb-a226-15f526ef2d7b",
   "metadata": {},
   "outputs": [
    {
     "name": "stdout",
     "output_type": "stream",
     "text": [
      "<class 'str'>\n"
     ]
    }
   ],
   "source": [
    "atuple = (\"Orange\")\n",
    "\n",
    "print(type(atuple))"
   ]
  },
  {
   "cell_type": "code",
   "execution_count": 67,
   "id": "10f2e101-58cc-4eca-92c1-ea6f31cf3832",
   "metadata": {},
   "outputs": [],
   "source": [
    "s={1}"
   ]
  },
  {
   "cell_type": "code",
   "execution_count": 68,
   "id": "36e7271e-6795-4862-a37f-0bbb1c5718a6",
   "metadata": {},
   "outputs": [
    {
     "data": {
      "text/plain": [
       "set"
      ]
     },
     "execution_count": 68,
     "metadata": {},
     "output_type": "execute_result"
    }
   ],
   "source": [
    "type(s)"
   ]
  },
  {
   "cell_type": "code",
   "execution_count": 69,
   "id": "677fefd8-3afd-4cd0-956a-17257d846f6f",
   "metadata": {},
   "outputs": [],
   "source": [
    "atu=(100,)"
   ]
  },
  {
   "cell_type": "code",
   "execution_count": 71,
   "id": "8c388134-cc71-40c0-b061-06c4b88c6828",
   "metadata": {},
   "outputs": [
    {
     "data": {
      "text/plain": [
       "(100, 100)"
      ]
     },
     "execution_count": 71,
     "metadata": {},
     "output_type": "execute_result"
    }
   ],
   "source": [
    "atu*2"
   ]
  },
  {
   "cell_type": "code",
   "execution_count": 72,
   "id": "5225421b-9337-493c-af5a-ae16363a91c9",
   "metadata": {},
   "outputs": [],
   "source": [
    "dict={\"name\":\"mari\",\"salary\":8000}"
   ]
  },
  {
   "cell_type": "code",
   "execution_count": 80,
   "id": "cadb3728-152f-4104-9f85-fc2d98c3fa4d",
   "metadata": {},
   "outputs": [],
   "source": [
    "dict.get(\"age\")"
   ]
  },
  {
   "cell_type": "code",
   "execution_count": 77,
   "id": "c46db3bc-eb53-4ce9-a093-507dced15e5b",
   "metadata": {},
   "outputs": [
    {
     "data": {
      "text/plain": [
       "{'name': 'mari', 'salary': 8000}"
      ]
     },
     "execution_count": 77,
     "metadata": {},
     "output_type": "execute_result"
    }
   ],
   "source": [
    "dict"
   ]
  },
  {
   "cell_type": "code",
   "execution_count": null,
   "id": "251dcced-de92-4153-be1f-02ca2005202d",
   "metadata": {},
   "outputs": [],
   "source": []
  }
 ],
 "metadata": {
  "kernelspec": {
   "display_name": "Python 3 (ipykernel)",
   "language": "python",
   "name": "python3"
  },
  "language_info": {
   "codemirror_mode": {
    "name": "ipython",
    "version": 3
   },
   "file_extension": ".py",
   "mimetype": "text/x-python",
   "name": "python",
   "nbconvert_exporter": "python",
   "pygments_lexer": "ipython3",
   "version": "3.9.12"
  }
 },
 "nbformat": 4,
 "nbformat_minor": 5
}
