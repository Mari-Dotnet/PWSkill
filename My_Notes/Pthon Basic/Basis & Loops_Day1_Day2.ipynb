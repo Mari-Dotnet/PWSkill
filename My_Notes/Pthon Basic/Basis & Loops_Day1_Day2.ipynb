{
 "cells": [
  {
   "cell_type": "code",
   "execution_count": 7,
   "id": "619c6da1-2765-459f-945a-71ee7cde1cda",
   "metadata": {},
   "outputs": [],
   "source": [
    "a=10"
   ]
  },
  {
   "cell_type": "code",
   "execution_count": 8,
   "id": "2e6cfc0a-0517-4871-9293-d340247e1f65",
   "metadata": {},
   "outputs": [
    {
     "data": {
      "text/plain": [
       "10"
      ]
     },
     "execution_count": 8,
     "metadata": {},
     "output_type": "execute_result"
    }
   ],
   "source": [
    "a"
   ]
  },
  {
   "cell_type": "code",
   "execution_count": 6,
   "id": "93a1a056-198f-44b7-8c40-8e4ca80c24a9",
   "metadata": {},
   "outputs": [
    {
     "data": {
      "text/plain": [
       "2"
      ]
     },
     "execution_count": 6,
     "metadata": {},
     "output_type": "execute_result"
    }
   ],
   "source": [
    "1+1"
   ]
  },
  {
   "cell_type": "markdown",
   "id": "8defd392-254d-44f9-86ea-86370bcecd37",
   "metadata": {},
   "source": [
    "#### This is Markdown "
   ]
  },
  {
   "cell_type": "raw",
   "id": "30254465-f3c8-4f3b-9cb2-bfa6dce90482",
   "metadata": {},
   "source": [
    "\"\"\"\n",
    "heloo everyone\n",
    "\"\"\""
   ]
  },
  {
   "cell_type": "raw",
   "id": "f6c2921c-7057-4f9f-8f49-56341a437b57",
   "metadata": {},
   "source": [
    "a=10"
   ]
  },
  {
   "cell_type": "raw",
   "id": "8aec0c43-121b-4a15-8cb1-401847812ff2",
   "metadata": {},
   "source": [
    "Hi all\n",
    "<span>hai</span>"
   ]
  },
  {
   "cell_type": "code",
   "execution_count": 13,
   "id": "e292afbf-e435-4627-b5db-ed1e3aaa9e20",
   "metadata": {},
   "outputs": [
    {
     "data": {
      "text/plain": [
       "'\\njhskjfkdsjf\\ndkjfkdfkdsf\\n'"
      ]
     },
     "execution_count": 13,
     "metadata": {},
     "output_type": "execute_result"
    }
   ],
   "source": [
    "'''\n",
    "jhskjfkdsjf\n",
    "dkjfkdfkdsf\n",
    "'''"
   ]
  },
  {
   "cell_type": "code",
   "execution_count": 16,
   "id": "da3c55d3-d767-4d6a-87ed-f33b2fb2b700",
   "metadata": {},
   "outputs": [],
   "source": [
    "##Dynamic Type(run time to check the data type)\n",
    "a=10"
   ]
  },
  {
   "cell_type": "code",
   "execution_count": 17,
   "id": "07a80da8-4f71-4786-83dd-eb0d12efca53",
   "metadata": {},
   "outputs": [],
   "source": [
    "a='str'"
   ]
  },
  {
   "cell_type": "code",
   "execution_count": 18,
   "id": "c919c35b-0cf8-4f93-8e8d-4e1b005e5487",
   "metadata": {},
   "outputs": [
    {
     "data": {
      "text/plain": [
       "str"
      ]
     },
     "execution_count": 18,
     "metadata": {},
     "output_type": "execute_result"
    }
   ],
   "source": [
    "type(a)"
   ]
  },
  {
   "cell_type": "code",
   "execution_count": 19,
   "id": "1956799e-67ee-440b-83c7-0f8fcff989bd",
   "metadata": {},
   "outputs": [
    {
     "data": {
      "text/plain": [
       "'str'"
      ]
     },
     "execution_count": 19,
     "metadata": {},
     "output_type": "execute_result"
    }
   ],
   "source": [
    "str(a)"
   ]
  },
  {
   "cell_type": "code",
   "execution_count": 23,
   "id": "15737cd3-b14b-4ceb-b890-7009aaea091d",
   "metadata": {},
   "outputs": [
    {
     "name": "stdout",
     "output_type": "stream",
     "text": [
      "hello world\n"
     ]
    }
   ],
   "source": [
    "print('hello world')"
   ]
  },
  {
   "cell_type": "code",
   "execution_count": 21,
   "id": "1d4512d0-1859-42bc-910c-068e26ca482f",
   "metadata": {},
   "outputs": [
    {
     "name": "stdout",
     "output_type": "stream",
     "text": [
      "123\n"
     ]
    }
   ],
   "source": [
    "print(123)"
   ]
  },
  {
   "cell_type": "code",
   "execution_count": 26,
   "id": "8f44fc52-ae41-48a1-8c00-36e28a08acc0",
   "metadata": {},
   "outputs": [
    {
     "name": "stdout",
     "output_type": "stream",
     "text": [
      "My age is: 10\n"
     ]
    }
   ],
   "source": [
    "age=10\n",
    "print('My age is:',age)"
   ]
  },
  {
   "cell_type": "code",
   "execution_count": 29,
   "id": "ce620970-7aeb-42bd-9f88-cf99fabe8f5f",
   "metadata": {},
   "outputs": [
    {
     "name": "stdout",
     "output_type": "stream",
     "text": [
      "my age is 10\n"
     ]
    }
   ],
   "source": [
    "# f=> means format the string\n",
    "print(f\"my age is {age}\")"
   ]
  },
  {
   "cell_type": "code",
   "execution_count": 30,
   "id": "4cf157a6-38b5-4270-891b-47fbd9389602",
   "metadata": {},
   "outputs": [
    {
     "name": "stdout",
     "output_type": "stream",
     "text": [
      "my name isMari and age is 32\n"
     ]
    }
   ],
   "source": [
    "name=\"Mari\"\n",
    "age=32\n",
    "print(f\"my name is{name} and age is {age}\")"
   ]
  },
  {
   "cell_type": "code",
   "execution_count": 35,
   "id": "f17b95e8-42dd-4319-8c8e-690427bced52",
   "metadata": {},
   "outputs": [
    {
     "name": "stdout",
     "output_type": "stream",
     "text": [
      "my name is Mari and age is 32\n"
     ]
    }
   ],
   "source": [
    "print(\"my name is {} and age is {}\".format(name,age))"
   ]
  },
  {
   "cell_type": "code",
   "execution_count": 34,
   "id": "5ea95974-b389-4b69-ae61-c140ff399efd",
   "metadata": {},
   "outputs": [
    {
     "name": "stdout",
     "output_type": "stream",
     "text": [
      "my name is Mari and age is 32\n"
     ]
    }
   ],
   "source": [
    "##one more print statement\n",
    "print(\"my name is {firstname} and age is {age}\".format(firstname=name,age=age))"
   ]
  },
  {
   "cell_type": "markdown",
   "id": "f06f19b6-83e8-46bb-9b3d-c84048545128",
   "metadata": {},
   "source": [
    " ### control Flow\n",
    " #### decision making statememts"
   ]
  },
  {
   "cell_type": "code",
   "execution_count": 51,
   "id": "f7542dca-40e7-403a-8486-638dc42e5c38",
   "metadata": {},
   "outputs": [
    {
     "name": "stdout",
     "output_type": "stream",
     "text": [
      "allow to vote\n"
     ]
    }
   ],
   "source": [
    "##If\n",
    "age=18\n",
    "if age >= 18:\n",
    "    print(\"allow to vote\")\n",
    "else:\n",
    "    print(\"not allow\")\n"
   ]
  },
  {
   "cell_type": "code",
   "execution_count": 53,
   "id": "c1908f18-2c1c-483c-9e43-247bd1e72d14",
   "metadata": {},
   "outputs": [
    {
     "data": {
      "text/plain": [
       "False"
      ]
     },
     "execution_count": 53,
     "metadata": {},
     "output_type": "execute_result"
    }
   ],
   "source": [
    "18<18"
   ]
  },
  {
   "cell_type": "code",
   "execution_count": 62,
   "id": "bd786328-aa5d-4682-bb0a-fbbda6571ba2",
   "metadata": {},
   "outputs": [
    {
     "name": "stdin",
     "output_type": "stream",
     "text": [
      "please enter your age 20\n"
     ]
    }
   ],
   "source": [
    "myage=int(input(\"please enter your age\"))"
   ]
  },
  {
   "cell_type": "code",
   "execution_count": 61,
   "id": "9d3d2d40-89f8-4022-86f2-eae25d0e0571",
   "metadata": {},
   "outputs": [
    {
     "name": "stdout",
     "output_type": "stream",
     "text": [
      "allow to vote now\n"
     ]
    }
   ],
   "source": [
    "\n",
    "if myage>=18:\n",
    "    print(\"allow to vote now\")\n",
    "else:\n",
    "    print(\"you not allow to note\")"
   ]
  },
  {
   "cell_type": "code",
   "execution_count": 67,
   "id": "7d1001bf-88cf-444d-8835-5ac1fa1ef0f1",
   "metadata": {},
   "outputs": [
    {
     "name": "stdin",
     "output_type": "stream",
     "text": [
      "Enter your age 45\n"
     ]
    },
    {
     "name": "stdout",
     "output_type": "stream",
     "text": [
      "yourare not young blood\n"
     ]
    }
   ],
   "source": [
    "yourage=int(input(\"Enter your age\"))\n",
    "if yourage>=18 and yourage<=40:\n",
    "    print(\"your young blood\")\n",
    "else:\n",
    "    print(\"yourare not young blood\")"
   ]
  },
  {
   "cell_type": "code",
   "execution_count": 69,
   "id": "e021ef33-24f6-40f4-9adb-26fec059a480",
   "metadata": {},
   "outputs": [
    {
     "name": "stdin",
     "output_type": "stream",
     "text": [
      "Enter your age 40\n"
     ]
    },
    {
     "name": "stdout",
     "output_type": "stream",
     "text": [
      "your young blood\n"
     ]
    }
   ],
   "source": [
    "yourage=int(input(\"Enter your age\"))\n",
    "if yourage>=18 or yourage<=40:\n",
    "    print(\"your young blood\")\n",
    "else:\n",
    "    print(\"yourare not young blood\")"
   ]
  },
  {
   "cell_type": "code",
   "execution_count": null,
   "id": "eb1c2ecb-6016-4df2-8a79-92d886dc2aad",
   "metadata": {},
   "outputs": [],
   "source": [
    "## condition loops"
   ]
  },
  {
   "cell_type": "code",
   "execution_count": 1,
   "id": "2ba2b649-27ab-4ea5-bf30-c9070c9a5082",
   "metadata": {},
   "outputs": [
    {
     "name": "stdout",
     "output_type": "stream",
     "text": [
      "Email 7\n"
     ]
    }
   ],
   "source": [
    "#Break\n",
    "for x in range(10):\n",
    "    if x>6:\n",
    "        print('Email',x)\n",
    "        break\n",
    " "
   ]
  },
  {
   "cell_type": "code",
   "execution_count": 19,
   "id": "a783ae6c-eb91-4ea1-9f23-50391455b441",
   "metadata": {},
   "outputs": [
    {
     "name": "stdout",
     "output_type": "stream",
     "text": [
      "The values 0 is less  than 3\n",
      "The values 1 is less  than 3\n",
      "The values 2 is less  than 3\n",
      "the values 3 is  greater than 3\n",
      "the values 4 is  greater than 3\n"
     ]
    }
   ],
   "source": [
    "#continue\n",
    "\n",
    "for x in range(5):\n",
    "    if x<3:\n",
    "         print(\"The values {} is less  than 3\".format(x))\n",
    "         continue\n",
    "    print(\"the values {value} is  greater than 3\".format(value=x))"
   ]
  },
  {
   "cell_type": "code",
   "execution_count": 16,
   "id": "bef39d4e-3f5e-4c29-9b8d-e80dccb0d487",
   "metadata": {},
   "outputs": [
    {
     "name": "stdout",
     "output_type": "stream",
     "text": [
      "you are age is 20 below 30\n",
      "you are age is 21 below 30\n",
      "you are age is 22 below 30\n",
      "you are age is 23 below 30\n",
      "you are age is 24 below 30\n",
      "jkdd\n"
     ]
    }
   ],
   "source": [
    "##while loop\n",
    "age=20\n",
    "while age<25:\n",
    "    print(\"you are age is {} below 30\".format(age))\n",
    "    age=age+1\n",
    "else:\n",
    "    print(\"jkdd\")"
   ]
  },
  {
   "cell_type": "code",
   "execution_count": null,
   "id": "f7cab269-3709-4412-975e-8cc2d027a84c",
   "metadata": {},
   "outputs": [],
   "source": []
  }
 ],
 "metadata": {
  "kernelspec": {
   "display_name": "Python 3 (ipykernel)",
   "language": "python",
   "name": "python3"
  },
  "language_info": {
   "codemirror_mode": {
    "name": "ipython",
    "version": 3
   },
   "file_extension": ".py",
   "mimetype": "text/x-python",
   "name": "python",
   "nbconvert_exporter": "python",
   "pygments_lexer": "ipython3",
   "version": "3.9.12"
  }
 },
 "nbformat": 4,
 "nbformat_minor": 5
}
