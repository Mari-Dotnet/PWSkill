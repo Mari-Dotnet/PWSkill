{
 "cells": [
  {
   "cell_type": "markdown",
   "id": "58e65a11-ea7e-4b2f-9eed-d7ad767b8328",
   "metadata": {},
   "source": [
    "#### Polymorphism\n",
    "- Same person with different behaviour"
   ]
  },
  {
   "cell_type": "code",
   "execution_count": 19,
   "id": "b13f18f6-d5d9-4aee-ad1b-052a05dbf2c5",
   "metadata": {},
   "outputs": [],
   "source": [
    "class person:\n",
    "    def details(self):\n",
    "        print(\"first person\")"
   ]
  },
  {
   "cell_type": "code",
   "execution_count": 21,
   "id": "03d1f3f0-26aa-4d93-8be9-8ace1e73f63d",
   "metadata": {},
   "outputs": [],
   "source": [
    "class secondperson:\n",
    "    def details(self):\n",
    "        print(\"second person\")"
   ]
  },
  {
   "cell_type": "code",
   "execution_count": 22,
   "id": "52e1bacd-63c7-41a8-90a0-34960b68486c",
   "metadata": {},
   "outputs": [],
   "source": [
    "ps1=person()\n",
    "ps2=secondperson()"
   ]
  },
  {
   "cell_type": "code",
   "execution_count": 23,
   "id": "0ca6a134-92b4-4846-aa06-88be16c6253c",
   "metadata": {},
   "outputs": [],
   "source": [
    "def objecall(lst):\n",
    "    for i in lst:\n",
    "        i.details()"
   ]
  },
  {
   "cell_type": "code",
   "execution_count": 25,
   "id": "3928578d-02a6-4516-afa8-a69d0d5908b1",
   "metadata": {},
   "outputs": [
    {
     "name": "stdout",
     "output_type": "stream",
     "text": [
      "first person\n",
      "second person\n"
     ]
    }
   ],
   "source": [
    "objlst=[ps1,ps2]\n",
    "objecall(objlst)"
   ]
  },
  {
   "cell_type": "markdown",
   "id": "66ce2371-bed4-4659-8a1b-9852ea864207",
   "metadata": {},
   "source": [
    "#### encapsulation\n",
    "- sql view is best example because we can only get the values\n",
    "- we are not able to update any variable inside the class is called encapsulation\n",
    "- prevent the assignment and access operation "
   ]
  },
  {
   "cell_type": "code",
   "execution_count": 26,
   "id": "a015941a-716b-4e9c-88bf-21329b5667be",
   "metadata": {},
   "outputs": [],
   "source": [
    "class test():\n",
    "    def __init__(self,a,b):\n",
    "        self.a=a\n",
    "        self.b=b"
   ]
  },
  {
   "cell_type": "code",
   "execution_count": 28,
   "id": "2c5c29e0-ee31-4a46-8635-6bec2432811a",
   "metadata": {},
   "outputs": [],
   "source": [
    "obj=test(1,2)"
   ]
  },
  {
   "cell_type": "code",
   "execution_count": 30,
   "id": "bb31f372-271c-4207-9b7c-4238d70a7272",
   "metadata": {},
   "outputs": [
    {
     "name": "stdout",
     "output_type": "stream",
     "text": [
      "1 2\n"
     ]
    }
   ],
   "source": [
    "print(obj.a,obj.b)"
   ]
  },
  {
   "cell_type": "code",
   "execution_count": 31,
   "id": "009ca2b9-f7b9-49db-a7a8-7670cb3937e1",
   "metadata": {},
   "outputs": [],
   "source": [
    "obj.a=10"
   ]
  },
  {
   "cell_type": "code",
   "execution_count": 32,
   "id": "7625c34e-2adf-4b7b-a676-1e2576f844f7",
   "metadata": {},
   "outputs": [
    {
     "name": "stdout",
     "output_type": "stream",
     "text": [
      "10 2\n"
     ]
    }
   ],
   "source": [
    "print(obj.a,obj.b)"
   ]
  },
  {
   "cell_type": "code",
   "execution_count": 33,
   "id": "54be756b-d870-4ffc-bab2-2d71c089b54f",
   "metadata": {},
   "outputs": [],
   "source": [
    "###in above example user able to access and update the variable value"
   ]
  },
  {
   "cell_type": "code",
   "execution_count": 10,
   "id": "7694809e-19e0-412f-b8a5-f8b2667b6103",
   "metadata": {},
   "outputs": [],
   "source": [
    "class car():\n",
    "    def __init__(self,carname,cartype,year,speed):\n",
    "        self.__carname=carname\n",
    "        self.__cartype=cartype\n",
    "        self.__year=year\n",
    "        self.__speed=speed\n",
    "        ### how to allow to user able access any values\n",
    "    def set_speed(self, speed):\n",
    "            self.__speed= 0 if speed < 0  else speed \n",
    "    def get_speed(self):\n",
    "        return self.__speed"
   ]
  },
  {
   "cell_type": "code",
   "execution_count": 14,
   "id": "531ad13c-f473-4755-a27d-15864a7ac04e",
   "metadata": {},
   "outputs": [
    {
     "data": {
      "text/plain": [
       "16"
      ]
     },
     "execution_count": 14,
     "metadata": {},
     "output_type": "execute_result"
    }
   ],
   "source": [
    "car_obj=car('Audi','petrol',2023,0)\n",
    "car_obj.set_speed(16)\n",
    "car_obj._car__speed\n",
    "car_obj.get_speed()"
   ]
  },
  {
   "cell_type": "code",
   "execution_count": 39,
   "id": "e8fb2fcf-e651-45b2-90af-a13e8997de29",
   "metadata": {},
   "outputs": [
    {
     "data": {
      "text/plain": [
       "<__main__.car at 0x195eaf6ac10>"
      ]
     },
     "execution_count": 39,
     "metadata": {},
     "output_type": "execute_result"
    }
   ],
   "source": [
    "car_obj ##here we are not able to get any class variable name\""
   ]
  },
  {
   "cell_type": "code",
   "execution_count": 45,
   "id": "0c126402-c842-4c46-843a-8cb15f0d4ccb",
   "metadata": {},
   "outputs": [
    {
     "data": {
      "text/plain": [
       "'Audi'"
      ]
     },
     "execution_count": 45,
     "metadata": {},
     "output_type": "execute_result"
    }
   ],
   "source": [
    "car_obj._car__carname ## creator only able to access and update the varibale remaning user not able to do any actions"
   ]
  },
  {
   "cell_type": "code",
   "execution_count": 22,
   "id": "f3bc5db2-784d-4fa8-83ad-3e71432cd73f",
   "metadata": {},
   "outputs": [],
   "source": [
    "### Bank example\n",
    "class bank():\n",
    "    def __init__(self,balanace):\n",
    "        self.__balanace=balanace\n",
    "        \n",
    "    def deposit(self,amount):\n",
    "        self.__balanace+=amount\n",
    "    def getbalance(self):\n",
    "        return self.__balanace\n",
    "    def withdraw(self,amount):\n",
    "        if self.__balanace>=amount:\n",
    "            self.__balanace -=amount\n",
    "            return True\n",
    "        else:\n",
    "            return False    "
   ]
  },
  {
   "cell_type": "code",
   "execution_count": 23,
   "id": "3ea90cdf-da2c-4138-a324-1102e68868fe",
   "metadata": {},
   "outputs": [],
   "source": [
    "bank_obj=bank(1000)"
   ]
  },
  {
   "cell_type": "code",
   "execution_count": 24,
   "id": "5f004348-e977-426e-8b4d-4fefcbcb5ccf",
   "metadata": {},
   "outputs": [
    {
     "data": {
      "text/plain": [
       "1000"
      ]
     },
     "execution_count": 24,
     "metadata": {},
     "output_type": "execute_result"
    }
   ],
   "source": [
    "bank_obj.getbalance()"
   ]
  },
  {
   "cell_type": "code",
   "execution_count": 25,
   "id": "87d07914-b5a4-4283-80de-6188e39f3263",
   "metadata": {},
   "outputs": [],
   "source": [
    "bank_obj.deposit(200)"
   ]
  },
  {
   "cell_type": "code",
   "execution_count": 26,
   "id": "c03d669b-9bbc-49b5-9410-d9c078ba43cb",
   "metadata": {},
   "outputs": [
    {
     "data": {
      "text/plain": [
       "1200"
      ]
     },
     "execution_count": 26,
     "metadata": {},
     "output_type": "execute_result"
    }
   ],
   "source": [
    "bank_obj.getbalance()"
   ]
  },
  {
   "cell_type": "code",
   "execution_count": 28,
   "id": "336e94cc-7bf2-4fef-87b4-16839fe3b100",
   "metadata": {},
   "outputs": [
    {
     "data": {
      "text/plain": [
       "True"
      ]
     },
     "execution_count": 28,
     "metadata": {},
     "output_type": "execute_result"
    }
   ],
   "source": [
    "bank_obj.withdraw(900)"
   ]
  },
  {
   "cell_type": "code",
   "execution_count": 29,
   "id": "678bc176-d142-4367-9c6a-6ba77f487f8a",
   "metadata": {},
   "outputs": [
    {
     "data": {
      "text/plain": [
       "300"
      ]
     },
     "execution_count": 29,
     "metadata": {},
     "output_type": "execute_result"
    }
   ],
   "source": [
    "bank_obj.getbalance()"
   ]
  },
  {
   "cell_type": "markdown",
   "id": "ef1a4f3a-19a4-4af2-8b84-3f3a3a7a26e4",
   "metadata": {},
   "source": [
    "#### Inheritance\n",
    "- To access the parent class and use the methods"
   ]
  },
  {
   "cell_type": "code",
   "execution_count": 32,
   "id": "e63248d4-f649-4fea-aa44-cd9e6b84c853",
   "metadata": {},
   "outputs": [],
   "source": [
    "class parent():\n",
    "    def test_class(self):\n",
    "        print(\"parent class\")\n",
    "        \n",
    "class child(parent):\n",
    "    pass\n",
    "    "
   ]
  },
  {
   "cell_type": "code",
   "execution_count": 33,
   "id": "90b9544f-3e30-4bc2-a8cd-4b291304d6e2",
   "metadata": {},
   "outputs": [],
   "source": [
    "child_obj=child()"
   ]
  },
  {
   "cell_type": "code",
   "execution_count": 34,
   "id": "f90ba9a6-ecb6-4a17-8a6e-19cae3a59235",
   "metadata": {},
   "outputs": [
    {
     "name": "stdout",
     "output_type": "stream",
     "text": [
      "parent class\n"
     ]
    }
   ],
   "source": [
    "child_obj.test_class()"
   ]
  },
  {
   "cell_type": "markdown",
   "id": "c5fcb892-bd09-4218-b705-ca7d154ca17f",
   "metadata": {},
   "source": [
    "## Example 2"
   ]
  },
  {
   "cell_type": "code",
   "execution_count": 51,
   "id": "74acc944-da81-45a2-bded-c6a1bd36053f",
   "metadata": {},
   "outputs": [],
   "source": [
    "class class1():\n",
    "    def testclass1(self):\n",
    "        print(\"class 1\")"
   ]
  },
  {
   "cell_type": "code",
   "execution_count": 52,
   "id": "a5daa046-2fe2-4e43-a70b-9e991d47cec2",
   "metadata": {},
   "outputs": [],
   "source": [
    "class class2(class1):\n",
    "    def testclass2(self):\n",
    "        print(\"class 2\")"
   ]
  },
  {
   "cell_type": "code",
   "execution_count": 53,
   "id": "93bae180-a089-4690-bc39-c607d144c2b4",
   "metadata": {},
   "outputs": [],
   "source": [
    "class class3(class2):\n",
    "    def testclass3(self):\n",
    "        print(\"class 3\")"
   ]
  },
  {
   "cell_type": "code",
   "execution_count": 54,
   "id": "c82775ca-23e3-4501-8637-3768b711a4da",
   "metadata": {},
   "outputs": [],
   "source": [
    "clas2_obj=class2()\n",
    "cls3_obj=class3()"
   ]
  },
  {
   "cell_type": "code",
   "execution_count": 55,
   "id": "24bc9fd4-26ea-4190-8ef2-448de7b7134e",
   "metadata": {},
   "outputs": [
    {
     "name": "stdout",
     "output_type": "stream",
     "text": [
      "class 1\n",
      "class 2\n",
      "class 3\n"
     ]
    }
   ],
   "source": [
    "cls3_obj.testclass1()\n",
    "cls3_obj.testclass2()\n",
    "cls3_obj.testclass3()"
   ]
  },
  {
   "cell_type": "markdown",
   "id": "f89ce951-8e08-487d-a881-a2cd88fc9d5b",
   "metadata": {},
   "source": [
    "#### Example 3"
   ]
  },
  {
   "cell_type": "code",
   "execution_count": 56,
   "id": "21f10faf-b5c4-4fc9-acb7-5caefe83a21a",
   "metadata": {},
   "outputs": [],
   "source": [
    "class clas1():\n",
    "    def testcls1(self):\n",
    "        print(\"class 1\")"
   ]
  },
  {
   "cell_type": "code",
   "execution_count": 57,
   "id": "a89e189b-036c-41ce-b413-f018a7893c68",
   "metadata": {},
   "outputs": [],
   "source": [
    "class class2():\n",
    "    def testcls2(self):\n",
    "        print(\"class 2\")"
   ]
  },
  {
   "cell_type": "code",
   "execution_count": 58,
   "id": "8fc32723-0e76-42ae-96cd-f1b5d335c174",
   "metadata": {},
   "outputs": [],
   "source": [
    "class class3(clas1, class2):\n",
    "    pass"
   ]
  },
  {
   "cell_type": "code",
   "execution_count": 59,
   "id": "8738b7bb-0613-4092-8627-2a42d24535fb",
   "metadata": {},
   "outputs": [],
   "source": [
    "cls3_obj=class3()"
   ]
  },
  {
   "cell_type": "code",
   "execution_count": 61,
   "id": "45caf2e3-0459-411e-9b28-09b8e41cda69",
   "metadata": {},
   "outputs": [
    {
     "name": "stdout",
     "output_type": "stream",
     "text": [
      "class 1\n",
      "class 2\n"
     ]
    }
   ],
   "source": [
    "cls3_obj.testcls1()\n",
    "cls3_obj.testcls2()"
   ]
  },
  {
   "cell_type": "code",
   "execution_count": null,
   "id": "e498dee8-54b1-4099-9ef1-161636d66cbc",
   "metadata": {},
   "outputs": [],
   "source": []
  }
 ],
 "metadata": {
  "kernelspec": {
   "display_name": "Python 3 (ipykernel)",
   "language": "python",
   "name": "python3"
  },
  "language_info": {
   "codemirror_mode": {
    "name": "ipython",
    "version": 3
   },
   "file_extension": ".py",
   "mimetype": "text/x-python",
   "name": "python",
   "nbconvert_exporter": "python",
   "pygments_lexer": "ipython3",
   "version": "3.9.12"
  }
 },
 "nbformat": 4,
 "nbformat_minor": 5
}
