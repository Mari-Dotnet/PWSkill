{
 "cells": [
  {
   "cell_type": "code",
   "execution_count": 1,
   "id": "aee94c89-2d87-4b1c-8d34-15f23c4a822f",
   "metadata": {},
   "outputs": [],
   "source": [
    "import multiprocessing"
   ]
  },
  {
   "cell_type": "code",
   "execution_count": 2,
   "id": "2769ad20-ccaf-483d-8691-1384cb97b497",
   "metadata": {},
   "outputs": [],
   "source": [
    "def test():\n",
    "    print(\"hello world\")"
   ]
  },
  {
   "cell_type": "code",
   "execution_count": 3,
   "id": "1093ed16-ed59-4423-b0c6-c37f59eb02a5",
   "metadata": {},
   "outputs": [
    {
     "name": "stdout",
     "output_type": "stream",
     "text": [
      "hello world\n"
     ]
    }
   ],
   "source": [
    "test()"
   ]
  },
  {
   "cell_type": "code",
   "execution_count": 6,
   "id": "f4cb9c1e-04ed-48a3-bdc4-054bfdba433d",
   "metadata": {},
   "outputs": [
    {
     "name": "stdout",
     "output_type": "stream",
     "text": [
      "this is my main method\n",
      "hello world\n"
     ]
    }
   ],
   "source": [
    "if __name__==\"__main__\":\n",
    "    m=multiprocessing.Process(target=test)\n",
    "    print(\"this is my main method\")\n",
    "    m.start()\n",
    "    m.join()"
   ]
  },
  {
   "cell_type": "code",
   "execution_count": 7,
   "id": "58345de9-34dc-49b0-8b3e-7cecf32d041b",
   "metadata": {},
   "outputs": [],
   "source": [
    "##example 2\n",
    "def squarfun(n):\n",
    "    return n**2"
   ]
  },
  {
   "cell_type": "code",
   "execution_count": 11,
   "id": "2287ab49-cbee-4674-a9d5-9072b02838b1",
   "metadata": {},
   "outputs": [
    {
     "data": {
      "text/plain": [
       "25"
      ]
     },
     "execution_count": 11,
     "metadata": {},
     "output_type": "execute_result"
    }
   ],
   "source": [
    "5**2"
   ]
  },
  {
   "cell_type": "code",
   "execution_count": 14,
   "id": "a43a09e7-623b-43d2-8d5e-3dc207f0274f",
   "metadata": {},
   "outputs": [
    {
     "name": "stdout",
     "output_type": "stream",
     "text": [
      "[1, 4, 16, 25, 36]\n"
     ]
    }
   ],
   "source": [
    "if __name__==\"__main__\":\n",
    "    with multiprocessing.Pool(processes=5) as pol:\n",
    "        out=pol.map(squarfun,[1,2,4,5,6])\n",
    "        print(out)"
   ]
  },
  {
   "cell_type": "code",
   "execution_count": 15,
   "id": "24d0a523-c232-458b-b5fb-e6dc3bf8f984",
   "metadata": {},
   "outputs": [],
   "source": [
    "## two function run at same time\n",
    "import multiprocessing"
   ]
  },
  {
   "cell_type": "code",
   "execution_count": 16,
   "id": "e715ad71-6bc3-4f68-9984-e625397f06c0",
   "metadata": {},
   "outputs": [],
   "source": [
    "def producer(q):\n",
    "    for i in [\"mari\",\"muthu\",\"prak\",\"queen\"]:\n",
    "        q.put(i)\n",
    "\n",
    "def consumer(q):\n",
    "    while True:\n",
    "        items=q.get()\n",
    "        if items is None:\n",
    "            break\n",
    "        print(items)\n",
    "            "
   ]
  },
  {
   "cell_type": "code",
   "execution_count": null,
   "id": "56804c76-5f31-47f6-864a-3d68de7c9e6c",
   "metadata": {},
   "outputs": [],
   "source": [
    "if __name__==\"__main__\":\n",
    "    que=multiprocessing.Queue()\n",
    "    m1=multiprocessing.Process(target=producer, args=(que,))\n",
    "    m2=multiprocessing.Process(target=consumer, args=(que,))\n",
    "    m1.start()\n",
    "    m2.start()\n",
    "    m1.join()\n",
    "    m2.join()"
   ]
  },
  {
   "cell_type": "code",
   "execution_count": 1,
   "id": "cf43fa8f-a9de-406e-a188-cb0712761c48",
   "metadata": {},
   "outputs": [],
   "source": [
    "import multiprocessing"
   ]
  },
  {
   "cell_type": "code",
   "execution_count": 5,
   "id": "3f5ca38d-bebc-4009-98e4-c73f34dca6a8",
   "metadata": {},
   "outputs": [
    {
     "name": "stderr",
     "output_type": "stream",
     "text": [
      "Process Process-8:\n",
      "Traceback (most recent call last):\n",
      "Traceback (most recent call last):\n",
      "Process Process-9:\n",
      "  File \"/opt/conda/lib/python3.10/multiprocessing/process.py\", line 314, in _bootstrap\n",
      "    self.run()\n",
      "  File \"/opt/conda/lib/python3.10/multiprocessing/process.py\", line 108, in run\n",
      "    self._target(*self._args, **self._kwargs)\n",
      "  File \"/tmp/ipykernel_779/3331247712.py\", line 2, in square\n",
      "    value[index]=value[index]**2\n",
      "  File \"/opt/conda/lib/python3.10/multiprocessing/process.py\", line 314, in _bootstrap\n",
      "    self.run()\n",
      "Process Process-10:\n",
      "  File \"/opt/conda/lib/python3.10/multiprocessing/sharedctypes.py\", line 223, in __getitem__\n",
      "    return self._obj[i]\n",
      "  File \"/opt/conda/lib/python3.10/multiprocessing/process.py\", line 108, in run\n",
      "    self._target(*self._args, **self._kwargs)\n",
      "IndexError: invalid index\n",
      "Traceback (most recent call last):\n",
      "  File \"/tmp/ipykernel_779/3331247712.py\", line 2, in square\n",
      "    value[index]=value[index]**2\n",
      "  File \"/opt/conda/lib/python3.10/multiprocessing/process.py\", line 314, in _bootstrap\n",
      "    self.run()\n",
      "Process Process-11:\n",
      "  File \"/opt/conda/lib/python3.10/multiprocessing/sharedctypes.py\", line 223, in __getitem__\n",
      "    return self._obj[i]\n",
      "  File \"/opt/conda/lib/python3.10/multiprocessing/process.py\", line 108, in run\n",
      "    self._target(*self._args, **self._kwargs)\n",
      "IndexError: invalid index\n",
      "  File \"/tmp/ipykernel_779/3331247712.py\", line 2, in square\n",
      "    value[index]=value[index]**2\n",
      "Traceback (most recent call last):\n",
      "  File \"/opt/conda/lib/python3.10/multiprocessing/sharedctypes.py\", line 223, in __getitem__\n",
      "    return self._obj[i]\n",
      "  File \"/opt/conda/lib/python3.10/multiprocessing/process.py\", line 314, in _bootstrap\n",
      "    self.run()\n",
      "IndexError: invalid index\n",
      "  File \"/opt/conda/lib/python3.10/multiprocessing/process.py\", line 108, in run\n",
      "    self._target(*self._args, **self._kwargs)\n",
      "  File \"/tmp/ipykernel_779/3331247712.py\", line 2, in square\n",
      "    value[index]=value[index]**2\n",
      "  File \"/opt/conda/lib/python3.10/multiprocessing/sharedctypes.py\", line 223, in __getitem__\n",
      "    return self._obj[i]\n",
      "IndexError: invalid index\n"
     ]
    },
    {
     "name": "stdout",
     "output_type": "stream",
     "text": [
      "[4, 4, 9, 16, 25, 25]\n"
     ]
    }
   ],
   "source": [
    "def square(index,value):\n",
    "    value[index]=value[index]**2\n",
    "\n",
    "if __name__==\"__main__\":\n",
    "    arr=multiprocessing.Array('i',[2,2,3,4,5,5])\n",
    "    process=[]\n",
    "    for i in range(10):\n",
    "        m= multiprocessing.Process(target=square, args=(i,arr))\n",
    "        process.append(m)\n",
    "        m.start()\n",
    "    for m in process:\n",
    "        m.join()\n",
    "    print(list(arr))"
   ]
  },
  {
   "cell_type": "code",
   "execution_count": 1,
   "id": "a88d7f71-9b14-434d-b2b8-b726a6895209",
   "metadata": {},
   "outputs": [],
   "source": [
    "import multiprocessing"
   ]
  },
  {
   "cell_type": "code",
   "execution_count": 2,
   "id": "eeda4a69-4adb-4f89-a8d6-e1fff65dc69f",
   "metadata": {},
   "outputs": [],
   "source": [
    "def sender(con, msg):\n",
    "    for i in  msg:\n",
    "        con.send(i)\n",
    "    con.close()"
   ]
  },
  {
   "cell_type": "code",
   "execution_count": 3,
   "id": "e960ee13-31d5-4026-b772-03baabd29a13",
   "metadata": {},
   "outputs": [],
   "source": [
    "def receiver(con):\n",
    "    while True:\n",
    "        try:\n",
    "            msg=con.recv()\n",
    "        except Exception as ex:\n",
    "            print(ex)\n",
    "            break\n",
    "        print(msg)\n",
    "    "
   ]
  },
  {
   "cell_type": "code",
   "execution_count": 4,
   "id": "824ff407-3389-4338-9786-10129d544163",
   "metadata": {},
   "outputs": [],
   "source": [
    "if __name__==\"main\":\n",
    "    msg=[\"my name is mari\",\"This is msg to student\"]\n",
    "    parent_connec=multiprocessing.Pipe()\n",
    "    child_con=multiprocessing.Pipe()\n",
    "    m1=multiprocessing.Process(target=sender, args=(child_con,msg,))\n",
    "    m2=multiprocessing.Process(target=receiver, args=(parent_connec,))\n",
    "    \n",
    "    \n",
    "    m1.start()\n",
    "    m2.start()\n",
    "    m1.join()\n",
    "    child_con.close()\n",
    "    m2.join()\n",
    "    parent_connec.close()\n",
    "    "
   ]
  },
  {
   "cell_type": "code",
   "execution_count": null,
   "id": "5802f502-ab8a-4821-83a9-13a0043ae2d9",
   "metadata": {},
   "outputs": [],
   "source": []
  }
 ],
 "metadata": {
  "kernelspec": {
   "display_name": "Python 3 (ipykernel)",
   "language": "python",
   "name": "python3"
  },
  "language_info": {
   "codemirror_mode": {
    "name": "ipython",
    "version": 3
   },
   "file_extension": ".py",
   "mimetype": "text/x-python",
   "name": "python",
   "nbconvert_exporter": "python",
   "pygments_lexer": "ipython3",
   "version": "3.10.8"
  }
 },
 "nbformat": 4,
 "nbformat_minor": 5
}
