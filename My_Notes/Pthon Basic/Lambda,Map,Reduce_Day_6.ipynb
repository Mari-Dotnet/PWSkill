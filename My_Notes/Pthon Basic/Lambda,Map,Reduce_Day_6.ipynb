{
 "cells": [
  {
   "cell_type": "markdown",
   "id": "173d35c9-5ae8-4b8b-a7da-7fb2334128a9",
   "metadata": {},
   "source": [
    "#### lambda function (short hand function)"
   ]
  },
  {
   "cell_type": "code",
   "execution_count": 1,
   "id": "49928268-3b6a-4342-89bd-551cd6986675",
   "metadata": {},
   "outputs": [],
   "source": [
    "n=2\n",
    "p=3\n",
    "    "
   ]
  },
  {
   "cell_type": "code",
   "execution_count": 2,
   "id": "202e31ba-8d8f-4d57-a49a-ba587140f2c3",
   "metadata": {},
   "outputs": [],
   "source": [
    "def test(n,p):\n",
    "    return n**p"
   ]
  },
  {
   "cell_type": "code",
   "execution_count": 3,
   "id": "0ad719e5-eebb-4d6a-978e-2954726b48f8",
   "metadata": {},
   "outputs": [
    {
     "data": {
      "text/plain": [
       "8"
      ]
     },
     "execution_count": 3,
     "metadata": {},
     "output_type": "execute_result"
    }
   ],
   "source": [
    "test(n,p)"
   ]
  },
  {
   "cell_type": "code",
   "execution_count": 4,
   "id": "01bd4f7e-cfd0-4410-853e-a2e7d7334ad1",
   "metadata": {},
   "outputs": [
    {
     "data": {
      "text/plain": [
       "8"
      ]
     },
     "execution_count": 4,
     "metadata": {},
     "output_type": "execute_result"
    }
   ],
   "source": [
    "test(2,3)"
   ]
  },
  {
   "cell_type": "code",
   "execution_count": 6,
   "id": "6c6dbe8b-81ba-430f-8c6a-ec7734dfb8c3",
   "metadata": {},
   "outputs": [],
   "source": [
    "a=lambda n,p:n**p"
   ]
  },
  {
   "cell_type": "code",
   "execution_count": 7,
   "id": "e4a0996c-6264-4a76-a676-413783968fa8",
   "metadata": {},
   "outputs": [
    {
     "data": {
      "text/plain": [
       "8"
      ]
     },
     "execution_count": 7,
     "metadata": {},
     "output_type": "execute_result"
    }
   ],
   "source": [
    "a(2,3)"
   ]
  },
  {
   "cell_type": "code",
   "execution_count": 8,
   "id": "ef5427b9-2550-436b-aa50-9afd2d6ae437",
   "metadata": {},
   "outputs": [],
   "source": [
    "add= lambda c,d:c+d"
   ]
  },
  {
   "cell_type": "code",
   "execution_count": 9,
   "id": "5e14b1c3-d0e2-4080-b2d5-f282b72fc2f1",
   "metadata": {},
   "outputs": [
    {
     "data": {
      "text/plain": [
       "7"
      ]
     },
     "execution_count": 9,
     "metadata": {},
     "output_type": "execute_result"
    }
   ],
   "source": [
    "add(3,4)"
   ]
  },
  {
   "cell_type": "code",
   "execution_count": 11,
   "id": "58249879-7416-41c9-9704-7f917c1ae6bf",
   "metadata": {},
   "outputs": [],
   "source": [
    "max_two=lambda x,y:x if x>y  else y"
   ]
  },
  {
   "cell_type": "code",
   "execution_count": 12,
   "id": "d9a0356c-4fc5-457d-b84d-4c9781916be2",
   "metadata": {},
   "outputs": [
    {
     "data": {
      "text/plain": [
       "3"
      ]
     },
     "execution_count": 12,
     "metadata": {},
     "output_type": "execute_result"
    }
   ],
   "source": [
    "max_two(2,3)"
   ]
  },
  {
   "cell_type": "code",
   "execution_count": 13,
   "id": "d63ec6c8-a714-4bee-98ae-509a95c322a2",
   "metadata": {},
   "outputs": [],
   "source": [
    "string=\"pwskill\"\n",
    "length= lambda x : len(x)"
   ]
  },
  {
   "cell_type": "code",
   "execution_count": 14,
   "id": "1b3f8ec6-ddd9-4e47-b17c-41c472aa7924",
   "metadata": {},
   "outputs": [
    {
     "data": {
      "text/plain": [
       "7"
      ]
     },
     "execution_count": 14,
     "metadata": {},
     "output_type": "execute_result"
    }
   ],
   "source": [
    "length(string)"
   ]
  },
  {
   "cell_type": "markdown",
   "id": "5acac6f1-913b-49c5-9734-4f6c8d1ea997",
   "metadata": {},
   "source": [
    "#### Map Reduce filter function"
   ]
  },
  {
   "cell_type": "code",
   "execution_count": 15,
   "id": "f55c1b3d-93b2-4f39-95d4-1e737abca770",
   "metadata": {},
   "outputs": [],
   "source": [
    "#normal functiom\n",
    "l1=[1,2,3,4,5]"
   ]
  },
  {
   "cell_type": "code",
   "execution_count": 16,
   "id": "f3c30e71-fe4d-4e85-832f-40f5e7dcb3ef",
   "metadata": {},
   "outputs": [],
   "source": [
    "def lst(ls):\n",
    "    NewLst=[]\n",
    "    for i in ls:\n",
    "        NewLst.append(i **2)\n",
    "    return NewLst"
   ]
  },
  {
   "cell_type": "code",
   "execution_count": 17,
   "id": "35822f29-6e9e-4f86-b56a-ddd908972f9d",
   "metadata": {},
   "outputs": [
    {
     "data": {
      "text/plain": [
       "[1, 4, 9, 16, 25]"
      ]
     },
     "execution_count": 17,
     "metadata": {},
     "output_type": "execute_result"
    }
   ],
   "source": [
    "lst(l1)"
   ]
  },
  {
   "cell_type": "code",
   "execution_count": 20,
   "id": "2563f1f9-7691-43f0-a707-db1ed78cdd56",
   "metadata": {},
   "outputs": [
    {
     "data": {
      "text/plain": [
       "[1, 4, 9, 16, 25]"
      ]
     },
     "execution_count": 20,
     "metadata": {},
     "output_type": "execute_result"
    }
   ],
   "source": [
    "##List comprehession\n",
    "Lst2=[x**2 for x in l1 ]\n",
    "Lst2"
   ]
  },
  {
   "cell_type": "code",
   "execution_count": 21,
   "id": "47e258a0-841f-4f06-be44-cb32384f154b",
   "metadata": {},
   "outputs": [],
   "source": [
    "## sub function\n",
    "def squre(x):\n",
    "    return x**2"
   ]
  },
  {
   "cell_type": "code",
   "execution_count": 23,
   "id": "e25a0397-d670-4797-92e8-0e1946b908e2",
   "metadata": {},
   "outputs": [
    {
     "data": {
      "text/plain": [
       "[1, 16, 81, 256, 625]"
      ]
     },
     "execution_count": 23,
     "metadata": {},
     "output_type": "execute_result"
    }
   ],
   "source": [
    "list(map(squre, Lst2))"
   ]
  },
  {
   "cell_type": "code",
   "execution_count": 26,
   "id": "31d7e911-b698-46d9-ac65-7c3d79c5307e",
   "metadata": {},
   "outputs": [
    {
     "data": {
      "text/plain": [
       "[1, 16, 81, 256, 625]"
      ]
     },
     "execution_count": 26,
     "metadata": {},
     "output_type": "execute_result"
    }
   ],
   "source": [
    "list(map((lambda x:x**2),Lst2))"
   ]
  },
  {
   "cell_type": "code",
   "execution_count": 27,
   "id": "811f8e70-00c1-4509-a81d-b058407f96eb",
   "metadata": {},
   "outputs": [],
   "source": [
    "L1=[1,2,3,4,5]\n",
    "L2=[6,7,8,9,10]"
   ]
  },
  {
   "cell_type": "code",
   "execution_count": 36,
   "id": "431e1562-f163-445c-84fe-b0c50afbc3b6",
   "metadata": {},
   "outputs": [
    {
     "data": {
      "text/plain": [
       "[7, 9, 11, 13, 15]"
      ]
     },
     "execution_count": 36,
     "metadata": {},
     "output_type": "execute_result"
    }
   ],
   "source": [
    "\n",
    "list(map(lambda x,y:x+y,L1,L2))"
   ]
  },
  {
   "cell_type": "code",
   "execution_count": 37,
   "id": "ce3f4421-8f5d-4a14-a8c0-919b00f61f1a",
   "metadata": {},
   "outputs": [],
   "source": [
    "L3=lambda x,y: x+y"
   ]
  },
  {
   "cell_type": "code",
   "execution_count": 39,
   "id": "31e2d15b-1893-4f3a-ac34-67a03ee2327c",
   "metadata": {},
   "outputs": [
    {
     "data": {
      "text/plain": [
       "[7, 9, 11, 13, 15]"
      ]
     },
     "execution_count": 39,
     "metadata": {},
     "output_type": "execute_result"
    }
   ],
   "source": [
    "list(map(L3,L1,L2))"
   ]
  },
  {
   "cell_type": "code",
   "execution_count": 40,
   "id": "e7dc75fb-482c-419e-be50-5bcdf7399acf",
   "metadata": {},
   "outputs": [
    {
     "data": {
      "text/plain": [
       "['P', 'W', 'S', 'K', 'I', 'L', 'L']"
      ]
     },
     "execution_count": 40,
     "metadata": {},
     "output_type": "execute_result"
    }
   ],
   "source": [
    "string=\"Pwskill\"\n",
    "list(map(lambda x:x.upper(),string))"
   ]
  },
  {
   "cell_type": "markdown",
   "id": "8472d33c-bf7e-416a-8dd5-8ca2cd0562ab",
   "metadata": {},
   "source": [
    "#### reduce function get it from functiontool"
   ]
  },
  {
   "cell_type": "code",
   "execution_count": 42,
   "id": "3ff7c837-44e2-42bb-8edb-04efb14f7fb6",
   "metadata": {},
   "outputs": [],
   "source": [
    "from functools import reduce"
   ]
  },
  {
   "cell_type": "code",
   "execution_count": 43,
   "id": "4b0948b2-5b75-4e46-aa82-77e17f3f1712",
   "metadata": {},
   "outputs": [
    {
     "data": {
      "text/plain": [
       "[1, 2, 3, 4, 5]"
      ]
     },
     "execution_count": 43,
     "metadata": {},
     "output_type": "execute_result"
    }
   ],
   "source": [
    "L1"
   ]
  },
  {
   "cell_type": "code",
   "execution_count": 49,
   "id": "88e97bda-944d-4ceb-943a-e3f1e61d220b",
   "metadata": {},
   "outputs": [
    {
     "data": {
      "text/plain": [
       "15"
      ]
     },
     "execution_count": 49,
     "metadata": {},
     "output_type": "execute_result"
    }
   ],
   "source": [
    "reduce(lambda x,y:x+y,L1)"
   ]
  },
  {
   "cell_type": "code",
   "execution_count": 51,
   "id": "fdd61719-f60a-40dc-b5cf-0fc952a4b4de",
   "metadata": {},
   "outputs": [
    {
     "data": {
      "text/plain": [
       "1"
      ]
     },
     "execution_count": 51,
     "metadata": {},
     "output_type": "execute_result"
    }
   ],
   "source": [
    "reduce(lambda x,y: x+y,[1])"
   ]
  },
  {
   "cell_type": "markdown",
   "id": "97b65ddf-5367-47d0-9e04-fd5643652b76",
   "metadata": {},
   "source": [
    "### find max number in List using reduce"
   ]
  },
  {
   "cell_type": "code",
   "execution_count": 53,
   "id": "fb8f92fc-3c09-4604-9e9f-79aa1592da3c",
   "metadata": {},
   "outputs": [
    {
     "data": {
      "text/plain": [
       "[1, 2, 3, 4, 5]"
      ]
     },
     "execution_count": 53,
     "metadata": {},
     "output_type": "execute_result"
    }
   ],
   "source": [
    "L1"
   ]
  },
  {
   "cell_type": "code",
   "execution_count": 54,
   "id": "03229624-2395-40e9-bf99-8bb32670e54c",
   "metadata": {},
   "outputs": [
    {
     "data": {
      "text/plain": [
       "5"
      ]
     },
     "execution_count": 54,
     "metadata": {},
     "output_type": "execute_result"
    }
   ],
   "source": [
    "reduce(lambda x,y: x if x>y else y,L1)"
   ]
  },
  {
   "cell_type": "code",
   "execution_count": 55,
   "id": "7a6cdefe-b09f-4311-837c-6a6f729385fe",
   "metadata": {},
   "outputs": [
    {
     "data": {
      "text/plain": [
       "5"
      ]
     },
     "execution_count": 55,
     "metadata": {},
     "output_type": "execute_result"
    }
   ],
   "source": [
    "max(L1)"
   ]
  },
  {
   "cell_type": "markdown",
   "id": "7c2f99d4-ab6d-4e07-a3f9-ab0211dd5fbe",
   "metadata": {},
   "source": [
    "#### filter"
   ]
  },
  {
   "cell_type": "code",
   "execution_count": 64,
   "id": "24896348-e2de-4e5c-824e-e04bb13b9ac4",
   "metadata": {},
   "outputs": [
    {
     "data": {
      "text/plain": [
       "[2, 4]"
      ]
     },
     "execution_count": 64,
     "metadata": {},
     "output_type": "execute_result"
    }
   ],
   "source": [
    "### Odd or even\n",
    "L1\n",
    "list(filter(lambda x :x%2==0,L1))"
   ]
  },
  {
   "cell_type": "code",
   "execution_count": 66,
   "id": "9bf7956a-69b8-42d2-b465-89d5a8988995",
   "metadata": {},
   "outputs": [
    {
     "data": {
      "text/plain": [
       "[1, 3, 5]"
      ]
     },
     "execution_count": 66,
     "metadata": {},
     "output_type": "execute_result"
    }
   ],
   "source": [
    "## odd\n",
    "list(filter( lambda x: x%2 !=0 ,L1))"
   ]
  },
  {
   "cell_type": "code",
   "execution_count": 69,
   "id": "63fef870-304a-41c5-9279-874830335d26",
   "metadata": {},
   "outputs": [
    {
     "data": {
      "text/plain": [
       "[1, 2, 3]"
      ]
     },
     "execution_count": 69,
     "metadata": {},
     "output_type": "execute_result"
    }
   ],
   "source": [
    "##positive and Negative\n",
    "pn=[-1,-2,-3,1,2,3]\n",
    "list(filter(lambda x:x>0,pn))"
   ]
  },
  {
   "cell_type": "code",
   "execution_count": 70,
   "id": "e7e34a38-3df3-4a81-900e-ea7762f50fca",
   "metadata": {},
   "outputs": [
    {
     "data": {
      "text/plain": [
       "[-1, -2, -3]"
      ]
     },
     "execution_count": 70,
     "metadata": {},
     "output_type": "execute_result"
    }
   ],
   "source": [
    "##negative\n",
    "list(filter(lambda x:x<0,pn))"
   ]
  },
  {
   "cell_type": "code",
   "execution_count": 71,
   "id": "5a3b8218-fa32-4ab5-8fd3-632efeca6593",
   "metadata": {},
   "outputs": [],
   "source": [
    "records = [('Sachin Tendulkar', 34357), \n",
    "                  ('Ricky Ponting', 27483), \n",
    "                  ('Jack Kallis', 25534), \n",
    "                  ('Virat Kohli', 24936)]"
   ]
  },
  {
   "cell_type": "code",
   "execution_count": 90,
   "id": "e207f12e-6e55-48f0-a2bf-a894ab28382b",
   "metadata": {},
   "outputs": [
    {
     "data": {
      "text/plain": [
       "[24936, 25534, 27483, 34357]"
      ]
     },
     "execution_count": 90,
     "metadata": {},
     "output_type": "execute_result"
    }
   ],
   "source": [
    "a=list(map(lambda x:x[1],player_records))\n",
    "a.sort()\n",
    "a"
   ]
  },
  {
   "cell_type": "code",
   "execution_count": 89,
   "id": "1eb3140c-23bc-4d21-82c2-d2cff6926ce7",
   "metadata": {},
   "outputs": [
    {
     "data": {
      "text/plain": [
       "[('Virat Kohli', 24936),\n",
       " ('Jack Kallis', 25534),\n",
       " ('Ricky Ponting', 27483),\n",
       " ('Sachin Tendulkar', 34357)]"
      ]
     },
     "execution_count": 89,
     "metadata": {},
     "output_type": "execute_result"
    }
   ],
   "source": [
    "sorted(player_records, key=lambda x:x[1])"
   ]
  },
  {
   "cell_type": "code",
   "execution_count": null,
   "id": "e8a3b8d6-05df-47fb-8b84-434462fff0d9",
   "metadata": {},
   "outputs": [],
   "source": []
  }
 ],
 "metadata": {
  "kernelspec": {
   "display_name": "Python 3 (ipykernel)",
   "language": "python",
   "name": "python3"
  },
  "language_info": {
   "codemirror_mode": {
    "name": "ipython",
    "version": 3
   },
   "file_extension": ".py",
   "mimetype": "text/x-python",
   "name": "python",
   "nbconvert_exporter": "python",
   "pygments_lexer": "ipython3",
   "version": "3.9.12"
  }
 },
 "nbformat": 4,
 "nbformat_minor": 5
}
