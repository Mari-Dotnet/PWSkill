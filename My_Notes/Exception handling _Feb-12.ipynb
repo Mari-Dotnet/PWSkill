{
 "cells": [
  {
   "cell_type": "markdown",
   "id": "e61ec5da-3d39-4d3e-b0aa-e3c973add35e",
   "metadata": {},
   "source": [
    "#### Error vs Exception: \n",
    "- Error: Error is identifie and corrceted at compile time\n",
    "- exception : It will be identified at run time"
   ]
  },
  {
   "cell_type": "code",
   "execution_count": 1,
   "id": "8aed6b70-5b9b-4946-a350-77f5141b909b",
   "metadata": {},
   "outputs": [
    {
     "ename": "NameError",
     "evalue": "name 'b' is not defined",
     "output_type": "error",
     "traceback": [
      "\u001b[1;31m---------------------------------------------------------------------------\u001b[0m",
      "\u001b[1;31mNameError\u001b[0m                                 Traceback (most recent call last)",
      "Input \u001b[1;32mIn [1]\u001b[0m, in \u001b[0;36m<cell line: 1>\u001b[1;34m()\u001b[0m\n\u001b[1;32m----> 1\u001b[0m a\u001b[38;5;241m=\u001b[39m\u001b[43mb\u001b[49m\n",
      "\u001b[1;31mNameError\u001b[0m: name 'b' is not defined"
     ]
    }
   ],
   "source": [
    "a=b"
   ]
  },
  {
   "cell_type": "code",
   "execution_count": 6,
   "id": "522844a6-60fd-4126-a30b-2d7cd04f7e0a",
   "metadata": {},
   "outputs": [
    {
     "name": "stdout",
     "output_type": "stream",
     "text": [
      "name 'b' is not defined\n"
     ]
    }
   ],
   "source": [
    "try:\n",
    "    a=b\n",
    "except Exception as ex:\n",
    "    print(ex)"
   ]
  },
  {
   "cell_type": "code",
   "execution_count": 7,
   "id": "456497ad-714d-4b31-b871-a4febf47b027",
   "metadata": {},
   "outputs": [
    {
     "ename": "NameError",
     "evalue": "name 'b' is not defined",
     "output_type": "error",
     "traceback": [
      "\u001b[1;31m---------------------------------------------------------------------------\u001b[0m",
      "\u001b[1;31mNameError\u001b[0m                                 Traceback (most recent call last)",
      "Input \u001b[1;32mIn [7]\u001b[0m, in \u001b[0;36m<cell line: 1>\u001b[1;34m()\u001b[0m\n\u001b[1;32m----> 1\u001b[0m a\u001b[38;5;241m=\u001b[39m\u001b[43mb\u001b[49m\n",
      "\u001b[1;31mNameError\u001b[0m: name 'b' is not defined"
     ]
    }
   ],
   "source": [
    " a=b   "
   ]
  },
  {
   "cell_type": "code",
   "execution_count": 13,
   "id": "83eb2bbd-647a-44c1-bdd4-8f4fea737d00",
   "metadata": {},
   "outputs": [
    {
     "name": "stdout",
     "output_type": "stream",
     "text": [
      "Please provide the intger value\n"
     ]
    }
   ],
   "source": [
    "try:\n",
    "    a=5\n",
    "    b=\"s\"\n",
    "    c=a+b\n",
    "except NameError:\n",
    "    print(\"The user nothave defined the variable\")\n",
    "except TypeError:\n",
    "    print(\"Please provide the intger value\")\n",
    "except Exception as ex:\n",
    "    print(ex)"
   ]
  },
  {
   "cell_type": "code",
   "execution_count": 12,
   "id": "287aadc3-ca17-4b17-a279-a25ba2d9ab01",
   "metadata": {},
   "outputs": [
    {
     "ename": "TypeError",
     "evalue": "unsupported operand type(s) for +: 'int' and 'str'",
     "output_type": "error",
     "traceback": [
      "\u001b[1;31m---------------------------------------------------------------------------\u001b[0m",
      "\u001b[1;31mTypeError\u001b[0m                                 Traceback (most recent call last)",
      "Input \u001b[1;32mIn [12]\u001b[0m, in \u001b[0;36m<cell line: 3>\u001b[1;34m()\u001b[0m\n\u001b[0;32m      1\u001b[0m a\u001b[38;5;241m=\u001b[39m\u001b[38;5;241m5\u001b[39m\n\u001b[0;32m      2\u001b[0m b\u001b[38;5;241m=\u001b[39m\u001b[38;5;124m\"\u001b[39m\u001b[38;5;124ms\u001b[39m\u001b[38;5;124m\"\u001b[39m\n\u001b[1;32m----> 3\u001b[0m c\u001b[38;5;241m=\u001b[39m\u001b[43ma\u001b[49m\u001b[38;5;241;43m+\u001b[39;49m\u001b[43mb\u001b[49m\n",
      "\u001b[1;31mTypeError\u001b[0m: unsupported operand type(s) for +: 'int' and 'str'"
     ]
    }
   ],
   "source": [
    "a=5\n",
    "b=\"s\"\n",
    "c=a+b"
   ]
  },
  {
   "cell_type": "markdown",
   "id": "96825ec9-2339-4f0e-a6cf-0371bfb1488f",
   "metadata": {},
   "source": [
    "#### try, else, finaly\n",
    "- sql connection open try block\n",
    "- perform curd operation else block\n",
    "- close the connection finaly block"
   ]
  },
  {
   "cell_type": "code",
   "execution_count": 23,
   "id": "96a2b257-df2f-4fe3-b79f-4190a46e85a0",
   "metadata": {},
   "outputs": [
    {
     "name": "stdin",
     "output_type": "stream",
     "text": [
      "enter the number1 10\n",
      "enter the number 2 5\n"
     ]
    },
    {
     "name": "stdout",
     "output_type": "stream",
     "text": [
      "2.0\n",
      "finaly block\n"
     ]
    }
   ],
   "source": [
    "try:\n",
    "    a=int(input(\"enter the number1\"))\n",
    "    b=int(input(\"enter the number 2\"))\n",
    "    c=a/b\n",
    "except ZeroDivisionError:\n",
    "    print(\"please enter the value greater than 0\")\n",
    "except NameError:\n",
    "    print(\"The user nothave defined the variable\")\n",
    "except TypeError:\n",
    "    print(\"Please provide the intger value\")\n",
    "except Exception as ex:\n",
    "    print(ex)\n",
    "else:\n",
    "    print(c)\n",
    "finally:\n",
    "    print(\"finaly block\")\n"
   ]
  },
  {
   "cell_type": "code",
   "execution_count": 16,
   "id": "72b231ea-6e63-4f74-8252-c4fd7b511780",
   "metadata": {},
   "outputs": [
    {
     "ename": "ZeroDivisionError",
     "evalue": "division by zero",
     "output_type": "error",
     "traceback": [
      "\u001b[1;31m---------------------------------------------------------------------------\u001b[0m",
      "\u001b[1;31mZeroDivisionError\u001b[0m                         Traceback (most recent call last)",
      "Input \u001b[1;32mIn [16]\u001b[0m, in \u001b[0;36m<cell line: 1>\u001b[1;34m()\u001b[0m\n\u001b[1;32m----> 1\u001b[0m \u001b[38;5;241;43m10\u001b[39;49m\u001b[38;5;241;43m/\u001b[39;49m\u001b[38;5;241;43m0\u001b[39;49m\n",
      "\u001b[1;31mZeroDivisionError\u001b[0m: division by zero"
     ]
    }
   ],
   "source": [
    "10/0"
   ]
  },
  {
   "cell_type": "markdown",
   "id": "2d0a6b69-4bcf-4874-a9ea-9479d3f16dfd",
   "metadata": {},
   "source": [
    "### Custom exception"
   ]
  },
  {
   "cell_type": "code",
   "execution_count": 26,
   "id": "9fbbe316-addf-4d69-b0f9-3246d44e13b7",
   "metadata": {},
   "outputs": [],
   "source": [
    "class Error(Exception):\n",
    "    pass\n",
    "\n",
    "class dobexception(Error):\n",
    "    pass"
   ]
  },
  {
   "cell_type": "code",
   "execution_count": 35,
   "id": "ddb68128-d66c-4157-ab63-3b0eeb522cc8",
   "metadata": {},
   "outputs": [
    {
     "name": "stdin",
     "output_type": "stream",
     "text": [
      "enter the date of birth 2004\n"
     ]
    },
    {
     "name": "stdout",
     "output_type": "stream",
     "text": [
      "age 19\n",
      "The year range is not valid\n"
     ]
    }
   ],
   "source": [
    "try:\n",
    "    year=int(input(\"enter the date of birth\"))\n",
    "    age= 2023-year\n",
    "    print('age',age)\n",
    "    if age<=30 and age >20:\n",
    "        print(\"The age is valid you can apply for the job\")\n",
    "    else:\n",
    "        raise dobexception\n",
    "except dobexception:\n",
    "    print(\"The year range is not valid\")\n"
   ]
  },
  {
   "cell_type": "code",
   "execution_count": null,
   "id": "aa05163a-7f33-4d2b-bde2-64c75d8fa20a",
   "metadata": {},
   "outputs": [],
   "source": []
  }
 ],
 "metadata": {
  "kernelspec": {
   "display_name": "Python 3 (ipykernel)",
   "language": "python",
   "name": "python3"
  },
  "language_info": {
   "codemirror_mode": {
    "name": "ipython",
    "version": 3
   },
   "file_extension": ".py",
   "mimetype": "text/x-python",
   "name": "python",
   "nbconvert_exporter": "python",
   "pygments_lexer": "ipython3",
   "version": "3.9.12"
  }
 },
 "nbformat": 4,
 "nbformat_minor": 5
}
