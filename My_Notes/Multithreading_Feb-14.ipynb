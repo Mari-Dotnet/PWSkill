{
 "cells": [
  {
   "cell_type": "markdown",
   "id": "a09b3a0f-cabd-4b78-9679-e59968ded3bc",
   "metadata": {},
   "source": [
    "#### Mutilthreading"
   ]
  },
  {
   "cell_type": "code",
   "execution_count": 4,
   "id": "6c215081-4e84-4a4e-a53d-9897eeed5c95",
   "metadata": {},
   "outputs": [],
   "source": [
    "def test(id):\n",
    "    print(\"this is my id %d \" % id)"
   ]
  },
  {
   "cell_type": "code",
   "execution_count": 5,
   "id": "4ad18ade-e022-4fe2-82fa-6457d3baeca8",
   "metadata": {},
   "outputs": [
    {
     "name": "stdout",
     "output_type": "stream",
     "text": [
      "this is my id 1 \n"
     ]
    }
   ],
   "source": [
    "test(1)"
   ]
  },
  {
   "cell_type": "code",
   "execution_count": 6,
   "id": "5dcd5cc2-9310-4083-8fa4-98df3c01fece",
   "metadata": {},
   "outputs": [
    {
     "name": "stdout",
     "output_type": "stream",
     "text": [
      "this is my id 2 \n"
     ]
    }
   ],
   "source": [
    "test(2)"
   ]
  },
  {
   "cell_type": "code",
   "execution_count": 7,
   "id": "9eeb5435-a892-4009-a505-65c4594d3db9",
   "metadata": {},
   "outputs": [
    {
     "name": "stdout",
     "output_type": "stream",
     "text": [
      "this is my id 3 \n"
     ]
    }
   ],
   "source": [
    "test(3)"
   ]
  },
  {
   "cell_type": "code",
   "execution_count": 8,
   "id": "d131a8a5-07f8-46c1-9989-ed621212417a",
   "metadata": {},
   "outputs": [],
   "source": [
    "##above the function we can call one by one with dufferent input\n",
    "## to avoid this we can use thread "
   ]
  },
  {
   "cell_type": "code",
   "execution_count": 10,
   "id": "5e7ac142-e156-4939-8499-4810ee8426df",
   "metadata": {},
   "outputs": [],
   "source": [
    "import threading"
   ]
  },
  {
   "cell_type": "code",
   "execution_count": 18,
   "id": "8d04f3c5-92e2-4004-b9c4-902474ff3b68",
   "metadata": {},
   "outputs": [],
   "source": [
    "thread=[threading.Thread(target=test,args=(i,)) for i in [1,2,3]]"
   ]
  },
  {
   "cell_type": "code",
   "execution_count": 19,
   "id": "6622bd58-c4a0-44a7-9c77-8631f25410f7",
   "metadata": {},
   "outputs": [
    {
     "data": {
      "text/plain": [
       "[<Thread(Thread-8, initial)>,\n",
       " <Thread(Thread-9, initial)>,\n",
       " <Thread(Thread-10, initial)>]"
      ]
     },
     "execution_count": 19,
     "metadata": {},
     "output_type": "execute_result"
    }
   ],
   "source": [
    "thread"
   ]
  },
  {
   "cell_type": "code",
   "execution_count": null,
   "id": "74deb9c6-3e16-4f7e-bf33-40770957033e",
   "metadata": {},
   "outputs": [],
   "source": [
    "for t in thread:\n",
    "    t.start()"
   ]
  },
  {
   "cell_type": "code",
   "execution_count": 22,
   "id": "7774593d-434f-45a2-ae16-e7fe3f5e5263",
   "metadata": {},
   "outputs": [],
   "source": [
    "####Data download from differnet url\n",
    "import urllib.request"
   ]
  },
  {
   "cell_type": "code",
   "execution_count": 23,
   "id": "c659962b-f8df-46c7-977a-d1b9dd8d0948",
   "metadata": {},
   "outputs": [],
   "source": [
    "def downlaodfile(url,filename):\n",
    "    urllib.request.urlretrieve(url,filename)"
   ]
  },
  {
   "cell_type": "code",
   "execution_count": 24,
   "id": "b240ca1b-99dc-4370-bb9b-bd643d65ee86",
   "metadata": {},
   "outputs": [],
   "source": [
    "downlaodfile(\"https://github.com/Mari-Dotnet/PWSkill/blob/main/My_Notes/modules%20and%20Import%20statments/Pwskill/Course/Course_details.py\",\"course.txt\")"
   ]
  },
  {
   "cell_type": "code",
   "execution_count": 25,
   "id": "613a3d44-c086-4284-bd03-70c60c186216",
   "metadata": {},
   "outputs": [],
   "source": [
    "urllsit=[\"https://github.com/Mari-Dotnet/PWSkill/blob/main/Assignment/Exception_Ass_Feb-12.ipynb\",\"https://github.com/Mari-Dotnet/PWSkill/blob/main/Assignment/Exception_Ass_Feb-13.ipynb\"]"
   ]
  },
  {
   "cell_type": "code",
   "execution_count": 26,
   "id": "2639853f-dae9-4943-bd18-4166957233c9",
   "metadata": {},
   "outputs": [
    {
     "data": {
      "text/plain": [
       "['https://github.com/Mari-Dotnet/PWSkill/blob/main/Assignment/Exception_Ass_Feb-12.ipynb',\n",
       " 'https://github.com/Mari-Dotnet/PWSkill/blob/main/Assignment/Exception_Ass_Feb-13.ipynb']"
      ]
     },
     "execution_count": 26,
     "metadata": {},
     "output_type": "execute_result"
    }
   ],
   "source": [
    "urllsit"
   ]
  },
  {
   "cell_type": "code",
   "execution_count": 27,
   "id": "2076feaf-3690-4b6a-9d3b-0de5d70d300e",
   "metadata": {},
   "outputs": [],
   "source": [
    "data_file_txt=[\"file1.txt\",\"file2.txt\"]"
   ]
  },
  {
   "cell_type": "code",
   "execution_count": 35,
   "id": "10215956-c0e9-4a0d-aa1f-d3777d8cf914",
   "metadata": {},
   "outputs": [],
   "source": [
    "thread1=[threading.Thread(target=downlaodfile,args=(urllsit[i],data_file_txt[i])) for i in range(len(urllsit))]"
   ]
  },
  {
   "cell_type": "code",
   "execution_count": 36,
   "id": "0bfe2793-d269-49e4-8d9c-985b3babcf93",
   "metadata": {},
   "outputs": [
    {
     "data": {
      "text/plain": [
       "[<Thread(Thread-15, initial)>, <Thread(Thread-16, initial)>]"
      ]
     },
     "execution_count": 36,
     "metadata": {},
     "output_type": "execute_result"
    }
   ],
   "source": [
    "thread1"
   ]
  },
  {
   "cell_type": "code",
   "execution_count": 37,
   "id": "b168cfa4-27f0-48c6-8226-d9b2641aa097",
   "metadata": {},
   "outputs": [],
   "source": [
    "for th in thread1:\n",
    "    th.start()"
   ]
  },
  {
   "cell_type": "code",
   "execution_count": 38,
   "id": "89e13e8c-b293-4150-b265-5b6fe43dcd6b",
   "metadata": {},
   "outputs": [],
   "source": [
    "import time"
   ]
  },
  {
   "cell_type": "code",
   "execution_count": 52,
   "id": "050a3ce1-6109-4c35-b600-159f50ae3e51",
   "metadata": {},
   "outputs": [],
   "source": [
    "def test2(x):\n",
    "    for i in range(10):\n",
    "        print(\"print the values x id %d and i values id %d\" %(x,i))\n",
    "        #time.sleep(1)"
   ]
  },
  {
   "cell_type": "code",
   "execution_count": 53,
   "id": "6dac88e1-c012-4447-986a-5a9309fb72a0",
   "metadata": {},
   "outputs": [
    {
     "name": "stdout",
     "output_type": "stream",
     "text": [
      "print the values x id 10 and i values id 0\n",
      "print the values x id 10 and i values id 1\n",
      "print the values x id 10 and i values id 2\n",
      "print the values x id 10 and i values id 3\n",
      "print the values x id 10 and i values id 4\n",
      "print the values x id 10 and i values id 5\n",
      "print the values x id 10 and i values id 6\n",
      "print the values x id 10 and i values id 7\n",
      "print the values x id 10 and i values id 8\n",
      "print the values x id 10 and i values id 9\n"
     ]
    }
   ],
   "source": [
    "test2(10)"
   ]
  },
  {
   "cell_type": "code",
   "execution_count": 54,
   "id": "a8bab6a4-319d-4e74-b574-baa5ec01c152",
   "metadata": {},
   "outputs": [],
   "source": [
    "thread3=[threading.Thread(target=test2,args=(i,)) for i in range(3)]"
   ]
  },
  {
   "cell_type": "code",
   "execution_count": 55,
   "id": "74daee9d-8cb7-45a8-a8e3-5a279b7bef85",
   "metadata": {},
   "outputs": [
    {
     "name": "stdout",
     "output_type": "stream",
     "text": [
      "print the values x id 0 and i values id 0\n",
      "print the values x id 0 and i values id 1\n",
      "print the values x id 0 and i values id 2\n",
      "print the values x id 0 and i values id 3\n",
      "print the values x id 0 and i values id 4\n",
      "print the values x id 0 and i values id 5\n",
      "print the values x id 0 and i values id 6\n",
      "print the values x id 0 and i values id 7\n",
      "print the values x id 0 and i values id 8\n",
      "print the values x id 0 and i values id 9\n",
      "print the values x id 1 and i values id 0\n",
      "print the values x id 1 and i values id 1\n",
      "print the values x id 1 and i values id 2\n",
      "print the values x id 1 and i values id 3\n",
      "print the values x id 1 and i values id 4\n",
      "print the values x id 1 and i values id 5\n",
      "print the values x id 1 and i values id 6\n",
      "print the values x id 1 and i values id 7\n",
      "print the values x id 1 and i values id 8\n",
      "print the values x id 1 and i values id 9\n",
      "print the values x id 2 and i values id 0\n",
      "print the values x id 2 and i values id 1\n",
      "print the values x id 2 and i values id 2\n",
      "print the values x id 2 and i values id 3\n",
      "print the values x id 2 and i values id 4\n",
      "print the values x id 2 and i values id 5\n",
      "print the values x id 2 and i values id 6\n",
      "print the values x id 2 and i values id 7\n",
      "print the values x id 2 and i values id 8\n",
      "print the values x id 2 and i values id 9\n"
     ]
    }
   ],
   "source": [
    "for th in thread3:\n",
    "    th.start()"
   ]
  },
  {
   "cell_type": "code",
   "execution_count": 59,
   "id": "3a3be4e9-5b5e-4d04-9427-b3d815028e73",
   "metadata": {},
   "outputs": [],
   "source": [
    "shared_var=0\n",
    "lock_var=threading.Lock()\n",
    "def test3(x):\n",
    "        global shared_var\n",
    "        with lock_var :\n",
    "            shared_var=shared_var+1\n",
    "            print(\"values of x is %d shared values of %d\" %(x,shared_var))\n",
    "            time.sleep(1)\n",
    "        \n",
    "                "
   ]
  },
  {
   "cell_type": "code",
   "execution_count": 60,
   "id": "2e33bbbf-13f1-4dd2-bfec-75ff80896db6",
   "metadata": {},
   "outputs": [
    {
     "name": "stdout",
     "output_type": "stream",
     "text": [
      "values of x is 1 shared values of 1\n"
     ]
    }
   ],
   "source": [
    "test3(1)"
   ]
  },
  {
   "cell_type": "code",
   "execution_count": 61,
   "id": "803b0444-7af6-4c3f-8801-491847d3501f",
   "metadata": {},
   "outputs": [
    {
     "name": "stdout",
     "output_type": "stream",
     "text": [
      "values of x is 2 shared values of 2\n"
     ]
    }
   ],
   "source": [
    "test3(2)"
   ]
  },
  {
   "cell_type": "code",
   "execution_count": 62,
   "id": "568db661-4798-4a6d-b021-8a27dbbe4775",
   "metadata": {},
   "outputs": [
    {
     "name": "stdout",
     "output_type": "stream",
     "text": [
      "values of x is 3 shared values of 3\n"
     ]
    }
   ],
   "source": [
    "test3(3)"
   ]
  },
  {
   "cell_type": "code",
   "execution_count": 63,
   "id": "c25ded18-0385-497c-baf4-58ffb4bd3ec2",
   "metadata": {},
   "outputs": [],
   "source": [
    "thread=[threading.Thread(target=test3, args=(i,)) for i in range(3)]"
   ]
  },
  {
   "cell_type": "code",
   "execution_count": 64,
   "id": "93e56382-4d9e-4afa-8c86-0bea7a5a88a2",
   "metadata": {},
   "outputs": [
    {
     "data": {
      "text/plain": [
       "[<Thread(Thread-26, initial)>,\n",
       " <Thread(Thread-27, initial)>,\n",
       " <Thread(Thread-28, initial)>]"
      ]
     },
     "execution_count": 64,
     "metadata": {},
     "output_type": "execute_result"
    }
   ],
   "source": [
    "thread"
   ]
  },
  {
   "cell_type": "code",
   "execution_count": 65,
   "id": "44ecc95c-32a9-4a27-b12e-021a66f5af2e",
   "metadata": {},
   "outputs": [
    {
     "name": "stdout",
     "output_type": "stream",
     "text": [
      "values of x is 0 shared values of 4\n",
      "values of x is 1 shared values of 5\n",
      "values of x is 2 shared values of 6\n"
     ]
    }
   ],
   "source": [
    "for th in thread:\n",
    "    th.start()"
   ]
  },
  {
   "cell_type": "code",
   "execution_count": null,
   "id": "d4f87262-4fd5-4fad-9bdc-570215d4fab0",
   "metadata": {},
   "outputs": [],
   "source": []
  }
 ],
 "metadata": {
  "kernelspec": {
   "display_name": "Python 3 (ipykernel)",
   "language": "python",
   "name": "python3"
  },
  "language_info": {
   "codemirror_mode": {
    "name": "ipython",
    "version": 3
   },
   "file_extension": ".py",
   "mimetype": "text/x-python",
   "name": "python",
   "nbconvert_exporter": "python",
   "pygments_lexer": "ipython3",
   "version": "3.9.12"
  }
 },
 "nbformat": 4,
 "nbformat_minor": 5
}
