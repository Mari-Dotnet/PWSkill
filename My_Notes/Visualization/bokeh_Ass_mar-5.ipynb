{
 "cells": [
  {
   "cell_type": "markdown",
   "id": "54a1b6cb-ab9d-4a0c-9d2d-af3e6af00ede",
   "metadata": {},
   "source": [
    "#### Q1. How can you create a Bokeh plot using Python code?"
   ]
  },
  {
   "cell_type": "code",
   "execution_count": 3,
   "id": "e4d51a2f-f4a7-43a7-b5bf-f50b7a229375",
   "metadata": {},
   "outputs": [],
   "source": [
    "from bokeh.plotting import figure,output_file,show"
   ]
  },
  {
   "cell_type": "code",
   "execution_count": 6,
   "id": "951c4052-670e-4184-842c-d1a5d9fe1c5a",
   "metadata": {},
   "outputs": [],
   "source": [
    "fig = figure()\n",
    "fig.line([2,3,4,5], [6,7,8,9])\n",
    "output_file('filename.html')\n",
    "show(fig)"
   ]
  },
  {
   "cell_type": "markdown",
   "id": "ebc317a6-606e-4bee-b86e-295e52a7dc69",
   "metadata": {},
   "source": [
    "#### Q2. What are glyphs in Bokeh, and how can you add them to a Bokeh plot? Explain with an example.\n",
    "\n",
    "- Bokeh, glyphs are the basic visual building blocks of a plot.\n",
    "- Glyphs are geometric shapes, such as circles, rectangles, lines, and text, that can be used to represent data points or other visual elements in a plot"
   ]
  },
  {
   "cell_type": "code",
   "execution_count": 8,
   "id": "810bd9cb-2e21-4bc6-b585-40bcd6e440e0",
   "metadata": {},
   "outputs": [],
   "source": [
    "from bokeh.plotting import figure, show\n",
    "from bokeh.models import ColumnDataSource\n",
    "\n",
    "# Define some data\n",
    "x = [1, 2, 3, 4, 5]\n",
    "y = [6, 7, 2, 4, 5]\n",
    "colors = [\"red\", \"green\", \"blue\", \"orange\", \"purple\"]\n",
    "\n",
    "# Create a ColumnDataSource from the data\n",
    "source = ColumnDataSource(data=dict(x=x, y=y, colors=colors))\n",
    "\n",
    "# Create a new plot with the Bokeh figure() function\n",
    "p = figure(plot_width=400, plot_height=400)\n",
    "\n",
    "# Add the Circle glyph to the plot\n",
    "p.circle('x', 'y', size=20, fill_color='colors', source=source)\n",
    "\n",
    "# Show the plot\n",
    "show(p)"
   ]
  },
  {
   "cell_type": "code",
   "execution_count": 10,
   "id": "31369303-1a25-45f6-82ea-1e083083cf61",
   "metadata": {},
   "outputs": [],
   "source": [
    "#### Q3. How can you customize the appearance of a Bokeh plot, including the axes, title, and legend?"
   ]
  },
  {
   "cell_type": "code",
   "execution_count": null,
   "id": "b763a065-5f6d-4361-8261-2ab55eeef7c1",
   "metadata": {},
   "outputs": [],
   "source": [
    "from bokeh.plotting import figure, show\n",
    "\n",
    "# create some data\n",
    "x = [1, 2, 3, 4, 5]\n",
    "y = [6, 7, 2, 4, 5]\n",
    "\n",
    "# create a figure object\n",
    "p = figure(title=\"My Bokeh Plot\")\n",
    "\n",
    "# customize the appearance of the plot\n",
    "p.xaxis.axis_label = \"X-axis\"\n",
    "p.yaxis.axis_label = \"Y-axis\"\n",
    "p.xaxis.major_label_orientation = \"vertical\"\n",
    "p.legend.location = \"top_left\"\n",
    "p.legend.title = \"Legend\"\n",
    "\n",
    "# add glyphs to the plot\n",
    "p.circle(x, y, size=10, color=\"red\")\n",
    "p.line(x, y, line_width=2, line_color=\"blue\", line_dash=\"dotted\")\n",
    "\n",
    "# show the plot\n",
    "show(p)"
   ]
  },
  {
   "cell_type": "markdown",
   "id": "c9e3a887-df43-42b4-b6fa-54a21a00ee73",
   "metadata": {},
   "source": [
    "#### Q4. What is a Bokeh server, and how can you use it to create interactive plots that can be updated in real time?\n",
    "-  A Bokeh server is a Python library that allows users to create interactive web applications and dashboards using Bokeh plots.With the Bokeh server, users can create plots that can be updated in real time based on user input, data changes, or external events."
   ]
  },
  {
   "cell_type": "markdown",
   "id": "08485bab-26eb-4c12-8609-94966c8f80c0",
   "metadata": {},
   "source": [
    "#### Q5. How can you embed a Bokeh plot into a web page or dashboard using Flask or Django?"
   ]
  },
  {
   "cell_type": "code",
   "execution_count": null,
   "id": "bac07d06-39f6-4b15-a741-52bbd4518d7c",
   "metadata": {},
   "outputs": [],
   "source": [
    "from flask import Flask, render_template\n",
    "from bokeh.plotting import figure, output_file, save\n",
    "\n",
    "app = Flask(__name__)\n",
    "\n",
    "@app.route('/plot')\n",
    "def plot():\n",
    "    # Create a Bokeh plot\n",
    "    p = figure(title='My Bokeh Plot')\n",
    "    p.line([1, 2, 3], [4, 5, 6])\n",
    "    \n",
    "    # Save the plot as an HTML file\n",
    "    output_file('bokeh_plot.html')\n",
    "    save(p)\n",
    "    \n",
    "    # Render the HTML file in the template\n",
    "    return render_template('plot.html')\n",
    "\n",
    "if __name__ == '__main__':\n",
    "    app.run()"
   ]
  },
  {
   "cell_type": "code",
   "execution_count": null,
   "id": "8420dddc-9eac-4007-9b99-2274f8f7cd30",
   "metadata": {},
   "outputs": [],
   "source": []
  }
 ],
 "metadata": {
  "kernelspec": {
   "display_name": "Python 3 (ipykernel)",
   "language": "python",
   "name": "python3"
  },
  "language_info": {
   "codemirror_mode": {
    "name": "ipython",
    "version": 3
   },
   "file_extension": ".py",
   "mimetype": "text/x-python",
   "name": "python",
   "nbconvert_exporter": "python",
   "pygments_lexer": "ipython3",
   "version": "3.9.12"
  }
 },
 "nbformat": 4,
 "nbformat_minor": 5
}
