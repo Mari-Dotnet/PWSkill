{
 "cells": [
  {
   "cell_type": "code",
   "execution_count": 1,
   "id": "4177007c-2790-41b2-ab59-d652abc40ddf",
   "metadata": {},
   "outputs": [],
   "source": [
    "# logical operator\n",
    "# and or not\n",
    "# not will always given True/ False output"
   ]
  },
  {
   "cell_type": "code",
   "execution_count": 2,
   "id": "fee71bfe-efc5-46f0-832c-7d0ed97aefef",
   "metadata": {},
   "outputs": [
    {
     "data": {
      "text/plain": [
       "True"
      ]
     },
     "execution_count": 2,
     "metadata": {},
     "output_type": "execute_result"
    }
   ],
   "source": [
    "True and True"
   ]
  },
  {
   "cell_type": "code",
   "execution_count": 3,
   "id": "ecb4ded8-79ec-4f63-804a-bf70b6f8fb02",
   "metadata": {},
   "outputs": [
    {
     "data": {
      "text/plain": [
       "True"
      ]
     },
     "execution_count": 3,
     "metadata": {},
     "output_type": "execute_result"
    }
   ],
   "source": [
    "True or False"
   ]
  },
  {
   "cell_type": "code",
   "execution_count": 8,
   "id": "0742eda1-14ae-4e51-b452-4cf238c31bfc",
   "metadata": {},
   "outputs": [
    {
     "data": {
      "text/plain": [
       "True"
      ]
     },
     "execution_count": 8,
     "metadata": {},
     "output_type": "execute_result"
    }
   ],
   "source": [
    "True != False"
   ]
  },
  {
   "cell_type": "code",
   "execution_count": 11,
   "id": "70e2f482-b89a-4c39-bfb4-598b6e0dde7c",
   "metadata": {},
   "outputs": [
    {
     "data": {
      "text/plain": [
       "True"
      ]
     },
     "execution_count": 11,
     "metadata": {},
     "output_type": "execute_result"
    }
   ],
   "source": [
    "not False"
   ]
  },
  {
   "cell_type": "code",
   "execution_count": 12,
   "id": "9bede616-9ca4-4347-b4df-b8e5a6029932",
   "metadata": {},
   "outputs": [
    {
     "data": {
      "text/plain": [
       "True"
      ]
     },
     "execution_count": 12,
     "metadata": {},
     "output_type": "execute_result"
    }
   ],
   "source": [
    "not bool(0)"
   ]
  },
  {
   "cell_type": "code",
   "execution_count": 13,
   "id": "68738edf-cee3-4360-81f0-3f7ae46f1fa3",
   "metadata": {},
   "outputs": [
    {
     "data": {
      "text/plain": [
       "True"
      ]
     },
     "execution_count": 13,
     "metadata": {},
     "output_type": "execute_result"
    }
   ],
   "source": [
    "bool(100)"
   ]
  },
  {
   "cell_type": "code",
   "execution_count": 14,
   "id": "976e8fc3-601f-44cb-aadc-026e8a24374a",
   "metadata": {},
   "outputs": [
    {
     "data": {
      "text/plain": [
       "True"
      ]
     },
     "execution_count": 14,
     "metadata": {},
     "output_type": "execute_result"
    }
   ],
   "source": [
    "bool(-1)"
   ]
  },
  {
   "cell_type": "code",
   "execution_count": 15,
   "id": "ead7f73f-519a-4661-bde2-237f460a7b15",
   "metadata": {},
   "outputs": [
    {
     "data": {
      "text/plain": [
       "False"
      ]
     },
     "execution_count": 15,
     "metadata": {},
     "output_type": "execute_result"
    }
   ],
   "source": [
    "not 1"
   ]
  },
  {
   "cell_type": "code",
   "execution_count": 19,
   "id": "dcfead90-0c04-4710-8cc1-681d00a4b6ac",
   "metadata": {},
   "outputs": [
    {
     "data": {
      "text/plain": [
       "True"
      ]
     },
     "execution_count": 19,
     "metadata": {},
     "output_type": "execute_result"
    }
   ],
   "source": [
    "not(False) * True"
   ]
  },
  {
   "cell_type": "code",
   "execution_count": 21,
   "id": "6d5d4d35-1bf7-4426-b6ad-df0b74a21761",
   "metadata": {},
   "outputs": [
    {
     "name": "stdout",
     "output_type": "stream",
     "text": [
      "0\n"
     ]
    }
   ],
   "source": [
    "print((not(False)) * False)"
   ]
  },
  {
   "cell_type": "code",
   "execution_count": 22,
   "id": "ff57a4f5-b7c3-4708-87b1-973800d5b82f",
   "metadata": {},
   "outputs": [
    {
     "data": {
      "text/plain": [
       "True"
      ]
     },
     "execution_count": 22,
     "metadata": {},
     "output_type": "execute_result"
    }
   ],
   "source": [
    "not False * True == True"
   ]
  },
  {
   "cell_type": "code",
   "execution_count": 23,
   "id": "8a7257ee-b12c-4909-a0e2-04e6e4fcd3dd",
   "metadata": {},
   "outputs": [
    {
     "name": "stdout",
     "output_type": "stream",
     "text": [
      "2876360457280\n",
      "2876360480832\n"
     ]
    }
   ],
   "source": [
    "lst_a=[1,2,3,4]\n",
    "lst_b=[1,2,3,4]\n",
    "\n",
    "print(id(lst_a))\n",
    "\n",
    "print(id(lst_b))"
   ]
  },
  {
   "cell_type": "code",
   "execution_count": 24,
   "id": "73834d64-e944-4c13-b9e5-5751a9cb9f0a",
   "metadata": {},
   "outputs": [
    {
     "data": {
      "text/plain": [
       "False"
      ]
     },
     "execution_count": 24,
     "metadata": {},
     "output_type": "execute_result"
    }
   ],
   "source": [
    "lst_a is lst_b"
   ]
  },
  {
   "cell_type": "code",
   "execution_count": 25,
   "id": "aef89973-cbb6-4bf1-ad4b-c4293d7f6938",
   "metadata": {},
   "outputs": [],
   "source": [
    "lst_c=lst_a"
   ]
  },
  {
   "cell_type": "code",
   "execution_count": 26,
   "id": "7d139d64-ed15-437f-9c10-71ef02a41717",
   "metadata": {},
   "outputs": [
    {
     "name": "stdout",
     "output_type": "stream",
     "text": [
      "2876360457280\n"
     ]
    }
   ],
   "source": [
    "print(id(lst_c))"
   ]
  },
  {
   "cell_type": "code",
   "execution_count": 27,
   "id": "16098bc7-1cb9-429a-93d7-c03b61e23d89",
   "metadata": {},
   "outputs": [
    {
     "data": {
      "text/plain": [
       "True"
      ]
     },
     "execution_count": 27,
     "metadata": {},
     "output_type": "execute_result"
    }
   ],
   "source": [
    "lst_a is not lst_b"
   ]
  },
  {
   "cell_type": "markdown",
   "id": "4e16a1d7-71e6-45ad-a70e-18d6af781742",
   "metadata": {},
   "source": [
    "#### String"
   ]
  },
  {
   "cell_type": "code",
   "execution_count": 33,
   "id": "6aa07701-c7b4-4317-9e70-41acb7b266a6",
   "metadata": {},
   "outputs": [
    {
     "name": "stdout",
     "output_type": "stream",
     "text": [
      "<class 'str'>\n",
      "10\n"
     ]
    }
   ],
   "source": [
    "str1=\"Mari muhtu\"\n",
    "print(type(str1))\n",
    "print(len(str1))"
   ]
  },
  {
   "cell_type": "code",
   "execution_count": 31,
   "id": "6343be00-ec66-4a20-b609-ad340e35e30b",
   "metadata": {},
   "outputs": [
    {
     "data": {
      "text/plain": [
       "' muhtu'"
      ]
     },
     "execution_count": 31,
     "metadata": {},
     "output_type": "execute_result"
    }
   ],
   "source": [
    "str1[0]\n",
    "str1[4:]"
   ]
  },
  {
   "cell_type": "code",
   "execution_count": 32,
   "id": "5bff5bbe-7e55-46c9-949f-40d8d5b8047b",
   "metadata": {},
   "outputs": [
    {
     "name": "stdout",
     "output_type": "stream",
     "text": [
      "hai\n"
     ]
    }
   ],
   "source": [
    "a=10\n",
    "b=10\n",
    "if a>7 & b<20:\n",
    "    print(\"hai\")\n",
    "else:\n",
    "    print(\"out\")"
   ]
  },
  {
   "cell_type": "code",
   "execution_count": 34,
   "id": "c785cd4d-c30b-4742-b9d3-1adee9d5238d",
   "metadata": {},
   "outputs": [
    {
     "data": {
      "text/plain": [
       "'m'"
      ]
     },
     "execution_count": 34,
     "metadata": {},
     "output_type": "execute_result"
    }
   ],
   "source": [
    "str1[5]"
   ]
  },
  {
   "cell_type": "code",
   "execution_count": 36,
   "id": "2e373b3f-8d8f-45b2-b105-def2396a82c7",
   "metadata": {},
   "outputs": [
    {
     "data": {
      "text/plain": [
       "'muhtu'"
      ]
     },
     "execution_count": 36,
     "metadata": {},
     "output_type": "execute_result"
    }
   ],
   "source": [
    "str1[5:]"
   ]
  },
  {
   "cell_type": "code",
   "execution_count": 38,
   "id": "ff1972d3-1b10-4ce8-bc70-f4eb4e0674eb",
   "metadata": {},
   "outputs": [
    {
     "data": {
      "text/plain": [
       "'u'"
      ]
     },
     "execution_count": 38,
     "metadata": {},
     "output_type": "execute_result"
    }
   ],
   "source": [
    "str1[-1:]"
   ]
  },
  {
   "cell_type": "code",
   "execution_count": 39,
   "id": "051ea1c2-e921-4ae7-925c-85a7a7e328b0",
   "metadata": {},
   "outputs": [
    {
     "data": {
      "text/plain": [
       "'Mari muht'"
      ]
     },
     "execution_count": 39,
     "metadata": {},
     "output_type": "execute_result"
    }
   ],
   "source": [
    "str1[:-1]"
   ]
  },
  {
   "cell_type": "code",
   "execution_count": 60,
   "id": "a8dec6f4-274c-4735-8c33-1ad8b4b6bc41",
   "metadata": {},
   "outputs": [
    {
     "data": {
      "text/plain": [
       "'M'"
      ]
     },
     "execution_count": 60,
     "metadata": {},
     "output_type": "execute_result"
    }
   ],
   "source": [
    "str1[:1]"
   ]
  },
  {
   "cell_type": "code",
   "execution_count": 61,
   "id": "9a6ed2ac-195e-4d37-861c-307990721626",
   "metadata": {},
   "outputs": [
    {
     "data": {
      "text/plain": [
       "''"
      ]
     },
     "execution_count": 61,
     "metadata": {},
     "output_type": "execute_result"
    }
   ],
   "source": [
    "str1[3:1]"
   ]
  },
  {
   "cell_type": "code",
   "execution_count": 62,
   "id": "f6f3e8a7-849f-4f64-960c-abea75314658",
   "metadata": {},
   "outputs": [],
   "source": [
    "str1=\"Marimuhtu\""
   ]
  },
  {
   "cell_type": "code",
   "execution_count": 57,
   "id": "035cfead-d116-461b-97af-089a4897596e",
   "metadata": {},
   "outputs": [
    {
     "data": {
      "text/plain": [
       "''"
      ]
     },
     "execution_count": 57,
     "metadata": {},
     "output_type": "execute_result"
    }
   ],
   "source": [
    "str1[-2:4]"
   ]
  },
  {
   "cell_type": "code",
   "execution_count": 63,
   "id": "7e0d08ff-8dab-4fbb-a6b5-c32bd6b9396e",
   "metadata": {},
   "outputs": [
    {
     "data": {
      "text/plain": [
       "'uhtumiram'"
      ]
     },
     "execution_count": 63,
     "metadata": {},
     "output_type": "execute_result"
    }
   ],
   "source": [
    "##string Reverses\n",
    "str=\"marimuthu\"\n",
    "str[::-1]"
   ]
  },
  {
   "cell_type": "code",
   "execution_count": 65,
   "id": "7f55a6b2-584c-484c-8245-d73a6aa55295",
   "metadata": {},
   "outputs": [
    {
     "data": {
      "text/plain": [
       "'uur'"
      ]
     },
     "execution_count": 65,
     "metadata": {},
     "output_type": "execute_result"
    }
   ],
   "source": [
    "str[::-3]"
   ]
  },
  {
   "cell_type": "code",
   "execution_count": 66,
   "id": "c3aac4fa-8426-4a8a-8e3b-2621d81cd808",
   "metadata": {},
   "outputs": [
    {
     "data": {
      "text/plain": [
       "'mrmtu'"
      ]
     },
     "execution_count": 66,
     "metadata": {},
     "output_type": "execute_result"
    }
   ],
   "source": [
    "str[::2]"
   ]
  },
  {
   "cell_type": "code",
   "execution_count": 67,
   "id": "7cdedaee-1926-4779-a73d-d3ec1b2b452f",
   "metadata": {},
   "outputs": [
    {
     "data": {
      "text/plain": [
       "'utmrm'"
      ]
     },
     "execution_count": 67,
     "metadata": {},
     "output_type": "execute_result"
    }
   ],
   "source": [
    "str[::-2]"
   ]
  },
  {
   "cell_type": "code",
   "execution_count": 255,
   "id": "ed7b6417-ba60-4224-abdb-061d065bfa9c",
   "metadata": {},
   "outputs": [
    {
     "data": {
      "text/plain": [
       "'science'"
      ]
     },
     "execution_count": 255,
     "metadata": {},
     "output_type": "execute_result"
    }
   ],
   "source": [
    "course='Data science Masters'\n",
    "course[5:12]"
   ]
  },
  {
   "cell_type": "code",
   "execution_count": 238,
   "id": "fcf9fab2-1764-41ec-853d-75653b4f1e5c",
   "metadata": {},
   "outputs": [
    {
     "name": "stdout",
     "output_type": "stream",
     "text": [
      "sretsaM ecneics ataD\n"
     ]
    },
    {
     "data": {
      "text/plain": [
       "'ecneics'"
      ]
     },
     "execution_count": 238,
     "metadata": {},
     "output_type": "execute_result"
    }
   ],
   "source": [
    "print(course[::-1])\n",
    "course[11:4:-1]"
   ]
  },
  {
   "cell_type": "code",
   "execution_count": 85,
   "id": "3e00a0e1-7c8b-499f-afe5-2cbab0b54333",
   "metadata": {},
   "outputs": [
    {
     "data": {
      "text/plain": [
       "''"
      ]
     },
     "execution_count": 85,
     "metadata": {},
     "output_type": "execute_result"
    }
   ],
   "source": [
    "course[5:3]"
   ]
  },
  {
   "cell_type": "code",
   "execution_count": 269,
   "id": "16922c6a-264a-43a3-a326-fd719678723f",
   "metadata": {},
   "outputs": [
    {
     "data": {
      "text/plain": [
       "'tum'"
      ]
     },
     "execution_count": 269,
     "metadata": {},
     "output_type": "execute_result"
    }
   ],
   "source": [
    "name=\"marimuthu\"\n",
    "name[6:3:-1]"
   ]
  },
  {
   "cell_type": "code",
   "execution_count": 106,
   "id": "5edba89c-b2e2-49c1-bca9-746c4e80272c",
   "metadata": {},
   "outputs": [
    {
     "data": {
      "text/plain": [
       "'imuth'"
      ]
     },
     "execution_count": 106,
     "metadata": {},
     "output_type": "execute_result"
    }
   ],
   "source": [
    "name[3:-1]"
   ]
  },
  {
   "cell_type": "code",
   "execution_count": 118,
   "id": "d00371b8-0f4e-45e1-bfd9-889776d71080",
   "metadata": {},
   "outputs": [
    {
     "data": {
      "text/plain": [
       "'a sc'"
      ]
     },
     "execution_count": 118,
     "metadata": {},
     "output_type": "execute_result"
    }
   ],
   "source": [
    "course[3:7]"
   ]
  },
  {
   "cell_type": "code",
   "execution_count": 120,
   "id": "1aa04994-c21d-410f-8cca-c5237b96118b",
   "metadata": {},
   "outputs": [
    {
     "data": {
      "text/plain": [
       "['', 'ari', 'uthu']"
      ]
     },
     "execution_count": 120,
     "metadata": {},
     "output_type": "execute_result"
    }
   ],
   "source": [
    "name.split('m')"
   ]
  },
  {
   "cell_type": "code",
   "execution_count": 121,
   "id": "29a47225-e40f-49cf-920c-458779ba165f",
   "metadata": {},
   "outputs": [
    {
     "data": {
      "text/plain": [
       "'Marimuthu'"
      ]
     },
     "execution_count": 121,
     "metadata": {},
     "output_type": "execute_result"
    }
   ],
   "source": [
    "name.title()"
   ]
  },
  {
   "cell_type": "code",
   "execution_count": 124,
   "id": "11678842-d3b0-410e-af14-842d0333c414",
   "metadata": {},
   "outputs": [
    {
     "data": {
      "text/plain": [
       "('marim', 'u', 'thuf')"
      ]
     },
     "execution_count": 124,
     "metadata": {},
     "output_type": "execute_result"
    }
   ],
   "source": [
    "name.partition('u')"
   ]
  },
  {
   "cell_type": "code",
   "execution_count": 127,
   "id": "73cf2666-dc12-4974-b049-5842232befbe",
   "metadata": {},
   "outputs": [
    {
     "data": {
      "text/plain": [
       "'marimuthu'"
      ]
     },
     "execution_count": 127,
     "metadata": {},
     "output_type": "execute_result"
    }
   ],
   "source": [
    "name"
   ]
  },
  {
   "cell_type": "code",
   "execution_count": 128,
   "id": "4a5f9eab-b18c-41bf-9a5b-6a4c2d6b8c0b",
   "metadata": {},
   "outputs": [
    {
     "data": {
      "text/plain": [
       "'ri'"
      ]
     },
     "execution_count": 128,
     "metadata": {},
     "output_type": "execute_result"
    }
   ],
   "source": [
    "name[2:4]"
   ]
  },
  {
   "cell_type": "code",
   "execution_count": 149,
   "id": "1e2ad28c-3614-42fe-b972-4c221a6ac17e",
   "metadata": {},
   "outputs": [
    {
     "data": {
      "text/plain": [
       "'muthu'"
      ]
     },
     "execution_count": 149,
     "metadata": {},
     "output_type": "execute_result"
    }
   ],
   "source": [
    "name[-5:16]"
   ]
  },
  {
   "cell_type": "code",
   "execution_count": 152,
   "id": "92c3cc5f-0f9a-48be-a808-83a695b5a2cc",
   "metadata": {},
   "outputs": [
    {
     "data": {
      "text/plain": [
       "'mut'"
      ]
     },
     "execution_count": 152,
     "metadata": {},
     "output_type": "execute_result"
    }
   ],
   "source": [
    "name[-5:7]"
   ]
  },
  {
   "cell_type": "code",
   "execution_count": 266,
   "id": "ef346ed0-39c3-4dbc-b8df-0d6908c318fb",
   "metadata": {},
   "outputs": [
    {
     "name": "stdout",
     "output_type": "stream",
     "text": [
      "marimuthu\n",
      "uhtumiram\n",
      "umir\n",
      "tum\n"
     ]
    }
   ],
   "source": [
    "print(name)\n",
    "print(name[::-1])\n",
    "print(name[5:1:-1])\n",
    "print(name[6:3:-1])"
   ]
  },
  {
   "cell_type": "code",
   "execution_count": 203,
   "id": "9ae854cf-31b4-45d9-8d1a-aaeab067a315",
   "metadata": {},
   "outputs": [
    {
     "name": "stdout",
     "output_type": "stream",
     "text": [
      "i\n",
      "*raj\n"
     ]
    }
   ],
   "source": [
    "test=\"mari*rajp\"\n",
    "print(test[3])\n",
    "print(test[4:8:1])"
   ]
  },
  {
   "cell_type": "code",
   "execution_count": 210,
   "id": "00e3fdf4-9801-419f-b049-b1136840ea04",
   "metadata": {},
   "outputs": [
    {
     "data": {
      "text/plain": [
       "'pjar*iram'"
      ]
     },
     "execution_count": 210,
     "metadata": {},
     "output_type": "execute_result"
    }
   ],
   "source": [
    "test[::-1]"
   ]
  },
  {
   "cell_type": "code",
   "execution_count": 214,
   "id": "acd66d6f-bca7-449a-ad76-57e3e7220119",
   "metadata": {},
   "outputs": [
    {
     "data": {
      "text/plain": [
       "'pjar*'"
      ]
     },
     "execution_count": 214,
     "metadata": {},
     "output_type": "execute_result"
    }
   ],
   "source": [
    "test[:3:-1]"
   ]
  },
  {
   "cell_type": "code",
   "execution_count": 217,
   "id": "8a46e3ba-88b6-4bea-9f01-fe1414a4e0ea",
   "metadata": {},
   "outputs": [
    {
     "data": {
      "text/plain": [
       "'ar*i'"
      ]
     },
     "execution_count": 217,
     "metadata": {},
     "output_type": "execute_result"
    }
   ],
   "source": [
    "test[6:2:-1]"
   ]
  },
  {
   "cell_type": "code",
   "execution_count": 229,
   "id": "87eb4fd9-5516-4901-a46c-7253173569a9",
   "metadata": {},
   "outputs": [
    {
     "data": {
      "text/plain": [
       "'9'"
      ]
     },
     "execution_count": 229,
     "metadata": {},
     "output_type": "execute_result"
    }
   ],
   "source": [
    "num=\"0123456789\"\n",
    "num[-1]"
   ]
  },
  {
   "cell_type": "code",
   "execution_count": 230,
   "id": "d0479a18-cdc3-411d-b68b-5e4965bc6864",
   "metadata": {},
   "outputs": [
    {
     "data": {
      "text/plain": [
       "'9876543210'"
      ]
     },
     "execution_count": 230,
     "metadata": {},
     "output_type": "execute_result"
    }
   ],
   "source": [
    "num[::-1]"
   ]
  },
  {
   "cell_type": "code",
   "execution_count": 234,
   "id": "7ecba6f4-cdcb-48ea-9b6c-05c37c3f1fb9",
   "metadata": {},
   "outputs": [
    {
     "data": {
      "text/plain": [
       "'6'"
      ]
     },
     "execution_count": 234,
     "metadata": {},
     "output_type": "execute_result"
    }
   ],
   "source": [
    "num[-4]"
   ]
  },
  {
   "cell_type": "code",
   "execution_count": 235,
   "id": "5433c665-644b-4337-94aa-ca97ad3211b0",
   "metadata": {},
   "outputs": [
    {
     "data": {
      "text/plain": [
       "'456'"
      ]
     },
     "execution_count": 235,
     "metadata": {},
     "output_type": "execute_result"
    }
   ],
   "source": [
    "num[4:7]"
   ]
  },
  {
   "cell_type": "code",
   "execution_count": 240,
   "id": "e8e1b365-f8b7-44e0-aca9-cc65d7dbd8dd",
   "metadata": {},
   "outputs": [
    {
     "data": {
      "text/plain": [
       "'76'"
      ]
     },
     "execution_count": 240,
     "metadata": {},
     "output_type": "execute_result"
    }
   ],
   "source": [
    "num[7:5:-1]"
   ]
  },
  {
   "cell_type": "code",
   "execution_count": 267,
   "id": "8127ca19-916a-471a-bd78-f5b4e977c444",
   "metadata": {},
   "outputs": [],
   "source": [
    "test=\"masi raja\""
   ]
  },
  {
   "cell_type": "code",
   "execution_count": 268,
   "id": "b3cbf827-b3c5-4e62-9970-fe1a0adab820",
   "metadata": {},
   "outputs": [
    {
     "data": {
      "text/plain": [
       "'r i'"
      ]
     },
     "execution_count": 268,
     "metadata": {},
     "output_type": "execute_result"
    }
   ],
   "source": [
    "test[5:2:-1]"
   ]
  },
  {
   "cell_type": "code",
   "execution_count": 270,
   "id": "bf5dd865-1bcf-497d-9f48-9752daa33ede",
   "metadata": {},
   "outputs": [
    {
     "name": "stdout",
     "output_type": "stream",
     "text": [
      "e\n",
      "r\n",
      "ello\n",
      "ellowo\n",
      "lloworld\n",
      "hello\n",
      "hellowor\n",
      "ld\n",
      "dlrowolleh\n"
     ]
    }
   ],
   "source": [
    "string1 = \"helloworld\"\n",
    "print(string1[1])\n",
    "print(string1[-3])\n",
    "print(string1[1:5])\n",
    "print(string1[1:-3])\n",
    "print(string1[2:])\n",
    "print(string1[:5])\n",
    "print(string1[:-2])\n",
    "print(string1[-2:])\n",
    "print(string1[::-1])"
   ]
  },
  {
   "cell_type": "code",
   "execution_count": null,
   "id": "0e541c62-cc7e-424f-9cad-94b0eadb7726",
   "metadata": {},
   "outputs": [],
   "source": []
  }
 ],
 "metadata": {
  "kernelspec": {
   "display_name": "Python 3 (ipykernel)",
   "language": "python",
   "name": "python3"
  },
  "language_info": {
   "codemirror_mode": {
    "name": "ipython",
    "version": 3
   },
   "file_extension": ".py",
   "mimetype": "text/x-python",
   "name": "python",
   "nbconvert_exporter": "python",
   "pygments_lexer": "ipython3",
   "version": "3.9.12"
  }
 },
 "nbformat": 4,
 "nbformat_minor": 5
}
