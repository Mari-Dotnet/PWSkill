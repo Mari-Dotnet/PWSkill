{
 "cells": [
  {
   "cell_type": "markdown",
   "id": "5659e5d9-f843-41ad-893e-6ad26f89f6ba",
   "metadata": {},
   "source": [
    "#### Tuple"
   ]
  },
  {
   "cell_type": "markdown",
   "id": "c51e06fa-f798-4a84-99bb-5ee37ee484f1",
   "metadata": {},
   "source": [
    "#### Not able to change any values on tuble.\n",
    "#### count and index is two inbuild function\n",
    "#### tuble allow to create list, string,dictionary\n",
    "#### once we create tuble not able change any values"
   ]
  },
  {
   "cell_type": "code",
   "execution_count": 35,
   "id": "48c5cc72-e488-445c-a819-bc0b39a1173a",
   "metadata": {},
   "outputs": [],
   "source": [
    "#tuple\n",
    "t=()"
   ]
  },
  {
   "cell_type": "code",
   "execution_count": 80,
   "id": "efd34533-e79b-4849-a3ef-15d5563983ba",
   "metadata": {},
   "outputs": [
    {
     "data": {
      "text/plain": [
       "tuple"
      ]
     },
     "execution_count": 80,
     "metadata": {},
     "output_type": "execute_result"
    }
   ],
   "source": [
    "type(t)"
   ]
  },
  {
   "cell_type": "code",
   "execution_count": 81,
   "id": "e08a579d-55f9-46a0-9004-4a53bb7a1954",
   "metadata": {},
   "outputs": [],
   "source": [
    "#how to create tuble\n",
    "t=(1,2,3,5,[\"mass\",78.9])"
   ]
  },
  {
   "cell_type": "code",
   "execution_count": 78,
   "id": "53e4716d-c7ec-496a-9dcf-cfad18a00798",
   "metadata": {},
   "outputs": [
    {
     "data": {
      "text/plain": [
       "(1, 2, 3, 5, ['mass', 78.9])"
      ]
     },
     "execution_count": 78,
     "metadata": {},
     "output_type": "execute_result"
    }
   ],
   "source": [
    "t"
   ]
  },
  {
   "cell_type": "code",
   "execution_count": 82,
   "id": "ec06cf44-441a-4149-80c5-9ff0d4a2c7dd",
   "metadata": {},
   "outputs": [
    {
     "data": {
      "text/plain": [
       "1"
      ]
     },
     "execution_count": 82,
     "metadata": {},
     "output_type": "execute_result"
    }
   ],
   "source": [
    "t[0]"
   ]
  },
  {
   "cell_type": "code",
   "execution_count": 76,
   "id": "3245d74f-c878-439b-b299-27c5ecb0c6a7",
   "metadata": {},
   "outputs": [],
   "source": [
    "##tuple with dictionary values\n",
    "tu=({1:\"mass\",2:\"prakash\"},[1,2,3,4],\"jacky\",1,1,1)"
   ]
  },
  {
   "cell_type": "code",
   "execution_count": 24,
   "id": "233b20e0-9e2b-4fb6-b886-553fd53acd06",
   "metadata": {},
   "outputs": [
    {
     "data": {
      "text/plain": [
       "({1: 'mass', 2: 'prakash'}, [1, 2, 3, 4], 'jacky', 1, 1, 1, 'jacky')"
      ]
     },
     "execution_count": 24,
     "metadata": {},
     "output_type": "execute_result"
    }
   ],
   "source": [
    "tu"
   ]
  },
  {
   "cell_type": "code",
   "execution_count": 33,
   "id": "49d1808f-430a-4054-863c-d11ecbce4576",
   "metadata": {},
   "outputs": [
    {
     "data": {
      "text/plain": [
       "1"
      ]
     },
     "execution_count": 33,
     "metadata": {},
     "output_type": "execute_result"
    }
   ],
   "source": [
    "tu.count(\"jacky\")"
   ]
  },
  {
   "cell_type": "code",
   "execution_count": 34,
   "id": "7a532925-53f2-4893-9f20-2e5f738e672e",
   "metadata": {},
   "outputs": [
    {
     "data": {
      "text/plain": [
       "2"
      ]
     },
     "execution_count": 34,
     "metadata": {},
     "output_type": "execute_result"
    }
   ],
   "source": [
    "tu.index(\"jacky\")"
   ]
  },
  {
   "cell_type": "code",
   "execution_count": 74,
   "id": "296b308a-898b-4069-8d78-d96323c486c5",
   "metadata": {},
   "outputs": [
    {
     "ename": "IndexError",
     "evalue": "tuple index out of range",
     "output_type": "error",
     "traceback": [
      "\u001b[1;31m---------------------------------------------------------------------------\u001b[0m",
      "\u001b[1;31mIndexError\u001b[0m                                Traceback (most recent call last)",
      "Input \u001b[1;32mIn [74]\u001b[0m, in \u001b[0;36m<cell line: 1>\u001b[1;34m()\u001b[0m\n\u001b[1;32m----> 1\u001b[0m \u001b[43mt\u001b[49m\u001b[43m[\u001b[49m\u001b[38;5;241;43m0\u001b[39;49m\u001b[43m]\u001b[49m\n",
      "\u001b[1;31mIndexError\u001b[0m: tuple index out of range"
     ]
    }
   ],
   "source": [
    "t[0]"
   ]
  },
  {
   "cell_type": "markdown",
   "id": "4141fc8e-5612-40df-b552-893aa7765831",
   "metadata": {},
   "source": [
    "## set:\n",
    "#####  Im-mutable and not-oradrable\n",
    "##### Not abel to add any list & dict in-side the set\n",
    "#####  duplicate values not shown on o/p\n",
    "##### using  for loop to get the values"
   ]
  },
  {
   "cell_type": "code",
   "execution_count": 71,
   "id": "d96db053-49b0-4640-ac3a-68e59a391c35",
   "metadata": {},
   "outputs": [],
   "source": [
    "s={1,2,3}"
   ]
  },
  {
   "cell_type": "code",
   "execution_count": 72,
   "id": "d1f259c4-2ae5-47f6-befc-519d72d3bd1b",
   "metadata": {},
   "outputs": [
    {
     "data": {
      "text/plain": [
       "set"
      ]
     },
     "execution_count": 72,
     "metadata": {},
     "output_type": "execute_result"
    }
   ],
   "source": [
    "type(s)"
   ]
  },
  {
   "cell_type": "code",
   "execution_count": 73,
   "id": "cf2b9dda-a6f1-42dd-a2b5-6a3fa31144ef",
   "metadata": {},
   "outputs": [
    {
     "ename": "TypeError",
     "evalue": "'set' object is not subscriptable",
     "output_type": "error",
     "traceback": [
      "\u001b[1;31m---------------------------------------------------------------------------\u001b[0m",
      "\u001b[1;31mTypeError\u001b[0m                                 Traceback (most recent call last)",
      "Input \u001b[1;32mIn [73]\u001b[0m, in \u001b[0;36m<cell line: 1>\u001b[1;34m()\u001b[0m\n\u001b[1;32m----> 1\u001b[0m \u001b[43ms\u001b[49m\u001b[43m[\u001b[49m\u001b[38;5;241;43m0\u001b[39;49m\u001b[43m]\u001b[49m\n",
      "\u001b[1;31mTypeError\u001b[0m: 'set' object is not subscriptable"
     ]
    }
   ],
   "source": [
    "s[0]"
   ]
  },
  {
   "cell_type": "code",
   "execution_count": 43,
   "id": "bd169cbc-fefd-41f1-a2d3-0b98f3f41e2e",
   "metadata": {},
   "outputs": [
    {
     "name": "stdout",
     "output_type": "stream",
     "text": [
      "1\n",
      "2\n",
      "3\n"
     ]
    }
   ],
   "source": [
    "for i in s:\n",
    "    print(i)"
   ]
  },
  {
   "cell_type": "code",
   "execution_count": 44,
   "id": "fbcba758-d89b-4574-a98f-9aea2a773948",
   "metadata": {},
   "outputs": [],
   "source": [
    "s.add(2)"
   ]
  },
  {
   "cell_type": "code",
   "execution_count": 45,
   "id": "dfd2e17c-d0d2-4045-837c-de0b866a0524",
   "metadata": {},
   "outputs": [
    {
     "data": {
      "text/plain": [
       "{1, 2, 3}"
      ]
     },
     "execution_count": 45,
     "metadata": {},
     "output_type": "execute_result"
    }
   ],
   "source": [
    "s"
   ]
  },
  {
   "cell_type": "code",
   "execution_count": 69,
   "id": "591b6ee5-d76d-4377-b823-43b83ab86617",
   "metadata": {},
   "outputs": [
    {
     "ename": "TypeError",
     "evalue": "unhashable type: 'list'",
     "output_type": "error",
     "traceback": [
      "\u001b[1;31m---------------------------------------------------------------------------\u001b[0m",
      "\u001b[1;31mTypeError\u001b[0m                                 Traceback (most recent call last)",
      "Input \u001b[1;32mIn [69]\u001b[0m, in \u001b[0;36m<cell line: 1>\u001b[1;34m()\u001b[0m\n\u001b[1;32m----> 1\u001b[0m \u001b[43ms\u001b[49m\u001b[38;5;241;43m.\u001b[39;49m\u001b[43madd\u001b[49m\u001b[43m(\u001b[49m\u001b[43m[\u001b[49m\u001b[38;5;241;43m2\u001b[39;49m\u001b[43m,\u001b[49m\u001b[38;5;241;43m3\u001b[39;49m\u001b[43m,\u001b[49m\u001b[38;5;241;43m4\u001b[39;49m\u001b[43m]\u001b[49m\u001b[43m)\u001b[49m\n",
      "\u001b[1;31mTypeError\u001b[0m: unhashable type: 'list'"
     ]
    }
   ],
   "source": [
    "s.add([2,3,4])"
   ]
  },
  {
   "cell_type": "code",
   "execution_count": 70,
   "id": "088bde87-05b2-42b8-acab-8fb1c7d00176",
   "metadata": {},
   "outputs": [
    {
     "ename": "TypeError",
     "evalue": "unhashable type: 'dict'",
     "output_type": "error",
     "traceback": [
      "\u001b[1;31m---------------------------------------------------------------------------\u001b[0m",
      "\u001b[1;31mTypeError\u001b[0m                                 Traceback (most recent call last)",
      "Input \u001b[1;32mIn [70]\u001b[0m, in \u001b[0;36m<cell line: 1>\u001b[1;34m()\u001b[0m\n\u001b[1;32m----> 1\u001b[0m \u001b[43ms\u001b[49m\u001b[38;5;241;43m.\u001b[39;49m\u001b[43madd\u001b[49m\u001b[43m(\u001b[49m\u001b[43m{\u001b[49m\u001b[38;5;241;43m1\u001b[39;49m\u001b[43m:\u001b[49m\u001b[38;5;124;43m\"\u001b[39;49m\u001b[38;5;124;43mmass\u001b[39;49m\u001b[38;5;124;43m\"\u001b[39;49m\u001b[43m,\u001b[49m\u001b[38;5;241;43m2\u001b[39;49m\u001b[43m:\u001b[49m\u001b[38;5;124;43m\"\u001b[39;49m\u001b[38;5;124;43mprakash\u001b[39;49m\u001b[38;5;124;43m\"\u001b[39;49m\u001b[43m}\u001b[49m\u001b[43m)\u001b[49m\n",
      "\u001b[1;31mTypeError\u001b[0m: unhashable type: 'dict'"
     ]
    }
   ],
   "source": [
    "s.add({1:\"mass\",2:\"prakash\"})"
   ]
  },
  {
   "cell_type": "code",
   "execution_count": 47,
   "id": "00b0d43c-48f8-49c1-8ca1-c138627c46a0",
   "metadata": {},
   "outputs": [],
   "source": [
    "s.remove(2)"
   ]
  },
  {
   "cell_type": "code",
   "execution_count": 48,
   "id": "001b9a2a-4ffe-4fcc-acfd-0a9a3f42ecdb",
   "metadata": {},
   "outputs": [
    {
     "data": {
      "text/plain": [
       "{1, 3}"
      ]
     },
     "execution_count": 48,
     "metadata": {},
     "output_type": "execute_result"
    }
   ],
   "source": [
    "s"
   ]
  },
  {
   "cell_type": "code",
   "execution_count": 49,
   "id": "ef91d982-4299-493f-bbfe-4122a3b29cc0",
   "metadata": {},
   "outputs": [],
   "source": [
    "s.add(2)"
   ]
  },
  {
   "cell_type": "code",
   "execution_count": 56,
   "id": "a672a3da-305b-4183-bfcf-6816266ee08f",
   "metadata": {},
   "outputs": [
    {
     "data": {
      "text/plain": [
       "{3}"
      ]
     },
     "execution_count": 56,
     "metadata": {},
     "output_type": "execute_result"
    }
   ],
   "source": [
    "s"
   ]
  },
  {
   "cell_type": "code",
   "execution_count": 57,
   "id": "ed4ea375-b01f-45c3-be4b-3fc955c658e2",
   "metadata": {},
   "outputs": [
    {
     "data": {
      "text/plain": [
       "3"
      ]
     },
     "execution_count": 57,
     "metadata": {},
     "output_type": "execute_result"
    }
   ],
   "source": [
    "s.pop()"
   ]
  },
  {
   "cell_type": "code",
   "execution_count": 58,
   "id": "4fec882b-b0c7-43b3-a9d2-d88c3c48e804",
   "metadata": {},
   "outputs": [
    {
     "data": {
      "text/plain": [
       "set()"
      ]
     },
     "execution_count": 58,
     "metadata": {},
     "output_type": "execute_result"
    }
   ],
   "source": [
    "s"
   ]
  },
  {
   "cell_type": "code",
   "execution_count": 59,
   "id": "b7e00b8a-ce78-4f7c-b57a-4c5665b589c6",
   "metadata": {},
   "outputs": [],
   "source": [
    "s={1,2,3,4,5}"
   ]
  },
  {
   "cell_type": "code",
   "execution_count": 60,
   "id": "f8add1d6-8e17-492d-84bb-339455a9611a",
   "metadata": {},
   "outputs": [
    {
     "data": {
      "text/plain": [
       "1"
      ]
     },
     "execution_count": 60,
     "metadata": {},
     "output_type": "execute_result"
    }
   ],
   "source": [
    "s.pop()"
   ]
  },
  {
   "cell_type": "code",
   "execution_count": 61,
   "id": "f9e020aa-3e9a-4520-806e-694b34e09d65",
   "metadata": {},
   "outputs": [
    {
     "data": {
      "text/plain": [
       "{2, 3, 4, 5}"
      ]
     },
     "execution_count": 61,
     "metadata": {},
     "output_type": "execute_result"
    }
   ],
   "source": [
    "s"
   ]
  },
  {
   "cell_type": "code",
   "execution_count": 63,
   "id": "f6ff405f-e826-4178-88ca-7ed7510f91c4",
   "metadata": {},
   "outputs": [
    {
     "data": {
      "text/plain": [
       "2"
      ]
     },
     "execution_count": 63,
     "metadata": {},
     "output_type": "execute_result"
    }
   ],
   "source": [
    "s.pop()"
   ]
  },
  {
   "cell_type": "code",
   "execution_count": 64,
   "id": "8ef675a9-5e4a-448e-8fe6-7992129e2f83",
   "metadata": {},
   "outputs": [],
   "source": [
    "set1={1,2,3,4,5}\n",
    "set2={3,4,5,6,7}"
   ]
  },
  {
   "cell_type": "code",
   "execution_count": 65,
   "id": "dcf3f4ba-e105-4ca2-a176-a18af2c03526",
   "metadata": {},
   "outputs": [
    {
     "data": {
      "text/plain": [
       "{1, 2}"
      ]
     },
     "execution_count": 65,
     "metadata": {},
     "output_type": "execute_result"
    }
   ],
   "source": [
    "set1.difference(set2)"
   ]
  },
  {
   "cell_type": "code",
   "execution_count": 67,
   "id": "a45c7e6e-b588-463c-bba7-77aa0873418b",
   "metadata": {},
   "outputs": [],
   "source": [
    "set1.remove(1)"
   ]
  },
  {
   "cell_type": "code",
   "execution_count": 68,
   "id": "9aa82205-bbd2-4e3b-9c07-f9d717eee91a",
   "metadata": {
    "jp-MarkdownHeadingCollapsed": true,
    "tags": []
   },
   "outputs": [
    {
     "data": {
      "text/plain": [
       "{2, 3, 4, 5}"
      ]
     },
     "execution_count": 68,
     "metadata": {},
     "output_type": "execute_result"
    }
   ],
   "source": [
    "set1"
   ]
  },
  {
   "cell_type": "code",
   "execution_count": 83,
   "id": "db92d1a0-5f2f-4a1e-b88d-46183b6336b5",
   "metadata": {},
   "outputs": [],
   "source": [
    "ls=[1,2,3,4]"
   ]
  },
  {
   "cell_type": "code",
   "execution_count": 84,
   "id": "a88f0376-4054-49f4-8406-5044cfb66888",
   "metadata": {},
   "outputs": [
    {
     "data": {
      "text/plain": [
       "4"
      ]
     },
     "execution_count": 84,
     "metadata": {},
     "output_type": "execute_result"
    }
   ],
   "source": [
    "ls.pop()"
   ]
  },
  {
   "cell_type": "code",
   "execution_count": 85,
   "id": "0ce85f91-271d-4a7f-96ae-da9c63c3da6b",
   "metadata": {},
   "outputs": [
    {
     "data": {
      "text/plain": [
       "2"
      ]
     },
     "execution_count": 85,
     "metadata": {},
     "output_type": "execute_result"
    }
   ],
   "source": [
    "ls.pop(1)"
   ]
  },
  {
   "cell_type": "code",
   "execution_count": 86,
   "id": "34913040-d8f8-448e-95b4-5a0f17abe980",
   "metadata": {},
   "outputs": [
    {
     "data": {
      "text/plain": [
       "[1, 3]"
      ]
     },
     "execution_count": 86,
     "metadata": {},
     "output_type": "execute_result"
    }
   ],
   "source": [
    "ls"
   ]
  },
  {
   "cell_type": "markdown",
   "id": "1ca9fe21-a2cd-4dba-afee-ab4f3e42d36e",
   "metadata": {},
   "source": [
    "## Dictionary\n",
    "##### Its key value pair\n",
    "##### unOrderable collection"
   ]
  },
  {
   "cell_type": "code",
   "execution_count": 87,
   "id": "8690dfab-fa4d-4950-bdb8-b1dd698d5c61",
   "metadata": {},
   "outputs": [],
   "source": [
    "d={}"
   ]
  },
  {
   "cell_type": "code",
   "execution_count": 113,
   "id": "66755fc4-ea7b-43d8-822c-1f2d499477a7",
   "metadata": {},
   "outputs": [],
   "source": [
    "d={1:\"mari\",2:[1,2,3,4],3:(1,2,3,4)}"
   ]
  },
  {
   "cell_type": "code",
   "execution_count": 92,
   "id": "96a8c8e1-224f-4750-a55f-e1f472d3e933",
   "metadata": {},
   "outputs": [
    {
     "data": {
      "text/plain": [
       "(1, 2, 3, 4)"
      ]
     },
     "execution_count": 92,
     "metadata": {},
     "output_type": "execute_result"
    }
   ],
   "source": [
    "d[3]"
   ]
  },
  {
   "cell_type": "code",
   "execution_count": 93,
   "id": "6cb734a2-4338-4da8-9a0b-d0cf0c770ce3",
   "metadata": {},
   "outputs": [
    {
     "data": {
      "text/plain": [
       "1"
      ]
     },
     "execution_count": 93,
     "metadata": {},
     "output_type": "execute_result"
    }
   ],
   "source": [
    "d[2][0]"
   ]
  },
  {
   "cell_type": "code",
   "execution_count": 95,
   "id": "781f87b2-7c80-49d2-9ad3-3bcc0b25afc8",
   "metadata": {},
   "outputs": [],
   "source": [
    "d[2][0]=\"mari\""
   ]
  },
  {
   "cell_type": "code",
   "execution_count": 96,
   "id": "4b386d0c-a788-4110-b235-1f755c804abc",
   "metadata": {},
   "outputs": [
    {
     "data": {
      "text/plain": [
       "['mari', 2, 3, 4]"
      ]
     },
     "execution_count": 96,
     "metadata": {},
     "output_type": "execute_result"
    }
   ],
   "source": [
    "d[2]"
   ]
  },
  {
   "cell_type": "code",
   "execution_count": 99,
   "id": "f19b66c9-c150-4f3e-b677-2c6d684ee3bd",
   "metadata": {},
   "outputs": [],
   "source": [
    "d.update({4:\"ma3\"})"
   ]
  },
  {
   "cell_type": "code",
   "execution_count": 100,
   "id": "afdf4667-460d-46e5-ba4b-87fc909c39e4",
   "metadata": {},
   "outputs": [
    {
     "data": {
      "text/plain": [
       "{1: 'mari', 2: ['mari', 2, 3, 4], 3: (1, 2, 3, 4), 4: 'ma3'}"
      ]
     },
     "execution_count": 100,
     "metadata": {},
     "output_type": "execute_result"
    }
   ],
   "source": [
    "d"
   ]
  },
  {
   "cell_type": "code",
   "execution_count": 102,
   "id": "76fa6e70-b991-4bb0-95cd-bcc295046466",
   "metadata": {},
   "outputs": [
    {
     "data": {
      "text/plain": [
       "dict_keys([1, 2, 3, 4])"
      ]
     },
     "execution_count": 102,
     "metadata": {},
     "output_type": "execute_result"
    }
   ],
   "source": [
    "d.keys()"
   ]
  },
  {
   "cell_type": "code",
   "execution_count": 104,
   "id": "4d29a47b-b719-4b25-88fb-ac1bd9ff52a6",
   "metadata": {},
   "outputs": [
    {
     "data": {
      "text/plain": [
       "dict_values(['mari', ['mari', 2, 3, 4], (1, 2, 3, 4), 'ma3'])"
      ]
     },
     "execution_count": 104,
     "metadata": {},
     "output_type": "execute_result"
    }
   ],
   "source": [
    "d.values()"
   ]
  },
  {
   "cell_type": "code",
   "execution_count": 105,
   "id": "926e3d16-745c-40a8-8d4f-fd8a522e3f73",
   "metadata": {},
   "outputs": [
    {
     "data": {
      "text/plain": [
       "{1: 'mari', 2: ['mari', 2, 3, 4], 3: (1, 2, 3, 4), 4: 'ma3'}"
      ]
     },
     "execution_count": 105,
     "metadata": {},
     "output_type": "execute_result"
    }
   ],
   "source": [
    "d"
   ]
  },
  {
   "cell_type": "code",
   "execution_count": 106,
   "id": "ec40202f-a402-4ec3-923e-a2c0607a147d",
   "metadata": {},
   "outputs": [],
   "source": [
    "del d[1]"
   ]
  },
  {
   "cell_type": "code",
   "execution_count": 107,
   "id": "89115deb-c69e-434d-beb0-baab6eac6031",
   "metadata": {},
   "outputs": [
    {
     "data": {
      "text/plain": [
       "{2: ['mari', 2, 3, 4], 3: (1, 2, 3, 4), 4: 'ma3'}"
      ]
     },
     "execution_count": 107,
     "metadata": {},
     "output_type": "execute_result"
    }
   ],
   "source": [
    "d"
   ]
  },
  {
   "cell_type": "code",
   "execution_count": 109,
   "id": "7acf69a9-8b0b-437a-972d-99853c5f80c7",
   "metadata": {},
   "outputs": [
    {
     "data": {
      "text/plain": [
       "['mari', 2, 3, 4]"
      ]
     },
     "execution_count": 109,
     "metadata": {},
     "output_type": "execute_result"
    }
   ],
   "source": [
    "d.pop(2)"
   ]
  },
  {
   "cell_type": "code",
   "execution_count": 110,
   "id": "d89b8050-ad5a-430f-979c-11e2af1ae1d8",
   "metadata": {},
   "outputs": [
    {
     "data": {
      "text/plain": [
       "{3: (1, 2, 3, 4), 4: 'ma3'}"
      ]
     },
     "execution_count": 110,
     "metadata": {},
     "output_type": "execute_result"
    }
   ],
   "source": [
    "d"
   ]
  },
  {
   "cell_type": "code",
   "execution_count": 111,
   "id": "b927ae0b-7487-4213-96f1-bdca0fd52d46",
   "metadata": {},
   "outputs": [],
   "source": [
    "d2=d.copy()"
   ]
  },
  {
   "cell_type": "code",
   "execution_count": 112,
   "id": "f79b52a2-59e0-4108-b5fa-7014e090a3d5",
   "metadata": {},
   "outputs": [
    {
     "data": {
      "text/plain": [
       "{3: (1, 2, 3, 4), 4: 'ma3'}"
      ]
     },
     "execution_count": 112,
     "metadata": {},
     "output_type": "execute_result"
    }
   ],
   "source": [
    "d2"
   ]
  },
  {
   "cell_type": "code",
   "execution_count": 114,
   "id": "ea8daeee-a7ca-472b-8387-1589af58f1ae",
   "metadata": {},
   "outputs": [
    {
     "name": "stdout",
     "output_type": "stream",
     "text": [
      "True\n"
     ]
    }
   ],
   "source": [
    "dict1 = {\"key1\":1, \"key2\":2}\n",
    "\n",
    "dict2 = {\"key2\":2, \"key1\":1}\n",
    "\n",
    "print(dict1 == dict2)"
   ]
  },
  {
   "cell_type": "code",
   "execution_count": 128,
   "id": "28463484-417d-40ed-8f18-111a574b8542",
   "metadata": {},
   "outputs": [],
   "source": [
    "sete={1,2}\n",
    "s1.update(sete)"
   ]
  },
  {
   "cell_type": "code",
   "execution_count": 129,
   "id": "262b5280-8db3-4f97-b512-fb4ab00e9dbf",
   "metadata": {},
   "outputs": [
    {
     "data": {
      "text/plain": [
       "{1, 2}"
      ]
     },
     "execution_count": 129,
     "metadata": {},
     "output_type": "execute_result"
    }
   ],
   "source": [
    "s1"
   ]
  },
  {
   "cell_type": "code",
   "execution_count": 130,
   "id": "02bfdf84-3c55-4760-a709-45ad473e9cb3",
   "metadata": {},
   "outputs": [
    {
     "data": {
      "text/plain": [
       "'3.9.12 (main, Apr  4 2022, 05:22:27) [MSC v.1916 64 bit (AMD64)]'"
      ]
     },
     "execution_count": 130,
     "metadata": {},
     "output_type": "execute_result"
    }
   ],
   "source": [
    "import sys\n",
    "sys.version"
   ]
  },
  {
   "cell_type": "code",
   "execution_count": 133,
   "id": "44c31a14-e253-4879-a329-fe6245011962",
   "metadata": {},
   "outputs": [
    {
     "name": "stdout",
     "output_type": "stream",
     "text": [
      "10.0.22000\n"
     ]
    }
   ],
   "source": [
    "import platform\n",
    "print(platform.version())"
   ]
  },
  {
   "cell_type": "code",
   "execution_count": 1,
   "id": "3ed8313a-0096-419c-83cd-9fac7defab99",
   "metadata": {},
   "outputs": [
    {
     "name": "stdout",
     "output_type": "stream",
     "text": [
      "400\n",
      "(200, 300, 400)\n"
     ]
    }
   ],
   "source": [
    "atuple = (100, 200, 300, 400, 500)\n",
    "\n",
    "print(atuple[-2])\n",
    "\n",
    "print(atuple[-4:-1])\n",
    "\n"
   ]
  },
  {
   "cell_type": "code",
   "execution_count": null,
   "id": "ad7f74a0-5f52-441e-a343-5b425a9539b2",
   "metadata": {},
   "outputs": [],
   "source": []
  }
 ],
 "metadata": {
  "kernelspec": {
   "display_name": "Python 3 (ipykernel)",
   "language": "python",
   "name": "python3"
  },
  "language_info": {
   "codemirror_mode": {
    "name": "ipython",
    "version": 3
   },
   "file_extension": ".py",
   "mimetype": "text/x-python",
   "name": "python",
   "nbconvert_exporter": "python",
   "pygments_lexer": "ipython3",
   "version": "3.9.12"
  }
 },
 "nbformat": 4,
 "nbformat_minor": 5
}
