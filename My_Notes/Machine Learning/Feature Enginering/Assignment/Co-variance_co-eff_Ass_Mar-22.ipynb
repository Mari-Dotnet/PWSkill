{
 "cells": [
  {
   "cell_type": "markdown",
   "id": "cf9bf13f-25c0-404f-97fa-71c7a9d8f8f7",
   "metadata": {},
   "source": [
    "#### Q1. Pearson correlation coefficient is a measure of the linear relationship between two variables. Supposeyou have collected data on the amount of time students spend studying for an exam and their final exam scores. Calculate the Pearson correlation coefficient between these two variables and interpret the result.\n",
    "\n",
    "- Pearson correlation coefficient values is -1 to 1\n",
    "- If values towards to postive thers is relatiosip b/w two varibale and positive corelation\n",
    "- If values towards to negative thers is no relatiosip b/w two varibale and  negative corelation"
   ]
  },
  {
   "cell_type": "markdown",
   "id": "a449e3de-279c-4eef-bfaf-1740afe92f5a",
   "metadata": {},
   "source": [
    "#### Q2. Spearman's rank correlation is a measure of the monotonic relationship between two variables. Suppose you have collected data on the amount of sleep individuals get each night and their overall job satisfaction level on a scale of 1 to 10. Calculate the Spearman's rank correlation between these two variables and interpret the result.\n",
    "- Spearman's rank correlation is value is -1 to 1\n",
    "- amount of sleep increases, job satisfaction tends to increase as well.\n",
    "- amount of sleep decrease , job satisfaction tends to decrease as well.\n"
   ]
  },
  {
   "cell_type": "markdown",
   "id": "e39b5f9f-1622-40cd-92cc-69e8dcc720d4",
   "metadata": {},
   "source": [
    "#### Q3. Suppose you are conducting a study to examine the relationship between the number of hours of exercise per week and body mass index (BMI) in a sample of adults. You collected data on both variables for 50 participants. Calculate the Pearson correlation coefficient and the Spearman's rank correlation between these two variables and compare the results."
   ]
  },
  {
   "cell_type": "code",
   "execution_count": 17,
   "id": "5250c833-184a-4af8-8ccd-9de25b130a07",
   "metadata": {},
   "outputs": [],
   "source": [
    "import numpy as np\n",
    "import pandas as pd"
   ]
  },
  {
   "cell_type": "code",
   "execution_count": 15,
   "id": "9c874559-f52f-4e25-af82-df6acdb3ed55",
   "metadata": {},
   "outputs": [],
   "source": [
    "data={\"hours\" :np.random.randint(0,10,50) ,\"BMI\":np.random.randint(20,50,50) }"
   ]
  },
  {
   "cell_type": "code",
   "execution_count": 23,
   "id": "31492935-432c-45eb-880a-9df6b802e9e0",
   "metadata": {},
   "outputs": [],
   "source": [
    "df=pd.DataFrame(data)"
   ]
  },
  {
   "cell_type": "code",
   "execution_count": 20,
   "id": "f8ad871b-aaf1-4bdf-9dda-4bf66a8ca14a",
   "metadata": {},
   "outputs": [
    {
     "data": {
      "text/html": [
       "<div>\n",
       "<style scoped>\n",
       "    .dataframe tbody tr th:only-of-type {\n",
       "        vertical-align: middle;\n",
       "    }\n",
       "\n",
       "    .dataframe tbody tr th {\n",
       "        vertical-align: top;\n",
       "    }\n",
       "\n",
       "    .dataframe thead th {\n",
       "        text-align: right;\n",
       "    }\n",
       "</style>\n",
       "<table border=\"1\" class=\"dataframe\">\n",
       "  <thead>\n",
       "    <tr style=\"text-align: right;\">\n",
       "      <th></th>\n",
       "      <th>hours</th>\n",
       "      <th>BMI</th>\n",
       "    </tr>\n",
       "  </thead>\n",
       "  <tbody>\n",
       "    <tr>\n",
       "      <th>hours</th>\n",
       "      <td>1.000000</td>\n",
       "      <td>-0.215449</td>\n",
       "    </tr>\n",
       "    <tr>\n",
       "      <th>BMI</th>\n",
       "      <td>-0.215449</td>\n",
       "      <td>1.000000</td>\n",
       "    </tr>\n",
       "  </tbody>\n",
       "</table>\n",
       "</div>"
      ],
      "text/plain": [
       "          hours       BMI\n",
       "hours  1.000000 -0.215449\n",
       "BMI   -0.215449  1.000000"
      ]
     },
     "execution_count": 20,
     "metadata": {},
     "output_type": "execute_result"
    }
   ],
   "source": [
    "df.corr(method='pearson')\n",
    "## The values is  towards to negative there is relationship b/w two variable"
   ]
  },
  {
   "cell_type": "code",
   "execution_count": 24,
   "id": "8a696804-2447-49fb-8b48-016f39a79f39",
   "metadata": {},
   "outputs": [
    {
     "data": {
      "text/html": [
       "<div>\n",
       "<style scoped>\n",
       "    .dataframe tbody tr th:only-of-type {\n",
       "        vertical-align: middle;\n",
       "    }\n",
       "\n",
       "    .dataframe tbody tr th {\n",
       "        vertical-align: top;\n",
       "    }\n",
       "\n",
       "    .dataframe thead th {\n",
       "        text-align: right;\n",
       "    }\n",
       "</style>\n",
       "<table border=\"1\" class=\"dataframe\">\n",
       "  <thead>\n",
       "    <tr style=\"text-align: right;\">\n",
       "      <th></th>\n",
       "      <th>hours</th>\n",
       "      <th>BMI</th>\n",
       "    </tr>\n",
       "  </thead>\n",
       "  <tbody>\n",
       "    <tr>\n",
       "      <th>hours</th>\n",
       "      <td>1.0000</td>\n",
       "      <td>-0.1982</td>\n",
       "    </tr>\n",
       "    <tr>\n",
       "      <th>BMI</th>\n",
       "      <td>-0.1982</td>\n",
       "      <td>1.0000</td>\n",
       "    </tr>\n",
       "  </tbody>\n",
       "</table>\n",
       "</div>"
      ],
      "text/plain": [
       "        hours     BMI\n",
       "hours  1.0000 -0.1982\n",
       "BMI   -0.1982  1.0000"
      ]
     },
     "execution_count": 24,
     "metadata": {},
     "output_type": "execute_result"
    }
   ],
   "source": [
    "df.corr(method='spearman')\n",
    "## The values is  towards to negative there is relationship b/w two variable"
   ]
  },
  {
   "cell_type": "markdown",
   "id": "1e438d86-3097-4bcd-ae9b-0846bc77ba36",
   "metadata": {},
   "source": [
    "#### Q4. A researcher is interested in examining the relationship between the number of hours individuals spend watching television per day and their level of physical activity. The researcher collected data on both variables from a sample of 50 participants. Calculate the Pearson correlation coefficient between these two variables.\n",
    "\n",
    " - If Pearson corealtion values towards to   postive there is relation b/w the two values\n",
    " - If Pearson corealtion values  towards to  negative there is no  relation  b/w the two values"
   ]
  },
  {
   "cell_type": "markdown",
   "id": "d07419f1-17f8-42dc-a9a6-c5fab656a8bd",
   "metadata": {},
   "source": [
    "### Q5: Q5. A survey was conducted to examine the relationship between age and preference for a particular  brand of soft drink. The survey results are shown below:\n",
    "\n",
    "\n",
    "     \n",
    " \n",
    "\n",
    "\n",
    "\n",
    "\n",
    "\n",
    "\n",
    "\n",
    "\n"
   ]
  },
  {
   "cell_type": "code",
   "execution_count": 26,
   "id": "689c40c7-7963-44b7-90a7-57e27404c882",
   "metadata": {},
   "outputs": [],
   "source": [
    "data= {\"Age\":[25,42,37,19,31,28],\"Drink\":[\"Coke\",\"Pepsi\",\"Mountain dew\",\"Coke\",\"Pepsi\",\"Coke\"]}"
   ]
  },
  {
   "cell_type": "code",
   "execution_count": 27,
   "id": "4dacc6c2-d94c-4b09-a101-1582bc858586",
   "metadata": {},
   "outputs": [],
   "source": [
    "df5=pd.DataFrame(data)"
   ]
  },
  {
   "cell_type": "code",
   "execution_count": 33,
   "id": "19c39464-f37d-48f3-9def-5523eff557b2",
   "metadata": {},
   "outputs": [],
   "source": [
    "drink_dict=df5['Drink'].value_counts().to_dict()"
   ]
  },
  {
   "cell_type": "code",
   "execution_count": 34,
   "id": "eacf93a7-14c5-4b1b-b39f-06f87289f081",
   "metadata": {},
   "outputs": [],
   "source": [
    "df5['Drinkvalue']=df5['Drink'].map(drink_dict)"
   ]
  },
  {
   "cell_type": "code",
   "execution_count": 38,
   "id": "ccc8096d-49b7-4b7e-8597-dfddce6529f2",
   "metadata": {},
   "outputs": [
    {
     "data": {
      "text/html": [
       "<div>\n",
       "<style scoped>\n",
       "    .dataframe tbody tr th:only-of-type {\n",
       "        vertical-align: middle;\n",
       "    }\n",
       "\n",
       "    .dataframe tbody tr th {\n",
       "        vertical-align: top;\n",
       "    }\n",
       "\n",
       "    .dataframe thead th {\n",
       "        text-align: right;\n",
       "    }\n",
       "</style>\n",
       "<table border=\"1\" class=\"dataframe\">\n",
       "  <thead>\n",
       "    <tr style=\"text-align: right;\">\n",
       "      <th></th>\n",
       "      <th>Age</th>\n",
       "      <th>Drinkvalue</th>\n",
       "    </tr>\n",
       "  </thead>\n",
       "  <tbody>\n",
       "    <tr>\n",
       "      <th>Age</th>\n",
       "      <td>1.000000</td>\n",
       "      <td>-0.758704</td>\n",
       "    </tr>\n",
       "    <tr>\n",
       "      <th>Drinkvalue</th>\n",
       "      <td>-0.758704</td>\n",
       "      <td>1.000000</td>\n",
       "    </tr>\n",
       "  </tbody>\n",
       "</table>\n",
       "</div>"
      ],
      "text/plain": [
       "                 Age  Drinkvalue\n",
       "Age         1.000000   -0.758704\n",
       "Drinkvalue -0.758704    1.000000"
      ]
     },
     "execution_count": 38,
     "metadata": {},
     "output_type": "execute_result"
    }
   ],
   "source": [
    "df5.corr()\n",
    "## Based on our analysis there is no relationship b/w the two age and drink "
   ]
  },
  {
   "cell_type": "markdown",
   "id": "a1652cca-0e2d-48c7-be1d-7fdf841ca51f",
   "metadata": {},
   "source": [
    "####  Q6. A company is interested in examining the relationship between the number of sales calls made per day and the number of sales made per week. The company collected data on both variables from a sample of 30 sales representatives. Calculate the Pearson correlation coefficient between these two variables."
   ]
  },
  {
   "cell_type": "code",
   "execution_count": 40,
   "id": "3a9e749a-dd2d-47ba-bc74-a3cc869a2f4d",
   "metadata": {},
   "outputs": [],
   "source": [
    "df6=pd.DataFrame({\"Sales_Calls_per_Day\": [10, 8, 6, 4, 5, 7, 9, 11, 12, 15, 14, 13, 11, 10, 9, 8, 7, 6, 5, 4, 6, 8, 10, 12, 14, 16, 18, 20, 22, 24],\n",
    "                  \"Sales_per_Week\":[2, 3, 4, 3, 2, 3, 5, 6, 7, 10, 8, 9, 6, 5, 4, 3, 2, 1, 2, 1, 3, 4, 5, 6, 7, 8, 9, 10, 11, 12]\n",
    "                 })"
   ]
  },
  {
   "cell_type": "code",
   "execution_count": 41,
   "id": "5a9bb0fb-8b91-4272-9aa6-f23be8d32b7d",
   "metadata": {},
   "outputs": [
    {
     "data": {
      "text/html": [
       "<div>\n",
       "<style scoped>\n",
       "    .dataframe tbody tr th:only-of-type {\n",
       "        vertical-align: middle;\n",
       "    }\n",
       "\n",
       "    .dataframe tbody tr th {\n",
       "        vertical-align: top;\n",
       "    }\n",
       "\n",
       "    .dataframe thead th {\n",
       "        text-align: right;\n",
       "    }\n",
       "</style>\n",
       "<table border=\"1\" class=\"dataframe\">\n",
       "  <thead>\n",
       "    <tr style=\"text-align: right;\">\n",
       "      <th></th>\n",
       "      <th>Sales_Calls_per_Day</th>\n",
       "      <th>Sales_per_Week</th>\n",
       "    </tr>\n",
       "  </thead>\n",
       "  <tbody>\n",
       "    <tr>\n",
       "      <th>Sales_Calls_per_Day</th>\n",
       "      <td>1.000000</td>\n",
       "      <td>0.938519</td>\n",
       "    </tr>\n",
       "    <tr>\n",
       "      <th>Sales_per_Week</th>\n",
       "      <td>0.938519</td>\n",
       "      <td>1.000000</td>\n",
       "    </tr>\n",
       "  </tbody>\n",
       "</table>\n",
       "</div>"
      ],
      "text/plain": [
       "                     Sales_Calls_per_Day  Sales_per_Week\n",
       "Sales_Calls_per_Day             1.000000        0.938519\n",
       "Sales_per_Week                  0.938519        1.000000"
      ]
     },
     "execution_count": 41,
     "metadata": {},
     "output_type": "execute_result"
    }
   ],
   "source": [
    "df6.corr()"
   ]
  },
  {
   "cell_type": "code",
   "execution_count": 43,
   "id": "70fcfddc-5388-4845-9bb0-7ac0206763c5",
   "metadata": {},
   "outputs": [],
   "source": [
    "### The values is positive we have relatioship b/w the two variable call oncrease and sales also increase"
   ]
  },
  {
   "cell_type": "code",
   "execution_count": null,
   "id": "52894727-3f2d-4e3c-b302-9052b11183ca",
   "metadata": {},
   "outputs": [],
   "source": []
  }
 ],
 "metadata": {
  "kernelspec": {
   "display_name": "Python 3 (ipykernel)",
   "language": "python",
   "name": "python3"
  },
  "language_info": {
   "codemirror_mode": {
    "name": "ipython",
    "version": 3
   },
   "file_extension": ".py",
   "mimetype": "text/x-python",
   "name": "python",
   "nbconvert_exporter": "python",
   "pygments_lexer": "ipython3",
   "version": "3.9.12"
  }
 },
 "nbformat": 4,
 "nbformat_minor": 5
}
