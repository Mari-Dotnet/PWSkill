{
 "cells": [
  {
   "cell_type": "markdown",
   "id": "9cf450f2-85dc-4d4a-9d76-61c226bda489",
   "metadata": {},
   "source": [
    "### Q1. What is the Filter method in feature selection, and how does it work?\n",
    "\n",
    "- Filter methods select a subset of features based on their statistical properties such as correlation, mutual information, or statistical tests, without involving a machine learning model. In the case of selecting features based on correlation with the target variable, a filter method such as Pearson's correlation coefficient or Spearman's rank correlation coefficient can be used to evaluate the strength of the linear or monotonic relationship between each feature and the target variable. Features with low correlation coefficients can be discarded, and the remaining features can be used for training a machine learning model."
   ]
  },
  {
   "cell_type": "markdown",
   "id": "023340af-d02d-48ef-bba5-63d44503dad1",
   "metadata": {},
   "source": [
    "#### Q2. How does the Wrapper method differ from the Filter method in feature selection?\n",
    "- Wrapper and Embedded methods, on the other hand, use a machine learning model to evaluate the usefulness of each feature. Wrapper methods evaluate subsets of features by iteratively training and evaluating the model on different feature combinations, while Embedded methods incorporate feature selection into the model training process itself."
   ]
  },
  {
   "cell_type": "markdown",
   "id": "ff9401cd-4fe9-4068-a564-e9b4247bc772",
   "metadata": {},
   "source": [
    "#### Q3. What are some common techniques used in Embedded feature selection methods?\n",
    "- Lasso regression\n",
    "- Ridge regression\n",
    "- Decision Trees\n",
    "- Gradient Boosted Trees"
   ]
  },
  {
   "cell_type": "markdown",
   "id": "d814df91-f26a-4132-9b56-e1e3f7282b93",
   "metadata": {},
   "source": [
    "#### Q4. What are some drawbacks of using the Filter method for feature selection?\n",
    "- Limited by the feature selection criteria\n",
    "- Does not consider the model\n",
    "- Does not handle redundancy well\n",
    "- Can be affected by missing data"
   ]
  },
  {
   "cell_type": "markdown",
   "id": "0f17bcab-a665-4b95-b9a9-0b1ab3bdda4e",
   "metadata": {},
   "source": [
    "#### Q5. In which situations would you prefer using the Filter method over the Wrapper method for feature selection?\n",
    "- Filter method is a simple and fast approach to feature selection and can be a good starting point for selecting potentially relevant features. However, it is important to evaluate multiple feature selection methods and compare their performance on the specific task at hand to determine the most appropriate method."
   ]
  },
  {
   "cell_type": "code",
   "execution_count": null,
   "id": "e479c11b-ce06-41bf-9245-2f822bcefab4",
   "metadata": {},
   "outputs": [],
   "source": []
  }
 ],
 "metadata": {
  "kernelspec": {
   "display_name": "Python 3 (ipykernel)",
   "language": "python",
   "name": "python3"
  },
  "language_info": {
   "codemirror_mode": {
    "name": "ipython",
    "version": 3
   },
   "file_extension": ".py",
   "mimetype": "text/x-python",
   "name": "python",
   "nbconvert_exporter": "python",
   "pygments_lexer": "ipython3",
   "version": "3.9.12"
  }
 },
 "nbformat": 4,
 "nbformat_minor": 5
}
