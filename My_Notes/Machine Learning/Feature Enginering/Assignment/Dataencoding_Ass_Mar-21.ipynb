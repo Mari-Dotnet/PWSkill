{
 "cells": [
  {
   "cell_type": "markdown",
   "id": "d4b45bc3-a061-4443-9582-08e06d9f9859",
   "metadata": {},
   "source": [
    "#### Q1. What is the difference between Ordinal Encoding and Label Encoding? Provide an example of when you might choose one over the other.\n",
    "\n",
    "- Label encoding is not rank order based\n",
    "- ordnial encoding is Rankig order based we can given the order"
   ]
  },
  {
   "cell_type": "code",
   "execution_count": 1,
   "id": "ba1c67ff-2abf-48f5-9e15-02d695737e20",
   "metadata": {},
   "outputs": [],
   "source": [
    "import pandas as pd"
   ]
  },
  {
   "cell_type": "code",
   "execution_count": 6,
   "id": "9d41e301-81e6-47e0-bd85-9165dc81f3a1",
   "metadata": {},
   "outputs": [],
   "source": [
    "## Label encoding\n",
    "df_la=pd.DataFrame({\"color\" :[\"Red\",\"yellow\",\"Green\"]})\n",
    "## ordinal encoding\n",
    "df_ordinal=pd.DataFrame({\"size\":[\"small\",\"Medium\",\"large\"]})"
   ]
  },
  {
   "cell_type": "markdown",
   "id": "954090b9-d5b1-4d0e-b374-4e5172534786",
   "metadata": {},
   "source": [
    "#### Q2. Explain how Target Guided Ordinal Encoding works and provide an example of when you might use it in a machine learning project.\n",
    "- The categorical variable is related based on the target variable\n",
    "- Its used more than unique value\n",
    "- monotonic relatioship b/w the target vs Feature"
   ]
  },
  {
   "cell_type": "code",
   "execution_count": 8,
   "id": "2b9b9a3a-3dd0-44ba-a37e-cb5ededdf586",
   "metadata": {},
   "outputs": [],
   "source": [
    "data=pd.DataFrame(\n",
    "    {'city':['newyork','londan','parish','newyork'],\n",
    "     'price':[3000,5000,8000,2000]\n",
    "    }\n",
    ")"
   ]
  },
  {
   "cell_type": "code",
   "execution_count": 11,
   "id": "fcdd33f1-e4b6-4bbe-a9d0-17eba2e2ebf2",
   "metadata": {},
   "outputs": [],
   "source": [
    "mean_price=data.groupby(\"city\")['price'].mean().to_dict()"
   ]
  },
  {
   "cell_type": "code",
   "execution_count": 12,
   "id": "e9de45b2-e3ee-4028-82d4-379b5e8c967c",
   "metadata": {},
   "outputs": [
    {
     "data": {
      "text/plain": [
       "{'londan': 5000.0, 'newyork': 2500.0, 'parish': 8000.0}"
      ]
     },
     "execution_count": 12,
     "metadata": {},
     "output_type": "execute_result"
    }
   ],
   "source": [
    "mean_price"
   ]
  },
  {
   "cell_type": "code",
   "execution_count": 13,
   "id": "0dba6a6d-6076-448e-9590-3e0c76e06520",
   "metadata": {},
   "outputs": [],
   "source": [
    "data['cityencode']=data['city'].map(mean_price)"
   ]
  },
  {
   "cell_type": "code",
   "execution_count": 14,
   "id": "cba93a98-4279-48d9-bcc8-e4103d02090a",
   "metadata": {},
   "outputs": [
    {
     "data": {
      "text/html": [
       "<div>\n",
       "<style scoped>\n",
       "    .dataframe tbody tr th:only-of-type {\n",
       "        vertical-align: middle;\n",
       "    }\n",
       "\n",
       "    .dataframe tbody tr th {\n",
       "        vertical-align: top;\n",
       "    }\n",
       "\n",
       "    .dataframe thead th {\n",
       "        text-align: right;\n",
       "    }\n",
       "</style>\n",
       "<table border=\"1\" class=\"dataframe\">\n",
       "  <thead>\n",
       "    <tr style=\"text-align: right;\">\n",
       "      <th></th>\n",
       "      <th>price</th>\n",
       "      <th>cityencode</th>\n",
       "    </tr>\n",
       "  </thead>\n",
       "  <tbody>\n",
       "    <tr>\n",
       "      <th>0</th>\n",
       "      <td>3000</td>\n",
       "      <td>2500.0</td>\n",
       "    </tr>\n",
       "    <tr>\n",
       "      <th>1</th>\n",
       "      <td>5000</td>\n",
       "      <td>5000.0</td>\n",
       "    </tr>\n",
       "    <tr>\n",
       "      <th>2</th>\n",
       "      <td>8000</td>\n",
       "      <td>8000.0</td>\n",
       "    </tr>\n",
       "    <tr>\n",
       "      <th>3</th>\n",
       "      <td>2000</td>\n",
       "      <td>2500.0</td>\n",
       "    </tr>\n",
       "  </tbody>\n",
       "</table>\n",
       "</div>"
      ],
      "text/plain": [
       "   price  cityencode\n",
       "0   3000      2500.0\n",
       "1   5000      5000.0\n",
       "2   8000      8000.0\n",
       "3   2000      2500.0"
      ]
     },
     "execution_count": 14,
     "metadata": {},
     "output_type": "execute_result"
    }
   ],
   "source": [
    "data[['price','cityencode']]"
   ]
  },
  {
   "cell_type": "markdown",
   "id": "d6eff058-b07b-47dd-8983-bb30a8fd2e01",
   "metadata": {},
   "source": [
    "#### Q3. Define covariance and explain why it is important in statistical analysis.\n",
    " - Covariance is a statistical measure that describes how two variables are related to each other. It measures the degree to which two variables change together, and in what direction. In other words, it is a measure of the joint variability of two variables.\n",
    "### How is covariance calculated?\n",
    "\n",
    " - Cov(X, Y) = Σ[(xi - μx) * (yi - μy)] / (n - 1)\n",
    " - cov() us this pandas function to get the value\n",
    " - A positive covariance indicates that the two variables tend to increase or decrease together, while a negative covariance indicates that they tend to move in opposite directions.\n",
    " "
   ]
  },
  {
   "cell_type": "markdown",
   "id": "8eaffa24-b707-44bd-a568-85e2ca136122",
   "metadata": {},
   "source": [
    "#### Q4. For a dataset with the following categorical variables: Color (red, green, blue), Size (small, medium,large), and Material (wood, metal, plastic), perform label encoding using Python's scikit-learn library. Show your code and explain the output."
   ]
  },
  {
   "cell_type": "code",
   "execution_count": 15,
   "id": "1bf29b9f-1ea5-4a0b-a027-4393039de0a4",
   "metadata": {},
   "outputs": [],
   "source": [
    "data4={\"color\":[\"red\",\"green\",\"blue\"],\n",
    "       \"Size\":[\"small\",\"medium\",\"large\"],\n",
    "       \"Matrial\":[\"Wood\",\"metal\",\"Plastic\"]\n",
    "      }"
   ]
  },
  {
   "cell_type": "code",
   "execution_count": 16,
   "id": "a1cf58f0-acdf-4638-b4fd-8c2f37621300",
   "metadata": {},
   "outputs": [
    {
     "data": {
      "text/html": [
       "<div>\n",
       "<style scoped>\n",
       "    .dataframe tbody tr th:only-of-type {\n",
       "        vertical-align: middle;\n",
       "    }\n",
       "\n",
       "    .dataframe tbody tr th {\n",
       "        vertical-align: top;\n",
       "    }\n",
       "\n",
       "    .dataframe thead th {\n",
       "        text-align: right;\n",
       "    }\n",
       "</style>\n",
       "<table border=\"1\" class=\"dataframe\">\n",
       "  <thead>\n",
       "    <tr style=\"text-align: right;\">\n",
       "      <th></th>\n",
       "      <th>color</th>\n",
       "      <th>Size</th>\n",
       "      <th>Matrial</th>\n",
       "    </tr>\n",
       "  </thead>\n",
       "  <tbody>\n",
       "    <tr>\n",
       "      <th>0</th>\n",
       "      <td>red</td>\n",
       "      <td>small</td>\n",
       "      <td>Wood</td>\n",
       "    </tr>\n",
       "    <tr>\n",
       "      <th>1</th>\n",
       "      <td>green</td>\n",
       "      <td>medium</td>\n",
       "      <td>metal</td>\n",
       "    </tr>\n",
       "    <tr>\n",
       "      <th>2</th>\n",
       "      <td>blue</td>\n",
       "      <td>large</td>\n",
       "      <td>Plastic</td>\n",
       "    </tr>\n",
       "  </tbody>\n",
       "</table>\n",
       "</div>"
      ],
      "text/plain": [
       "   color    Size  Matrial\n",
       "0    red   small     Wood\n",
       "1  green  medium    metal\n",
       "2   blue   large  Plastic"
      ]
     },
     "execution_count": 16,
     "metadata": {},
     "output_type": "execute_result"
    }
   ],
   "source": [
    "df4=pd.DataFrame(data4)\n",
    "df4"
   ]
  },
  {
   "cell_type": "code",
   "execution_count": 17,
   "id": "5d19ebba-9bcd-4236-9da2-9c2e4cdf7278",
   "metadata": {},
   "outputs": [],
   "source": [
    "from sklearn.preprocessing import LabelEncoder"
   ]
  },
  {
   "cell_type": "code",
   "execution_count": 26,
   "id": "1438e98d-9866-4da2-a810-1356de99ece1",
   "metadata": {},
   "outputs": [],
   "source": [
    "colorcoded=LabelEncoder()\n",
    "sizecoded=LabelEncoder()\n",
    "Matrialcoded=LabelEncoder()"
   ]
  },
  {
   "cell_type": "code",
   "execution_count": null,
   "id": "7d89a8ff-329a-42a4-87ee-f5737a43ef87",
   "metadata": {},
   "outputs": [],
   "source": [
    "df4['color_coder']=labelencoded.fit_transform(df4[['color']])\n",
    "df4['size_coder']=sizecoded.fit_transform(df4[['Size']])\n",
    "df4['material_coder']=Matrialcoded.fit_transform(df4[['Matrial']])"
   ]
  },
  {
   "cell_type": "code",
   "execution_count": 29,
   "id": "75111f5e-4b37-4f9d-a9af-1741f6858c31",
   "metadata": {},
   "outputs": [
    {
     "data": {
      "text/html": [
       "<div>\n",
       "<style scoped>\n",
       "    .dataframe tbody tr th:only-of-type {\n",
       "        vertical-align: middle;\n",
       "    }\n",
       "\n",
       "    .dataframe tbody tr th {\n",
       "        vertical-align: top;\n",
       "    }\n",
       "\n",
       "    .dataframe thead th {\n",
       "        text-align: right;\n",
       "    }\n",
       "</style>\n",
       "<table border=\"1\" class=\"dataframe\">\n",
       "  <thead>\n",
       "    <tr style=\"text-align: right;\">\n",
       "      <th></th>\n",
       "      <th>color</th>\n",
       "      <th>Size</th>\n",
       "      <th>Matrial</th>\n",
       "      <th>color_coder</th>\n",
       "      <th>size_coder</th>\n",
       "      <th>material_coder</th>\n",
       "    </tr>\n",
       "  </thead>\n",
       "  <tbody>\n",
       "    <tr>\n",
       "      <th>0</th>\n",
       "      <td>red</td>\n",
       "      <td>small</td>\n",
       "      <td>Wood</td>\n",
       "      <td>2</td>\n",
       "      <td>2</td>\n",
       "      <td>1</td>\n",
       "    </tr>\n",
       "    <tr>\n",
       "      <th>1</th>\n",
       "      <td>green</td>\n",
       "      <td>medium</td>\n",
       "      <td>metal</td>\n",
       "      <td>1</td>\n",
       "      <td>1</td>\n",
       "      <td>2</td>\n",
       "    </tr>\n",
       "    <tr>\n",
       "      <th>2</th>\n",
       "      <td>blue</td>\n",
       "      <td>large</td>\n",
       "      <td>Plastic</td>\n",
       "      <td>0</td>\n",
       "      <td>0</td>\n",
       "      <td>0</td>\n",
       "    </tr>\n",
       "  </tbody>\n",
       "</table>\n",
       "</div>"
      ],
      "text/plain": [
       "   color    Size  Matrial  color_coder  size_coder  material_coder\n",
       "0    red   small     Wood            2           2               1\n",
       "1  green  medium    metal            1           1               2\n",
       "2   blue   large  Plastic            0           0               0"
      ]
     },
     "execution_count": 29,
     "metadata": {},
     "output_type": "execute_result"
    }
   ],
   "source": [
    "df4.head()"
   ]
  },
  {
   "cell_type": "code",
   "execution_count": 31,
   "id": "4372d284-56ac-4d13-a137-5474ba1c651c",
   "metadata": {},
   "outputs": [],
   "source": [
    "## Size encoded value is samll is 2 medium 2 large 0 its not ranking order based in this case we can use ordinal encoding\n",
    "### color we can user one hot encoding \n",
    "### Matrial we can user label encoding"
   ]
  },
  {
   "cell_type": "markdown",
   "id": "c6663d21-e088-4b6c-bab1-4c41c570fa67",
   "metadata": {},
   "source": [
    "#### Q5. Calculate the covariance matrix for the following variables in a dataset: Age, Income, and Education level. Interpret the results."
   ]
  },
  {
   "cell_type": "code",
   "execution_count": 34,
   "id": "b60c5b4d-6c99-4185-bb88-85369c0c661f",
   "metadata": {},
   "outputs": [
    {
     "data": {
      "text/html": [
       "<div>\n",
       "<style scoped>\n",
       "    .dataframe tbody tr th:only-of-type {\n",
       "        vertical-align: middle;\n",
       "    }\n",
       "\n",
       "    .dataframe tbody tr th {\n",
       "        vertical-align: top;\n",
       "    }\n",
       "\n",
       "    .dataframe thead th {\n",
       "        text-align: right;\n",
       "    }\n",
       "</style>\n",
       "<table border=\"1\" class=\"dataframe\">\n",
       "  <thead>\n",
       "    <tr style=\"text-align: right;\">\n",
       "      <th></th>\n",
       "      <th>Age</th>\n",
       "      <th>Inconme</th>\n",
       "    </tr>\n",
       "  </thead>\n",
       "  <tbody>\n",
       "    <tr>\n",
       "      <th>Age</th>\n",
       "      <td>4.0</td>\n",
       "      <td>1.500000e+04</td>\n",
       "    </tr>\n",
       "    <tr>\n",
       "      <th>Inconme</th>\n",
       "      <td>15000.0</td>\n",
       "      <td>5.833333e+07</td>\n",
       "    </tr>\n",
       "  </tbody>\n",
       "</table>\n",
       "</div>"
      ],
      "text/plain": [
       "             Age       Inconme\n",
       "Age          4.0  1.500000e+04\n",
       "Inconme  15000.0  5.833333e+07"
      ]
     },
     "execution_count": 34,
     "metadata": {},
     "output_type": "execute_result"
    }
   ],
   "source": [
    "data5={\n",
    "    \"Age\":[26,28,30],\n",
    "    \"Inconme\":[25000,30000,40000],\n",
    "    \"Education\":[\"BE\",\"ME\",\"Phd\"]\n",
    "}\n",
    "df5=pd.DataFrame(data5)\n",
    "df5.cov()"
   ]
  },
  {
   "cell_type": "markdown",
   "id": "beca066d-13e9-40f2-b020-87bee4899572",
   "metadata": {},
   "source": [
    "#### Q6. You are working on a machine learning project with a dataset containing several categorical variables, including \"Gender\" (Male/Female), \"Education Level\" (High School/Bachelor's/Master's/PhD), and \"Employment Status\" (Unemployed/Part-Time/Full-Time). Which encoding method would you use for each variable, and why?\n",
    "\n",
    "- Gender\n",
    "    - we use binary encoding beacuse its have Male and femal two category\n",
    "- Education level \n",
    "    - for this we can use the ordinal encoding because  its ranking order \n",
    "- Employment Status\n",
    "    - we can use the label encoding"
   ]
  },
  {
   "cell_type": "markdown",
   "id": "a819eac0-d7b9-4da0-a160-140ce6436e23",
   "metadata": {},
   "source": [
    "#### Q7. You are analyzing a dataset with two continuous variables, \"Temperature\" and \"Humidity\", and two categorical variables, \"Weather Condition\" (Sunny/Cloudy/Rainy) and \"Wind Direction\" (North/South/ East/West). Calculate the covariance between each pair of variables and interpret the results.\n",
    "\n",
    "- Covariance between Temperature and Humidity:\n",
    "    - A positive covariance between Temperature and Humidity would indicate that as the temperature increases, humidity tends to increase as well. A negative covariance would indicate that as the temperature increases, humidity tends to decrease. The magnitude of the covariance indicates the strength of the relationship between Temperature and Humidity.\n",
    "    \n",
    "- Covariance between Temperature and Weather Condition:\n",
    "    - A positive covariance between Temperature and Weather Condition would indicate that as the temperature increases, the weather tends to be sunnier or less rainy. A negative covariance would indicate that as the temperature increases, the weather tends to be cloudier or rainier. The magnitude of the covariance indicates the strength of the relationship between Temperature and Weather Condition.\n",
    "    \n",
    "- Covariance between Temperature and Wind Direction\n",
    "    - A positive covariance between Temperature and Wind Direction would indicate that as the temperature increases, the wind tends to come from a certain direction (e.g., North). A negative covariance would indicate that as the temperature increases, the wind tends to come from a different direction (e.g., South). The magnitude of the covariance indicates the strength of the relationship between Temperature and Wind Direction."
   ]
  },
  {
   "cell_type": "code",
   "execution_count": null,
   "id": "336bd89f-8c5f-4398-b570-c52e395545f8",
   "metadata": {},
   "outputs": [],
   "source": []
  }
 ],
 "metadata": {
  "kernelspec": {
   "display_name": "Python 3 (ipykernel)",
   "language": "python",
   "name": "python3"
  },
  "language_info": {
   "codemirror_mode": {
    "name": "ipython",
    "version": 3
   },
   "file_extension": ".py",
   "mimetype": "text/x-python",
   "name": "python",
   "nbconvert_exporter": "python",
   "pygments_lexer": "ipython3",
   "version": "3.9.12"
  }
 },
 "nbformat": 4,
 "nbformat_minor": 5
}
