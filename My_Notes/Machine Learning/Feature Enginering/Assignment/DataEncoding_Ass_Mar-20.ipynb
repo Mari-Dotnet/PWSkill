{
 "cells": [
  {
   "cell_type": "markdown",
   "id": "58d530af-34bf-4b91-84c8-2558bb453591",
   "metadata": {},
   "source": [
    "#### Q1. What is data encoding? How is it useful in data science?\n",
    "- Categorical variable convert into numerical value is called data encoding\n",
    "- If we are not converting categorical value in to numerical value our model doesn't understand"
   ]
  },
  {
   "cell_type": "markdown",
   "id": "1e869ab6-2141-4739-849a-5df48171107e",
   "metadata": {},
   "source": [
    "#### Q2. What is nominal encoding? Provide an example of how you would use it in a real-world scenario.\n",
    "-  its used represent categorical valyue into numerical value.\n",
    "- car colors => Red black white"
   ]
  },
  {
   "cell_type": "markdown",
   "id": "eaa0e989-2769-4a4f-ab11-2cfe46069bd2",
   "metadata": {},
   "source": [
    "#### Q3. In what situations is nominal encoding preferred over one-hot encoding? Provide a practical example.\n",
    "\n",
    "- Our feature have less number of categorical value."
   ]
  },
  {
   "cell_type": "code",
   "execution_count": 2,
   "id": "b3433bff-ed52-4008-a791-57024d8a1588",
   "metadata": {},
   "outputs": [],
   "source": [
    "import pandas as pd\n",
    "from sklearn.preprocessing import OneHotEncoder"
   ]
  },
  {
   "cell_type": "code",
   "execution_count": 4,
   "id": "a4c2dafe-4615-4c89-a0c1-15ca12c84471",
   "metadata": {},
   "outputs": [],
   "source": [
    "data={\"color\": [\"Red\",\"Black\",\"White\"]}"
   ]
  },
  {
   "cell_type": "code",
   "execution_count": 5,
   "id": "9e1a6ee9-2b85-4e3c-82c9-4dfa250462bb",
   "metadata": {},
   "outputs": [],
   "source": [
    "df=pd.DataFrame(data)"
   ]
  },
  {
   "cell_type": "code",
   "execution_count": 6,
   "id": "caf8f519-1826-44e7-a0c1-df4bd8ceea56",
   "metadata": {},
   "outputs": [
    {
     "data": {
      "text/html": [
       "<div>\n",
       "<style scoped>\n",
       "    .dataframe tbody tr th:only-of-type {\n",
       "        vertical-align: middle;\n",
       "    }\n",
       "\n",
       "    .dataframe tbody tr th {\n",
       "        vertical-align: top;\n",
       "    }\n",
       "\n",
       "    .dataframe thead th {\n",
       "        text-align: right;\n",
       "    }\n",
       "</style>\n",
       "<table border=\"1\" class=\"dataframe\">\n",
       "  <thead>\n",
       "    <tr style=\"text-align: right;\">\n",
       "      <th></th>\n",
       "      <th>color</th>\n",
       "    </tr>\n",
       "  </thead>\n",
       "  <tbody>\n",
       "    <tr>\n",
       "      <th>0</th>\n",
       "      <td>Red</td>\n",
       "    </tr>\n",
       "    <tr>\n",
       "      <th>1</th>\n",
       "      <td>Black</td>\n",
       "    </tr>\n",
       "    <tr>\n",
       "      <th>2</th>\n",
       "      <td>White</td>\n",
       "    </tr>\n",
       "  </tbody>\n",
       "</table>\n",
       "</div>"
      ],
      "text/plain": [
       "   color\n",
       "0    Red\n",
       "1  Black\n",
       "2  White"
      ]
     },
     "execution_count": 6,
     "metadata": {},
     "output_type": "execute_result"
    }
   ],
   "source": [
    "df.head()"
   ]
  },
  {
   "cell_type": "code",
   "execution_count": 21,
   "id": "77440352-c96e-40cc-b191-17ba49dc9a9c",
   "metadata": {},
   "outputs": [
    {
     "data": {
      "text/plain": [
       "array([[0., 1., 0.],\n",
       "       [1., 0., 0.],\n",
       "       [0., 0., 1.]])"
      ]
     },
     "execution_count": 21,
     "metadata": {},
     "output_type": "execute_result"
    }
   ],
   "source": [
    "## create instance\n",
    "encoder=OneHotEncoder()\n",
    "## perform fit and transform\n",
    "encoder=encoder.fit_transform(df[['color']]).toarray()\n",
    "encoder"
   ]
  },
  {
   "cell_type": "code",
   "execution_count": 19,
   "id": "e0004cd1-3ee7-4eed-b2a3-0ba6bfb4142c",
   "metadata": {},
   "outputs": [],
   "source": [
    "df1=pd.DataFrame(encode, columns=[\"Red\",\"Black\",\"White\"])"
   ]
  },
  {
   "cell_type": "code",
   "execution_count": 20,
   "id": "f61429d2-ec4a-4bec-a927-9eb2bbd0de1b",
   "metadata": {},
   "outputs": [
    {
     "data": {
      "text/html": [
       "<div>\n",
       "<style scoped>\n",
       "    .dataframe tbody tr th:only-of-type {\n",
       "        vertical-align: middle;\n",
       "    }\n",
       "\n",
       "    .dataframe tbody tr th {\n",
       "        vertical-align: top;\n",
       "    }\n",
       "\n",
       "    .dataframe thead th {\n",
       "        text-align: right;\n",
       "    }\n",
       "</style>\n",
       "<table border=\"1\" class=\"dataframe\">\n",
       "  <thead>\n",
       "    <tr style=\"text-align: right;\">\n",
       "      <th></th>\n",
       "      <th>Red</th>\n",
       "      <th>Black</th>\n",
       "      <th>White</th>\n",
       "    </tr>\n",
       "  </thead>\n",
       "  <tbody>\n",
       "    <tr>\n",
       "      <th>0</th>\n",
       "      <td>0.0</td>\n",
       "      <td>1.0</td>\n",
       "      <td>0.0</td>\n",
       "    </tr>\n",
       "    <tr>\n",
       "      <th>1</th>\n",
       "      <td>1.0</td>\n",
       "      <td>0.0</td>\n",
       "      <td>0.0</td>\n",
       "    </tr>\n",
       "    <tr>\n",
       "      <th>2</th>\n",
       "      <td>0.0</td>\n",
       "      <td>0.0</td>\n",
       "      <td>1.0</td>\n",
       "    </tr>\n",
       "  </tbody>\n",
       "</table>\n",
       "</div>"
      ],
      "text/plain": [
       "   Red  Black  White\n",
       "0  0.0    1.0    0.0\n",
       "1  1.0    0.0    0.0\n",
       "2  0.0    0.0    1.0"
      ]
     },
     "execution_count": 20,
     "metadata": {},
     "output_type": "execute_result"
    }
   ],
   "source": [
    "df1.head()"
   ]
  },
  {
   "cell_type": "markdown",
   "id": "63f5aea0-1501-49e0-9f09-751b7f903cb7",
   "metadata": {},
   "source": [
    "#### Q4. Suppose you have a dataset containing categorical data with 5 unique values. Which encoding technique would you use to transform this data into a format suitable for machine learning algorithms?Explain why you made this choice.\n",
    "\n",
    "- one hot encoding we can use"
   ]
  },
  {
   "cell_type": "markdown",
   "id": "257049f4-a177-4a36-a05e-dc6b4070074c",
   "metadata": {},
   "source": [
    "#### Q5. In a machine learning project, you have a dataset with 1000 rows and 5 columns. Two of the columns are categorical, and the remaining three columns are numerical. If you were to use nominal encoding to transform the categorical data, how many new columns would be created? Show your calculations.\n",
    "\n",
    "- first categorical column have 3 values => 3 column has been created\n",
    "- second  categorical column have 2 values => 2 column has been created\n",
    "- over all 5 column are extra added"
   ]
  },
  {
   "cell_type": "markdown",
   "id": "bf66646f-74de-40dc-a788-6915d6e0622c",
   "metadata": {},
   "source": [
    "#### Q6. You are working with a dataset containing information about different types of animals, including theirspecies, habitat, and diet. Which encoding technique would you use to transform the categorical data into a format suitable for machine learning algorithms? Justify your answer.\n",
    "- we have more number of animal come into category so we can use target guided ordinal encoding."
   ]
  },
  {
   "cell_type": "markdown",
   "id": "04a25937-1840-4919-8d1e-33ece8752d1e",
   "metadata": {},
   "source": [
    "#### Q7.You are working on a project that involves predicting customer churn for a telecommunications company. You have a dataset with 5 features, including the customer's gender, age, contract type, monthly charges, and tenure. Which encoding technique(s) would you use to transform the categorical data into numerical data? Provide a step-by-step explanation of how you would implement the encoding.\n",
    "- customer's gender => its have three type (Male, Female, others) we can use nominal/One hot encoding\n",
    "- contract type => its have (permanent, temporary) => we can use binary encoding\n",
    "- Age => scalling\n",
    "- Salary -> scalling\n",
    "- tenure -> we can use ordinal encoding"
   ]
  },
  {
   "cell_type": "code",
   "execution_count": null,
   "id": "07e2dd58-6046-4eba-9b8e-bf70fa505554",
   "metadata": {},
   "outputs": [],
   "source": []
  }
 ],
 "metadata": {
  "kernelspec": {
   "display_name": "Python 3 (ipykernel)",
   "language": "python",
   "name": "python3"
  },
  "language_info": {
   "codemirror_mode": {
    "name": "ipython",
    "version": 3
   },
   "file_extension": ".py",
   "mimetype": "text/x-python",
   "name": "python",
   "nbconvert_exporter": "python",
   "pygments_lexer": "ipython3",
   "version": "3.9.12"
  }
 },
 "nbformat": 4,
 "nbformat_minor": 5
}
