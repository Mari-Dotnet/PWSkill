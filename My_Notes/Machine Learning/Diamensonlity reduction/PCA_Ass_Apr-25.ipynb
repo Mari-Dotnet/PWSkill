{
 "cells": [
  {
   "cell_type": "markdown",
   "id": "124e1d59-d600-4783-a43d-b88de32f31d1",
   "metadata": {},
   "source": [
    "#### Q1. What are Eigenvalues and Eigenvectors? How are they related to the Eigen-Decomposition approach?\n",
    "- An eigenvector is a non-zero vector that, when multiplied by a square matrix, results in a scalar multiple of the original vector. This scalar multiple is called the eigenvalue. In other words, an eigenvector is a vector that is unchanged in direction when multiplied by a matrix, but may be scaled.\n",
    "\n",
    "- The eigen-decomposition approach is a technique used to decompose a matrix into its eigenvectors and eigenvalues. This approach involves finding the eigenvectors and eigenvalues of a matrix and using them to form a new matrix that is diagonal."
   ]
  },
  {
   "cell_type": "markdown",
   "id": "7f9738e8-b583-42d0-bdab-5d1cb2f7996c",
   "metadata": {},
   "source": [
    "#### Q2. What is eigen decomposition and what is its significance in linear algebra?\n",
    "- eigen decomposition can be used to simplify complex calculations involving matrices, such as matrix multiplication and inversion. It can also be used to solve systems of linear equations and to perform various data analysis tasks such as principal component analysis (PCA)."
   ]
  },
  {
   "cell_type": "markdown",
   "id": "0ada1c31-8c1d-4337-a85c-219f98ef055c",
   "metadata": {},
   "source": [
    "#### Q3. What are the conditions that must be satisfied for a square matrix to be diagonalizable using the Eigen-Decomposition approach? Provide a brief proof to support your answer.\n",
    "\n",
    "-  For a square matrix to be diagonalizable using the Eigen-Decomposition approach, it must have a complete set of linearly independent eigenvectors, which requires the matrix to have distinct eigenvalues."
   ]
  },
  {
   "cell_type": "markdown",
   "id": "04424b68-110f-473b-92b1-326da768c110",
   "metadata": {},
   "source": [
    "#### Q4. What is the significance of the spectral theorem in the context of the Eigen-Decomposition approach? How is it related to the diagonalizability of a matrix? Explain with an example.\n",
    "\n",
    "- The spectral theorem is a fundamental theorem in linear algebra that provides a connection between the Eigen-Decomposition approach and the diagonalizability of a matrix. Specifically, the spectral theorem states that a symmetric matrix is always diagonalizable and can be expressed as a product of its eigenvectors and eigenvalues."
   ]
  },
  {
   "cell_type": "code",
   "execution_count": 2,
   "id": "d5756e46-eee6-4dc0-9959-b112a368f5e0",
   "metadata": {},
   "outputs": [],
   "source": [
    "#### Q5. How do you find the eigenvalues of a matrix and what do they represent?"
   ]
  },
  {
   "cell_type": "code",
   "execution_count": 1,
   "id": "0475573c-f7b7-4967-9553-f8ff31c89912",
   "metadata": {},
   "outputs": [
    {
     "name": "stdout",
     "output_type": "stream",
     "text": [
      "Eigenvalues of A: [3. 1.]\n"
     ]
    }
   ],
   "source": [
    "import numpy as np\n",
    "\n",
    "# Define the matrix A\n",
    "A = np.array([[2, 1], [1, 2]])\n",
    "\n",
    "# Compute the eigenvalues of A\n",
    "eigenvalues = np.linalg.eigvals(A)\n",
    "\n",
    "print(\"Eigenvalues of A:\", eigenvalues)"
   ]
  },
  {
   "cell_type": "markdown",
   "id": "cb2ec727-882f-4881-a073-9d700193a179",
   "metadata": {},
   "source": [
    "### Q6. What are eigenvectors and how are they related to eigenvalues?"
   ]
  },
  {
   "cell_type": "code",
   "execution_count": 3,
   "id": "40805293-bddc-4ee2-bc9c-38d51bc47c94",
   "metadata": {},
   "outputs": [
    {
     "name": "stdout",
     "output_type": "stream",
     "text": [
      "Eigenvalues of A: [3. 1.]\n",
      "Eigenvectors of A:\n",
      " [[ 0.70710678 -0.70710678]\n",
      " [ 0.70710678  0.70710678]]\n"
     ]
    }
   ],
   "source": [
    "import numpy as np\n",
    "\n",
    "# Define the matrix A\n",
    "A = np.array([[2, 1], [1, 2]])\n",
    "\n",
    "# Compute the eigenvalues and eigenvectors of A\n",
    "eigenvalues, eigenvectors = np.linalg.eig(A)\n",
    "\n",
    "print(\"Eigenvalues of A:\", eigenvalues)\n",
    "print(\"Eigenvectors of A:\\n\", eigenvectors)"
   ]
  },
  {
   "cell_type": "markdown",
   "id": "d884b556-7ba3-45cf-bb13-f92d30f50cb4",
   "metadata": {},
   "source": [
    "#### Q7. Can you explain the geometric interpretation of eigenvectors and eigenvalues?\n",
    "- eigenvectors and eigenvalues provide a way to decompose a linear transformation into its stretching/shrinking behavior in different directions, which can help us better understand its overall behavior."
   ]
  },
  {
   "cell_type": "markdown",
   "id": "1f684c48-15c4-4ea3-a42a-b20beb08e3aa",
   "metadata": {},
   "source": [
    "#### Q8. What are some real-world applications of eigen decomposition?\n",
    "- Principal Component Analysis\n",
    "- Image processing and computer vision"
   ]
  },
  {
   "cell_type": "markdown",
   "id": "41f170e6-7f90-40ac-9852-02234f91f369",
   "metadata": {},
   "source": [
    "#### Q9. Can a matrix have more than one set of eigenvectors and eigenvalues?"
   ]
  },
  {
   "cell_type": "code",
   "execution_count": 4,
   "id": "d7b7e557-878b-4157-b60f-6d51acd133eb",
   "metadata": {},
   "outputs": [
    {
     "name": "stdout",
     "output_type": "stream",
     "text": [
      "Eigenvalues: [ 3. -1.]\n",
      "Eigenvectors:\n",
      " [[ 0.70710678 -0.70710678]\n",
      " [ 0.70710678  0.70710678]]\n"
     ]
    }
   ],
   "source": [
    "import numpy as np\n",
    "\n",
    "# Define the matrix A\n",
    "A = np.array([[1, 2], [2, 1]])\n",
    "\n",
    "# Find the eigenvectors and eigenvalues of A\n",
    "eigenvalues, eigenvectors = np.linalg.eig(A)\n",
    "\n",
    "print(\"Eigenvalues:\", eigenvalues)\n",
    "print(\"Eigenvectors:\\n\", eigenvectors)"
   ]
  },
  {
   "cell_type": "markdown",
   "id": "793b1722-6f16-4e57-81dd-d93740d86284",
   "metadata": {},
   "source": [
    "#### Q10) In what ways is the Eigen-Decomposition approach useful in data analysis and machine learning?\n",
    "#### Discuss at least three specific applications or techniques that rely on Eigen-Decomposition.\n",
    "\n",
    "- Eigen-Decomposition is a fundamental concept in linear algebra, and it has numerous applications in data analysis and machine learning.\n",
    "- Principal Component Analysis \n",
    "- Image processing and computer vision"
   ]
  },
  {
   "cell_type": "code",
   "execution_count": null,
   "id": "0c0c970b-c547-4ac3-af46-d66fd98f156f",
   "metadata": {},
   "outputs": [],
   "source": []
  }
 ],
 "metadata": {
  "kernelspec": {
   "display_name": "Python 3 (ipykernel)",
   "language": "python",
   "name": "python3"
  },
  "language_info": {
   "codemirror_mode": {
    "name": "ipython",
    "version": 3
   },
   "file_extension": ".py",
   "mimetype": "text/x-python",
   "name": "python",
   "nbconvert_exporter": "python",
   "pygments_lexer": "ipython3",
   "version": "3.9.12"
  }
 },
 "nbformat": 4,
 "nbformat_minor": 5
}
