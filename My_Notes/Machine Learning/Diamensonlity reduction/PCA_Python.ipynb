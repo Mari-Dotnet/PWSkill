{
 "cells": [
  {
   "cell_type": "code",
   "execution_count": 1,
   "id": "359cc425-b6b1-4b85-8367-5406dde0297f",
   "metadata": {},
   "outputs": [],
   "source": [
    "import seaborn as sns\n",
    "import matplotlib.pyplot as plt\n",
    "import numpy as np"
   ]
  },
  {
   "cell_type": "code",
   "execution_count": 2,
   "id": "89330fdc-762f-44eb-971d-e350be47ecb5",
   "metadata": {},
   "outputs": [],
   "source": [
    "from sklearn.decomposition import PCA\n",
    "from sklearn.model_selection import train_test_split"
   ]
  },
  {
   "cell_type": "code",
   "execution_count": 3,
   "id": "beb28463-c428-462c-80b6-67e245c93dc5",
   "metadata": {},
   "outputs": [],
   "source": [
    "from sklearn.datasets import load_iris"
   ]
  },
  {
   "cell_type": "code",
   "execution_count": 4,
   "id": "44849707-f8fd-4fa8-90b3-d4351daabc4f",
   "metadata": {},
   "outputs": [],
   "source": [
    "data=load_iris()"
   ]
  },
  {
   "cell_type": "code",
   "execution_count": null,
   "id": "1b9efff9-3e48-4bfc-9062-3b723f1d1996",
   "metadata": {},
   "outputs": [],
   "source": [
    "print(data)"
   ]
  },
  {
   "cell_type": "code",
   "execution_count": 5,
   "id": "a19cc59d-45d8-4b7b-8bf7-90464bcf9dd9",
   "metadata": {},
   "outputs": [],
   "source": [
    "X=data.data\n",
    "y=data.target"
   ]
  },
  {
   "cell_type": "code",
   "execution_count": 6,
   "id": "cbfdbe7c-d506-4c65-afb0-dcc675688028",
   "metadata": {},
   "outputs": [],
   "source": [
    "X_train, X_test, y_train, y_test = train_test_split(X, y, test_size=0.33, random_state=42)"
   ]
  },
  {
   "cell_type": "code",
   "execution_count": 7,
   "id": "f8b192d9-acf1-4b67-abc0-030f346fd01d",
   "metadata": {},
   "outputs": [
    {
     "data": {
      "text/plain": [
       "PCA(n_components=3)"
      ]
     },
     "execution_count": 7,
     "metadata": {},
     "output_type": "execute_result"
    }
   ],
   "source": [
    "pca=PCA(n_components=3)\n",
    "pca"
   ]
  },
  {
   "cell_type": "code",
   "execution_count": 8,
   "id": "823fcf75-f079-4fa4-90ca-7793c07aa1fe",
   "metadata": {},
   "outputs": [],
   "source": [
    "X_train=pca.fit_transform(X_train)"
   ]
  },
  {
   "cell_type": "code",
   "execution_count": null,
   "id": "c0a450c0-84a7-46f1-9c89-f782331927ab",
   "metadata": {},
   "outputs": [],
   "source": [
    "X_train"
   ]
  },
  {
   "cell_type": "code",
   "execution_count": 9,
   "id": "08e71fd7-2550-4081-a18e-bd17b5b25b1a",
   "metadata": {},
   "outputs": [],
   "source": [
    "X_test=pca.transform(X_test)"
   ]
  },
  {
   "cell_type": "code",
   "execution_count": 10,
   "id": "6ddacbb7-30a7-4513-972b-c040ac58ecf9",
   "metadata": {},
   "outputs": [
    {
     "data": {
      "text/plain": [
       "array([[ 0.36873621, -0.06977632,  0.85630117,  0.35484246],\n",
       "       [ 0.68187006,  0.69682861, -0.1867726 , -0.12082672],\n",
       "       [-0.53692993,  0.63566209,  0.05426774,  0.55199182]])"
      ]
     },
     "execution_count": 10,
     "metadata": {},
     "output_type": "execute_result"
    }
   ],
   "source": [
    "pca.components_"
   ]
  },
  {
   "cell_type": "code",
   "execution_count": 11,
   "id": "b6a57718-950f-49c1-a777-e731fcd54533",
   "metadata": {},
   "outputs": [
    {
     "data": {
      "text/plain": [
       "array([0.9201008 , 0.05494812, 0.01978256])"
      ]
     },
     "execution_count": 11,
     "metadata": {},
     "output_type": "execute_result"
    }
   ],
   "source": [
    "pca.explained_variance_ratio_"
   ]
  },
  {
   "cell_type": "code",
   "execution_count": 30,
   "id": "40410637-64c2-429d-b462-9ddea499684b",
   "metadata": {},
   "outputs": [],
   "source": [
    "from sklearn.linear_model import LogisticRegression\n",
    "from sklearn.svm import SVC\n",
    "from sklearn.tree import DecisionTreeClassifier\n",
    "from sklearn.ensemble import RandomForestClassifier\n",
    "from sklearn.ensemble import AdaBoostClassifier\n",
    "from sklearn.ensemble import GradientBoostingClassifier\n",
    "from sklearn.naive_bayes import GaussianNB\n",
    "from sklearn.neighbors import KNeighborsClassifier"
   ]
  },
  {
   "cell_type": "code",
   "execution_count": 31,
   "id": "75b87e05-574b-4230-8ab3-8ca67b4952f0",
   "metadata": {},
   "outputs": [],
   "source": [
    "model={\n",
    "    \"Logistic\" : LogisticRegression(),\n",
    "    \"Svc\":SVC(),\n",
    "    \"Decison Tree\":DecisionTreeClassifier(),\n",
    "    \"Random forest\":RandomForestClassifier(),\n",
    "    \"AdaBoostClassifier\":AdaBoostClassifier(),\n",
    "    \"GradientBoostingClassifier\":GradientBoostingClassifier(),\n",
    "    \"navie bayes\": GaussianNB(),\n",
    "    \"Knn\":KNeighborsClassifier()\n",
    "}\n",
    "    "
   ]
  },
  {
   "cell_type": "code",
   "execution_count": 19,
   "id": "c7917898-b6ca-483f-830a-3f858245435d",
   "metadata": {},
   "outputs": [],
   "source": [
    "from sklearn.metrics import accuracy_score"
   ]
  },
  {
   "cell_type": "code",
   "execution_count": 28,
   "id": "4e3c8bf1-7b20-4d4e-8729-3be9a158e57e",
   "metadata": {},
   "outputs": [],
   "source": [
    "def evaulationmetric(X_train, X_test, y_train, y_test,models):\n",
    "    report={}\n",
    "    for i in range(len(models)):\n",
    "        model=list(models.values())[i]\n",
    "        model.fit(X_train,y_train)\n",
    "        ##predict\n",
    "        y_pred=model.predict(X_test)\n",
    "        ## score\n",
    "        score=accuracy_score(y_test,y_pred)\n",
    "        report[list(models.keys())[i]]=score\n",
    "    return report"
   ]
  },
  {
   "cell_type": "code",
   "execution_count": 22,
   "id": "03518ce8-7766-4114-ba0d-6ff68969cd53",
   "metadata": {},
   "outputs": [
    {
     "data": {
      "text/plain": [
       "LogisticRegression()"
      ]
     },
     "execution_count": 22,
     "metadata": {},
     "output_type": "execute_result"
    }
   ],
   "source": [
    "list(model.values())[0]"
   ]
  },
  {
   "cell_type": "code",
   "execution_count": 23,
   "id": "70fdd252-3c49-47f8-871d-a798b27bbf66",
   "metadata": {},
   "outputs": [
    {
     "data": {
      "text/plain": [
       "'Logistic'"
      ]
     },
     "execution_count": 23,
     "metadata": {},
     "output_type": "execute_result"
    }
   ],
   "source": [
    "list(model.keys())[0]"
   ]
  },
  {
   "cell_type": "code",
   "execution_count": 32,
   "id": "8988fb2c-b58b-479c-89a4-deba48a97758",
   "metadata": {},
   "outputs": [
    {
     "data": {
      "text/plain": [
       "{'Logistic': 1.0,\n",
       " 'Svc': 1.0,\n",
       " 'Decison Tree': 0.94,\n",
       " 'Random forest': 0.96,\n",
       " 'AdaBoostClassifier': 0.96,\n",
       " 'GradientBoostingClassifier': 0.96,\n",
       " 'navie bayes': 0.88,\n",
       " 'Knn': 1.0}"
      ]
     },
     "execution_count": 32,
     "metadata": {},
     "output_type": "execute_result"
    }
   ],
   "source": [
    "evaulationmetric(X_train, X_test, y_train, y_test,model)"
   ]
  },
  {
   "cell_type": "code",
   "execution_count": null,
   "id": "60912404-70db-4bb7-9538-c6e49cd5a549",
   "metadata": {},
   "outputs": [],
   "source": [
    "## based on the above reslut we got the good performance in the\n",
    "### logistic,SVC, Knearestneighbour"
   ]
  }
 ],
 "metadata": {
  "kernelspec": {
   "display_name": "Python 3 (ipykernel)",
   "language": "python",
   "name": "python3"
  },
  "language_info": {
   "codemirror_mode": {
    "name": "ipython",
    "version": 3
   },
   "file_extension": ".py",
   "mimetype": "text/x-python",
   "name": "python",
   "nbconvert_exporter": "python",
   "pygments_lexer": "ipython3",
   "version": "3.9.12"
  }
 },
 "nbformat": 4,
 "nbformat_minor": 5
}
