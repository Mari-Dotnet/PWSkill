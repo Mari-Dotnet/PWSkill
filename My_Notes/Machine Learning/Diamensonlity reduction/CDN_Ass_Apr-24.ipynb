{
 "cells": [
  {
   "cell_type": "markdown",
   "id": "b15ba36d-b142-4024-aeb0-89cc9dbc1553",
   "metadata": {},
   "source": [
    "#### Q1. What is a projection and how is it used in PCA?\n",
    "- Diamensolity reduction\n",
    "- extract the old feature into new feature\n",
    "- eg : Two independ feature convert into one feature"
   ]
  },
  {
   "cell_type": "markdown",
   "id": "f1ce0573-b103-4249-a305-9fedd7890a06",
   "metadata": {},
   "source": [
    "#### Q2. How does the optimization problem in PCA work, and what is it trying to achieve?\n",
    "- Principal Component Analysis (PCA) is a common technique used for dimensionality reduction. It involves transforming the original features into a new set of uncorrelated features called principal components, which retain most of the variance in the original data.\n"
   ]
  },
  {
   "cell_type": "markdown",
   "id": "b7c70daf-eff5-495b-ba3e-44df62a993e1",
   "metadata": {},
   "source": [
    "#### Q3. What is the relationship between covariance matrices and PCA?\n",
    "- co-variance is to identified the input feature with output feature dependecny \n",
    "- in PCA to convert to two diamension in to single diamension\n",
    "- in both we can reduce the feature and get the good performance of the  model "
   ]
  },
  {
   "cell_type": "markdown",
   "id": "2de446f9-0eb7-4ddb-a689-9b47f621afdc",
   "metadata": {},
   "source": [
    "#### Q4. How does the choice of number of principal components impact the performance of PCA?\n",
    "- evaluating the cumulative explained variance ratio is a reliable method to choose the number of components on PCA, which performs the dimensionality reduction while maximizing the variance between the original data and the projected data."
   ]
  },
  {
   "cell_type": "markdown",
   "id": "458f7079-c117-4601-9787-57fecb2dbe54",
   "metadata": {},
   "source": [
    "#### Q5. How can PCA be used in feature selection, and what are the benefits of using it for this purpose?\n",
    "- To redced the number of feature in model trainining and model give better accurcay."
   ]
  },
  {
   "cell_type": "markdown",
   "id": "9a625e8d-b60d-4747-a0c8-915b0125914e",
   "metadata": {},
   "source": [
    "#### Q6. What are some common applications of PCA in data science and machine learning?\n",
    "- PCA is used to visualize multidimensional data.\n",
    "- It is used to reduce the number of dimensions in healthcare data.\n",
    "- PCA can help resize an image.\n",
    "- It can be used in finance to analyze stock data and forecast returns."
   ]
  },
  {
   "cell_type": "markdown",
   "id": "5a4274f9-c9a7-4d63-b966-ccd42777fec2",
   "metadata": {},
   "source": [
    "#### Q7.What is the relationship between spread and variance in PCA?\n",
    " - Spread is increae the variance also increase\n",
    " - Spread is decrease the variance also decrease"
   ]
  },
  {
   "cell_type": "markdown",
   "id": "53785f73-681f-4635-b2c0-fe9846d2173e",
   "metadata": {},
   "source": [
    "#### Q8. How does PCA use the spread and variance of the data to identify principal components?\n",
    "- In PCA to calculate the maximun number of variance of the input feature based on the new transformation line."
   ]
  },
  {
   "cell_type": "markdown",
   "id": "9288e58e-c6d4-46d3-80d7-4adea10d7055",
   "metadata": {},
   "source": [
    "#### Q9. How does PCA handle data with high variance in some dimensions but low variance in others?\n",
    "- PCA is a technique used to reduce the dimensionality of data. It does this by finding the directions of maximum variance in the data and projecting the data onto those directions. The amount of variance explained by each direction is called the “explained variance.”"
   ]
  },
  {
   "cell_type": "code",
   "execution_count": null,
   "id": "058a5614-daa4-4f1c-8238-fadfffee7b7a",
   "metadata": {},
   "outputs": [],
   "source": []
  }
 ],
 "metadata": {
  "kernelspec": {
   "display_name": "Python 3 (ipykernel)",
   "language": "python",
   "name": "python3"
  },
  "language_info": {
   "codemirror_mode": {
    "name": "ipython",
    "version": 3
   },
   "file_extension": ".py",
   "mimetype": "text/x-python",
   "name": "python",
   "nbconvert_exporter": "python",
   "pygments_lexer": "ipython3",
   "version": "3.9.12"
  }
 },
 "nbformat": 4,
 "nbformat_minor": 5
}
