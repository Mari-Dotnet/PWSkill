{
 "cells": [
  {
   "cell_type": "markdown",
   "id": "cf856210-b154-4103-9189-021a431412f1",
   "metadata": {},
   "source": [
    "### Q1. What is the purpose of grid search cv in machine learning, and how does it work?\n",
    "- finding the best parameter while trainin the model\n",
    "- in grid serach cv we are prvoiding the parameters, within the param the model trained with all combination and given best occuracy params."
   ]
  },
  {
   "cell_type": "markdown",
   "id": "3885dac4-2e69-4ebc-aa03-1e13100f7a7a",
   "metadata": {},
   "source": [
    "### Q2. Describe the difference between grid search cv and randomize search cv, and when might you choose one over the other?\n",
    "- In grid search CV all possible comniation to check it will take some time\n",
    "- in Randomised search cv we given the iter count based on will get best param"
   ]
  },
  {
   "cell_type": "markdown",
   "id": "2e8b53fc-1175-42bc-8810-53bd66423e72",
   "metadata": {},
   "source": [
    "#### Q3. What is data leakage, and why is it a problem in machine learning? Provide an example.\n",
    "- Data leakage occurs when the training data contains information that would not be available in the real world, leading to overfitting and inaccurate results.\n",
    "- prevent data leakage by carefully selecting and preprocessing the data, using appropriate feature engineering techniques, and ensuring that the training and test data are distinct and representative of the real-world data distribution."
   ]
  },
  {
   "cell_type": "markdown",
   "id": "fa45c77a-2ed8-415f-86e5-d0e35fa2fa61",
   "metadata": {},
   "source": [
    "### Q4. How can you prevent data leakage when building a machine learning model?\n",
    "- preventing data leakage requires careful attention to how the data is processed, how the model is developed, and how it is evaluated. By following best practices and being mindful of potential issues, you can build a more robust and reliable machine learning model."
   ]
  },
  {
   "cell_type": "markdown",
   "id": "799537fb-a799-49f2-83d8-c4b395f4634f",
   "metadata": {},
   "source": [
    "#### Q5. What is a confusion matrix, and what does it tell you about the performance of a classification model?\n",
    "- comparing its predicted labels with the actual labels of a test dataset. It is a widely used tool for evaluating the accuracy of a classification model and gaining insights into its strengths and weaknesses.\n",
    "\n",
    "True positives (TP): The number of instances that were correctly classified as positive.\n",
    "\n",
    "False positives (FP): The number of instances that were incorrectly classified as positive.\n",
    "\n",
    "False negatives (FN): The number of instances that were incorrectly classified as negative.\n",
    "\n",
    "True negatives (TN): The number of instances that were correctly classified as negative."
   ]
  },
  {
   "cell_type": "markdown",
   "id": "33aa6b32-1b8f-4ac4-add6-733da187d62b",
   "metadata": {},
   "source": [
    "#### Q6. Explain the difference between precision and recall in the context of a confusion matrix.\n",
    "- Precision : The number of true positives divided by the sum of true positives and false positives\n",
    "- recall : The number of true positives divided by the sum of true positives and false Negatives"
   ]
  },
  {
   "cell_type": "markdown",
   "id": "c06fa652-f862-49fb-8ac3-c8101c6878f0",
   "metadata": {},
   "source": [
    "### Q7. How can you interpret a confusion matrix to determine which types of errors your model is making?\n",
    "- Type 1 error and type 2 error"
   ]
  },
  {
   "cell_type": "markdown",
   "id": "8eba50b5-1778-43ad-b533-330a6c97c22c",
   "metadata": {},
   "source": [
    "### Q8. What are some common metrics that can be derived from a confusion matrix, and how are they calculated?\n",
    "- Accuracy: TP+TN/(TP+TN+FP+FN)\n",
    "- Precision: TP/(TP+FP)\n",
    "- Recall : TP/(TP+FN)"
   ]
  },
  {
   "cell_type": "markdown",
   "id": "e34c07f8-4695-4c3f-866a-652f5a7349e1",
   "metadata": {},
   "source": [
    "#### Q9. What is the relationship between the accuracy of a model and the values in its confusion matrix?\n",
    "- the confusiion matirx provide the details of predicted and actual value result based on we get accurcay\n",
    "- Accuracy: TP+TN/(TP+TN+FP+FN)"
   ]
  },
  {
   "cell_type": "markdown",
   "id": "d0b0e4d7-f445-41dc-81be-6af44c5ae534",
   "metadata": {},
   "source": [
    "#### Q10. How can you use a confusion matrix to identify potential biases or limitations in your machine learning model?\n",
    "- False Positive and False Negative Rates: Look at the false positive and false negative rates across different classes. If the false positive rate is high for one class and the false negative rate is high for another class, it may indicate that the model is biased towards certain classes or features.\n",
    "\n",
    "- confusion matrix is a powerful tool for identifying potential biases or limitations in a machine learning model. By examining the patterns in its errors, you can gain insights into the model's strengths and weaknesses and take steps to improve its performance."
   ]
  },
  {
   "cell_type": "code",
   "execution_count": null,
   "id": "258d511e-f8ff-4056-95cb-f2628f22e754",
   "metadata": {},
   "outputs": [],
   "source": []
  }
 ],
 "metadata": {
  "kernelspec": {
   "display_name": "Python 3 (ipykernel)",
   "language": "python",
   "name": "python3"
  },
  "language_info": {
   "codemirror_mode": {
    "name": "ipython",
    "version": 3
   },
   "file_extension": ".py",
   "mimetype": "text/x-python",
   "name": "python",
   "nbconvert_exporter": "python",
   "pygments_lexer": "ipython3",
   "version": "3.9.12"
  }
 },
 "nbformat": 4,
 "nbformat_minor": 5
}
