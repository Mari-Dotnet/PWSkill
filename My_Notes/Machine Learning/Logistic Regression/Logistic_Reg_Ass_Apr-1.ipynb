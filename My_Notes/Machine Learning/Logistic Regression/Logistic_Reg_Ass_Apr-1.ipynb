{
 "cells": [
  {
   "cell_type": "markdown",
   "id": "eaf4ba52-3466-41e6-8548-09604ae595ec",
   "metadata": {},
   "source": [
    "#### Q4. What is the ROC curve, and how is it used to evaluate the performance of the logistic regression model?\n",
    "- The ROC (receiver operating characteristic) curve is a graphical representation of the trade-off between the true positive rate (sensitivity) and false positive rate (1 - specificity) for different probability thresholds of the logistic regression model."
   ]
  },
  {
   "cell_type": "markdown",
   "id": "6ff5d460-5d50-4aab-9c1b-17cc4e17dd37",
   "metadata": {},
   "source": [
    "### Explain the concept of regularization in logistic regression and how it helps prevent overfitting.\n",
    "- Regularization is a technique used to prevent overfitting of the model by adding a penalty term to the cost function that shrinks the coefficients towards zero."
   ]
  },
  {
   "cell_type": "markdown",
   "id": "9b087d29-8827-4923-9df7-9214223ab738",
   "metadata": {},
   "source": [
    "#### Q1. Explain the difference between linear regression and logistic regression models. Provide an example of a scenario where logistic regression would be more appropriate.\n",
    "\n",
    "- Liner regression its used for only countineous numerical output value\n",
    "- Logistic regression is used fot to solve the classification problem\n",
    "\n",
    "- weight based to predict the height we can use the liner model\n",
    "- hoe many hour student studied based on he pass the exam or fail we can user logistic model"
   ]
  },
  {
   "cell_type": "markdown",
   "id": "c71f8804-495d-4faf-96e4-7dba499f4a47",
   "metadata": {},
   "source": [
    "#### Q5. What are some common techniques for feature selection in logistic regression? How do these techniques help improve the model's performance?\n",
    "- Lasso regularization, PCA, and RFE are all techniques that can be used for feature selection in logistic regression to reduce the number of independent variables and improve the model's performance\n",
    "\n"
   ]
  },
  {
   "cell_type": "markdown",
   "id": "81b03753-3b39-42bf-885b-eee1e451e2e3",
   "metadata": {},
   "source": [
    "#### Q6. How can you handle imbalanced datasets in logistic regression? What are some strategies for dealing with class imbalance?\n",
    "- Imbalanced datasets can be handled in logistic regression by oversampling the minority class, undersampling the majority class, or using cost-sensitive learning techniques that assign different misclassification costs to the different classes."
   ]
  },
  {
   "cell_type": "markdown",
   "id": "dff30fed-8fcc-48ff-9bf9-58230057321c",
   "metadata": {},
   "source": [
    "### Q5. What are some common techniques for feature selection in logistic regression? How do these techniques help improve the model's performance?\n",
    "- hyperparemeter tuning method to given the best param based on we get better model performance\n",
    "- gride seatch CV\n",
    "- Randomized search cv\n"
   ]
  },
  {
   "cell_type": "markdown",
   "id": "23901a5d-36b6-434a-add6-1e4a2f29d21c",
   "metadata": {},
   "source": [
    "#### Q7. Can you discuss some common issues and challenges that may arise when implementing logistic regression, and how they can be addressed? For example, what can be done if there is multicollinearity among the independent variables?\n",
    "\n",
    "- Using corr-relation method we can identify the feature has multicolinearity or not.\n",
    "- if its multicolineartity we can remove those features."
   ]
  },
  {
   "cell_type": "code",
   "execution_count": null,
   "id": "6499467a-993b-4918-8ec9-6dbf92ca9f55",
   "metadata": {},
   "outputs": [],
   "source": []
  }
 ],
 "metadata": {
  "kernelspec": {
   "display_name": "Python 3 (ipykernel)",
   "language": "python",
   "name": "python3"
  },
  "language_info": {
   "codemirror_mode": {
    "name": "ipython",
    "version": 3
   },
   "file_extension": ".py",
   "mimetype": "text/x-python",
   "name": "python",
   "nbconvert_exporter": "python",
   "pygments_lexer": "ipython3",
   "version": "3.9.12"
  }
 },
 "nbformat": 4,
 "nbformat_minor": 5
}
