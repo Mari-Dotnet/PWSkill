{
 "cells": [
  {
   "cell_type": "code",
   "execution_count": 1,
   "id": "326f0f2e-c6bc-484d-a1ef-b3f6660dacd7",
   "metadata": {},
   "outputs": [
    {
     "name": "stdout",
     "output_type": "stream",
     "text": [
      "Homogeneity: 1.00\n",
      "Completeness: 1.00\n",
      "V-Measure: 1.00\n"
     ]
    }
   ],
   "source": [
    "from sklearn.metrics.cluster import homogeneity_completeness_v_measure\n",
    "from sklearn.cluster import KMeans\n",
    "from sklearn.datasets import make_blobs\n",
    "\n",
    "# Generate sample data\n",
    "X, y_true = make_blobs(n_samples=300, centers=4, cluster_std=0.60, random_state=0)\n",
    "\n",
    "# Fit KMeans clustering algorithm\n",
    "kmeans = KMeans(n_clusters=4, random_state=0)\n",
    "y_pred = kmeans.fit_predict(X)\n",
    "\n",
    "# Calculate homogeneity, completeness, and V-measure\n",
    "homogeneity, completeness, v_measure = homogeneity_completeness_v_measure(y_true, y_pred)\n",
    "\n",
    "# Print results\n",
    "print(\"Homogeneity: {:.2f}\".format(homogeneity))\n",
    "print(\"Completeness: {:.2f}\".format(completeness))\n",
    "print(\"V-Measure: {:.2f}\".format(v_measure))"
   ]
  },
  {
   "cell_type": "code",
   "execution_count": null,
   "id": "4661da27-df2b-41f2-8aab-3d979dadc33b",
   "metadata": {},
   "outputs": [],
   "source": []
  }
 ],
 "metadata": {
  "kernelspec": {
   "display_name": "Python 3 (ipykernel)",
   "language": "python",
   "name": "python3"
  },
  "language_info": {
   "codemirror_mode": {
    "name": "ipython",
    "version": 3
   },
   "file_extension": ".py",
   "mimetype": "text/x-python",
   "name": "python",
   "nbconvert_exporter": "python",
   "pygments_lexer": "ipython3",
   "version": "3.9.12"
  }
 },
 "nbformat": 4,
 "nbformat_minor": 5
}
