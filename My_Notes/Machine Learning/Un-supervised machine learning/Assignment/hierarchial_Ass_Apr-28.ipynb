{
 "cells": [
  {
   "cell_type": "markdown",
   "id": "ac226e1e-95f5-4268-85fb-cdbcd1e9797b",
   "metadata": {},
   "source": [
    "#### Q1. What is hierarchical clustering, and how is it different from other clustering techniques?\n",
    "- This algorithm builds a hierarchy of clusters by either dividing larger clusters into smaller ones (divisive) or merging smaller clusters into larger ones (agglomerative). The underlying assumption is that data points that are close to each other in the hierarchy belong to the same cluster."
   ]
  },
  {
   "cell_type": "markdown",
   "id": "5603c0f8-d87b-4749-89bb-782a7f137251",
   "metadata": {},
   "source": [
    "#### Q2. What are the two main types of hierarchical clustering algorithms? Describe each in brief.\n",
    "- agglomerative : merging smaller clusters into larger ones\n",
    "- divisive : dividing larger clusters into smaller ones"
   ]
  },
  {
   "cell_type": "markdown",
   "id": "5f536b0e-e689-4393-aa51-771bbe203909",
   "metadata": {},
   "source": [
    "#### Q3. How do you determine the distance between two clusters in hierarchical clustering, and what are the common distance metrics used ?\n",
    "- euclidean  and manhatten is used to calcualte the distance bw the two clusers"
   ]
  },
  {
   "cell_type": "markdown",
   "id": "fa20983b-48cb-44a4-9435-33a07c5bd727",
   "metadata": {},
   "source": [
    "#### Q4. How do you determine the optimal number of clusters in hierarchical clustering, and what are some common methods used for this purpose?\n",
    "- using dendogram method to find the cluster values for mauual\n",
    "- silhouette_score method is used for to get the cluser values automatic"
   ]
  },
  {
   "cell_type": "markdown",
   "id": "6a0a094b-b662-4139-8d36-b9516429bec4",
   "metadata": {},
   "source": [
    "#### Q5. What are dendrograms in hierarchical clustering, and how are they useful in analyzing the results?\n",
    "- dendrograms is used ot find the clusetr value\n",
    "- select the longest horizandal line such that no horizondal line passes throug it"
   ]
  },
  {
   "cell_type": "markdown",
   "id": "c9407c55-1053-49b6-aa9f-64ef4883e546",
   "metadata": {},
   "source": [
    "#### Q6. Can hierarchical clustering be used for both numerical and categorical data? If yes, how are the distance metrics different for each type of data?\n",
    " - yes its used for both numerical and categorical data.\n",
    " - For numerical data, Euclidean distance is the most commonly used metric, while for categorical data, Jaccard distance and Hamming distance are popular choices. For mixed data, Gower's distance is a suitable option."
   ]
  },
  {
   "cell_type": "markdown",
   "id": "bb8c2703-45cf-4007-a9a7-51c783cbb7ef",
   "metadata": {},
   "source": [
    "### Q7. How can you use hierarchical clustering to identify outliers or anomalies in your data?\n",
    "- Hierarchical clustering can be used to identify outliers or anomalies in data by examining the distance between individual data points and the rest of the cluster. Outliers are data points that are significantly different from the rest of the data and are located far from other data points in the cluster.\n",
    "-  hierarchical clustering is not always the most suitable method for identifying outliers, especially in large datasets with high-dimensional features"
   ]
  },
  {
   "cell_type": "code",
   "execution_count": null,
   "id": "de6f89f7-86d3-4591-8261-bf37f1f4f6cb",
   "metadata": {},
   "outputs": [],
   "source": []
  }
 ],
 "metadata": {
  "kernelspec": {
   "display_name": "Python 3 (ipykernel)",
   "language": "python",
   "name": "python3"
  },
  "language_info": {
   "codemirror_mode": {
    "name": "ipython",
    "version": 3
   },
   "file_extension": ".py",
   "mimetype": "text/x-python",
   "name": "python",
   "nbconvert_exporter": "python",
   "pygments_lexer": "ipython3",
   "version": "3.9.12"
  }
 },
 "nbformat": 4,
 "nbformat_minor": 5
}
