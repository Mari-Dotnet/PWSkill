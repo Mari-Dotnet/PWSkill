{
 "cells": [
  {
   "cell_type": "markdown",
   "id": "ac491a65-9b38-4eaf-b7d8-a777ae5f8f64",
   "metadata": {},
   "source": [
    "#### Q1. What is the role of feature selection in anomaly detection?\n",
    "- Selecting relevant features or representations that capture the underlying patterns in the data can be challenging, especially in high-dimensional datasets."
   ]
  },
  {
   "cell_type": "markdown",
   "id": "84d5c0f6-cd9d-4757-aead-870049278340",
   "metadata": {},
   "source": [
    "#### Q2. What are some common evaluation metrics for anomaly detection algorithms and how are they computed?\n",
    "- Accuracy precision Recall"
   ]
  },
  {
   "cell_type": "markdown",
   "id": "8e2a0134-6769-487c-848b-c654ceb05d6b",
   "metadata": {},
   "source": [
    "#### Q3. What is DBSCAN and how does it work for clustering?\n",
    "- DBSCAN uses density-based clustering to identify regions of high density as normal data points and regions of low density as anomalies.\n",
    "- It determines the maximum distance between two data points for them to be considered in the same cluster."
   ]
  },
  {
   "cell_type": "markdown",
   "id": "76b5eb7b-e91e-4587-85fe-eb4a0d2cfa22",
   "metadata": {},
   "source": [
    "#### Q4. How does the epsilon parameter affect the performance of DBSCAN in detecting anomalies?\n",
    "- It determines the maximum distance between two data points for them to be considered in the same cluster."
   ]
  },
  {
   "cell_type": "markdown",
   "id": "42bfd3bc-b24d-4be4-bf1a-40dd44f91b3d",
   "metadata": {},
   "source": [
    "#### Q5. What are the differences between the core, border, and noise points in DBSCAN, and how do they relate to anomaly detection?\n",
    "- The maximum number of data  points with in the rannge is called core\n",
    "- The less than minimun number of data  points with in the rannge is called border\n",
    "- The data points outside the radius is called noise points"
   ]
  },
  {
   "cell_type": "markdown",
   "id": "b7b44df1-7e89-4b2b-aa68-df76a6dcbb8b",
   "metadata": {},
   "source": [
    "#### Q6. How does DBSCAN detect anomalies and what are the key parameters involved in the process?\n",
    "- min point and  epsilon"
   ]
  },
  {
   "cell_type": "markdown",
   "id": "52a0b6cf-8e17-4741-921d-6ef28d6cabcc",
   "metadata": {},
   "source": [
    "#### Q7. What is the make_circles package in scikit-learn used for?\n",
    "- Make a large circle containing a smaller circle in 2d. A simple toy dataset to visualize clustering and classification algorithms."
   ]
  },
  {
   "cell_type": "markdown",
   "id": "ec653166-5cc6-46e0-a5bc-322fb04200a2",
   "metadata": {},
   "source": [
    "#### Q8. What are local outliers and global outliers, and how do they differ from each other?\n",
    "- local outliers are data points that are outliers only with respect to their local neighborhood, but not in the global context. In contrast, global outliers are data points that are outliers with respect to the entire dataset."
   ]
  },
  {
   "cell_type": "markdown",
   "id": "ba3eb83b-e0f3-497b-bc77-3618689ad537",
   "metadata": {},
   "source": [
    "#### Q9. How can local outliers be detected using the Local Outlier Factor (LOF) algorithm?\n",
    "- The LOF algorithm computes the local density of a data point by measuring the average distance between the point and its k nearest neighbours. This local density measure is known as the local reachability density (LRD) and is used to identify data points that have a significantly lower density than their neighbours."
   ]
  },
  {
   "cell_type": "markdown",
   "id": "9487ae25-057b-4e2b-af41-7affb10db930",
   "metadata": {},
   "source": [
    "#### Q10. How can global outliers be detected using the Isolation Forest algorithm?\n",
    "- To detect global outliers using the Isolation Forest algorithm, the algorithm creates multiple random forests, and the average path length for each data point is calculated. Points with shorter average path lengths are considered to be more anomalous, while points with longer average path lengths are considered to be less anomalous. The threshold for what is considered anomalous can be adjusted based on the user's preference or domain knowledge."
   ]
  },
  {
   "cell_type": "markdown",
   "id": "ae69e740-ac28-4412-9851-64d8dae26b1a",
   "metadata": {},
   "source": [
    "#### What are some real-world applications where local outlier detection is more appropriate than global outlier detection, and vice versa?\n",
    "- local outlier detection can be used to identify anomalies in specific regions of the body, such as the lungs or the heart.\n",
    "- global outlier detection can be used to identify defective products that are not limited to a specific region of the production line. It can also be used in network intrusion detection to identify unusual patterns of network traffic that are not limited to specific IP addresses."
   ]
  },
  {
   "cell_type": "code",
   "execution_count": null,
   "id": "9efe89c7-4004-484c-a234-dc466a87553f",
   "metadata": {},
   "outputs": [],
   "source": []
  }
 ],
 "metadata": {
  "kernelspec": {
   "display_name": "Python 3 (ipykernel)",
   "language": "python",
   "name": "python3"
  },
  "language_info": {
   "codemirror_mode": {
    "name": "ipython",
    "version": 3
   },
   "file_extension": ".py",
   "mimetype": "text/x-python",
   "name": "python",
   "nbconvert_exporter": "python",
   "pygments_lexer": "ipython3",
   "version": "3.9.12"
  }
 },
 "nbformat": 4,
 "nbformat_minor": 5
}
