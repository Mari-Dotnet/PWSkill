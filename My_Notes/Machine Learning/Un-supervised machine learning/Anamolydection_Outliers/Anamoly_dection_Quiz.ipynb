{
 "cells": [
  {
   "cell_type": "markdown",
   "id": "009f8e5b-ba3a-49fd-a81d-56b0bd3c4a5c",
   "metadata": {},
   "source": [
    "#### What is the intuition behind DBSCAN for anomaly detection?\n",
    "- DBSCAN uses density-based clustering to identify regions of high density as normal data points and regions of low density as anomalies."
   ]
  },
  {
   "cell_type": "markdown",
   "id": "8916cd33-3442-4e4d-b0fa-9ec2500e3152",
   "metadata": {},
   "source": [
    "#### What is the main advantage of DBSCAN over other clustering algorithms for anomaly detection?\n",
    "- DBSCAN does not require the number of clusters to be specified."
   ]
  },
  {
   "cell_type": "markdown",
   "id": "e89c1467-d607-4e76-ac29-3ec714e948a1",
   "metadata": {},
   "source": [
    "#### In DBSCAN, what is the role of the epsilon parameter?\n",
    "- It determines the maximum distance between two data points for them to be considered in the same cluster."
   ]
  },
  {
   "cell_type": "markdown",
   "id": "189ff136-79d0-4379-8007-95e0d2c4520a",
   "metadata": {},
   "source": [
    "#### What is the role of the min_samples parameter in DBSCAN?\n",
    "- It determines the minimum number of data points required to form a cluster."
   ]
  },
  {
   "cell_type": "markdown",
   "id": "39e6037e-7fb1-4e62-a284-8260a6ba02e7",
   "metadata": {},
   "source": [
    "#### How does DBSCAN handle noise in the data?\n",
    "- DBSCAN treats noisy data points as outliers."
   ]
  },
  {
   "cell_type": "markdown",
   "id": "d0b49452-8846-46d8-90ec-f7bd6edbff84",
   "metadata": {},
   "source": [
    "#### Which of the following statements about DBSCAN is true?\n",
    "- DBSCAN can handle both numerical and categorical data, making it a versatile algorithm for anomaly detection."
   ]
  },
  {
   "cell_type": "markdown",
   "id": "876f6eab-8cca-4d8b-bac4-6f57d3bf3022",
   "metadata": {},
   "source": [
    "#### What is the DBSCAN connectivity parameter?\n",
    "- The DBSCAN connectivity parameter, also known as epsilon, is a hyperparameter that determines the maximum distance between two data points for them to be considered in the same cluster."
   ]
  },
  {
   "cell_type": "markdown",
   "id": "973d0b42-dc37-466b-a342-b625be05ce23",
   "metadata": {},
   "source": [
    "#### What is Isolation Forest?\n",
    "- \n",
    "An unsupervised machine learning algorithm for anomaly detection."
   ]
  },
  {
   "cell_type": "markdown",
   "id": "9c0ba173-69d4-4f22-976c-56c9768d019e",
   "metadata": {},
   "source": [
    "#### How does Isolation Forest work?\n",
    "- solation Forest works by constructing random decision trees to isolate the anomalies from the normal data points."
   ]
  },
  {
   "cell_type": "markdown",
   "id": "4446ddcd-46dc-4243-8c1b-974bb99b2c1d",
   "metadata": {},
   "source": [
    "#### What is the purpose of Isolation Forest in anomaly detection?\n",
    "- The purpose of Isolation Forest in anomaly detection is to identify the anomalies in the data."
   ]
  },
  {
   "cell_type": "markdown",
   "id": "a9d6726a-dc02-4d6d-867a-2696a749397d",
   "metadata": {},
   "source": [
    "#### Which of the following is a hyperparameter of the Isolation Forest algorithm?\n",
    "- The number of trees is a hyperparameter of the Isolation Forest algorithm that can be tuned to optimize the performance of the algorithm on a given dataset."
   ]
  },
  {
   "cell_type": "markdown",
   "id": "fde3ee5e-af5b-43fd-b33d-050a70116cd3",
   "metadata": {},
   "source": [
    "#### Which of the following is a common metric used to evaluate the performance of anomaly detection algorithms?\n",
    "- Accuracy. Precision.Recall."
   ]
  },
  {
   "cell_type": "markdown",
   "id": "19ba90a6-c87f-45c2-ad68-f99d1adc4b44",
   "metadata": {},
   "source": [
    "#### How does the contamination parameter affect the performance of the Isolation Forest algorithm?\n",
    "- It controls the fraction of anomalies in the data."
   ]
  },
  {
   "cell_type": "markdown",
   "id": "5d4733f3-cc4e-4014-ac00-f6ea1320c3b0",
   "metadata": {},
   "source": [
    "#### Isolation Forest is a robust algorithm for anomaly detection because:\n",
    "- : Isolation Forest is a robust algorithm for anomaly detection because it can handle high-dimensional feature spaces, it does not require any assumptions about the data distribution, and it is resistant to overfitting."
   ]
  },
  {
   "cell_type": "markdown",
   "id": "e1ef7525-bac5-4a62-b4b8-1dd3ff506a33",
   "metadata": {},
   "source": [
    "#### How can hyperparameter tuning be used to optimise the performance of the Isolation Forest algorithm?\n",
    "- Hyperparameter tuning can be used to optimise the performance of the Isolation Forest algorithm by varying the number of trees in the forest."
   ]
  },
  {
   "cell_type": "markdown",
   "id": "3d0e5770-ee5b-499f-95ce-5bd6575979d7",
   "metadata": {},
   "source": [
    "#### What is the Local Outlier Factor (LOF)?\n",
    "-  The Local Outlier Factor (LOF) algorithm is a density-based algorithm used for detecting outliers or anomalies in a dataset based on local density. The algorithm computes the local density of each data point and compares it to the densities of its neighbours to identify data points that have a significantly lower local density, which are considered outliers."
   ]
  },
  {
   "cell_type": "markdown",
   "id": "cd2be7d2-f1c1-48f4-9efc-8a43b0654261",
   "metadata": {},
   "source": [
    "#### How does the LOF algorithm compute the local density of a data point?\n",
    "- The LOF algorithm computes the local density of a data point by measuring the average distance between the point and its k nearest neighbours. This local density measure is known as the local reachability density (LRD) and is used to identify data points that have a significantly lower density than their neighbours."
   ]
  },
  {
   "cell_type": "markdown",
   "id": "62e3ef96-ce86-41e1-813c-d85813cfec81",
   "metadata": {},
   "source": [
    "#### What is the minimum value of the LOF for a data point that is not considered an outlier?\n",
    "- : The LOF algorithm computes the LOF value for each data point based on its local density and the densities of its neighbours. A LOF value of 1 indicates that the point has a similar density to its neighbours and is not considered an outlier. LOF values greater than 1 indicate that the point has a lower density than its neighbours and is considered an outlier."
   ]
  },
  {
   "cell_type": "markdown",
   "id": "08361803-4b3b-4a4d-95f8-453a7124d362",
   "metadata": {},
   "source": [
    "#### How does the LOF algorithm handle data points with different densities in the dataset?\n",
    "- The LOF algorithm assigns higher weights to data points with higher densities by computing the LRD of each data point based on the average distance to its k nearest neighbours. This ensures that data points with higher densities have a higher LRD and are more likely to be considered normal."
   ]
  },
  {
   "cell_type": "markdown",
   "id": "26427731-d4de-4381-9e58-0a51692e6cdc",
   "metadata": {},
   "source": [
    "####  How does the LOF algorithm handle datasets with varying densities?\n",
    "- It sets different thresholds for detecting outliers based on the density of each data point."
   ]
  },
  {
   "cell_type": "code",
   "execution_count": null,
   "id": "42c78617-3570-4e8d-9094-7823af560886",
   "metadata": {},
   "outputs": [],
   "source": []
  }
 ],
 "metadata": {
  "kernelspec": {
   "display_name": "Python 3 (ipykernel)",
   "language": "python",
   "name": "python3"
  },
  "language_info": {
   "codemirror_mode": {
    "name": "ipython",
    "version": 3
   },
   "file_extension": ".py",
   "mimetype": "text/x-python",
   "name": "python",
   "nbconvert_exporter": "python",
   "pygments_lexer": "ipython3",
   "version": "3.9.12"
  }
 },
 "nbformat": 4,
 "nbformat_minor": 5
}
