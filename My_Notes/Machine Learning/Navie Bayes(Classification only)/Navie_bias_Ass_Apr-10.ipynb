{
 "cells": [
  {
   "cell_type": "markdown",
   "id": "bc7c5ab6-c76e-433e-9cf0-2a8981ca8510",
   "metadata": {},
   "source": [
    "#### Q2. What is the difference between Bernoulli Naive Bayes and Multinomial Naive Bayes?\n",
    "-  Bernoulli Naive Bayes is used for binary features, while Multinomial Naive Bayes is used for discrete features. Both models assume independence among the features and use Bayes' theorem to calculate the probability of each class given the input features."
   ]
  },
  {
   "cell_type": "markdown",
   "id": "739b19a1-c00c-42fa-8b4e-86307dcd474b",
   "metadata": {},
   "source": [
    "#### 3.How does Bernoulli Naive Bayes handle missing values?\n",
    "- One common approach to handle missing values in Bernoulli Naive Bayes is to use a technique called \"missing value imputation\". This involves replacing the missing values with a value that is most representative of the data. For example, if the majority of the values for a given feature are 0, then the missing values for that feature could be imputed as 0.\n",
    "\n",
    "- Alternatively, another common approach is to treat missing values as a separate category (i.e., neither 0 nor 1). This means that the feature takes on three possible values: 0, 1, or missing. The probability of each category given the class is then calculated using Bayes' theorem."
   ]
  },
  {
   "cell_type": "markdown",
   "id": "f13855b1-385c-4607-8708-6140d75301bf",
   "metadata": {},
   "source": [
    "### Q4. Can Gaussian Naive Bayes be used for multi-class classification?\n",
    "- Yes, Gaussian Naive Bayes can be used for multi-class classification. In multi-class classification, there are more than two possible classes that an input instance can belong to."
   ]
  },
  {
   "cell_type": "code",
   "execution_count": null,
   "id": "c25a7967-067d-4ec8-b9fa-e1ac5128adf9",
   "metadata": {},
   "outputs": [],
   "source": []
  }
 ],
 "metadata": {
  "kernelspec": {
   "display_name": "Python 3 (ipykernel)",
   "language": "python",
   "name": "python3"
  },
  "language_info": {
   "codemirror_mode": {
    "name": "ipython",
    "version": 3
   },
   "file_extension": ".py",
   "mimetype": "text/x-python",
   "name": "python",
   "nbconvert_exporter": "python",
   "pygments_lexer": "ipython3",
   "version": "3.9.12"
  }
 },
 "nbformat": 4,
 "nbformat_minor": 5
}
