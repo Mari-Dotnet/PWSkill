{
 "cells": [
  {
   "cell_type": "code",
   "execution_count": 1,
   "id": "d9b61948-1afd-47f1-b558-1008d95129fd",
   "metadata": {},
   "outputs": [],
   "source": [
    "## import the libraries\n",
    "import pandas as pd\n",
    "import numpy as np\n",
    "import matplotlib.pyplot as plt\n",
    "from sklearn.model_selection import train_test_split\n",
    "##from sklearn.linear_model import LogisticRegression\n",
    "from sklearn.tree import DecisionTreeClassifier\n",
    "from sklearn.svm import SVC\n",
    "from sklearn.metrics import accuracy_score,confusion_matrix,classification_report\n",
    "import seaborn as sns\n",
    "import warnings \n",
    "warnings.filterwarnings('ignore')"
   ]
  },
  {
   "cell_type": "code",
   "execution_count": 2,
   "id": "86d085c5-5307-4ee5-835d-50ed51cce789",
   "metadata": {},
   "outputs": [
    {
     "data": {
      "text/html": [
       "<div>\n",
       "<style scoped>\n",
       "    .dataframe tbody tr th:only-of-type {\n",
       "        vertical-align: middle;\n",
       "    }\n",
       "\n",
       "    .dataframe tbody tr th {\n",
       "        vertical-align: top;\n",
       "    }\n",
       "\n",
       "    .dataframe thead th {\n",
       "        text-align: right;\n",
       "    }\n",
       "</style>\n",
       "<table border=\"1\" class=\"dataframe\">\n",
       "  <thead>\n",
       "    <tr style=\"text-align: right;\">\n",
       "      <th></th>\n",
       "      <th>Pregnancies</th>\n",
       "      <th>Glucose</th>\n",
       "      <th>BloodPressure</th>\n",
       "      <th>SkinThickness</th>\n",
       "      <th>Insulin</th>\n",
       "      <th>BMI</th>\n",
       "      <th>DiabetesPedigreeFunction</th>\n",
       "      <th>Age</th>\n",
       "      <th>Outcome</th>\n",
       "    </tr>\n",
       "  </thead>\n",
       "  <tbody>\n",
       "    <tr>\n",
       "      <th>0</th>\n",
       "      <td>6</td>\n",
       "      <td>148</td>\n",
       "      <td>72</td>\n",
       "      <td>35</td>\n",
       "      <td>0</td>\n",
       "      <td>33.6</td>\n",
       "      <td>0.627</td>\n",
       "      <td>50</td>\n",
       "      <td>1</td>\n",
       "    </tr>\n",
       "    <tr>\n",
       "      <th>1</th>\n",
       "      <td>1</td>\n",
       "      <td>85</td>\n",
       "      <td>66</td>\n",
       "      <td>29</td>\n",
       "      <td>0</td>\n",
       "      <td>26.6</td>\n",
       "      <td>0.351</td>\n",
       "      <td>31</td>\n",
       "      <td>0</td>\n",
       "    </tr>\n",
       "    <tr>\n",
       "      <th>2</th>\n",
       "      <td>8</td>\n",
       "      <td>183</td>\n",
       "      <td>64</td>\n",
       "      <td>0</td>\n",
       "      <td>0</td>\n",
       "      <td>23.3</td>\n",
       "      <td>0.672</td>\n",
       "      <td>32</td>\n",
       "      <td>1</td>\n",
       "    </tr>\n",
       "    <tr>\n",
       "      <th>3</th>\n",
       "      <td>1</td>\n",
       "      <td>89</td>\n",
       "      <td>66</td>\n",
       "      <td>23</td>\n",
       "      <td>94</td>\n",
       "      <td>28.1</td>\n",
       "      <td>0.167</td>\n",
       "      <td>21</td>\n",
       "      <td>0</td>\n",
       "    </tr>\n",
       "    <tr>\n",
       "      <th>4</th>\n",
       "      <td>0</td>\n",
       "      <td>137</td>\n",
       "      <td>40</td>\n",
       "      <td>35</td>\n",
       "      <td>168</td>\n",
       "      <td>43.1</td>\n",
       "      <td>2.288</td>\n",
       "      <td>33</td>\n",
       "      <td>1</td>\n",
       "    </tr>\n",
       "  </tbody>\n",
       "</table>\n",
       "</div>"
      ],
      "text/plain": [
       "   Pregnancies  Glucose  BloodPressure  SkinThickness  Insulin   BMI  \\\n",
       "0            6      148             72             35        0  33.6   \n",
       "1            1       85             66             29        0  26.6   \n",
       "2            8      183             64              0        0  23.3   \n",
       "3            1       89             66             23       94  28.1   \n",
       "4            0      137             40             35      168  43.1   \n",
       "\n",
       "   DiabetesPedigreeFunction  Age  Outcome  \n",
       "0                     0.627   50        1  \n",
       "1                     0.351   31        0  \n",
       "2                     0.672   32        1  \n",
       "3                     0.167   21        0  \n",
       "4                     2.288   33        1  "
      ]
     },
     "execution_count": 2,
     "metadata": {},
     "output_type": "execute_result"
    }
   ],
   "source": [
    "df=pd.read_csv('diabetes.csv')\n",
    "df.head()"
   ]
  },
  {
   "cell_type": "code",
   "execution_count": 3,
   "id": "66447091-b213-49db-8ac8-42b2e0ebfb64",
   "metadata": {},
   "outputs": [
    {
     "data": {
      "text/html": [
       "<div>\n",
       "<style scoped>\n",
       "    .dataframe tbody tr th:only-of-type {\n",
       "        vertical-align: middle;\n",
       "    }\n",
       "\n",
       "    .dataframe tbody tr th {\n",
       "        vertical-align: top;\n",
       "    }\n",
       "\n",
       "    .dataframe thead th {\n",
       "        text-align: right;\n",
       "    }\n",
       "</style>\n",
       "<table border=\"1\" class=\"dataframe\">\n",
       "  <thead>\n",
       "    <tr style=\"text-align: right;\">\n",
       "      <th></th>\n",
       "      <th>Pregnancies</th>\n",
       "      <th>Glucose</th>\n",
       "      <th>BloodPressure</th>\n",
       "      <th>SkinThickness</th>\n",
       "      <th>Insulin</th>\n",
       "      <th>BMI</th>\n",
       "      <th>DiabetesPedigreeFunction</th>\n",
       "      <th>Age</th>\n",
       "      <th>Outcome</th>\n",
       "    </tr>\n",
       "  </thead>\n",
       "  <tbody>\n",
       "    <tr>\n",
       "      <th>count</th>\n",
       "      <td>768.000000</td>\n",
       "      <td>768.000000</td>\n",
       "      <td>768.000000</td>\n",
       "      <td>768.000000</td>\n",
       "      <td>768.000000</td>\n",
       "      <td>768.000000</td>\n",
       "      <td>768.000000</td>\n",
       "      <td>768.000000</td>\n",
       "      <td>768.000000</td>\n",
       "    </tr>\n",
       "    <tr>\n",
       "      <th>mean</th>\n",
       "      <td>3.845052</td>\n",
       "      <td>120.894531</td>\n",
       "      <td>69.105469</td>\n",
       "      <td>20.536458</td>\n",
       "      <td>79.799479</td>\n",
       "      <td>31.992578</td>\n",
       "      <td>0.471876</td>\n",
       "      <td>33.240885</td>\n",
       "      <td>0.348958</td>\n",
       "    </tr>\n",
       "    <tr>\n",
       "      <th>std</th>\n",
       "      <td>3.369578</td>\n",
       "      <td>31.972618</td>\n",
       "      <td>19.355807</td>\n",
       "      <td>15.952218</td>\n",
       "      <td>115.244002</td>\n",
       "      <td>7.884160</td>\n",
       "      <td>0.331329</td>\n",
       "      <td>11.760232</td>\n",
       "      <td>0.476951</td>\n",
       "    </tr>\n",
       "    <tr>\n",
       "      <th>min</th>\n",
       "      <td>0.000000</td>\n",
       "      <td>0.000000</td>\n",
       "      <td>0.000000</td>\n",
       "      <td>0.000000</td>\n",
       "      <td>0.000000</td>\n",
       "      <td>0.000000</td>\n",
       "      <td>0.078000</td>\n",
       "      <td>21.000000</td>\n",
       "      <td>0.000000</td>\n",
       "    </tr>\n",
       "    <tr>\n",
       "      <th>25%</th>\n",
       "      <td>1.000000</td>\n",
       "      <td>99.000000</td>\n",
       "      <td>62.000000</td>\n",
       "      <td>0.000000</td>\n",
       "      <td>0.000000</td>\n",
       "      <td>27.300000</td>\n",
       "      <td>0.243750</td>\n",
       "      <td>24.000000</td>\n",
       "      <td>0.000000</td>\n",
       "    </tr>\n",
       "    <tr>\n",
       "      <th>50%</th>\n",
       "      <td>3.000000</td>\n",
       "      <td>117.000000</td>\n",
       "      <td>72.000000</td>\n",
       "      <td>23.000000</td>\n",
       "      <td>30.500000</td>\n",
       "      <td>32.000000</td>\n",
       "      <td>0.372500</td>\n",
       "      <td>29.000000</td>\n",
       "      <td>0.000000</td>\n",
       "    </tr>\n",
       "    <tr>\n",
       "      <th>75%</th>\n",
       "      <td>6.000000</td>\n",
       "      <td>140.250000</td>\n",
       "      <td>80.000000</td>\n",
       "      <td>32.000000</td>\n",
       "      <td>127.250000</td>\n",
       "      <td>36.600000</td>\n",
       "      <td>0.626250</td>\n",
       "      <td>41.000000</td>\n",
       "      <td>1.000000</td>\n",
       "    </tr>\n",
       "    <tr>\n",
       "      <th>max</th>\n",
       "      <td>17.000000</td>\n",
       "      <td>199.000000</td>\n",
       "      <td>122.000000</td>\n",
       "      <td>99.000000</td>\n",
       "      <td>846.000000</td>\n",
       "      <td>67.100000</td>\n",
       "      <td>2.420000</td>\n",
       "      <td>81.000000</td>\n",
       "      <td>1.000000</td>\n",
       "    </tr>\n",
       "  </tbody>\n",
       "</table>\n",
       "</div>"
      ],
      "text/plain": [
       "       Pregnancies     Glucose  BloodPressure  SkinThickness     Insulin  \\\n",
       "count   768.000000  768.000000     768.000000     768.000000  768.000000   \n",
       "mean      3.845052  120.894531      69.105469      20.536458   79.799479   \n",
       "std       3.369578   31.972618      19.355807      15.952218  115.244002   \n",
       "min       0.000000    0.000000       0.000000       0.000000    0.000000   \n",
       "25%       1.000000   99.000000      62.000000       0.000000    0.000000   \n",
       "50%       3.000000  117.000000      72.000000      23.000000   30.500000   \n",
       "75%       6.000000  140.250000      80.000000      32.000000  127.250000   \n",
       "max      17.000000  199.000000     122.000000      99.000000  846.000000   \n",
       "\n",
       "              BMI  DiabetesPedigreeFunction         Age     Outcome  \n",
       "count  768.000000                768.000000  768.000000  768.000000  \n",
       "mean    31.992578                  0.471876   33.240885    0.348958  \n",
       "std      7.884160                  0.331329   11.760232    0.476951  \n",
       "min      0.000000                  0.078000   21.000000    0.000000  \n",
       "25%     27.300000                  0.243750   24.000000    0.000000  \n",
       "50%     32.000000                  0.372500   29.000000    0.000000  \n",
       "75%     36.600000                  0.626250   41.000000    1.000000  \n",
       "max     67.100000                  2.420000   81.000000    1.000000  "
      ]
     },
     "execution_count": 3,
     "metadata": {},
     "output_type": "execute_result"
    }
   ],
   "source": [
    "df.describe()"
   ]
  },
  {
   "cell_type": "markdown",
   "id": "a102f9de-7e6b-479c-b44f-98b7b04f8c56",
   "metadata": {},
   "source": [
    "#### Above mentioned the row have min value is 0 but in real that column have some value so we can update mean value"
   ]
  },
  {
   "cell_type": "code",
   "execution_count": 4,
   "id": "e6d229da-f614-4342-aff4-d6943b34751e",
   "metadata": {},
   "outputs": [],
   "source": [
    "#df['Pregnancies']=df['Pregnancies'].replace(0,df['Pregnancies'].mean())\n",
    "df['Glucose']=df['Glucose'].replace(0,df['Glucose'].mean())\n",
    "df['BloodPressure']=df['BloodPressure'].replace(0,df['BloodPressure'].mean())\n",
    "df['SkinThickness']=df['SkinThickness'].replace(0,df['SkinThickness'].mean())\n",
    "df['Insulin']=df['Insulin'].replace(0,df['Insulin'].median())\n",
    "df['BMI']=df['BMI'].replace(0,df['BMI'].mean())"
   ]
  },
  {
   "cell_type": "code",
   "execution_count": 5,
   "id": "e7682986-81a5-45b7-8f1c-0d67d0d937c8",
   "metadata": {},
   "outputs": [
    {
     "data": {
      "text/html": [
       "<div>\n",
       "<style scoped>\n",
       "    .dataframe tbody tr th:only-of-type {\n",
       "        vertical-align: middle;\n",
       "    }\n",
       "\n",
       "    .dataframe tbody tr th {\n",
       "        vertical-align: top;\n",
       "    }\n",
       "\n",
       "    .dataframe thead th {\n",
       "        text-align: right;\n",
       "    }\n",
       "</style>\n",
       "<table border=\"1\" class=\"dataframe\">\n",
       "  <thead>\n",
       "    <tr style=\"text-align: right;\">\n",
       "      <th></th>\n",
       "      <th>Pregnancies</th>\n",
       "      <th>Glucose</th>\n",
       "      <th>BloodPressure</th>\n",
       "      <th>SkinThickness</th>\n",
       "      <th>Insulin</th>\n",
       "      <th>BMI</th>\n",
       "      <th>DiabetesPedigreeFunction</th>\n",
       "      <th>Age</th>\n",
       "      <th>Outcome</th>\n",
       "    </tr>\n",
       "  </thead>\n",
       "  <tbody>\n",
       "    <tr>\n",
       "      <th>count</th>\n",
       "      <td>768.000000</td>\n",
       "      <td>768.000000</td>\n",
       "      <td>768.000000</td>\n",
       "      <td>768.000000</td>\n",
       "      <td>768.000000</td>\n",
       "      <td>768.000000</td>\n",
       "      <td>768.000000</td>\n",
       "      <td>768.000000</td>\n",
       "      <td>768.000000</td>\n",
       "    </tr>\n",
       "    <tr>\n",
       "      <th>mean</th>\n",
       "      <td>3.845052</td>\n",
       "      <td>121.681605</td>\n",
       "      <td>72.254807</td>\n",
       "      <td>26.606479</td>\n",
       "      <td>94.652344</td>\n",
       "      <td>32.450805</td>\n",
       "      <td>0.471876</td>\n",
       "      <td>33.240885</td>\n",
       "      <td>0.348958</td>\n",
       "    </tr>\n",
       "    <tr>\n",
       "      <th>std</th>\n",
       "      <td>3.369578</td>\n",
       "      <td>30.436016</td>\n",
       "      <td>12.115932</td>\n",
       "      <td>9.631241</td>\n",
       "      <td>105.547598</td>\n",
       "      <td>6.875374</td>\n",
       "      <td>0.331329</td>\n",
       "      <td>11.760232</td>\n",
       "      <td>0.476951</td>\n",
       "    </tr>\n",
       "    <tr>\n",
       "      <th>min</th>\n",
       "      <td>0.000000</td>\n",
       "      <td>44.000000</td>\n",
       "      <td>24.000000</td>\n",
       "      <td>7.000000</td>\n",
       "      <td>14.000000</td>\n",
       "      <td>18.200000</td>\n",
       "      <td>0.078000</td>\n",
       "      <td>21.000000</td>\n",
       "      <td>0.000000</td>\n",
       "    </tr>\n",
       "    <tr>\n",
       "      <th>25%</th>\n",
       "      <td>1.000000</td>\n",
       "      <td>99.750000</td>\n",
       "      <td>64.000000</td>\n",
       "      <td>20.536458</td>\n",
       "      <td>30.500000</td>\n",
       "      <td>27.500000</td>\n",
       "      <td>0.243750</td>\n",
       "      <td>24.000000</td>\n",
       "      <td>0.000000</td>\n",
       "    </tr>\n",
       "    <tr>\n",
       "      <th>50%</th>\n",
       "      <td>3.000000</td>\n",
       "      <td>117.000000</td>\n",
       "      <td>72.000000</td>\n",
       "      <td>23.000000</td>\n",
       "      <td>31.250000</td>\n",
       "      <td>32.000000</td>\n",
       "      <td>0.372500</td>\n",
       "      <td>29.000000</td>\n",
       "      <td>0.000000</td>\n",
       "    </tr>\n",
       "    <tr>\n",
       "      <th>75%</th>\n",
       "      <td>6.000000</td>\n",
       "      <td>140.250000</td>\n",
       "      <td>80.000000</td>\n",
       "      <td>32.000000</td>\n",
       "      <td>127.250000</td>\n",
       "      <td>36.600000</td>\n",
       "      <td>0.626250</td>\n",
       "      <td>41.000000</td>\n",
       "      <td>1.000000</td>\n",
       "    </tr>\n",
       "    <tr>\n",
       "      <th>max</th>\n",
       "      <td>17.000000</td>\n",
       "      <td>199.000000</td>\n",
       "      <td>122.000000</td>\n",
       "      <td>99.000000</td>\n",
       "      <td>846.000000</td>\n",
       "      <td>67.100000</td>\n",
       "      <td>2.420000</td>\n",
       "      <td>81.000000</td>\n",
       "      <td>1.000000</td>\n",
       "    </tr>\n",
       "  </tbody>\n",
       "</table>\n",
       "</div>"
      ],
      "text/plain": [
       "       Pregnancies     Glucose  BloodPressure  SkinThickness     Insulin  \\\n",
       "count   768.000000  768.000000     768.000000     768.000000  768.000000   \n",
       "mean      3.845052  121.681605      72.254807      26.606479   94.652344   \n",
       "std       3.369578   30.436016      12.115932       9.631241  105.547598   \n",
       "min       0.000000   44.000000      24.000000       7.000000   14.000000   \n",
       "25%       1.000000   99.750000      64.000000      20.536458   30.500000   \n",
       "50%       3.000000  117.000000      72.000000      23.000000   31.250000   \n",
       "75%       6.000000  140.250000      80.000000      32.000000  127.250000   \n",
       "max      17.000000  199.000000     122.000000      99.000000  846.000000   \n",
       "\n",
       "              BMI  DiabetesPedigreeFunction         Age     Outcome  \n",
       "count  768.000000                768.000000  768.000000  768.000000  \n",
       "mean    32.450805                  0.471876   33.240885    0.348958  \n",
       "std      6.875374                  0.331329   11.760232    0.476951  \n",
       "min     18.200000                  0.078000   21.000000    0.000000  \n",
       "25%     27.500000                  0.243750   24.000000    0.000000  \n",
       "50%     32.000000                  0.372500   29.000000    0.000000  \n",
       "75%     36.600000                  0.626250   41.000000    1.000000  \n",
       "max     67.100000                  2.420000   81.000000    1.000000  "
      ]
     },
     "execution_count": 5,
     "metadata": {},
     "output_type": "execute_result"
    }
   ],
   "source": [
    "df.describe()"
   ]
  },
  {
   "cell_type": "code",
   "execution_count": 6,
   "id": "51da43b9-090a-4459-8419-6029d9c82779",
   "metadata": {},
   "outputs": [
    {
     "data": {
      "text/plain": [
       "<AxesSubplot:>"
      ]
     },
     "execution_count": 6,
     "metadata": {},
     "output_type": "execute_result"
    },
    {
     "data": {
      "image/png": "[encoded data removed]",
      "text/plain": [
       "<Figure size 1080x720 with 1 Axes>"
      ]
     },
     "metadata": {
      "needs_background": "light"
     },
     "output_type": "display_data"
    }
   ],
   "source": [
    "## check the data have outliers or not\n",
    "fig,ax=plt.subplots(figsize=(15,10))\n",
    "sns.boxplot(data=df,ax=ax,fliersize=3)"
   ]
  },
  {
   "cell_type": "code",
   "execution_count": 7,
   "id": "34205ac4-7450-41a2-98be-39f73f8edbd5",
   "metadata": {},
   "outputs": [],
   "source": [
    "## Segregate the independent and dependent feature\n",
    "X=df.iloc[0:,:-1]\n",
    "y=df.iloc[:,-1]"
   ]
  },
  {
   "cell_type": "code",
   "execution_count": 8,
   "id": "80c33b49-822d-40f1-9a11-8bd838fb5001",
   "metadata": {},
   "outputs": [],
   "source": [
    "## Seprate the datset train and test data set\n",
    "X_train, X_test, y_train, y_test = train_test_split(X, y, test_size=0.33, random_state=42)"
   ]
  },
  {
   "cell_type": "code",
   "execution_count": 9,
   "id": "203149e6-3ad1-4e93-8dfe-5fd788e553ac",
   "metadata": {},
   "outputs": [],
   "source": [
    "## Standard scaler and scaler pickle file save\n",
    "import pickle\n",
    "from sklearn.preprocessing import StandardScaler"
   ]
  },
  {
   "cell_type": "code",
   "execution_count": 10,
   "id": "4e3fb19d-09fa-4795-9269-6e58108e09df",
   "metadata": {},
   "outputs": [],
   "source": [
    "def scaledvalue(xtrain,xtest):\n",
    "    scaler=StandardScaler()\n",
    "    x_train_scaled=scaler.fit_transform(xtrain)\n",
    "    x_test_scaled=scaler.fit_transform(xtest)\n",
    "    pickle.dump(scaler,open('Diabetesscaler.pkl','wb'))\n",
    "    return x_train_scaled,x_test_scaled\n",
    "    "
   ]
  },
  {
   "cell_type": "code",
   "execution_count": 11,
   "id": "f35bfc3c-028f-49fa-aec4-c7e81754d9b5",
   "metadata": {},
   "outputs": [],
   "source": [
    "X_train_scaled,X_test_scaled=scaledvalue(X_train,X_test)"
   ]
  },
  {
   "cell_type": "code",
   "execution_count": 12,
   "id": "f32b6e67-1701-4498-919f-9acfb1a3f0fe",
   "metadata": {},
   "outputs": [],
   "source": [
    "## decision tree hyper parameter tuning\n",
    "parameters={\n",
    "    'criterion' : (\"gini\", \"entropy\"),\n",
    "    'splitter' : (\"best\", \"random\"),\n",
    "    'max_depth':[1,2,3,4,5],\n",
    "    'max_features' : (\"auto\", \"sqrt\", \"log2\")\n",
    "}"
   ]
  },
  {
   "cell_type": "code",
   "execution_count": 13,
   "id": "0f0d728b-b943-416f-a552-5eb32d62f92d",
   "metadata": {},
   "outputs": [],
   "source": [
    "from sklearn.model_selection import GridSearchCV\n",
    "classifier=DecisionTreeClassifier()"
   ]
  },
  {
   "cell_type": "code",
   "execution_count": 14,
   "id": "fb14888a-1fdc-44b2-a454-f28442743d6b",
   "metadata": {},
   "outputs": [],
   "source": [
    "cv=GridSearchCV(classifier,param_grid=parameters,cv=3,scoring='accuracy',verbose=3)"
   ]
  },
  {
   "cell_type": "code",
   "execution_count": 15,
   "id": "f636c7b0-ea77-406c-a7e7-cd4d24e6fb7a",
   "metadata": {},
   "outputs": [
    {
     "name": "stdout",
     "output_type": "stream",
     "text": [
      "Fitting 3 folds for each of 60 candidates, totalling 180 fits\n",
      "[CV 1/3] END criterion=gini, max_depth=1, max_features=auto, splitter=best;, score=0.750 total time=   0.0s\n",
      "[CV 2/3] END criterion=gini, max_depth=1, max_features=auto, splitter=best;, score=0.649 total time=   0.0s\n",
      "[CV 3/3] END criterion=gini, max_depth=1, max_features=auto, splitter=best;, score=0.643 total time=   0.0s\n",
      "[CV 1/3] END criterion=gini, max_depth=1, max_features=auto, splitter=random;, score=0.651 total time=   0.0s\n",
      "[CV 2/3] END criterion=gini, max_depth=1, max_features=auto, splitter=random;, score=0.632 total time=   0.0s\n",
      "[CV 3/3] END criterion=gini, max_depth=1, max_features=auto, splitter=random;, score=0.643 total time=   0.0s\n",
      "[CV 1/3] END criterion=gini, max_depth=1, max_features=sqrt, splitter=best;, score=0.750 total time=   0.0s\n",
      "[CV 2/3] END criterion=gini, max_depth=1, max_features=sqrt, splitter=best;, score=0.649 total time=   0.0s\n",
      "[CV 3/3] END criterion=gini, max_depth=1, max_features=sqrt, splitter=best;, score=0.678 total time=   0.0s\n",
      "[CV 1/3] END criterion=gini, max_depth=1, max_features=sqrt, splitter=random;, score=0.744 total time=   0.0s\n",
      "[CV 2/3] END criterion=gini, max_depth=1, max_features=sqrt, splitter=random;, score=0.649 total time=   0.0s\n",
      "[CV 3/3] END criterion=gini, max_depth=1, max_features=sqrt, splitter=random;, score=0.655 total time=   0.0s\n",
      "[CV 1/3] END criterion=gini, max_depth=1, max_features=log2, splitter=best;, score=0.645 total time=   0.0s\n",
      "[CV 2/3] END criterion=gini, max_depth=1, max_features=log2, splitter=best;, score=0.772 total time=   0.0s\n",
      "[CV 3/3] END criterion=gini, max_depth=1, max_features=log2, splitter=best;, score=0.643 total time=   0.0s\n",
      "[CV 1/3] END criterion=gini, max_depth=1, max_features=log2, splitter=random;, score=0.645 total time=   0.0s\n",
      "[CV 2/3] END criterion=gini, max_depth=1, max_features=log2, splitter=random;, score=0.649 total time=   0.0s\n",
      "[CV 3/3] END criterion=gini, max_depth=1, max_features=log2, splitter=random;, score=0.667 total time=   0.0s\n",
      "[CV 1/3] END criterion=gini, max_depth=2, max_features=auto, splitter=best;, score=0.715 total time=   0.0s\n",
      "[CV 2/3] END criterion=gini, max_depth=2, max_features=auto, splitter=best;, score=0.754 total time=   0.0s\n",
      "[CV 3/3] END criterion=gini, max_depth=2, max_features=auto, splitter=best;, score=0.626 total time=   0.0s\n",
      "[CV 1/3] END criterion=gini, max_depth=2, max_features=auto, splitter=random;, score=0.657 total time=   0.0s\n",
      "[CV 2/3] END criterion=gini, max_depth=2, max_features=auto, splitter=random;, score=0.678 total time=   0.0s\n",
      "[CV 3/3] END criterion=gini, max_depth=2, max_features=auto, splitter=random;, score=0.643 total time=   0.0s\n",
      "[CV 1/3] END criterion=gini, max_depth=2, max_features=sqrt, splitter=best;, score=0.645 total time=   0.0s\n",
      "[CV 2/3] END criterion=gini, max_depth=2, max_features=sqrt, splitter=best;, score=0.784 total time=   0.0s\n",
      "[CV 3/3] END criterion=gini, max_depth=2, max_features=sqrt, splitter=best;, score=0.684 total time=   0.0s\n",
      "[CV 1/3] END criterion=gini, max_depth=2, max_features=sqrt, splitter=random;, score=0.657 total time=   0.0s\n",
      "[CV 2/3] END criterion=gini, max_depth=2, max_features=sqrt, splitter=random;, score=0.678 total time=   0.0s\n",
      "[CV 3/3] END criterion=gini, max_depth=2, max_features=sqrt, splitter=random;, score=0.661 total time=   0.0s\n",
      "[CV 1/3] END criterion=gini, max_depth=2, max_features=log2, splitter=best;, score=0.802 total time=   0.0s\n",
      "[CV 2/3] END criterion=gini, max_depth=2, max_features=log2, splitter=best;, score=0.749 total time=   0.0s\n",
      "[CV 3/3] END criterion=gini, max_depth=2, max_features=log2, splitter=best;, score=0.678 total time=   0.0s\n",
      "[CV 1/3] END criterion=gini, max_depth=2, max_features=log2, splitter=random;, score=0.680 total time=   0.0s\n",
      "[CV 2/3] END criterion=gini, max_depth=2, max_features=log2, splitter=random;, score=0.649 total time=   0.0s\n",
      "[CV 3/3] END criterion=gini, max_depth=2, max_features=log2, splitter=random;, score=0.661 total time=   0.0s\n",
      "[CV 1/3] END criterion=gini, max_depth=3, max_features=auto, splitter=best;, score=0.674 total time=   0.0s\n",
      "[CV 2/3] END criterion=gini, max_depth=3, max_features=auto, splitter=best;, score=0.702 total time=   0.0s\n",
      "[CV 3/3] END criterion=gini, max_depth=3, max_features=auto, splitter=best;, score=0.661 total time=   0.0s\n",
      "[CV 1/3] END criterion=gini, max_depth=3, max_features=auto, splitter=random;, score=0.738 total time=   0.0s\n",
      "[CV 2/3] END criterion=gini, max_depth=3, max_features=auto, splitter=random;, score=0.719 total time=   0.0s\n",
      "[CV 3/3] END criterion=gini, max_depth=3, max_features=auto, splitter=random;, score=0.655 total time=   0.0s\n",
      "[CV 1/3] END criterion=gini, max_depth=3, max_features=sqrt, splitter=best;, score=0.692 total time=   0.0s\n",
      "[CV 2/3] END criterion=gini, max_depth=3, max_features=sqrt, splitter=best;, score=0.661 total time=   0.0s\n",
      "[CV 3/3] END criterion=gini, max_depth=3, max_features=sqrt, splitter=best;, score=0.731 total time=   0.0s\n",
      "[CV 1/3] END criterion=gini, max_depth=3, max_features=sqrt, splitter=random;, score=0.733 total time=   0.0s\n",
      "[CV 2/3] END criterion=gini, max_depth=3, max_features=sqrt, splitter=random;, score=0.684 total time=   0.0s\n",
      "[CV 3/3] END criterion=gini, max_depth=3, max_features=sqrt, splitter=random;, score=0.696 total time=   0.0s\n",
      "[CV 1/3] END criterion=gini, max_depth=3, max_features=log2, splitter=best;, score=0.645 total time=   0.0s\n",
      "[CV 2/3] END criterion=gini, max_depth=3, max_features=log2, splitter=best;, score=0.743 total time=   0.0s\n",
      "[CV 3/3] END criterion=gini, max_depth=3, max_features=log2, splitter=best;, score=0.702 total time=   0.0s\n",
      "[CV 1/3] END criterion=gini, max_depth=3, max_features=log2, splitter=random;, score=0.634 total time=   0.0s\n",
      "[CV 2/3] END criterion=gini, max_depth=3, max_features=log2, splitter=random;, score=0.760 total time=   0.0s\n",
      "[CV 3/3] END criterion=gini, max_depth=3, max_features=log2, splitter=random;, score=0.637 total time=   0.0s\n",
      "[CV 1/3] END criterion=gini, max_depth=4, max_features=auto, splitter=best;, score=0.703 total time=   0.0s\n",
      "[CV 2/3] END criterion=gini, max_depth=4, max_features=auto, splitter=best;, score=0.725 total time=   0.0s\n",
      "[CV 3/3] END criterion=gini, max_depth=4, max_features=auto, splitter=best;, score=0.725 total time=   0.0s\n",
      "[CV 1/3] END criterion=gini, max_depth=4, max_features=auto, splitter=random;, score=0.657 total time=   0.0s\n",
      "[CV 2/3] END criterion=gini, max_depth=4, max_features=auto, splitter=random;, score=0.643 total time=   0.0s\n",
      "[CV 3/3] END criterion=gini, max_depth=4, max_features=auto, splitter=random;, score=0.678 total time=   0.0s\n",
      "[CV 1/3] END criterion=gini, max_depth=4, max_features=sqrt, splitter=best;, score=0.767 total time=   0.0s\n",
      "[CV 2/3] END criterion=gini, max_depth=4, max_features=sqrt, splitter=best;, score=0.754 total time=   0.0s\n",
      "[CV 3/3] END criterion=gini, max_depth=4, max_features=sqrt, splitter=best;, score=0.731 total time=   0.0s\n",
      "[CV 1/3] END criterion=gini, max_depth=4, max_features=sqrt, splitter=random;, score=0.721 total time=   0.0s\n",
      "[CV 2/3] END criterion=gini, max_depth=4, max_features=sqrt, splitter=random;, score=0.731 total time=   0.0s\n",
      "[CV 3/3] END criterion=gini, max_depth=4, max_features=sqrt, splitter=random;, score=0.690 total time=   0.0s\n",
      "[CV 1/3] END criterion=gini, max_depth=4, max_features=log2, splitter=best;, score=0.779 total time=   0.0s\n",
      "[CV 2/3] END criterion=gini, max_depth=4, max_features=log2, splitter=best;, score=0.795 total time=   0.0s\n",
      "[CV 3/3] END criterion=gini, max_depth=4, max_features=log2, splitter=best;, score=0.760 total time=   0.0s\n",
      "[CV 1/3] END criterion=gini, max_depth=4, max_features=log2, splitter=random;, score=0.767 total time=   0.0s\n",
      "[CV 2/3] END criterion=gini, max_depth=4, max_features=log2, splitter=random;, score=0.661 total time=   0.0s\n",
      "[CV 3/3] END criterion=gini, max_depth=4, max_features=log2, splitter=random;, score=0.637 total time=   0.0s\n",
      "[CV 1/3] END criterion=gini, max_depth=5, max_features=auto, splitter=best;, score=0.663 total time=   0.0s\n",
      "[CV 2/3] END criterion=gini, max_depth=5, max_features=auto, splitter=best;, score=0.667 total time=   0.0s\n",
      "[CV 3/3] END criterion=gini, max_depth=5, max_features=auto, splitter=best;, score=0.684 total time=   0.0s\n",
      "[CV 1/3] END criterion=gini, max_depth=5, max_features=auto, splitter=random;, score=0.721 total time=   0.0s\n",
      "[CV 2/3] END criterion=gini, max_depth=5, max_features=auto, splitter=random;, score=0.655 total time=   0.0s\n",
      "[CV 3/3] END criterion=gini, max_depth=5, max_features=auto, splitter=random;, score=0.673 total time=   0.0s\n",
      "[CV 1/3] END criterion=gini, max_depth=5, max_features=sqrt, splitter=best;, score=0.733 total time=   0.0s\n",
      "[CV 2/3] END criterion=gini, max_depth=5, max_features=sqrt, splitter=best;, score=0.713 total time=   0.0s\n",
      "[CV 3/3] END criterion=gini, max_depth=5, max_features=sqrt, splitter=best;, score=0.737 total time=   0.0s\n",
      "[CV 1/3] END criterion=gini, max_depth=5, max_features=sqrt, splitter=random;, score=0.756 total time=   0.0s\n",
      "[CV 2/3] END criterion=gini, max_depth=5, max_features=sqrt, splitter=random;, score=0.743 total time=   0.0s\n",
      "[CV 3/3] END criterion=gini, max_depth=5, max_features=sqrt, splitter=random;, score=0.696 total time=   0.0s\n",
      "[CV 1/3] END criterion=gini, max_depth=5, max_features=log2, splitter=best;, score=0.750 total time=   0.0s\n",
      "[CV 2/3] END criterion=gini, max_depth=5, max_features=log2, splitter=best;, score=0.749 total time=   0.0s\n",
      "[CV 3/3] END criterion=gini, max_depth=5, max_features=log2, splitter=best;, score=0.737 total time=   0.0s\n",
      "[CV 1/3] END criterion=gini, max_depth=5, max_features=log2, splitter=random;, score=0.715 total time=   0.0s\n",
      "[CV 2/3] END criterion=gini, max_depth=5, max_features=log2, splitter=random;, score=0.749 total time=   0.0s\n",
      "[CV 3/3] END criterion=gini, max_depth=5, max_features=log2, splitter=random;, score=0.673 total time=   0.0s\n",
      "[CV 1/3] END criterion=entropy, max_depth=1, max_features=auto, splitter=best;, score=0.645 total time=   0.0s\n",
      "[CV 2/3] END criterion=entropy, max_depth=1, max_features=auto, splitter=best;, score=0.772 total time=   0.0s\n",
      "[CV 3/3] END criterion=entropy, max_depth=1, max_features=auto, splitter=best;, score=0.643 total time=   0.0s\n",
      "[CV 1/3] END criterion=entropy, max_depth=1, max_features=auto, splitter=random;, score=0.773 total time=   0.0s\n",
      "[CV 2/3] END criterion=entropy, max_depth=1, max_features=auto, splitter=random;, score=0.643 total time=   0.0s\n",
      "[CV 3/3] END criterion=entropy, max_depth=1, max_features=auto, splitter=random;, score=0.643 total time=   0.0s\n",
      "[CV 1/3] END criterion=entropy, max_depth=1, max_features=sqrt, splitter=best;, score=0.616 total time=   0.0s\n",
      "[CV 2/3] END criterion=entropy, max_depth=1, max_features=sqrt, splitter=best;, score=0.649 total time=   0.0s\n",
      "[CV 3/3] END criterion=entropy, max_depth=1, max_features=sqrt, splitter=best;, score=0.661 total time=   0.0s\n",
      "[CV 1/3] END criterion=entropy, max_depth=1, max_features=sqrt, splitter=random;, score=0.645 total time=   0.0s\n",
      "[CV 2/3] END criterion=entropy, max_depth=1, max_features=sqrt, splitter=random;, score=0.655 total time=   0.0s\n",
      "[CV 3/3] END criterion=entropy, max_depth=1, max_features=sqrt, splitter=random;, score=0.643 total time=   0.0s\n",
      "[CV 1/3] END criterion=entropy, max_depth=1, max_features=log2, splitter=best;, score=0.634 total time=   0.0s\n",
      "[CV 2/3] END criterion=entropy, max_depth=1, max_features=log2, splitter=best;, score=0.772 total time=   0.0s\n",
      "[CV 3/3] END criterion=entropy, max_depth=1, max_features=log2, splitter=best;, score=0.643 total time=   0.0s\n",
      "[CV 1/3] END criterion=entropy, max_depth=1, max_features=log2, splitter=random;, score=0.651 total time=   0.0s\n",
      "[CV 2/3] END criterion=entropy, max_depth=1, max_features=log2, splitter=random;, score=0.649 total time=   0.0s\n",
      "[CV 3/3] END criterion=entropy, max_depth=1, max_features=log2, splitter=random;, score=0.643 total time=   0.0s\n",
      "[CV 1/3] END criterion=entropy, max_depth=2, max_features=auto, splitter=best;, score=0.634 total time=   0.0s\n",
      "[CV 2/3] END criterion=entropy, max_depth=2, max_features=auto, splitter=best;, score=0.731 total time=   0.0s\n",
      "[CV 3/3] END criterion=entropy, max_depth=2, max_features=auto, splitter=best;, score=0.684 total time=   0.0s\n",
      "[CV 1/3] END criterion=entropy, max_depth=2, max_features=auto, splitter=random;, score=0.645 total time=   0.0s\n",
      "[CV 2/3] END criterion=entropy, max_depth=2, max_features=auto, splitter=random;, score=0.678 total time=   0.0s\n",
      "[CV 3/3] END criterion=entropy, max_depth=2, max_features=auto, splitter=random;, score=0.632 total time=   0.0s\n",
      "[CV 1/3] END criterion=entropy, max_depth=2, max_features=sqrt, splitter=best;, score=0.692 total time=   0.0s\n",
      "[CV 2/3] END criterion=entropy, max_depth=2, max_features=sqrt, splitter=best;, score=0.673 total time=   0.0s\n",
      "[CV 3/3] END criterion=entropy, max_depth=2, max_features=sqrt, splitter=best;, score=0.678 total time=   0.0s\n",
      "[CV 1/3] END criterion=entropy, max_depth=2, max_features=sqrt, splitter=random;, score=0.657 total time=   0.0s\n",
      "[CV 2/3] END criterion=entropy, max_depth=2, max_features=sqrt, splitter=random;, score=0.649 total time=   0.0s\n",
      "[CV 3/3] END criterion=entropy, max_depth=2, max_features=sqrt, splitter=random;, score=0.643 total time=   0.0s\n",
      "[CV 1/3] END criterion=entropy, max_depth=2, max_features=log2, splitter=best;, score=0.680 total time=   0.0s\n",
      "[CV 2/3] END criterion=entropy, max_depth=2, max_features=log2, splitter=best;, score=0.772 total time=   0.0s\n",
      "[CV 3/3] END criterion=entropy, max_depth=2, max_features=log2, splitter=best;, score=0.725 total time=   0.0s\n",
      "[CV 1/3] END criterion=entropy, max_depth=2, max_features=log2, splitter=random;, score=0.651 total time=   0.0s\n",
      "[CV 2/3] END criterion=entropy, max_depth=2, max_features=log2, splitter=random;, score=0.649 total time=   0.0s\n",
      "[CV 3/3] END criterion=entropy, max_depth=2, max_features=log2, splitter=random;, score=0.637 total time=   0.0s\n",
      "[CV 1/3] END criterion=entropy, max_depth=3, max_features=auto, splitter=best;, score=0.680 total time=   0.0s\n",
      "[CV 2/3] END criterion=entropy, max_depth=3, max_features=auto, splitter=best;, score=0.772 total time=   0.0s\n",
      "[CV 3/3] END criterion=entropy, max_depth=3, max_features=auto, splitter=best;, score=0.731 total time=   0.0s\n",
      "[CV 1/3] END criterion=entropy, max_depth=3, max_features=auto, splitter=random;, score=0.657 total time=   0.0s\n",
      "[CV 2/3] END criterion=entropy, max_depth=3, max_features=auto, splitter=random;, score=0.725 total time=   0.0s\n",
      "[CV 3/3] END criterion=entropy, max_depth=3, max_features=auto, splitter=random;, score=0.667 total time=   0.0s\n",
      "[CV 1/3] END criterion=entropy, max_depth=3, max_features=sqrt, splitter=best;, score=0.773 total time=   0.0s\n",
      "[CV 2/3] END criterion=entropy, max_depth=3, max_features=sqrt, splitter=best;, score=0.708 total time=   0.0s\n",
      "[CV 3/3] END criterion=entropy, max_depth=3, max_features=sqrt, splitter=best;, score=0.737 total time=   0.0s\n",
      "[CV 1/3] END criterion=entropy, max_depth=3, max_features=sqrt, splitter=random;, score=0.628 total time=   0.0s\n",
      "[CV 2/3] END criterion=entropy, max_depth=3, max_features=sqrt, splitter=random;, score=0.749 total time=   0.0s\n",
      "[CV 3/3] END criterion=entropy, max_depth=3, max_features=sqrt, splitter=random;, score=0.667 total time=   0.0s\n",
      "[CV 1/3] END criterion=entropy, max_depth=3, max_features=log2, splitter=best;, score=0.773 total time=   0.0s\n",
      "[CV 2/3] END criterion=entropy, max_depth=3, max_features=log2, splitter=best;, score=0.737 total time=   0.0s\n",
      "[CV 3/3] END criterion=entropy, max_depth=3, max_features=log2, splitter=best;, score=0.655 total time=   0.0s\n",
      "[CV 1/3] END criterion=entropy, max_depth=3, max_features=log2, splitter=random;, score=0.651 total time=   0.0s\n",
      "[CV 2/3] END criterion=entropy, max_depth=3, max_features=log2, splitter=random;, score=0.690 total time=   0.0s\n",
      "[CV 3/3] END criterion=entropy, max_depth=3, max_features=log2, splitter=random;, score=0.702 total time=   0.0s\n",
      "[CV 1/3] END criterion=entropy, max_depth=4, max_features=auto, splitter=best;, score=0.634 total time=   0.0s\n",
      "[CV 2/3] END criterion=entropy, max_depth=4, max_features=auto, splitter=best;, score=0.702 total time=   0.0s\n",
      "[CV 3/3] END criterion=entropy, max_depth=4, max_features=auto, splitter=best;, score=0.708 total time=   0.0s\n",
      "[CV 1/3] END criterion=entropy, max_depth=4, max_features=auto, splitter=random;, score=0.674 total time=   0.0s\n",
      "[CV 2/3] END criterion=entropy, max_depth=4, max_features=auto, splitter=random;, score=0.678 total time=   0.0s\n",
      "[CV 3/3] END criterion=entropy, max_depth=4, max_features=auto, splitter=random;, score=0.684 total time=   0.0s\n",
      "[CV 1/3] END criterion=entropy, max_depth=4, max_features=sqrt, splitter=best;, score=0.733 total time=   0.0s\n",
      "[CV 2/3] END criterion=entropy, max_depth=4, max_features=sqrt, splitter=best;, score=0.731 total time=   0.0s\n",
      "[CV 3/3] END criterion=entropy, max_depth=4, max_features=sqrt, splitter=best;, score=0.690 total time=   0.0s\n",
      "[CV 1/3] END criterion=entropy, max_depth=4, max_features=sqrt, splitter=random;, score=0.640 total time=   0.0s\n",
      "[CV 2/3] END criterion=entropy, max_depth=4, max_features=sqrt, splitter=random;, score=0.596 total time=   0.0s\n",
      "[CV 3/3] END criterion=entropy, max_depth=4, max_features=sqrt, splitter=random;, score=0.661 total time=   0.0s\n",
      "[CV 1/3] END criterion=entropy, max_depth=4, max_features=log2, splitter=best;, score=0.727 total time=   0.0s\n",
      "[CV 2/3] END criterion=entropy, max_depth=4, max_features=log2, splitter=best;, score=0.760 total time=   0.0s\n",
      "[CV 3/3] END criterion=entropy, max_depth=4, max_features=log2, splitter=best;, score=0.754 total time=   0.0s\n",
      "[CV 1/3] END criterion=entropy, max_depth=4, max_features=log2, splitter=random;, score=0.733 total time=   0.0s\n",
      "[CV 2/3] END criterion=entropy, max_depth=4, max_features=log2, splitter=random;, score=0.754 total time=   0.0s\n",
      "[CV 3/3] END criterion=entropy, max_depth=4, max_features=log2, splitter=random;, score=0.696 total time=   0.0s\n",
      "[CV 1/3] END criterion=entropy, max_depth=5, max_features=auto, splitter=best;, score=0.663 total time=   0.0s\n",
      "[CV 2/3] END criterion=entropy, max_depth=5, max_features=auto, splitter=best;, score=0.731 total time=   0.0s\n",
      "[CV 3/3] END criterion=entropy, max_depth=5, max_features=auto, splitter=best;, score=0.678 total time=   0.0s\n",
      "[CV 1/3] END criterion=entropy, max_depth=5, max_features=auto, splitter=random;, score=0.738 total time=   0.0s\n",
      "[CV 2/3] END criterion=entropy, max_depth=5, max_features=auto, splitter=random;, score=0.760 total time=   0.0s\n",
      "[CV 3/3] END criterion=entropy, max_depth=5, max_features=auto, splitter=random;, score=0.661 total time=   0.0s\n",
      "[CV 1/3] END criterion=entropy, max_depth=5, max_features=sqrt, splitter=best;, score=0.767 total time=   0.0s\n",
      "[CV 2/3] END criterion=entropy, max_depth=5, max_features=sqrt, splitter=best;, score=0.725 total time=   0.0s\n",
      "[CV 3/3] END criterion=entropy, max_depth=5, max_features=sqrt, splitter=best;, score=0.731 total time=   0.0s\n",
      "[CV 1/3] END criterion=entropy, max_depth=5, max_features=sqrt, splitter=random;, score=0.680 total time=   0.0s\n",
      "[CV 2/3] END criterion=entropy, max_depth=5, max_features=sqrt, splitter=random;, score=0.766 total time=   0.0s\n",
      "[CV 3/3] END criterion=entropy, max_depth=5, max_features=sqrt, splitter=random;, score=0.719 total time=   0.0s\n",
      "[CV 1/3] END criterion=entropy, max_depth=5, max_features=log2, splitter=best;, score=0.773 total time=   0.0s\n",
      "[CV 2/3] END criterion=entropy, max_depth=5, max_features=log2, splitter=best;, score=0.743 total time=   0.0s\n",
      "[CV 3/3] END criterion=entropy, max_depth=5, max_features=log2, splitter=best;, score=0.708 total time=   0.0s\n",
      "[CV 1/3] END criterion=entropy, max_depth=5, max_features=log2, splitter=random;, score=0.721 total time=   0.0s\n",
      "[CV 2/3] END criterion=entropy, max_depth=5, max_features=log2, splitter=random;, score=0.690 total time=   0.0s\n",
      "[CV 3/3] END criterion=entropy, max_depth=5, max_features=log2, splitter=random;, score=0.719 total time=   0.0s\n"
     ]
    },
    {
     "data": {
      "text/plain": [
       "GridSearchCV(cv=3, estimator=DecisionTreeClassifier(),\n",
       "             param_grid={'criterion': ('gini', 'entropy'),\n",
       "                         'max_depth': [1, 2, 3, 4, 5],\n",
       "                         'max_features': ('auto', 'sqrt', 'log2'),\n",
       "                         'splitter': ('best', 'random')},\n",
       "             scoring='accuracy', verbose=3)"
      ]
     },
     "execution_count": 15,
     "metadata": {},
     "output_type": "execute_result"
    }
   ],
   "source": [
    "cv.fit(X_train,y_train)"
   ]
  },
  {
   "cell_type": "code",
   "execution_count": 16,
   "id": "4f7cb990-41f6-45ad-9bd7-537aeb579bdd",
   "metadata": {},
   "outputs": [
    {
     "data": {
      "text/plain": [
       "{'criterion': 'gini',\n",
       " 'max_depth': 4,\n",
       " 'max_features': 'log2',\n",
       " 'splitter': 'best'}"
      ]
     },
     "execution_count": 16,
     "metadata": {},
     "output_type": "execute_result"
    }
   ],
   "source": [
    "cv.best_params_"
   ]
  },
  {
   "cell_type": "code",
   "execution_count": 17,
   "id": "1d710841-f8ab-4154-b4f7-072aab3c7f14",
   "metadata": {},
   "outputs": [],
   "source": [
    "classifier=DecisionTreeClassifier(criterion='gini',max_depth=4,max_features='log2',splitter='best')"
   ]
  },
  {
   "cell_type": "code",
   "execution_count": 18,
   "id": "63b3a95a-e669-4f23-86a4-28b9e0e36e2a",
   "metadata": {},
   "outputs": [
    {
     "data": {
      "text/plain": [
       "DecisionTreeClassifier(max_depth=4, max_features='log2')"
      ]
     },
     "execution_count": 18,
     "metadata": {},
     "output_type": "execute_result"
    }
   ],
   "source": [
    "classifier.fit(X_train,y_train)"
   ]
  },
  {
   "cell_type": "code",
   "execution_count": 19,
   "id": "a594c7e1-93c7-4f0a-a54d-4e000062002d",
   "metadata": {},
   "outputs": [],
   "source": [
    "y_pred=classifier.predict(X_test)"
   ]
  },
  {
   "cell_type": "code",
   "execution_count": 20,
   "id": "1954cc82-6781-44d5-ae04-299f7ff6e491",
   "metadata": {},
   "outputs": [
    {
     "data": {
      "text/plain": [
       "0.7283464566929134"
      ]
     },
     "execution_count": 20,
     "metadata": {},
     "output_type": "execute_result"
    }
   ],
   "source": [
    "accuracy_score(y_test,y_pred)"
   ]
  },
  {
   "cell_type": "code",
   "execution_count": 21,
   "id": "6d0a350c-f318-42c9-b947-e83c4e66a308",
   "metadata": {},
   "outputs": [
    {
     "name": "stdout",
     "output_type": "stream",
     "text": [
      "              precision    recall  f1-score   support\n",
      "\n",
      "           0       0.76      0.86      0.81       168\n",
      "           1       0.63      0.48      0.54        86\n",
      "\n",
      "    accuracy                           0.73       254\n",
      "   macro avg       0.70      0.67      0.67       254\n",
      "weighted avg       0.72      0.73      0.72       254\n",
      "\n"
     ]
    }
   ],
   "source": [
    "print(classification_report(y_test,y_pred))"
   ]
  },
  {
   "cell_type": "code",
   "execution_count": 22,
   "id": "c9217393-fb64-4bdc-9ef6-99f882e59b78",
   "metadata": {},
   "outputs": [
    {
     "data": {
      "text/plain": [
       "array([[144,  24],\n",
       "       [ 45,  41]], dtype=int64)"
      ]
     },
     "execution_count": 22,
     "metadata": {},
     "output_type": "execute_result"
    }
   ],
   "source": [
    "confusion_matrix(y_test,y_pred)"
   ]
  },
  {
   "cell_type": "code",
   "execution_count": 38,
   "id": "1eb4ab7e-bc00-4be6-951e-5cadc9f6db6a",
   "metadata": {},
   "outputs": [
    {
     "data": {
      "text/plain": [
       "0.7283464566929134"
      ]
     },
     "execution_count": 38,
     "metadata": {},
     "output_type": "execute_result"
    }
   ],
   "source": [
    "accurcay=(144+41)/(144+24+45+41)\n",
    "accurcay"
   ]
  },
  {
   "cell_type": "markdown",
   "id": "2da2da62-d2a7-4792-9db5-4c3ff77f4651",
   "metadata": {},
   "source": [
    "## SVM"
   ]
  },
  {
   "cell_type": "code",
   "execution_count": 23,
   "id": "06d0c193-7766-4d11-8e62-af8bdf559750",
   "metadata": {},
   "outputs": [],
   "source": [
    "parameter={\n",
    "    'kernel' : ('linear', 'poly', 'rbf'),\n",
    "    'C':[0.1,10,100,1000],\n",
    "    'gamma' : [1,0.1,0.01,0.001]\n",
    "}"
   ]
  },
  {
   "cell_type": "code",
   "execution_count": 24,
   "id": "cac3c199-8f80-44bd-a11a-5b4be3a359bd",
   "metadata": {},
   "outputs": [],
   "source": [
    "Svc_cv=SVC()"
   ]
  },
  {
   "cell_type": "code",
   "execution_count": 25,
   "id": "46b211bf-12ef-46cc-a20e-d46f9f319dcc",
   "metadata": {},
   "outputs": [],
   "source": [
    "gv=GridSearchCV(Svc_cv,param_grid=parameter,cv=3,verbose=3)"
   ]
  },
  {
   "cell_type": "code",
   "execution_count": 26,
   "id": "dec93865-3c92-4e62-9f2b-7f876b20d0c2",
   "metadata": {},
   "outputs": [
    {
     "name": "stdout",
     "output_type": "stream",
     "text": [
      "Fitting 3 folds for each of 48 candidates, totalling 144 fits\n",
      "[CV 1/3] END .....C=0.1, gamma=1, kernel=linear;, score=0.797 total time=   0.0s\n",
      "[CV 2/3] END .....C=0.1, gamma=1, kernel=linear;, score=0.766 total time=   0.0s\n",
      "[CV 3/3] END .....C=0.1, gamma=1, kernel=linear;, score=0.760 total time=   0.0s\n",
      "[CV 1/3] END .......C=0.1, gamma=1, kernel=poly;, score=0.721 total time=   0.0s\n",
      "[CV 2/3] END .......C=0.1, gamma=1, kernel=poly;, score=0.713 total time=   0.0s\n",
      "[CV 3/3] END .......C=0.1, gamma=1, kernel=poly;, score=0.696 total time=   0.0s\n",
      "[CV 1/3] END ........C=0.1, gamma=1, kernel=rbf;, score=0.645 total time=   0.0s\n",
      "[CV 2/3] END ........C=0.1, gamma=1, kernel=rbf;, score=0.649 total time=   0.0s\n",
      "[CV 3/3] END ........C=0.1, gamma=1, kernel=rbf;, score=0.643 total time=   0.0s\n",
      "[CV 1/3] END ...C=0.1, gamma=0.1, kernel=linear;, score=0.797 total time=   0.0s\n",
      "[CV 2/3] END ...C=0.1, gamma=0.1, kernel=linear;, score=0.766 total time=   0.0s\n",
      "[CV 3/3] END ...C=0.1, gamma=0.1, kernel=linear;, score=0.760 total time=   0.0s\n",
      "[CV 1/3] END .....C=0.1, gamma=0.1, kernel=poly;, score=0.657 total time=   0.0s\n",
      "[CV 2/3] END .....C=0.1, gamma=0.1, kernel=poly;, score=0.673 total time=   0.0s\n",
      "[CV 3/3] END .....C=0.1, gamma=0.1, kernel=poly;, score=0.678 total time=   0.0s\n",
      "[CV 1/3] END ......C=0.1, gamma=0.1, kernel=rbf;, score=0.721 total time=   0.0s\n",
      "[CV 2/3] END ......C=0.1, gamma=0.1, kernel=rbf;, score=0.708 total time=   0.0s\n",
      "[CV 3/3] END ......C=0.1, gamma=0.1, kernel=rbf;, score=0.731 total time=   0.0s\n",
      "[CV 1/3] END ..C=0.1, gamma=0.01, kernel=linear;, score=0.797 total time=   0.0s\n",
      "[CV 2/3] END ..C=0.1, gamma=0.01, kernel=linear;, score=0.766 total time=   0.0s\n",
      "[CV 3/3] END ..C=0.1, gamma=0.01, kernel=linear;, score=0.760 total time=   0.0s\n",
      "[CV 1/3] END ....C=0.1, gamma=0.01, kernel=poly;, score=0.645 total time=   0.0s\n",
      "[CV 2/3] END ....C=0.1, gamma=0.01, kernel=poly;, score=0.649 total time=   0.0s\n",
      "[CV 3/3] END ....C=0.1, gamma=0.01, kernel=poly;, score=0.643 total time=   0.0s\n",
      "[CV 1/3] END .....C=0.1, gamma=0.01, kernel=rbf;, score=0.645 total time=   0.0s\n",
      "[CV 2/3] END .....C=0.1, gamma=0.01, kernel=rbf;, score=0.649 total time=   0.0s\n",
      "[CV 3/3] END .....C=0.1, gamma=0.01, kernel=rbf;, score=0.643 total time=   0.0s\n",
      "[CV 1/3] END .C=0.1, gamma=0.001, kernel=linear;, score=0.797 total time=   0.0s\n",
      "[CV 2/3] END .C=0.1, gamma=0.001, kernel=linear;, score=0.766 total time=   0.0s\n",
      "[CV 3/3] END .C=0.1, gamma=0.001, kernel=linear;, score=0.760 total time=   0.0s\n",
      "[CV 1/3] END ...C=0.1, gamma=0.001, kernel=poly;, score=0.645 total time=   0.0s\n",
      "[CV 2/3] END ...C=0.1, gamma=0.001, kernel=poly;, score=0.649 total time=   0.0s\n",
      "[CV 3/3] END ...C=0.1, gamma=0.001, kernel=poly;, score=0.643 total time=   0.0s\n",
      "[CV 1/3] END ....C=0.1, gamma=0.001, kernel=rbf;, score=0.645 total time=   0.0s\n",
      "[CV 2/3] END ....C=0.1, gamma=0.001, kernel=rbf;, score=0.649 total time=   0.0s\n",
      "[CV 3/3] END ....C=0.1, gamma=0.001, kernel=rbf;, score=0.643 total time=   0.0s\n",
      "[CV 1/3] END ......C=10, gamma=1, kernel=linear;, score=0.791 total time=   0.0s\n",
      "[CV 2/3] END ......C=10, gamma=1, kernel=linear;, score=0.766 total time=   0.0s\n",
      "[CV 3/3] END ......C=10, gamma=1, kernel=linear;, score=0.760 total time=   0.0s\n",
      "[CV 1/3] END ........C=10, gamma=1, kernel=poly;, score=0.709 total time=   1.4s\n",
      "[CV 2/3] END ........C=10, gamma=1, kernel=poly;, score=0.684 total time=   0.5s\n",
      "[CV 3/3] END ........C=10, gamma=1, kernel=poly;, score=0.702 total time=   2.6s\n",
      "[CV 1/3] END .........C=10, gamma=1, kernel=rbf;, score=0.651 total time=   0.0s\n",
      "[CV 2/3] END .........C=10, gamma=1, kernel=rbf;, score=0.649 total time=   0.0s\n",
      "[CV 3/3] END .........C=10, gamma=1, kernel=rbf;, score=0.696 total time=   0.0s\n",
      "[CV 1/3] END ....C=10, gamma=0.1, kernel=linear;, score=0.791 total time=   0.0s\n",
      "[CV 2/3] END ....C=10, gamma=0.1, kernel=linear;, score=0.766 total time=   0.0s\n",
      "[CV 3/3] END ....C=10, gamma=0.1, kernel=linear;, score=0.760 total time=   0.0s\n",
      "[CV 1/3] END ......C=10, gamma=0.1, kernel=poly;, score=0.733 total time=   0.0s\n",
      "[CV 2/3] END ......C=10, gamma=0.1, kernel=poly;, score=0.731 total time=   0.0s\n",
      "[CV 3/3] END ......C=10, gamma=0.1, kernel=poly;, score=0.725 total time=   0.0s\n",
      "[CV 1/3] END .......C=10, gamma=0.1, kernel=rbf;, score=0.785 total time=   0.0s\n",
      "[CV 2/3] END .......C=10, gamma=0.1, kernel=rbf;, score=0.743 total time=   0.0s\n",
      "[CV 3/3] END .......C=10, gamma=0.1, kernel=rbf;, score=0.749 total time=   0.0s\n",
      "[CV 1/3] END ...C=10, gamma=0.01, kernel=linear;, score=0.791 total time=   0.0s\n",
      "[CV 2/3] END ...C=10, gamma=0.01, kernel=linear;, score=0.766 total time=   0.0s\n",
      "[CV 3/3] END ...C=10, gamma=0.01, kernel=linear;, score=0.760 total time=   0.0s\n",
      "[CV 1/3] END .....C=10, gamma=0.01, kernel=poly;, score=0.645 total time=   0.0s\n",
      "[CV 2/3] END .....C=10, gamma=0.01, kernel=poly;, score=0.649 total time=   0.0s\n",
      "[CV 3/3] END .....C=10, gamma=0.01, kernel=poly;, score=0.649 total time=   0.0s\n",
      "[CV 1/3] END ......C=10, gamma=0.01, kernel=rbf;, score=0.797 total time=   0.0s\n",
      "[CV 2/3] END ......C=10, gamma=0.01, kernel=rbf;, score=0.754 total time=   0.0s\n",
      "[CV 3/3] END ......C=10, gamma=0.01, kernel=rbf;, score=0.743 total time=   0.0s\n",
      "[CV 1/3] END ..C=10, gamma=0.001, kernel=linear;, score=0.791 total time=   0.0s\n",
      "[CV 2/3] END ..C=10, gamma=0.001, kernel=linear;, score=0.766 total time=   0.0s\n",
      "[CV 3/3] END ..C=10, gamma=0.001, kernel=linear;, score=0.760 total time=   0.0s\n",
      "[CV 1/3] END ....C=10, gamma=0.001, kernel=poly;, score=0.645 total time=   0.0s\n",
      "[CV 2/3] END ....C=10, gamma=0.001, kernel=poly;, score=0.649 total time=   0.0s\n",
      "[CV 3/3] END ....C=10, gamma=0.001, kernel=poly;, score=0.643 total time=   0.0s\n",
      "[CV 1/3] END .....C=10, gamma=0.001, kernel=rbf;, score=0.785 total time=   0.0s\n",
      "[CV 2/3] END .....C=10, gamma=0.001, kernel=rbf;, score=0.784 total time=   0.0s\n",
      "[CV 3/3] END .....C=10, gamma=0.001, kernel=rbf;, score=0.766 total time=   0.0s\n",
      "[CV 1/3] END .....C=100, gamma=1, kernel=linear;, score=0.791 total time=   0.1s\n",
      "[CV 2/3] END .....C=100, gamma=1, kernel=linear;, score=0.766 total time=   0.1s\n",
      "[CV 3/3] END .....C=100, gamma=1, kernel=linear;, score=0.760 total time=   0.1s\n",
      "[CV 1/3] END .......C=100, gamma=1, kernel=poly;, score=0.709 total time=  10.9s\n",
      "[CV 2/3] END .......C=100, gamma=1, kernel=poly;, score=0.667 total time=   3.5s\n",
      "[CV 3/3] END .......C=100, gamma=1, kernel=poly;, score=0.649 total time=   7.7s\n",
      "[CV 1/3] END ........C=100, gamma=1, kernel=rbf;, score=0.651 total time=   0.0s\n",
      "[CV 2/3] END ........C=100, gamma=1, kernel=rbf;, score=0.649 total time=   0.0s\n",
      "[CV 3/3] END ........C=100, gamma=1, kernel=rbf;, score=0.696 total time=   0.0s\n",
      "[CV 1/3] END ...C=100, gamma=0.1, kernel=linear;, score=0.791 total time=   0.0s\n",
      "[CV 2/3] END ...C=100, gamma=0.1, kernel=linear;, score=0.766 total time=   0.1s\n",
      "[CV 3/3] END ...C=100, gamma=0.1, kernel=linear;, score=0.760 total time=   0.1s\n",
      "[CV 1/3] END .....C=100, gamma=0.1, kernel=poly;, score=0.721 total time=   0.0s\n",
      "[CV 2/3] END .....C=100, gamma=0.1, kernel=poly;, score=0.713 total time=   0.0s\n",
      "[CV 3/3] END .....C=100, gamma=0.1, kernel=poly;, score=0.696 total time=   0.0s\n",
      "[CV 1/3] END ......C=100, gamma=0.1, kernel=rbf;, score=0.791 total time=   0.0s\n",
      "[CV 2/3] END ......C=100, gamma=0.1, kernel=rbf;, score=0.678 total time=   0.0s\n",
      "[CV 3/3] END ......C=100, gamma=0.1, kernel=rbf;, score=0.713 total time=   0.0s\n",
      "[CV 1/3] END ..C=100, gamma=0.01, kernel=linear;, score=0.791 total time=   0.1s\n",
      "[CV 2/3] END ..C=100, gamma=0.01, kernel=linear;, score=0.766 total time=   0.0s\n",
      "[CV 3/3] END ..C=100, gamma=0.01, kernel=linear;, score=0.760 total time=   0.2s\n",
      "[CV 1/3] END ....C=100, gamma=0.01, kernel=poly;, score=0.657 total time=   0.0s\n",
      "[CV 2/3] END ....C=100, gamma=0.01, kernel=poly;, score=0.673 total time=   0.0s\n",
      "[CV 3/3] END ....C=100, gamma=0.01, kernel=poly;, score=0.678 total time=   0.0s\n",
      "[CV 1/3] END .....C=100, gamma=0.01, kernel=rbf;, score=0.808 total time=   0.0s\n",
      "[CV 2/3] END .....C=100, gamma=0.01, kernel=rbf;, score=0.749 total time=   0.0s\n",
      "[CV 3/3] END .....C=100, gamma=0.01, kernel=rbf;, score=0.749 total time=   0.0s\n",
      "[CV 1/3] END .C=100, gamma=0.001, kernel=linear;, score=0.791 total time=   0.0s\n",
      "[CV 2/3] END .C=100, gamma=0.001, kernel=linear;, score=0.766 total time=   0.1s\n",
      "[CV 3/3] END .C=100, gamma=0.001, kernel=linear;, score=0.760 total time=   0.2s\n",
      "[CV 1/3] END ...C=100, gamma=0.001, kernel=poly;, score=0.645 total time=   0.0s\n",
      "[CV 2/3] END ...C=100, gamma=0.001, kernel=poly;, score=0.649 total time=   0.0s\n",
      "[CV 3/3] END ...C=100, gamma=0.001, kernel=poly;, score=0.643 total time=   0.0s\n",
      "[CV 1/3] END ....C=100, gamma=0.001, kernel=rbf;, score=0.791 total time=   0.0s\n",
      "[CV 2/3] END ....C=100, gamma=0.001, kernel=rbf;, score=0.772 total time=   0.0s\n",
      "[CV 3/3] END ....C=100, gamma=0.001, kernel=rbf;, score=0.766 total time=   0.0s\n",
      "[CV 1/3] END ....C=1000, gamma=1, kernel=linear;, score=0.791 total time=   1.3s\n",
      "[CV 2/3] END ....C=1000, gamma=1, kernel=linear;, score=0.766 total time=   0.9s\n",
      "[CV 3/3] END ....C=1000, gamma=1, kernel=linear;, score=0.760 total time=   1.1s\n",
      "[CV 1/3] END ......C=1000, gamma=1, kernel=poly;, score=0.686 total time= 1.0min\n",
      "[CV 2/3] END ......C=1000, gamma=1, kernel=poly;, score=0.702 total time=  36.8s\n",
      "[CV 3/3] END ......C=1000, gamma=1, kernel=poly;, score=0.661 total time=  34.8s\n",
      "[CV 1/3] END .......C=1000, gamma=1, kernel=rbf;, score=0.651 total time=   0.0s\n",
      "[CV 2/3] END .......C=1000, gamma=1, kernel=rbf;, score=0.649 total time=   0.0s\n",
      "[CV 3/3] END .......C=1000, gamma=1, kernel=rbf;, score=0.696 total time=   0.0s\n",
      "[CV 1/3] END ..C=1000, gamma=0.1, kernel=linear;, score=0.791 total time=   1.2s\n",
      "[CV 2/3] END ..C=1000, gamma=0.1, kernel=linear;, score=0.766 total time=   0.9s\n",
      "[CV 3/3] END ..C=1000, gamma=0.1, kernel=linear;, score=0.760 total time=   1.0s\n",
      "[CV 1/3] END ....C=1000, gamma=0.1, kernel=poly;, score=0.680 total time=   0.0s\n",
      "[CV 2/3] END ....C=1000, gamma=0.1, kernel=poly;, score=0.678 total time=   0.0s\n",
      "[CV 3/3] END ....C=1000, gamma=0.1, kernel=poly;, score=0.696 total time=   0.1s\n",
      "[CV 1/3] END .....C=1000, gamma=0.1, kernel=rbf;, score=0.680 total time=   0.0s\n",
      "[CV 2/3] END .....C=1000, gamma=0.1, kernel=rbf;, score=0.655 total time=   0.0s\n",
      "[CV 3/3] END .....C=1000, gamma=0.1, kernel=rbf;, score=0.690 total time=   0.0s\n",
      "[CV 1/3] END .C=1000, gamma=0.01, kernel=linear;, score=0.791 total time=   1.2s\n",
      "[CV 2/3] END .C=1000, gamma=0.01, kernel=linear;, score=0.766 total time=   1.2s\n",
      "[CV 3/3] END .C=1000, gamma=0.01, kernel=linear;, score=0.760 total time=   1.2s\n",
      "[CV 1/3] END ...C=1000, gamma=0.01, kernel=poly;, score=0.727 total time=   0.0s\n",
      "[CV 2/3] END ...C=1000, gamma=0.01, kernel=poly;, score=0.766 total time=   0.0s\n",
      "[CV 3/3] END ...C=1000, gamma=0.01, kernel=poly;, score=0.754 total time=   0.0s\n",
      "[CV 1/3] END ....C=1000, gamma=0.01, kernel=rbf;, score=0.779 total time=   0.0s\n",
      "[CV 2/3] END ....C=1000, gamma=0.01, kernel=rbf;, score=0.731 total time=   0.0s\n",
      "[CV 3/3] END ....C=1000, gamma=0.01, kernel=rbf;, score=0.749 total time=   0.0s\n",
      "[CV 1/3] END C=1000, gamma=0.001, kernel=linear;, score=0.791 total time=   1.5s\n",
      "[CV 2/3] END C=1000, gamma=0.001, kernel=linear;, score=0.766 total time=   1.1s\n",
      "[CV 3/3] END C=1000, gamma=0.001, kernel=linear;, score=0.760 total time=   1.5s\n",
      "[CV 1/3] END ..C=1000, gamma=0.001, kernel=poly;, score=0.645 total time=   0.0s\n",
      "[CV 2/3] END ..C=1000, gamma=0.001, kernel=poly;, score=0.649 total time=   0.0s\n",
      "[CV 3/3] END ..C=1000, gamma=0.001, kernel=poly;, score=0.643 total time=   0.0s\n",
      "[CV 1/3] END ...C=1000, gamma=0.001, kernel=rbf;, score=0.785 total time=   0.0s\n",
      "[CV 2/3] END ...C=1000, gamma=0.001, kernel=rbf;, score=0.754 total time=   0.0s\n",
      "[CV 3/3] END ...C=1000, gamma=0.001, kernel=rbf;, score=0.743 total time=   0.0s\n"
     ]
    },
    {
     "data": {
      "text/plain": [
       "GridSearchCV(cv=3, estimator=SVC(),\n",
       "             param_grid={'C': [0.1, 10, 100, 1000],\n",
       "                         'gamma': [1, 0.1, 0.01, 0.001],\n",
       "                         'kernel': ('linear', 'poly', 'rbf')},\n",
       "             verbose=3)"
      ]
     },
     "execution_count": 26,
     "metadata": {},
     "output_type": "execute_result"
    }
   ],
   "source": [
    "gv.fit(X_train_scaled,y_train)"
   ]
  },
  {
   "cell_type": "code",
   "execution_count": 27,
   "id": "9ffcfaba-5155-431c-8f30-9d673e63e969",
   "metadata": {},
   "outputs": [
    {
     "data": {
      "text/plain": [
       "{'C': 10, 'gamma': 0.001, 'kernel': 'rbf'}"
      ]
     },
     "execution_count": 27,
     "metadata": {},
     "output_type": "execute_result"
    }
   ],
   "source": [
    "gv.best_params_"
   ]
  },
  {
   "cell_type": "code",
   "execution_count": 28,
   "id": "b5cb0b72-e481-424e-8bb5-36625bf34422",
   "metadata": {},
   "outputs": [],
   "source": [
    "svc=SVC(C=10,gamma=0.0001,kernel='rbf')"
   ]
  },
  {
   "cell_type": "code",
   "execution_count": 29,
   "id": "91a4bae9-3eff-4ecd-ab92-ac7c3018f3ff",
   "metadata": {},
   "outputs": [
    {
     "data": {
      "text/plain": [
       "SVC(C=10, gamma=0.0001)"
      ]
     },
     "execution_count": 29,
     "metadata": {},
     "output_type": "execute_result"
    }
   ],
   "source": [
    "svc.fit(X_train_scaled,y_train)"
   ]
  },
  {
   "cell_type": "code",
   "execution_count": 31,
   "id": "20b150dc-fff2-46d9-bdba-8ba5a7ceae0b",
   "metadata": {},
   "outputs": [],
   "source": [
    "y_predict=svc.predict(X_test_scaled)"
   ]
  },
  {
   "cell_type": "code",
   "execution_count": 32,
   "id": "f027f045-5e08-4448-a0e4-9a2438c6b38f",
   "metadata": {},
   "outputs": [
    {
     "data": {
      "text/plain": [
       "0.6692913385826772"
      ]
     },
     "execution_count": 32,
     "metadata": {},
     "output_type": "execute_result"
    }
   ],
   "source": [
    "accuracy_score(y_test,y_predict)"
   ]
  },
  {
   "cell_type": "code",
   "execution_count": 33,
   "id": "66c2ef1a-2731-44a5-8efe-907de1987d39",
   "metadata": {},
   "outputs": [
    {
     "name": "stdout",
     "output_type": "stream",
     "text": [
      "              precision    recall  f1-score   support\n",
      "\n",
      "           0       0.76      0.86      0.81       168\n",
      "           1       0.63      0.48      0.54        86\n",
      "\n",
      "    accuracy                           0.73       254\n",
      "   macro avg       0.70      0.67      0.67       254\n",
      "weighted avg       0.72      0.73      0.72       254\n",
      "\n"
     ]
    }
   ],
   "source": [
    "print(classification_report(y_test,y_pred))"
   ]
  },
  {
   "cell_type": "code",
   "execution_count": 34,
   "id": "46a80547-8b3b-4d86-abac-bace1ff62ecf",
   "metadata": {},
   "outputs": [
    {
     "data": {
      "text/plain": [
       "array([[144,  24],\n",
       "       [ 45,  41]], dtype=int64)"
      ]
     },
     "execution_count": 34,
     "metadata": {},
     "output_type": "execute_result"
    }
   ],
   "source": [
    "confusion_matrix(y_test,y_pred)"
   ]
  },
  {
   "cell_type": "code",
   "execution_count": 36,
   "id": "c6ca7890-0127-409b-8f8f-af97af146149",
   "metadata": {},
   "outputs": [
    {
     "data": {
      "text/plain": [
       "0.7370517928286853"
      ]
     },
     "execution_count": 36,
     "metadata": {},
     "output_type": "execute_result"
    }
   ],
   "source": [
    "accuracy=(144+41)/(144+21+45+41)\n",
    "accuracy"
   ]
  },
  {
   "cell_type": "markdown",
   "id": "6c1e8e06-dbaf-4677-8a9b-6ebcb75a4233",
   "metadata": {},
   "source": [
    "## Naview Bayes"
   ]
  },
  {
   "cell_type": "code",
   "execution_count": 39,
   "id": "40893397-26a6-47fc-be3b-6ebcf7f34caa",
   "metadata": {},
   "outputs": [],
   "source": [
    "from sklearn.naive_bayes import GaussianNB"
   ]
  },
  {
   "cell_type": "code",
   "execution_count": 40,
   "id": "5f67f1d0-4ad4-4d6e-8075-22bf3cee18b6",
   "metadata": {},
   "outputs": [],
   "source": [
    "gnb=GaussianNB()"
   ]
  },
  {
   "cell_type": "code",
   "execution_count": 41,
   "id": "da92a47a-1d0f-442e-81e4-2600f4605e38",
   "metadata": {},
   "outputs": [
    {
     "data": {
      "text/plain": [
       "GaussianNB()"
      ]
     },
     "execution_count": 41,
     "metadata": {},
     "output_type": "execute_result"
    }
   ],
   "source": [
    "gnb.fit(X_train_scaled,y_train)"
   ]
  },
  {
   "cell_type": "code",
   "execution_count": 42,
   "id": "85b02b4e-e0d6-427d-a493-06787d282f64",
   "metadata": {},
   "outputs": [],
   "source": [
    "y_pred=gnb.predict(X_test_scaled)"
   ]
  },
  {
   "cell_type": "code",
   "execution_count": 43,
   "id": "26d1e2ef-b74b-4566-a803-ef3925494b2c",
   "metadata": {},
   "outputs": [
    {
     "data": {
      "text/plain": [
       "array([[137,  31],\n",
       "       [ 34,  52]], dtype=int64)"
      ]
     },
     "execution_count": 43,
     "metadata": {},
     "output_type": "execute_result"
    }
   ],
   "source": [
    "confusion_matrix(y_test,y_pred)"
   ]
  },
  {
   "cell_type": "code",
   "execution_count": 45,
   "id": "8cb188e0-1900-440a-a11c-5d89c5e9c50b",
   "metadata": {},
   "outputs": [
    {
     "data": {
      "text/plain": [
       "0.7440944881889764"
      ]
     },
     "execution_count": 45,
     "metadata": {},
     "output_type": "execute_result"
    }
   ],
   "source": [
    "accuracy=(137+52)/(137+31+34+52)\n",
    "accuracy"
   ]
  },
  {
   "cell_type": "code",
   "execution_count": null,
   "id": "468c09af-30c0-4fbe-915f-f9c1a6e36790",
   "metadata": {},
   "outputs": [],
   "source": []
  }
 ],
 "metadata": {
  "kernelspec": {
   "display_name": "Python 3 (ipykernel)",
   "language": "python",
   "name": "python3"
  },
  "language_info": {
   "codemirror_mode": {
    "name": "ipython",
    "version": 3
   },
   "file_extension": ".py",
   "mimetype": "text/x-python",
   "name": "python",
   "nbconvert_exporter": "python",
   "pygments_lexer": "ipython3",
   "version": "3.9.12"
  }
 },
 "nbformat": 4,
 "nbformat_minor": 5
}
