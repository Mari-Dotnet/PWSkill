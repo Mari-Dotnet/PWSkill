{
 "cells": [
  {
   "cell_type": "markdown",
   "id": "c5bb3db5-c69a-43b2-9611-c161acd61007",
   "metadata": {},
   "source": [
    "#### What does KNN stand for in the context of machine learning?\n",
    "- K-nearest Neighbors"
   ]
  },
  {
   "cell_type": "markdown",
   "id": "db6ca885-dbbb-4ee2-b35b-bec8846d8128",
   "metadata": {},
   "source": [
    "#### KNN can be used for:\n",
    "- Both Classification and Regression"
   ]
  },
  {
   "cell_type": "markdown",
   "id": "775259c6-6c87-41ab-8436-048f6ee44f08",
   "metadata": {},
   "source": [
    "#### The value of k in KNN:\n",
    "-  The value of k in KNN is a hyperparameter that can be tuned to optimize the performance of the model. It can be any positive integer, and does not necessarily have to be odd or even. However, choosing an appropriate value of k is important to avoid underfitting or overfitting the model."
   ]
  },
  {
   "cell_type": "markdown",
   "id": "cdb8d5b7-1454-4f0b-ba46-970c76f64f3f",
   "metadata": {},
   "source": [
    "#### 4. Which of the following is not a distance metric commonly used in KNN?\n",
    "- The distance metrics commonly used in KNN include Euclidean distance, Manhattan distance, and cosine distance."
   ]
  },
  {
   "cell_type": "markdown",
   "id": "2a6fe4df-ba53-4cfa-8bac-c5faf968c9f4",
   "metadata": {},
   "source": [
    "####  In KNN, the decision boundary between classes is:\n",
    "- In KNN, the decision boundary between classes is non-linear, because the algorithm uses the distances between data points to determine their similarity, rather than assuming a linear relationship between the features."
   ]
  },
  {
   "cell_type": "markdown",
   "id": "97f29cb1-dde0-4c14-abb1-bb24a9e6929b",
   "metadata": {},
   "source": [
    "#### The main disadvantage of KNN compared to other machine learning algorithms is:\n",
    "-  The main disadvantage of KNN compared to other machine learning algorithms is that it is computationally expensive at inference time, because it requires calculating the distances between the new data point and all the data points in the training set. This can make it slow and impractical for large datasets."
   ]
  },
  {
   "cell_type": "markdown",
   "id": "62baa85a-5c6d-4568-b01e-b2addf816929",
   "metadata": {},
   "source": [
    "#### Which of the following is a possible way to reduce the computational cost of KNN at inference time?\n",
    "- Use a smaller value of k"
   ]
  },
  {
   "cell_type": "markdown",
   "id": "1031971b-e963-46a8-8787-5d4d0056e0ba",
   "metadata": {},
   "source": []
  },
  {
   "cell_type": "markdown",
   "id": "86e02675-11ed-4a73-b8a0-548566819f0d",
   "metadata": {},
   "source": []
  },
  {
   "cell_type": "markdown",
   "id": "bbe2135a-a4fd-4dfb-9a82-50eaeb5237b3",
   "metadata": {},
   "source": []
  },
  {
   "cell_type": "markdown",
   "id": "53d2fdbf-f661-4209-85ee-5c612890539d",
   "metadata": {},
   "source": []
  },
  {
   "cell_type": "markdown",
   "id": "17d1d90f-5547-4ee6-857f-8bbef6deecde",
   "metadata": {},
   "source": []
  }
 ],
 "metadata": {
  "kernelspec": {
   "display_name": "Python 3 (ipykernel)",
   "language": "python",
   "name": "python3"
  },
  "language_info": {
   "codemirror_mode": {
    "name": "ipython",
    "version": 3
   },
   "file_extension": ".py",
   "mimetype": "text/x-python",
   "name": "python",
   "nbconvert_exporter": "python",
   "pygments_lexer": "ipython3",
   "version": "3.9.12"
  }
 },
 "nbformat": 4,
 "nbformat_minor": 5
}
