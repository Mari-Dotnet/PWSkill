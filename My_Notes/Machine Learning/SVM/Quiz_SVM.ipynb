{
 "cells": [
  {
   "cell_type": "markdown",
   "id": "01d193a2-a36b-4135-a3f1-dc98061d3f7e",
   "metadata": {},
   "source": [
    "#### Questions"
   ]
  },
  {
   "cell_type": "markdown",
   "id": "d646ec6f-7b19-4594-8c33-cd040f1edab8",
   "metadata": {},
   "source": [
    "What is the goal of linear SVM classification?\n",
    " To find the hyperplane that maximizes the margin between two classes"
   ]
  },
  {
   "cell_type": "markdown",
   "id": "e494aea0-5f7a-4995-bdc7-5846f4f39ab2",
   "metadata": {},
   "source": [
    "What is the purpose of the kernel trick in SVM?\n",
    "\n",
    " - To transform the data into a higher-dimensional space where it is easier to separate the classes"
   ]
  },
  {
   "cell_type": "markdown",
   "id": "c391de44-b6b4-45f8-a7ea-f8b2aa6a4289",
   "metadata": {},
   "source": [
    "What is the margin in SVM?\n",
    "   \n",
    "-   The distance between the decision boundary and the closest data point from each class\n",
    "    "
   ]
  },
  {
   "cell_type": "markdown",
   "id": "202276b6-9548-425a-a2aa-c2bc03e18e23",
   "metadata": {},
   "source": [
    "What is the support vector in SVM?\n",
    "-  A data point that has the largest margin from the decision boundary"
   ]
  },
  {
   "cell_type": "markdown",
   "id": "e399e2ae-6ee3-4470-bd70-d4301492736c",
   "metadata": {},
   "source": [
    "What is the main idea behind using a kernel function in nonlinear SVM classification?\n",
    "- To transform the data into a higher-dimensional space where it is easier to separate the classes"
   ]
  },
  {
   "cell_type": "code",
   "execution_count": null,
   "id": "084599f3-9d5a-4cc4-a77d-cf796d42e792",
   "metadata": {},
   "outputs": [],
   "source": []
  }
 ],
 "metadata": {
  "kernelspec": {
   "display_name": "Python 3 (ipykernel)",
   "language": "python",
   "name": "python3"
  },
  "language_info": {
   "codemirror_mode": {
    "name": "ipython",
    "version": 3
   },
   "file_extension": ".py",
   "mimetype": "text/x-python",
   "name": "python",
   "nbconvert_exporter": "python",
   "pygments_lexer": "ipython3",
   "version": "3.9.12"
  }
 },
 "nbformat": 4,
 "nbformat_minor": 5
}
