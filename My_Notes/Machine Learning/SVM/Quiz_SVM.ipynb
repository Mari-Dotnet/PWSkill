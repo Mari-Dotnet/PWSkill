{
 "cells": [
  {
   "cell_type": "markdown",
   "id": "01d193a2-a36b-4135-a3f1-dc98061d3f7e",
   "metadata": {},
   "source": [
    "#### Questions"
   ]
  },
  {
   "cell_type": "markdown",
   "id": "d646ec6f-7b19-4594-8c33-cd040f1edab8",
   "metadata": {},
   "source": [
    "What is the goal of linear SVM classification?\n",
    " To find the hyperplane that maximizes the margin between two classes"
   ]
  },
  {
   "cell_type": "markdown",
   "id": "e494aea0-5f7a-4995-bdc7-5846f4f39ab2",
   "metadata": {},
   "source": [
    "What is the purpose of the kernel trick in SVM?\n",
    "\n",
    " - To transform the data into a higher-dimensional space where it is easier to separate the classes"
   ]
  },
  {
   "cell_type": "markdown",
   "id": "c391de44-b6b4-45f8-a7ea-f8b2aa6a4289",
   "metadata": {},
   "source": [
    "What is the margin in SVM?\n",
    "   \n",
    "-   The distance between the decision boundary and the closest data point from each class\n",
    "    "
   ]
  },
  {
   "cell_type": "markdown",
   "id": "202276b6-9548-425a-a2aa-c2bc03e18e23",
   "metadata": {},
   "source": [
    "What is the support vector in SVM?\n",
    "-  A data point that has the largest margin from the decision boundary"
   ]
  },
  {
   "cell_type": "markdown",
   "id": "e399e2ae-6ee3-4470-bd70-d4301492736c",
   "metadata": {},
   "source": [
    "What is the main idea behind using a kernel function in nonlinear SVM classification?\n",
    "- To transform the data into a higher-dimensional space where it is easier to separate the classes"
   ]
  },
  {
   "cell_type": "markdown",
   "id": "2eac61af-4f97-440a-914f-cf78a793bd5e",
   "metadata": {},
   "source": [
    "Which of the following is a kernel function used in SVM?\n",
    "\n",
    "- Linear kernel  Polynomial kernel  Radial basis function kernel"
   ]
  },
  {
   "cell_type": "markdown",
   "id": "950dbe85-e201-4f5d-8ac5-e10dd12ba225",
   "metadata": {},
   "source": [
    "The parameter \"p\" in the polynomial kernel controls:\n",
    "- The parameter \"p\" in the polynomial kernel controls the degree of the polynomial. A higher value of \"p\" results in a higher degree polynomial and a more complex decision boundary."
   ]
  },
  {
   "cell_type": "markdown",
   "id": "2358724b-fdf3-41b8-977a-887babf7874a",
   "metadata": {},
   "source": [
    "Data Leakage\n",
    "- Data leakage can occur in SVM when the test set is used for model training, the training set is not representative of the entire population, or the same data is used for feature selection and model training. Data leakage can result in overestimating the performance of the model and can lead to poor generalization to new data.\n",
    "- Cross-validation is a technique to prevent data leakage in SVM and other machine learning models. It involves splitting the data into training and validation sets multiple times and using the validation set to evaluate the performance of the model. This helps to ensure that the model does not overfit the training data and can generalize well to new data."
   ]
  },
  {
   "cell_type": "markdown",
   "id": "0d8c7dd0-43f1-4a4d-a6e5-3cdaac0a68ca",
   "metadata": {},
   "source": [
    "F1 Score\n",
    "- 2 * TP / (2 * TP + FP + FN)\n",
    "- 2 precision *recall/ precision+recall"
   ]
  },
  {
   "cell_type": "code",
   "execution_count": null,
   "id": "26456527-6b86-4854-bf6e-0f95789d4dd2",
   "metadata": {},
   "outputs": [],
   "source": []
  }
 ],
 "metadata": {
  "kernelspec": {
   "display_name": "Python 3 (ipykernel)",
   "language": "python",
   "name": "python3"
  },
  "language_info": {
   "codemirror_mode": {
    "name": "ipython",
    "version": 3
   },
   "file_extension": ".py",
   "mimetype": "text/x-python",
   "name": "python",
   "nbconvert_exporter": "python",
   "pygments_lexer": "ipython3",
   "version": "3.9.12"
  }
 },
 "nbformat": 4,
 "nbformat_minor": 5
}
