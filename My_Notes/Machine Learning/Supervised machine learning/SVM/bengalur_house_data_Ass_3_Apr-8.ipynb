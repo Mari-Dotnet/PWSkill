{
 "cells": [
  {
   "cell_type": "code",
   "execution_count": 1,
   "id": "75505ffb-2beb-4f89-9af6-a6db7e7117b5",
   "metadata": {},
   "outputs": [],
   "source": [
    "## import the librairies\n",
    "import pandas as pd\n",
    "import numpy as np\n",
    "import seaborn as sns\n",
    "import matplotlib.pyplot as plt\n",
    "import warnings \n",
    "warnings.filterwarnings('ignore')"
   ]
  },
  {
   "cell_type": "code",
   "execution_count": 2,
   "id": "0bf5d2b9-c604-41ac-807e-dc49f1aa88d0",
   "metadata": {},
   "outputs": [],
   "source": [
    "#load the dataset\n",
    "data=pd.read_csv('Bengaluru_House_Data.csv')"
   ]
  },
  {
   "cell_type": "code",
   "execution_count": 3,
   "id": "4cbbdfce-3cb6-403d-b29f-048bcfbaa2c1",
   "metadata": {},
   "outputs": [
    {
     "data": {
      "text/html": [
       "<div>\n",
       "<style scoped>\n",
       "    .dataframe tbody tr th:only-of-type {\n",
       "        vertical-align: middle;\n",
       "    }\n",
       "\n",
       "    .dataframe tbody tr th {\n",
       "        vertical-align: top;\n",
       "    }\n",
       "\n",
       "    .dataframe thead th {\n",
       "        text-align: right;\n",
       "    }\n",
       "</style>\n",
       "<table border=\"1\" class=\"dataframe\">\n",
       "  <thead>\n",
       "    <tr style=\"text-align: right;\">\n",
       "      <th></th>\n",
       "      <th>area_type</th>\n",
       "      <th>availability</th>\n",
       "      <th>location</th>\n",
       "      <th>size</th>\n",
       "      <th>society</th>\n",
       "      <th>total_sqft</th>\n",
       "      <th>bath</th>\n",
       "      <th>balcony</th>\n",
       "      <th>price</th>\n",
       "    </tr>\n",
       "  </thead>\n",
       "  <tbody>\n",
       "    <tr>\n",
       "      <th>0</th>\n",
       "      <td>Super built-up  Area</td>\n",
       "      <td>19-Dec</td>\n",
       "      <td>Electronic City Phase II</td>\n",
       "      <td>2 BHK</td>\n",
       "      <td>Coomee</td>\n",
       "      <td>1056</td>\n",
       "      <td>2.0</td>\n",
       "      <td>1.0</td>\n",
       "      <td>39.07</td>\n",
       "    </tr>\n",
       "    <tr>\n",
       "      <th>1</th>\n",
       "      <td>Plot  Area</td>\n",
       "      <td>Ready To Move</td>\n",
       "      <td>Chikka Tirupathi</td>\n",
       "      <td>4 Bedroom</td>\n",
       "      <td>Theanmp</td>\n",
       "      <td>2600</td>\n",
       "      <td>5.0</td>\n",
       "      <td>3.0</td>\n",
       "      <td>120.00</td>\n",
       "    </tr>\n",
       "    <tr>\n",
       "      <th>2</th>\n",
       "      <td>Built-up  Area</td>\n",
       "      <td>Ready To Move</td>\n",
       "      <td>Uttarahalli</td>\n",
       "      <td>3 BHK</td>\n",
       "      <td>NaN</td>\n",
       "      <td>1440</td>\n",
       "      <td>2.0</td>\n",
       "      <td>3.0</td>\n",
       "      <td>62.00</td>\n",
       "    </tr>\n",
       "    <tr>\n",
       "      <th>3</th>\n",
       "      <td>Super built-up  Area</td>\n",
       "      <td>Ready To Move</td>\n",
       "      <td>Lingadheeranahalli</td>\n",
       "      <td>3 BHK</td>\n",
       "      <td>Soiewre</td>\n",
       "      <td>1521</td>\n",
       "      <td>3.0</td>\n",
       "      <td>1.0</td>\n",
       "      <td>95.00</td>\n",
       "    </tr>\n",
       "    <tr>\n",
       "      <th>4</th>\n",
       "      <td>Super built-up  Area</td>\n",
       "      <td>Ready To Move</td>\n",
       "      <td>Kothanur</td>\n",
       "      <td>2 BHK</td>\n",
       "      <td>NaN</td>\n",
       "      <td>1200</td>\n",
       "      <td>2.0</td>\n",
       "      <td>1.0</td>\n",
       "      <td>51.00</td>\n",
       "    </tr>\n",
       "  </tbody>\n",
       "</table>\n",
       "</div>"
      ],
      "text/plain": [
       "              area_type   availability                  location       size  \\\n",
       "0  Super built-up  Area         19-Dec  Electronic City Phase II      2 BHK   \n",
       "1            Plot  Area  Ready To Move          Chikka Tirupathi  4 Bedroom   \n",
       "2        Built-up  Area  Ready To Move               Uttarahalli      3 BHK   \n",
       "3  Super built-up  Area  Ready To Move        Lingadheeranahalli      3 BHK   \n",
       "4  Super built-up  Area  Ready To Move                  Kothanur      2 BHK   \n",
       "\n",
       "   society total_sqft  bath  balcony   price  \n",
       "0  Coomee        1056   2.0      1.0   39.07  \n",
       "1  Theanmp       2600   5.0      3.0  120.00  \n",
       "2      NaN       1440   2.0      3.0   62.00  \n",
       "3  Soiewre       1521   3.0      1.0   95.00  \n",
       "4      NaN       1200   2.0      1.0   51.00  "
      ]
     },
     "execution_count": 3,
     "metadata": {},
     "output_type": "execute_result"
    }
   ],
   "source": [
    "data.head()"
   ]
  },
  {
   "cell_type": "code",
   "execution_count": 4,
   "id": "b186d465-55fe-46d6-ab6b-0f4137748069",
   "metadata": {},
   "outputs": [
    {
     "data": {
      "text/plain": [
       "(13320, 9)"
      ]
     },
     "execution_count": 4,
     "metadata": {},
     "output_type": "execute_result"
    }
   ],
   "source": [
    "data.shape"
   ]
  },
  {
   "cell_type": "code",
   "execution_count": 5,
   "id": "b441de7a-f7b4-4f68-86b1-09f4103806c0",
   "metadata": {},
   "outputs": [
    {
     "name": "stdout",
     "output_type": "stream",
     "text": [
      "<class 'pandas.core.frame.DataFrame'>\n",
      "RangeIndex: 13320 entries, 0 to 13319\n",
      "Data columns (total 9 columns):\n",
      " #   Column        Non-Null Count  Dtype  \n",
      "---  ------        --------------  -----  \n",
      " 0   area_type     13320 non-null  object \n",
      " 1   availability  13320 non-null  object \n",
      " 2   location      13319 non-null  object \n",
      " 3   size          13304 non-null  object \n",
      " 4   society       7818 non-null   object \n",
      " 5   total_sqft    13320 non-null  object \n",
      " 6   bath          13247 non-null  float64\n",
      " 7   balcony       12711 non-null  float64\n",
      " 8   price         13320 non-null  float64\n",
      "dtypes: float64(3), object(6)\n",
      "memory usage: 936.7+ KB\n"
     ]
    }
   ],
   "source": [
    "## inforation about data\n",
    "data.info()"
   ]
  },
  {
   "cell_type": "code",
   "execution_count": 6,
   "id": "f5c142a5-18c8-4a23-95fc-c63c371fc0b8",
   "metadata": {},
   "outputs": [
    {
     "data": {
      "text/plain": [
       "area_type          0\n",
       "availability       0\n",
       "location           1\n",
       "size              16\n",
       "society         5502\n",
       "total_sqft         0\n",
       "bath              73\n",
       "balcony          609\n",
       "price              0\n",
       "dtype: int64"
      ]
     },
     "execution_count": 6,
     "metadata": {},
     "output_type": "execute_result"
    }
   ],
   "source": [
    "data.isnull().sum()"
   ]
  },
  {
   "cell_type": "code",
   "execution_count": 7,
   "id": "50ba5f8b-1990-46ca-8a1d-9fd0861baf8d",
   "metadata": {},
   "outputs": [],
   "source": [
    "##chcek the null values\n",
    "dic=data.isnull().sum().to_dict()"
   ]
  },
  {
   "cell_type": "code",
   "execution_count": 8,
   "id": "ff3f59b9-5f25-4884-8890-1cede6ad620f",
   "metadata": {},
   "outputs": [],
   "source": [
    "nullcolum=[]\n",
    "for i,j in dic.items():\n",
    "    if j>=1:\n",
    "        nullcolum.append(i)"
   ]
  },
  {
   "cell_type": "code",
   "execution_count": 9,
   "id": "fd2bd0f1-807f-457f-bf46-11c25ca71d1a",
   "metadata": {},
   "outputs": [
    {
     "data": {
      "text/plain": [
       "['location', 'size', 'society', 'bath', 'balcony']"
      ]
     },
     "execution_count": 9,
     "metadata": {},
     "output_type": "execute_result"
    }
   ],
   "source": [
    "nullcolum"
   ]
  },
  {
   "cell_type": "code",
   "execution_count": 10,
   "id": "8532c5b1-2ee1-4678-85e3-65422a201f57",
   "metadata": {},
   "outputs": [
    {
     "name": "stdout",
     "output_type": "stream",
     "text": [
      "feature location\n",
      "['Electronic City Phase II' 'Chikka Tirupathi' 'Uttarahalli' ...\n",
      " '12th cross srinivas nagar banshankari 3rd stage' 'Havanur extension'\n",
      " 'Abshot Layout']\n",
      "**********\n",
      "feature size\n",
      "['2 BHK' '4 Bedroom' '3 BHK' '4 BHK' '6 Bedroom' '3 Bedroom' '1 BHK'\n",
      " '1 RK' '1 Bedroom' '8 Bedroom' '2 Bedroom' '7 Bedroom' '5 BHK' '7 BHK'\n",
      " '6 BHK' '5 Bedroom' '11 BHK' '9 BHK' nan '9 Bedroom' '27 BHK'\n",
      " '10 Bedroom' '11 Bedroom' '10 BHK' '19 BHK' '16 BHK' '43 Bedroom'\n",
      " '14 BHK' '8 BHK' '12 Bedroom' '13 BHK' '18 Bedroom']\n",
      "**********\n",
      "feature society\n",
      "['Coomee ' 'Theanmp' nan ... 'SJovest' 'ThhtsV ' 'RSntsAp']\n",
      "**********\n",
      "feature bath\n",
      "[ 2.  5.  3.  4.  6.  1.  9. nan  8.  7. 11. 10. 14. 27. 12. 16. 40. 15.\n",
      " 13. 18.]\n",
      "**********\n",
      "feature balcony\n",
      "[ 1.  3. nan  2.  0.]\n",
      "**********\n"
     ]
    }
   ],
   "source": [
    "for column in nullcolum:\n",
    "    print('feature',column)\n",
    "    print(data[column].unique())\n",
    "    print('**********')"
   ]
  },
  {
   "cell_type": "code",
   "execution_count": 11,
   "id": "6eb673f5-f3fa-4cb4-ac9f-74726af95e06",
   "metadata": {},
   "outputs": [],
   "source": [
    "from statistics import mode"
   ]
  },
  {
   "cell_type": "code",
   "execution_count": 12,
   "id": "fc2a59c7-cf91-49f4-8a29-ec1e1e703d4d",
   "metadata": {},
   "outputs": [
    {
     "data": {
      "text/plain": [
       "0    2 BHK\n",
       "Name: size, dtype: object"
      ]
     },
     "execution_count": 12,
     "metadata": {},
     "output_type": "execute_result"
    }
   ],
   "source": [
    "data['size'].mode()"
   ]
  },
  {
   "cell_type": "code",
   "execution_count": 13,
   "id": "f00662a9-4295-4228-aec3-4bdb5d11d616",
   "metadata": {},
   "outputs": [],
   "source": [
    "## in missing values column have object type we can use mode values\n",
    "data['size']=data['size'].fillna(data['size'].mode()[0])"
   ]
  },
  {
   "cell_type": "code",
   "execution_count": 14,
   "id": "ddc4fdc0-4b7e-4050-8cad-b65169000131",
   "metadata": {},
   "outputs": [],
   "source": [
    "data['society']=data['society'].fillna(data['society'].mode()[0]) "
   ]
  },
  {
   "cell_type": "code",
   "execution_count": 15,
   "id": "dd625ff7-0f8f-4a02-9c83-b48f0e5e6adc",
   "metadata": {},
   "outputs": [],
   "source": [
    "data['location']=data['location'].fillna(data['location'].mode()[0])   "
   ]
  },
  {
   "cell_type": "code",
   "execution_count": 16,
   "id": "36f10820-35c5-494c-810f-3a5cb1c59af2",
   "metadata": {},
   "outputs": [
    {
     "data": {
      "text/plain": [
       "'GrrvaGr'"
      ]
     },
     "execution_count": 16,
     "metadata": {},
     "output_type": "execute_result"
    }
   ],
   "source": [
    "data['society'].mode()[0]"
   ]
  },
  {
   "cell_type": "markdown",
   "id": "b3d8b55f-1197-476f-a2dc-13e6801b3e84",
   "metadata": {},
   "source": [
    "## missing values in numeric type \n",
    "## we can check this numerica values has any outlier or not , if value have outlier we can use median otherwise we can use mean"
   ]
  },
  {
   "cell_type": "code",
   "execution_count": 17,
   "id": "e7e2d8b5-033e-41ed-8b10-563feaee8714",
   "metadata": {},
   "outputs": [
    {
     "data": {
      "text/plain": [
       "<AxesSubplot:xlabel='bath'>"
      ]
     },
     "execution_count": 17,
     "metadata": {},
     "output_type": "execute_result"
    },
    {
     "data": {
      "image/png": "[encoded data removed]",
      "text/plain": [
       "<Figure size 432x288 with 1 Axes>"
      ]
     },
     "metadata": {
      "needs_background": "light"
     },
     "output_type": "display_data"
    }
   ],
   "source": [
    "sns.boxplot(data['bath'])"
   ]
  },
  {
   "cell_type": "code",
   "execution_count": 18,
   "id": "404c43f4-d2a1-48dc-9ba3-dcc778a10c72",
   "metadata": {},
   "outputs": [
    {
     "data": {
      "text/plain": [
       "<AxesSubplot:xlabel='balcony'>"
      ]
     },
     "execution_count": 18,
     "metadata": {},
     "output_type": "execute_result"
    },
    {
     "data": {
      "image/png": "[encoded data removed]",
      "text/plain": [
       "<Figure size 432x288 with 1 Axes>"
      ]
     },
     "metadata": {
      "needs_background": "light"
     },
     "output_type": "display_data"
    }
   ],
   "source": [
    "sns.boxplot(data['balcony'])"
   ]
  },
  {
   "cell_type": "markdown",
   "id": "6265f300-0f0d-4d47-ba33-34dc39a5998e",
   "metadata": {},
   "source": [
    "## conclusion\n",
    "#### bath have some outliers so we can user median\n",
    "#### balcony dont have any outliers we can use mean"
   ]
  },
  {
   "cell_type": "code",
   "execution_count": 19,
   "id": "e73930d5-eff0-4e80-a97f-dd00e128ebe9",
   "metadata": {},
   "outputs": [],
   "source": [
    "data['bath']=data['bath'].fillna(data['bath'].median())\n",
    "data['balcony']=data['balcony'].fillna(data['balcony'].mean())"
   ]
  },
  {
   "cell_type": "code",
   "execution_count": 20,
   "id": "bdb47339-43dd-411c-b3aa-4a97028553c9",
   "metadata": {},
   "outputs": [
    {
     "data": {
      "text/plain": [
       "area_type       0\n",
       "availability    0\n",
       "location        0\n",
       "size            0\n",
       "society         0\n",
       "total_sqft      0\n",
       "bath            0\n",
       "balcony         0\n",
       "price           0\n",
       "dtype: int64"
      ]
     },
     "execution_count": 20,
     "metadata": {},
     "output_type": "execute_result"
    }
   ],
   "source": [
    "## again check the null values\n",
    "data.isnull().sum()"
   ]
  },
  {
   "cell_type": "code",
   "execution_count": 24,
   "id": "3789a3c9-7d98-46e4-ac4c-1b6802e2dbf7",
   "metadata": {},
   "outputs": [],
   "source": [
    "X=data.iloc[:,:-1]\n",
    "y=data.iloc[:,-1]"
   ]
  },
  {
   "cell_type": "code",
   "execution_count": 25,
   "id": "e63da46c-7d4c-48ce-a5ae-395b7365dbfb",
   "metadata": {},
   "outputs": [],
   "source": [
    "## Split the train and test data\n",
    "from sklearn.model_selection import train_test_split"
   ]
  },
  {
   "cell_type": "code",
   "execution_count": 117,
   "id": "b9ee11c1-f807-46ee-b5e8-b6fb9a5f06f3",
   "metadata": {},
   "outputs": [],
   "source": [
    " X_train, X_test, y_train, y_test = train_test_split( X, y, test_size=0.33, random_state=42)"
   ]
  },
  {
   "cell_type": "code",
   "execution_count": 27,
   "id": "8ca1d26f-cbdc-4904-8423-8f94d873da08",
   "metadata": {},
   "outputs": [
    {
     "data": {
      "text/html": [
       "<div>\n",
       "<style scoped>\n",
       "    .dataframe tbody tr th:only-of-type {\n",
       "        vertical-align: middle;\n",
       "    }\n",
       "\n",
       "    .dataframe tbody tr th {\n",
       "        vertical-align: top;\n",
       "    }\n",
       "\n",
       "    .dataframe thead th {\n",
       "        text-align: right;\n",
       "    }\n",
       "</style>\n",
       "<table border=\"1\" class=\"dataframe\">\n",
       "  <thead>\n",
       "    <tr style=\"text-align: right;\">\n",
       "      <th></th>\n",
       "      <th>area_type</th>\n",
       "      <th>availability</th>\n",
       "      <th>location</th>\n",
       "      <th>size</th>\n",
       "      <th>society</th>\n",
       "      <th>total_sqft</th>\n",
       "      <th>bath</th>\n",
       "      <th>balcony</th>\n",
       "    </tr>\n",
       "  </thead>\n",
       "  <tbody>\n",
       "    <tr>\n",
       "      <th>2870</th>\n",
       "      <td>Super built-up  Area</td>\n",
       "      <td>Ready To Move</td>\n",
       "      <td>Gopalkrishna Nagar</td>\n",
       "      <td>2 BHK</td>\n",
       "      <td>MJarlPe</td>\n",
       "      <td>1165</td>\n",
       "      <td>2.0</td>\n",
       "      <td>2.0</td>\n",
       "    </tr>\n",
       "    <tr>\n",
       "      <th>6114</th>\n",
       "      <td>Super built-up  Area</td>\n",
       "      <td>Ready To Move</td>\n",
       "      <td>NGR Layout</td>\n",
       "      <td>2 BHK</td>\n",
       "      <td>GrrvaGr</td>\n",
       "      <td>1019</td>\n",
       "      <td>2.0</td>\n",
       "      <td>1.0</td>\n",
       "    </tr>\n",
       "    <tr>\n",
       "      <th>5733</th>\n",
       "      <td>Super built-up  Area</td>\n",
       "      <td>Ready To Move</td>\n",
       "      <td>AECS Layout</td>\n",
       "      <td>2 BHK</td>\n",
       "      <td>CMhamai</td>\n",
       "      <td>1123</td>\n",
       "      <td>2.0</td>\n",
       "      <td>2.0</td>\n",
       "    </tr>\n",
       "    <tr>\n",
       "      <th>9378</th>\n",
       "      <td>Super built-up  Area</td>\n",
       "      <td>18-Apr</td>\n",
       "      <td>Basavangudi</td>\n",
       "      <td>2 BHK</td>\n",
       "      <td>GrrvaGr</td>\n",
       "      <td>1180</td>\n",
       "      <td>2.0</td>\n",
       "      <td>3.0</td>\n",
       "    </tr>\n",
       "    <tr>\n",
       "      <th>9301</th>\n",
       "      <td>Super built-up  Area</td>\n",
       "      <td>Ready To Move</td>\n",
       "      <td>Green View Layout</td>\n",
       "      <td>2 BHK</td>\n",
       "      <td>Makeser</td>\n",
       "      <td>1108</td>\n",
       "      <td>2.0</td>\n",
       "      <td>1.0</td>\n",
       "    </tr>\n",
       "  </tbody>\n",
       "</table>\n",
       "</div>"
      ],
      "text/plain": [
       "                 area_type   availability            location   size  society  \\\n",
       "2870  Super built-up  Area  Ready To Move  Gopalkrishna Nagar  2 BHK  MJarlPe   \n",
       "6114  Super built-up  Area  Ready To Move          NGR Layout  2 BHK  GrrvaGr   \n",
       "5733  Super built-up  Area  Ready To Move         AECS Layout  2 BHK  CMhamai   \n",
       "9378  Super built-up  Area         18-Apr         Basavangudi  2 BHK  GrrvaGr   \n",
       "9301  Super built-up  Area  Ready To Move   Green View Layout  2 BHK  Makeser   \n",
       "\n",
       "     total_sqft  bath  balcony  \n",
       "2870       1165   2.0      2.0  \n",
       "6114       1019   2.0      1.0  \n",
       "5733       1123   2.0      2.0  \n",
       "9378       1180   2.0      3.0  \n",
       "9301       1108   2.0      1.0  "
      ]
     },
     "execution_count": 27,
     "metadata": {},
     "output_type": "execute_result"
    }
   ],
   "source": [
    "X_train.head()"
   ]
  },
  {
   "cell_type": "code",
   "execution_count": 36,
   "id": "a64a8167-d77a-4a08-9cc5-ee19c68b9751",
   "metadata": {},
   "outputs": [],
   "source": [
    "X_train.reset_index(inplace=True)\n",
    "X_test.reset_index(inplace=True)"
   ]
  },
  {
   "cell_type": "code",
   "execution_count": 37,
   "id": "d2781a7e-1684-4766-9467-87c068add2d4",
   "metadata": {},
   "outputs": [
    {
     "data": {
      "text/html": [
       "<div>\n",
       "<style scoped>\n",
       "    .dataframe tbody tr th:only-of-type {\n",
       "        vertical-align: middle;\n",
       "    }\n",
       "\n",
       "    .dataframe tbody tr th {\n",
       "        vertical-align: top;\n",
       "    }\n",
       "\n",
       "    .dataframe thead th {\n",
       "        text-align: right;\n",
       "    }\n",
       "</style>\n",
       "<table border=\"1\" class=\"dataframe\">\n",
       "  <thead>\n",
       "    <tr style=\"text-align: right;\">\n",
       "      <th></th>\n",
       "      <th>area_type</th>\n",
       "      <th>availability</th>\n",
       "      <th>location</th>\n",
       "      <th>size</th>\n",
       "      <th>society</th>\n",
       "      <th>total_sqft</th>\n",
       "      <th>bath</th>\n",
       "      <th>balcony</th>\n",
       "    </tr>\n",
       "  </thead>\n",
       "  <tbody>\n",
       "    <tr>\n",
       "      <th>0</th>\n",
       "      <td>Built-up  Area</td>\n",
       "      <td>Ready To Move</td>\n",
       "      <td>Banjara Layout</td>\n",
       "      <td>2 Bedroom</td>\n",
       "      <td>GrrvaGr</td>\n",
       "      <td>1050</td>\n",
       "      <td>2.0</td>\n",
       "      <td>1.0</td>\n",
       "    </tr>\n",
       "    <tr>\n",
       "      <th>1</th>\n",
       "      <td>Super built-up  Area</td>\n",
       "      <td>Ready To Move</td>\n",
       "      <td>Rajiv Nagar</td>\n",
       "      <td>3 BHK</td>\n",
       "      <td>PuoodSk</td>\n",
       "      <td>1690</td>\n",
       "      <td>3.0</td>\n",
       "      <td>1.0</td>\n",
       "    </tr>\n",
       "    <tr>\n",
       "      <th>2</th>\n",
       "      <td>Built-up  Area</td>\n",
       "      <td>Ready To Move</td>\n",
       "      <td>Hebbal</td>\n",
       "      <td>2 BHK</td>\n",
       "      <td>GrrvaGr</td>\n",
       "      <td>1100</td>\n",
       "      <td>2.0</td>\n",
       "      <td>1.0</td>\n",
       "    </tr>\n",
       "    <tr>\n",
       "      <th>3</th>\n",
       "      <td>Plot  Area</td>\n",
       "      <td>Ready To Move</td>\n",
       "      <td>Munnekollal</td>\n",
       "      <td>6 Bedroom</td>\n",
       "      <td>GrrvaGr</td>\n",
       "      <td>1200</td>\n",
       "      <td>4.0</td>\n",
       "      <td>2.0</td>\n",
       "    </tr>\n",
       "    <tr>\n",
       "      <th>4</th>\n",
       "      <td>Built-up  Area</td>\n",
       "      <td>18-Apr</td>\n",
       "      <td>Choodasandra</td>\n",
       "      <td>4 Bedroom</td>\n",
       "      <td>LGifeew</td>\n",
       "      <td>2429</td>\n",
       "      <td>3.0</td>\n",
       "      <td>1.0</td>\n",
       "    </tr>\n",
       "    <tr>\n",
       "      <th>...</th>\n",
       "      <td>...</td>\n",
       "      <td>...</td>\n",
       "      <td>...</td>\n",
       "      <td>...</td>\n",
       "      <td>...</td>\n",
       "      <td>...</td>\n",
       "      <td>...</td>\n",
       "      <td>...</td>\n",
       "    </tr>\n",
       "    <tr>\n",
       "      <th>4391</th>\n",
       "      <td>Super built-up  Area</td>\n",
       "      <td>Ready To Move</td>\n",
       "      <td>Electronic City Phase II</td>\n",
       "      <td>2 BHK</td>\n",
       "      <td>Coush W</td>\n",
       "      <td>1069</td>\n",
       "      <td>2.0</td>\n",
       "      <td>2.0</td>\n",
       "    </tr>\n",
       "    <tr>\n",
       "      <th>4392</th>\n",
       "      <td>Super built-up  Area</td>\n",
       "      <td>Ready To Move</td>\n",
       "      <td>Kasavanhalli</td>\n",
       "      <td>3 BHK</td>\n",
       "      <td>HMwerCo</td>\n",
       "      <td>1476</td>\n",
       "      <td>3.0</td>\n",
       "      <td>0.0</td>\n",
       "    </tr>\n",
       "    <tr>\n",
       "      <th>4393</th>\n",
       "      <td>Super built-up  Area</td>\n",
       "      <td>Ready To Move</td>\n",
       "      <td>Sultan Palaya</td>\n",
       "      <td>2 BHK</td>\n",
       "      <td>Vaaldak</td>\n",
       "      <td>1009</td>\n",
       "      <td>2.0</td>\n",
       "      <td>1.0</td>\n",
       "    </tr>\n",
       "    <tr>\n",
       "      <th>4394</th>\n",
       "      <td>Built-up  Area</td>\n",
       "      <td>Ready To Move</td>\n",
       "      <td>HSR Layout</td>\n",
       "      <td>2 BHK</td>\n",
       "      <td>SruntFa</td>\n",
       "      <td>1126</td>\n",
       "      <td>2.0</td>\n",
       "      <td>1.0</td>\n",
       "    </tr>\n",
       "    <tr>\n",
       "      <th>4395</th>\n",
       "      <td>Plot  Area</td>\n",
       "      <td>Ready To Move</td>\n",
       "      <td>Kumaraswami Layout</td>\n",
       "      <td>6 Bedroom</td>\n",
       "      <td>GrrvaGr</td>\n",
       "      <td>510</td>\n",
       "      <td>4.0</td>\n",
       "      <td>1.0</td>\n",
       "    </tr>\n",
       "  </tbody>\n",
       "</table>\n",
       "<p>4396 rows × 8 columns</p>\n",
       "</div>"
      ],
      "text/plain": [
       "                 area_type   availability                  location  \\\n",
       "0           Built-up  Area  Ready To Move            Banjara Layout   \n",
       "1     Super built-up  Area  Ready To Move               Rajiv Nagar   \n",
       "2           Built-up  Area  Ready To Move                    Hebbal   \n",
       "3               Plot  Area  Ready To Move               Munnekollal   \n",
       "4           Built-up  Area         18-Apr              Choodasandra   \n",
       "...                    ...            ...                       ...   \n",
       "4391  Super built-up  Area  Ready To Move  Electronic City Phase II   \n",
       "4392  Super built-up  Area  Ready To Move              Kasavanhalli   \n",
       "4393  Super built-up  Area  Ready To Move             Sultan Palaya   \n",
       "4394        Built-up  Area  Ready To Move                HSR Layout   \n",
       "4395            Plot  Area  Ready To Move        Kumaraswami Layout   \n",
       "\n",
       "           size  society total_sqft  bath  balcony  \n",
       "0     2 Bedroom  GrrvaGr       1050   2.0      1.0  \n",
       "1         3 BHK  PuoodSk       1690   3.0      1.0  \n",
       "2         2 BHK  GrrvaGr       1100   2.0      1.0  \n",
       "3     6 Bedroom  GrrvaGr       1200   4.0      2.0  \n",
       "4     4 Bedroom  LGifeew       2429   3.0      1.0  \n",
       "...         ...      ...        ...   ...      ...  \n",
       "4391      2 BHK  Coush W       1069   2.0      2.0  \n",
       "4392      3 BHK  HMwerCo       1476   3.0      0.0  \n",
       "4393      2 BHK  Vaaldak       1009   2.0      1.0  \n",
       "4394      2 BHK  SruntFa       1126   2.0      1.0  \n",
       "4395  6 Bedroom  GrrvaGr        510   4.0      1.0  \n",
       "\n",
       "[4396 rows x 8 columns]"
      ]
     },
     "execution_count": 37,
     "metadata": {},
     "output_type": "execute_result"
    }
   ],
   "source": [
    "X_train.drop('index',axis=1)\n",
    "X_test.drop('index',axis=1)"
   ]
  },
  {
   "cell_type": "code",
   "execution_count": 38,
   "id": "22940459-1500-4991-aca6-bf90828c0c0a",
   "metadata": {},
   "outputs": [
    {
     "data": {
      "text/plain": [
       "array(['Ready To Move', '18-Apr', '17-Oct', '18-May', '17-Nov', '18-Mar',\n",
       "       'Immediate Possession', '21-Mar', '18-Oct', '18-Jul', '21-Jun',\n",
       "       '18-Feb', '21-May', '18-Aug', '20-Dec', '18-Dec', '21-Oct',\n",
       "       '19-Dec', '19-Jul', '18-Jun', '22-May', '20-Aug', '21-Dec',\n",
       "       '17-Jul', '17-Dec', '21-Feb', '19-Jan', '19-Apr', '19-Mar',\n",
       "       '17-Sep', '19-Sep', '21-Jan', '17-Feb', '20-Jan', '19-Oct',\n",
       "       '19-Jun', '18-Nov', '17-Apr', '21-Sep', '18-Jan', '18-Sep',\n",
       "       '19-Feb', '22-Jan', '20-Jun', '19-May', '20-Sep', '19-Aug',\n",
       "       '17-May', '16-Dec', '17-Jun', '22-Jun', '20-Oct', '19-Nov',\n",
       "       '21-Jul', '17-Aug', '14-Jul', '20-May', '20-Jul', '16-Jul',\n",
       "       '22-Dec', '17-Mar', '21-Aug', '15-Nov', '17-Jan', '16-Sep',\n",
       "       '16-Mar', '21-Nov', '15-Jun', '20-Feb', '22-Mar', '20-Nov',\n",
       "       '20-Mar', '16-Oct', '15-Dec', '20-Apr'], dtype=object)"
      ]
     },
     "execution_count": 38,
     "metadata": {},
     "output_type": "execute_result"
    }
   ],
   "source": [
    "X_train['availability'].unique()"
   ]
  },
  {
   "cell_type": "code",
   "execution_count": 39,
   "id": "3a91457e-bdcc-421d-9b17-4b964f0ab323",
   "metadata": {},
   "outputs": [
    {
     "data": {
      "text/plain": [
       "array(['Super built-up  Area', 'Plot  Area', 'Carpet  Area',\n",
       "       'Built-up  Area'], dtype=object)"
      ]
     },
     "execution_count": 39,
     "metadata": {},
     "output_type": "execute_result"
    }
   ],
   "source": [
    "X_train['area_type'].unique()"
   ]
  },
  {
   "cell_type": "code",
   "execution_count": 40,
   "id": "90d40e9a-d8bd-4e56-a4b6-d23a33ea8454",
   "metadata": {},
   "outputs": [
    {
     "data": {
      "text/plain": [
       "array(['2 BHK', '3 BHK', '6 Bedroom', '4 BHK', '3 Bedroom', '2 Bedroom',\n",
       "       '4 Bedroom', '1 BHK', '5 Bedroom', '5 BHK', '1 Bedroom',\n",
       "       '9 Bedroom', '1 RK', '7 Bedroom', '8 Bedroom', '6 BHK', '9 BHK',\n",
       "       '7 BHK', '8 BHK', '16 BHK', '10 Bedroom', '13 BHK', '12 Bedroom',\n",
       "       '10 BHK', '14 BHK', '11 BHK', '18 Bedroom'], dtype=object)"
      ]
     },
     "execution_count": 40,
     "metadata": {},
     "output_type": "execute_result"
    }
   ],
   "source": [
    "X_train['size'].unique()"
   ]
  },
  {
   "cell_type": "code",
   "execution_count": 41,
   "id": "681ad261-d64e-424a-8d8f-b9582c46638c",
   "metadata": {},
   "outputs": [
    {
     "data": {
      "text/plain": [
       "<AxesSubplot:>"
      ]
     },
     "execution_count": 41,
     "metadata": {},
     "output_type": "execute_result"
    },
    {
     "data": {
      "image/png": "[encoded data removed]",
      "text/plain": [
       "<Figure size 432x288 with 1 Axes>"
      ]
     },
     "metadata": {
      "needs_background": "light"
     },
     "output_type": "display_data"
    }
   ],
   "source": [
    "X_train['area_type'].value_counts().plot(kind='bar')"
   ]
  },
  {
   "cell_type": "markdown",
   "id": "dc518648-c1a5-4905-b07f-4792f4f82ce6",
   "metadata": {},
   "source": [
    "## change the availability field values"
   ]
  },
  {
   "cell_type": "code",
   "execution_count": 42,
   "id": "1d0f943d-2567-4f7b-b748-209446002c18",
   "metadata": {},
   "outputs": [],
   "source": [
    "X_train['availability']=np.where(X_train['availability'].str.contains('-'),'Delay',X_train['availability'])\n",
    "X_test['availability']=np.where(X_test['availability'].str.contains('-'),'Delay',X_test['availability'])"
   ]
  },
  {
   "cell_type": "markdown",
   "id": "3e7cb4de-6c97-4ece-869c-c8f5fed5c028",
   "metadata": {},
   "source": [
    "#### one hot encoding for areatype"
   ]
  },
  {
   "cell_type": "code",
   "execution_count": 43,
   "id": "411b740c-ebf8-4c1a-95f0-7f5aaa336adb",
   "metadata": {},
   "outputs": [],
   "source": [
    "from sklearn.preprocessing import OneHotEncoder"
   ]
  },
  {
   "cell_type": "code",
   "execution_count": 44,
   "id": "5272e0d3-c2e8-4b66-87e5-d9a0e28a151c",
   "metadata": {},
   "outputs": [],
   "source": [
    "encoder=OneHotEncoder()"
   ]
  },
  {
   "cell_type": "code",
   "execution_count": 45,
   "id": "3fc0d5c3-53e6-48e7-852a-b922b255af5f",
   "metadata": {},
   "outputs": [],
   "source": [
    "area_type_codeer_train=encoder.fit_transform(X_train[['area_type','availability']]).toarray()\n",
    "area_type_codeer_test=encoder.fit_transform(X_test[['area_type','availability']]).toarray()"
   ]
  },
  {
   "cell_type": "code",
   "execution_count": 62,
   "id": "4d1f3874-8fab-4112-8709-4365178c8f96",
   "metadata": {},
   "outputs": [
    {
     "data": {
      "text/plain": [
       "array(['area_type_Built-up  Area', 'area_type_Carpet  Area',\n",
       "       'area_type_Plot  Area', 'area_type_Super built-up  Area',\n",
       "       'availability_Delay', 'availability_Immediate Possession',\n",
       "       'availability_Ready To Move'], dtype=object)"
      ]
     },
     "execution_count": 62,
     "metadata": {},
     "output_type": "execute_result"
    }
   ],
   "source": [
    "np.array( encoder.get_feature_names_out())"
   ]
  },
  {
   "cell_type": "code",
   "execution_count": 46,
   "id": "a4b97c97-f366-4b29-b5d0-334387a186d1",
   "metadata": {},
   "outputs": [],
   "source": [
    "area_type_codeer_df_train=pd.DataFrame(area_type_codeer_train,columns=encoder.get_feature_names_out())\n",
    "area_type_codeer_df_test=pd.DataFrame(area_type_codeer_test,columns=encoder.get_feature_names_out())"
   ]
  },
  {
   "cell_type": "code",
   "execution_count": 55,
   "id": "10b32063-c391-48dd-ac3c-4ba9d8c1c6cf",
   "metadata": {},
   "outputs": [
    {
     "data": {
      "text/html": [
       "<div>\n",
       "<style scoped>\n",
       "    .dataframe tbody tr th:only-of-type {\n",
       "        vertical-align: middle;\n",
       "    }\n",
       "\n",
       "    .dataframe tbody tr th {\n",
       "        vertical-align: top;\n",
       "    }\n",
       "\n",
       "    .dataframe thead th {\n",
       "        text-align: right;\n",
       "    }\n",
       "</style>\n",
       "<table border=\"1\" class=\"dataframe\">\n",
       "  <thead>\n",
       "    <tr style=\"text-align: right;\">\n",
       "      <th></th>\n",
       "      <th>area_type_Built-up  Area</th>\n",
       "      <th>area_type_Carpet  Area</th>\n",
       "      <th>area_type_Plot  Area</th>\n",
       "      <th>area_type_Super built-up  Area</th>\n",
       "      <th>availability_Delay</th>\n",
       "      <th>availability_Immediate Possession</th>\n",
       "      <th>availability_Ready To Move</th>\n",
       "    </tr>\n",
       "  </thead>\n",
       "  <tbody>\n",
       "    <tr>\n",
       "      <th>0</th>\n",
       "      <td>0.0</td>\n",
       "      <td>0.0</td>\n",
       "      <td>0.0</td>\n",
       "      <td>1.0</td>\n",
       "      <td>0.0</td>\n",
       "      <td>0.0</td>\n",
       "      <td>1.0</td>\n",
       "    </tr>\n",
       "    <tr>\n",
       "      <th>1</th>\n",
       "      <td>0.0</td>\n",
       "      <td>0.0</td>\n",
       "      <td>0.0</td>\n",
       "      <td>1.0</td>\n",
       "      <td>0.0</td>\n",
       "      <td>0.0</td>\n",
       "      <td>1.0</td>\n",
       "    </tr>\n",
       "    <tr>\n",
       "      <th>2</th>\n",
       "      <td>0.0</td>\n",
       "      <td>0.0</td>\n",
       "      <td>0.0</td>\n",
       "      <td>1.0</td>\n",
       "      <td>0.0</td>\n",
       "      <td>0.0</td>\n",
       "      <td>1.0</td>\n",
       "    </tr>\n",
       "    <tr>\n",
       "      <th>3</th>\n",
       "      <td>0.0</td>\n",
       "      <td>0.0</td>\n",
       "      <td>0.0</td>\n",
       "      <td>1.0</td>\n",
       "      <td>1.0</td>\n",
       "      <td>0.0</td>\n",
       "      <td>0.0</td>\n",
       "    </tr>\n",
       "    <tr>\n",
       "      <th>4</th>\n",
       "      <td>0.0</td>\n",
       "      <td>0.0</td>\n",
       "      <td>0.0</td>\n",
       "      <td>1.0</td>\n",
       "      <td>0.0</td>\n",
       "      <td>0.0</td>\n",
       "      <td>1.0</td>\n",
       "    </tr>\n",
       "  </tbody>\n",
       "</table>\n",
       "</div>"
      ],
      "text/plain": [
       "   area_type_Built-up  Area  area_type_Carpet  Area  area_type_Plot  Area  \\\n",
       "0                       0.0                     0.0                   0.0   \n",
       "1                       0.0                     0.0                   0.0   \n",
       "2                       0.0                     0.0                   0.0   \n",
       "3                       0.0                     0.0                   0.0   \n",
       "4                       0.0                     0.0                   0.0   \n",
       "\n",
       "   area_type_Super built-up  Area  availability_Delay  \\\n",
       "0                             1.0                 0.0   \n",
       "1                             1.0                 0.0   \n",
       "2                             1.0                 0.0   \n",
       "3                             1.0                 1.0   \n",
       "4                             1.0                 0.0   \n",
       "\n",
       "   availability_Immediate Possession  availability_Ready To Move  \n",
       "0                                0.0                         1.0  \n",
       "1                                0.0                         1.0  \n",
       "2                                0.0                         1.0  \n",
       "3                                0.0                         0.0  \n",
       "4                                0.0                         1.0  "
      ]
     },
     "execution_count": 55,
     "metadata": {},
     "output_type": "execute_result"
    }
   ],
   "source": [
    "area_type_codeer_df_train.head()"
   ]
  },
  {
   "cell_type": "code",
   "execution_count": 47,
   "id": "dc4bad13-a46e-4e99-bded-4aad37facac4",
   "metadata": {},
   "outputs": [],
   "source": [
    "sizedata=[]\n",
    "def sizecheck(value):\n",
    "    if 'BHK' in value:\n",
    "        sizedata.append([1,1,1])\n",
    "    else:\n",
    "        sizedata.append([1,0,0])          "
   ]
  },
  {
   "cell_type": "code",
   "execution_count": 50,
   "id": "a7869b31-54e0-4bdd-9a34-493ecf971e57",
   "metadata": {},
   "outputs": [],
   "source": [
    "sizedf=pd.DataFrame(sizedata,columns=['Bedroom','Hall','Kitchen'])"
   ]
  },
  {
   "cell_type": "code",
   "execution_count": 51,
   "id": "701f06bb-c616-4590-9852-7408a5863e21",
   "metadata": {},
   "outputs": [
    {
     "data": {
      "text/html": [
       "<div>\n",
       "<style scoped>\n",
       "    .dataframe tbody tr th:only-of-type {\n",
       "        vertical-align: middle;\n",
       "    }\n",
       "\n",
       "    .dataframe tbody tr th {\n",
       "        vertical-align: top;\n",
       "    }\n",
       "\n",
       "    .dataframe thead th {\n",
       "        text-align: right;\n",
       "    }\n",
       "</style>\n",
       "<table border=\"1\" class=\"dataframe\">\n",
       "  <thead>\n",
       "    <tr style=\"text-align: right;\">\n",
       "      <th></th>\n",
       "      <th>Bedroom</th>\n",
       "      <th>Hall</th>\n",
       "      <th>Kitchen</th>\n",
       "    </tr>\n",
       "  </thead>\n",
       "  <tbody>\n",
       "  </tbody>\n",
       "</table>\n",
       "</div>"
      ],
      "text/plain": [
       "Empty DataFrame\n",
       "Columns: [Bedroom, Hall, Kitchen]\n",
       "Index: []"
      ]
     },
     "execution_count": 51,
     "metadata": {},
     "output_type": "execute_result"
    }
   ],
   "source": [
    "sizedf.head()"
   ]
  },
  {
   "cell_type": "code",
   "execution_count": 56,
   "id": "b52678ef-57be-4448-9893-dca4d0fa0987",
   "metadata": {},
   "outputs": [],
   "source": [
    "X_train_copy=pd.concat([X_train, area_type_codeer_df_train], axis=1)\n",
    "X_test_copy=pd.concat([X_test, area_type_codeer_df_test], axis=1)"
   ]
  },
  {
   "cell_type": "code",
   "execution_count": 57,
   "id": "efe6d197-d59a-424f-babc-92dab4bb37e2",
   "metadata": {},
   "outputs": [
    {
     "data": {
      "text/html": [
       "<div>\n",
       "<style scoped>\n",
       "    .dataframe tbody tr th:only-of-type {\n",
       "        vertical-align: middle;\n",
       "    }\n",
       "\n",
       "    .dataframe tbody tr th {\n",
       "        vertical-align: top;\n",
       "    }\n",
       "\n",
       "    .dataframe thead th {\n",
       "        text-align: right;\n",
       "    }\n",
       "</style>\n",
       "<table border=\"1\" class=\"dataframe\">\n",
       "  <thead>\n",
       "    <tr style=\"text-align: right;\">\n",
       "      <th></th>\n",
       "      <th>level_0</th>\n",
       "      <th>index</th>\n",
       "      <th>area_type</th>\n",
       "      <th>availability</th>\n",
       "      <th>location</th>\n",
       "      <th>size</th>\n",
       "      <th>society</th>\n",
       "      <th>total_sqft</th>\n",
       "      <th>bath</th>\n",
       "      <th>balcony</th>\n",
       "      <th>area_type_Built-up  Area</th>\n",
       "      <th>area_type_Carpet  Area</th>\n",
       "      <th>area_type_Plot  Area</th>\n",
       "      <th>area_type_Super built-up  Area</th>\n",
       "      <th>availability_Delay</th>\n",
       "      <th>availability_Immediate Possession</th>\n",
       "      <th>availability_Ready To Move</th>\n",
       "    </tr>\n",
       "  </thead>\n",
       "  <tbody>\n",
       "    <tr>\n",
       "      <th>0</th>\n",
       "      <td>0</td>\n",
       "      <td>2870</td>\n",
       "      <td>Super built-up  Area</td>\n",
       "      <td>Ready To Move</td>\n",
       "      <td>Gopalkrishna Nagar</td>\n",
       "      <td>2 BHK</td>\n",
       "      <td>MJarlPe</td>\n",
       "      <td>1165</td>\n",
       "      <td>2.0</td>\n",
       "      <td>2.0</td>\n",
       "      <td>0.0</td>\n",
       "      <td>0.0</td>\n",
       "      <td>0.0</td>\n",
       "      <td>1.0</td>\n",
       "      <td>0.0</td>\n",
       "      <td>0.0</td>\n",
       "      <td>1.0</td>\n",
       "    </tr>\n",
       "    <tr>\n",
       "      <th>1</th>\n",
       "      <td>1</td>\n",
       "      <td>6114</td>\n",
       "      <td>Super built-up  Area</td>\n",
       "      <td>Ready To Move</td>\n",
       "      <td>NGR Layout</td>\n",
       "      <td>2 BHK</td>\n",
       "      <td>GrrvaGr</td>\n",
       "      <td>1019</td>\n",
       "      <td>2.0</td>\n",
       "      <td>1.0</td>\n",
       "      <td>0.0</td>\n",
       "      <td>0.0</td>\n",
       "      <td>0.0</td>\n",
       "      <td>1.0</td>\n",
       "      <td>0.0</td>\n",
       "      <td>0.0</td>\n",
       "      <td>1.0</td>\n",
       "    </tr>\n",
       "    <tr>\n",
       "      <th>2</th>\n",
       "      <td>2</td>\n",
       "      <td>5733</td>\n",
       "      <td>Super built-up  Area</td>\n",
       "      <td>Ready To Move</td>\n",
       "      <td>AECS Layout</td>\n",
       "      <td>2 BHK</td>\n",
       "      <td>CMhamai</td>\n",
       "      <td>1123</td>\n",
       "      <td>2.0</td>\n",
       "      <td>2.0</td>\n",
       "      <td>0.0</td>\n",
       "      <td>0.0</td>\n",
       "      <td>0.0</td>\n",
       "      <td>1.0</td>\n",
       "      <td>0.0</td>\n",
       "      <td>0.0</td>\n",
       "      <td>1.0</td>\n",
       "    </tr>\n",
       "    <tr>\n",
       "      <th>3</th>\n",
       "      <td>3</td>\n",
       "      <td>9378</td>\n",
       "      <td>Super built-up  Area</td>\n",
       "      <td>Delay</td>\n",
       "      <td>Basavangudi</td>\n",
       "      <td>2 BHK</td>\n",
       "      <td>GrrvaGr</td>\n",
       "      <td>1180</td>\n",
       "      <td>2.0</td>\n",
       "      <td>3.0</td>\n",
       "      <td>0.0</td>\n",
       "      <td>0.0</td>\n",
       "      <td>0.0</td>\n",
       "      <td>1.0</td>\n",
       "      <td>1.0</td>\n",
       "      <td>0.0</td>\n",
       "      <td>0.0</td>\n",
       "    </tr>\n",
       "    <tr>\n",
       "      <th>4</th>\n",
       "      <td>4</td>\n",
       "      <td>9301</td>\n",
       "      <td>Super built-up  Area</td>\n",
       "      <td>Ready To Move</td>\n",
       "      <td>Green View Layout</td>\n",
       "      <td>2 BHK</td>\n",
       "      <td>Makeser</td>\n",
       "      <td>1108</td>\n",
       "      <td>2.0</td>\n",
       "      <td>1.0</td>\n",
       "      <td>0.0</td>\n",
       "      <td>0.0</td>\n",
       "      <td>0.0</td>\n",
       "      <td>1.0</td>\n",
       "      <td>0.0</td>\n",
       "      <td>0.0</td>\n",
       "      <td>1.0</td>\n",
       "    </tr>\n",
       "  </tbody>\n",
       "</table>\n",
       "</div>"
      ],
      "text/plain": [
       "   level_0  index             area_type   availability            location  \\\n",
       "0        0   2870  Super built-up  Area  Ready To Move  Gopalkrishna Nagar   \n",
       "1        1   6114  Super built-up  Area  Ready To Move          NGR Layout   \n",
       "2        2   5733  Super built-up  Area  Ready To Move         AECS Layout   \n",
       "3        3   9378  Super built-up  Area          Delay         Basavangudi   \n",
       "4        4   9301  Super built-up  Area  Ready To Move   Green View Layout   \n",
       "\n",
       "    size  society total_sqft  bath  balcony  area_type_Built-up  Area  \\\n",
       "0  2 BHK  MJarlPe       1165   2.0      2.0                       0.0   \n",
       "1  2 BHK  GrrvaGr       1019   2.0      1.0                       0.0   \n",
       "2  2 BHK  CMhamai       1123   2.0      2.0                       0.0   \n",
       "3  2 BHK  GrrvaGr       1180   2.0      3.0                       0.0   \n",
       "4  2 BHK  Makeser       1108   2.0      1.0                       0.0   \n",
       "\n",
       "   area_type_Carpet  Area  area_type_Plot  Area  \\\n",
       "0                     0.0                   0.0   \n",
       "1                     0.0                   0.0   \n",
       "2                     0.0                   0.0   \n",
       "3                     0.0                   0.0   \n",
       "4                     0.0                   0.0   \n",
       "\n",
       "   area_type_Super built-up  Area  availability_Delay  \\\n",
       "0                             1.0                 0.0   \n",
       "1                             1.0                 0.0   \n",
       "2                             1.0                 0.0   \n",
       "3                             1.0                 1.0   \n",
       "4                             1.0                 0.0   \n",
       "\n",
       "   availability_Immediate Possession  availability_Ready To Move  \n",
       "0                                0.0                         1.0  \n",
       "1                                0.0                         1.0  \n",
       "2                                0.0                         1.0  \n",
       "3                                0.0                         0.0  \n",
       "4                                0.0                         1.0  "
      ]
     },
     "execution_count": 57,
     "metadata": {},
     "output_type": "execute_result"
    }
   ],
   "source": [
    "X_train_copy.head()"
   ]
  },
  {
   "cell_type": "code",
   "execution_count": 58,
   "id": "bc9c816f-0d27-48fc-9a75-c793bef99046",
   "metadata": {},
   "outputs": [
    {
     "data": {
      "text/html": [
       "<div>\n",
       "<style scoped>\n",
       "    .dataframe tbody tr th:only-of-type {\n",
       "        vertical-align: middle;\n",
       "    }\n",
       "\n",
       "    .dataframe tbody tr th {\n",
       "        vertical-align: top;\n",
       "    }\n",
       "\n",
       "    .dataframe thead th {\n",
       "        text-align: right;\n",
       "    }\n",
       "</style>\n",
       "<table border=\"1\" class=\"dataframe\">\n",
       "  <thead>\n",
       "    <tr style=\"text-align: right;\">\n",
       "      <th></th>\n",
       "      <th>index</th>\n",
       "      <th>area_type</th>\n",
       "      <th>availability</th>\n",
       "      <th>location</th>\n",
       "      <th>size</th>\n",
       "      <th>society</th>\n",
       "      <th>total_sqft</th>\n",
       "      <th>bath</th>\n",
       "      <th>balcony</th>\n",
       "      <th>area_type_Built-up  Area</th>\n",
       "      <th>area_type_Carpet  Area</th>\n",
       "      <th>area_type_Plot  Area</th>\n",
       "      <th>area_type_Super built-up  Area</th>\n",
       "      <th>availability_Delay</th>\n",
       "      <th>availability_Immediate Possession</th>\n",
       "      <th>availability_Ready To Move</th>\n",
       "    </tr>\n",
       "  </thead>\n",
       "  <tbody>\n",
       "    <tr>\n",
       "      <th>0</th>\n",
       "      <td>8077</td>\n",
       "      <td>Built-up  Area</td>\n",
       "      <td>Ready To Move</td>\n",
       "      <td>Banjara Layout</td>\n",
       "      <td>2 Bedroom</td>\n",
       "      <td>GrrvaGr</td>\n",
       "      <td>1050</td>\n",
       "      <td>2.0</td>\n",
       "      <td>1.0</td>\n",
       "      <td>1.0</td>\n",
       "      <td>0.0</td>\n",
       "      <td>0.0</td>\n",
       "      <td>0.0</td>\n",
       "      <td>0.0</td>\n",
       "      <td>0.0</td>\n",
       "      <td>1.0</td>\n",
       "    </tr>\n",
       "    <tr>\n",
       "      <th>1</th>\n",
       "      <td>1602</td>\n",
       "      <td>Super built-up  Area</td>\n",
       "      <td>Ready To Move</td>\n",
       "      <td>Rajiv Nagar</td>\n",
       "      <td>3 BHK</td>\n",
       "      <td>PuoodSk</td>\n",
       "      <td>1690</td>\n",
       "      <td>3.0</td>\n",
       "      <td>1.0</td>\n",
       "      <td>0.0</td>\n",
       "      <td>0.0</td>\n",
       "      <td>0.0</td>\n",
       "      <td>1.0</td>\n",
       "      <td>0.0</td>\n",
       "      <td>0.0</td>\n",
       "      <td>1.0</td>\n",
       "    </tr>\n",
       "    <tr>\n",
       "      <th>2</th>\n",
       "      <td>10498</td>\n",
       "      <td>Built-up  Area</td>\n",
       "      <td>Ready To Move</td>\n",
       "      <td>Hebbal</td>\n",
       "      <td>2 BHK</td>\n",
       "      <td>GrrvaGr</td>\n",
       "      <td>1100</td>\n",
       "      <td>2.0</td>\n",
       "      <td>1.0</td>\n",
       "      <td>1.0</td>\n",
       "      <td>0.0</td>\n",
       "      <td>0.0</td>\n",
       "      <td>0.0</td>\n",
       "      <td>0.0</td>\n",
       "      <td>0.0</td>\n",
       "      <td>1.0</td>\n",
       "    </tr>\n",
       "    <tr>\n",
       "      <th>3</th>\n",
       "      <td>3297</td>\n",
       "      <td>Plot  Area</td>\n",
       "      <td>Ready To Move</td>\n",
       "      <td>Munnekollal</td>\n",
       "      <td>6 Bedroom</td>\n",
       "      <td>GrrvaGr</td>\n",
       "      <td>1200</td>\n",
       "      <td>4.0</td>\n",
       "      <td>2.0</td>\n",
       "      <td>0.0</td>\n",
       "      <td>0.0</td>\n",
       "      <td>1.0</td>\n",
       "      <td>0.0</td>\n",
       "      <td>0.0</td>\n",
       "      <td>0.0</td>\n",
       "      <td>1.0</td>\n",
       "    </tr>\n",
       "    <tr>\n",
       "      <th>4</th>\n",
       "      <td>8893</td>\n",
       "      <td>Built-up  Area</td>\n",
       "      <td>Delay</td>\n",
       "      <td>Choodasandra</td>\n",
       "      <td>4 Bedroom</td>\n",
       "      <td>LGifeew</td>\n",
       "      <td>2429</td>\n",
       "      <td>3.0</td>\n",
       "      <td>1.0</td>\n",
       "      <td>1.0</td>\n",
       "      <td>0.0</td>\n",
       "      <td>0.0</td>\n",
       "      <td>0.0</td>\n",
       "      <td>1.0</td>\n",
       "      <td>0.0</td>\n",
       "      <td>0.0</td>\n",
       "    </tr>\n",
       "  </tbody>\n",
       "</table>\n",
       "</div>"
      ],
      "text/plain": [
       "   index             area_type   availability        location       size  \\\n",
       "0   8077        Built-up  Area  Ready To Move  Banjara Layout  2 Bedroom   \n",
       "1   1602  Super built-up  Area  Ready To Move     Rajiv Nagar      3 BHK   \n",
       "2  10498        Built-up  Area  Ready To Move          Hebbal      2 BHK   \n",
       "3   3297            Plot  Area  Ready To Move     Munnekollal  6 Bedroom   \n",
       "4   8893        Built-up  Area          Delay    Choodasandra  4 Bedroom   \n",
       "\n",
       "   society total_sqft  bath  balcony  area_type_Built-up  Area  \\\n",
       "0  GrrvaGr       1050   2.0      1.0                       1.0   \n",
       "1  PuoodSk       1690   3.0      1.0                       0.0   \n",
       "2  GrrvaGr       1100   2.0      1.0                       1.0   \n",
       "3  GrrvaGr       1200   4.0      2.0                       0.0   \n",
       "4  LGifeew       2429   3.0      1.0                       1.0   \n",
       "\n",
       "   area_type_Carpet  Area  area_type_Plot  Area  \\\n",
       "0                     0.0                   0.0   \n",
       "1                     0.0                   0.0   \n",
       "2                     0.0                   0.0   \n",
       "3                     0.0                   1.0   \n",
       "4                     0.0                   0.0   \n",
       "\n",
       "   area_type_Super built-up  Area  availability_Delay  \\\n",
       "0                             0.0                 0.0   \n",
       "1                             1.0                 0.0   \n",
       "2                             0.0                 0.0   \n",
       "3                             0.0                 0.0   \n",
       "4                             0.0                 1.0   \n",
       "\n",
       "   availability_Immediate Possession  availability_Ready To Move  \n",
       "0                                0.0                         1.0  \n",
       "1                                0.0                         1.0  \n",
       "2                                0.0                         1.0  \n",
       "3                                0.0                         1.0  \n",
       "4                                0.0                         0.0  "
      ]
     },
     "execution_count": 58,
     "metadata": {},
     "output_type": "execute_result"
    }
   ],
   "source": [
    "X_test_copy.head()"
   ]
  },
  {
   "cell_type": "code",
   "execution_count": 59,
   "id": "17973e5d-94bc-4ce8-b29c-1033158b7697",
   "metadata": {},
   "outputs": [],
   "source": [
    "## remove the column in both train and test\n",
    "deletecolumns=['index','area_type','availability','location','size','society']"
   ]
  },
  {
   "cell_type": "code",
   "execution_count": 65,
   "id": "80dfaf0c-0420-4ef0-889d-35db81ae151f",
   "metadata": {},
   "outputs": [],
   "source": [
    "for col in deletecolumns:\n",
    "    #X_train_copy.drop(col,axis=1,inplace=True)\n",
    "    X_test_copy.drop(col,axis=1,inplace=True)"
   ]
  },
  {
   "cell_type": "code",
   "execution_count": 67,
   "id": "0c4d004a-e235-4598-bda4-4810679ee1dc",
   "metadata": {},
   "outputs": [],
   "source": [
    "X_train_copy.head()\n",
    "X_train_copy.drop('level_0',axis=1,inplace=True)"
   ]
  },
  {
   "cell_type": "code",
   "execution_count": 68,
   "id": "27a4691c-e653-44fd-bd31-3de71eab7eb7",
   "metadata": {},
   "outputs": [
    {
     "data": {
      "text/html": [
       "<div>\n",
       "<style scoped>\n",
       "    .dataframe tbody tr th:only-of-type {\n",
       "        vertical-align: middle;\n",
       "    }\n",
       "\n",
       "    .dataframe tbody tr th {\n",
       "        vertical-align: top;\n",
       "    }\n",
       "\n",
       "    .dataframe thead th {\n",
       "        text-align: right;\n",
       "    }\n",
       "</style>\n",
       "<table border=\"1\" class=\"dataframe\">\n",
       "  <thead>\n",
       "    <tr style=\"text-align: right;\">\n",
       "      <th></th>\n",
       "      <th>total_sqft</th>\n",
       "      <th>bath</th>\n",
       "      <th>balcony</th>\n",
       "      <th>area_type_Built-up  Area</th>\n",
       "      <th>area_type_Carpet  Area</th>\n",
       "      <th>area_type_Plot  Area</th>\n",
       "      <th>area_type_Super built-up  Area</th>\n",
       "      <th>availability_Delay</th>\n",
       "      <th>availability_Immediate Possession</th>\n",
       "      <th>availability_Ready To Move</th>\n",
       "    </tr>\n",
       "  </thead>\n",
       "  <tbody>\n",
       "    <tr>\n",
       "      <th>0</th>\n",
       "      <td>1050</td>\n",
       "      <td>2.0</td>\n",
       "      <td>1.0</td>\n",
       "      <td>1.0</td>\n",
       "      <td>0.0</td>\n",
       "      <td>0.0</td>\n",
       "      <td>0.0</td>\n",
       "      <td>0.0</td>\n",
       "      <td>0.0</td>\n",
       "      <td>1.0</td>\n",
       "    </tr>\n",
       "    <tr>\n",
       "      <th>1</th>\n",
       "      <td>1690</td>\n",
       "      <td>3.0</td>\n",
       "      <td>1.0</td>\n",
       "      <td>0.0</td>\n",
       "      <td>0.0</td>\n",
       "      <td>0.0</td>\n",
       "      <td>1.0</td>\n",
       "      <td>0.0</td>\n",
       "      <td>0.0</td>\n",
       "      <td>1.0</td>\n",
       "    </tr>\n",
       "    <tr>\n",
       "      <th>2</th>\n",
       "      <td>1100</td>\n",
       "      <td>2.0</td>\n",
       "      <td>1.0</td>\n",
       "      <td>1.0</td>\n",
       "      <td>0.0</td>\n",
       "      <td>0.0</td>\n",
       "      <td>0.0</td>\n",
       "      <td>0.0</td>\n",
       "      <td>0.0</td>\n",
       "      <td>1.0</td>\n",
       "    </tr>\n",
       "    <tr>\n",
       "      <th>3</th>\n",
       "      <td>1200</td>\n",
       "      <td>4.0</td>\n",
       "      <td>2.0</td>\n",
       "      <td>0.0</td>\n",
       "      <td>0.0</td>\n",
       "      <td>1.0</td>\n",
       "      <td>0.0</td>\n",
       "      <td>0.0</td>\n",
       "      <td>0.0</td>\n",
       "      <td>1.0</td>\n",
       "    </tr>\n",
       "    <tr>\n",
       "      <th>4</th>\n",
       "      <td>2429</td>\n",
       "      <td>3.0</td>\n",
       "      <td>1.0</td>\n",
       "      <td>1.0</td>\n",
       "      <td>0.0</td>\n",
       "      <td>0.0</td>\n",
       "      <td>0.0</td>\n",
       "      <td>1.0</td>\n",
       "      <td>0.0</td>\n",
       "      <td>0.0</td>\n",
       "    </tr>\n",
       "  </tbody>\n",
       "</table>\n",
       "</div>"
      ],
      "text/plain": [
       "  total_sqft  bath  balcony  area_type_Built-up  Area  area_type_Carpet  Area  \\\n",
       "0       1050   2.0      1.0                       1.0                     0.0   \n",
       "1       1690   3.0      1.0                       0.0                     0.0   \n",
       "2       1100   2.0      1.0                       1.0                     0.0   \n",
       "3       1200   4.0      2.0                       0.0                     0.0   \n",
       "4       2429   3.0      1.0                       1.0                     0.0   \n",
       "\n",
       "   area_type_Plot  Area  area_type_Super built-up  Area  availability_Delay  \\\n",
       "0                   0.0                             0.0                 0.0   \n",
       "1                   0.0                             1.0                 0.0   \n",
       "2                   0.0                             0.0                 0.0   \n",
       "3                   1.0                             0.0                 0.0   \n",
       "4                   0.0                             0.0                 1.0   \n",
       "\n",
       "   availability_Immediate Possession  availability_Ready To Move  \n",
       "0                                0.0                         1.0  \n",
       "1                                0.0                         1.0  \n",
       "2                                0.0                         1.0  \n",
       "3                                0.0                         1.0  \n",
       "4                                0.0                         0.0  "
      ]
     },
     "execution_count": 68,
     "metadata": {},
     "output_type": "execute_result"
    }
   ],
   "source": [
    "X_test_copy.head()"
   ]
  },
  {
   "cell_type": "code",
   "execution_count": 84,
   "id": "c836fe4d-215a-449d-b77d-4900879413ef",
   "metadata": {},
   "outputs": [
    {
     "name": "stdout",
     "output_type": "stream",
     "text": [
      "<class 'pandas.core.frame.DataFrame'>\n",
      "RangeIndex: 8924 entries, 0 to 8923\n",
      "Data columns (total 10 columns):\n",
      " #   Column                             Non-Null Count  Dtype  \n",
      "---  ------                             --------------  -----  \n",
      " 0   total_sqft                         8924 non-null   object \n",
      " 1   bath                               8924 non-null   float64\n",
      " 2   balcony                            8924 non-null   float64\n",
      " 3   area_type_Built-up  Area           8924 non-null   float64\n",
      " 4   area_type_Carpet  Area             8924 non-null   float64\n",
      " 5   area_type_Plot  Area               8924 non-null   float64\n",
      " 6   area_type_Super built-up  Area     8924 non-null   float64\n",
      " 7   availability_Delay                 8924 non-null   float64\n",
      " 8   availability_Immediate Possession  8924 non-null   float64\n",
      " 9   availability_Ready To Move         8924 non-null   float64\n",
      "dtypes: float64(9), object(1)\n",
      "memory usage: 697.3+ KB\n"
     ]
    }
   ],
   "source": [
    "X_train_copy.info()"
   ]
  },
  {
   "cell_type": "code",
   "execution_count": 78,
   "id": "3314d62c-8e6b-4b7b-b0fa-4557acbfd89f",
   "metadata": {},
   "outputs": [],
   "source": [
    "## supprt vector classifier"
   ]
  },
  {
   "cell_type": "code",
   "execution_count": 135,
   "id": "8e7f03f9-16a0-4842-9b5c-7f45be27c4de",
   "metadata": {},
   "outputs": [],
   "source": [
    "from sklearn.svm import SVR"
   ]
  },
  {
   "cell_type": "code",
   "execution_count": 136,
   "id": "01b65086-0c9c-4252-a510-52e4c8a5548f",
   "metadata": {},
   "outputs": [],
   "source": [
    "svr=SVR(kernel='linear')"
   ]
  },
  {
   "cell_type": "code",
   "execution_count": 96,
   "id": "330632f4-ca6c-4c8b-8932-93e953e1327c",
   "metadata": {},
   "outputs": [
    {
     "data": {
      "text/html": [
       "<div>\n",
       "<style scoped>\n",
       "    .dataframe tbody tr th:only-of-type {\n",
       "        vertical-align: middle;\n",
       "    }\n",
       "\n",
       "    .dataframe tbody tr th {\n",
       "        vertical-align: top;\n",
       "    }\n",
       "\n",
       "    .dataframe thead th {\n",
       "        text-align: right;\n",
       "    }\n",
       "</style>\n",
       "<table border=\"1\" class=\"dataframe\">\n",
       "  <thead>\n",
       "    <tr style=\"text-align: right;\">\n",
       "      <th></th>\n",
       "      <th>total_sqft</th>\n",
       "      <th>bath</th>\n",
       "      <th>balcony</th>\n",
       "      <th>area_type_Built-up  Area</th>\n",
       "      <th>area_type_Carpet  Area</th>\n",
       "      <th>area_type_Plot  Area</th>\n",
       "      <th>area_type_Super built-up  Area</th>\n",
       "      <th>availability_Delay</th>\n",
       "      <th>availability_Immediate Possession</th>\n",
       "      <th>availability_Ready To Move</th>\n",
       "    </tr>\n",
       "  </thead>\n",
       "  <tbody>\n",
       "    <tr>\n",
       "      <th>13</th>\n",
       "      <td>1005.03 - 1252.49</td>\n",
       "      <td>3.0</td>\n",
       "      <td>0.000000</td>\n",
       "      <td>0.0</td>\n",
       "      <td>1.0</td>\n",
       "      <td>0.0</td>\n",
       "      <td>0.0</td>\n",
       "      <td>0.0</td>\n",
       "      <td>0.0</td>\n",
       "      <td>1.0</td>\n",
       "    </tr>\n",
       "    <tr>\n",
       "      <th>40</th>\n",
       "      <td>1200 - 1800</td>\n",
       "      <td>2.0</td>\n",
       "      <td>1.584376</td>\n",
       "      <td>0.0</td>\n",
       "      <td>0.0</td>\n",
       "      <td>1.0</td>\n",
       "      <td>0.0</td>\n",
       "      <td>0.0</td>\n",
       "      <td>1.0</td>\n",
       "      <td>0.0</td>\n",
       "    </tr>\n",
       "    <tr>\n",
       "      <th>132</th>\n",
       "      <td>1430 - 1630</td>\n",
       "      <td>2.0</td>\n",
       "      <td>1.584376</td>\n",
       "      <td>0.0</td>\n",
       "      <td>0.0</td>\n",
       "      <td>0.0</td>\n",
       "      <td>1.0</td>\n",
       "      <td>0.0</td>\n",
       "      <td>0.0</td>\n",
       "      <td>1.0</td>\n",
       "    </tr>\n",
       "    <tr>\n",
       "      <th>152</th>\n",
       "      <td>540 - 565</td>\n",
       "      <td>1.0</td>\n",
       "      <td>0.000000</td>\n",
       "      <td>0.0</td>\n",
       "      <td>0.0</td>\n",
       "      <td>0.0</td>\n",
       "      <td>1.0</td>\n",
       "      <td>1.0</td>\n",
       "      <td>0.0</td>\n",
       "      <td>0.0</td>\n",
       "    </tr>\n",
       "    <tr>\n",
       "      <th>308</th>\n",
       "      <td>2695 - 2940</td>\n",
       "      <td>2.0</td>\n",
       "      <td>1.584376</td>\n",
       "      <td>0.0</td>\n",
       "      <td>0.0</td>\n",
       "      <td>0.0</td>\n",
       "      <td>1.0</td>\n",
       "      <td>1.0</td>\n",
       "      <td>0.0</td>\n",
       "      <td>0.0</td>\n",
       "    </tr>\n",
       "    <tr>\n",
       "      <th>...</th>\n",
       "      <td>...</td>\n",
       "      <td>...</td>\n",
       "      <td>...</td>\n",
       "      <td>...</td>\n",
       "      <td>...</td>\n",
       "      <td>...</td>\n",
       "      <td>...</td>\n",
       "      <td>...</td>\n",
       "      <td>...</td>\n",
       "      <td>...</td>\n",
       "    </tr>\n",
       "    <tr>\n",
       "      <th>8760</th>\n",
       "      <td>547.34 - 827.31</td>\n",
       "      <td>2.0</td>\n",
       "      <td>0.000000</td>\n",
       "      <td>0.0</td>\n",
       "      <td>1.0</td>\n",
       "      <td>0.0</td>\n",
       "      <td>0.0</td>\n",
       "      <td>1.0</td>\n",
       "      <td>0.0</td>\n",
       "      <td>0.0</td>\n",
       "    </tr>\n",
       "    <tr>\n",
       "      <th>8839</th>\n",
       "      <td>1750 - 2640</td>\n",
       "      <td>2.0</td>\n",
       "      <td>1.584376</td>\n",
       "      <td>0.0</td>\n",
       "      <td>0.0</td>\n",
       "      <td>0.0</td>\n",
       "      <td>1.0</td>\n",
       "      <td>1.0</td>\n",
       "      <td>0.0</td>\n",
       "      <td>0.0</td>\n",
       "    </tr>\n",
       "    <tr>\n",
       "      <th>8840</th>\n",
       "      <td>1804 - 2273</td>\n",
       "      <td>3.0</td>\n",
       "      <td>0.000000</td>\n",
       "      <td>0.0</td>\n",
       "      <td>0.0</td>\n",
       "      <td>0.0</td>\n",
       "      <td>1.0</td>\n",
       "      <td>1.0</td>\n",
       "      <td>0.0</td>\n",
       "      <td>0.0</td>\n",
       "    </tr>\n",
       "    <tr>\n",
       "      <th>8875</th>\n",
       "      <td>1210 - 1477</td>\n",
       "      <td>3.0</td>\n",
       "      <td>0.000000</td>\n",
       "      <td>0.0</td>\n",
       "      <td>0.0</td>\n",
       "      <td>0.0</td>\n",
       "      <td>1.0</td>\n",
       "      <td>1.0</td>\n",
       "      <td>0.0</td>\n",
       "      <td>0.0</td>\n",
       "    </tr>\n",
       "    <tr>\n",
       "      <th>8879</th>\n",
       "      <td>1440 - 1884</td>\n",
       "      <td>2.0</td>\n",
       "      <td>1.584376</td>\n",
       "      <td>0.0</td>\n",
       "      <td>0.0</td>\n",
       "      <td>0.0</td>\n",
       "      <td>1.0</td>\n",
       "      <td>1.0</td>\n",
       "      <td>0.0</td>\n",
       "      <td>0.0</td>\n",
       "    </tr>\n",
       "  </tbody>\n",
       "</table>\n",
       "<p>136 rows × 10 columns</p>\n",
       "</div>"
      ],
      "text/plain": [
       "             total_sqft  bath   balcony  area_type_Built-up  Area  \\\n",
       "13    1005.03 - 1252.49   3.0  0.000000                       0.0   \n",
       "40          1200 - 1800   2.0  1.584376                       0.0   \n",
       "132         1430 - 1630   2.0  1.584376                       0.0   \n",
       "152           540 - 565   1.0  0.000000                       0.0   \n",
       "308         2695 - 2940   2.0  1.584376                       0.0   \n",
       "...                 ...   ...       ...                       ...   \n",
       "8760    547.34 - 827.31   2.0  0.000000                       0.0   \n",
       "8839        1750 - 2640   2.0  1.584376                       0.0   \n",
       "8840        1804 - 2273   3.0  0.000000                       0.0   \n",
       "8875        1210 - 1477   3.0  0.000000                       0.0   \n",
       "8879        1440 - 1884   2.0  1.584376                       0.0   \n",
       "\n",
       "      area_type_Carpet  Area  area_type_Plot  Area  \\\n",
       "13                       1.0                   0.0   \n",
       "40                       0.0                   1.0   \n",
       "132                      0.0                   0.0   \n",
       "152                      0.0                   0.0   \n",
       "308                      0.0                   0.0   \n",
       "...                      ...                   ...   \n",
       "8760                     1.0                   0.0   \n",
       "8839                     0.0                   0.0   \n",
       "8840                     0.0                   0.0   \n",
       "8875                     0.0                   0.0   \n",
       "8879                     0.0                   0.0   \n",
       "\n",
       "      area_type_Super built-up  Area  availability_Delay  \\\n",
       "13                               0.0                 0.0   \n",
       "40                               0.0                 0.0   \n",
       "132                              1.0                 0.0   \n",
       "152                              1.0                 1.0   \n",
       "308                              1.0                 1.0   \n",
       "...                              ...                 ...   \n",
       "8760                             0.0                 1.0   \n",
       "8839                             1.0                 1.0   \n",
       "8840                             1.0                 1.0   \n",
       "8875                             1.0                 1.0   \n",
       "8879                             1.0                 1.0   \n",
       "\n",
       "      availability_Immediate Possession  availability_Ready To Move  \n",
       "13                                  0.0                         1.0  \n",
       "40                                  1.0                         0.0  \n",
       "132                                 0.0                         1.0  \n",
       "152                                 0.0                         0.0  \n",
       "308                                 0.0                         0.0  \n",
       "...                                 ...                         ...  \n",
       "8760                                0.0                         0.0  \n",
       "8839                                0.0                         0.0  \n",
       "8840                                0.0                         0.0  \n",
       "8875                                0.0                         0.0  \n",
       "8879                                0.0                         0.0  \n",
       "\n",
       "[136 rows x 10 columns]"
      ]
     },
     "execution_count": 96,
     "metadata": {},
     "output_type": "execute_result"
    }
   ],
   "source": [
    "X_train_copy[X_train_copy['total_sqft'].str.contains('-')]"
   ]
  },
  {
   "cell_type": "code",
   "execution_count": 97,
   "id": "f687d246-dd37-426f-bb4f-58be361c1de2",
   "metadata": {},
   "outputs": [
    {
     "data": {
      "text/html": [
       "<div>\n",
       "<style scoped>\n",
       "    .dataframe tbody tr th:only-of-type {\n",
       "        vertical-align: middle;\n",
       "    }\n",
       "\n",
       "    .dataframe tbody tr th {\n",
       "        vertical-align: top;\n",
       "    }\n",
       "\n",
       "    .dataframe thead th {\n",
       "        text-align: right;\n",
       "    }\n",
       "</style>\n",
       "<table border=\"1\" class=\"dataframe\">\n",
       "  <thead>\n",
       "    <tr style=\"text-align: right;\">\n",
       "      <th></th>\n",
       "      <th>total_sqft</th>\n",
       "      <th>bath</th>\n",
       "      <th>balcony</th>\n",
       "      <th>area_type_Built-up  Area</th>\n",
       "      <th>area_type_Carpet  Area</th>\n",
       "      <th>area_type_Plot  Area</th>\n",
       "      <th>area_type_Super built-up  Area</th>\n",
       "      <th>availability_Delay</th>\n",
       "      <th>availability_Immediate Possession</th>\n",
       "      <th>availability_Ready To Move</th>\n",
       "    </tr>\n",
       "  </thead>\n",
       "  <tbody>\n",
       "    <tr>\n",
       "      <th>131</th>\n",
       "      <td>3630 - 3800</td>\n",
       "      <td>6.0</td>\n",
       "      <td>0.000000</td>\n",
       "      <td>0.0</td>\n",
       "      <td>0.0</td>\n",
       "      <td>0.0</td>\n",
       "      <td>1.0</td>\n",
       "      <td>0.0</td>\n",
       "      <td>0.0</td>\n",
       "      <td>1.0</td>\n",
       "    </tr>\n",
       "    <tr>\n",
       "      <th>183</th>\n",
       "      <td>1255 - 1350</td>\n",
       "      <td>2.0</td>\n",
       "      <td>0.000000</td>\n",
       "      <td>0.0</td>\n",
       "      <td>0.0</td>\n",
       "      <td>0.0</td>\n",
       "      <td>1.0</td>\n",
       "      <td>1.0</td>\n",
       "      <td>0.0</td>\n",
       "      <td>0.0</td>\n",
       "    </tr>\n",
       "    <tr>\n",
       "      <th>240</th>\n",
       "      <td>381 - 535</td>\n",
       "      <td>1.0</td>\n",
       "      <td>0.000000</td>\n",
       "      <td>0.0</td>\n",
       "      <td>1.0</td>\n",
       "      <td>0.0</td>\n",
       "      <td>0.0</td>\n",
       "      <td>1.0</td>\n",
       "      <td>0.0</td>\n",
       "      <td>0.0</td>\n",
       "    </tr>\n",
       "    <tr>\n",
       "      <th>429</th>\n",
       "      <td>888 - 1290</td>\n",
       "      <td>2.0</td>\n",
       "      <td>0.000000</td>\n",
       "      <td>0.0</td>\n",
       "      <td>0.0</td>\n",
       "      <td>0.0</td>\n",
       "      <td>1.0</td>\n",
       "      <td>1.0</td>\n",
       "      <td>0.0</td>\n",
       "      <td>0.0</td>\n",
       "    </tr>\n",
       "    <tr>\n",
       "      <th>552</th>\n",
       "      <td>1974 - 2171</td>\n",
       "      <td>2.0</td>\n",
       "      <td>1.584376</td>\n",
       "      <td>0.0</td>\n",
       "      <td>0.0</td>\n",
       "      <td>0.0</td>\n",
       "      <td>1.0</td>\n",
       "      <td>1.0</td>\n",
       "      <td>0.0</td>\n",
       "      <td>0.0</td>\n",
       "    </tr>\n",
       "    <tr>\n",
       "      <th>...</th>\n",
       "      <td>...</td>\n",
       "      <td>...</td>\n",
       "      <td>...</td>\n",
       "      <td>...</td>\n",
       "      <td>...</td>\n",
       "      <td>...</td>\n",
       "      <td>...</td>\n",
       "      <td>...</td>\n",
       "      <td>...</td>\n",
       "      <td>...</td>\n",
       "    </tr>\n",
       "    <tr>\n",
       "      <th>4273</th>\n",
       "      <td>3010 - 3410</td>\n",
       "      <td>2.0</td>\n",
       "      <td>1.584376</td>\n",
       "      <td>1.0</td>\n",
       "      <td>0.0</td>\n",
       "      <td>0.0</td>\n",
       "      <td>0.0</td>\n",
       "      <td>1.0</td>\n",
       "      <td>0.0</td>\n",
       "      <td>0.0</td>\n",
       "    </tr>\n",
       "    <tr>\n",
       "      <th>4293</th>\n",
       "      <td>1482 - 1846</td>\n",
       "      <td>2.0</td>\n",
       "      <td>1.584376</td>\n",
       "      <td>0.0</td>\n",
       "      <td>0.0</td>\n",
       "      <td>0.0</td>\n",
       "      <td>1.0</td>\n",
       "      <td>1.0</td>\n",
       "      <td>0.0</td>\n",
       "      <td>0.0</td>\n",
       "    </tr>\n",
       "    <tr>\n",
       "      <th>4304</th>\n",
       "      <td>1400 - 1421</td>\n",
       "      <td>2.0</td>\n",
       "      <td>0.000000</td>\n",
       "      <td>0.0</td>\n",
       "      <td>0.0</td>\n",
       "      <td>0.0</td>\n",
       "      <td>1.0</td>\n",
       "      <td>1.0</td>\n",
       "      <td>0.0</td>\n",
       "      <td>0.0</td>\n",
       "    </tr>\n",
       "    <tr>\n",
       "      <th>4319</th>\n",
       "      <td>934 - 1437</td>\n",
       "      <td>2.0</td>\n",
       "      <td>0.000000</td>\n",
       "      <td>0.0</td>\n",
       "      <td>0.0</td>\n",
       "      <td>0.0</td>\n",
       "      <td>1.0</td>\n",
       "      <td>1.0</td>\n",
       "      <td>0.0</td>\n",
       "      <td>0.0</td>\n",
       "    </tr>\n",
       "    <tr>\n",
       "      <th>4384</th>\n",
       "      <td>1310 - 1615</td>\n",
       "      <td>2.0</td>\n",
       "      <td>1.584376</td>\n",
       "      <td>0.0</td>\n",
       "      <td>0.0</td>\n",
       "      <td>0.0</td>\n",
       "      <td>1.0</td>\n",
       "      <td>1.0</td>\n",
       "      <td>0.0</td>\n",
       "      <td>0.0</td>\n",
       "    </tr>\n",
       "  </tbody>\n",
       "</table>\n",
       "<p>65 rows × 10 columns</p>\n",
       "</div>"
      ],
      "text/plain": [
       "       total_sqft  bath   balcony  area_type_Built-up  Area  \\\n",
       "131   3630 - 3800   6.0  0.000000                       0.0   \n",
       "183   1255 - 1350   2.0  0.000000                       0.0   \n",
       "240     381 - 535   1.0  0.000000                       0.0   \n",
       "429    888 - 1290   2.0  0.000000                       0.0   \n",
       "552   1974 - 2171   2.0  1.584376                       0.0   \n",
       "...           ...   ...       ...                       ...   \n",
       "4273  3010 - 3410   2.0  1.584376                       1.0   \n",
       "4293  1482 - 1846   2.0  1.584376                       0.0   \n",
       "4304  1400 - 1421   2.0  0.000000                       0.0   \n",
       "4319   934 - 1437   2.0  0.000000                       0.0   \n",
       "4384  1310 - 1615   2.0  1.584376                       0.0   \n",
       "\n",
       "      area_type_Carpet  Area  area_type_Plot  Area  \\\n",
       "131                      0.0                   0.0   \n",
       "183                      0.0                   0.0   \n",
       "240                      1.0                   0.0   \n",
       "429                      0.0                   0.0   \n",
       "552                      0.0                   0.0   \n",
       "...                      ...                   ...   \n",
       "4273                     0.0                   0.0   \n",
       "4293                     0.0                   0.0   \n",
       "4304                     0.0                   0.0   \n",
       "4319                     0.0                   0.0   \n",
       "4384                     0.0                   0.0   \n",
       "\n",
       "      area_type_Super built-up  Area  availability_Delay  \\\n",
       "131                              1.0                 0.0   \n",
       "183                              1.0                 1.0   \n",
       "240                              0.0                 1.0   \n",
       "429                              1.0                 1.0   \n",
       "552                              1.0                 1.0   \n",
       "...                              ...                 ...   \n",
       "4273                             0.0                 1.0   \n",
       "4293                             1.0                 1.0   \n",
       "4304                             1.0                 1.0   \n",
       "4319                             1.0                 1.0   \n",
       "4384                             1.0                 1.0   \n",
       "\n",
       "      availability_Immediate Possession  availability_Ready To Move  \n",
       "131                                 0.0                         1.0  \n",
       "183                                 0.0                         0.0  \n",
       "240                                 0.0                         0.0  \n",
       "429                                 0.0                         0.0  \n",
       "552                                 0.0                         0.0  \n",
       "...                                 ...                         ...  \n",
       "4273                                0.0                         0.0  \n",
       "4293                                0.0                         0.0  \n",
       "4304                                0.0                         0.0  \n",
       "4319                                0.0                         0.0  \n",
       "4384                                0.0                         0.0  \n",
       "\n",
       "[65 rows x 10 columns]"
      ]
     },
     "execution_count": 97,
     "metadata": {},
     "output_type": "execute_result"
    }
   ],
   "source": [
    "X_test_copy[X_test_copy['total_sqft'].str.contains('-')]"
   ]
  },
  {
   "cell_type": "code",
   "execution_count": 99,
   "id": "294cff6a-11b9-4703-bf01-988b4ce84dca",
   "metadata": {},
   "outputs": [],
   "source": [
    "X_train_copy['total_sqft']=X_train_copy['total_sqft'].str.split('-').str[0]"
   ]
  },
  {
   "cell_type": "code",
   "execution_count": 100,
   "id": "5060e2aa-c4be-4539-8e59-477b1a94f9e7",
   "metadata": {},
   "outputs": [],
   "source": [
    "X_test_copy['total_sqft']=X_test_copy['total_sqft'].str.split('-').str[0]"
   ]
  },
  {
   "cell_type": "code",
   "execution_count": 103,
   "id": "8e033a29-1efa-49a0-b7f7-4d5d1c2b82ab",
   "metadata": {},
   "outputs": [
    {
     "data": {
      "text/plain": [
       "array([ 75.  ,  45.9 ,  64.  , ...,  30.88, 244.  ,  71.13])"
      ]
     },
     "execution_count": 103,
     "metadata": {},
     "output_type": "execute_result"
    }
   ],
   "source": [
    "y_train.unique()"
   ]
  },
  {
   "cell_type": "code",
   "execution_count": 140,
   "id": "445536af-99c0-48e6-98a0-a842859f93b4",
   "metadata": {},
   "outputs": [],
   "source": [
    "y_train=y_train.replace('24Guntha',y_train.median())"
   ]
  },
  {
   "cell_type": "code",
   "execution_count": 142,
   "id": "d6b24113-6c5f-46f2-a4d8-f7aaac3c1a5f",
   "metadata": {},
   "outputs": [
    {
     "data": {
      "text/plain": [
       "2870      75.0\n",
       "6114      45.9\n",
       "5733      64.0\n",
       "9378     124.0\n",
       "9301      48.0\n",
       "         ...  \n",
       "11964     99.0\n",
       "5191     120.0\n",
       "5390      48.5\n",
       "860      125.0\n",
       "7270      90.0\n",
       "Name: price, Length: 8924, dtype: float64"
      ]
     },
     "execution_count": 142,
     "metadata": {},
     "output_type": "execute_result"
    }
   ],
   "source": [
    "y_train"
   ]
  },
  {
   "cell_type": "code",
   "execution_count": 138,
   "id": "830e57f3-fd23-4c17-9a0c-0ec44bef6a2d",
   "metadata": {},
   "outputs": [],
   "source": [
    "y_test=y_test.replace('24Guntha',y_train.median())"
   ]
  },
  {
   "cell_type": "code",
   "execution_count": 143,
   "id": "25b812b3-b7bf-43a8-a4af-977a5c96fd68",
   "metadata": {},
   "outputs": [
    {
     "data": {
      "text/plain": [
       "8077      64.8\n",
       "1602     125.0\n",
       "10498     60.0\n",
       "3297     110.0\n",
       "8893     210.0\n",
       "         ...  \n",
       "292       45.0\n",
       "2836      89.0\n",
       "9743      65.0\n",
       "5960      69.0\n",
       "10280     70.0\n",
       "Name: price, Length: 4396, dtype: float64"
      ]
     },
     "execution_count": 143,
     "metadata": {},
     "output_type": "execute_result"
    }
   ],
   "source": [
    "y_test"
   ]
  },
  {
   "cell_type": "code",
   "execution_count": null,
   "id": "7d032ee1-1580-46e0-b4e1-17553b67d6ec",
   "metadata": {},
   "outputs": [],
   "source": [
    "## total_sqfthave 24Guntha values"
   ]
  },
  {
   "cell_type": "code",
   "execution_count": null,
   "id": "1af0ac11-9f59-4a68-9f40-73fca0951b89",
   "metadata": {},
   "outputs": [],
   "source": [
    "for i in X_train_copy.columns:\n",
    "    check=X_train_copy[X_train_copy[i]=='24Guntha']\n",
    "    print(check)"
   ]
  },
  {
   "cell_type": "code",
   "execution_count": 165,
   "id": "203ba9c8-d18a-4811-896c-9f431b2357d5",
   "metadata": {},
   "outputs": [],
   "source": [
    "X_train_copy['total_sqft']=X_train_copy['total_sqft'].replace('24Guntha',1165)"
   ]
  },
  {
   "cell_type": "code",
   "execution_count": 168,
   "id": "92948722-9ebb-47f5-8ec4-8d45ba5630eb",
   "metadata": {},
   "outputs": [
    {
     "data": {
      "text/plain": [
       "array(['1165', '1019', '1123', ..., '3161', '1437', '1493'], dtype=object)"
      ]
     },
     "execution_count": 168,
     "metadata": {},
     "output_type": "execute_result"
    }
   ],
   "source": [
    "X_train_copy['total_sqft'].unique()"
   ]
  },
  {
   "cell_type": "code",
   "execution_count": 174,
   "id": "5a1ed300-d7be-48ef-b087-8c5ee7a1209a",
   "metadata": {},
   "outputs": [
    {
     "data": {
      "text/plain": [
       "0       1165\n",
       "1       1019\n",
       "2       1123\n",
       "3       1180\n",
       "4       1108\n",
       "        ... \n",
       "8919    1200\n",
       "8920    1559\n",
       "8921    1060\n",
       "8922    1200\n",
       "8923    1885\n",
       "Name: total_sqft, Length: 8924, dtype: object"
      ]
     },
     "execution_count": 174,
     "metadata": {},
     "output_type": "execute_result"
    }
   ],
   "source": [
    "X_train_copy['total_sqft']"
   ]
  },
  {
   "cell_type": "code",
   "execution_count": 180,
   "id": "7c89a3a2-9f3f-4f7a-b5fd-74c377e72762",
   "metadata": {},
   "outputs": [
    {
     "data": {
      "text/plain": [
       "0    1200\n",
       "Name: total_sqft, dtype: object"
      ]
     },
     "execution_count": 180,
     "metadata": {},
     "output_type": "execute_result"
    }
   ],
   "source": [
    "X_train_copy['total_sqft'].mode()"
   ]
  },
  {
   "cell_type": "code",
   "execution_count": 181,
   "id": "c0d61070-6493-44a6-b918-03407548b16f",
   "metadata": {},
   "outputs": [
    {
     "data": {
      "text/plain": [
       "0    1200\n",
       "Name: total_sqft, dtype: object"
      ]
     },
     "execution_count": 181,
     "metadata": {},
     "output_type": "execute_result"
    }
   ],
   "source": [
    "X_test_copy['total_sqft'].mode()"
   ]
  },
  {
   "cell_type": "code",
   "execution_count": 202,
   "id": "386289c4-58ea-438e-8040-f9e7f8b01cfd",
   "metadata": {},
   "outputs": [],
   "source": [
    "X_train_copy['total_sqft']=X_train_copy['total_sqft'].apply(numchec)"
   ]
  },
  {
   "cell_type": "code",
   "execution_count": 203,
   "id": "154d987b-f956-4a1b-8b1f-081f64d4b735",
   "metadata": {},
   "outputs": [],
   "source": [
    "X_test_copy['total_sqft']=X_test_copy['total_sqft'].apply(numchec)"
   ]
  },
  {
   "cell_type": "code",
   "execution_count": 201,
   "id": "0803d7b6-da18-4ee5-86e0-54761c7879ac",
   "metadata": {},
   "outputs": [],
   "source": [
    "def numchec(value):\n",
    "    if type(value)==int:\n",
    "        return value\n",
    "    else:\n",
    "        return int(1200)"
   ]
  },
  {
   "cell_type": "code",
   "execution_count": 204,
   "id": "cbe90200-dc0a-4106-8846-38b44195bab0",
   "metadata": {},
   "outputs": [
    {
     "data": {
      "text/plain": [
       "SVR(kernel='linear')"
      ]
     },
     "execution_count": 204,
     "metadata": {},
     "output_type": "execute_result"
    }
   ],
   "source": [
    "svr.fit(X_train_copy,y_train)"
   ]
  },
  {
   "cell_type": "code",
   "execution_count": 205,
   "id": "943eb3d1-ee32-4581-893e-8568d084bca4",
   "metadata": {},
   "outputs": [],
   "source": [
    "y_precict=svr.predict(X_test_copy)"
   ]
  },
  {
   "cell_type": "code",
   "execution_count": 209,
   "id": "acb1ed7f-aacd-4324-a1ec-bf821119b2fb",
   "metadata": {},
   "outputs": [],
   "source": [
    "from sklearn.metrics import r2_score"
   ]
  },
  {
   "cell_type": "code",
   "execution_count": 210,
   "id": "9b3e5c8b-7665-41c4-a7e4-9ea3911f14de",
   "metadata": {},
   "outputs": [
    {
     "name": "stdout",
     "output_type": "stream",
     "text": [
      "0.1973512489411141\n"
     ]
    }
   ],
   "source": [
    "print(r2_score(y_test,y_precict))"
   ]
  },
  {
   "cell_type": "code",
   "execution_count": null,
   "id": "cd8bb557-cef2-408d-bc5e-499bb910c63b",
   "metadata": {},
   "outputs": [],
   "source": []
  }
 ],
 "metadata": {
  "kernelspec": {
   "display_name": "Python 3 (ipykernel)",
   "language": "python",
   "name": "python3"
  },
  "language_info": {
   "codemirror_mode": {
    "name": "ipython",
    "version": 3
   },
   "file_extension": ".py",
   "mimetype": "text/x-python",
   "name": "python",
   "nbconvert_exporter": "python",
   "pygments_lexer": "ipython3",
   "version": "3.9.12"
  }
 },
 "nbformat": 4,
 "nbformat_minor": 5
}
