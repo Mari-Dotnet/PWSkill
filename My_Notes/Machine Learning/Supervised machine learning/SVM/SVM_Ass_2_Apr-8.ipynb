{
 "cells": [
  {
   "cell_type": "markdown",
   "id": "d76e9343-942a-4a76-ae7b-d25a29ecded7",
   "metadata": {},
   "source": [
    "#### Q1. What is the relationship between polynomial functions and kernel functions in machine learning algorithms?\n",
    "\n",
    "- Kernal function used to increase diamensonity and of the class spaces and get the proper output"
   ]
  },
  {
   "cell_type": "markdown",
   "id": "30fc595c-c443-44f8-8663-18877a292d4b",
   "metadata": {},
   "source": [
    "### Q2. How can we implement an SVM with a polynomial kernel in Python using Scikit-learn?\n",
    "from sklearn.svm import SVC\n",
    "\n",
    "svc=SVC(kernel='poly')\n",
    "- Its convert the lower diamensional to higher diamensional space it easier to seprate the calsses"
   ]
  },
  {
   "cell_type": "markdown",
   "id": "392b834c-06f3-4b2f-94c0-414c7d76cc75",
   "metadata": {},
   "source": [
    "#### Q3. How does increasing the value of epsilon affect the number of support vectors in SVR?\n",
    "-  Epsilon in the epsilon-SVR model. It specifies the epsilon-tube within which no penalty is associated in the training loss function with points predicted within a distance epsilon from the actual  value."
   ]
  },
  {
   "cell_type": "markdown",
   "id": "5e3fdbcc-737d-4e71-bca2-567e99a456e5",
   "metadata": {},
   "source": [
    "##### Q4. How does the choice of kernel function, C parameter, epsilon parameter, and gamma parameter affect the performance of Support Vector Regression (SVR)? Can you explain how each parameter works and provide examples of when you might want to increase or decrease its value?\n",
    "\n",
    "- Kernel Function:\n",
    "    - A kernel function is a mathematical function used to map input data into a higher-dimensional space, where it can be more easily separated. The choice of kernel function can have a significant impact on the performance of the SVR model. \n",
    "    \n",
    "- C Parameter:\n",
    "    - The C parameter controls the trade-off between minimizing the training error and maximizing the margin. A larger C value leads to a smaller margin and may result in overfitting, whereas a smaller C value leads to a larger margin and may result in underfitting.\n",
    "    \n",
    "- Epsilon Parameter\n",
    "    - If the model is underfitting, try increasing the epsilon value to allow for more error in the predictions.\n",
    "    - If the model is overfitting, try decreasing the epsilon value to reduce the amount of error allowed in the predictions.\n",
    " \n",
    "- Gamma Parameter:\n",
    "    - If the model is overfitting, try decreasing the gamma value to smooth the decision boundary and reduce the complexity of the model.\n",
    "    -  If the model is underfitting, try increasing the gamma value to increase the complexity of the decision boundar"
   ]
  },
  {
   "cell_type": "markdown",
   "id": "ba63399e-b9ac-4d98-ae49-ec5d2b0f322a",
   "metadata": {},
   "source": [
    "####  Q5. Assignment:\n",
    "- Import the necessary libraries and load the dataseg\n",
    "- Split the dataset into training and testing setZ\n",
    "- Preprocess the data using any technique of your choice (e.g. scaling, normaliMationK\n",
    "- Create an instance of the SVC classifier and train it on the training datW\n",
    "- hse the trained classifier to predict the labels of the testing datW\n",
    "-  Evaluate the performance of the classifier using any metric of your choice (e.g. accuracy,precision, recall, F1-scoreK\n",
    "-  Tune the hyperparameters of the SVC classifier using GridSearchCV or RandomiMedSearchCV to improve its performanc_\n",
    "-  Train the tuned classifier on the entire dataseg\n",
    "-  Save the trained classifier to a file for future use."
   ]
  },
  {
   "cell_type": "code",
   "execution_count": 6,
   "id": "c2596f60-03e7-44ee-85bf-327025ee1f3b",
   "metadata": {},
   "outputs": [],
   "source": [
    "## import the libraries\n",
    "import pandas as pd\n",
    "import numpy as np\n",
    "import matplotlib.pyplot as plt\n",
    "import seaborn as sns"
   ]
  },
  {
   "cell_type": "code",
   "execution_count": 7,
   "id": "b1c76a9e-6aa5-4428-a6c9-49c18eba2b20",
   "metadata": {},
   "outputs": [],
   "source": [
    "from sklearn.datasets import load_wine"
   ]
  },
  {
   "cell_type": "code",
   "execution_count": 8,
   "id": "780e55a3-0c3a-4135-ab6d-df8dd2f65ca3",
   "metadata": {},
   "outputs": [],
   "source": [
    "data=load_wine()"
   ]
  },
  {
   "cell_type": "code",
   "execution_count": 10,
   "id": "24a455aa-158f-40be-8cc4-240d00fbecf0",
   "metadata": {},
   "outputs": [],
   "source": [
    "df=pd.DataFrame(data=data.data,columns=data.feature_names)"
   ]
  },
  {
   "cell_type": "code",
   "execution_count": 12,
   "id": "2a91965f-82f5-4b45-a99f-b4433156bf7e",
   "metadata": {},
   "outputs": [],
   "source": [
    "df['target']=data.target"
   ]
  },
  {
   "cell_type": "code",
   "execution_count": 13,
   "id": "d373da4d-be1d-4471-9a88-8abf3e3e2022",
   "metadata": {},
   "outputs": [
    {
     "data": {
      "text/html": [
       "<div>\n",
       "<style scoped>\n",
       "    .dataframe tbody tr th:only-of-type {\n",
       "        vertical-align: middle;\n",
       "    }\n",
       "\n",
       "    .dataframe tbody tr th {\n",
       "        vertical-align: top;\n",
       "    }\n",
       "\n",
       "    .dataframe thead th {\n",
       "        text-align: right;\n",
       "    }\n",
       "</style>\n",
       "<table border=\"1\" class=\"dataframe\">\n",
       "  <thead>\n",
       "    <tr style=\"text-align: right;\">\n",
       "      <th></th>\n",
       "      <th>alcohol</th>\n",
       "      <th>malic_acid</th>\n",
       "      <th>ash</th>\n",
       "      <th>alcalinity_of_ash</th>\n",
       "      <th>magnesium</th>\n",
       "      <th>total_phenols</th>\n",
       "      <th>flavanoids</th>\n",
       "      <th>nonflavanoid_phenols</th>\n",
       "      <th>proanthocyanins</th>\n",
       "      <th>color_intensity</th>\n",
       "      <th>hue</th>\n",
       "      <th>od280/od315_of_diluted_wines</th>\n",
       "      <th>proline</th>\n",
       "      <th>target</th>\n",
       "    </tr>\n",
       "  </thead>\n",
       "  <tbody>\n",
       "    <tr>\n",
       "      <th>0</th>\n",
       "      <td>14.23</td>\n",
       "      <td>1.71</td>\n",
       "      <td>2.43</td>\n",
       "      <td>15.6</td>\n",
       "      <td>127.0</td>\n",
       "      <td>2.80</td>\n",
       "      <td>3.06</td>\n",
       "      <td>0.28</td>\n",
       "      <td>2.29</td>\n",
       "      <td>5.64</td>\n",
       "      <td>1.04</td>\n",
       "      <td>3.92</td>\n",
       "      <td>1065.0</td>\n",
       "      <td>0</td>\n",
       "    </tr>\n",
       "    <tr>\n",
       "      <th>1</th>\n",
       "      <td>13.20</td>\n",
       "      <td>1.78</td>\n",
       "      <td>2.14</td>\n",
       "      <td>11.2</td>\n",
       "      <td>100.0</td>\n",
       "      <td>2.65</td>\n",
       "      <td>2.76</td>\n",
       "      <td>0.26</td>\n",
       "      <td>1.28</td>\n",
       "      <td>4.38</td>\n",
       "      <td>1.05</td>\n",
       "      <td>3.40</td>\n",
       "      <td>1050.0</td>\n",
       "      <td>0</td>\n",
       "    </tr>\n",
       "    <tr>\n",
       "      <th>2</th>\n",
       "      <td>13.16</td>\n",
       "      <td>2.36</td>\n",
       "      <td>2.67</td>\n",
       "      <td>18.6</td>\n",
       "      <td>101.0</td>\n",
       "      <td>2.80</td>\n",
       "      <td>3.24</td>\n",
       "      <td>0.30</td>\n",
       "      <td>2.81</td>\n",
       "      <td>5.68</td>\n",
       "      <td>1.03</td>\n",
       "      <td>3.17</td>\n",
       "      <td>1185.0</td>\n",
       "      <td>0</td>\n",
       "    </tr>\n",
       "    <tr>\n",
       "      <th>3</th>\n",
       "      <td>14.37</td>\n",
       "      <td>1.95</td>\n",
       "      <td>2.50</td>\n",
       "      <td>16.8</td>\n",
       "      <td>113.0</td>\n",
       "      <td>3.85</td>\n",
       "      <td>3.49</td>\n",
       "      <td>0.24</td>\n",
       "      <td>2.18</td>\n",
       "      <td>7.80</td>\n",
       "      <td>0.86</td>\n",
       "      <td>3.45</td>\n",
       "      <td>1480.0</td>\n",
       "      <td>0</td>\n",
       "    </tr>\n",
       "    <tr>\n",
       "      <th>4</th>\n",
       "      <td>13.24</td>\n",
       "      <td>2.59</td>\n",
       "      <td>2.87</td>\n",
       "      <td>21.0</td>\n",
       "      <td>118.0</td>\n",
       "      <td>2.80</td>\n",
       "      <td>2.69</td>\n",
       "      <td>0.39</td>\n",
       "      <td>1.82</td>\n",
       "      <td>4.32</td>\n",
       "      <td>1.04</td>\n",
       "      <td>2.93</td>\n",
       "      <td>735.0</td>\n",
       "      <td>0</td>\n",
       "    </tr>\n",
       "  </tbody>\n",
       "</table>\n",
       "</div>"
      ],
      "text/plain": [
       "   alcohol  malic_acid   ash  alcalinity_of_ash  ...   hue  od280/od315_of_diluted_wines  proline  target\n",
       "0    14.23        1.71  2.43               15.6  ...  1.04                          3.92   1065.0       0\n",
       "1    13.20        1.78  2.14               11.2  ...  1.05                          3.40   1050.0       0\n",
       "2    13.16        2.36  2.67               18.6  ...  1.03                          3.17   1185.0       0\n",
       "3    14.37        1.95  2.50               16.8  ...  0.86                          3.45   1480.0       0\n",
       "4    13.24        2.59  2.87               21.0  ...  1.04                          2.93    735.0       0\n",
       "\n",
       "[5 rows x 14 columns]"
      ]
     },
     "execution_count": 13,
     "metadata": {},
     "output_type": "execute_result"
    }
   ],
   "source": [
    "df.head()"
   ]
  },
  {
   "cell_type": "code",
   "execution_count": 16,
   "id": "42e98131-876e-406b-a90b-38e670851753",
   "metadata": {},
   "outputs": [
    {
     "data": {
      "text/plain": [
       "alcohol                         0\n",
       "malic_acid                      0\n",
       "ash                             0\n",
       "alcalinity_of_ash               0\n",
       "magnesium                       0\n",
       "total_phenols                   0\n",
       "flavanoids                      0\n",
       "nonflavanoid_phenols            0\n",
       "proanthocyanins                 0\n",
       "color_intensity                 0\n",
       "hue                             0\n",
       "od280/od315_of_diluted_wines    0\n",
       "proline                         0\n",
       "target                          0\n",
       "dtype: int64"
      ]
     },
     "execution_count": 16,
     "metadata": {},
     "output_type": "execute_result"
    }
   ],
   "source": [
    "## check the null values\n",
    "df.isnull().sum()"
   ]
  },
  {
   "cell_type": "code",
   "execution_count": 22,
   "id": "3bab6d20-c2d7-429d-82bd-8ba7aeb51440",
   "metadata": {},
   "outputs": [],
   "source": [
    "X=df.drop('target',axis=1)\n",
    "y=df['target']"
   ]
  },
  {
   "cell_type": "code",
   "execution_count": 23,
   "id": "50ceff3e-959a-4b2c-a836-249ef618586c",
   "metadata": {},
   "outputs": [],
   "source": [
    "from sklearn.model_selection import train_test_split"
   ]
  },
  {
   "cell_type": "code",
   "execution_count": 24,
   "id": "31a40688-458e-4929-a332-0bd6fb04a563",
   "metadata": {},
   "outputs": [],
   "source": [
    "X_train, X_test, y_train, y_test = train_test_split( X, y, test_size=0.33, random_state=42)"
   ]
  },
  {
   "cell_type": "code",
   "execution_count": 25,
   "id": "8bfc6c35-7036-4999-82ff-6083655831fb",
   "metadata": {},
   "outputs": [
    {
     "data": {
      "image/png": "[encoded data removed]",
      "text/plain": [
       "<Figure size 1080x720 with 2 Axes>"
      ]
     },
     "metadata": {
      "needs_background": "light"
     },
     "output_type": "display_data"
    }
   ],
   "source": [
    "plt.figure(figsize=(15,10))\n",
    "sns.heatmap(X_train.corr(),annot=True)\n",
    "plt.show()"
   ]
  },
  {
   "cell_type": "code",
   "execution_count": 26,
   "id": "c55f8867-ac84-4f50-b9ec-462e7dacdb5f",
   "metadata": {},
   "outputs": [
    {
     "data": {
      "text/html": [
       "<div>\n",
       "<style scoped>\n",
       "    .dataframe tbody tr th:only-of-type {\n",
       "        vertical-align: middle;\n",
       "    }\n",
       "\n",
       "    .dataframe tbody tr th {\n",
       "        vertical-align: top;\n",
       "    }\n",
       "\n",
       "    .dataframe thead th {\n",
       "        text-align: right;\n",
       "    }\n",
       "</style>\n",
       "<table border=\"1\" class=\"dataframe\">\n",
       "  <thead>\n",
       "    <tr style=\"text-align: right;\">\n",
       "      <th></th>\n",
       "      <th>alcohol</th>\n",
       "      <th>malic_acid</th>\n",
       "      <th>ash</th>\n",
       "      <th>alcalinity_of_ash</th>\n",
       "      <th>magnesium</th>\n",
       "      <th>total_phenols</th>\n",
       "      <th>flavanoids</th>\n",
       "      <th>nonflavanoid_phenols</th>\n",
       "      <th>proanthocyanins</th>\n",
       "      <th>color_intensity</th>\n",
       "      <th>hue</th>\n",
       "      <th>od280/od315_of_diluted_wines</th>\n",
       "      <th>proline</th>\n",
       "    </tr>\n",
       "  </thead>\n",
       "  <tbody>\n",
       "    <tr>\n",
       "      <th>alcohol</th>\n",
       "      <td>1.000000</td>\n",
       "      <td>0.069440</td>\n",
       "      <td>0.167002</td>\n",
       "      <td>-0.360158</td>\n",
       "      <td>0.237360</td>\n",
       "      <td>0.277907</td>\n",
       "      <td>0.251519</td>\n",
       "      <td>-0.127721</td>\n",
       "      <td>0.146493</td>\n",
       "      <td>0.515964</td>\n",
       "      <td>-0.036647</td>\n",
       "      <td>0.085242</td>\n",
       "      <td>0.641952</td>\n",
       "    </tr>\n",
       "    <tr>\n",
       "      <th>malic_acid</th>\n",
       "      <td>0.069440</td>\n",
       "      <td>1.000000</td>\n",
       "      <td>0.142117</td>\n",
       "      <td>0.246415</td>\n",
       "      <td>-0.116898</td>\n",
       "      <td>-0.314918</td>\n",
       "      <td>-0.403611</td>\n",
       "      <td>0.321738</td>\n",
       "      <td>-0.183782</td>\n",
       "      <td>0.337772</td>\n",
       "      <td>-0.591303</td>\n",
       "      <td>-0.396481</td>\n",
       "      <td>-0.225933</td>\n",
       "    </tr>\n",
       "    <tr>\n",
       "      <th>ash</th>\n",
       "      <td>0.167002</td>\n",
       "      <td>0.142117</td>\n",
       "      <td>1.000000</td>\n",
       "      <td>0.477359</td>\n",
       "      <td>0.263986</td>\n",
       "      <td>0.099235</td>\n",
       "      <td>0.125001</td>\n",
       "      <td>0.239785</td>\n",
       "      <td>-0.034239</td>\n",
       "      <td>0.232141</td>\n",
       "      <td>-0.052726</td>\n",
       "      <td>0.038590</td>\n",
       "      <td>0.162346</td>\n",
       "    </tr>\n",
       "    <tr>\n",
       "      <th>alcalinity_of_ash</th>\n",
       "      <td>-0.360158</td>\n",
       "      <td>0.246415</td>\n",
       "      <td>0.477359</td>\n",
       "      <td>1.000000</td>\n",
       "      <td>-0.089111</td>\n",
       "      <td>-0.318677</td>\n",
       "      <td>-0.326997</td>\n",
       "      <td>0.375563</td>\n",
       "      <td>-0.251148</td>\n",
       "      <td>-0.035428</td>\n",
       "      <td>-0.217462</td>\n",
       "      <td>-0.251871</td>\n",
       "      <td>-0.476717</td>\n",
       "    </tr>\n",
       "    <tr>\n",
       "      <th>magnesium</th>\n",
       "      <td>0.237360</td>\n",
       "      <td>-0.116898</td>\n",
       "      <td>0.263986</td>\n",
       "      <td>-0.089111</td>\n",
       "      <td>1.000000</td>\n",
       "      <td>0.234186</td>\n",
       "      <td>0.206917</td>\n",
       "      <td>-0.286220</td>\n",
       "      <td>0.250858</td>\n",
       "      <td>0.198510</td>\n",
       "      <td>0.084777</td>\n",
       "      <td>0.125782</td>\n",
       "      <td>0.398281</td>\n",
       "    </tr>\n",
       "    <tr>\n",
       "      <th>total_phenols</th>\n",
       "      <td>0.277907</td>\n",
       "      <td>-0.314918</td>\n",
       "      <td>0.099235</td>\n",
       "      <td>-0.318677</td>\n",
       "      <td>0.234186</td>\n",
       "      <td>1.000000</td>\n",
       "      <td>0.864211</td>\n",
       "      <td>-0.419609</td>\n",
       "      <td>0.643966</td>\n",
       "      <td>-0.093801</td>\n",
       "      <td>0.427547</td>\n",
       "      <td>0.724897</td>\n",
       "      <td>0.483149</td>\n",
       "    </tr>\n",
       "    <tr>\n",
       "      <th>flavanoids</th>\n",
       "      <td>0.251519</td>\n",
       "      <td>-0.403611</td>\n",
       "      <td>0.125001</td>\n",
       "      <td>-0.326997</td>\n",
       "      <td>0.206917</td>\n",
       "      <td>0.864211</td>\n",
       "      <td>1.000000</td>\n",
       "      <td>-0.449085</td>\n",
       "      <td>0.694431</td>\n",
       "      <td>-0.179876</td>\n",
       "      <td>0.515672</td>\n",
       "      <td>0.804311</td>\n",
       "      <td>0.466008</td>\n",
       "    </tr>\n",
       "    <tr>\n",
       "      <th>nonflavanoid_phenols</th>\n",
       "      <td>-0.127721</td>\n",
       "      <td>0.321738</td>\n",
       "      <td>0.239785</td>\n",
       "      <td>0.375563</td>\n",
       "      <td>-0.286220</td>\n",
       "      <td>-0.419609</td>\n",
       "      <td>-0.449085</td>\n",
       "      <td>1.000000</td>\n",
       "      <td>-0.359004</td>\n",
       "      <td>0.143951</td>\n",
       "      <td>-0.200320</td>\n",
       "      <td>-0.424148</td>\n",
       "      <td>-0.279554</td>\n",
       "    </tr>\n",
       "    <tr>\n",
       "      <th>proanthocyanins</th>\n",
       "      <td>0.146493</td>\n",
       "      <td>-0.183782</td>\n",
       "      <td>-0.034239</td>\n",
       "      <td>-0.251148</td>\n",
       "      <td>0.250858</td>\n",
       "      <td>0.643966</td>\n",
       "      <td>0.694431</td>\n",
       "      <td>-0.359004</td>\n",
       "      <td>1.000000</td>\n",
       "      <td>-0.112177</td>\n",
       "      <td>0.340967</td>\n",
       "      <td>0.583871</td>\n",
       "      <td>0.346717</td>\n",
       "    </tr>\n",
       "    <tr>\n",
       "      <th>color_intensity</th>\n",
       "      <td>0.515964</td>\n",
       "      <td>0.337772</td>\n",
       "      <td>0.232141</td>\n",
       "      <td>-0.035428</td>\n",
       "      <td>0.198510</td>\n",
       "      <td>-0.093801</td>\n",
       "      <td>-0.179876</td>\n",
       "      <td>0.143951</td>\n",
       "      <td>-0.112177</td>\n",
       "      <td>1.000000</td>\n",
       "      <td>-0.533124</td>\n",
       "      <td>-0.432222</td>\n",
       "      <td>0.316649</td>\n",
       "    </tr>\n",
       "    <tr>\n",
       "      <th>hue</th>\n",
       "      <td>-0.036647</td>\n",
       "      <td>-0.591303</td>\n",
       "      <td>-0.052726</td>\n",
       "      <td>-0.217462</td>\n",
       "      <td>0.084777</td>\n",
       "      <td>0.427547</td>\n",
       "      <td>0.515672</td>\n",
       "      <td>-0.200320</td>\n",
       "      <td>0.340967</td>\n",
       "      <td>-0.533124</td>\n",
       "      <td>1.000000</td>\n",
       "      <td>0.563728</td>\n",
       "      <td>0.209583</td>\n",
       "    </tr>\n",
       "    <tr>\n",
       "      <th>od280/od315_of_diluted_wines</th>\n",
       "      <td>0.085242</td>\n",
       "      <td>-0.396481</td>\n",
       "      <td>0.038590</td>\n",
       "      <td>-0.251871</td>\n",
       "      <td>0.125782</td>\n",
       "      <td>0.724897</td>\n",
       "      <td>0.804311</td>\n",
       "      <td>-0.424148</td>\n",
       "      <td>0.583871</td>\n",
       "      <td>-0.432222</td>\n",
       "      <td>0.563728</td>\n",
       "      <td>1.000000</td>\n",
       "      <td>0.327153</td>\n",
       "    </tr>\n",
       "    <tr>\n",
       "      <th>proline</th>\n",
       "      <td>0.641952</td>\n",
       "      <td>-0.225933</td>\n",
       "      <td>0.162346</td>\n",
       "      <td>-0.476717</td>\n",
       "      <td>0.398281</td>\n",
       "      <td>0.483149</td>\n",
       "      <td>0.466008</td>\n",
       "      <td>-0.279554</td>\n",
       "      <td>0.346717</td>\n",
       "      <td>0.316649</td>\n",
       "      <td>0.209583</td>\n",
       "      <td>0.327153</td>\n",
       "      <td>1.000000</td>\n",
       "    </tr>\n",
       "  </tbody>\n",
       "</table>\n",
       "</div>"
      ],
      "text/plain": [
       "                               alcohol  malic_acid       ash  ...       hue  od280/od315_of_diluted_wines   proline\n",
       "alcohol                       1.000000    0.069440  0.167002  ... -0.036647                      0.085242  0.641952\n",
       "malic_acid                    0.069440    1.000000  0.142117  ... -0.591303                     -0.396481 -0.225933\n",
       "ash                           0.167002    0.142117  1.000000  ... -0.052726                      0.038590  0.162346\n",
       "alcalinity_of_ash            -0.360158    0.246415  0.477359  ... -0.217462                     -0.251871 -0.476717\n",
       "magnesium                     0.237360   -0.116898  0.263986  ...  0.084777                      0.125782  0.398281\n",
       "total_phenols                 0.277907   -0.314918  0.099235  ...  0.427547                      0.724897  0.483149\n",
       "flavanoids                    0.251519   -0.403611  0.125001  ...  0.515672                      0.804311  0.466008\n",
       "nonflavanoid_phenols         -0.127721    0.321738  0.239785  ... -0.200320                     -0.424148 -0.279554\n",
       "proanthocyanins               0.146493   -0.183782 -0.034239  ...  0.340967                      0.583871  0.346717\n",
       "color_intensity               0.515964    0.337772  0.232141  ... -0.533124                     -0.432222  0.316649\n",
       "hue                          -0.036647   -0.591303 -0.052726  ...  1.000000                      0.563728  0.209583\n",
       "od280/od315_of_diluted_wines  0.085242   -0.396481  0.038590  ...  0.563728                      1.000000  0.327153\n",
       "proline                       0.641952   -0.225933  0.162346  ...  0.209583                      0.327153  1.000000\n",
       "\n",
       "[13 rows x 13 columns]"
      ]
     },
     "execution_count": 26,
     "metadata": {},
     "output_type": "execute_result"
    }
   ],
   "source": [
    "X_train.corr()"
   ]
  },
  {
   "cell_type": "code",
   "execution_count": 27,
   "id": "82d9ed12-7a3c-43df-b70a-466950acb4e2",
   "metadata": {},
   "outputs": [],
   "source": [
    "from sklearn.svm import SVC"
   ]
  },
  {
   "cell_type": "code",
   "execution_count": 28,
   "id": "d2c2ca4a-7d87-4922-9a73-d23df1f40329",
   "metadata": {},
   "outputs": [],
   "source": [
    "svc=SVC(kernel='linear')"
   ]
  },
  {
   "cell_type": "code",
   "execution_count": 29,
   "id": "75b4b1bf-8066-43b2-95a0-1448bc0de699",
   "metadata": {},
   "outputs": [
    {
     "data": {
      "text/plain": [
       "SVC(kernel='linear')"
      ]
     },
     "execution_count": 29,
     "metadata": {},
     "output_type": "execute_result"
    }
   ],
   "source": [
    "svc.fit(X_train,y_train)"
   ]
  },
  {
   "cell_type": "code",
   "execution_count": 30,
   "id": "eafbf422-01ae-4209-913a-f966542e946a",
   "metadata": {},
   "outputs": [],
   "source": [
    "y_pred=svc.predict(X_test)"
   ]
  },
  {
   "cell_type": "code",
   "execution_count": 42,
   "id": "a3b24d45-ba02-4f18-b81c-74e66201495a",
   "metadata": {},
   "outputs": [],
   "source": [
    "from sklearn.metrics import accuracy_score,precision_score,recall_score,confusion_matrix,classification_report,f1_score"
   ]
  },
  {
   "cell_type": "code",
   "execution_count": 33,
   "id": "a65d1b09-5d14-47ad-8007-51bc7596b63f",
   "metadata": {},
   "outputs": [
    {
     "name": "stdout",
     "output_type": "stream",
     "text": [
      "0.9830508474576272\n"
     ]
    }
   ],
   "source": [
    "print(accuracy_score(y_test,y_pred))"
   ]
  },
  {
   "cell_type": "code",
   "execution_count": 37,
   "id": "72513cb6-feae-44a0-9c12-0bb591ca40d3",
   "metadata": {},
   "outputs": [
    {
     "name": "stdout",
     "output_type": "stream",
     "text": [
      "0.9830508474576272\n"
     ]
    }
   ],
   "source": [
    "print(recall_score(y_test,y_pred,average='micro'))"
   ]
  },
  {
   "cell_type": "code",
   "execution_count": 44,
   "id": "6f476060-5522-49b0-87c3-0961b65855ba",
   "metadata": {},
   "outputs": [
    {
     "name": "stdout",
     "output_type": "stream",
     "text": [
      "0.9831439107523005\n"
     ]
    }
   ],
   "source": [
    "print(f1_score(y_test,y_pred,average='weighted'))"
   ]
  },
  {
   "cell_type": "code",
   "execution_count": 45,
   "id": "81fa6993-3645-4e60-9403-3d3c025ec9b6",
   "metadata": {},
   "outputs": [
    {
     "name": "stdout",
     "output_type": "stream",
     "text": [
      "              precision    recall  f1-score   support\n",
      "\n",
      "           0       1.00      1.00      1.00        20\n",
      "           1       1.00      0.96      0.98        24\n",
      "           2       0.94      1.00      0.97        15\n",
      "\n",
      "    accuracy                           0.98        59\n",
      "   macro avg       0.98      0.99      0.98        59\n",
      "weighted avg       0.98      0.98      0.98        59\n",
      "\n"
     ]
    }
   ],
   "source": [
    "print(classification_report(y_test,y_pred))"
   ]
  },
  {
   "cell_type": "code",
   "execution_count": 46,
   "id": "71cca39d-be56-4ae5-aaaf-49e7b03120e4",
   "metadata": {},
   "outputs": [
    {
     "data": {
      "text/plain": [
       "{'kernel': ('linear', 'poly', 'rbf'),\n",
       " 'C': [0.1, 10, 100, 1000],\n",
       " 'gamma': ('scale', 'auto')}"
      ]
     },
     "execution_count": 46,
     "metadata": {},
     "output_type": "execute_result"
    }
   ],
   "source": [
    "parameter={\n",
    "    'kernel' : ('linear', 'poly', 'rbf'),\n",
    "    'C':[0.1,10,100,1000],\n",
    "    'gamma' : ('scale', 'auto'),\n",
    "}\n",
    "parameter"
   ]
  },
  {
   "cell_type": "code",
   "execution_count": 48,
   "id": "3126e85b-4993-4313-9982-59fad94587d7",
   "metadata": {},
   "outputs": [],
   "source": [
    "from sklearn.model_selection import GridSearchCV\n",
    "Svc_cv=SVC()"
   ]
  },
  {
   "cell_type": "code",
   "execution_count": 49,
   "id": "785c08c5-0f96-4ead-ab03-30c6bbb831eb",
   "metadata": {},
   "outputs": [],
   "source": [
    "gv=GridSearchCV(Svc_cv,param_grid=parameter,cv=5,verbose=3)"
   ]
  },
  {
   "cell_type": "code",
   "execution_count": 50,
   "id": "069919cd-1355-4eb9-8eef-d9f34f12904b",
   "metadata": {},
   "outputs": [
    {
     "name": "stdout",
     "output_type": "stream",
     "text": [
      "Fitting 5 folds for each of 24 candidates, totalling 120 fits\n",
      "[CV 1/5] END .C=0.1, gamma=scale, kernel=linear;, score=0.917 total time=   0.0s\n",
      "[CV 2/5] END .C=0.1, gamma=scale, kernel=linear;, score=0.917 total time=   0.0s\n",
      "[CV 3/5] END .C=0.1, gamma=scale, kernel=linear;, score=0.958 total time=   0.0s\n",
      "[CV 4/5] END .C=0.1, gamma=scale, kernel=linear;, score=0.958 total time=   0.0s\n",
      "[CV 5/5] END .C=0.1, gamma=scale, kernel=linear;, score=0.957 total time=   0.0s\n",
      "[CV 1/5] END ...C=0.1, gamma=scale, kernel=poly;, score=0.625 total time=   0.0s\n",
      "[CV 2/5] END ...C=0.1, gamma=scale, kernel=poly;, score=0.542 total time=   0.0s\n",
      "[CV 3/5] END ...C=0.1, gamma=scale, kernel=poly;, score=0.708 total time=   0.0s\n",
      "[CV 4/5] END ...C=0.1, gamma=scale, kernel=poly;, score=0.708 total time=   0.0s\n",
      "[CV 5/5] END ...C=0.1, gamma=scale, kernel=poly;, score=0.565 total time=   0.0s\n",
      "[CV 1/5] END ....C=0.1, gamma=scale, kernel=rbf;, score=0.625 total time=   0.0s\n",
      "[CV 2/5] END ....C=0.1, gamma=scale, kernel=rbf;, score=0.542 total time=   0.0s\n",
      "[CV 3/5] END ....C=0.1, gamma=scale, kernel=rbf;, score=0.708 total time=   0.0s\n",
      "[CV 4/5] END ....C=0.1, gamma=scale, kernel=rbf;, score=0.708 total time=   0.0s\n",
      "[CV 5/5] END ....C=0.1, gamma=scale, kernel=rbf;, score=0.565 total time=   0.0s\n",
      "[CV 1/5] END ..C=0.1, gamma=auto, kernel=linear;, score=0.917 total time=   0.0s\n",
      "[CV 2/5] END ..C=0.1, gamma=auto, kernel=linear;, score=0.917 total time=   0.0s\n",
      "[CV 3/5] END ..C=0.1, gamma=auto, kernel=linear;, score=0.958 total time=   0.0s\n",
      "[CV 4/5] END ..C=0.1, gamma=auto, kernel=linear;, score=0.958 total time=   0.0s\n",
      "[CV 5/5] END ..C=0.1, gamma=auto, kernel=linear;, score=0.957 total time=   0.0s\n",
      "[CV 1/5] END ....C=0.1, gamma=auto, kernel=poly;, score=0.792 total time=   0.0s\n",
      "[CV 2/5] END ....C=0.1, gamma=auto, kernel=poly;, score=0.917 total time=   0.0s\n",
      "[CV 3/5] END ....C=0.1, gamma=auto, kernel=poly;, score=0.917 total time=   0.1s\n",
      "[CV 4/5] END ....C=0.1, gamma=auto, kernel=poly;, score=0.958 total time=   0.0s\n",
      "[CV 5/5] END ....C=0.1, gamma=auto, kernel=poly;, score=0.957 total time=   0.1s\n",
      "[CV 1/5] END .....C=0.1, gamma=auto, kernel=rbf;, score=0.375 total time=   0.0s\n",
      "[CV 2/5] END .....C=0.1, gamma=auto, kernel=rbf;, score=0.375 total time=   0.0s\n",
      "[CV 3/5] END .....C=0.1, gamma=auto, kernel=rbf;, score=0.417 total time=   0.0s\n",
      "[CV 4/5] END .....C=0.1, gamma=auto, kernel=rbf;, score=0.417 total time=   0.0s\n",
      "[CV 5/5] END .....C=0.1, gamma=auto, kernel=rbf;, score=0.391 total time=   0.0s\n",
      "[CV 1/5] END ..C=10, gamma=scale, kernel=linear;, score=0.875 total time=   0.0s\n",
      "[CV 2/5] END ..C=10, gamma=scale, kernel=linear;, score=0.958 total time=   0.0s\n",
      "[CV 3/5] END ..C=10, gamma=scale, kernel=linear;, score=0.917 total time=   0.0s\n",
      "[CV 4/5] END ..C=10, gamma=scale, kernel=linear;, score=0.958 total time=   0.0s\n",
      "[CV 5/5] END ..C=10, gamma=scale, kernel=linear;, score=0.957 total time=   0.0s\n",
      "[CV 1/5] END ....C=10, gamma=scale, kernel=poly;, score=0.583 total time=   0.0s\n",
      "[CV 2/5] END ....C=10, gamma=scale, kernel=poly;, score=0.583 total time=   0.0s\n",
      "[CV 3/5] END ....C=10, gamma=scale, kernel=poly;, score=0.750 total time=   0.0s\n",
      "[CV 4/5] END ....C=10, gamma=scale, kernel=poly;, score=0.750 total time=   0.0s\n",
      "[CV 5/5] END ....C=10, gamma=scale, kernel=poly;, score=0.609 total time=   0.0s\n",
      "[CV 1/5] END .....C=10, gamma=scale, kernel=rbf;, score=0.625 total time=   0.0s\n",
      "[CV 2/5] END .....C=10, gamma=scale, kernel=rbf;, score=0.708 total time=   0.0s\n",
      "[CV 3/5] END .....C=10, gamma=scale, kernel=rbf;, score=0.708 total time=   0.0s\n",
      "[CV 4/5] END .....C=10, gamma=scale, kernel=rbf;, score=0.750 total time=   0.0s\n",
      "[CV 5/5] END .....C=10, gamma=scale, kernel=rbf;, score=0.696 total time=   0.0s\n",
      "[CV 1/5] END ...C=10, gamma=auto, kernel=linear;, score=0.875 total time=   0.0s\n",
      "[CV 2/5] END ...C=10, gamma=auto, kernel=linear;, score=0.958 total time=   0.0s\n",
      "[CV 3/5] END ...C=10, gamma=auto, kernel=linear;, score=0.917 total time=   0.0s\n",
      "[CV 4/5] END ...C=10, gamma=auto, kernel=linear;, score=0.958 total time=   0.0s\n",
      "[CV 5/5] END ...C=10, gamma=auto, kernel=linear;, score=0.957 total time=   0.0s\n",
      "[CV 1/5] END .....C=10, gamma=auto, kernel=poly;, score=0.792 total time=   0.0s\n",
      "[CV 2/5] END .....C=10, gamma=auto, kernel=poly;, score=0.917 total time=   0.0s\n",
      "[CV 3/5] END .....C=10, gamma=auto, kernel=poly;, score=0.917 total time=   0.1s\n",
      "[CV 4/5] END .....C=10, gamma=auto, kernel=poly;, score=0.958 total time=   0.0s\n",
      "[CV 5/5] END .....C=10, gamma=auto, kernel=poly;, score=0.957 total time=   0.1s\n",
      "[CV 1/5] END ......C=10, gamma=auto, kernel=rbf;, score=0.417 total time=   0.0s\n",
      "[CV 2/5] END ......C=10, gamma=auto, kernel=rbf;, score=0.375 total time=   0.0s\n",
      "[CV 3/5] END ......C=10, gamma=auto, kernel=rbf;, score=0.417 total time=   0.0s\n",
      "[CV 4/5] END ......C=10, gamma=auto, kernel=rbf;, score=0.417 total time=   0.0s\n",
      "[CV 5/5] END ......C=10, gamma=auto, kernel=rbf;, score=0.435 total time=   0.0s\n",
      "[CV 1/5] END .C=100, gamma=scale, kernel=linear;, score=0.875 total time=   0.0s\n",
      "[CV 2/5] END .C=100, gamma=scale, kernel=linear;, score=0.958 total time=   0.0s\n",
      "[CV 3/5] END .C=100, gamma=scale, kernel=linear;, score=0.917 total time=   0.0s\n",
      "[CV 4/5] END .C=100, gamma=scale, kernel=linear;, score=0.958 total time=   0.0s\n",
      "[CV 5/5] END .C=100, gamma=scale, kernel=linear;, score=0.957 total time=   0.0s\n",
      "[CV 1/5] END ...C=100, gamma=scale, kernel=poly;, score=0.542 total time=   0.0s\n",
      "[CV 2/5] END ...C=100, gamma=scale, kernel=poly;, score=0.625 total time=   0.0s\n",
      "[CV 3/5] END ...C=100, gamma=scale, kernel=poly;, score=0.750 total time=   0.0s\n",
      "[CV 4/5] END ...C=100, gamma=scale, kernel=poly;, score=0.750 total time=   0.0s\n",
      "[CV 5/5] END ...C=100, gamma=scale, kernel=poly;, score=0.696 total time=   0.0s\n",
      "[CV 1/5] END ....C=100, gamma=scale, kernel=rbf;, score=0.667 total time=   0.0s\n",
      "[CV 2/5] END ....C=100, gamma=scale, kernel=rbf;, score=0.708 total time=   0.0s\n",
      "[CV 3/5] END ....C=100, gamma=scale, kernel=rbf;, score=0.667 total time=   0.0s\n",
      "[CV 4/5] END ....C=100, gamma=scale, kernel=rbf;, score=0.750 total time=   0.0s\n",
      "[CV 5/5] END ....C=100, gamma=scale, kernel=rbf;, score=0.826 total time=   0.0s\n",
      "[CV 1/5] END ..C=100, gamma=auto, kernel=linear;, score=0.875 total time=   0.0s\n",
      "[CV 2/5] END ..C=100, gamma=auto, kernel=linear;, score=0.958 total time=   0.0s\n",
      "[CV 3/5] END ..C=100, gamma=auto, kernel=linear;, score=0.917 total time=   0.0s\n",
      "[CV 4/5] END ..C=100, gamma=auto, kernel=linear;, score=0.958 total time=   0.0s\n",
      "[CV 5/5] END ..C=100, gamma=auto, kernel=linear;, score=0.957 total time=   0.0s\n",
      "[CV 1/5] END ....C=100, gamma=auto, kernel=poly;, score=0.792 total time=   0.0s\n",
      "[CV 2/5] END ....C=100, gamma=auto, kernel=poly;, score=0.917 total time=   0.0s\n",
      "[CV 3/5] END ....C=100, gamma=auto, kernel=poly;, score=0.917 total time=   0.1s\n",
      "[CV 4/5] END ....C=100, gamma=auto, kernel=poly;, score=0.958 total time=   0.0s\n",
      "[CV 5/5] END ....C=100, gamma=auto, kernel=poly;, score=0.957 total time=   0.1s\n",
      "[CV 1/5] END .....C=100, gamma=auto, kernel=rbf;, score=0.417 total time=   0.0s\n",
      "[CV 2/5] END .....C=100, gamma=auto, kernel=rbf;, score=0.375 total time=   0.0s\n",
      "[CV 3/5] END .....C=100, gamma=auto, kernel=rbf;, score=0.417 total time=   0.0s\n",
      "[CV 4/5] END .....C=100, gamma=auto, kernel=rbf;, score=0.417 total time=   0.0s\n",
      "[CV 5/5] END .....C=100, gamma=auto, kernel=rbf;, score=0.435 total time=   0.0s\n",
      "[CV 1/5] END C=1000, gamma=scale, kernel=linear;, score=0.875 total time=   0.0s\n",
      "[CV 2/5] END C=1000, gamma=scale, kernel=linear;, score=0.958 total time=   0.0s\n",
      "[CV 3/5] END C=1000, gamma=scale, kernel=linear;, score=0.917 total time=   0.0s\n",
      "[CV 4/5] END C=1000, gamma=scale, kernel=linear;, score=0.958 total time=   0.0s\n",
      "[CV 5/5] END C=1000, gamma=scale, kernel=linear;, score=0.957 total time=   0.0s\n",
      "[CV 1/5] END ..C=1000, gamma=scale, kernel=poly;, score=0.708 total time=   0.0s\n",
      "[CV 2/5] END ..C=1000, gamma=scale, kernel=poly;, score=0.750 total time=   0.0s\n",
      "[CV 3/5] END ..C=1000, gamma=scale, kernel=poly;, score=0.750 total time=   0.0s\n",
      "[CV 4/5] END ..C=1000, gamma=scale, kernel=poly;, score=0.792 total time=   0.0s\n",
      "[CV 5/5] END ..C=1000, gamma=scale, kernel=poly;, score=0.826 total time=   0.0s\n",
      "[CV 1/5] END ...C=1000, gamma=scale, kernel=rbf;, score=0.708 total time=   0.0s\n",
      "[CV 2/5] END ...C=1000, gamma=scale, kernel=rbf;, score=0.875 total time=   0.0s\n",
      "[CV 3/5] END ...C=1000, gamma=scale, kernel=rbf;, score=0.792 total time=   0.0s\n",
      "[CV 4/5] END ...C=1000, gamma=scale, kernel=rbf;, score=0.833 total time=   0.0s\n",
      "[CV 5/5] END ...C=1000, gamma=scale, kernel=rbf;, score=0.826 total time=   0.0s\n",
      "[CV 1/5] END .C=1000, gamma=auto, kernel=linear;, score=0.875 total time=   0.0s\n",
      "[CV 2/5] END .C=1000, gamma=auto, kernel=linear;, score=0.958 total time=   0.0s\n",
      "[CV 3/5] END .C=1000, gamma=auto, kernel=linear;, score=0.917 total time=   0.0s\n",
      "[CV 4/5] END .C=1000, gamma=auto, kernel=linear;, score=0.958 total time=   0.0s\n",
      "[CV 5/5] END .C=1000, gamma=auto, kernel=linear;, score=0.957 total time=   0.0s\n",
      "[CV 1/5] END ...C=1000, gamma=auto, kernel=poly;, score=0.792 total time=   0.0s\n",
      "[CV 2/5] END ...C=1000, gamma=auto, kernel=poly;, score=0.917 total time=   0.0s\n",
      "[CV 3/5] END ...C=1000, gamma=auto, kernel=poly;, score=0.917 total time=   0.2s\n",
      "[CV 4/5] END ...C=1000, gamma=auto, kernel=poly;, score=0.958 total time=   0.0s\n",
      "[CV 5/5] END ...C=1000, gamma=auto, kernel=poly;, score=0.957 total time=   0.1s\n",
      "[CV 1/5] END ....C=1000, gamma=auto, kernel=rbf;, score=0.417 total time=   0.0s\n",
      "[CV 2/5] END ....C=1000, gamma=auto, kernel=rbf;, score=0.375 total time=   0.0s\n",
      "[CV 3/5] END ....C=1000, gamma=auto, kernel=rbf;, score=0.417 total time=   0.0s\n",
      "[CV 4/5] END ....C=1000, gamma=auto, kernel=rbf;, score=0.417 total time=   0.0s\n",
      "[CV 5/5] END ....C=1000, gamma=auto, kernel=rbf;, score=0.435 total time=   0.0s\n"
     ]
    },
    {
     "data": {
      "text/plain": [
       "GridSearchCV(cv=5, estimator=SVC(),\n",
       "             param_grid={'C': [0.1, 10, 100, 1000], 'gamma': ('scale', 'auto'),\n",
       "                         'kernel': ('linear', 'poly', 'rbf')},\n",
       "             verbose=3)"
      ]
     },
     "execution_count": 50,
     "metadata": {},
     "output_type": "execute_result"
    }
   ],
   "source": [
    "gv.fit(X_train,y_train)"
   ]
  },
  {
   "cell_type": "code",
   "execution_count": 51,
   "id": "9e9435f8-3fa1-4023-b6ef-a1242d96115a",
   "metadata": {},
   "outputs": [
    {
     "data": {
      "text/plain": [
       "{'C': 0.1, 'gamma': 'scale', 'kernel': 'linear'}"
      ]
     },
     "execution_count": 51,
     "metadata": {},
     "output_type": "execute_result"
    }
   ],
   "source": [
    "gv.best_params_"
   ]
  },
  {
   "cell_type": "code",
   "execution_count": 55,
   "id": "eb6a49bd-7a8f-41e0-9c77-d4dde6ef394f",
   "metadata": {},
   "outputs": [
    {
     "data": {
      "text/plain": [
       "SVC(C=0.1, kernel='linear')"
      ]
     },
     "execution_count": 55,
     "metadata": {},
     "output_type": "execute_result"
    }
   ],
   "source": [
    "svc_best=SVC(C= 0.1, gamma='scale', kernel= 'linear')\n",
    "svc_best.fit(X_train,y_train)"
   ]
  },
  {
   "cell_type": "code",
   "execution_count": 56,
   "id": "f6245af2-e41f-4171-88a4-7a94dd2253bb",
   "metadata": {},
   "outputs": [],
   "source": [
    "y_predbest=svc_best.predict(X_test)"
   ]
  },
  {
   "cell_type": "code",
   "execution_count": 57,
   "id": "26604ce2-30be-40b8-a842-4bd4e3ce0e19",
   "metadata": {},
   "outputs": [
    {
     "name": "stdout",
     "output_type": "stream",
     "text": [
      "              precision    recall  f1-score   support\n",
      "\n",
      "           0       1.00      1.00      1.00        20\n",
      "           1       1.00      1.00      1.00        24\n",
      "           2       1.00      1.00      1.00        15\n",
      "\n",
      "    accuracy                           1.00        59\n",
      "   macro avg       1.00      1.00      1.00        59\n",
      "weighted avg       1.00      1.00      1.00        59\n",
      "\n",
      "[[20  0  0]\n",
      " [ 0 24  0]\n",
      " [ 0  0 15]]\n",
      "1.0\n"
     ]
    }
   ],
   "source": [
    "print(classification_report(y_test,y_predbest))\n",
    "print(confusion_matrix(y_test,y_predbest))\n",
    "print(accuracy_score(y_test,y_predbest))"
   ]
  },
  {
   "cell_type": "code",
   "execution_count": null,
   "id": "8963aa7e-1dc5-47d8-9934-7f3c0117b326",
   "metadata": {},
   "outputs": [],
   "source": []
  }
 ],
 "metadata": {
  "kernelspec": {
   "display_name": "Python 3 (ipykernel)",
   "language": "python",
   "name": "python3"
  },
  "language_info": {
   "codemirror_mode": {
    "name": "ipython",
    "version": 3
   },
   "file_extension": ".py",
   "mimetype": "text/x-python",
   "name": "python",
   "nbconvert_exporter": "python",
   "pygments_lexer": "ipython3",
   "version": "3.9.12"
  }
 },
 "nbformat": 4,
 "nbformat_minor": 5
}
