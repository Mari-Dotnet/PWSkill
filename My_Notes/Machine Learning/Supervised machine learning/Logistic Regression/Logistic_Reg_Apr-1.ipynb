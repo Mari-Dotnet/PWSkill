{
 "cells": [
  {
   "cell_type": "markdown",
   "id": "0a73425a-2658-489f-92cd-b1dc1e4e0d6a",
   "metadata": {},
   "source": [
    "## Logistic Regression"
   ]
  },
  {
   "cell_type": "code",
   "execution_count": 1,
   "id": "17906baa-939e-48aa-977a-8c4f45113b55",
   "metadata": {},
   "outputs": [],
   "source": [
    "from sklearn.datasets import load_iris"
   ]
  },
  {
   "cell_type": "code",
   "execution_count": 2,
   "id": "4b3c1d4f-5743-4cd0-9a74-66478235114c",
   "metadata": {},
   "outputs": [],
   "source": [
    "dataset=load_iris()"
   ]
  },
  {
   "cell_type": "code",
   "execution_count": null,
   "id": "b9c20bbb-0a8e-41d0-b736-7fc2e2de80ae",
   "metadata": {},
   "outputs": [],
   "source": [
    "print(dataset.DESCR)"
   ]
  },
  {
   "cell_type": "code",
   "execution_count": 6,
   "id": "f6d2b978-3b0c-4bc0-8b0d-070d9acc1ef0",
   "metadata": {},
   "outputs": [
    {
     "data": {
      "text/plain": [
       "dict_keys(['data', 'target', 'frame', 'target_names', 'DESCR', 'feature_names', 'filename', 'data_module'])"
      ]
     },
     "execution_count": 6,
     "metadata": {},
     "output_type": "execute_result"
    }
   ],
   "source": [
    "dataset.keys()"
   ]
  },
  {
   "cell_type": "code",
   "execution_count": 7,
   "id": "e47ae35c-3800-4f08-b454-6d380595c9d5",
   "metadata": {},
   "outputs": [],
   "source": [
    "import pandas as pd\n",
    "import numpy as np"
   ]
  },
  {
   "cell_type": "code",
   "execution_count": 8,
   "id": "b406828e-113f-4187-b065-f27625d325c2",
   "metadata": {},
   "outputs": [],
   "source": [
    "df=pd.DataFrame(dataset.data , columns=dataset.feature_names)"
   ]
  },
  {
   "cell_type": "code",
   "execution_count": 9,
   "id": "5ad4fa95-cbe2-4ab3-b9c7-199dfeed260e",
   "metadata": {},
   "outputs": [],
   "source": [
    "df['target']=dataset.target"
   ]
  },
  {
   "cell_type": "code",
   "execution_count": 11,
   "id": "af78197b-b7ff-4414-9479-98652d37cf76",
   "metadata": {},
   "outputs": [
    {
     "data": {
      "text/html": [
       "<div>\n",
       "<style scoped>\n",
       "    .dataframe tbody tr th:only-of-type {\n",
       "        vertical-align: middle;\n",
       "    }\n",
       "\n",
       "    .dataframe tbody tr th {\n",
       "        vertical-align: top;\n",
       "    }\n",
       "\n",
       "    .dataframe thead th {\n",
       "        text-align: right;\n",
       "    }\n",
       "</style>\n",
       "<table border=\"1\" class=\"dataframe\">\n",
       "  <thead>\n",
       "    <tr style=\"text-align: right;\">\n",
       "      <th></th>\n",
       "      <th>sepal length (cm)</th>\n",
       "      <th>sepal width (cm)</th>\n",
       "      <th>petal length (cm)</th>\n",
       "      <th>petal width (cm)</th>\n",
       "      <th>target</th>\n",
       "    </tr>\n",
       "  </thead>\n",
       "  <tbody>\n",
       "    <tr>\n",
       "      <th>0</th>\n",
       "      <td>5.1</td>\n",
       "      <td>3.5</td>\n",
       "      <td>1.4</td>\n",
       "      <td>0.2</td>\n",
       "      <td>0</td>\n",
       "    </tr>\n",
       "    <tr>\n",
       "      <th>1</th>\n",
       "      <td>4.9</td>\n",
       "      <td>3.0</td>\n",
       "      <td>1.4</td>\n",
       "      <td>0.2</td>\n",
       "      <td>0</td>\n",
       "    </tr>\n",
       "    <tr>\n",
       "      <th>2</th>\n",
       "      <td>4.7</td>\n",
       "      <td>3.2</td>\n",
       "      <td>1.3</td>\n",
       "      <td>0.2</td>\n",
       "      <td>0</td>\n",
       "    </tr>\n",
       "    <tr>\n",
       "      <th>3</th>\n",
       "      <td>4.6</td>\n",
       "      <td>3.1</td>\n",
       "      <td>1.5</td>\n",
       "      <td>0.2</td>\n",
       "      <td>0</td>\n",
       "    </tr>\n",
       "    <tr>\n",
       "      <th>4</th>\n",
       "      <td>5.0</td>\n",
       "      <td>3.6</td>\n",
       "      <td>1.4</td>\n",
       "      <td>0.2</td>\n",
       "      <td>0</td>\n",
       "    </tr>\n",
       "  </tbody>\n",
       "</table>\n",
       "</div>"
      ],
      "text/plain": [
       "   sepal length (cm)  sepal width (cm)  petal length (cm)  petal width (cm)  \\\n",
       "0                5.1               3.5                1.4               0.2   \n",
       "1                4.9               3.0                1.4               0.2   \n",
       "2                4.7               3.2                1.3               0.2   \n",
       "3                4.6               3.1                1.5               0.2   \n",
       "4                5.0               3.6                1.4               0.2   \n",
       "\n",
       "   target  \n",
       "0       0  \n",
       "1       0  \n",
       "2       0  \n",
       "3       0  \n",
       "4       0  "
      ]
     },
     "execution_count": 11,
     "metadata": {},
     "output_type": "execute_result"
    }
   ],
   "source": [
    "df.head()"
   ]
  },
  {
   "cell_type": "code",
   "execution_count": 14,
   "id": "0add6e3f-9627-4d56-8185-254925bafdea",
   "metadata": {},
   "outputs": [],
   "source": [
    "df_copy=df[df['target']!=2]"
   ]
  },
  {
   "cell_type": "code",
   "execution_count": 20,
   "id": "9d5f5261-626c-4ddd-a418-9fc33d1d6dce",
   "metadata": {},
   "outputs": [
    {
     "data": {
      "text/plain": [
       "array([0, 1])"
      ]
     },
     "execution_count": 20,
     "metadata": {},
     "output_type": "execute_result"
    }
   ],
   "source": [
    "df_copy['target'].unique()"
   ]
  },
  {
   "cell_type": "code",
   "execution_count": 18,
   "id": "1e13ec24-42cb-498a-a7fa-d587b34d8a99",
   "metadata": {},
   "outputs": [
    {
     "name": "stdout",
     "output_type": "stream",
     "text": [
      "<class 'pandas.core.frame.DataFrame'>\n",
      "Int64Index: 100 entries, 0 to 99\n",
      "Data columns (total 5 columns):\n",
      " #   Column             Non-Null Count  Dtype  \n",
      "---  ------             --------------  -----  \n",
      " 0   sepal length (cm)  100 non-null    float64\n",
      " 1   sepal width (cm)   100 non-null    float64\n",
      " 2   petal length (cm)  100 non-null    float64\n",
      " 3   petal width (cm)   100 non-null    float64\n",
      " 4   target             100 non-null    int32  \n",
      "dtypes: float64(4), int32(1)\n",
      "memory usage: 4.3 KB\n"
     ]
    }
   ],
   "source": [
    "df_copy.info()"
   ]
  },
  {
   "cell_type": "code",
   "execution_count": 46,
   "id": "83daf20f-b894-4710-9f5f-f36c72ab2c52",
   "metadata": {},
   "outputs": [],
   "source": [
    "## independent and dependent feature\n",
    "X=df_copy.iloc[:,:-1]\n",
    "y=df_copy.iloc[:,-1]"
   ]
  },
  {
   "cell_type": "code",
   "execution_count": 48,
   "id": "394d5741-1da2-4da1-8bbe-c92bf91487f3",
   "metadata": {},
   "outputs": [],
   "source": [
    "## train the model\n",
    "from sklearn.model_selection import train_test_split\n",
    "X_train,X_test,y_train,y_test=train_test_split(X,y,random_state=42,test_size=0.20)"
   ]
  },
  {
   "cell_type": "code",
   "execution_count": 54,
   "id": "fd6ee5f0-881e-4380-9ad7-07eb7dc3c59f",
   "metadata": {},
   "outputs": [
    {
     "data": {
      "text/plain": [
       "((80, 4), (80,))"
      ]
     },
     "execution_count": 54,
     "metadata": {},
     "output_type": "execute_result"
    }
   ],
   "source": [
    "X_train.shape,y_train.shape"
   ]
  },
  {
   "cell_type": "code",
   "execution_count": 61,
   "id": "04543254-4751-4b42-91c7-930efa42e42b",
   "metadata": {},
   "outputs": [
    {
     "data": {
      "text/plain": [
       "((20, 4), (20,))"
      ]
     },
     "execution_count": 61,
     "metadata": {},
     "output_type": "execute_result"
    }
   ],
   "source": [
    "X_test.shape,y_test.shape"
   ]
  },
  {
   "cell_type": "code",
   "execution_count": 56,
   "id": "e1015af3-d203-4258-a6dc-25422b069441",
   "metadata": {},
   "outputs": [],
   "source": [
    "## train the model\n",
    "from sklearn.linear_model import LogisticRegression"
   ]
  },
  {
   "cell_type": "code",
   "execution_count": 75,
   "id": "4968a467-1f70-4950-b8d5-8f9a4070618b",
   "metadata": {},
   "outputs": [],
   "source": [
    "classification=LogisticRegression()"
   ]
  },
  {
   "cell_type": "code",
   "execution_count": 76,
   "id": "d5b8ba4c-6b72-4c99-be5a-2fcdfdd01c39",
   "metadata": {},
   "outputs": [
    {
     "data": {
      "text/plain": [
       "LogisticRegression()"
      ]
     },
     "execution_count": 76,
     "metadata": {},
     "output_type": "execute_result"
    }
   ],
   "source": [
    "classification.fit(X_train,y_train)"
   ]
  },
  {
   "cell_type": "code",
   "execution_count": 80,
   "id": "810d5448-4600-4030-b7a9-a431aea1aa1b",
   "metadata": {},
   "outputs": [],
   "source": [
    "y_pred=classification.predict(X_test)"
   ]
  },
  {
   "cell_type": "code",
   "execution_count": 81,
   "id": "f0083a37-60c2-48db-afea-6669c7f9ac27",
   "metadata": {},
   "outputs": [
    {
     "data": {
      "text/plain": [
       "array([1, 1, 1, 0, 0, 0, 0, 1, 0, 0, 0, 0, 1, 0, 1, 0, 1, 1, 0, 0])"
      ]
     },
     "execution_count": 81,
     "metadata": {},
     "output_type": "execute_result"
    }
   ],
   "source": [
    "y_pred"
   ]
  },
  {
   "cell_type": "markdown",
   "id": "fab8ec0f-132b-4ea0-883e-d0e03d1d18dc",
   "metadata": {},
   "source": [
    "## Confusion Matrix ,Accuracy, precision, recall, classfication report"
   ]
  },
  {
   "cell_type": "code",
   "execution_count": 82,
   "id": "72ae164a-29fa-479c-822e-ff9e6521a40b",
   "metadata": {},
   "outputs": [],
   "source": [
    "from sklearn.metrics import confusion_matrix,accuracy_score,precision_score,recall_score,classification_report"
   ]
  },
  {
   "cell_type": "code",
   "execution_count": 83,
   "id": "f3b44b61-4fc9-490d-9962-d65a9c7ddfcb",
   "metadata": {},
   "outputs": [
    {
     "name": "stdout",
     "output_type": "stream",
     "text": [
      "confusion matrix [[12  0]\n",
      " [ 0  8]]\n"
     ]
    }
   ],
   "source": [
    "print(\"confusion matrix\", confusion_matrix(y_test, y_pred))"
   ]
  },
  {
   "cell_type": "code",
   "execution_count": 84,
   "id": "c4e368e9-e3eb-4b82-bb79-27efec6a4366",
   "metadata": {},
   "outputs": [
    {
     "name": "stdout",
     "output_type": "stream",
     "text": [
      "accuracy_score 1.0\n"
     ]
    }
   ],
   "source": [
    "print(\"accuracy_score\", accuracy_score(y_test, y_pred))"
   ]
  },
  {
   "cell_type": "code",
   "execution_count": 85,
   "id": "a4e9e888-ae81-4ec1-ad2f-a8f2f1c6df26",
   "metadata": {},
   "outputs": [
    {
     "name": "stdout",
     "output_type": "stream",
     "text": [
      "precision_score 1.0\n"
     ]
    }
   ],
   "source": [
    "print(\"precision_score\", precision_score(y_test, y_pred))"
   ]
  },
  {
   "cell_type": "markdown",
   "id": "033f11df-0364-441a-bd91-43a1a52f19e8",
   "metadata": {},
   "source": [
    "print(\"recall_score\", recall_score(y_test, y_pred))"
   ]
  },
  {
   "cell_type": "code",
   "execution_count": 89,
   "id": "d9b2683b-e5d5-4278-b262-91da873eb0c6",
   "metadata": {},
   "outputs": [
    {
     "name": "stdout",
     "output_type": "stream",
     "text": [
      "              precision    recall  f1-score   support\n",
      "\n",
      "           0       1.00      1.00      1.00        12\n",
      "           1       1.00      1.00      1.00         8\n",
      "\n",
      "    accuracy                           1.00        20\n",
      "   macro avg       1.00      1.00      1.00        20\n",
      "weighted avg       1.00      1.00      1.00        20\n",
      "\n"
     ]
    }
   ],
   "source": [
    "print(classification_report(y_test, y_pred))"
   ]
  },
  {
   "cell_type": "markdown",
   "id": "c58619bc-36cc-43cc-9337-932e79412657",
   "metadata": {},
   "source": [
    "## cross validation"
   ]
  },
  {
   "cell_type": "code",
   "execution_count": 90,
   "id": "8b4af88a-33d7-49b0-bf9e-87bbed15f5f4",
   "metadata": {},
   "outputs": [],
   "source": [
    "from sklearn.model_selection import KFold"
   ]
  },
  {
   "cell_type": "code",
   "execution_count": 92,
   "id": "29bf3f30-0871-4971-b6e8-0fe2e3ff9470",
   "metadata": {},
   "outputs": [],
   "source": [
    "cv=KFold(n_splits=5,shuffle=True)"
   ]
  },
  {
   "cell_type": "code",
   "execution_count": 93,
   "id": "f2ae21ba-79fa-4444-b9c9-bd83b8abbfcf",
   "metadata": {},
   "outputs": [
    {
     "data": {
      "text/plain": [
       "KFold(n_splits=5, random_state=None, shuffle=True)"
      ]
     },
     "execution_count": 93,
     "metadata": {},
     "output_type": "execute_result"
    }
   ],
   "source": [
    "cv"
   ]
  },
  {
   "cell_type": "code",
   "execution_count": 94,
   "id": "e5c4b33d-cbe8-4e6f-a036-6c523cbd3e21",
   "metadata": {},
   "outputs": [],
   "source": [
    "from sklearn.model_selection import cross_val_score"
   ]
  },
  {
   "cell_type": "code",
   "execution_count": 98,
   "id": "10e5113f-eb8c-4851-9973-40f9a2e006d7",
   "metadata": {},
   "outputs": [
    {
     "data": {
      "text/plain": [
       "array([1., 1., 1., 1., 1.])"
      ]
     },
     "execution_count": 98,
     "metadata": {},
     "output_type": "execute_result"
    }
   ],
   "source": [
    "## These are the score for cross validation\n",
    "score=cross_val_score(classification,X_train,y_train,scoring='accuracy',cv=cv)\n",
    "score"
   ]
  },
  {
   "cell_type": "code",
   "execution_count": 99,
   "id": "ea7b076e-c3ea-44fa-abe4-b31db58351e2",
   "metadata": {},
   "outputs": [
    {
     "data": {
      "text/plain": [
       "1.0"
      ]
     },
     "execution_count": 99,
     "metadata": {},
     "output_type": "execute_result"
    }
   ],
   "source": [
    "np.mean(score)"
   ]
  },
  {
   "cell_type": "code",
   "execution_count": 100,
   "id": "f5ca5494-5873-4f6f-94c5-1cdb3edeadd2",
   "metadata": {},
   "outputs": [],
   "source": [
    "## Take more complex data and perfoemm the logistic regression\n",
    "from sklearn.datasets import make_classification"
   ]
  },
  {
   "cell_type": "code",
   "execution_count": 101,
   "id": "f1517437-411c-4031-a827-ac6d63e0e1c3",
   "metadata": {},
   "outputs": [],
   "source": [
    "x,y=make_classification(n_samples=1000,n_features=10,n_informative=5,n_classes=3,random_state=1)"
   ]
  },
  {
   "cell_type": "code",
   "execution_count": null,
   "id": "0d1805ec-cf9a-46f4-b98b-afa681abddd0",
   "metadata": {},
   "outputs": [],
   "source": [
    "x"
   ]
  },
  {
   "cell_type": "code",
   "execution_count": null,
   "id": "c17c7b39-8b87-4f19-a9df-22bd4e5ed6f9",
   "metadata": {},
   "outputs": [],
   "source": [
    "y"
   ]
  },
  {
   "cell_type": "code",
   "execution_count": 105,
   "id": "8b883730-452d-4d51-9fe5-b29411d632cb",
   "metadata": {},
   "outputs": [],
   "source": [
    "X_train,X_test,y_train,y_test=train_test_split(x,y,random_state=42,test_size=0.20)"
   ]
  },
  {
   "cell_type": "code",
   "execution_count": 106,
   "id": "1af0dc8f-ad34-4ea1-b4c9-0924174d6c92",
   "metadata": {},
   "outputs": [],
   "source": [
    "complex_clas=LogisticRegression(max_iter=100)"
   ]
  },
  {
   "cell_type": "code",
   "execution_count": 107,
   "id": "d2e72fd2-a26d-4431-a051-01162c0dd8d8",
   "metadata": {},
   "outputs": [
    {
     "data": {
      "text/plain": [
       "LogisticRegression()"
      ]
     },
     "execution_count": 107,
     "metadata": {},
     "output_type": "execute_result"
    }
   ],
   "source": [
    "complex_clas.fit(X_train,y_train)"
   ]
  },
  {
   "cell_type": "code",
   "execution_count": 113,
   "id": "7ea533bc-7dd7-4dc3-9b57-e16b8da2dd86",
   "metadata": {},
   "outputs": [
    {
     "data": {
      "text/plain": [
       "array([1, 2, 2, 0, 1, 0, 1, 2, 1, 2, 0, 0, 2, 2, 1, 0, 0, 1, 0, 0, 0, 1,\n",
       "       0, 0, 1, 1, 1, 1, 2, 2, 0, 0, 0, 2, 2, 0, 2, 2, 0, 1, 2, 1, 0, 0,\n",
       "       2, 0, 0, 1, 2, 0, 1, 1, 0, 2, 2, 2, 0, 0, 2, 1, 0, 2, 1, 2, 2, 1,\n",
       "       1, 2, 0, 0, 1, 2, 1, 1, 1, 1, 0, 2, 2, 2, 0, 1, 0, 2, 2, 2, 1, 2,\n",
       "       1, 2, 1, 0, 2, 2, 2, 0, 1, 1, 0, 0, 2, 0, 0, 1, 0, 2, 1, 1, 1, 1,\n",
       "       1, 1, 1, 0, 1, 2, 2, 0, 0, 0, 2, 1, 1, 0, 2, 2, 1, 1, 0, 1, 0, 0,\n",
       "       0, 1, 0, 0, 0, 1, 0, 2, 2, 2, 1, 2, 0, 0, 0, 2, 2, 2, 2, 1, 1, 2,\n",
       "       2, 1, 2, 1, 1, 1, 1, 0, 0, 1, 1, 0, 1, 2, 2, 0, 1, 1, 0, 0, 0, 0,\n",
       "       1, 2, 2, 1, 0, 2, 1, 0, 1, 0, 1, 0, 1, 2, 0, 1, 1, 2, 2, 1, 0, 1,\n",
       "       0, 1])"
      ]
     },
     "execution_count": 113,
     "metadata": {},
     "output_type": "execute_result"
    }
   ],
   "source": [
    "y_test"
   ]
  },
  {
   "cell_type": "code",
   "execution_count": 114,
   "id": "bfb09616-e4d5-48f1-af59-ca5273811a75",
   "metadata": {},
   "outputs": [
    {
     "data": {
      "text/plain": [
       "array([1, 0, 1, 0, 1, 0, 1, 0, 2, 1, 0, 0, 0, 2, 2, 0, 0, 1, 0, 0, 0, 0,\n",
       "       0, 0, 1, 1, 1, 2, 2, 2, 1, 0, 0, 2, 2, 0, 2, 0, 0, 1, 0, 0, 2, 0,\n",
       "       2, 0, 2, 1, 0, 0, 1, 1, 0, 2, 0, 2, 1, 0, 2, 1, 0, 1, 2, 2, 0, 2,\n",
       "       1, 1, 1, 0, 1, 2, 1, 1, 1, 2, 0, 2, 0, 2, 0, 1, 0, 2, 1, 0, 1, 2,\n",
       "       1, 1, 1, 0, 2, 2, 2, 0, 0, 2, 0, 0, 0, 0, 0, 1, 0, 2, 0, 0, 2, 1,\n",
       "       2, 1, 1, 0, 1, 2, 2, 0, 0, 0, 2, 1, 1, 0, 2, 0, 2, 0, 0, 1, 0, 1,\n",
       "       0, 1, 0, 0, 0, 1, 0, 1, 2, 0, 1, 0, 0, 0, 0, 0, 0, 0, 0, 1, 1, 2,\n",
       "       2, 1, 2, 1, 0, 1, 1, 0, 2, 1, 1, 2, 1, 0, 0, 0, 1, 2, 0, 0, 0, 0,\n",
       "       1, 2, 1, 1, 0, 1, 1, 0, 0, 0, 1, 0, 1, 2, 1, 1, 1, 2, 0, 1, 0, 0,\n",
       "       0, 1])"
      ]
     },
     "execution_count": 114,
     "metadata": {},
     "output_type": "execute_result"
    }
   ],
   "source": [
    "y_pred_comp=complex_clas.predict(X_test)\n",
    "y_pred_comp"
   ]
  },
  {
   "cell_type": "code",
   "execution_count": 112,
   "id": "f06c38f6-bce7-4cc9-9af6-1daa6f94aeec",
   "metadata": {},
   "outputs": [
    {
     "name": "stdout",
     "output_type": "stream",
     "text": [
      "confusion matrix [[59  5  4]\n",
      " [ 9 51 11]\n",
      " [21  9 31]]\n",
      "accuracy_score 0.705\n",
      "              precision    recall  f1-score   support\n",
      "\n",
      "           0       0.66      0.87      0.75        68\n",
      "           1       0.78      0.72      0.75        71\n",
      "           2       0.67      0.51      0.58        61\n",
      "\n",
      "    accuracy                           0.70       200\n",
      "   macro avg       0.71      0.70      0.69       200\n",
      "weighted avg       0.71      0.70      0.70       200\n",
      "\n"
     ]
    }
   ],
   "source": [
    "print(\"confusion matrix\", confusion_matrix(y_test, y_pred_comp))\n",
    "print(\"accuracy_score\", accuracy_score(y_test, y_pred_comp))\n",
    "print(classification_report(y_test, y_pred_comp))"
   ]
  },
  {
   "cell_type": "code",
   "execution_count": 115,
   "id": "1319d7ff-a74a-4ef8-9ec5-b724ca48723b",
   "metadata": {},
   "outputs": [],
   "source": [
    "## cross validation\n",
    "cv=KFold(n_splits=5,shuffle=True)"
   ]
  },
  {
   "cell_type": "code",
   "execution_count": 116,
   "id": "46866656-3d9a-4d5a-972a-bc0d7d9a7d65",
   "metadata": {},
   "outputs": [
    {
     "data": {
      "text/plain": [
       "array([0.68125, 0.68125, 0.65625, 0.6875 , 0.65625])"
      ]
     },
     "execution_count": 116,
     "metadata": {},
     "output_type": "execute_result"
    }
   ],
   "source": [
    "score=cross_val_score(complex_clas,X_train,y_train,scoring='accuracy',cv=cv)\n",
    "score"
   ]
  },
  {
   "cell_type": "code",
   "execution_count": 117,
   "id": "1782db59-6512-48cf-be11-088a8ce7e39c",
   "metadata": {},
   "outputs": [
    {
     "data": {
      "text/plain": [
       "0.6725"
      ]
     },
     "execution_count": 117,
     "metadata": {},
     "output_type": "execute_result"
    }
   ],
   "source": [
    "np.mean(score)"
   ]
  },
  {
   "cell_type": "code",
   "execution_count": null,
   "id": "8dc94c17-0b8f-400d-b0ae-b026ce1fa441",
   "metadata": {},
   "outputs": [],
   "source": []
  }
 ],
 "metadata": {
  "kernelspec": {
   "display_name": "Python 3 (ipykernel)",
   "language": "python",
   "name": "python3"
  },
  "language_info": {
   "codemirror_mode": {
    "name": "ipython",
    "version": 3
   },
   "file_extension": ".py",
   "mimetype": "text/x-python",
   "name": "python",
   "nbconvert_exporter": "python",
   "pygments_lexer": "ipython3",
   "version": "3.9.12"
  }
 },
 "nbformat": 4,
 "nbformat_minor": 5
}
