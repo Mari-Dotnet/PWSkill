{
 "cells": [
  {
   "cell_type": "markdown",
   "id": "e1de14d3-7aa9-4af5-a09a-7dfa6a19c060",
   "metadata": {},
   "source": [
    "#### Q1. Explain the difference between simple linear regression and multiple linear regression. Provide an example of each.\n",
    "\n",
    "- simple liner regression has ine input and one output\n",
    "    - height and weight \n",
    "- multiple liner regression has mulitple input and one output\n",
    "    - houseSize Area Price "
   ]
  },
  {
   "cell_type": "markdown",
   "id": "6f2d8120-72c0-42ed-865f-188779da5015",
   "metadata": {},
   "source": [
    "#### Q2. Discuss the assumptions of linear regression. How can you check whether these assumptions hold in a given dataset?\n",
    "- The ouput is contineous varriable \n",
    "- The amount of data is smaller \n",
    "- using scatter plot to check the data is liner or non linear."
   ]
  },
  {
   "cell_type": "markdown",
   "id": "5546419d-607f-4bff-89fc-0b787c431b94",
   "metadata": {},
   "source": [
    "#### Q3. How do you interpret the slope and intercept in a linear regression model? Provide an example using a real-world scenario.\n",
    "- The intercept represents the value of the dependent variable when the independent variable is zero. \n",
    "- The slope represents the change in the dependent variable for a one-unit increase in the independent variable.\n",
    "- Salary = Intercept + Slope * Years of experience\n",
    "- Salary = 50,000 + 5,000 * 5\n",
    "- Salary = $75,000"
   ]
  },
  {
   "cell_type": "markdown",
   "id": "4677f881-70ca-4f62-b2b2-b0a8d368182b",
   "metadata": {},
   "source": [
    "#### Q4. Explain the concept of gradient descent. How is it used in machine learning?\n",
    "\n",
    "- Gradient descent is a optimise function to get the optimise minimal value\n",
    "- Get the best fit line"
   ]
  },
  {
   "cell_type": "markdown",
   "id": "02ca06a7-1221-4e48-9d50-a38ae9c55c8b",
   "metadata": {},
   "source": [
    "#### Q5. Describe the multiple linear regression model. How does it differ from simple linear regression?\n",
    "- multiple liner regression have two or more input feature and one output feature\n",
    "- Simple liner regression have one input feature and one output feature"
   ]
  },
  {
   "cell_type": "markdown",
   "id": "1d40a4e4-d731-4f29-8eb2-d6400c4005c2",
   "metadata": {},
   "source": [
    "#### Q6. Explain the concept of multicollinearity in multiple linear regression. How can you detect and address this issue?\n",
    "-  Ridge Regression, Lasso Regression, and Elastic Net Regression are all techniques used to address the problem of multicollinearity in Multiple Linear Regression."
   ]
  },
  {
   "cell_type": "markdown",
   "id": "28d79ffa-b714-41cf-9a7e-3f4c9a9fed67",
   "metadata": {},
   "source": [
    "#### Q7. Describe the polynomial regression model. How is it different from linear regression?\n",
    "-  Polynomial Regression can be used to model nonlinear relationships between the independent and dependent variables by adding polynomial terms to the regression equation.\n",
    "- The liner regression data points are liner but the data points are non liner its  polynominal"
   ]
  },
  {
   "cell_type": "markdown",
   "id": "b4933a3a-c6a9-4302-94ac-4014b491ae30",
   "metadata": {},
   "source": [
    "#### Q8. What are the advantages and disadvantages of polynomial regression compared to linear regression? In what situations would you prefer to use polynomial regression?\n",
    "\n",
    "- Advantages:\n",
    "    - Polynomial regression can provide a better fit to the data than linear regression if the relationship between the variables is non-linear\n",
    "    -  Polynomial regression can be used to extrapolate beyond the range of the observed data.\n",
    "    \n",
    "- Disadvantages\n",
    "    - Polynomial regression can easily overfit the data, especially if the degree of the polynomial is high. This can result in a model that performs well on the training data but poorly on new, unseen data.\n",
    "    - Polynomial regression can be more computationally expensive than linear regression, especially for higher degree polynomials"
   ]
  },
  {
   "cell_type": "code",
   "execution_count": null,
   "id": "0933a7af-ffc8-4cc0-9212-f6e5fce04284",
   "metadata": {},
   "outputs": [],
   "source": []
  }
 ],
 "metadata": {
  "kernelspec": {
   "display_name": "Python 3 (ipykernel)",
   "language": "python",
   "name": "python3"
  },
  "language_info": {
   "codemirror_mode": {
    "name": "ipython",
    "version": 3
   },
   "file_extension": ".py",
   "mimetype": "text/x-python",
   "name": "python",
   "nbconvert_exporter": "python",
   "pygments_lexer": "ipython3",
   "version": "3.9.12"
  }
 },
 "nbformat": 4,
 "nbformat_minor": 5
}
