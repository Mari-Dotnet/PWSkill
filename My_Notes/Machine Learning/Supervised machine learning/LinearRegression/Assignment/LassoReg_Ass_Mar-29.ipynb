{
 "cells": [
  {
   "cell_type": "markdown",
   "id": "da588a80-e3f1-4bca-9d0a-d14e3b971ae5",
   "metadata": {},
   "source": [
    "#### Q1. What is Lasso Regression, and how does it differ from other regression techniques?\n",
    "- Lasso regression its used to idenfify the feature selection\n",
    "- In ridge regresssion is used to reduced the overfitting\n"
   ]
  },
  {
   "cell_type": "markdown",
   "id": "8a848c30-c18d-4d00-bceb-e5f24f63cf8a",
   "metadata": {},
   "source": [
    "### Q2. What is the main advantage of using Lasso Regression in feature selection?\n",
    "- To identify the feature has importand or not \n",
    "- we increase the lamnda value the slope  going to zero , so that feature have no importand"
   ]
  },
  {
   "cell_type": "markdown",
   "id": "3fc732e8-25bb-498b-a28a-aca2ab27ac64",
   "metadata": {},
   "source": [
    "#### Q3. How do you interpret the coefficients of a Lasso Regression model?\n",
    "- To increase the lamda value the slope of coefficent going to zer0 and check whether feature has importand or not."
   ]
  },
  {
   "cell_type": "markdown",
   "id": "6c690b95-9d64-431a-8ecd-3902c31cafde",
   "metadata": {},
   "source": [
    "### Q4. What are the tuning parameters that can be adjusted in Lasso Regression, and how do they affect the model's performance?\n",
    "- we have Lambda paramentert to adjust the hyperpameter we able idenfify feature is importand or or.\n",
    "- once we get correct featur our model give bette performance."
   ]
  },
  {
   "cell_type": "markdown",
   "id": "fe642ef2-2ecd-42d0-99cf-ff04439a1517",
   "metadata": {},
   "source": [
    "### Q5. Can Lasso Regression be used for non-linear regression problems? If yes, how?\n",
    "- Lasso Regression can be used for non-linear regression problems by applying non-linear transformations of the independent variables."
   ]
  },
  {
   "cell_type": "markdown",
   "id": "0d506f7b-cd6a-4c6c-a329-ca35438480b0",
   "metadata": {},
   "source": [
    "### Q6. What is the difference between Ridge Regression and Lasso Regression?\n",
    "- Ridge regression is used to reduce the overfitting\n",
    "- Lasso regression is used to get feature selection\n",
    "- in ridge regression lambda value increase the slop of coefficient towards to zero\n",
    "- in lasso regression lambda value increase the slop of coefficient going to zer0 at partiular point"
   ]
  },
  {
   "cell_type": "markdown",
   "id": "f89c76a6-25be-4d9d-b6c1-a429df4adddc",
   "metadata": {},
   "source": [
    "#### Q8. How do you choose the optimal value of the regularization parameter (lambda) in Lasso Regression?\n",
    "- The regularization parameter λ controls the strength of the penalty term, and selecting the optimal value of λ is important for achieving good performance in Lasso Regression"
   ]
  },
  {
   "cell_type": "markdown",
   "id": "e868aa33-c39f-4c21-b0c2-7ee800fb2997",
   "metadata": {},
   "source": [
    "#### Q7. Can Lasso Regression handle multicollinearity in the input features? If yes, how?\n",
    "- Lasso Regression adds a regularization term to the objective function, which helps to prevent overfitting and can result in sparse models. This means that Lasso Regression can select a subset of the independent variables that are most important for predicting the dependent variable, while ignoring the less important variables. In doing so, it can effectively deal with multicollinearity by assigning small or zero coefficients to the redundant features."
   ]
  },
  {
   "cell_type": "code",
   "execution_count": null,
   "id": "58392a26-959b-4136-9a5e-b0e63b928c10",
   "metadata": {},
   "outputs": [],
   "source": []
  }
 ],
 "metadata": {
  "kernelspec": {
   "display_name": "Python 3 (ipykernel)",
   "language": "python",
   "name": "python3"
  },
  "language_info": {
   "codemirror_mode": {
    "name": "ipython",
    "version": 3
   },
   "file_extension": ".py",
   "mimetype": "text/x-python",
   "name": "python",
   "nbconvert_exporter": "python",
   "pygments_lexer": "ipython3",
   "version": "3.9.12"
  }
 },
 "nbformat": 4,
 "nbformat_minor": 5
}
