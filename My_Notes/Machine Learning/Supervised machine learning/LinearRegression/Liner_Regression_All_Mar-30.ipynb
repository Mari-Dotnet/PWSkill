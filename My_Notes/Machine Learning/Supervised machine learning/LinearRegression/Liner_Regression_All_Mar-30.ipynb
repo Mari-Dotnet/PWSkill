{
 "cells": [
  {
   "cell_type": "code",
   "execution_count": 1,
   "id": "79c22a4c-9acd-4e4c-b83b-f23ba4b0a951",
   "metadata": {},
   "outputs": [],
   "source": [
    "#load the libraary\n",
    "import pandas as pd\n",
    "import numpy as np\n",
    "import seaborn as sns\n",
    "import matplotlib.pyplot as plt\n",
    "import warnings\n",
    "warnings.filterwarnings('ignore')"
   ]
  },
  {
   "cell_type": "code",
   "execution_count": 33,
   "id": "b6ccf9a8-1bd8-4fb9-8695-05c6324bd19d",
   "metadata": {},
   "outputs": [
    {
     "data": {
      "text/html": [
       "<div>\n",
       "<style scoped>\n",
       "    .dataframe tbody tr th:only-of-type {\n",
       "        vertical-align: middle;\n",
       "    }\n",
       "\n",
       "    .dataframe tbody tr th {\n",
       "        vertical-align: top;\n",
       "    }\n",
       "\n",
       "    .dataframe thead th {\n",
       "        text-align: right;\n",
       "    }\n",
       "</style>\n",
       "<table border=\"1\" class=\"dataframe\">\n",
       "  <thead>\n",
       "    <tr style=\"text-align: right;\">\n",
       "      <th></th>\n",
       "      <th>Unnamed: 0</th>\n",
       "      <th>day</th>\n",
       "      <th>month</th>\n",
       "      <th>year</th>\n",
       "      <th>Temperature</th>\n",
       "      <th>RH</th>\n",
       "      <th>Ws</th>\n",
       "      <th>Rain</th>\n",
       "      <th>FFMC</th>\n",
       "      <th>DMC</th>\n",
       "      <th>DC</th>\n",
       "      <th>ISI</th>\n",
       "      <th>BUI</th>\n",
       "      <th>FWI</th>\n",
       "      <th>Classes</th>\n",
       "      <th>Region</th>\n",
       "    </tr>\n",
       "  </thead>\n",
       "  <tbody>\n",
       "    <tr>\n",
       "      <th>0</th>\n",
       "      <td>0</td>\n",
       "      <td>1</td>\n",
       "      <td>6</td>\n",
       "      <td>2012</td>\n",
       "      <td>29</td>\n",
       "      <td>57</td>\n",
       "      <td>18</td>\n",
       "      <td>0.0</td>\n",
       "      <td>65.7</td>\n",
       "      <td>3.4</td>\n",
       "      <td>7.6</td>\n",
       "      <td>1.3</td>\n",
       "      <td>3.4</td>\n",
       "      <td>0.5</td>\n",
       "      <td>not fire</td>\n",
       "      <td>0</td>\n",
       "    </tr>\n",
       "    <tr>\n",
       "      <th>1</th>\n",
       "      <td>1</td>\n",
       "      <td>2</td>\n",
       "      <td>6</td>\n",
       "      <td>2012</td>\n",
       "      <td>29</td>\n",
       "      <td>61</td>\n",
       "      <td>13</td>\n",
       "      <td>1.3</td>\n",
       "      <td>64.4</td>\n",
       "      <td>4.1</td>\n",
       "      <td>7.6</td>\n",
       "      <td>1.0</td>\n",
       "      <td>3.9</td>\n",
       "      <td>0.4</td>\n",
       "      <td>not fire</td>\n",
       "      <td>0</td>\n",
       "    </tr>\n",
       "    <tr>\n",
       "      <th>2</th>\n",
       "      <td>2</td>\n",
       "      <td>3</td>\n",
       "      <td>6</td>\n",
       "      <td>2012</td>\n",
       "      <td>26</td>\n",
       "      <td>82</td>\n",
       "      <td>22</td>\n",
       "      <td>13.1</td>\n",
       "      <td>47.1</td>\n",
       "      <td>2.5</td>\n",
       "      <td>7.1</td>\n",
       "      <td>0.3</td>\n",
       "      <td>2.7</td>\n",
       "      <td>0.1</td>\n",
       "      <td>not fire</td>\n",
       "      <td>0</td>\n",
       "    </tr>\n",
       "    <tr>\n",
       "      <th>3</th>\n",
       "      <td>3</td>\n",
       "      <td>4</td>\n",
       "      <td>6</td>\n",
       "      <td>2012</td>\n",
       "      <td>25</td>\n",
       "      <td>89</td>\n",
       "      <td>13</td>\n",
       "      <td>2.5</td>\n",
       "      <td>28.6</td>\n",
       "      <td>1.3</td>\n",
       "      <td>6.9</td>\n",
       "      <td>0.0</td>\n",
       "      <td>1.7</td>\n",
       "      <td>0.0</td>\n",
       "      <td>not fire</td>\n",
       "      <td>0</td>\n",
       "    </tr>\n",
       "    <tr>\n",
       "      <th>4</th>\n",
       "      <td>4</td>\n",
       "      <td>5</td>\n",
       "      <td>6</td>\n",
       "      <td>2012</td>\n",
       "      <td>27</td>\n",
       "      <td>77</td>\n",
       "      <td>16</td>\n",
       "      <td>0.0</td>\n",
       "      <td>64.8</td>\n",
       "      <td>3.0</td>\n",
       "      <td>14.2</td>\n",
       "      <td>1.2</td>\n",
       "      <td>3.9</td>\n",
       "      <td>0.5</td>\n",
       "      <td>not fire</td>\n",
       "      <td>0</td>\n",
       "    </tr>\n",
       "  </tbody>\n",
       "</table>\n",
       "</div>"
      ],
      "text/plain": [
       "   Unnamed: 0  day  month  year  Temperature  RH  Ws  Rain  FFMC  DMC    DC  \\\n",
       "0           0    1      6  2012           29  57  18   0.0  65.7  3.4   7.6   \n",
       "1           1    2      6  2012           29  61  13   1.3  64.4  4.1   7.6   \n",
       "2           2    3      6  2012           26  82  22  13.1  47.1  2.5   7.1   \n",
       "3           3    4      6  2012           25  89  13   2.5  28.6  1.3   6.9   \n",
       "4           4    5      6  2012           27  77  16   0.0  64.8  3.0  14.2   \n",
       "\n",
       "   ISI  BUI  FWI      Classes  Region  \n",
       "0  1.3  3.4  0.5  not fire          0  \n",
       "1  1.0  3.9  0.4  not fire          0  \n",
       "2  0.3  2.7  0.1  not fire          0  \n",
       "3  0.0  1.7  0.0  not fire          0  \n",
       "4  1.2  3.9  0.5  not fire          0  "
      ]
     },
     "execution_count": 33,
     "metadata": {},
     "output_type": "execute_result"
    }
   ],
   "source": [
    "data=pd.read_csv('Algerian_forest_fires_dataset_clean.csv')\n",
    "data.head()"
   ]
  },
  {
   "cell_type": "code",
   "execution_count": 34,
   "id": "37a9b1e9-3ede-4cdc-a641-97dc9428708f",
   "metadata": {},
   "outputs": [],
   "source": [
    "data.rename(columns={'Unnamed: 0':'remove'},inplace=True)"
   ]
  },
  {
   "cell_type": "code",
   "execution_count": 35,
   "id": "8e00470b-8396-48fd-a17c-c8d2fd77775c",
   "metadata": {},
   "outputs": [],
   "source": [
    "data.drop('remove',axis=1,inplace=True)"
   ]
  },
  {
   "cell_type": "code",
   "execution_count": 36,
   "id": "ae846dd1-d942-4798-b58c-bb2a4989a542",
   "metadata": {},
   "outputs": [
    {
     "data": {
      "text/html": [
       "<div>\n",
       "<style scoped>\n",
       "    .dataframe tbody tr th:only-of-type {\n",
       "        vertical-align: middle;\n",
       "    }\n",
       "\n",
       "    .dataframe tbody tr th {\n",
       "        vertical-align: top;\n",
       "    }\n",
       "\n",
       "    .dataframe thead th {\n",
       "        text-align: right;\n",
       "    }\n",
       "</style>\n",
       "<table border=\"1\" class=\"dataframe\">\n",
       "  <thead>\n",
       "    <tr style=\"text-align: right;\">\n",
       "      <th></th>\n",
       "      <th>day</th>\n",
       "      <th>month</th>\n",
       "      <th>year</th>\n",
       "      <th>Temperature</th>\n",
       "      <th>RH</th>\n",
       "      <th>Ws</th>\n",
       "      <th>Rain</th>\n",
       "      <th>FFMC</th>\n",
       "      <th>DMC</th>\n",
       "      <th>DC</th>\n",
       "      <th>ISI</th>\n",
       "      <th>BUI</th>\n",
       "      <th>FWI</th>\n",
       "      <th>Classes</th>\n",
       "      <th>Region</th>\n",
       "    </tr>\n",
       "  </thead>\n",
       "  <tbody>\n",
       "    <tr>\n",
       "      <th>0</th>\n",
       "      <td>1</td>\n",
       "      <td>6</td>\n",
       "      <td>2012</td>\n",
       "      <td>29</td>\n",
       "      <td>57</td>\n",
       "      <td>18</td>\n",
       "      <td>0.0</td>\n",
       "      <td>65.7</td>\n",
       "      <td>3.4</td>\n",
       "      <td>7.6</td>\n",
       "      <td>1.3</td>\n",
       "      <td>3.4</td>\n",
       "      <td>0.5</td>\n",
       "      <td>not fire</td>\n",
       "      <td>0</td>\n",
       "    </tr>\n",
       "    <tr>\n",
       "      <th>1</th>\n",
       "      <td>2</td>\n",
       "      <td>6</td>\n",
       "      <td>2012</td>\n",
       "      <td>29</td>\n",
       "      <td>61</td>\n",
       "      <td>13</td>\n",
       "      <td>1.3</td>\n",
       "      <td>64.4</td>\n",
       "      <td>4.1</td>\n",
       "      <td>7.6</td>\n",
       "      <td>1.0</td>\n",
       "      <td>3.9</td>\n",
       "      <td>0.4</td>\n",
       "      <td>not fire</td>\n",
       "      <td>0</td>\n",
       "    </tr>\n",
       "    <tr>\n",
       "      <th>2</th>\n",
       "      <td>3</td>\n",
       "      <td>6</td>\n",
       "      <td>2012</td>\n",
       "      <td>26</td>\n",
       "      <td>82</td>\n",
       "      <td>22</td>\n",
       "      <td>13.1</td>\n",
       "      <td>47.1</td>\n",
       "      <td>2.5</td>\n",
       "      <td>7.1</td>\n",
       "      <td>0.3</td>\n",
       "      <td>2.7</td>\n",
       "      <td>0.1</td>\n",
       "      <td>not fire</td>\n",
       "      <td>0</td>\n",
       "    </tr>\n",
       "    <tr>\n",
       "      <th>3</th>\n",
       "      <td>4</td>\n",
       "      <td>6</td>\n",
       "      <td>2012</td>\n",
       "      <td>25</td>\n",
       "      <td>89</td>\n",
       "      <td>13</td>\n",
       "      <td>2.5</td>\n",
       "      <td>28.6</td>\n",
       "      <td>1.3</td>\n",
       "      <td>6.9</td>\n",
       "      <td>0.0</td>\n",
       "      <td>1.7</td>\n",
       "      <td>0.0</td>\n",
       "      <td>not fire</td>\n",
       "      <td>0</td>\n",
       "    </tr>\n",
       "    <tr>\n",
       "      <th>4</th>\n",
       "      <td>5</td>\n",
       "      <td>6</td>\n",
       "      <td>2012</td>\n",
       "      <td>27</td>\n",
       "      <td>77</td>\n",
       "      <td>16</td>\n",
       "      <td>0.0</td>\n",
       "      <td>64.8</td>\n",
       "      <td>3.0</td>\n",
       "      <td>14.2</td>\n",
       "      <td>1.2</td>\n",
       "      <td>3.9</td>\n",
       "      <td>0.5</td>\n",
       "      <td>not fire</td>\n",
       "      <td>0</td>\n",
       "    </tr>\n",
       "  </tbody>\n",
       "</table>\n",
       "</div>"
      ],
      "text/plain": [
       "   day  month  year  Temperature  RH  Ws  Rain  FFMC  DMC    DC  ISI  BUI  \\\n",
       "0    1      6  2012           29  57  18   0.0  65.7  3.4   7.6  1.3  3.4   \n",
       "1    2      6  2012           29  61  13   1.3  64.4  4.1   7.6  1.0  3.9   \n",
       "2    3      6  2012           26  82  22  13.1  47.1  2.5   7.1  0.3  2.7   \n",
       "3    4      6  2012           25  89  13   2.5  28.6  1.3   6.9  0.0  1.7   \n",
       "4    5      6  2012           27  77  16   0.0  64.8  3.0  14.2  1.2  3.9   \n",
       "\n",
       "   FWI      Classes  Region  \n",
       "0  0.5  not fire          0  \n",
       "1  0.4  not fire          0  \n",
       "2  0.1  not fire          0  \n",
       "3  0.0  not fire          0  \n",
       "4  0.5  not fire          0  "
      ]
     },
     "execution_count": 36,
     "metadata": {},
     "output_type": "execute_result"
    }
   ],
   "source": [
    "data.head()"
   ]
  },
  {
   "cell_type": "code",
   "execution_count": 37,
   "id": "9cd7c0cd-5289-40b9-ac86-2e81e8329ade",
   "metadata": {},
   "outputs": [],
   "source": [
    "## drop the column\n",
    "df.drop(['day','month','year'],axis=1,inplace=True)"
   ]
  },
  {
   "cell_type": "code",
   "execution_count": 38,
   "id": "defb8986-44e3-47c4-9b80-737488b92d64",
   "metadata": {},
   "outputs": [
    {
     "data": {
      "text/html": [
       "<div>\n",
       "<style scoped>\n",
       "    .dataframe tbody tr th:only-of-type {\n",
       "        vertical-align: middle;\n",
       "    }\n",
       "\n",
       "    .dataframe tbody tr th {\n",
       "        vertical-align: top;\n",
       "    }\n",
       "\n",
       "    .dataframe thead th {\n",
       "        text-align: right;\n",
       "    }\n",
       "</style>\n",
       "<table border=\"1\" class=\"dataframe\">\n",
       "  <thead>\n",
       "    <tr style=\"text-align: right;\">\n",
       "      <th></th>\n",
       "      <th>Temperature</th>\n",
       "      <th>RH</th>\n",
       "      <th>Ws</th>\n",
       "      <th>Rain</th>\n",
       "      <th>FFMC</th>\n",
       "      <th>DMC</th>\n",
       "      <th>DC</th>\n",
       "      <th>ISI</th>\n",
       "      <th>BUI</th>\n",
       "      <th>FWI</th>\n",
       "      <th>Classes</th>\n",
       "      <th>Region</th>\n",
       "    </tr>\n",
       "  </thead>\n",
       "  <tbody>\n",
       "    <tr>\n",
       "      <th>1</th>\n",
       "      <td>29</td>\n",
       "      <td>61</td>\n",
       "      <td>13</td>\n",
       "      <td>1.3</td>\n",
       "      <td>64.4</td>\n",
       "      <td>4.1</td>\n",
       "      <td>7.6</td>\n",
       "      <td>1.0</td>\n",
       "      <td>3.9</td>\n",
       "      <td>0.4</td>\n",
       "      <td>not fire</td>\n",
       "      <td>0</td>\n",
       "    </tr>\n",
       "    <tr>\n",
       "      <th>2</th>\n",
       "      <td>26</td>\n",
       "      <td>82</td>\n",
       "      <td>22</td>\n",
       "      <td>13.1</td>\n",
       "      <td>47.1</td>\n",
       "      <td>2.5</td>\n",
       "      <td>7.1</td>\n",
       "      <td>0.3</td>\n",
       "      <td>2.7</td>\n",
       "      <td>0.1</td>\n",
       "      <td>not fire</td>\n",
       "      <td>0</td>\n",
       "    </tr>\n",
       "    <tr>\n",
       "      <th>3</th>\n",
       "      <td>25</td>\n",
       "      <td>89</td>\n",
       "      <td>13</td>\n",
       "      <td>2.5</td>\n",
       "      <td>28.6</td>\n",
       "      <td>1.3</td>\n",
       "      <td>6.9</td>\n",
       "      <td>0.0</td>\n",
       "      <td>1.7</td>\n",
       "      <td>0.0</td>\n",
       "      <td>not fire</td>\n",
       "      <td>0</td>\n",
       "    </tr>\n",
       "    <tr>\n",
       "      <th>4</th>\n",
       "      <td>27</td>\n",
       "      <td>77</td>\n",
       "      <td>16</td>\n",
       "      <td>0.0</td>\n",
       "      <td>64.8</td>\n",
       "      <td>3.0</td>\n",
       "      <td>14.2</td>\n",
       "      <td>1.2</td>\n",
       "      <td>3.9</td>\n",
       "      <td>0.5</td>\n",
       "      <td>not fire</td>\n",
       "      <td>0</td>\n",
       "    </tr>\n",
       "    <tr>\n",
       "      <th>5</th>\n",
       "      <td>31</td>\n",
       "      <td>67</td>\n",
       "      <td>14</td>\n",
       "      <td>0.0</td>\n",
       "      <td>82.6</td>\n",
       "      <td>5.8</td>\n",
       "      <td>22.2</td>\n",
       "      <td>3.1</td>\n",
       "      <td>7.0</td>\n",
       "      <td>2.5</td>\n",
       "      <td>fire</td>\n",
       "      <td>0</td>\n",
       "    </tr>\n",
       "  </tbody>\n",
       "</table>\n",
       "</div>"
      ],
      "text/plain": [
       "   Temperature  RH  Ws  Rain  FFMC  DMC    DC  ISI  BUI  FWI      Classes  \\\n",
       "1           29  61  13   1.3  64.4  4.1   7.6  1.0  3.9  0.4  not fire      \n",
       "2           26  82  22  13.1  47.1  2.5   7.1  0.3  2.7  0.1  not fire      \n",
       "3           25  89  13   2.5  28.6  1.3   6.9  0.0  1.7  0.0  not fire      \n",
       "4           27  77  16   0.0  64.8  3.0  14.2  1.2  3.9  0.5  not fire      \n",
       "5           31  67  14   0.0  82.6  5.8  22.2  3.1  7.0  2.5      fire      \n",
       "\n",
       "   Region  \n",
       "1       0  \n",
       "2       0  \n",
       "3       0  \n",
       "4       0  \n",
       "5       0  "
      ]
     },
     "execution_count": 38,
     "metadata": {},
     "output_type": "execute_result"
    }
   ],
   "source": [
    "df.head()"
   ]
  },
  {
   "cell_type": "code",
   "execution_count": 42,
   "id": "1bde809b-20dd-4753-ad94-78f62c139eaf",
   "metadata": {},
   "outputs": [
    {
     "data": {
      "text/plain": [
       "fire             131\n",
       "not fire         100\n",
       "fire               4\n",
       "fire               2\n",
       "not fire           2\n",
       "not fire           1\n",
       "not fire           1\n",
       "not fire           1\n",
       "Name: Classes, dtype: int64"
      ]
     },
     "execution_count": 42,
     "metadata": {},
     "output_type": "execute_result"
    }
   ],
   "source": [
    "df['Classes'].value_counts()"
   ]
  },
  {
   "cell_type": "code",
   "execution_count": 43,
   "id": "549189e8-8a9c-477e-bbcd-95197d649029",
   "metadata": {},
   "outputs": [],
   "source": [
    "## categorcla to numrical value\n",
    "df['Classes']=np.where(df['Classes'].str.contains('not fire'),0,1)"
   ]
  },
  {
   "cell_type": "code",
   "execution_count": 44,
   "id": "f22be508-5f2c-4402-8a69-38d0b0b3a26b",
   "metadata": {},
   "outputs": [
    {
     "data": {
      "text/plain": [
       "1    137\n",
       "0    105\n",
       "Name: Classes, dtype: int64"
      ]
     },
     "execution_count": 44,
     "metadata": {},
     "output_type": "execute_result"
    }
   ],
   "source": [
    "df['Classes'].value_counts()"
   ]
  },
  {
   "cell_type": "code",
   "execution_count": 49,
   "id": "df12517b-899b-4d48-a71a-51b09d5c11ae",
   "metadata": {},
   "outputs": [],
   "source": [
    "# set independent and dependtent feature\n",
    "X=df.drop('FWI',axis=1)\n",
    "y=df['FWI']"
   ]
  },
  {
   "cell_type": "code",
   "execution_count": 80,
   "id": "f9d59845-d39f-4eba-af24-efadadec6b20",
   "metadata": {},
   "outputs": [],
   "source": [
    "## Trains test split\n",
    "from sklearn.model_selection import train_test_split"
   ]
  },
  {
   "cell_type": "code",
   "execution_count": 93,
   "id": "8ddd4666-fe9a-4bdc-9557-56ff93619daa",
   "metadata": {},
   "outputs": [],
   "source": [
    "X_train,X_test,y_train,y_test=train_test_split(X,y,test_size=0.25,random_state=42)"
   ]
  },
  {
   "cell_type": "code",
   "execution_count": 94,
   "id": "0e92592e-0684-4d75-8109-41e01efe0e64",
   "metadata": {},
   "outputs": [
    {
     "data": {
      "text/plain": [
       "(181, 11)"
      ]
     },
     "execution_count": 94,
     "metadata": {},
     "output_type": "execute_result"
    }
   ],
   "source": [
    "X_train.shape"
   ]
  },
  {
   "cell_type": "markdown",
   "id": "e7421d44-ce02-4639-a091-daeefb9144b2",
   "metadata": {},
   "source": [
    "## feature selection"
   ]
  },
  {
   "cell_type": "code",
   "execution_count": 51,
   "id": "a97384c0-06e8-49ab-b7cc-89613a0c758a",
   "metadata": {},
   "outputs": [
    {
     "data": {
      "text/html": [
       "<div>\n",
       "<style scoped>\n",
       "    .dataframe tbody tr th:only-of-type {\n",
       "        vertical-align: middle;\n",
       "    }\n",
       "\n",
       "    .dataframe tbody tr th {\n",
       "        vertical-align: top;\n",
       "    }\n",
       "\n",
       "    .dataframe thead th {\n",
       "        text-align: right;\n",
       "    }\n",
       "</style>\n",
       "<table border=\"1\" class=\"dataframe\">\n",
       "  <thead>\n",
       "    <tr style=\"text-align: right;\">\n",
       "      <th></th>\n",
       "      <th>Temperature</th>\n",
       "      <th>RH</th>\n",
       "      <th>Ws</th>\n",
       "      <th>Rain</th>\n",
       "      <th>FFMC</th>\n",
       "      <th>DMC</th>\n",
       "      <th>DC</th>\n",
       "      <th>ISI</th>\n",
       "      <th>BUI</th>\n",
       "      <th>Classes</th>\n",
       "      <th>Region</th>\n",
       "    </tr>\n",
       "  </thead>\n",
       "  <tbody>\n",
       "    <tr>\n",
       "      <th>Temperature</th>\n",
       "      <td>1.000000</td>\n",
       "      <td>-0.647300</td>\n",
       "      <td>-0.274746</td>\n",
       "      <td>-0.345614</td>\n",
       "      <td>0.705055</td>\n",
       "      <td>0.492890</td>\n",
       "      <td>0.376148</td>\n",
       "      <td>0.628735</td>\n",
       "      <td>0.465267</td>\n",
       "      <td>0.545200</td>\n",
       "      <td>0.253777</td>\n",
       "    </tr>\n",
       "    <tr>\n",
       "      <th>RH</th>\n",
       "      <td>-0.647300</td>\n",
       "      <td>1.000000</td>\n",
       "      <td>0.231939</td>\n",
       "      <td>0.234878</td>\n",
       "      <td>-0.641884</td>\n",
       "      <td>-0.417732</td>\n",
       "      <td>-0.250138</td>\n",
       "      <td>-0.700552</td>\n",
       "      <td>-0.367746</td>\n",
       "      <td>-0.457546</td>\n",
       "      <td>-0.374339</td>\n",
       "    </tr>\n",
       "    <tr>\n",
       "      <th>Ws</th>\n",
       "      <td>-0.274746</td>\n",
       "      <td>0.231939</td>\n",
       "      <td>1.000000</td>\n",
       "      <td>0.182579</td>\n",
       "      <td>-0.120296</td>\n",
       "      <td>0.000381</td>\n",
       "      <td>0.100480</td>\n",
       "      <td>0.032940</td>\n",
       "      <td>0.037951</td>\n",
       "      <td>-0.030047</td>\n",
       "      <td>-0.249348</td>\n",
       "    </tr>\n",
       "    <tr>\n",
       "      <th>Rain</th>\n",
       "      <td>-0.345614</td>\n",
       "      <td>0.234878</td>\n",
       "      <td>0.182579</td>\n",
       "      <td>1.000000</td>\n",
       "      <td>-0.552525</td>\n",
       "      <td>-0.286043</td>\n",
       "      <td>-0.296688</td>\n",
       "      <td>-0.342808</td>\n",
       "      <td>-0.296684</td>\n",
       "      <td>-0.374895</td>\n",
       "      <td>-0.068452</td>\n",
       "    </tr>\n",
       "    <tr>\n",
       "      <th>FFMC</th>\n",
       "      <td>0.705055</td>\n",
       "      <td>-0.641884</td>\n",
       "      <td>-0.120296</td>\n",
       "      <td>-0.552525</td>\n",
       "      <td>1.000000</td>\n",
       "      <td>0.615820</td>\n",
       "      <td>0.533490</td>\n",
       "      <td>0.745063</td>\n",
       "      <td>0.605854</td>\n",
       "      <td>0.767070</td>\n",
       "      <td>0.209257</td>\n",
       "    </tr>\n",
       "    <tr>\n",
       "      <th>DMC</th>\n",
       "      <td>0.492890</td>\n",
       "      <td>-0.417732</td>\n",
       "      <td>0.000381</td>\n",
       "      <td>-0.286043</td>\n",
       "      <td>0.615820</td>\n",
       "      <td>1.000000</td>\n",
       "      <td>0.875484</td>\n",
       "      <td>0.692319</td>\n",
       "      <td>0.983266</td>\n",
       "      <td>0.621456</td>\n",
       "      <td>0.188130</td>\n",
       "    </tr>\n",
       "    <tr>\n",
       "      <th>DC</th>\n",
       "      <td>0.376148</td>\n",
       "      <td>-0.250138</td>\n",
       "      <td>0.100480</td>\n",
       "      <td>-0.296688</td>\n",
       "      <td>0.533490</td>\n",
       "      <td>0.875484</td>\n",
       "      <td>1.000000</td>\n",
       "      <td>0.552843</td>\n",
       "      <td>0.947023</td>\n",
       "      <td>0.555910</td>\n",
       "      <td>-0.091729</td>\n",
       "    </tr>\n",
       "    <tr>\n",
       "      <th>ISI</th>\n",
       "      <td>0.628735</td>\n",
       "      <td>-0.700552</td>\n",
       "      <td>0.032940</td>\n",
       "      <td>-0.342808</td>\n",
       "      <td>0.745063</td>\n",
       "      <td>0.692319</td>\n",
       "      <td>0.552843</td>\n",
       "      <td>1.000000</td>\n",
       "      <td>0.659996</td>\n",
       "      <td>0.757627</td>\n",
       "      <td>0.253274</td>\n",
       "    </tr>\n",
       "    <tr>\n",
       "      <th>BUI</th>\n",
       "      <td>0.465267</td>\n",
       "      <td>-0.367746</td>\n",
       "      <td>0.037951</td>\n",
       "      <td>-0.296684</td>\n",
       "      <td>0.605854</td>\n",
       "      <td>0.983266</td>\n",
       "      <td>0.947023</td>\n",
       "      <td>0.659996</td>\n",
       "      <td>1.000000</td>\n",
       "      <td>0.618737</td>\n",
       "      <td>0.086215</td>\n",
       "    </tr>\n",
       "    <tr>\n",
       "      <th>Classes</th>\n",
       "      <td>0.545200</td>\n",
       "      <td>-0.457546</td>\n",
       "      <td>-0.030047</td>\n",
       "      <td>-0.374895</td>\n",
       "      <td>0.767070</td>\n",
       "      <td>0.621456</td>\n",
       "      <td>0.555910</td>\n",
       "      <td>0.757627</td>\n",
       "      <td>0.618737</td>\n",
       "      <td>1.000000</td>\n",
       "      <td>0.160857</td>\n",
       "    </tr>\n",
       "    <tr>\n",
       "      <th>Region</th>\n",
       "      <td>0.253777</td>\n",
       "      <td>-0.374339</td>\n",
       "      <td>-0.249348</td>\n",
       "      <td>-0.068452</td>\n",
       "      <td>0.209257</td>\n",
       "      <td>0.188130</td>\n",
       "      <td>-0.091729</td>\n",
       "      <td>0.253274</td>\n",
       "      <td>0.086215</td>\n",
       "      <td>0.160857</td>\n",
       "      <td>1.000000</td>\n",
       "    </tr>\n",
       "  </tbody>\n",
       "</table>\n",
       "</div>"
      ],
      "text/plain": [
       "             Temperature        RH        Ws      Rain      FFMC       DMC  \\\n",
       "Temperature     1.000000 -0.647300 -0.274746 -0.345614  0.705055  0.492890   \n",
       "RH             -0.647300  1.000000  0.231939  0.234878 -0.641884 -0.417732   \n",
       "Ws             -0.274746  0.231939  1.000000  0.182579 -0.120296  0.000381   \n",
       "Rain           -0.345614  0.234878  0.182579  1.000000 -0.552525 -0.286043   \n",
       "FFMC            0.705055 -0.641884 -0.120296 -0.552525  1.000000  0.615820   \n",
       "DMC             0.492890 -0.417732  0.000381 -0.286043  0.615820  1.000000   \n",
       "DC              0.376148 -0.250138  0.100480 -0.296688  0.533490  0.875484   \n",
       "ISI             0.628735 -0.700552  0.032940 -0.342808  0.745063  0.692319   \n",
       "BUI             0.465267 -0.367746  0.037951 -0.296684  0.605854  0.983266   \n",
       "Classes         0.545200 -0.457546 -0.030047 -0.374895  0.767070  0.621456   \n",
       "Region          0.253777 -0.374339 -0.249348 -0.068452  0.209257  0.188130   \n",
       "\n",
       "                   DC       ISI       BUI   Classes    Region  \n",
       "Temperature  0.376148  0.628735  0.465267  0.545200  0.253777  \n",
       "RH          -0.250138 -0.700552 -0.367746 -0.457546 -0.374339  \n",
       "Ws           0.100480  0.032940  0.037951 -0.030047 -0.249348  \n",
       "Rain        -0.296688 -0.342808 -0.296684 -0.374895 -0.068452  \n",
       "FFMC         0.533490  0.745063  0.605854  0.767070  0.209257  \n",
       "DMC          0.875484  0.692319  0.983266  0.621456  0.188130  \n",
       "DC           1.000000  0.552843  0.947023  0.555910 -0.091729  \n",
       "ISI          0.552843  1.000000  0.659996  0.757627  0.253274  \n",
       "BUI          0.947023  0.659996  1.000000  0.618737  0.086215  \n",
       "Classes      0.555910  0.757627  0.618737  1.000000  0.160857  \n",
       "Region      -0.091729  0.253274  0.086215  0.160857  1.000000  "
      ]
     },
     "execution_count": 51,
     "metadata": {},
     "output_type": "execute_result"
    }
   ],
   "source": [
    "X_train.corr()"
   ]
  },
  {
   "cell_type": "code",
   "execution_count": 54,
   "id": "b28dc106-a19e-45e1-8848-a905c85af852",
   "metadata": {},
   "outputs": [
    {
     "data": {
      "image/png": "[encoded data removed]",
      "text/plain": [
       "<Figure size 720x720 with 2 Axes>"
      ]
     },
     "metadata": {
      "needs_background": "light"
     },
     "output_type": "display_data"
    }
   ],
   "source": [
    "plt.figure(figsize=(10,10))\n",
    "sns.heatmap(X_train.corr(),annot=True)\n",
    "plt.show()\n"
   ]
  },
  {
   "cell_type": "code",
   "execution_count": 55,
   "id": "ef280fc6-69d6-4399-bfdb-39a19f3b3cba",
   "metadata": {},
   "outputs": [],
   "source": [
    "## corelation\n",
    "def corelation(dataset,threhsold):\n",
    "    col_corr=set()\n",
    "    corr_matrix=dataset.corr()\n",
    "    for i in range(len(corr_matrix.columns)):\n",
    "        for j in range(i):\n",
    "            if abs(corr_matrix.iloc[i,j])>threhsold:\n",
    "                colmnname=corr_matrix.columns[i]\n",
    "                col_corr.add(colmnname)\n",
    "    return col_corr\n",
    "                   "
   ]
  },
  {
   "cell_type": "code",
   "execution_count": 102,
   "id": "e314373d-37d1-4f28-84b6-cba0c99f9a15",
   "metadata": {},
   "outputs": [
    {
     "data": {
      "text/plain": [
       "set()"
      ]
     },
     "execution_count": 102,
     "metadata": {},
     "output_type": "execute_result"
    }
   ],
   "source": [
    "## threshold on featue\n",
    "corr_features=corelation(X_train,0.85)\n",
    "corr_features"
   ]
  },
  {
   "cell_type": "code",
   "execution_count": 101,
   "id": "902c3655-523b-47e0-acd8-a5046184f660",
   "metadata": {},
   "outputs": [
    {
     "data": {
      "text/html": [
       "<div>\n",
       "<style scoped>\n",
       "    .dataframe tbody tr th:only-of-type {\n",
       "        vertical-align: middle;\n",
       "    }\n",
       "\n",
       "    .dataframe tbody tr th {\n",
       "        vertical-align: top;\n",
       "    }\n",
       "\n",
       "    .dataframe thead th {\n",
       "        text-align: right;\n",
       "    }\n",
       "</style>\n",
       "<table border=\"1\" class=\"dataframe\">\n",
       "  <thead>\n",
       "    <tr style=\"text-align: right;\">\n",
       "      <th></th>\n",
       "      <th>Temperature</th>\n",
       "      <th>RH</th>\n",
       "      <th>Ws</th>\n",
       "      <th>Rain</th>\n",
       "      <th>FFMC</th>\n",
       "      <th>DMC</th>\n",
       "      <th>ISI</th>\n",
       "      <th>Classes</th>\n",
       "      <th>Region</th>\n",
       "    </tr>\n",
       "  </thead>\n",
       "  <tbody>\n",
       "    <tr>\n",
       "      <th>25</th>\n",
       "      <td>31</td>\n",
       "      <td>64</td>\n",
       "      <td>18</td>\n",
       "      <td>0.0</td>\n",
       "      <td>86.8</td>\n",
       "      <td>17.8</td>\n",
       "      <td>6.7</td>\n",
       "      <td>1</td>\n",
       "      <td>0</td>\n",
       "    </tr>\n",
       "    <tr>\n",
       "      <th>7</th>\n",
       "      <td>30</td>\n",
       "      <td>73</td>\n",
       "      <td>15</td>\n",
       "      <td>0.0</td>\n",
       "      <td>86.6</td>\n",
       "      <td>12.1</td>\n",
       "      <td>5.6</td>\n",
       "      <td>1</td>\n",
       "      <td>0</td>\n",
       "    </tr>\n",
       "    <tr>\n",
       "      <th>153</th>\n",
       "      <td>33</td>\n",
       "      <td>48</td>\n",
       "      <td>16</td>\n",
       "      <td>0.0</td>\n",
       "      <td>87.6</td>\n",
       "      <td>7.9</td>\n",
       "      <td>6.8</td>\n",
       "      <td>1</td>\n",
       "      <td>1</td>\n",
       "    </tr>\n",
       "    <tr>\n",
       "      <th>210</th>\n",
       "      <td>35</td>\n",
       "      <td>53</td>\n",
       "      <td>17</td>\n",
       "      <td>0.5</td>\n",
       "      <td>80.2</td>\n",
       "      <td>20.7</td>\n",
       "      <td>2.7</td>\n",
       "      <td>1</td>\n",
       "      <td>1</td>\n",
       "    </tr>\n",
       "    <tr>\n",
       "      <th>238</th>\n",
       "      <td>30</td>\n",
       "      <td>65</td>\n",
       "      <td>14</td>\n",
       "      <td>0.0</td>\n",
       "      <td>85.4</td>\n",
       "      <td>16.0</td>\n",
       "      <td>4.5</td>\n",
       "      <td>1</td>\n",
       "      <td>1</td>\n",
       "    </tr>\n",
       "  </tbody>\n",
       "</table>\n",
       "</div>"
      ],
      "text/plain": [
       "     Temperature  RH  Ws  Rain  FFMC   DMC  ISI  Classes  Region\n",
       "25            31  64  18   0.0  86.8  17.8  6.7        1       0\n",
       "7             30  73  15   0.0  86.6  12.1  5.6        1       0\n",
       "153           33  48  16   0.0  87.6   7.9  6.8        1       1\n",
       "210           35  53  17   0.5  80.2  20.7  2.7        1       1\n",
       "238           30  65  14   0.0  85.4  16.0  4.5        1       1"
      ]
     },
     "execution_count": 101,
     "metadata": {},
     "output_type": "execute_result"
    }
   ],
   "source": [
    "corr_features"
   ]
  },
  {
   "cell_type": "code",
   "execution_count": 95,
   "id": "f4688ddf-c798-4f97-bf3a-df1c5d13688a",
   "metadata": {},
   "outputs": [],
   "source": [
    "## drop the corelation feature\n",
    "X_train_new=X_train.drop(corr_features,axis=1,inplace=True)\n",
    "X_test_new=X_test.drop(corr_features,axis=1,inplace=True)"
   ]
  },
  {
   "cell_type": "code",
   "execution_count": 105,
   "id": "e2b01765-dfce-4d26-a4a8-0c13a60263fd",
   "metadata": {},
   "outputs": [
    {
     "data": {
      "text/plain": [
       "(181, 9)"
      ]
     },
     "execution_count": 105,
     "metadata": {},
     "output_type": "execute_result"
    }
   ],
   "source": [
    "X_train.shape"
   ]
  },
  {
   "cell_type": "markdown",
   "id": "0257641d-6549-4d2a-97f2-9d12016c54b8",
   "metadata": {},
   "source": [
    "### Feature scalling or standardtization"
   ]
  },
  {
   "cell_type": "code",
   "execution_count": 61,
   "id": "603edd44-da83-461e-9b4b-87db8deb7da0",
   "metadata": {},
   "outputs": [],
   "source": [
    "from sklearn.preprocessing  import StandardScaler"
   ]
  },
  {
   "cell_type": "code",
   "execution_count": 65,
   "id": "1fdb1e90-12b5-4751-b6b6-582e574d31ea",
   "metadata": {},
   "outputs": [],
   "source": [
    "sclaer=StandardScaler()"
   ]
  },
  {
   "cell_type": "code",
   "execution_count": 107,
   "id": "ce7895eb-09e3-47ed-a5a4-f0c6360c09bc",
   "metadata": {},
   "outputs": [],
   "source": [
    "X_train_scaled=sclaer.fit_transform(X_train)\n",
    "X_test_scaler=sclaer.fit_transform(X_test)"
   ]
  },
  {
   "cell_type": "markdown",
   "id": "5a4dc35b-0f0f-48ae-9a36-4a7fa5888ca3",
   "metadata": {},
   "source": [
    "## box plot to understand effect of Standard scaller"
   ]
  },
  {
   "cell_type": "code",
   "execution_count": 109,
   "id": "9faeb368-6131-4a55-a955-a907f8935e82",
   "metadata": {},
   "outputs": [
    {
     "data": {
      "image/png": "[encoded data removed]",
      "text/plain": [
       "<Figure size 1080x360 with 2 Axes>"
      ]
     },
     "metadata": {
      "needs_background": "light"
     },
     "output_type": "display_data"
    }
   ],
   "source": [
    "plt.subplots(figsize=(15,5))\n",
    "plt.subplot(1,2,1)\n",
    "sns.boxplot(data=X_train)\n",
    "plt.title('X_train before scalling')\n",
    "plt.subplot(1,2,2)\n",
    "sns.boxplot(data=X_train_scaled)\n",
    "plt.title('X_train after scalling')\n",
    "plt.show()"
   ]
  },
  {
   "cell_type": "markdown",
   "id": "d67ba649-7c08-4c28-bab9-b1e40f5e0c1d",
   "metadata": {},
   "source": [
    "## Linear regression Model"
   ]
  },
  {
   "cell_type": "code",
   "execution_count": 110,
   "id": "388f3995-5479-4046-a156-083f6642b9b6",
   "metadata": {},
   "outputs": [],
   "source": [
    "## import libraries\n",
    "from sklearn.linear_model import LinearRegression\n",
    "from sklearn.metrics import mean_squared_error,mean_absolute_error\n",
    "from sklearn.metrics import r2_score"
   ]
  },
  {
   "cell_type": "code",
   "execution_count": 112,
   "id": "c1f4b46f-48a8-443b-a389-0b2c2a52cb9e",
   "metadata": {},
   "outputs": [
    {
     "data": {
      "text/plain": [
       "LinearRegression()"
      ]
     },
     "execution_count": 112,
     "metadata": {},
     "output_type": "execute_result"
    }
   ],
   "source": [
    "liner=LinearRegression()\n",
    "liner.fit(X_train_scaled,y_train)"
   ]
  },
  {
   "cell_type": "code",
   "execution_count": 113,
   "id": "a44baee1-2387-4a65-a002-292b2be088c6",
   "metadata": {},
   "outputs": [],
   "source": [
    "y_pred=liner.predict(X_test_scaler)"
   ]
  },
  {
   "cell_type": "code",
   "execution_count": 114,
   "id": "940e3982-017e-4150-ad69-1568dda517d8",
   "metadata": {},
   "outputs": [
    {
     "name": "stdout",
     "output_type": "stream",
     "text": [
      "MAE 0.8152534130914632\n",
      "r2score 0.9766951118605068\n"
     ]
    }
   ],
   "source": [
    "mae=mean_absolute_error(y_test,y_pred)\n",
    "score=r2_score(y_test,y_pred)\n",
    "print('MAE',mae)\n",
    "print('r2score',score)"
   ]
  },
  {
   "cell_type": "code",
   "execution_count": 115,
   "id": "b553f961-7c60-422a-b061-6864c5b87439",
   "metadata": {},
   "outputs": [
    {
     "data": {
      "text/plain": [
       "<matplotlib.collections.PathCollection at 0x1cb413f7f70>"
      ]
     },
     "execution_count": 115,
     "metadata": {},
     "output_type": "execute_result"
    },
    {
     "data": {
      "image/png": "[encoded data removed]",
      "text/plain": [
       "<Figure size 432x288 with 1 Axes>"
      ]
     },
     "metadata": {
      "needs_background": "light"
     },
     "output_type": "display_data"
    }
   ],
   "source": [
    "plt.scatter(y_test,y_pred)"
   ]
  },
  {
   "cell_type": "markdown",
   "id": "15a23c77-19f4-4d37-902d-ee7106aafaa5",
   "metadata": {},
   "source": [
    "### Lasso Regression"
   ]
  },
  {
   "cell_type": "code",
   "execution_count": 116,
   "id": "554d7ad1-7b9b-488b-b9e7-e497a8ac9b1b",
   "metadata": {},
   "outputs": [],
   "source": [
    "from sklearn.linear_model import Lasso\n",
    "from sklearn.metrics import mean_squared_error,mean_absolute_error\n",
    "from sklearn.metrics import r2_score"
   ]
  },
  {
   "cell_type": "code",
   "execution_count": 118,
   "id": "313026c1-b149-4158-87e3-4f94918b220b",
   "metadata": {},
   "outputs": [
    {
     "data": {
      "text/plain": [
       "Lasso()"
      ]
     },
     "execution_count": 118,
     "metadata": {},
     "output_type": "execute_result"
    }
   ],
   "source": [
    "lasso=Lasso()\n",
    "lasso.fit(X_train_scaled,y_train)"
   ]
  },
  {
   "cell_type": "code",
   "execution_count": 119,
   "id": "bfd0acce-df39-49d7-aa77-05495d819eb6",
   "metadata": {},
   "outputs": [],
   "source": [
    "y_pred=lasso.predict(X_test_scaler)"
   ]
  },
  {
   "cell_type": "code",
   "execution_count": 120,
   "id": "ec82134d-c938-4d89-bdae-ed97fc650c1e",
   "metadata": {},
   "outputs": [
    {
     "name": "stdout",
     "output_type": "stream",
     "text": [
      "MAE 0.9631800721191462\n",
      "r2score 0.9594408329853048\n"
     ]
    }
   ],
   "source": [
    "mae=mean_absolute_error(y_test,y_pred)\n",
    "score=r2_score(y_test,y_pred)\n",
    "print('MAE',mae)\n",
    "print('r2score',score)"
   ]
  },
  {
   "cell_type": "code",
   "execution_count": 121,
   "id": "bb09e600-744b-42c3-a873-4a9d926269ac",
   "metadata": {},
   "outputs": [
    {
     "data": {
      "text/plain": [
       "<matplotlib.collections.PathCollection at 0x1cb4302e7f0>"
      ]
     },
     "execution_count": 121,
     "metadata": {},
     "output_type": "execute_result"
    },
    {
     "data": {
      "image/png": "[encoded data removed]",
      "text/plain": [
       "<Figure size 432x288 with 1 Axes>"
      ]
     },
     "metadata": {
      "needs_background": "light"
     },
     "output_type": "display_data"
    }
   ],
   "source": [
    "plt.scatter(y_test,y_pred)"
   ]
  },
  {
   "cell_type": "markdown",
   "id": "ac83e2c5-6e4d-41ea-91db-ffc75101b5e4",
   "metadata": {},
   "source": [
    "## cross validation Lasso"
   ]
  },
  {
   "cell_type": "code",
   "execution_count": 122,
   "id": "880daf94-0271-4fa4-a3b9-a76c6486f4ce",
   "metadata": {},
   "outputs": [],
   "source": [
    "from sklearn.linear_model  import LassoCV"
   ]
  },
  {
   "cell_type": "code",
   "execution_count": 129,
   "id": "da0e8820-e749-4d03-9177-c8a9998ed6ad",
   "metadata": {},
   "outputs": [],
   "source": [
    "lassocv=LassoCV(cv=5)"
   ]
  },
  {
   "cell_type": "code",
   "execution_count": 130,
   "id": "7f269197-5a14-438e-b419-f740fd0e79d2",
   "metadata": {},
   "outputs": [
    {
     "data": {
      "text/plain": [
       "LassoCV(cv=5)"
      ]
     },
     "execution_count": 130,
     "metadata": {},
     "output_type": "execute_result"
    }
   ],
   "source": [
    "lassocv.fit(X_train_scaled,y_train)"
   ]
  },
  {
   "cell_type": "code",
   "execution_count": 131,
   "id": "6f455328-7d73-47a0-8b49-a4447ea0f1b0",
   "metadata": {},
   "outputs": [
    {
     "data": {
      "text/plain": [
       "0.048952102297713844"
      ]
     },
     "execution_count": 131,
     "metadata": {},
     "output_type": "execute_result"
    }
   ],
   "source": [
    "lassocv.alpha_"
   ]
  },
  {
   "cell_type": "code",
   "execution_count": null,
   "id": "5b22f19f-beb2-45c6-9f11-76ab94f71fc8",
   "metadata": {},
   "outputs": [],
   "source": [
    "lassocv.alphas_"
   ]
  },
  {
   "cell_type": "code",
   "execution_count": null,
   "id": "b6d7262a-6da1-4fb6-8255-58e6d2057a01",
   "metadata": {},
   "outputs": [],
   "source": [
    "lassocv.mse_path_"
   ]
  },
  {
   "cell_type": "code",
   "execution_count": 132,
   "id": "b5ff7b53-30da-4200-9f71-c678444bbfd0",
   "metadata": {},
   "outputs": [
    {
     "name": "stdout",
     "output_type": "stream",
     "text": [
      "MAE 0.8073519330585988\n",
      "r2score 0.9764130117222716\n"
     ]
    }
   ],
   "source": [
    "y_pred=lassocv.predict(X_test_scaler)\n",
    "mae=mean_absolute_error(y_test,y_pred)\n",
    "score=r2_score(y_test,y_pred)\n",
    "print('MAE',mae)\n",
    "print('r2score',score)"
   ]
  },
  {
   "cell_type": "code",
   "execution_count": 140,
   "id": "c207cdaa-2bc0-4971-8ef2-e8d36c440c96",
   "metadata": {},
   "outputs": [
    {
     "data": {
      "text/plain": [
       "<matplotlib.collections.PathCollection at 0x1cb435ef880>"
      ]
     },
     "execution_count": 140,
     "metadata": {},
     "output_type": "execute_result"
    },
    {
     "data": {
      "image/png": "[encoded data removed]",
      "text/plain": [
       "<Figure size 432x288 with 1 Axes>"
      ]
     },
     "metadata": {
      "needs_background": "light"
     },
     "output_type": "display_data"
    }
   ],
   "source": [
    "plt.scatter(y_test,y_pred)"
   ]
  },
  {
   "cell_type": "markdown",
   "id": "f33386e9-2837-427b-b291-6dbe7d72b414",
   "metadata": {},
   "source": [
    "### Ridge "
   ]
  },
  {
   "cell_type": "code",
   "execution_count": 136,
   "id": "d99f0c16-6424-49e5-86bd-071aceddbb04",
   "metadata": {},
   "outputs": [],
   "source": [
    "from sklearn.linear_model  import Ridge\n",
    "Ridge=Ridge()"
   ]
  },
  {
   "cell_type": "code",
   "execution_count": 137,
   "id": "89c1eaef-7920-4628-a159-ec71a7acee35",
   "metadata": {},
   "outputs": [
    {
     "name": "stdout",
     "output_type": "stream",
     "text": [
      "MAE 0.8226294320116583\n",
      "r2score 0.9763171715261714\n"
     ]
    }
   ],
   "source": [
    "Ridge.fit(X_train_scaled,y_train)\n",
    "y_pred=Ridge.predict(X_test_scaler)\n",
    "mae=mean_absolute_error(y_test,y_pred)\n",
    "score=r2_score(y_test,y_pred)\n",
    "print('MAE',mae)\n",
    "print('r2score',score)"
   ]
  },
  {
   "cell_type": "code",
   "execution_count": 141,
   "id": "f392b1a6-51ec-499b-8b82-bb64a9d5cf29",
   "metadata": {},
   "outputs": [
    {
     "data": {
      "text/plain": [
       "<matplotlib.collections.PathCollection at 0x1cb43678d30>"
      ]
     },
     "execution_count": 141,
     "metadata": {},
     "output_type": "execute_result"
    },
    {
     "data": {
      "image/png": "[encoded data removed]",
      "text/plain": [
       "<Figure size 432x288 with 1 Axes>"
      ]
     },
     "metadata": {
      "needs_background": "light"
     },
     "output_type": "display_data"
    }
   ],
   "source": [
    "plt.scatter(y_test,y_pred)"
   ]
  },
  {
   "cell_type": "markdown",
   "id": "f88097fe-999f-46da-9e08-0a0ba68a9a81",
   "metadata": {},
   "source": [
    "## Ridge CV"
   ]
  },
  {
   "cell_type": "code",
   "execution_count": 134,
   "id": "a02494ea-5ba1-411c-a2ba-8bf31e92e563",
   "metadata": {},
   "outputs": [],
   "source": [
    "from sklearn.linear_model  import RidgeCV"
   ]
  },
  {
   "cell_type": "code",
   "execution_count": 138,
   "id": "0aee1a01-3505-4ff8-bda5-3c2f22fbb3ee",
   "metadata": {},
   "outputs": [],
   "source": [
    "Ridgecv=RidgeCV(cv=5)"
   ]
  },
  {
   "cell_type": "code",
   "execution_count": 139,
   "id": "0f409f16-138e-4919-bfa3-5a2fe94e0ca8",
   "metadata": {},
   "outputs": [
    {
     "name": "stdout",
     "output_type": "stream",
     "text": [
      "MAE 0.9367209842172519\n",
      "r2score 0.970181902434167\n"
     ]
    }
   ],
   "source": [
    "Ridgecv.fit(X_train_scaled,y_train)\n",
    "y_pred=Ridgecv.predict(X_test_scaler)\n",
    "mae=mean_absolute_error(y_test,y_pred)\n",
    "score=r2_score(y_test,y_pred)\n",
    "print('MAE',mae)\n",
    "print('r2score',score)"
   ]
  },
  {
   "cell_type": "code",
   "execution_count": 142,
   "id": "2b7286cd-29e3-4442-a493-f1ebfa89f1b2",
   "metadata": {},
   "outputs": [
    {
     "data": {
      "text/plain": [
       "<matplotlib.collections.PathCollection at 0x1cb4374b6a0>"
      ]
     },
     "execution_count": 142,
     "metadata": {},
     "output_type": "execute_result"
    },
    {
     "data": {
      "image/png": "[encoded data removed]",
      "text/plain": [
       "<Figure size 432x288 with 1 Axes>"
      ]
     },
     "metadata": {
      "needs_background": "light"
     },
     "output_type": "display_data"
    }
   ],
   "source": [
    "plt.scatter(y_test,y_pred)"
   ]
  },
  {
   "cell_type": "code",
   "execution_count": 145,
   "id": "356ddcd2-1313-4d24-9763-257277f94243",
   "metadata": {},
   "outputs": [
    {
     "data": {
      "text/plain": [
       "{'alpha_per_target': False,\n",
       " 'alphas': array([ 0.1,  1. , 10. ]),\n",
       " 'cv': 5,\n",
       " 'fit_intercept': True,\n",
       " 'gcv_mode': None,\n",
       " 'normalize': 'deprecated',\n",
       " 'scoring': None,\n",
       " 'store_cv_values': False}"
      ]
     },
     "execution_count": 145,
     "metadata": {},
     "output_type": "execute_result"
    }
   ],
   "source": [
    "Ridgecv.get_params()"
   ]
  },
  {
   "cell_type": "markdown",
   "id": "17dfa0a9-acbb-4f08-8c64-1f29c0bff254",
   "metadata": {},
   "source": [
    "### Elastic Net"
   ]
  },
  {
   "cell_type": "code",
   "execution_count": 143,
   "id": "8f07875f-c04f-4271-b523-f44dfaa48e0e",
   "metadata": {},
   "outputs": [],
   "source": [
    "from sklearn.linear_model  import ElasticNet\n",
    "elastic=ElasticNet()"
   ]
  },
  {
   "cell_type": "code",
   "execution_count": 146,
   "id": "6a377190-57e1-46bc-a9a6-f0a57eacf66c",
   "metadata": {},
   "outputs": [
    {
     "name": "stdout",
     "output_type": "stream",
     "text": [
      "MAE 1.6500975150798451\n",
      "r2score 0.8857326140207825\n"
     ]
    }
   ],
   "source": [
    "elastic.fit(X_train_scaled,y_train)\n",
    "y_pred=elastic.predict(X_test_scaler)\n",
    "mae=mean_absolute_error(y_test,y_pred)\n",
    "score=r2_score(y_test,y_pred)\n",
    "print('MAE',mae)\n",
    "print('r2score',score)"
   ]
  },
  {
   "cell_type": "code",
   "execution_count": 147,
   "id": "5e6f4f0f-1d30-4c5e-af66-661e98ee9d2c",
   "metadata": {},
   "outputs": [
    {
     "data": {
      "text/plain": [
       "<matplotlib.collections.PathCollection at 0x1cb4345b880>"
      ]
     },
     "execution_count": 147,
     "metadata": {},
     "output_type": "execute_result"
    },
    {
     "data": {
      "image/png": "[encoded data removed]",
      "text/plain": [
       "<Figure size 432x288 with 1 Axes>"
      ]
     },
     "metadata": {
      "needs_background": "light"
     },
     "output_type": "display_data"
    }
   ],
   "source": [
    "plt.scatter(y_test,y_pred)"
   ]
  },
  {
   "cell_type": "markdown",
   "id": "10ce84cf-edba-46bb-b170-6f0a3f7ed8e5",
   "metadata": {},
   "source": [
    "### Elastic Net CV"
   ]
  },
  {
   "cell_type": "code",
   "execution_count": 149,
   "id": "87879b1d-d207-4c4f-aadb-db3da7eae51c",
   "metadata": {},
   "outputs": [],
   "source": [
    "from sklearn.linear_model  import ElasticNetCV\n",
    "elasticcv=ElasticNetCV(cv=5)"
   ]
  },
  {
   "cell_type": "code",
   "execution_count": 150,
   "id": "ad2aad47-f18b-4784-be5d-e46b892f7678",
   "metadata": {},
   "outputs": [
    {
     "name": "stdout",
     "output_type": "stream",
     "text": [
      "MAE 0.8448893095966722\n",
      "r2score 0.974811460634264\n"
     ]
    }
   ],
   "source": [
    "elasticcv.fit(X_train_scaled,y_train)\n",
    "y_pred=elasticcv.predict(X_test_scaler)\n",
    "mae=mean_absolute_error(y_test,y_pred)\n",
    "score=r2_score(y_test,y_pred)\n",
    "print('MAE',mae)\n",
    "print('r2score',score)"
   ]
  },
  {
   "cell_type": "code",
   "execution_count": 151,
   "id": "f0b74ed7-7318-486f-916c-45195f8deef1",
   "metadata": {},
   "outputs": [
    {
     "data": {
      "text/plain": [
       "<matplotlib.collections.PathCollection at 0x1cb435232b0>"
      ]
     },
     "execution_count": 151,
     "metadata": {},
     "output_type": "execute_result"
    },
    {
     "data": {
      "image/png": "[encoded data removed]",
      "text/plain": [
       "<Figure size 432x288 with 1 Axes>"
      ]
     },
     "metadata": {
      "needs_background": "light"
     },
     "output_type": "display_data"
    }
   ],
   "source": [
    "plt.scatter(y_test,y_pred)"
   ]
  },
  {
   "cell_type": "markdown",
   "id": "4644a800-3924-4c6d-9dac-730e2922dda7",
   "metadata": {},
   "source": [
    "### Pickle"
   ]
  },
  {
   "cell_type": "markdown",
   "id": "dec27fbf-fb9c-4c1f-b9b0-f4fd69cfcebc",
   "metadata": {},
   "source": [
    "## Pickle the machine learnig model , preprocessing  model standardscaler"
   ]
  },
  {
   "cell_type": "code",
   "execution_count": 153,
   "id": "40944c1c-c309-46d0-bf85-e9b6e0a6bca3",
   "metadata": {},
   "outputs": [],
   "source": [
    "import pickle"
   ]
  },
  {
   "cell_type": "code",
   "execution_count": 154,
   "id": "c72096a1-7962-42f6-b7c5-27e7607d8e5e",
   "metadata": {},
   "outputs": [
    {
     "data": {
      "text/plain": [
       "StandardScaler()"
      ]
     },
     "execution_count": 154,
     "metadata": {},
     "output_type": "execute_result"
    }
   ],
   "source": [
    "sclaer"
   ]
  },
  {
   "cell_type": "code",
   "execution_count": 156,
   "id": "d9f04470-77ba-431d-9002-a036135ae2b8",
   "metadata": {},
   "outputs": [
    {
     "data": {
      "text/plain": [
       "Ridge()"
      ]
     },
     "execution_count": 156,
     "metadata": {},
     "output_type": "execute_result"
    }
   ],
   "source": [
    "Ridge"
   ]
  },
  {
   "cell_type": "code",
   "execution_count": 161,
   "id": "caec1663-e831-4ddd-b620-5c1bf3321cf7",
   "metadata": {},
   "outputs": [],
   "source": [
    "pickle.dump(sclaer,open('scaler.pkl','wb'))\n",
    "pickle.dump(Ridge,open('Ridge.pkl','wb'))"
   ]
  },
  {
   "cell_type": "code",
   "execution_count": null,
   "id": "637e8b4a-140c-4f6c-aae3-460870ffb1f8",
   "metadata": {},
   "outputs": [],
   "source": [
    "scaler=pickle.load(open('scaler.pkl','rb'))\n",
    "model=pickle.load(open('Ridge.pkl','rb'))"
   ]
  },
  {
   "cell_type": "code",
   "execution_count": null,
   "id": "d3ae9b52-c5d9-4c7e-8897-ac2775727e48",
   "metadata": {},
   "outputs": [],
   "source": []
  }
 ],
 "metadata": {
  "kernelspec": {
   "display_name": "Python 3 (ipykernel)",
   "language": "python",
   "name": "python3"
  },
  "language_info": {
   "codemirror_mode": {
    "name": "ipython",
    "version": 3
   },
   "file_extension": ".py",
   "mimetype": "text/x-python",
   "name": "python",
   "nbconvert_exporter": "python",
   "pygments_lexer": "ipython3",
   "version": "3.9.12"
  }
 },
 "nbformat": 4,
 "nbformat_minor": 5
}
