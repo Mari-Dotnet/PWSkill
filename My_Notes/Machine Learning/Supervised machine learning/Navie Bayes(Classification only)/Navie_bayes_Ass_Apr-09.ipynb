{
 "cells": [
  {
   "cell_type": "markdown",
   "id": "a84ba5ca-283e-4cb2-8057-6cc494281747",
   "metadata": {},
   "source": [
    "#### Q1. What is Bayes' theorem?\n",
    "- Bayes' Theorem states that the conditional probability of an event, based on the occurrence of another event, is equal to the likelihood of the second event given the first event multiplied by the probability of the first event."
   ]
  },
  {
   "cell_type": "markdown",
   "id": "944fc177-3b77-41f0-ba1e-ee001122da46",
   "metadata": {},
   "source": [
    "#### Q2. What is the formula for Bayes' theorem?\n",
    "- P(A|B) = P(B|A) * P(A) / P(B)\n",
    "- P(A|B) probability of event A given that event B has accured \n",
    "- P(B|A) probablity of event B given that event A has accured\n",
    "- P(A) is the prior probability of event A\n",
    "- P(B) is the prior probability of event B"
   ]
  },
  {
   "cell_type": "markdown",
   "id": "a5934813-bbc9-4cb6-9218-7796e7e8c876",
   "metadata": {},
   "source": [
    "#### Q3. How is Bayes' theorem used in practice?\n",
    "- Machine Learning: Bayes' theorem is used in machine learning algorithms such as Naive Bayes classifiers. These algorithms use Bayes' theorem to calculate the probability that a new data point belongs to a particular class based on its features.\n",
    "- Spam Filtering: Bayes' theorem is used in spam filtering to determine the probability that an incoming email is spam based on its content. A spam filter assigns a score to each email based on how likely it is to be spam, and this score is calculated using Bayes' theorem."
   ]
  },
  {
   "cell_type": "markdown",
   "id": "56d82243-382e-4739-ad15-6c8f7bfdecd4",
   "metadata": {},
   "source": [
    "#### Q4. What is the relationship between Bayes' theorem and conditional probability?\n",
    "- Conditional probability provides a way to calculate the probability of an event given another event, Bayes' theorem provides a way to update our beliefs about the probability of an event given new evidence or information."
   ]
  },
  {
   "cell_type": "markdown",
   "id": "1db2d5bb-51a6-414d-acaf-1f979e949750",
   "metadata": {},
   "source": [
    "#### Q5. How do you choose which type of Naive Bayes classifier to use for any given problem?\n",
    "\n",
    "- Gaussian Naive Bayes: This classifier assumes that the features are normally distributed. It is suitable for continuous data, where the features follow a Gaussian distribution. It is commonly used in problems such as image recognition, where the features are the pixel values of an image.\n",
    "\n",
    "- Multinomial Naive Bayes: This classifier is suitable for discrete data, where the features represent the frequency of occurrence of certain events. It is commonly used in text classification, where the features are the word frequencies in a document.\n",
    "\n",
    "- Bernoulli Naive Bayes: This classifier is similar to the multinomial Naive Bayes, but it assumes that the features are binary, i.e., they can take on only two values (0 or 1). It is commonly used in problems such as spam filtering, where the features represent the presence or absence of certain words in an email."
   ]
  },
  {
   "cell_type": "markdown",
   "id": "db0e6d65-9ded-4baa-8f05-1f64a862a03b",
   "metadata": {},
   "source": [
    "#### Q5 You have a dataset with two features, X1 and X2, and two possible classes, A and B. You want to use Naive Bayes to classify a new instance with features X1 = 3 and X2 = 4. The following table shows the frequency of each feature value for each class:\n",
    " Class X1=1 X1=2 X1=3 X2=1 X2=2 X2=3 X2=4\n",
    "\n",
    "A 3 3 4 4 3 3 3\n",
    " \n",
    "B 2 2 1 2 2 2 3\n",
    "\n",
    "#### Assuming equal prior probabilities for each class, which class would Naive Bayes predict the new instance to belong to?"
   ]
  },
  {
   "cell_type": "markdown",
   "id": "f8597afc-bab2-4bff-b7ff-89d73e4acd0f",
   "metadata": {},
   "source": [
    "- probability of class A given the feature values X1=3 and X2=4 can be calculated as: \n",
    "\n",
    " P(A|X1=3,X2=4) = P(X1=3,X2=4|A) * P(A) / P(X1=3,X2=4) \n",
    " \n",
    "- class B can be calculated as: P(B|X1=3,X2=4) = P(X1=3,X2=4|B) * P(B) / P(X1=3,X2=4)\n",
    "\n",
    "- P(X1=3,X2=4) = P(X1=3,X2=4|A) * P(A) + P(X1=3,X2=4|B) * P(B)\n",
    "\n",
    "- P(X1=3,X2=4|A) = 4/36 * 3/36 = 1/27\n",
    "- P(X1=3,X2=4|B) = 1/36 * 3/36 = 1/432\n",
    "- P(X1=3,X2=4) = 1/27 * 0.5 + 1/432 * 0.5 = 23/864\n",
    "\n",
    "- P(A|X1=3,X2=4) = (1/27) * 0.5 / (23/864) = 16/23\n",
    "- P(B|X1=3,X2=4) = (1/432) * 0.5 / (23/864) = 7/23\n",
    "\n",
    "- Naive Bayes would predict that the new instance belongs to class A"
   ]
  },
  {
   "cell_type": "code",
   "execution_count": null,
   "id": "7190874c-19d3-4b96-af57-9c954066fc4d",
   "metadata": {},
   "outputs": [],
   "source": []
  }
 ],
 "metadata": {
  "kernelspec": {
   "display_name": "Python 3 (ipykernel)",
   "language": "python",
   "name": "python3"
  },
  "language_info": {
   "codemirror_mode": {
    "name": "ipython",
    "version": 3
   },
   "file_extension": ".py",
   "mimetype": "text/x-python",
   "name": "python",
   "nbconvert_exporter": "python",
   "pygments_lexer": "ipython3",
   "version": "3.9.12"
  }
 },
 "nbformat": 4,
 "nbformat_minor": 5
}
