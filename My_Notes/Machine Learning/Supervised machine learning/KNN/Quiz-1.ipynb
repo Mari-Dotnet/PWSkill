{
 "cells": [
  {
   "cell_type": "markdown",
   "id": "fc64e21c-6eee-456a-aa60-75219256ca86",
   "metadata": {},
   "source": [
    "####  What is the distance metric used in the KNN repressor?\n",
    "- Euclidean distance\n",
    "- Manhattan distance\n",
    "- Minkowski distance"
   ]
  },
  {
   "cell_type": "markdown",
   "id": "7d819700-6003-41b5-9a29-1cd405766374",
   "metadata": {},
   "source": [
    "- For low-dimensional data, the KD Tree Algorithm might be the best solution. As seen above, the node divisions of the KD Tree are axis-aligned and cannot take a different shape. So the distribution might not be correctly mapped, leading to poor performance.\n",
    "- For a high-dimensional space, the Ball Tree Algorithm might be the best solution. Its performance depends on the amount of training data, the dimensionality, and the structure of the data. Having many data points that are noise can also lead to a bad performance due to no clear structure."
   ]
  },
  {
   "cell_type": "markdown",
   "id": "13ecac35-dbe1-4a99-8eed-7919aff23a1d",
   "metadata": {},
   "source": [
    "#### What is the optimal value of k in the KNN repressor?\n",
    "- The optimal value of k in the KNN repressor depends on the dataset and the problem being solved. A higher value of k may reduce the effect of noise on the predictions, but it may also decrease the accuracy of the model."
   ]
  },
  {
   "cell_type": "markdown",
   "id": "849482d8-1ea3-4d06-901b-4c7e34f192ce",
   "metadata": {},
   "source": [
    "#### Which of the following is not a disadvantage of the KNN repressor?\n",
    "- The high computation time\n",
    "- The KNN repressor has a relatively low computation time compared to other machine learning algorithms. However, it does have some disadvantages, including the need for feature scaling, sensitivity to the number of features, and sensitivity to outliers."
   ]
  },
  {
   "cell_type": "markdown",
   "id": "4ac65be6-f5d8-4ee0-9fbe-576875663957",
   "metadata": {},
   "source": [
    "####  In the KNN repressor, if k is set to 1 and there are 5 nearest neighbors, what value will be predicted for a new data point with the following distances to its neighbors: 1.2, 1.5, 1.8, 2.0, 2.5?\n",
    "- ince k is set to 1, the predicted value will be the value of the closest neighbor, which has a distance of 1.2 and a corresponding value of 1.5."
   ]
  },
  {
   "cell_type": "markdown",
   "id": "6b15c246-e9ec-4bf2-a15a-f8c65b859889",
   "metadata": {},
   "source": [
    "#### How does the KNN repressor handle missing values?\n",
    "- It uses imputation methods to estimate the missing values"
   ]
  },
  {
   "cell_type": "markdown",
   "id": "65fb5f53-df10-4f31-b2bd-63df0702882f",
   "metadata": {},
   "source": [
    "#### If the KNN repressor is trained on a dataset with 100 data points, and k is set to 10, how many neighbors will be used to predict the value of a new data point?\n",
    "-  Since k is set to 10, the KNN repressor will use the 10 nearest neighbors to predict the value of the new data point."
   ]
  },
  {
   "cell_type": "markdown",
   "id": "852e2914-40c2-4f9f-a484-b73a0a4ec97c",
   "metadata": {},
   "source": [
    "#### Which of the following is NOT a variant of KNN algorithm?\n",
    "- Naive Bayes"
   ]
  },
  {
   "cell_type": "markdown",
   "id": "7240867a-2d57-47b4-8641-436ca03e3fc5",
   "metadata": {},
   "source": [
    "#### Which variant of KNN algorithm uses a brute force approach to compute the distances between the new data point and all the training data points?\n",
    "- In the Brute Force KNN algorithm, the distances between the new data point and all the training data points are computed directly, without any optimization techniques such as data structures."
   ]
  },
  {
   "cell_type": "markdown",
   "id": "eea54c6c-8333-4483-a122-76a9ffad3392",
   "metadata": {},
   "source": [
    "#### Which variant of KNN algorithm partitions the data points into a binary tree based on their features?\n",
    "- K-Dimension Tree"
   ]
  },
  {
   "cell_type": "markdown",
   "id": "4c86eef7-58f3-45c8-b2cf-0fdc55944a9a",
   "metadata": {},
   "source": [
    "#### Which of the following is an advantage of using K-Dimension Tree over Brute Force KNN?\n",
    "- K-Dimension Tree can handle high-dimensional data more efficiently."
   ]
  },
  {
   "cell_type": "markdown",
   "id": "fc7228e5-ae9e-4246-b8d3-9076f8512b38",
   "metadata": {},
   "source": [
    "####  Which variant of KNN algorithm is more appropriate for data with unevenly distributed data points?\n",
    "- Ball Tree is more appropriate for data with unevenly distributed data points because it partitions the data into hyperspheres, which can better capture the geometry of the data."
   ]
  },
  {
   "cell_type": "markdown",
   "id": "cc52f272-a42e-47e1-99a2-2b8c194a8e2d",
   "metadata": {},
   "source": [
    "#### In K-Dimension Tree, if the number of training data points is 1000 and the number of features is 10, how many splits will be performed to construct the binary tree?\n",
    "- : In K-Dimension Tree, the binary tree is constructed by recursively splitting the data points along each feature dimension. The number of splits required to construct the binary tree is equal to the logarithm of the number of data points to the base 2, multiplied by the number of features. Therefore, the number of splits in this case is log2(1000) x 10 = 20."
   ]
  },
  {
   "cell_type": "markdown",
   "id": "c964d73f-c74d-4265-9a85-b19ffd5a3b8c",
   "metadata": {},
   "source": [
    "#### In Brute Force KNN, if the number of training data points is 1000 and the number of features is 10, how many distances will be computed to classify a single new data point?\n",
    "- In Brute Force KNN, the distance between the new data point and all the training data points needs to be computed to classify a single new data point. Therefore, the number of distances to be computed is equal to the number of training data points multiplied by the number of features, which is 1000 x 10 = 10,000."
   ]
  },
  {
   "cell_type": "code",
   "execution_count": null,
   "id": "86dee23e-cf4f-4db6-b99d-768a0a557ec8",
   "metadata": {},
   "outputs": [],
   "source": []
  }
 ],
 "metadata": {
  "kernelspec": {
   "display_name": "Python 3 (ipykernel)",
   "language": "python",
   "name": "python3"
  },
  "language_info": {
   "codemirror_mode": {
    "name": "ipython",
    "version": 3
   },
   "file_extension": ".py",
   "mimetype": "text/x-python",
   "name": "python",
   "nbconvert_exporter": "python",
   "pygments_lexer": "ipython3",
   "version": "3.9.12"
  }
 },
 "nbformat": 4,
 "nbformat_minor": 5
}
