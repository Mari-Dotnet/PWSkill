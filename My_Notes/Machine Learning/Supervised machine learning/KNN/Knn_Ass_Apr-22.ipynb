{
 "cells": [
  {
   "cell_type": "markdown",
   "id": "dcf1fa1f-8d8c-48bc-94e2-4a04db93608c",
   "metadata": {},
   "source": [
    "#### Q1. Write a Python code to implement the KNN classifier algorithm on load_iris dataset in sklearn.datasets.\n",
    "\n",
    "#### Q6. Implement a function to standardise the features before applying KNN classifier."
   ]
  },
  {
   "cell_type": "code",
   "execution_count": 32,
   "id": "1374068e-d7dd-4e23-b838-06d7ffa4e6bb",
   "metadata": {},
   "outputs": [],
   "source": [
    "import pandas as pd\n",
    "from sklearn.datasets import load_iris\n",
    "\n",
    "from sklearn.preprocessing import StandardScaler"
   ]
  },
  {
   "cell_type": "code",
   "execution_count": 4,
   "id": "8acc519b-218d-4f69-a246-7e8f7da6cecb",
   "metadata": {},
   "outputs": [],
   "source": [
    "from sklearn.model_selection import train_test_split"
   ]
  },
  {
   "cell_type": "code",
   "execution_count": 5,
   "id": "5a5b4db4-fa4b-4f85-94c3-c17ab475523a",
   "metadata": {},
   "outputs": [],
   "source": [
    "iris = load_iris()"
   ]
  },
  {
   "cell_type": "code",
   "execution_count": 6,
   "id": "dd45d0e2-a758-4f3d-91da-1a872e80dc7a",
   "metadata": {},
   "outputs": [],
   "source": [
    "X_train, X_test, y_train, y_test = train_test_split(iris.data, iris.target, test_size=0.33, random_state=42)"
   ]
  },
  {
   "cell_type": "code",
   "execution_count": 33,
   "id": "39801883-8800-4671-bae8-adafde15b5fc",
   "metadata": {},
   "outputs": [],
   "source": [
    "scaler=StandardScaler()"
   ]
  },
  {
   "cell_type": "code",
   "execution_count": 40,
   "id": "b9792879-f5c4-4bf0-8e0f-05c411316bfb",
   "metadata": {},
   "outputs": [],
   "source": [
    "X_train_scaled=scaler.fit_transform(X_train)\n",
    "X_test_sclaed=scaler.transform(X_test)"
   ]
  },
  {
   "cell_type": "code",
   "execution_count": 35,
   "id": "aa5dbc29-151f-4f52-aa19-9fcca79ce1fb",
   "metadata": {},
   "outputs": [],
   "source": [
    "from sklearn.neighbors import KNeighborsClassifier"
   ]
  },
  {
   "cell_type": "code",
   "execution_count": 8,
   "id": "6163bda9-24b7-4476-ad82-9e8b12ff0c10",
   "metadata": {},
   "outputs": [],
   "source": [
    "knn=KNeighborsClassifier()"
   ]
  },
  {
   "cell_type": "code",
   "execution_count": 41,
   "id": "29b40043-5d3b-43ed-bebe-37d43be29da1",
   "metadata": {},
   "outputs": [
    {
     "data": {
      "text/plain": [
       "KNeighborsClassifier()"
      ]
     },
     "execution_count": 41,
     "metadata": {},
     "output_type": "execute_result"
    }
   ],
   "source": [
    "knn.fit(X_train_scaled,y_train)"
   ]
  },
  {
   "cell_type": "code",
   "execution_count": 42,
   "id": "2f523923-d527-49ee-ae2e-acb3a0e97f22",
   "metadata": {},
   "outputs": [],
   "source": [
    "y_pred=knn.predict(X_test_sclaed)"
   ]
  },
  {
   "cell_type": "code",
   "execution_count": 38,
   "id": "b84963f0-be53-495e-98c6-92d7e4f51cba",
   "metadata": {},
   "outputs": [],
   "source": [
    "from sklearn.metrics import accuracy_score"
   ]
  },
  {
   "cell_type": "code",
   "execution_count": 43,
   "id": "4d4f3049-5a7b-476f-8185-493d9b1de4ce",
   "metadata": {},
   "outputs": [
    {
     "data": {
      "text/plain": [
       "0.98"
      ]
     },
     "execution_count": 43,
     "metadata": {},
     "output_type": "execute_result"
    }
   ],
   "source": [
    "accuracy_score(y_test,y_pred)"
   ]
  },
  {
   "cell_type": "markdown",
   "id": "111452d2-84f2-4180-9780-aec3206e6779",
   "metadata": {},
   "source": [
    "#### Q5. Write a Python code snippet to implement the KNN classifier algorithm with weighted voting on load_iris dataset in sklearn.datasets."
   ]
  },
  {
   "cell_type": "code",
   "execution_count": 13,
   "id": "2bea5ac8-9e68-4e09-b946-2ffc4d69d731",
   "metadata": {},
   "outputs": [],
   "source": [
    "knn_weights=KNeighborsClassifier(\n",
    "    weights='distance')"
   ]
  },
  {
   "cell_type": "code",
   "execution_count": 14,
   "id": "6e8012bf-2af1-4f38-9f64-6ece48ea4a31",
   "metadata": {},
   "outputs": [
    {
     "data": {
      "text/plain": [
       "KNeighborsClassifier(weights='distance')"
      ]
     },
     "execution_count": 14,
     "metadata": {},
     "output_type": "execute_result"
    }
   ],
   "source": [
    "knn_weights.fit(X_train,y_train)"
   ]
  },
  {
   "cell_type": "code",
   "execution_count": 15,
   "id": "01665ed9-34e6-475c-b935-08881b9a8bd3",
   "metadata": {},
   "outputs": [],
   "source": [
    "y_pred_weight=knn.predict(X_test)"
   ]
  },
  {
   "cell_type": "code",
   "execution_count": 17,
   "id": "2c7baeea-86e4-4dc3-bbb1-65ffc4cacfe7",
   "metadata": {},
   "outputs": [
    {
     "data": {
      "text/plain": [
       "0.98"
      ]
     },
     "execution_count": 17,
     "metadata": {},
     "output_type": "execute_result"
    }
   ],
   "source": [
    "accuracy_score(y_test,y_pred_weight)"
   ]
  },
  {
   "cell_type": "markdown",
   "id": "bc9312aa-2c30-41a3-8cfb-266b2ee6fb51",
   "metadata": {},
   "source": [
    "#### Q3. Write a Python code snippet to find the optimal value of K for the KNN classifier algorithm using cross-validation on load_iris dataset in sklearn.datasets."
   ]
  },
  {
   "cell_type": "code",
   "execution_count": 18,
   "id": "f4245b93-0e2c-4da8-8bcd-ba6e8da3f309",
   "metadata": {},
   "outputs": [],
   "source": [
    "from sklearn.model_selection import GridSearchCV"
   ]
  },
  {
   "cell_type": "code",
   "execution_count": 19,
   "id": "42cdcc4d-5f30-4df9-92b5-6b6250ccfa4d",
   "metadata": {},
   "outputs": [],
   "source": [
    "parameter={\n",
    "    'n_neighbors':[3,4,5.6],\n",
    "    'algorithm' : ['ball_tree', 'kd_tree']  \n",
    "}"
   ]
  },
  {
   "cell_type": "code",
   "execution_count": 20,
   "id": "23508f2f-d901-42e8-899b-52ec78aaaa56",
   "metadata": {},
   "outputs": [],
   "source": [
    "cv=GridSearchCV(knn_weights,param_grid=parameter,cv=5,scoring='accuracy',verbose=3)"
   ]
  },
  {
   "cell_type": "code",
   "execution_count": null,
   "id": "f28ecf5d-8acd-4bb2-954b-e6ccb8497739",
   "metadata": {},
   "outputs": [],
   "source": [
    "cv.fit(X_train,y_train)"
   ]
  },
  {
   "cell_type": "code",
   "execution_count": 22,
   "id": "56e34111-6677-4b01-8549-eba24e1211b5",
   "metadata": {},
   "outputs": [
    {
     "data": {
      "text/plain": [
       "{'algorithm': 'ball_tree', 'n_neighbors': 3}"
      ]
     },
     "execution_count": 22,
     "metadata": {},
     "output_type": "execute_result"
    }
   ],
   "source": [
    "cv.best_params_"
   ]
  },
  {
   "cell_type": "code",
   "execution_count": 23,
   "id": "e6ae8bf4-15e4-416f-bde4-ac3cf792d821",
   "metadata": {},
   "outputs": [
    {
     "data": {
      "text/plain": [
       "0.9400000000000001"
      ]
     },
     "execution_count": 23,
     "metadata": {},
     "output_type": "execute_result"
    }
   ],
   "source": [
    "cv.best_score_"
   ]
  },
  {
   "cell_type": "code",
   "execution_count": 24,
   "id": "5cb8d4f4-62b4-4efb-85e0-bfdbdfc24aa5",
   "metadata": {},
   "outputs": [],
   "source": [
    "## compare to cv result our normal method got good accuracy"
   ]
  },
  {
   "cell_type": "markdown",
   "id": "035a0077-8021-47aa-8b38-e268157b0a64",
   "metadata": {},
   "source": [
    "#### Q7. Write a Python function to calculate the euclidean distance between two points."
   ]
  },
  {
   "cell_type": "code",
   "execution_count": 26,
   "id": "ca753f32-fd6f-4cd2-898d-2bfdf955e856",
   "metadata": {},
   "outputs": [],
   "source": [
    "import math\n",
    "\n",
    "def euclidean_distance(point1, point2):\n",
    "    distance = 0\n",
    "    for i in range(len(point1)):\n",
    "        distance += (point1[i] - point2[i])**2\n",
    "    return math.sqrt(distance)"
   ]
  },
  {
   "cell_type": "markdown",
   "id": "b171b8e3-4c6b-4997-8c14-f8722049342d",
   "metadata": {},
   "source": [
    "#### Q8. Write a Python function to calculate the manhattan distance between two points."
   ]
  },
  {
   "cell_type": "code",
   "execution_count": 28,
   "id": "02ae80bf-36f4-429d-b327-5c0beff99c82",
   "metadata": {},
   "outputs": [],
   "source": [
    "def manhattan_distance(point1, point2):\n",
    "    distance = 0\n",
    "    for i in range(len(point1)):\n",
    "        distance += abs(point1[i] - point2[i])\n",
    "    return distance"
   ]
  },
  {
   "cell_type": "markdown",
   "id": "c81e14c3-c618-466a-9dc1-82d3ba113b86",
   "metadata": {},
   "source": [
    "#### Q2. Write a Python code to implement the KNN regressor algorithm on load_boston dataset in sklearn.datasets.\n",
    "\n",
    "#### Q4. Implement the KNN regressor algorithm with feature scaling on load_boston dataset in sklearn.datasets."
   ]
  },
  {
   "cell_type": "code",
   "execution_count": 51,
   "id": "b36efbf1-ba22-426d-b1d7-07e37bd17dae",
   "metadata": {},
   "outputs": [],
   "source": [
    "from sklearn.datasets import load_boston\n",
    "from sklearn.model_selection import train_test_split\n",
    "from sklearn.neighbors import KNeighborsRegressor\n",
    "from sklearn.metrics import mean_squared_error,r2_score"
   ]
  },
  {
   "cell_type": "code",
   "execution_count": null,
   "id": "02b07c7a-e5ae-4849-8f40-9de1fb79489e",
   "metadata": {},
   "outputs": [],
   "source": [
    "boston = load_boston()"
   ]
  },
  {
   "cell_type": "code",
   "execution_count": 44,
   "id": "4ca973e6-472a-4f9c-84b1-3531ace2bb0d",
   "metadata": {},
   "outputs": [],
   "source": [
    "X_train, X_test, y_train, y_test = train_test_split(boston.data, boston.target, test_size=0.33, random_state=42)"
   ]
  },
  {
   "cell_type": "code",
   "execution_count": 45,
   "id": "3958f30b-aae4-4bd7-be2f-8b18f613eb00",
   "metadata": {},
   "outputs": [],
   "source": [
    "scaleddata=StandardScaler()"
   ]
  },
  {
   "cell_type": "code",
   "execution_count": 46,
   "id": "8f0073b4-fc49-49cf-ac9d-9973ed50e0a9",
   "metadata": {},
   "outputs": [],
   "source": [
    "X_train=scaleddata.fit_transform(X_train)\n",
    "X_test=scaleddata.transform(X_test)"
   ]
  },
  {
   "cell_type": "code",
   "execution_count": 47,
   "id": "c02dcf38-56a9-47a6-8269-5c2b90242b03",
   "metadata": {},
   "outputs": [],
   "source": [
    "knnr=KNeighborsRegressor()"
   ]
  },
  {
   "cell_type": "code",
   "execution_count": 48,
   "id": "f254121b-1742-4024-90e9-7bb10ad824a3",
   "metadata": {},
   "outputs": [
    {
     "data": {
      "text/plain": [
       "KNeighborsRegressor()"
      ]
     },
     "execution_count": 48,
     "metadata": {},
     "output_type": "execute_result"
    }
   ],
   "source": [
    "knnr.fit(X_train,y_train)"
   ]
  },
  {
   "cell_type": "code",
   "execution_count": 49,
   "id": "70d380a3-075d-4dcf-b2ea-5158842f0f61",
   "metadata": {},
   "outputs": [],
   "source": [
    "y_predr=knnr.predict(X_test)"
   ]
  },
  {
   "cell_type": "code",
   "execution_count": 52,
   "id": "67de3418-5f79-481b-9c55-bb65e5e8a29e",
   "metadata": {},
   "outputs": [
    {
     "name": "stdout",
     "output_type": "stream",
     "text": [
      "0.7480627256564338\n"
     ]
    }
   ],
   "source": [
    "print(r2_score(y_test,y_predr))"
   ]
  },
  {
   "cell_type": "code",
   "execution_count": null,
   "id": "e5f86cd8-94f2-4120-8470-7798199d1a27",
   "metadata": {},
   "outputs": [],
   "source": []
  }
 ],
 "metadata": {
  "kernelspec": {
   "display_name": "Python 3 (ipykernel)",
   "language": "python",
   "name": "python3"
  },
  "language_info": {
   "codemirror_mode": {
    "name": "ipython",
    "version": 3
   },
   "file_extension": ".py",
   "mimetype": "text/x-python",
   "name": "python",
   "nbconvert_exporter": "python",
   "pygments_lexer": "ipython3",
   "version": "3.9.12"
  }
 },
 "nbformat": 4,
 "nbformat_minor": 5
}
