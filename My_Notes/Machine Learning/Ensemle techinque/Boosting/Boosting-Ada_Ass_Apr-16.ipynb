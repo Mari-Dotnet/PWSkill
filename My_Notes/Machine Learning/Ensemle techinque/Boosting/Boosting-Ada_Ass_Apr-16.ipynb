{
 "cells": [
  {
   "cell_type": "markdown",
   "id": "d83d98b9-caa4-4d23-9077-648d38bf7179",
   "metadata": {},
   "source": [
    "#### Q1. What is boosting in machine learning?\n",
    "- all the decsion tree models are sequentailly connected \n",
    "- all weak learners combined to trasform the strong learner."
   ]
  },
  {
   "cell_type": "markdown",
   "id": "c062d031-487a-45fe-b9b9-12479e1ccd0b",
   "metadata": {},
   "source": [
    "#### Q2. What are the advantages and limitations of using boosting techniques?\n",
    "\n",
    "##### Adbantages\n",
    "- Boosting can significantly improve the predictive performance of machine learning models compared to single models. \n",
    "- Boosting is versatile and can be applied to a wide range of machine learning tasks, including classification, regression, and ranking.\n",
    "- Boosting is resistant to overfitting because it combines many weak models into a strong one, which reduces the generalization error.\n",
    "\n",
    "### Limitation:\n",
    "- Boosting can be sensitive to noisy data or outliers, which may lead to overfitting. Therefore, it requires careful preprocessing and outlier detection.\n",
    "- Boosting can be difficult to interpret because it combines many weak models into a complex one, making it hard to understand how the final predictions are made."
   ]
  },
  {
   "cell_type": "markdown",
   "id": "1362a28f-7dd1-43d5-9c7c-e24185c2f8c0",
   "metadata": {},
   "source": [
    "#### Q3. Explain how boosting works.\n",
    "- The key idea behind boosting is to create a strong predictor by combining many weak models, each of which focuses on different examples or aspects of the data. By iteratively adjusting the weights of the examples, boosting emphasizes the difficult examples that are misclassified by the current model, leading to a more accurate and robust predictor."
   ]
  },
  {
   "cell_type": "markdown",
   "id": "d77e5f77-8f0e-4a02-8784-acc3c53c54cd",
   "metadata": {},
   "source": [
    "### Q4. What are the different types of boosting algorithms?\n",
    "- Ada boost\n",
    "- Gradient boost\n",
    "- Xg-boost"
   ]
  },
  {
   "cell_type": "markdown",
   "id": "042dba43-9aff-4ef6-88ad-f8afbb017eb3",
   "metadata": {},
   "source": [
    "#### Q5. What are some common parameters in boosting algorithms?\n",
    "- Base learner\n",
    "- Number of iterations (or trees): \n",
    "- Depth (or complexity) of the base learner\n",
    "- Regularization"
   ]
  },
  {
   "cell_type": "markdown",
   "id": "7f8d99e2-6646-46ce-83fd-c1ba56150d34",
   "metadata": {},
   "source": [
    "#### Q6. How do boosting algorithms combine weak learners to create a strong learner?\n",
    "\n",
    "A base model (e.g., a decision tree) is trained on the original training set.\n",
    "\n",
    "The algorithm then adjusts the weights of the examples in the training set based on the performance of the base model. Specifically, the weights of the misclassified examples are increased, and the weights of the correctly classified examples are decreased. This process focuses the attention of the next base model on the examples that were misclassified by the previous model.\n",
    "\n",
    "A new base model is trained on the modified dataset with updated example weights. This model is also a weak learner, but it should be better than the previous model at classifying the misclassified examples.\n",
    "\n",
    "Steps 2 and 3 are repeated iteratively for a fixed number of iterations (or until a stopping criterion is met), with each new model trying to improve the predictions of the previous ones.\n",
    "\n",
    "Finally, the output of the boosting algorithm is a weighted combination of the predictions of all the base models, where the weights are determined by the performance of each model on the training set. Typically, models that perform better on the training set have higher weights."
   ]
  },
  {
   "cell_type": "markdown",
   "id": "78ec9af1-eba9-49cd-b7fb-f20f4ad909fb",
   "metadata": {},
   "source": [
    "### Q7. Explain the concept of AdaBoost algorithm and its working.\n",
    "\n",
    "- Assign equal weights to each example in the training set.\n",
    "\n",
    "- Train a weak model (e.g., a decision tree) on the weighted training set.\n",
    "\n",
    "- Compute the weighted error rate of the weak model, which is the sum of the weights of the misclassified examples.\n",
    "\n",
    "- Compute the weight of the weak model in the final prediction, which is proportional to its accuracy. A more accurate weak model will have a higher weight.\n",
    "\n",
    "- Update the weights of the examples in the training set, giving higher weight to the misclassified examples. This focuses the attention of the next weak model on the examples that were misclassified by the previous model.\n",
    "\n",
    "- Repeat steps 2-5 for a fixed number of iterations (or until a stopping criterion is met), with each new weak model trying to improve the predictions of the previous ones.\n",
    "\n",
    "- Finally, the output of the AdaBoost algorithm is a weighted combination of the predictions of all the weak models, where the weight of each model is determined by its accuracy."
   ]
  },
  {
   "cell_type": "markdown",
   "id": "36255aec-f84f-4c11-8c63-cbe499706f10",
   "metadata": {},
   "source": [
    "#### Q8. What is the loss function used in AdaBoost algorithm?\n",
    "- The error function that AdaBoost uses is an exponential loss function. First we find the products between the true values of training samples and the overall prediction for each sample. Then we take the sum of all the exponentials of these products in order to compute the error at iteration m"
   ]
  },
  {
   "cell_type": "markdown",
   "id": "56690b56-7219-4616-a64d-75ace0d70e1c",
   "metadata": {},
   "source": [
    "#### Q9. How does the AdaBoost algorithm update the weights of misclassified samples?\n",
    "- In AdaBoost, the weights of the misclassified examples are updated after each iteration, in order to focus the attention of the next weak model on the examples that were misclassified by the previous model. The weights of the misclassified examples are increased, while the weights of the correctly classified examples are decreased."
   ]
  },
  {
   "cell_type": "markdown",
   "id": "77e3ed3d-a387-4d86-9435-a0bd18e8957e",
   "metadata": {},
   "source": [
    "#### Q10. What is the effect of increasing the number of estimators in AdaBoost algorithm?\n",
    "- increasing the number of estimators can also lead to overfitting, especially if the number of estimators is too large compared to the size of the training set. In this case, the AdaBoost algorithm may start to memorize the training set instead of learning the general patterns, leading to poor performance on new, unseen data"
   ]
  },
  {
   "cell_type": "code",
   "execution_count": null,
   "id": "60a879fb-dff6-499a-83ca-5e29bbfea806",
   "metadata": {},
   "outputs": [],
   "source": []
  }
 ],
 "metadata": {
  "kernelspec": {
   "display_name": "Python 3 (ipykernel)",
   "language": "python",
   "name": "python3"
  },
  "language_info": {
   "codemirror_mode": {
    "name": "ipython",
    "version": 3
   },
   "file_extension": ".py",
   "mimetype": "text/x-python",
   "name": "python",
   "nbconvert_exporter": "python",
   "pygments_lexer": "ipython3",
   "version": "3.9.12"
  }
 },
 "nbformat": 4,
 "nbformat_minor": 5
}
