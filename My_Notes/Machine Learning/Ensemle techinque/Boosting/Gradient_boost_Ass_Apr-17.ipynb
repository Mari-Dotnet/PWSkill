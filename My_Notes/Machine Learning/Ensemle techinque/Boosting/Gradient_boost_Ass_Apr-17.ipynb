{
 "cells": [
  {
   "cell_type": "markdown",
   "id": "627817cc-1c95-42ec-987e-3ac3c864c5d6",
   "metadata": {},
   "source": [
    "#### Q1. What is Gradient Boosting Regression?\n",
    "- Gradient boosting Regression calculates the difference between the current prediction and the known correct target value. This difference is called residual. After that Gradient boosting Regression trains a weak model that maps features to that residual."
   ]
  },
  {
   "cell_type": "markdown",
   "id": "3ca6300b-ddd7-47a2-a941-3db69b62f32d",
   "metadata": {},
   "source": [
    "#### Q4. What is a weak learner in Gradient Boosting?\n",
    "- Decision trees are used as the weak learner in gradient boosting. Specifically regression trees are used that output real values for splits and whose output can be added together, allowing subsequent models outputs to be added and “correct” the residuals in the predictions"
   ]
  },
  {
   "cell_type": "markdown",
   "id": "2759580d-47ac-45fb-87dd-b4cad1fe5369",
   "metadata": {},
   "source": [
    "#### Q5. What is the intuition behind the Gradient Boosting algorithm?\n",
    "- The key idea is to optimize a loss function that measures the difference between the predicted values and the true labels, and to use gradient descent to find the optimal parameters of the model. In gradient boosting, the loss function is typically a differentiable function, such as mean squared error for regression problems or cross-entropy for classification problems."
   ]
  },
  {
   "cell_type": "markdown",
   "id": "4906a437-350b-4a03-b7ff-a57ac593d153",
   "metadata": {},
   "source": [
    "#### Q6. How does Gradient Boosting algorithm build an ensemble of weak learners?\n",
    "- The Gradient Boosting algorithm builds an ensemble of weak learners by iteratively adding models to the ensemble and adjusting the predictions of each model to correct for the errors of the previous models."
   ]
  },
  {
   "cell_type": "markdown",
   "id": "3ba58261-6089-4e32-ab52-f8f36df7b497",
   "metadata": {},
   "source": [
    "### Q7. What are the steps involved in constructing the mathematical intuition of Gradient Boosting algorithm?\n",
    "- Initialize the ensemble\n",
    "- Fit a weak learner\n",
    "- Calculate the residuals\n",
    "- Update the predictions\n",
    "- Repeat steps 2-4\n",
    "- Combine the weak learners"
   ]
  },
  {
   "cell_type": "markdown",
   "id": "8b78ac65-1d99-4f3d-8815-7d2f59ff3423",
   "metadata": {},
   "source": [
    "#### Q2. Implement a simple gradient boosting algorithm from scratch using Python and NumPy. Use a simple regression problem as an example and train the model on a small dataset. Evaluate the model's= performance using metrics such as mean squared error and R-squared."
   ]
  },
  {
   "cell_type": "markdown",
   "id": "e566250c-49cf-4e92-8195-8857513d087e",
   "metadata": {},
   "source": [
    "#### Q3. Experiment with different hyperparameters such as learning rate, number of trees, and tree depth to optimise the performance of the model. Use grid search or random search to find the best hyperparameters"
   ]
  },
  {
   "cell_type": "code",
   "execution_count": 1,
   "id": "e9956975-fe4b-404d-9c94-2c0821136299",
   "metadata": {},
   "outputs": [],
   "source": [
    "###Q2 and Q3 combined below\n",
    "import pandas as pd\n",
    "import numpy as np\n",
    "import warnings\n",
    "warnings.filterwarnings('ignore')\n",
    "import seaborn as sns\n"
   ]
  },
  {
   "cell_type": "code",
   "execution_count": 2,
   "id": "4cf67696-23bd-4bb5-af88-27ef250bb96c",
   "metadata": {},
   "outputs": [],
   "source": [
    "data=sns.load_dataset('tips')"
   ]
  },
  {
   "cell_type": "code",
   "execution_count": 4,
   "id": "4bf092f1-f16f-4ede-98fd-930118edb91c",
   "metadata": {},
   "outputs": [
    {
     "data": {
      "text/plain": [
       "total_bill    0\n",
       "tip           0\n",
       "sex           0\n",
       "smoker        0\n",
       "day           0\n",
       "time          0\n",
       "size          0\n",
       "dtype: int64"
      ]
     },
     "execution_count": 4,
     "metadata": {},
     "output_type": "execute_result"
    }
   ],
   "source": [
    "data.isnull().sum()"
   ]
  },
  {
   "cell_type": "code",
   "execution_count": 5,
   "id": "1a1c0e72-858c-40c4-9b34-f3b7af705938",
   "metadata": {},
   "outputs": [
    {
     "name": "stdout",
     "output_type": "stream",
     "text": [
      "<class 'pandas.core.frame.DataFrame'>\n",
      "RangeIndex: 244 entries, 0 to 243\n",
      "Data columns (total 7 columns):\n",
      " #   Column      Non-Null Count  Dtype   \n",
      "---  ------      --------------  -----   \n",
      " 0   total_bill  244 non-null    float64 \n",
      " 1   tip         244 non-null    float64 \n",
      " 2   sex         244 non-null    category\n",
      " 3   smoker      244 non-null    category\n",
      " 4   day         244 non-null    category\n",
      " 5   time        244 non-null    category\n",
      " 6   size        244 non-null    int64   \n",
      "dtypes: category(4), float64(2), int64(1)\n",
      "memory usage: 7.4 KB\n"
     ]
    }
   ],
   "source": [
    "data.info()"
   ]
  },
  {
   "cell_type": "code",
   "execution_count": 6,
   "id": "72984ba6-c5b7-4234-b3ff-ee41dfb8ef10",
   "metadata": {},
   "outputs": [
    {
     "data": {
      "text/html": [
       "<div>\n",
       "<style scoped>\n",
       "    .dataframe tbody tr th:only-of-type {\n",
       "        vertical-align: middle;\n",
       "    }\n",
       "\n",
       "    .dataframe tbody tr th {\n",
       "        vertical-align: top;\n",
       "    }\n",
       "\n",
       "    .dataframe thead th {\n",
       "        text-align: right;\n",
       "    }\n",
       "</style>\n",
       "<table border=\"1\" class=\"dataframe\">\n",
       "  <thead>\n",
       "    <tr style=\"text-align: right;\">\n",
       "      <th></th>\n",
       "      <th>total_bill</th>\n",
       "      <th>tip</th>\n",
       "      <th>sex</th>\n",
       "      <th>smoker</th>\n",
       "      <th>day</th>\n",
       "      <th>time</th>\n",
       "      <th>size</th>\n",
       "    </tr>\n",
       "  </thead>\n",
       "  <tbody>\n",
       "    <tr>\n",
       "      <th>0</th>\n",
       "      <td>16.99</td>\n",
       "      <td>1.01</td>\n",
       "      <td>Female</td>\n",
       "      <td>No</td>\n",
       "      <td>Sun</td>\n",
       "      <td>Dinner</td>\n",
       "      <td>2</td>\n",
       "    </tr>\n",
       "    <tr>\n",
       "      <th>1</th>\n",
       "      <td>10.34</td>\n",
       "      <td>1.66</td>\n",
       "      <td>Male</td>\n",
       "      <td>No</td>\n",
       "      <td>Sun</td>\n",
       "      <td>Dinner</td>\n",
       "      <td>3</td>\n",
       "    </tr>\n",
       "    <tr>\n",
       "      <th>2</th>\n",
       "      <td>21.01</td>\n",
       "      <td>3.50</td>\n",
       "      <td>Male</td>\n",
       "      <td>No</td>\n",
       "      <td>Sun</td>\n",
       "      <td>Dinner</td>\n",
       "      <td>3</td>\n",
       "    </tr>\n",
       "    <tr>\n",
       "      <th>3</th>\n",
       "      <td>23.68</td>\n",
       "      <td>3.31</td>\n",
       "      <td>Male</td>\n",
       "      <td>No</td>\n",
       "      <td>Sun</td>\n",
       "      <td>Dinner</td>\n",
       "      <td>2</td>\n",
       "    </tr>\n",
       "    <tr>\n",
       "      <th>4</th>\n",
       "      <td>24.59</td>\n",
       "      <td>3.61</td>\n",
       "      <td>Female</td>\n",
       "      <td>No</td>\n",
       "      <td>Sun</td>\n",
       "      <td>Dinner</td>\n",
       "      <td>4</td>\n",
       "    </tr>\n",
       "  </tbody>\n",
       "</table>\n",
       "</div>"
      ],
      "text/plain": [
       "   total_bill   tip     sex smoker  day    time  size\n",
       "0       16.99  1.01  Female     No  Sun  Dinner     2\n",
       "1       10.34  1.66    Male     No  Sun  Dinner     3\n",
       "2       21.01  3.50    Male     No  Sun  Dinner     3\n",
       "3       23.68  3.31    Male     No  Sun  Dinner     2\n",
       "4       24.59  3.61  Female     No  Sun  Dinner     4"
      ]
     },
     "execution_count": 6,
     "metadata": {},
     "output_type": "execute_result"
    }
   ],
   "source": [
    "data.head()"
   ]
  },
  {
   "cell_type": "code",
   "execution_count": 22,
   "id": "c6b62f45-ca9f-4851-b7a2-e508f6c27e66",
   "metadata": {},
   "outputs": [
    {
     "data": {
      "text/html": [
       "<div>\n",
       "<style scoped>\n",
       "    .dataframe tbody tr th:only-of-type {\n",
       "        vertical-align: middle;\n",
       "    }\n",
       "\n",
       "    .dataframe tbody tr th {\n",
       "        vertical-align: top;\n",
       "    }\n",
       "\n",
       "    .dataframe thead th {\n",
       "        text-align: right;\n",
       "    }\n",
       "</style>\n",
       "<table border=\"1\" class=\"dataframe\">\n",
       "  <thead>\n",
       "    <tr style=\"text-align: right;\">\n",
       "      <th></th>\n",
       "      <th>tip</th>\n",
       "      <th>sex</th>\n",
       "      <th>smoker</th>\n",
       "      <th>day</th>\n",
       "      <th>time</th>\n",
       "      <th>size</th>\n",
       "    </tr>\n",
       "  </thead>\n",
       "  <tbody>\n",
       "    <tr>\n",
       "      <th>0</th>\n",
       "      <td>1.01</td>\n",
       "      <td>Female</td>\n",
       "      <td>No</td>\n",
       "      <td>Sun</td>\n",
       "      <td>Dinner</td>\n",
       "      <td>2</td>\n",
       "    </tr>\n",
       "    <tr>\n",
       "      <th>1</th>\n",
       "      <td>1.66</td>\n",
       "      <td>Male</td>\n",
       "      <td>No</td>\n",
       "      <td>Sun</td>\n",
       "      <td>Dinner</td>\n",
       "      <td>3</td>\n",
       "    </tr>\n",
       "    <tr>\n",
       "      <th>2</th>\n",
       "      <td>3.50</td>\n",
       "      <td>Male</td>\n",
       "      <td>No</td>\n",
       "      <td>Sun</td>\n",
       "      <td>Dinner</td>\n",
       "      <td>3</td>\n",
       "    </tr>\n",
       "    <tr>\n",
       "      <th>3</th>\n",
       "      <td>3.31</td>\n",
       "      <td>Male</td>\n",
       "      <td>No</td>\n",
       "      <td>Sun</td>\n",
       "      <td>Dinner</td>\n",
       "      <td>2</td>\n",
       "    </tr>\n",
       "    <tr>\n",
       "      <th>4</th>\n",
       "      <td>3.61</td>\n",
       "      <td>Female</td>\n",
       "      <td>No</td>\n",
       "      <td>Sun</td>\n",
       "      <td>Dinner</td>\n",
       "      <td>4</td>\n",
       "    </tr>\n",
       "    <tr>\n",
       "      <th>...</th>\n",
       "      <td>...</td>\n",
       "      <td>...</td>\n",
       "      <td>...</td>\n",
       "      <td>...</td>\n",
       "      <td>...</td>\n",
       "      <td>...</td>\n",
       "    </tr>\n",
       "    <tr>\n",
       "      <th>239</th>\n",
       "      <td>5.92</td>\n",
       "      <td>Male</td>\n",
       "      <td>No</td>\n",
       "      <td>Sat</td>\n",
       "      <td>Dinner</td>\n",
       "      <td>3</td>\n",
       "    </tr>\n",
       "    <tr>\n",
       "      <th>240</th>\n",
       "      <td>2.00</td>\n",
       "      <td>Female</td>\n",
       "      <td>Yes</td>\n",
       "      <td>Sat</td>\n",
       "      <td>Dinner</td>\n",
       "      <td>2</td>\n",
       "    </tr>\n",
       "    <tr>\n",
       "      <th>241</th>\n",
       "      <td>2.00</td>\n",
       "      <td>Male</td>\n",
       "      <td>Yes</td>\n",
       "      <td>Sat</td>\n",
       "      <td>Dinner</td>\n",
       "      <td>2</td>\n",
       "    </tr>\n",
       "    <tr>\n",
       "      <th>242</th>\n",
       "      <td>1.75</td>\n",
       "      <td>Male</td>\n",
       "      <td>No</td>\n",
       "      <td>Sat</td>\n",
       "      <td>Dinner</td>\n",
       "      <td>2</td>\n",
       "    </tr>\n",
       "    <tr>\n",
       "      <th>243</th>\n",
       "      <td>3.00</td>\n",
       "      <td>Female</td>\n",
       "      <td>No</td>\n",
       "      <td>Thur</td>\n",
       "      <td>Dinner</td>\n",
       "      <td>2</td>\n",
       "    </tr>\n",
       "  </tbody>\n",
       "</table>\n",
       "<p>244 rows × 6 columns</p>\n",
       "</div>"
      ],
      "text/plain": [
       "      tip     sex smoker   day    time  size\n",
       "0    1.01  Female     No   Sun  Dinner     2\n",
       "1    1.66    Male     No   Sun  Dinner     3\n",
       "2    3.50    Male     No   Sun  Dinner     3\n",
       "3    3.31    Male     No   Sun  Dinner     2\n",
       "4    3.61  Female     No   Sun  Dinner     4\n",
       "..    ...     ...    ...   ...     ...   ...\n",
       "239  5.92    Male     No   Sat  Dinner     3\n",
       "240  2.00  Female    Yes   Sat  Dinner     2\n",
       "241  2.00    Male    Yes   Sat  Dinner     2\n",
       "242  1.75    Male     No   Sat  Dinner     2\n",
       "243  3.00  Female     No  Thur  Dinner     2\n",
       "\n",
       "[244 rows x 6 columns]"
      ]
     },
     "execution_count": 22,
     "metadata": {},
     "output_type": "execute_result"
    }
   ],
   "source": [
    "## indendent and dependent variable\n",
    "X=data.iloc[:,1:]\n",
    "X"
   ]
  },
  {
   "cell_type": "code",
   "execution_count": 15,
   "id": "54cc62b8-82ba-4447-bbbc-7c27ddaea2e7",
   "metadata": {},
   "outputs": [],
   "source": [
    "y=data.iloc[:,0]"
   ]
  },
  {
   "cell_type": "code",
   "execution_count": 17,
   "id": "e9cfd896-4a6b-4d34-b907-c746b07c46b3",
   "metadata": {},
   "outputs": [
    {
     "data": {
      "text/html": [
       "<div>\n",
       "<style scoped>\n",
       "    .dataframe tbody tr th:only-of-type {\n",
       "        vertical-align: middle;\n",
       "    }\n",
       "\n",
       "    .dataframe tbody tr th {\n",
       "        vertical-align: top;\n",
       "    }\n",
       "\n",
       "    .dataframe thead th {\n",
       "        text-align: right;\n",
       "    }\n",
       "</style>\n",
       "<table border=\"1\" class=\"dataframe\">\n",
       "  <thead>\n",
       "    <tr style=\"text-align: right;\">\n",
       "      <th></th>\n",
       "      <th>total_bill</th>\n",
       "      <th>tip</th>\n",
       "      <th>size</th>\n",
       "    </tr>\n",
       "  </thead>\n",
       "  <tbody>\n",
       "    <tr>\n",
       "      <th>total_bill</th>\n",
       "      <td>1.000000</td>\n",
       "      <td>0.675734</td>\n",
       "      <td>0.598315</td>\n",
       "    </tr>\n",
       "    <tr>\n",
       "      <th>tip</th>\n",
       "      <td>0.675734</td>\n",
       "      <td>1.000000</td>\n",
       "      <td>0.489299</td>\n",
       "    </tr>\n",
       "    <tr>\n",
       "      <th>size</th>\n",
       "      <td>0.598315</td>\n",
       "      <td>0.489299</td>\n",
       "      <td>1.000000</td>\n",
       "    </tr>\n",
       "  </tbody>\n",
       "</table>\n",
       "</div>"
      ],
      "text/plain": [
       "            total_bill       tip      size\n",
       "total_bill    1.000000  0.675734  0.598315\n",
       "tip           0.675734  1.000000  0.489299\n",
       "size          0.598315  0.489299  1.000000"
      ]
     },
     "execution_count": 17,
     "metadata": {},
     "output_type": "execute_result"
    }
   ],
   "source": [
    "data.corr()"
   ]
  },
  {
   "cell_type": "code",
   "execution_count": 18,
   "id": "543ed18d-1b89-431b-8ed3-2a3c36d8c2bd",
   "metadata": {},
   "outputs": [],
   "source": [
    "from sklearn.model_selection import train_test_split"
   ]
  },
  {
   "cell_type": "code",
   "execution_count": 19,
   "id": "7b5e3b8a-d3f4-4d22-9ddb-e4576b9fe9ae",
   "metadata": {},
   "outputs": [],
   "source": [
    "X_train, X_test, y_train, y_test = train_test_split(X, y, test_size=0.33, random_state=42)"
   ]
  },
  {
   "cell_type": "code",
   "execution_count": 29,
   "id": "522f7dd9-c841-4294-a7da-676f33622d8f",
   "metadata": {},
   "outputs": [
    {
     "name": "stdout",
     "output_type": "stream",
     "text": [
      "<class 'pandas.core.frame.DataFrame'>\n",
      "RangeIndex: 244 entries, 0 to 243\n",
      "Data columns (total 7 columns):\n",
      " #   Column      Non-Null Count  Dtype   \n",
      "---  ------      --------------  -----   \n",
      " 0   total_bill  244 non-null    float64 \n",
      " 1   tip         244 non-null    float64 \n",
      " 2   sex         244 non-null    category\n",
      " 3   smoker      244 non-null    category\n",
      " 4   day         244 non-null    category\n",
      " 5   time        244 non-null    category\n",
      " 6   size        244 non-null    int64   \n",
      "dtypes: category(4), float64(2), int64(1)\n",
      "memory usage: 7.4 KB\n"
     ]
    }
   ],
   "source": [
    "data.info()"
   ]
  },
  {
   "cell_type": "code",
   "execution_count": 44,
   "id": "7229b986-bedb-44e0-a6d4-9dc2524fe233",
   "metadata": {},
   "outputs": [],
   "source": [
    "## create list for numrical and categorical colum\n",
    "numeric=[i for i in X_train.columns if ((X_train[i].dtype=='int64')| (X_train[i].dtype=='float64')) ]"
   ]
  },
  {
   "cell_type": "code",
   "execution_count": 47,
   "id": "1211fa79-4236-4363-b991-5ad83a4bba46",
   "metadata": {},
   "outputs": [
    {
     "data": {
      "text/plain": [
       "['sex', 'smoker', 'day', 'time']"
      ]
     },
     "execution_count": 47,
     "metadata": {},
     "output_type": "execute_result"
    }
   ],
   "source": [
    "Category=[i for i in X_train.columns if ((X_train[i].dtype=='category')) ]\n",
    "Category"
   ]
  },
  {
   "cell_type": "code",
   "execution_count": 42,
   "id": "a4320195-31c9-47d4-abab-d098858697e2",
   "metadata": {},
   "outputs": [
    {
     "data": {
      "text/plain": [
       "CategoricalDtype(categories=['Yes', 'No'], ordered=False)"
      ]
     },
     "execution_count": 42,
     "metadata": {},
     "output_type": "execute_result"
    }
   ],
   "source": [
    " X_train['smoker'].dtype"
   ]
  },
  {
   "cell_type": "code",
   "execution_count": 48,
   "id": "cfab14ca-9b83-48b3-b325-5fd9332628fa",
   "metadata": {},
   "outputs": [],
   "source": [
    "## create pipeline and column transfer\n",
    "from sklearn.pipeline import Pipeline\n",
    "from sklearn.compose import ColumnTransformer"
   ]
  },
  {
   "cell_type": "code",
   "execution_count": 50,
   "id": "02ed8efa-a2d1-430a-a476-c9d073fffd7e",
   "metadata": {},
   "outputs": [],
   "source": [
    "## data encoding and feature scalling lbraries\n",
    "from sklearn.preprocessing import StandardScaler\n",
    "from sklearn.preprocessing import OneHotEncoder"
   ]
  },
  {
   "cell_type": "code",
   "execution_count": 51,
   "id": "a50032f6-b231-4445-85cc-b317ab2e235f",
   "metadata": {},
   "outputs": [],
   "source": [
    "numpipline=Pipeline(\n",
    "    steps=[\n",
    "        ('scaler',StandardScaler())\n",
    "    ]\n",
    ")\n",
    "\n",
    "catpipline=Pipeline(\n",
    "    steps=[\n",
    "        ('encoder',OneHotEncoder())\n",
    "    ]\n",
    ")"
   ]
  },
  {
   "cell_type": "code",
   "execution_count": 52,
   "id": "ea905ae9-007f-42f1-99f8-35a01a08a0b4",
   "metadata": {},
   "outputs": [],
   "source": [
    "preprocessing=ColumnTransformer([\n",
    "    ('numpipline',numpipline,numeric),\n",
    "    ('catpipline',catpipline,Category)\n",
    "])"
   ]
  },
  {
   "cell_type": "code",
   "execution_count": 53,
   "id": "01ce11db-38a9-45b8-aada-dc4a45d77ef8",
   "metadata": {},
   "outputs": [],
   "source": [
    "X_train=preprocessing.fit_transform(X_train)\n",
    "X_test=preprocessing.transform(X_test)"
   ]
  },
  {
   "cell_type": "code",
   "execution_count": 54,
   "id": "9c488fc7-cf19-416c-af39-455e638c1c7e",
   "metadata": {},
   "outputs": [],
   "source": [
    "## create model for graident boost\n",
    "from sklearn.ensemble import GradientBoostingRegressor"
   ]
  },
  {
   "cell_type": "code",
   "execution_count": 61,
   "id": "b48362a3-be84-40eb-b28c-012c6f478780",
   "metadata": {},
   "outputs": [],
   "source": [
    "from sklearn.metrics import r2_score,mean_squared_error\n",
    "import matplotlib.pyplot as plt"
   ]
  },
  {
   "cell_type": "code",
   "execution_count": 56,
   "id": "63136397-c43e-4e03-b259-753344620907",
   "metadata": {},
   "outputs": [],
   "source": [
    "model={\n",
    "    'Gradient':GradientBoostingRegressor()\n",
    "}\n"
   ]
  },
  {
   "cell_type": "code",
   "execution_count": 64,
   "id": "71dddb28-1ad5-4a26-a27e-916d63cead63",
   "metadata": {},
   "outputs": [],
   "source": [
    "def evalauate(X_train, X_test, y_train, y_test,models):\n",
    "    report={}\n",
    "    for i in range(len(models)):\n",
    "        model=list(models.values())[i]\n",
    "        \n",
    "        ##fit the model\n",
    "        model.fit(X_train,y_train)\n",
    "        \n",
    "        ##predict the value\n",
    "        y_pred=model.predict(X_test)\n",
    "        \n",
    "        ## r2 score\n",
    "        score=r2_score(y_test,y_pred)\n",
    "        Mse=mean_squared_error(y_test,y_pred)\n",
    "        report[list(models.keys())[i]]={'score':score,'Mse':Mse}\n",
    "    return report\n",
    "        \n",
    "    "
   ]
  },
  {
   "cell_type": "code",
   "execution_count": 65,
   "id": "efcb83f3-6afe-4e3e-aaac-8efef6d9e892",
   "metadata": {},
   "outputs": [
    {
     "data": {
      "text/plain": [
       "{'Gradient': {'score': 0.4221690437364807, 'Mse': 43.006403083239704}}"
      ]
     },
     "execution_count": 65,
     "metadata": {},
     "output_type": "execute_result"
    }
   ],
   "source": [
    "evalauate(X_train, X_test, y_train, y_test,model)"
   ]
  },
  {
   "cell_type": "code",
   "execution_count": 66,
   "id": "a858f2e0-d7e4-47a4-a50a-a4179a04fc93",
   "metadata": {},
   "outputs": [],
   "source": [
    "## randomoised serach cv\n",
    "from sklearn.model_selection import RandomizedSearchCV"
   ]
  },
  {
   "cell_type": "code",
   "execution_count": 67,
   "id": "d59d06de-d266-4283-84a0-7aaf28f3528b",
   "metadata": {},
   "outputs": [],
   "source": [
    "gradient=GradientBoostingRegressor()"
   ]
  },
  {
   "cell_type": "code",
   "execution_count": 74,
   "id": "a438ede2-ffc6-4ea5-97b0-87393af387ee",
   "metadata": {},
   "outputs": [],
   "source": [
    "parameter={\n",
    "    'n_estimators':[100,200],\n",
    "    'learning_rate':[0.1,0.001,0.0001],\n",
    "    'max_depth':[3,5,7,8],\n",
    "    'loss':['squared_error','huber'],\n",
    "    'alpha':[0.9,1,2] \n",
    "}"
   ]
  },
  {
   "cell_type": "code",
   "execution_count": 72,
   "id": "641877c9-f7a0-42ca-a846-ea1d6791640c",
   "metadata": {},
   "outputs": [],
   "source": [
    "rcv=RandomizedSearchCV(gradient,param_distributions=parameter,scoring='neg_mean_squared_error',cv=5,verbose=3)"
   ]
  },
  {
   "cell_type": "code",
   "execution_count": 73,
   "id": "3f2872eb-7bfc-4c41-b425-54c910199c2b",
   "metadata": {},
   "outputs": [
    {
     "name": "stdout",
     "output_type": "stream",
     "text": [
      "Fitting 5 folds for each of 10 candidates, totalling 50 fits\n",
      "[CV 1/5] END alpha=0.9, learning_rate=0.001, loss=huber, max_depth=3, n_estimators=200;, score=-41.925 total time=   1.3s\n",
      "[CV 2/5] END alpha=0.9, learning_rate=0.001, loss=huber, max_depth=3, n_estimators=200;, score=-102.068 total time=   1.3s\n",
      "[CV 3/5] END alpha=0.9, learning_rate=0.001, loss=huber, max_depth=3, n_estimators=200;, score=-71.338 total time=   1.3s\n",
      "[CV 4/5] END alpha=0.9, learning_rate=0.001, loss=huber, max_depth=3, n_estimators=200;, score=-81.374 total time=   1.6s\n",
      "[CV 5/5] END alpha=0.9, learning_rate=0.001, loss=huber, max_depth=3, n_estimators=200;, score=-68.807 total time=   1.6s\n",
      "[CV 1/5] END alpha=1, learning_rate=0.001, loss=huber, max_depth=8, n_estimators=100;, score=nan total time=   0.0s\n",
      "[CV 2/5] END alpha=1, learning_rate=0.001, loss=huber, max_depth=8, n_estimators=100;, score=nan total time=   0.0s\n",
      "[CV 3/5] END alpha=1, learning_rate=0.001, loss=huber, max_depth=8, n_estimators=100;, score=nan total time=   0.0s\n",
      "[CV 4/5] END alpha=1, learning_rate=0.001, loss=huber, max_depth=8, n_estimators=100;, score=nan total time=   0.0s\n",
      "[CV 5/5] END alpha=1, learning_rate=0.001, loss=huber, max_depth=8, n_estimators=100;, score=nan total time=   0.0s\n",
      "[CV 1/5] END alpha=0.9, learning_rate=0.1, loss=squared_error, max_depth=3, n_estimators=100;, score=-31.454 total time=   0.0s\n",
      "[CV 2/5] END alpha=0.9, learning_rate=0.1, loss=squared_error, max_depth=3, n_estimators=100;, score=-35.192 total time=   0.0s\n",
      "[CV 3/5] END alpha=0.9, learning_rate=0.1, loss=squared_error, max_depth=3, n_estimators=100;, score=-58.394 total time=   0.0s\n",
      "[CV 4/5] END alpha=0.9, learning_rate=0.1, loss=squared_error, max_depth=3, n_estimators=100;, score=-51.515 total time=   0.0s\n",
      "[CV 5/5] END alpha=0.9, learning_rate=0.1, loss=squared_error, max_depth=3, n_estimators=100;, score=-41.775 total time=   0.0s\n",
      "[CV 1/5] END alpha=0.9, learning_rate=0.1, loss=squared_error, max_depth=3, n_estimators=200;, score=-34.133 total time=   0.1s\n",
      "[CV 2/5] END alpha=0.9, learning_rate=0.1, loss=squared_error, max_depth=3, n_estimators=200;, score=-34.981 total time=   0.1s\n",
      "[CV 3/5] END alpha=0.9, learning_rate=0.1, loss=squared_error, max_depth=3, n_estimators=200;, score=-64.254 total time=   0.0s\n",
      "[CV 4/5] END alpha=0.9, learning_rate=0.1, loss=squared_error, max_depth=3, n_estimators=200;, score=-56.096 total time=   0.1s\n",
      "[CV 5/5] END alpha=0.9, learning_rate=0.1, loss=squared_error, max_depth=3, n_estimators=200;, score=-46.250 total time=   0.1s\n",
      "[CV 1/5] END alpha=1, learning_rate=0.0001, loss=huber, max_depth=8, n_estimators=100;, score=nan total time=   0.0s\n",
      "[CV 2/5] END alpha=1, learning_rate=0.0001, loss=huber, max_depth=8, n_estimators=100;, score=nan total time=   0.0s\n",
      "[CV 3/5] END alpha=1, learning_rate=0.0001, loss=huber, max_depth=8, n_estimators=100;, score=nan total time=   0.0s\n",
      "[CV 4/5] END alpha=1, learning_rate=0.0001, loss=huber, max_depth=8, n_estimators=100;, score=nan total time=   0.0s\n",
      "[CV 5/5] END alpha=1, learning_rate=0.0001, loss=huber, max_depth=8, n_estimators=100;, score=nan total time=   0.0s\n",
      "[CV 1/5] END alpha=0.9, learning_rate=0.1, loss=huber, max_depth=8, n_estimators=300;, score=-39.504 total time=  12.9s\n",
      "[CV 2/5] END alpha=0.9, learning_rate=0.1, loss=huber, max_depth=8, n_estimators=300;, score=-53.734 total time=  11.6s\n",
      "[CV 3/5] END alpha=0.9, learning_rate=0.1, loss=huber, max_depth=8, n_estimators=300;, score=-47.358 total time=  11.9s\n",
      "[CV 4/5] END alpha=0.9, learning_rate=0.1, loss=huber, max_depth=8, n_estimators=300;, score=-96.051 total time=  12.7s\n",
      "[CV 5/5] END alpha=0.9, learning_rate=0.1, loss=huber, max_depth=8, n_estimators=300;, score=-56.571 total time=  12.4s\n",
      "[CV 1/5] END alpha=2, learning_rate=0.001, loss=squared_error, max_depth=7, n_estimators=200;, score=nan total time=   0.0s\n",
      "[CV 2/5] END alpha=2, learning_rate=0.001, loss=squared_error, max_depth=7, n_estimators=200;, score=nan total time=   0.0s\n",
      "[CV 3/5] END alpha=2, learning_rate=0.001, loss=squared_error, max_depth=7, n_estimators=200;, score=nan total time=   0.0s\n",
      "[CV 4/5] END alpha=2, learning_rate=0.001, loss=squared_error, max_depth=7, n_estimators=200;, score=nan total time=   0.0s\n",
      "[CV 5/5] END alpha=2, learning_rate=0.001, loss=squared_error, max_depth=7, n_estimators=200;, score=nan total time=   0.0s\n",
      "[CV 1/5] END alpha=0.9, learning_rate=0.0001, loss=huber, max_depth=5, n_estimators=100;, score=-50.323 total time=   2.0s\n",
      "[CV 2/5] END alpha=0.9, learning_rate=0.0001, loss=huber, max_depth=5, n_estimators=100;, score=-119.811 total time=   2.2s\n",
      "[CV 3/5] END alpha=0.9, learning_rate=0.0001, loss=huber, max_depth=5, n_estimators=100;, score=-84.678 total time=   2.1s\n",
      "[CV 4/5] END alpha=0.9, learning_rate=0.0001, loss=huber, max_depth=5, n_estimators=100;, score=-97.787 total time=   1.8s\n",
      "[CV 5/5] END alpha=0.9, learning_rate=0.0001, loss=huber, max_depth=5, n_estimators=100;, score=-77.056 total time=   1.8s\n",
      "[CV 1/5] END alpha=0.9, learning_rate=0.0001, loss=squared_error, max_depth=5, n_estimators=100;, score=-50.075 total time=   0.0s\n",
      "[CV 2/5] END alpha=0.9, learning_rate=0.0001, loss=squared_error, max_depth=5, n_estimators=100;, score=-114.207 total time=   0.0s\n",
      "[CV 3/5] END alpha=0.9, learning_rate=0.0001, loss=squared_error, max_depth=5, n_estimators=100;, score=-79.606 total time=   0.0s\n",
      "[CV 4/5] END alpha=0.9, learning_rate=0.0001, loss=squared_error, max_depth=5, n_estimators=100;, score=-87.139 total time=   0.0s\n",
      "[CV 5/5] END alpha=0.9, learning_rate=0.0001, loss=squared_error, max_depth=5, n_estimators=100;, score=-69.819 total time=   0.0s\n",
      "[CV 1/5] END alpha=2, learning_rate=0.0001, loss=huber, max_depth=3, n_estimators=100;, score=nan total time=   0.0s\n",
      "[CV 2/5] END alpha=2, learning_rate=0.0001, loss=huber, max_depth=3, n_estimators=100;, score=nan total time=   0.0s\n",
      "[CV 3/5] END alpha=2, learning_rate=0.0001, loss=huber, max_depth=3, n_estimators=100;, score=nan total time=   0.0s\n",
      "[CV 4/5] END alpha=2, learning_rate=0.0001, loss=huber, max_depth=3, n_estimators=100;, score=nan total time=   0.0s\n",
      "[CV 5/5] END alpha=2, learning_rate=0.0001, loss=huber, max_depth=3, n_estimators=100;, score=nan total time=   0.0s\n"
     ]
    },
    {
     "data": {
      "text/plain": [
       "RandomizedSearchCV(cv=5, estimator=GradientBoostingRegressor(),\n",
       "                   param_distributions={'alpha': [0.9, 1, 2],\n",
       "                                        'learning_rate': [0.1, 0.001, 0.0001],\n",
       "                                        'loss': ['squared_error', 'huber'],\n",
       "                                        'max_depth': [3, 5, 7, 8],\n",
       "                                        'n_estimators': [100, 200, 300]},\n",
       "                   scoring='neg_mean_squared_error', verbose=3)"
      ]
     },
     "execution_count": 73,
     "metadata": {},
     "output_type": "execute_result"
    }
   ],
   "source": [
    "rcv.fit(X_train,y_train)"
   ]
  },
  {
   "cell_type": "code",
   "execution_count": 75,
   "id": "6e8a9191-fecc-4a71-a88b-8c24edb05c45",
   "metadata": {},
   "outputs": [
    {
     "data": {
      "text/plain": [
       "{'n_estimators': 100,\n",
       " 'max_depth': 3,\n",
       " 'loss': 'squared_error',\n",
       " 'learning_rate': 0.1,\n",
       " 'alpha': 0.9}"
      ]
     },
     "execution_count": 75,
     "metadata": {},
     "output_type": "execute_result"
    }
   ],
   "source": [
    "rcv.best_params_"
   ]
  },
  {
   "cell_type": "code",
   "execution_count": 78,
   "id": "7a124de0-1310-458c-99a2-97f87c6cf1bc",
   "metadata": {},
   "outputs": [],
   "source": [
    "gradient=GradientBoostingRegressor(n_estimators=100,max_depth=3,loss='squared_error',learning_rate=0.1,alpha=0.9)"
   ]
  },
  {
   "cell_type": "code",
   "execution_count": 79,
   "id": "942291b5-419a-41f3-9fe4-9462e8e91b23",
   "metadata": {},
   "outputs": [
    {
     "data": {
      "text/plain": [
       "GradientBoostingRegressor()"
      ]
     },
     "execution_count": 79,
     "metadata": {},
     "output_type": "execute_result"
    }
   ],
   "source": [
    "gradient.fit(X_train,y_train)"
   ]
  },
  {
   "cell_type": "code",
   "execution_count": 80,
   "id": "53bfc619-226e-4dfd-8d3e-3f3fc80ff3f8",
   "metadata": {},
   "outputs": [],
   "source": [
    "y_predcv=gradient.predict(X_test)"
   ]
  },
  {
   "cell_type": "code",
   "execution_count": 82,
   "id": "7e9279e9-c746-43fc-8aba-b0a99263d321",
   "metadata": {},
   "outputs": [
    {
     "name": "stdout",
     "output_type": "stream",
     "text": [
      "score 0.4309860343545726\n",
      "Mse 42.350178198794644\n"
     ]
    }
   ],
   "source": [
    " score=r2_score(y_test,y_predcv)\n",
    "Mse=mean_squared_error(y_test,y_predcv)\n",
    "print('score',score)\n",
    "print('Mse',Mse)"
   ]
  },
  {
   "cell_type": "markdown",
   "id": "2f3c1dbc-6eb0-47d0-9429-c37f3a111386",
   "metadata": {},
   "source": [
    "#### R2 is increased the hyperparameter tuning"
   ]
  },
  {
   "cell_type": "code",
   "execution_count": null,
   "id": "81cdc8d8-ee95-49a2-9532-07f719fad42a",
   "metadata": {},
   "outputs": [],
   "source": []
  }
 ],
 "metadata": {
  "kernelspec": {
   "display_name": "Python 3 (ipykernel)",
   "language": "python",
   "name": "python3"
  },
  "language_info": {
   "codemirror_mode": {
    "name": "ipython",
    "version": 3
   },
   "file_extension": ".py",
   "mimetype": "text/x-python",
   "name": "python",
   "nbconvert_exporter": "python",
   "pygments_lexer": "ipython3",
   "version": "3.9.12"
  }
 },
 "nbformat": 4,
 "nbformat_minor": 5
}
