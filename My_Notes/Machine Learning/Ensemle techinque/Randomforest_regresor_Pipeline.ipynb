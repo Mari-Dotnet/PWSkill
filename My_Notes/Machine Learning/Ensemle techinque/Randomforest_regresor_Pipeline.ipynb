{
 "cells": [
  {
   "cell_type": "code",
   "execution_count": 2,
   "id": "aa93d1f3-1a52-47bd-93f4-938788dd009a",
   "metadata": {},
   "outputs": [],
   "source": [
    "import seaborn as sns"
   ]
  },
  {
   "cell_type": "code",
   "execution_count": 65,
   "id": "0eea6fab-3b0e-4234-a5a7-4b147c038dbc",
   "metadata": {},
   "outputs": [],
   "source": [
    "data=sns.load_dataset('tips')"
   ]
  },
  {
   "cell_type": "code",
   "execution_count": 66,
   "id": "51699178-4338-4767-80cd-8495ae942e99",
   "metadata": {},
   "outputs": [
    {
     "data": {
      "text/html": [
       "<div>\n",
       "<style scoped>\n",
       "    .dataframe tbody tr th:only-of-type {\n",
       "        vertical-align: middle;\n",
       "    }\n",
       "\n",
       "    .dataframe tbody tr th {\n",
       "        vertical-align: top;\n",
       "    }\n",
       "\n",
       "    .dataframe thead th {\n",
       "        text-align: right;\n",
       "    }\n",
       "</style>\n",
       "<table border=\"1\" class=\"dataframe\">\n",
       "  <thead>\n",
       "    <tr style=\"text-align: right;\">\n",
       "      <th></th>\n",
       "      <th>total_bill</th>\n",
       "      <th>tip</th>\n",
       "      <th>sex</th>\n",
       "      <th>smoker</th>\n",
       "      <th>day</th>\n",
       "      <th>time</th>\n",
       "      <th>size</th>\n",
       "    </tr>\n",
       "  </thead>\n",
       "  <tbody>\n",
       "    <tr>\n",
       "      <th>0</th>\n",
       "      <td>16.99</td>\n",
       "      <td>1.01</td>\n",
       "      <td>Female</td>\n",
       "      <td>No</td>\n",
       "      <td>Sun</td>\n",
       "      <td>Dinner</td>\n",
       "      <td>2</td>\n",
       "    </tr>\n",
       "    <tr>\n",
       "      <th>1</th>\n",
       "      <td>10.34</td>\n",
       "      <td>1.66</td>\n",
       "      <td>Male</td>\n",
       "      <td>No</td>\n",
       "      <td>Sun</td>\n",
       "      <td>Dinner</td>\n",
       "      <td>3</td>\n",
       "    </tr>\n",
       "    <tr>\n",
       "      <th>2</th>\n",
       "      <td>21.01</td>\n",
       "      <td>3.50</td>\n",
       "      <td>Male</td>\n",
       "      <td>No</td>\n",
       "      <td>Sun</td>\n",
       "      <td>Dinner</td>\n",
       "      <td>3</td>\n",
       "    </tr>\n",
       "    <tr>\n",
       "      <th>3</th>\n",
       "      <td>23.68</td>\n",
       "      <td>3.31</td>\n",
       "      <td>Male</td>\n",
       "      <td>No</td>\n",
       "      <td>Sun</td>\n",
       "      <td>Dinner</td>\n",
       "      <td>2</td>\n",
       "    </tr>\n",
       "    <tr>\n",
       "      <th>4</th>\n",
       "      <td>24.59</td>\n",
       "      <td>3.61</td>\n",
       "      <td>Female</td>\n",
       "      <td>No</td>\n",
       "      <td>Sun</td>\n",
       "      <td>Dinner</td>\n",
       "      <td>4</td>\n",
       "    </tr>\n",
       "  </tbody>\n",
       "</table>\n",
       "</div>"
      ],
      "text/plain": [
       "   total_bill   tip     sex smoker  day    time  size\n",
       "0       16.99  1.01  Female     No  Sun  Dinner     2\n",
       "1       10.34  1.66    Male     No  Sun  Dinner     3\n",
       "2       21.01  3.50    Male     No  Sun  Dinner     3\n",
       "3       23.68  3.31    Male     No  Sun  Dinner     2\n",
       "4       24.59  3.61  Female     No  Sun  Dinner     4"
      ]
     },
     "execution_count": 66,
     "metadata": {},
     "output_type": "execute_result"
    }
   ],
   "source": [
    "data.head()"
   ]
  },
  {
   "cell_type": "markdown",
   "id": "941697b7-d76d-421f-bdd6-babdf1ab9ee0",
   "metadata": {},
   "source": [
    "## Automate below process\n",
    "#### handling missing values\n",
    "#### categorical feature\n",
    "#### handling outliers\n",
    "#### feature scalling"
   ]
  },
  {
   "cell_type": "code",
   "execution_count": 6,
   "id": "ce0ccd5e-8900-437d-aca2-c478b6a338e7",
   "metadata": {},
   "outputs": [
    {
     "data": {
      "text/plain": [
       "total_bill    0\n",
       "tip           0\n",
       "sex           0\n",
       "smoker        0\n",
       "day           0\n",
       "time          0\n",
       "size          0\n",
       "dtype: int64"
      ]
     },
     "execution_count": 6,
     "metadata": {},
     "output_type": "execute_result"
    }
   ],
   "source": [
    "data.isnull().sum()"
   ]
  },
  {
   "cell_type": "code",
   "execution_count": 16,
   "id": "bd50dbd3-b5d9-404c-b67f-17236bf3c707",
   "metadata": {},
   "outputs": [
    {
     "name": "stdout",
     "output_type": "stream",
     "text": [
      "<class 'pandas.core.frame.DataFrame'>\n",
      "RangeIndex: 244 entries, 0 to 243\n",
      "Data columns (total 7 columns):\n",
      " #   Column      Non-Null Count  Dtype   \n",
      "---  ------      --------------  -----   \n",
      " 0   total_bill  244 non-null    float64 \n",
      " 1   tip         244 non-null    float64 \n",
      " 2   sex         244 non-null    category\n",
      " 3   smoker      244 non-null    category\n",
      " 4   day         244 non-null    category\n",
      " 5   time        244 non-null    category\n",
      " 6   size        244 non-null    int64   \n",
      "dtypes: category(4), float64(2), int64(1)\n",
      "memory usage: 7.4 KB\n"
     ]
    }
   ],
   "source": [
    "data.info()"
   ]
  },
  {
   "cell_type": "code",
   "execution_count": 67,
   "id": "8e287cfa-0e3a-492d-ae61-b659563bca0c",
   "metadata": {},
   "outputs": [
    {
     "data": {
      "text/plain": [
       "sex       category\n",
       "smoker    category\n",
       "day       category\n",
       "time      category\n",
       "dtype: object"
      ]
     },
     "execution_count": 67,
     "metadata": {},
     "output_type": "execute_result"
    }
   ],
   "source": [
    "data.dtypes[data.dtypes=='category']"
   ]
  },
  {
   "cell_type": "code",
   "execution_count": 68,
   "id": "bab4c3a4-130f-44f6-9290-5358a599fdee",
   "metadata": {},
   "outputs": [
    {
     "data": {
      "text/plain": [
       "total_bill    float64\n",
       "tip           float64\n",
       "size            int64\n",
       "dtype: object"
      ]
     },
     "execution_count": 68,
     "metadata": {},
     "output_type": "execute_result"
    }
   ],
   "source": [
    "data.dtypes[(data.dtypes== 'float64')| (data.dtypes== 'int64')]"
   ]
  },
  {
   "cell_type": "markdown",
   "id": "4ecfa3b0-e4da-4559-a5c0-3208d06545e6",
   "metadata": {},
   "source": [
    "## here we consider totol bill as a target variable"
   ]
  },
  {
   "cell_type": "code",
   "execution_count": 69,
   "id": "0a02e203-4876-4110-845f-c9833954fae0",
   "metadata": {},
   "outputs": [],
   "source": [
    "##independ and dependent feature \n",
    "X=data.drop('total_bill',axis=1)\n",
    "y=data['total_bill']"
   ]
  },
  {
   "cell_type": "code",
   "execution_count": 70,
   "id": "4ce0708f-45a4-4e1c-beb2-149b23eaac80",
   "metadata": {},
   "outputs": [],
   "source": [
    "from sklearn.model_selection import train_test_split"
   ]
  },
  {
   "cell_type": "code",
   "execution_count": 77,
   "id": "452bf4b2-8088-474b-9d24-c0ea13b15f66",
   "metadata": {},
   "outputs": [],
   "source": [
    "X_train, X_test, y_train, y_test = train_test_split( X, y, test_size=0.33, random_state=42)"
   ]
  },
  {
   "cell_type": "code",
   "execution_count": 78,
   "id": "3c4b4d4f-6dd2-4f75-abc0-d40f0820bb0d",
   "metadata": {},
   "outputs": [],
   "source": [
    "from sklearn.impute import SimpleImputer ## handling the missing values numerical data\n",
    "from sklearn.preprocessing import OneHotEncoder ## handling catgrforial value in to numerical value\n",
    "from sklearn.preprocessing import StandardScaler ## feature scalling"
   ]
  },
  {
   "cell_type": "markdown",
   "id": "2da9cdc5-07ff-4618-88d1-9d284741e4fd",
   "metadata": {},
   "source": [
    "## Create pipeline "
   ]
  },
  {
   "cell_type": "code",
   "execution_count": 79,
   "id": "ee5ec6e0-e6f5-40d4-96a6-e31998a5272d",
   "metadata": {},
   "outputs": [],
   "source": [
    "from sklearn.pipeline import Pipeline\n",
    "from sklearn.compose import ColumnTransformer"
   ]
  },
  {
   "cell_type": "code",
   "execution_count": 80,
   "id": "d8843a26-7c04-47de-94e2-c23dea17d01b",
   "metadata": {},
   "outputs": [],
   "source": [
    "## sepreate numerical and categoricql data \n",
    "category_col=['sex','smoker','day','time']\n",
    "numeric_col=['tip','size']"
   ]
  },
  {
   "cell_type": "markdown",
   "id": "3ae3883c-9b10-4c78-8497-8f209eb94099",
   "metadata": {},
   "source": [
    "## Feature engineering automation"
   ]
  },
  {
   "cell_type": "code",
   "execution_count": 81,
   "id": "0576ff21-d6e0-474c-b9e4-5689c531df84",
   "metadata": {},
   "outputs": [],
   "source": [
    "#numerical pipeline\n",
    "num_pipeline=Pipeline(\n",
    "    steps=[\n",
    "    ('imputer',SimpleImputer(strategy='mean')),## handling the missing values\n",
    "    ('scaler',StandardScaler()),##  numerical feature\n",
    "    ]    \n",
    ")\n",
    "\n",
    "#categorical pipeline\n",
    "cate_pipeline=Pipeline(\n",
    "    steps=[\n",
    "    ('imputer',SimpleImputer(strategy='most_frequent')),## handling the missing values\n",
    "    ('onehotencoder',OneHotEncoder()), ##categorical feature\n",
    "    ]    \n",
    ")\n"
   ]
  },
  {
   "cell_type": "code",
   "execution_count": 82,
   "id": "79d457d9-5677-456c-9754-dce9260f33c5",
   "metadata": {},
   "outputs": [],
   "source": [
    "## column tranfer\n",
    "## wrapper method column tranfer\n",
    "preprocessor=ColumnTransformer([\n",
    "    ('num_pipeline',num_pipeline,numeric_col),\n",
    "    ('cate_pipeline',cate_pipeline,category_col),\n",
    "])"
   ]
  },
  {
   "cell_type": "code",
   "execution_count": 83,
   "id": "b02fc642-ebad-4cc2-b020-fc91692fad28",
   "metadata": {},
   "outputs": [],
   "source": [
    "## x_train and X_test feature scalling \n",
    "X_train=preprocessor.fit_transform(X_train)"
   ]
  },
  {
   "cell_type": "code",
   "execution_count": 84,
   "id": "96d2a1f2-fe76-4123-9e7c-5b6608684870",
   "metadata": {},
   "outputs": [],
   "source": [
    "X_test=preprocessor.transform(X_test)"
   ]
  },
  {
   "cell_type": "code",
   "execution_count": 111,
   "id": "22714661-a4d8-49ca-b066-73188f42346a",
   "metadata": {},
   "outputs": [],
   "source": [
    "## import machine learning models\n",
    "from sklearn.ensemble import RandomForestRegressor\n",
    "from sklearn.linear_model import LinearRegression\n",
    "from sklearn.linear_model import Ridge\n",
    "from sklearn.linear_model import Lasso\n",
    "from sklearn.linear_model import ElasticNet\n",
    "from sklearn.linear_model import LassoCV\n",
    "from sklearn.linear_model import RidgeCV\n",
    "from sklearn.linear_model import ElasticNetCV\n",
    "from sklearn.svm import SVR\n"
   ]
  },
  {
   "cell_type": "code",
   "execution_count": 112,
   "id": "63df67e9-1d62-4fce-944b-ccbf1f53d413",
   "metadata": {},
   "outputs": [],
   "source": [
    "## Automate model training \n",
    "model={\n",
    "    'random forest':RandomForestRegressor(),\n",
    "    'LinearRegression':LinearRegression(),\n",
    "    'Ridge':Ridge(),\n",
    "    'Lasso':Lasso(),\n",
    "    'ElasticNet':ElasticNet(),\n",
    "    'Ridge cv':RidgeCV(cv=5),\n",
    "    'Lasso cv':LassoCV(cv=5),\n",
    "    'ElasticNet cv':ElasticNetCV(cv=5),\n",
    "    'svm':SVR()\n",
    "}"
   ]
  },
  {
   "cell_type": "code",
   "execution_count": 90,
   "id": "9098e23c-0405-4492-aec0-908f7f5d2235",
   "metadata": {},
   "outputs": [],
   "source": [
    "from sklearn.metrics import r2_score"
   ]
  },
  {
   "cell_type": "code",
   "execution_count": 109,
   "id": "510648b7-f19d-4455-b63b-7f226bc4c10d",
   "metadata": {},
   "outputs": [],
   "source": [
    "## function for evaluate model\n",
    "def evauatemodel(X_train, X_test, y_train, y_test,models):\n",
    "    report={}\n",
    "    for i in range(len(models)):\n",
    "        model=list(models.values())[i]\n",
    "        #train the model\n",
    "        model.fit(X_train,y_train)\n",
    "        ## predict the model\n",
    "        y_predict=model.predict(X_test)\n",
    "        ## score of the model\n",
    "        score=r2_score(y_test,y_predict)\n",
    "        report[list(models.keys())[i]]=score\n",
    "    return report"
   ]
  },
  {
   "cell_type": "code",
   "execution_count": 113,
   "id": "8fb6796b-d916-4345-adc3-ae77dcbbd12c",
   "metadata": {},
   "outputs": [
    {
     "data": {
      "text/plain": [
       "{'random forest': 0.4138152381403115,\n",
       " 'LinearRegression': 0.5855595093805562,\n",
       " 'Ridge': 0.5863835781278818,\n",
       " 'Lasso': 0.554601970474276,\n",
       " 'ElasticNet': 0.5201760503775457,\n",
       " 'Ridge cv': 0.5882893842397763,\n",
       " 'Lasso cv': 0.5868154720567639,\n",
       " 'ElasticNet cv': 0.5905366755312005,\n",
       " 'svm': 0.42046690984229396}"
      ]
     },
     "execution_count": 113,
     "metadata": {},
     "output_type": "execute_result"
    }
   ],
   "source": [
    "evauatemodel(X_train, X_test, y_train, y_test,model)"
   ]
  },
  {
   "cell_type": "code",
   "execution_count": 114,
   "id": "fefa596c-7089-4c0a-ad79-ae54247d24a0",
   "metadata": {},
   "outputs": [],
   "source": [
    "from sklearn.model_selection import RandomizedSearchCV"
   ]
  },
  {
   "cell_type": "code",
   "execution_count": 117,
   "id": "64ef12dc-d9e0-4fc6-b0e5-1674b15e0916",
   "metadata": {},
   "outputs": [],
   "source": [
    "parameter={\n",
    "    \"l1_ratio\":[0.5,1,1.5,2],\n",
    "    \"eps\":[0.001,0.01,0.10,0.0001],\n",
    "    \"cv\":[3,4,5],\n",
    "    \"max_iter\":[1000,1100,1200]\n",
    "}\n",
    "    "
   ]
  },
  {
   "cell_type": "code",
   "execution_count": 116,
   "id": "b9803b14-073e-4e6b-b651-edba87984a43",
   "metadata": {},
   "outputs": [],
   "source": [
    "elasticcv=ElasticNetCV()"
   ]
  },
  {
   "cell_type": "code",
   "execution_count": 118,
   "id": "80495ebb-43b3-419d-9a11-94baad055f30",
   "metadata": {},
   "outputs": [],
   "source": [
    "rcv=RandomizedSearchCV(estimator=elasticcv,param_distributions=parameter,verbose=3,scoring='neg_mean_squared_error')"
   ]
  },
  {
   "cell_type": "code",
   "execution_count": null,
   "id": "9033bf33-79c0-4332-99d8-fd997bc88a76",
   "metadata": {},
   "outputs": [],
   "source": [
    "rcv.fit(X_train,y_train)"
   ]
  },
  {
   "cell_type": "code",
   "execution_count": 120,
   "id": "527e6d2b-d50c-4cee-9d62-aac9077ea0cc",
   "metadata": {},
   "outputs": [
    {
     "data": {
      "text/plain": [
       "{'max_iter': 1100, 'l1_ratio': 0.5, 'eps': 0.0001, 'cv': 4}"
      ]
     },
     "execution_count": 120,
     "metadata": {},
     "output_type": "execute_result"
    }
   ],
   "source": [
    "rcv.best_params_"
   ]
  },
  {
   "cell_type": "code",
   "execution_count": 121,
   "id": "ce75b1d6-a538-4cdc-b555-036e92a4973a",
   "metadata": {},
   "outputs": [],
   "source": [
    "elastic=ElasticNetCV(max_iter=1100,l1_ratio=0.5,eps=0.0001,cv=4)"
   ]
  },
  {
   "cell_type": "code",
   "execution_count": 122,
   "id": "feb3f800-d8d9-4565-a650-5b84768d2948",
   "metadata": {},
   "outputs": [
    {
     "data": {
      "text/plain": [
       "ElasticNetCV(cv=4, eps=0.0001, max_iter=1100)"
      ]
     },
     "execution_count": 122,
     "metadata": {},
     "output_type": "execute_result"
    }
   ],
   "source": [
    "elastic.fit(X_train,y_train)"
   ]
  },
  {
   "cell_type": "code",
   "execution_count": 123,
   "id": "13f7a9ae-c146-4c3c-a6c6-1793a1bd0421",
   "metadata": {},
   "outputs": [],
   "source": [
    "y_pred=elastic.predict(X_test)"
   ]
  },
  {
   "cell_type": "code",
   "execution_count": 124,
   "id": "d65bbda1-7c15-418a-8641-d8e3ef68e0e3",
   "metadata": {},
   "outputs": [
    {
     "data": {
      "text/plain": [
       "0.5908021892072525"
      ]
     },
     "execution_count": 124,
     "metadata": {},
     "output_type": "execute_result"
    }
   ],
   "source": [
    "r2_score(y_test,y_pred)"
   ]
  },
  {
   "cell_type": "code",
   "execution_count": null,
   "id": "4e47c035-e7e3-49a0-8665-66103247c822",
   "metadata": {},
   "outputs": [],
   "source": []
  }
 ],
 "metadata": {
  "kernelspec": {
   "display_name": "Python 3 (ipykernel)",
   "language": "python",
   "name": "python3"
  },
  "language_info": {
   "codemirror_mode": {
    "name": "ipython",
    "version": 3
   },
   "file_extension": ".py",
   "mimetype": "text/x-python",
   "name": "python",
   "nbconvert_exporter": "python",
   "pygments_lexer": "ipython3",
   "version": "3.9.12"
  }
 },
 "nbformat": 4,
 "nbformat_minor": 5
}
