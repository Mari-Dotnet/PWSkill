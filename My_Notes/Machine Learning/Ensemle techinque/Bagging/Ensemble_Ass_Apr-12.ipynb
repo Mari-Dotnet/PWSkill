{
 "cells": [
  {
   "cell_type": "markdown",
   "id": "a0c8c4a6-e109-4b80-97cc-ec9a59f9f361",
   "metadata": {},
   "source": [
    "#### Q1. How does bagging reduce overfitting in decision trees?\n",
    "- Bagging involves training multiple decision trees on bootstrapped samples from the original dataset, which helps to reduce the model's tendency to overfit by averaging the predictions of the individual trees."
   ]
  },
  {
   "cell_type": "markdown",
   "id": "ae61148c-367f-4647-83cd-0e33b6f92519",
   "metadata": {},
   "source": [
    "#### Q2. What are the advantages and disadvantages of using different types of base learners in bagging?\n",
    "Advantages:\n",
    "\n",
    "- Bagging can reduce the variance of a model by creating multiple models with different subsets of the training data. Using different types of base learners can further reduce the variance by introducing diversity in the ensemble.\n",
    "- Different types of base learners may be better suited for different types of data or problems. For example, decision trees may work well for categorical data while support vector machines (SVMs) may work well for continuous data.\n",
    "- By using different types of base learners, bagging can combine the strengths of different algorithms to produce a more accurate model.\n",
    "\n",
    "Disadvantages:\n",
    "\n",
    "- Using different types of base learners in bagging can increase the complexity of the ensemble and make it more difficult to interpret.\n",
    "- Choosing the right combination of base learners can be challenging and require a lot of experimentation.\n",
    "- Different types of base learners may require different hyperparameters to be tuned, which can increase the complexity of the modeling process.\n",
    "- The computational cost of using different types of base learners can be higher than using a single type of base learner."
   ]
  },
  {
   "cell_type": "markdown",
   "id": "76bd5a10-2f4d-4bb8-b20d-74da68ee562f",
   "metadata": {},
   "source": [
    "#### Q3. How does the choice of base learner affect the bias-variance tradeoff in bagging?\n",
    "- High-bias models: Using a base learner with high bias, such as a linear model, can reduce the overall bias of the bagged model, but may also limit its ability to fit the training data and increase its variance.\n",
    "\n",
    "- High-variance models: Using a base learner with high variance, such as a decision tree, can increase the overall variance of the bagged model, but may also improve its ability to fit the training data and reduce its bias.\n",
    "\n",
    "- Ensemble diversity: Introducing diversity among the base learners, such as by using different types of models, can reduce the overall variance of the bagged model without increasing its bias."
   ]
  },
  {
   "cell_type": "markdown",
   "id": "aa477134-6433-42cf-8cbc-7fb4f733d6d8",
   "metadata": {},
   "source": [
    "#### Q4. Can bagging be used for both classification and regression tasks? How does it differ in each case?\n",
    "- Yes, bagging can be used for both classification and regression tasks.\n",
    "- In regression, the mean or median is typically used to aggregate the predictions, whereas in classification, majority or weighted voting is used to combine the predictions. \n"
   ]
  },
  {
   "cell_type": "markdown",
   "id": "1d7cfd11-c057-4a98-bd13-24fca421e87b",
   "metadata": {},
   "source": [
    "#### Q5. What is the role of ensemble size in bagging? How many models should be included in the ensemble?\n",
    "- The ensemble size is an important hyperparameter in bagging, and it refers to the number of base models used in the ensemble. The ensemble size plays a crucial role in determining the overall performance of the bagged model."
   ]
  },
  {
   "cell_type": "markdown",
   "id": "db0aece9-943a-4745-86ac-857dbe3846a8",
   "metadata": {},
   "source": [
    "#### Q6. Can you provide an example of a real-world application of bagging in machine learning?\n",
    "- One real-world application of bagging in machine learning is in the field of financial forecasting. Bagging has been used to develop ensemble models for predicting stock prices, exchange rates, and other financial variables."
   ]
  },
  {
   "cell_type": "code",
   "execution_count": null,
   "id": "51bdaa55-d576-46ac-961e-13aff08ffc45",
   "metadata": {},
   "outputs": [],
   "source": []
  }
 ],
 "metadata": {
  "kernelspec": {
   "display_name": "Python 3 (ipykernel)",
   "language": "python",
   "name": "python3"
  },
  "language_info": {
   "codemirror_mode": {
    "name": "ipython",
    "version": 3
   },
   "file_extension": ".py",
   "mimetype": "text/x-python",
   "name": "python",
   "nbconvert_exporter": "python",
   "pygments_lexer": "ipython3",
   "version": "3.9.12"
  }
 },
 "nbformat": 4,
 "nbformat_minor": 5
}
