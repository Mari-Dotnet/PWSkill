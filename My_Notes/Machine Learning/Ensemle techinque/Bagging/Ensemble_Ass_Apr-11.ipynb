{
 "cells": [
  {
   "cell_type": "markdown",
   "id": "4d4f072b-f7a2-4b7c-a7bc-f87d8e568807",
   "metadata": {},
   "source": [
    "#### Q1. What is an ensemble technique in machine learning?\n",
    "- Combine the mulitple model into  train and  get the prediction that prediction also get better accuracy"
   ]
  },
  {
   "cell_type": "markdown",
   "id": "f830062a-12a8-40da-bcac-2bb129999473",
   "metadata": {},
   "source": [
    "#### Q2. Why are ensemble techniques used in machine learning?\n",
    "- Bagging\n",
    "    - Random forest classifier\n",
    "    - Random forest regressor\n",
    "- Bosting\n",
    "    - Ada boost\n",
    "    - XG boost\n",
    "    - Gradient boost"
   ]
  },
  {
   "cell_type": "markdown",
   "id": "3b11657a-2303-4cf2-8433-d298987e0a6b",
   "metadata": {},
   "source": [
    "#### Q3. What is bagging?\n",
    "- Boosting is an ensemble learning method that combines the muliple subset of model for trained and test the new data all model given the different output.\n",
    "- classification : voting classifier (majority of model output is our prediction)\n",
    "- Regression : Average of all model predction output"
   ]
  },
  {
   "cell_type": "markdown",
   "id": "d74f4758-46f2-4ed9-b1c6-46518277138b",
   "metadata": {},
   "source": [
    "#### Q4. What is boosting?\n",
    "- Boosting is an ensemble learning method that combines a set of weak learners into a strong learner to minimize training errors."
   ]
  },
  {
   "cell_type": "markdown",
   "id": "95bc81d8-a36d-41a5-80c6-733e6de1ce05",
   "metadata": {},
   "source": [
    "#### Q5. What are the benefits of using ensemble techniques?\n",
    "- Ensemble methods have higher predictive accuracy, compared to the individual models.\n",
    "- Ensemble methods are very useful when there is both linear and non-linear type of data in the dataset; different models can be combined to handle this type of data.\n",
    "- With ensemble methods bias/variance can be reduced and most of the time, the model is not under fitted/overfitted."
   ]
  },
  {
   "cell_type": "markdown",
   "id": "3e26a423-7d5f-45b1-99d2-6574478e6241",
   "metadata": {},
   "source": [
    "#### Q6. Are ensemble techniques always better than individual models?\n",
    "- Ensemble methods have higher predictive accuracy, compared to the individual models"
   ]
  },
  {
   "cell_type": "markdown",
   "id": "e38ae136-c1b3-45e0-b179-33b79f048282",
   "metadata": {},
   "source": [
    "#### Q7. How is the confidence interval calculated using bootstrap?\n",
    "- Bootstrap is a resampling technique used to estimate the variability of a statistic from a single sample. The basic idea is to repeatedly sample from the original data with replacement to create multiple \"bootstrapped\" samples, and then calculate the statistic of interest (e.g., mean, median, standard deviation) for each of these samples. The resulting distribution of bootstrapped statistics can then be used to estimate the sampling distribution of the statistic and to construct a confidence interval.\n",
    "\n"
   ]
  },
  {
   "cell_type": "markdown",
   "id": "f3b93f44-b15b-41bb-8a0d-89bc63e08d08",
   "metadata": {},
   "source": [
    "#### Q8. How does bootstrap work and What are the steps involved in bootstrap?\n",
    "- Bootstrapped samples are used in Random Forest to introduce diversity among the trees in the ensemble. Each tree is trained on a random subset of samples with replacement from the original dataset, which helps to reduce the chance of overfitting and improve the model's accuracy."
   ]
  },
  {
   "cell_type": "markdown",
   "id": "677486ee-707c-4ac8-9b64-874e19238160",
   "metadata": {},
   "source": [
    "#### Q9. A researcher wants to estimate the mean height of a population of trees. They measure the height of asample of 50 trees and obtain a mean height of 15 meters and a standard deviation of 2 meters. Use bootstrap to estimate the 95% confidence interval for the population mean height."
   ]
  },
  {
   "cell_type": "code",
   "execution_count": 2,
   "id": "a9c5dbb0-009d-4817-99be-1b0db422084f",
   "metadata": {},
   "outputs": [
    {
     "name": "stdout",
     "output_type": "stream",
     "text": [
      "95% confidence interval: 15.03 - 15.41\n"
     ]
    }
   ],
   "source": [
    "import numpy as np\n",
    "\n",
    "# Heights of the 50 trees\n",
    "heights = np.array([15.2, 13.8, 14.9, 16.3, 15.7, 14.1, 14.8, 15.6, 16.1, 14.7,\n",
    "                    16.2, 15.8, 15.3, 15.9, 16.5, 15.1, 14.5, 15.6, 15.2, 14.2,\n",
    "                    16.6, 15.4, 14.4, 16.7, 14.6, 14.9, 15.5, 14.8, 14.3, 15.0,\n",
    "                    15.8, 15.3, 15.4, 16.1, 14.9, 15.0, 14.7, 15.5, 14.3, 15.2,\n",
    "                    15.1, 15.7, 14.0, 14.6, 15.6, 14.8, 15.9, 14.5, 16.0, 15.0])\n",
    "\n",
    "# Sample size\n",
    "n = len(heights)\n",
    "\n",
    "# Number of bootstrap samples to generate\n",
    "nboot = 10000\n",
    "\n",
    "# Generate the bootstrap samples and calculate the mean heights\n",
    "boot_means = np.array([np.mean(np.random.choice(heights, size=n, replace=True)) for _ in range(nboot)])\n",
    "\n",
    "# Calculate the standard error of the bootstrap means\n",
    "se_boot = np.std(boot_means, ddof=1)\n",
    "\n",
    "# Calculate the lower and upper bounds of the confidence interval\n",
    "lower = np.mean(heights) - 1.96 * se_boot\n",
    "upper = np.mean(heights) + 1.96 * se_boot\n",
    "\n",
    "# Print the results\n",
    "print(f\"95% confidence interval: {round(lower, 2)} - {round(upper, 2)}\")"
   ]
  },
  {
   "cell_type": "code",
   "execution_count": null,
   "id": "f025bd31-5dbc-49c6-90d9-9dbca6b2ebe8",
   "metadata": {},
   "outputs": [],
   "source": []
  }
 ],
 "metadata": {
  "kernelspec": {
   "display_name": "Python 3 (ipykernel)",
   "language": "python",
   "name": "python3"
  },
  "language_info": {
   "codemirror_mode": {
    "name": "ipython",
    "version": 3
   },
   "file_extension": ".py",
   "mimetype": "text/x-python",
   "name": "python",
   "nbconvert_exporter": "python",
   "pygments_lexer": "ipython3",
   "version": "3.9.12"
  }
 },
 "nbformat": 4,
 "nbformat_minor": 5
}
