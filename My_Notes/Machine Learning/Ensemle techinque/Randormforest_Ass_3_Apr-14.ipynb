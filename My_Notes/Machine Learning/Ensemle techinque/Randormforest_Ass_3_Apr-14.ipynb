{
 "cells": [
  {
   "cell_type": "code",
   "execution_count": 1,
   "id": "a9a844eb-7482-4b0b-b811-1897ff0f0567",
   "metadata": {},
   "outputs": [],
   "source": [
    "import pandas as pd\n",
    "import seaborn as sns\n",
    "import numpy as np\n",
    "import matplotlib.pyplot as plt\n",
    "import warnings\n",
    "warnings.filterwarnings('ignore')"
   ]
  },
  {
   "cell_type": "code",
   "execution_count": 2,
   "id": "21d177d5-ffd0-4d65-a399-d2edd798f1f7",
   "metadata": {},
   "outputs": [
    {
     "data": {
      "text/html": [
       "<div>\n",
       "<style scoped>\n",
       "    .dataframe tbody tr th:only-of-type {\n",
       "        vertical-align: middle;\n",
       "    }\n",
       "\n",
       "    .dataframe tbody tr th {\n",
       "        vertical-align: top;\n",
       "    }\n",
       "\n",
       "    .dataframe thead th {\n",
       "        text-align: right;\n",
       "    }\n",
       "</style>\n",
       "<table border=\"1\" class=\"dataframe\">\n",
       "  <thead>\n",
       "    <tr style=\"text-align: right;\">\n",
       "      <th></th>\n",
       "      <th>age</th>\n",
       "      <th>sex</th>\n",
       "      <th>cp</th>\n",
       "      <th>trestbps</th>\n",
       "      <th>chol</th>\n",
       "      <th>fbs</th>\n",
       "      <th>restecg</th>\n",
       "      <th>thalach</th>\n",
       "      <th>exang</th>\n",
       "      <th>oldpeak</th>\n",
       "      <th>slope</th>\n",
       "      <th>ca</th>\n",
       "      <th>thal</th>\n",
       "      <th>target</th>\n",
       "    </tr>\n",
       "  </thead>\n",
       "  <tbody>\n",
       "    <tr>\n",
       "      <th>0</th>\n",
       "      <td>63</td>\n",
       "      <td>1</td>\n",
       "      <td>3</td>\n",
       "      <td>145</td>\n",
       "      <td>233</td>\n",
       "      <td>1</td>\n",
       "      <td>0</td>\n",
       "      <td>150</td>\n",
       "      <td>0</td>\n",
       "      <td>2.3</td>\n",
       "      <td>0</td>\n",
       "      <td>0</td>\n",
       "      <td>1</td>\n",
       "      <td>1</td>\n",
       "    </tr>\n",
       "    <tr>\n",
       "      <th>1</th>\n",
       "      <td>37</td>\n",
       "      <td>1</td>\n",
       "      <td>2</td>\n",
       "      <td>130</td>\n",
       "      <td>250</td>\n",
       "      <td>0</td>\n",
       "      <td>1</td>\n",
       "      <td>187</td>\n",
       "      <td>0</td>\n",
       "      <td>3.5</td>\n",
       "      <td>0</td>\n",
       "      <td>0</td>\n",
       "      <td>2</td>\n",
       "      <td>1</td>\n",
       "    </tr>\n",
       "    <tr>\n",
       "      <th>2</th>\n",
       "      <td>41</td>\n",
       "      <td>0</td>\n",
       "      <td>1</td>\n",
       "      <td>130</td>\n",
       "      <td>204</td>\n",
       "      <td>0</td>\n",
       "      <td>0</td>\n",
       "      <td>172</td>\n",
       "      <td>0</td>\n",
       "      <td>1.4</td>\n",
       "      <td>2</td>\n",
       "      <td>0</td>\n",
       "      <td>2</td>\n",
       "      <td>1</td>\n",
       "    </tr>\n",
       "    <tr>\n",
       "      <th>3</th>\n",
       "      <td>56</td>\n",
       "      <td>1</td>\n",
       "      <td>1</td>\n",
       "      <td>120</td>\n",
       "      <td>236</td>\n",
       "      <td>0</td>\n",
       "      <td>1</td>\n",
       "      <td>178</td>\n",
       "      <td>0</td>\n",
       "      <td>0.8</td>\n",
       "      <td>2</td>\n",
       "      <td>0</td>\n",
       "      <td>2</td>\n",
       "      <td>1</td>\n",
       "    </tr>\n",
       "    <tr>\n",
       "      <th>4</th>\n",
       "      <td>57</td>\n",
       "      <td>0</td>\n",
       "      <td>0</td>\n",
       "      <td>120</td>\n",
       "      <td>354</td>\n",
       "      <td>0</td>\n",
       "      <td>1</td>\n",
       "      <td>163</td>\n",
       "      <td>1</td>\n",
       "      <td>0.6</td>\n",
       "      <td>2</td>\n",
       "      <td>0</td>\n",
       "      <td>2</td>\n",
       "      <td>1</td>\n",
       "    </tr>\n",
       "  </tbody>\n",
       "</table>\n",
       "</div>"
      ],
      "text/plain": [
       "   age  sex  cp  trestbps  chol  fbs  restecg  thalach  exang  oldpeak  slope  \\\n",
       "0   63    1   3       145   233    1        0      150      0      2.3      0   \n",
       "1   37    1   2       130   250    0        1      187      0      3.5      0   \n",
       "2   41    0   1       130   204    0        0      172      0      1.4      2   \n",
       "3   56    1   1       120   236    0        1      178      0      0.8      2   \n",
       "4   57    0   0       120   354    0        1      163      1      0.6      2   \n",
       "\n",
       "   ca  thal  target  \n",
       "0   0     1       1  \n",
       "1   0     2       1  \n",
       "2   0     2       1  \n",
       "3   0     2       1  \n",
       "4   0     2       1  "
      ]
     },
     "execution_count": 2,
     "metadata": {},
     "output_type": "execute_result"
    }
   ],
   "source": [
    "## load the data set\n",
    "df=pd.read_csv('dataset.csv')\n",
    "df.head()"
   ]
  },
  {
   "cell_type": "code",
   "execution_count": 3,
   "id": "e3fb078b-01ea-47c3-958b-981ae8a8d0ad",
   "metadata": {},
   "outputs": [],
   "source": [
    "#Split the independtend and dependtent variable\n",
    "X=df.iloc[:,:-1]\n",
    "y=df.iloc[:,-1]"
   ]
  },
  {
   "cell_type": "code",
   "execution_count": 4,
   "id": "8d1a33d3-f781-4c75-97e4-bb4b0e3d5fa1",
   "metadata": {},
   "outputs": [
    {
     "data": {
      "text/plain": [
       "array([1, 0], dtype=int64)"
      ]
     },
     "execution_count": 4,
     "metadata": {},
     "output_type": "execute_result"
    }
   ],
   "source": [
    "df.target.unique()"
   ]
  },
  {
   "cell_type": "code",
   "execution_count": 5,
   "id": "21aa22d3-98ff-4e58-9f12-50859a80518f",
   "metadata": {},
   "outputs": [],
   "source": [
    "# split the train and test data set\n",
    "from sklearn.model_selection import train_test_split"
   ]
  },
  {
   "cell_type": "code",
   "execution_count": 7,
   "id": "b18ebbdb-0efa-49c4-820c-9a83fee7911f",
   "metadata": {},
   "outputs": [],
   "source": [
    "X_train, X_test, y_train, y_test = train_test_split(X, y, test_size=0.30, random_state=42)"
   ]
  },
  {
   "cell_type": "code",
   "execution_count": 8,
   "id": "f7556a52-186c-4228-8b4b-d17cbd568986",
   "metadata": {},
   "outputs": [
    {
     "name": "stdout",
     "output_type": "stream",
     "text": [
      "<class 'pandas.core.frame.DataFrame'>\n",
      "Int64Index: 212 entries, 124 to 102\n",
      "Data columns (total 13 columns):\n",
      " #   Column    Non-Null Count  Dtype  \n",
      "---  ------    --------------  -----  \n",
      " 0   age       212 non-null    int64  \n",
      " 1   sex       212 non-null    int64  \n",
      " 2   cp        212 non-null    int64  \n",
      " 3   trestbps  212 non-null    int64  \n",
      " 4   chol      212 non-null    int64  \n",
      " 5   fbs       212 non-null    int64  \n",
      " 6   restecg   212 non-null    int64  \n",
      " 7   thalach   212 non-null    int64  \n",
      " 8   exang     212 non-null    int64  \n",
      " 9   oldpeak   212 non-null    float64\n",
      " 10  slope     212 non-null    int64  \n",
      " 11  ca        212 non-null    int64  \n",
      " 12  thal      212 non-null    int64  \n",
      "dtypes: float64(1), int64(12)\n",
      "memory usage: 23.2 KB\n"
     ]
    }
   ],
   "source": [
    "X_train.info()"
   ]
  },
  {
   "cell_type": "code",
   "execution_count": 19,
   "id": "169c98f8-7bcb-4943-af06-0f48c137080e",
   "metadata": {},
   "outputs": [
    {
     "data": {
      "text/plain": [
       "age         0\n",
       "sex         0\n",
       "cp          0\n",
       "trestbps    0\n",
       "chol        0\n",
       "fbs         0\n",
       "restecg     0\n",
       "thalach     0\n",
       "exang       0\n",
       "oldpeak     0\n",
       "slope       0\n",
       "ca          0\n",
       "thal        0\n",
       "dtype: int64"
      ]
     },
     "execution_count": 19,
     "metadata": {},
     "output_type": "execute_result"
    }
   ],
   "source": [
    "X_train.isnull().sum()"
   ]
  },
  {
   "cell_type": "code",
   "execution_count": null,
   "id": "41bd0602-400b-42f2-ad71-903924a9b5b5",
   "metadata": {},
   "outputs": [],
   "source": [
    "## There is no null values in tran data set"
   ]
  },
  {
   "cell_type": "code",
   "execution_count": 9,
   "id": "97c701c8-ba6d-4383-b16b-611fe7e2e583",
   "metadata": {},
   "outputs": [
    {
     "data": {
      "text/plain": [
       "age         0\n",
       "sex         0\n",
       "cp          0\n",
       "trestbps    0\n",
       "chol        0\n",
       "fbs         0\n",
       "restecg     0\n",
       "thalach     0\n",
       "exang       0\n",
       "oldpeak     0\n",
       "slope       0\n",
       "ca          0\n",
       "thal        0\n",
       "dtype: int64"
      ]
     },
     "execution_count": 9,
     "metadata": {},
     "output_type": "execute_result"
    }
   ],
   "source": [
    "X_test.isnull().sum()"
   ]
  },
  {
   "cell_type": "code",
   "execution_count": 22,
   "id": "369d531f-40e6-4755-ba90-ad1ed24770a5",
   "metadata": {},
   "outputs": [],
   "source": [
    "## There is no null values in test data set"
   ]
  },
  {
   "cell_type": "code",
   "execution_count": 10,
   "id": "5c6faca2-b34d-4c92-ae6f-21446df47fcd",
   "metadata": {},
   "outputs": [
    {
     "data": {
      "text/html": [
       "<div>\n",
       "<style scoped>\n",
       "    .dataframe tbody tr th:only-of-type {\n",
       "        vertical-align: middle;\n",
       "    }\n",
       "\n",
       "    .dataframe tbody tr th {\n",
       "        vertical-align: top;\n",
       "    }\n",
       "\n",
       "    .dataframe thead th {\n",
       "        text-align: right;\n",
       "    }\n",
       "</style>\n",
       "<table border=\"1\" class=\"dataframe\">\n",
       "  <thead>\n",
       "    <tr style=\"text-align: right;\">\n",
       "      <th></th>\n",
       "      <th>age</th>\n",
       "      <th>sex</th>\n",
       "      <th>cp</th>\n",
       "      <th>trestbps</th>\n",
       "      <th>chol</th>\n",
       "      <th>fbs</th>\n",
       "      <th>restecg</th>\n",
       "      <th>thalach</th>\n",
       "      <th>exang</th>\n",
       "      <th>oldpeak</th>\n",
       "      <th>slope</th>\n",
       "      <th>ca</th>\n",
       "      <th>thal</th>\n",
       "    </tr>\n",
       "  </thead>\n",
       "  <tbody>\n",
       "    <tr>\n",
       "      <th>age</th>\n",
       "      <td>1.000000</td>\n",
       "      <td>-0.076955</td>\n",
       "      <td>-0.127758</td>\n",
       "      <td>0.288078</td>\n",
       "      <td>0.247557</td>\n",
       "      <td>0.121209</td>\n",
       "      <td>-0.165419</td>\n",
       "      <td>-0.404615</td>\n",
       "      <td>0.161146</td>\n",
       "      <td>0.204483</td>\n",
       "      <td>-0.151790</td>\n",
       "      <td>0.330450</td>\n",
       "      <td>0.081448</td>\n",
       "    </tr>\n",
       "    <tr>\n",
       "      <th>sex</th>\n",
       "      <td>-0.076955</td>\n",
       "      <td>1.000000</td>\n",
       "      <td>-0.057577</td>\n",
       "      <td>-0.110884</td>\n",
       "      <td>-0.212008</td>\n",
       "      <td>0.034951</td>\n",
       "      <td>-0.074695</td>\n",
       "      <td>-0.038822</td>\n",
       "      <td>0.151385</td>\n",
       "      <td>0.176680</td>\n",
       "      <td>-0.066913</td>\n",
       "      <td>0.169985</td>\n",
       "      <td>0.225652</td>\n",
       "    </tr>\n",
       "    <tr>\n",
       "      <th>cp</th>\n",
       "      <td>-0.127758</td>\n",
       "      <td>-0.057577</td>\n",
       "      <td>1.000000</td>\n",
       "      <td>0.025663</td>\n",
       "      <td>-0.072715</td>\n",
       "      <td>0.186225</td>\n",
       "      <td>-0.031449</td>\n",
       "      <td>0.317051</td>\n",
       "      <td>-0.390310</td>\n",
       "      <td>-0.165942</td>\n",
       "      <td>0.124755</td>\n",
       "      <td>-0.167850</td>\n",
       "      <td>-0.199712</td>\n",
       "    </tr>\n",
       "    <tr>\n",
       "      <th>trestbps</th>\n",
       "      <td>0.288078</td>\n",
       "      <td>-0.110884</td>\n",
       "      <td>0.025663</td>\n",
       "      <td>1.000000</td>\n",
       "      <td>0.146431</td>\n",
       "      <td>0.226035</td>\n",
       "      <td>-0.065109</td>\n",
       "      <td>-0.032537</td>\n",
       "      <td>0.071371</td>\n",
       "      <td>0.103757</td>\n",
       "      <td>-0.033806</td>\n",
       "      <td>0.058233</td>\n",
       "      <td>0.028320</td>\n",
       "    </tr>\n",
       "    <tr>\n",
       "      <th>chol</th>\n",
       "      <td>0.247557</td>\n",
       "      <td>-0.212008</td>\n",
       "      <td>-0.072715</td>\n",
       "      <td>0.146431</td>\n",
       "      <td>1.000000</td>\n",
       "      <td>0.051839</td>\n",
       "      <td>-0.118689</td>\n",
       "      <td>0.009340</td>\n",
       "      <td>0.039480</td>\n",
       "      <td>0.122876</td>\n",
       "      <td>0.014369</td>\n",
       "      <td>0.057201</td>\n",
       "      <td>0.060382</td>\n",
       "    </tr>\n",
       "    <tr>\n",
       "      <th>fbs</th>\n",
       "      <td>0.121209</td>\n",
       "      <td>0.034951</td>\n",
       "      <td>0.186225</td>\n",
       "      <td>0.226035</td>\n",
       "      <td>0.051839</td>\n",
       "      <td>1.000000</td>\n",
       "      <td>-0.098113</td>\n",
       "      <td>-0.013058</td>\n",
       "      <td>-0.020018</td>\n",
       "      <td>-0.002365</td>\n",
       "      <td>-0.074125</td>\n",
       "      <td>0.084714</td>\n",
       "      <td>-0.042658</td>\n",
       "    </tr>\n",
       "    <tr>\n",
       "      <th>restecg</th>\n",
       "      <td>-0.165419</td>\n",
       "      <td>-0.074695</td>\n",
       "      <td>-0.031449</td>\n",
       "      <td>-0.065109</td>\n",
       "      <td>-0.118689</td>\n",
       "      <td>-0.098113</td>\n",
       "      <td>1.000000</td>\n",
       "      <td>0.019833</td>\n",
       "      <td>0.002176</td>\n",
       "      <td>0.012953</td>\n",
       "      <td>0.018522</td>\n",
       "      <td>-0.082971</td>\n",
       "      <td>0.038891</td>\n",
       "    </tr>\n",
       "    <tr>\n",
       "      <th>thalach</th>\n",
       "      <td>-0.404615</td>\n",
       "      <td>-0.038822</td>\n",
       "      <td>0.317051</td>\n",
       "      <td>-0.032537</td>\n",
       "      <td>0.009340</td>\n",
       "      <td>-0.013058</td>\n",
       "      <td>0.019833</td>\n",
       "      <td>1.000000</td>\n",
       "      <td>-0.403342</td>\n",
       "      <td>-0.332174</td>\n",
       "      <td>0.323170</td>\n",
       "      <td>-0.260242</td>\n",
       "      <td>-0.110076</td>\n",
       "    </tr>\n",
       "    <tr>\n",
       "      <th>exang</th>\n",
       "      <td>0.161146</td>\n",
       "      <td>0.151385</td>\n",
       "      <td>-0.390310</td>\n",
       "      <td>0.071371</td>\n",
       "      <td>0.039480</td>\n",
       "      <td>-0.020018</td>\n",
       "      <td>0.002176</td>\n",
       "      <td>-0.403342</td>\n",
       "      <td>1.000000</td>\n",
       "      <td>0.326970</td>\n",
       "      <td>-0.284329</td>\n",
       "      <td>0.110556</td>\n",
       "      <td>0.236343</td>\n",
       "    </tr>\n",
       "    <tr>\n",
       "      <th>oldpeak</th>\n",
       "      <td>0.204483</td>\n",
       "      <td>0.176680</td>\n",
       "      <td>-0.165942</td>\n",
       "      <td>0.103757</td>\n",
       "      <td>0.122876</td>\n",
       "      <td>-0.002365</td>\n",
       "      <td>0.012953</td>\n",
       "      <td>-0.332174</td>\n",
       "      <td>0.326970</td>\n",
       "      <td>1.000000</td>\n",
       "      <td>-0.539355</td>\n",
       "      <td>0.235034</td>\n",
       "      <td>0.255085</td>\n",
       "    </tr>\n",
       "    <tr>\n",
       "      <th>slope</th>\n",
       "      <td>-0.151790</td>\n",
       "      <td>-0.066913</td>\n",
       "      <td>0.124755</td>\n",
       "      <td>-0.033806</td>\n",
       "      <td>0.014369</td>\n",
       "      <td>-0.074125</td>\n",
       "      <td>0.018522</td>\n",
       "      <td>0.323170</td>\n",
       "      <td>-0.284329</td>\n",
       "      <td>-0.539355</td>\n",
       "      <td>1.000000</td>\n",
       "      <td>-0.044287</td>\n",
       "      <td>-0.112275</td>\n",
       "    </tr>\n",
       "    <tr>\n",
       "      <th>ca</th>\n",
       "      <td>0.330450</td>\n",
       "      <td>0.169985</td>\n",
       "      <td>-0.167850</td>\n",
       "      <td>0.058233</td>\n",
       "      <td>0.057201</td>\n",
       "      <td>0.084714</td>\n",
       "      <td>-0.082971</td>\n",
       "      <td>-0.260242</td>\n",
       "      <td>0.110556</td>\n",
       "      <td>0.235034</td>\n",
       "      <td>-0.044287</td>\n",
       "      <td>1.000000</td>\n",
       "      <td>0.098418</td>\n",
       "    </tr>\n",
       "    <tr>\n",
       "      <th>thal</th>\n",
       "      <td>0.081448</td>\n",
       "      <td>0.225652</td>\n",
       "      <td>-0.199712</td>\n",
       "      <td>0.028320</td>\n",
       "      <td>0.060382</td>\n",
       "      <td>-0.042658</td>\n",
       "      <td>0.038891</td>\n",
       "      <td>-0.110076</td>\n",
       "      <td>0.236343</td>\n",
       "      <td>0.255085</td>\n",
       "      <td>-0.112275</td>\n",
       "      <td>0.098418</td>\n",
       "      <td>1.000000</td>\n",
       "    </tr>\n",
       "  </tbody>\n",
       "</table>\n",
       "</div>"
      ],
      "text/plain": [
       "               age       sex        cp  trestbps      chol       fbs  \\\n",
       "age       1.000000 -0.076955 -0.127758  0.288078  0.247557  0.121209   \n",
       "sex      -0.076955  1.000000 -0.057577 -0.110884 -0.212008  0.034951   \n",
       "cp       -0.127758 -0.057577  1.000000  0.025663 -0.072715  0.186225   \n",
       "trestbps  0.288078 -0.110884  0.025663  1.000000  0.146431  0.226035   \n",
       "chol      0.247557 -0.212008 -0.072715  0.146431  1.000000  0.051839   \n",
       "fbs       0.121209  0.034951  0.186225  0.226035  0.051839  1.000000   \n",
       "restecg  -0.165419 -0.074695 -0.031449 -0.065109 -0.118689 -0.098113   \n",
       "thalach  -0.404615 -0.038822  0.317051 -0.032537  0.009340 -0.013058   \n",
       "exang     0.161146  0.151385 -0.390310  0.071371  0.039480 -0.020018   \n",
       "oldpeak   0.204483  0.176680 -0.165942  0.103757  0.122876 -0.002365   \n",
       "slope    -0.151790 -0.066913  0.124755 -0.033806  0.014369 -0.074125   \n",
       "ca        0.330450  0.169985 -0.167850  0.058233  0.057201  0.084714   \n",
       "thal      0.081448  0.225652 -0.199712  0.028320  0.060382 -0.042658   \n",
       "\n",
       "           restecg   thalach     exang   oldpeak     slope        ca      thal  \n",
       "age      -0.165419 -0.404615  0.161146  0.204483 -0.151790  0.330450  0.081448  \n",
       "sex      -0.074695 -0.038822  0.151385  0.176680 -0.066913  0.169985  0.225652  \n",
       "cp       -0.031449  0.317051 -0.390310 -0.165942  0.124755 -0.167850 -0.199712  \n",
       "trestbps -0.065109 -0.032537  0.071371  0.103757 -0.033806  0.058233  0.028320  \n",
       "chol     -0.118689  0.009340  0.039480  0.122876  0.014369  0.057201  0.060382  \n",
       "fbs      -0.098113 -0.013058 -0.020018 -0.002365 -0.074125  0.084714 -0.042658  \n",
       "restecg   1.000000  0.019833  0.002176  0.012953  0.018522 -0.082971  0.038891  \n",
       "thalach   0.019833  1.000000 -0.403342 -0.332174  0.323170 -0.260242 -0.110076  \n",
       "exang     0.002176 -0.403342  1.000000  0.326970 -0.284329  0.110556  0.236343  \n",
       "oldpeak   0.012953 -0.332174  0.326970  1.000000 -0.539355  0.235034  0.255085  \n",
       "slope     0.018522  0.323170 -0.284329 -0.539355  1.000000 -0.044287 -0.112275  \n",
       "ca       -0.082971 -0.260242  0.110556  0.235034 -0.044287  1.000000  0.098418  \n",
       "thal      0.038891 -0.110076  0.236343  0.255085 -0.112275  0.098418  1.000000  "
      ]
     },
     "execution_count": 10,
     "metadata": {},
     "output_type": "execute_result"
    }
   ],
   "source": [
    "## Co-realtion check\n",
    "X_train.corr()"
   ]
  },
  {
   "cell_type": "code",
   "execution_count": 11,
   "id": "324250c6-818e-4442-a6a7-cbe7f2b11ebc",
   "metadata": {},
   "outputs": [
    {
     "data": {
      "image/png": "[encoded data removed]",
      "text/plain": [
       "<Figure size 864x720 with 2 Axes>"
      ]
     },
     "metadata": {
      "needs_background": "light"
     },
     "output_type": "display_data"
    }
   ],
   "source": [
    "plt.figure(figsize=(12,10))\n",
    "sns.heatmap(X_train.corr(),annot=True)\n",
    "plt.show()"
   ]
  },
  {
   "cell_type": "code",
   "execution_count": 12,
   "id": "cc964a7d-72a4-41f9-8641-5c6c3571e676",
   "metadata": {},
   "outputs": [],
   "source": [
    "##Feature selection\n",
    "def corr_relation(dataset,threshold):\n",
    "    corrcolum=[]\n",
    "    corrdataset=dataset.corr()\n",
    "    for i in range(len(corrdataset.columns)):\n",
    "        for j in range(i):\n",
    "            if abs(corrdataset.iloc[i,j])>threshold:\n",
    "                   columnname=corrdataset.columns[i]\n",
    "                   corrcolum.append(columnname)\n",
    "    return corrcolum"
   ]
  },
  {
   "cell_type": "code",
   "execution_count": 13,
   "id": "4ab1df10-9fe8-4bce-b580-43a62bb15d49",
   "metadata": {},
   "outputs": [
    {
     "data": {
      "text/plain": [
       "[]"
      ]
     },
     "execution_count": 13,
     "metadata": {},
     "output_type": "execute_result"
    }
   ],
   "source": [
    "corr_relation(X_train,0.85)"
   ]
  },
  {
   "cell_type": "code",
   "execution_count": 14,
   "id": "ca6a61a2-bd8c-42fc-917f-e37199af89a0",
   "metadata": {},
   "outputs": [],
   "source": [
    "from sklearn.feature_selection import VarianceThreshold"
   ]
  },
  {
   "cell_type": "code",
   "execution_count": 27,
   "id": "f14da30f-6640-4768-ace4-e419c947a699",
   "metadata": {},
   "outputs": [],
   "source": [
    "selector=VarianceThreshold()"
   ]
  },
  {
   "cell_type": "code",
   "execution_count": 28,
   "id": "643ec1d7-4df9-4e9f-9e0d-f65195f20eb8",
   "metadata": {},
   "outputs": [
    {
     "data": {
      "text/plain": [
       "VarianceThreshold()"
      ]
     },
     "execution_count": 28,
     "metadata": {},
     "output_type": "execute_result"
    }
   ],
   "source": [
    "selector.fit(X_train)"
   ]
  },
  {
   "cell_type": "code",
   "execution_count": 29,
   "id": "90edc913-acf2-4698-945d-c7bf48a89b1b",
   "metadata": {},
   "outputs": [],
   "source": [
    "new_cols = selector.get_support()"
   ]
  },
  {
   "cell_type": "code",
   "execution_count": 30,
   "id": "f0a36e44-d95c-4852-b574-982862975633",
   "metadata": {},
   "outputs": [
    {
     "data": {
      "text/html": [
       "<div>\n",
       "<style scoped>\n",
       "    .dataframe tbody tr th:only-of-type {\n",
       "        vertical-align: middle;\n",
       "    }\n",
       "\n",
       "    .dataframe tbody tr th {\n",
       "        vertical-align: top;\n",
       "    }\n",
       "\n",
       "    .dataframe thead th {\n",
       "        text-align: right;\n",
       "    }\n",
       "</style>\n",
       "<table border=\"1\" class=\"dataframe\">\n",
       "  <thead>\n",
       "    <tr style=\"text-align: right;\">\n",
       "      <th></th>\n",
       "      <th>age</th>\n",
       "      <th>sex</th>\n",
       "      <th>cp</th>\n",
       "      <th>trestbps</th>\n",
       "      <th>chol</th>\n",
       "      <th>fbs</th>\n",
       "      <th>restecg</th>\n",
       "      <th>thalach</th>\n",
       "      <th>exang</th>\n",
       "      <th>oldpeak</th>\n",
       "      <th>slope</th>\n",
       "      <th>ca</th>\n",
       "      <th>thal</th>\n",
       "    </tr>\n",
       "  </thead>\n",
       "  <tbody>\n",
       "    <tr>\n",
       "      <th>124</th>\n",
       "      <td>39</td>\n",
       "      <td>0</td>\n",
       "      <td>2</td>\n",
       "      <td>94</td>\n",
       "      <td>199</td>\n",
       "      <td>0</td>\n",
       "      <td>1</td>\n",
       "      <td>179</td>\n",
       "      <td>0</td>\n",
       "      <td>0.0</td>\n",
       "      <td>2</td>\n",
       "      <td>0</td>\n",
       "      <td>2</td>\n",
       "    </tr>\n",
       "    <tr>\n",
       "      <th>72</th>\n",
       "      <td>29</td>\n",
       "      <td>1</td>\n",
       "      <td>1</td>\n",
       "      <td>130</td>\n",
       "      <td>204</td>\n",
       "      <td>0</td>\n",
       "      <td>0</td>\n",
       "      <td>202</td>\n",
       "      <td>0</td>\n",
       "      <td>0.0</td>\n",
       "      <td>2</td>\n",
       "      <td>0</td>\n",
       "      <td>2</td>\n",
       "    </tr>\n",
       "    <tr>\n",
       "      <th>15</th>\n",
       "      <td>50</td>\n",
       "      <td>0</td>\n",
       "      <td>2</td>\n",
       "      <td>120</td>\n",
       "      <td>219</td>\n",
       "      <td>0</td>\n",
       "      <td>1</td>\n",
       "      <td>158</td>\n",
       "      <td>0</td>\n",
       "      <td>1.6</td>\n",
       "      <td>1</td>\n",
       "      <td>0</td>\n",
       "      <td>2</td>\n",
       "    </tr>\n",
       "    <tr>\n",
       "      <th>10</th>\n",
       "      <td>54</td>\n",
       "      <td>1</td>\n",
       "      <td>0</td>\n",
       "      <td>140</td>\n",
       "      <td>239</td>\n",
       "      <td>0</td>\n",
       "      <td>1</td>\n",
       "      <td>160</td>\n",
       "      <td>0</td>\n",
       "      <td>1.2</td>\n",
       "      <td>2</td>\n",
       "      <td>0</td>\n",
       "      <td>2</td>\n",
       "    </tr>\n",
       "    <tr>\n",
       "      <th>163</th>\n",
       "      <td>38</td>\n",
       "      <td>1</td>\n",
       "      <td>2</td>\n",
       "      <td>138</td>\n",
       "      <td>175</td>\n",
       "      <td>0</td>\n",
       "      <td>1</td>\n",
       "      <td>173</td>\n",
       "      <td>0</td>\n",
       "      <td>0.0</td>\n",
       "      <td>2</td>\n",
       "      <td>4</td>\n",
       "      <td>2</td>\n",
       "    </tr>\n",
       "    <tr>\n",
       "      <th>...</th>\n",
       "      <td>...</td>\n",
       "      <td>...</td>\n",
       "      <td>...</td>\n",
       "      <td>...</td>\n",
       "      <td>...</td>\n",
       "      <td>...</td>\n",
       "      <td>...</td>\n",
       "      <td>...</td>\n",
       "      <td>...</td>\n",
       "      <td>...</td>\n",
       "      <td>...</td>\n",
       "      <td>...</td>\n",
       "      <td>...</td>\n",
       "    </tr>\n",
       "    <tr>\n",
       "      <th>188</th>\n",
       "      <td>50</td>\n",
       "      <td>1</td>\n",
       "      <td>2</td>\n",
       "      <td>140</td>\n",
       "      <td>233</td>\n",
       "      <td>0</td>\n",
       "      <td>1</td>\n",
       "      <td>163</td>\n",
       "      <td>0</td>\n",
       "      <td>0.6</td>\n",
       "      <td>1</td>\n",
       "      <td>1</td>\n",
       "      <td>3</td>\n",
       "    </tr>\n",
       "    <tr>\n",
       "      <th>71</th>\n",
       "      <td>51</td>\n",
       "      <td>1</td>\n",
       "      <td>2</td>\n",
       "      <td>94</td>\n",
       "      <td>227</td>\n",
       "      <td>0</td>\n",
       "      <td>1</td>\n",
       "      <td>154</td>\n",
       "      <td>1</td>\n",
       "      <td>0.0</td>\n",
       "      <td>2</td>\n",
       "      <td>1</td>\n",
       "      <td>3</td>\n",
       "    </tr>\n",
       "    <tr>\n",
       "      <th>106</th>\n",
       "      <td>69</td>\n",
       "      <td>1</td>\n",
       "      <td>3</td>\n",
       "      <td>160</td>\n",
       "      <td>234</td>\n",
       "      <td>1</td>\n",
       "      <td>0</td>\n",
       "      <td>131</td>\n",
       "      <td>0</td>\n",
       "      <td>0.1</td>\n",
       "      <td>1</td>\n",
       "      <td>1</td>\n",
       "      <td>2</td>\n",
       "    </tr>\n",
       "    <tr>\n",
       "      <th>270</th>\n",
       "      <td>46</td>\n",
       "      <td>1</td>\n",
       "      <td>0</td>\n",
       "      <td>120</td>\n",
       "      <td>249</td>\n",
       "      <td>0</td>\n",
       "      <td>0</td>\n",
       "      <td>144</td>\n",
       "      <td>0</td>\n",
       "      <td>0.8</td>\n",
       "      <td>2</td>\n",
       "      <td>0</td>\n",
       "      <td>3</td>\n",
       "    </tr>\n",
       "    <tr>\n",
       "      <th>102</th>\n",
       "      <td>63</td>\n",
       "      <td>0</td>\n",
       "      <td>1</td>\n",
       "      <td>140</td>\n",
       "      <td>195</td>\n",
       "      <td>0</td>\n",
       "      <td>1</td>\n",
       "      <td>179</td>\n",
       "      <td>0</td>\n",
       "      <td>0.0</td>\n",
       "      <td>2</td>\n",
       "      <td>2</td>\n",
       "      <td>2</td>\n",
       "    </tr>\n",
       "  </tbody>\n",
       "</table>\n",
       "<p>212 rows × 13 columns</p>\n",
       "</div>"
      ],
      "text/plain": [
       "     age  sex  cp  trestbps  chol  fbs  restecg  thalach  exang  oldpeak  \\\n",
       "124   39    0   2        94   199    0        1      179      0      0.0   \n",
       "72    29    1   1       130   204    0        0      202      0      0.0   \n",
       "15    50    0   2       120   219    0        1      158      0      1.6   \n",
       "10    54    1   0       140   239    0        1      160      0      1.2   \n",
       "163   38    1   2       138   175    0        1      173      0      0.0   \n",
       "..   ...  ...  ..       ...   ...  ...      ...      ...    ...      ...   \n",
       "188   50    1   2       140   233    0        1      163      0      0.6   \n",
       "71    51    1   2        94   227    0        1      154      1      0.0   \n",
       "106   69    1   3       160   234    1        0      131      0      0.1   \n",
       "270   46    1   0       120   249    0        0      144      0      0.8   \n",
       "102   63    0   1       140   195    0        1      179      0      0.0   \n",
       "\n",
       "     slope  ca  thal  \n",
       "124      2   0     2  \n",
       "72       2   0     2  \n",
       "15       1   0     2  \n",
       "10       2   0     2  \n",
       "163      2   4     2  \n",
       "..     ...  ..   ...  \n",
       "188      1   1     3  \n",
       "71       2   1     3  \n",
       "106      1   1     2  \n",
       "270      2   0     3  \n",
       "102      2   2     2  \n",
       "\n",
       "[212 rows x 13 columns]"
      ]
     },
     "execution_count": 30,
     "metadata": {},
     "output_type": "execute_result"
    }
   ],
   "source": [
    "X_train.iloc[:,new_cols]"
   ]
  },
  {
   "cell_type": "code",
   "execution_count": 33,
   "id": "d3628f04-0aa8-4f71-bda2-c49b56c64eb2",
   "metadata": {},
   "outputs": [],
   "source": [
    "from sklearn.pipeline import Pipeline\n",
    "from sklearn.compose import ColumnTransformer\n",
    "from sklearn.preprocessing import StandardScaler"
   ]
  },
  {
   "cell_type": "code",
   "execution_count": 52,
   "id": "cca0d333-75e7-41b2-b2dd-45a2091de918",
   "metadata": {},
   "outputs": [],
   "source": [
    "num_pipeline=Pipeline(\n",
    "    steps=[\n",
    "     ('scaler',StandardScaler())\n",
    "    ]\n",
    ")"
   ]
  },
  {
   "cell_type": "code",
   "execution_count": 53,
   "id": "13963c44-38ab-40ef-a7b2-f9047dcd10b5",
   "metadata": {},
   "outputs": [],
   "source": [
    "numcolumn=X_train.columns"
   ]
  },
  {
   "cell_type": "code",
   "execution_count": 54,
   "id": "226b709e-04fb-436e-b206-d6fe33b515c0",
   "metadata": {},
   "outputs": [],
   "source": [
    "## column transfer\n",
    "preprocessor=ColumnTransformer([\n",
    "    ('numpipeline',num_pipeline,numcolumn)\n",
    "])"
   ]
  },
  {
   "cell_type": "code",
   "execution_count": 59,
   "id": "dec18396-572b-48f2-9776-9c1b94ccfd4a",
   "metadata": {},
   "outputs": [],
   "source": [
    "X_train_scaler=preprocessor.fit_transform(X_train)\n",
    "X_test_scaler=preprocessor.transform(X_test)"
   ]
  },
  {
   "cell_type": "code",
   "execution_count": 43,
   "id": "eada8376-d726-4c86-819f-72cc8ebeecff",
   "metadata": {},
   "outputs": [],
   "source": [
    "from sklearn.ensemble import RandomForestClassifier"
   ]
  },
  {
   "cell_type": "code",
   "execution_count": 46,
   "id": "37e8089c-f19d-461a-be89-baf048869c2e",
   "metadata": {},
   "outputs": [],
   "source": [
    "##accuracy\n",
    "from sklearn.metrics import accuracy_score"
   ]
  },
  {
   "cell_type": "code",
   "execution_count": 44,
   "id": "0de44839-0fa8-4511-a677-b9a25bff35a3",
   "metadata": {},
   "outputs": [],
   "source": [
    "## model creation\n",
    "model={\n",
    "    'Random forest': RandomForestClassifier()\n",
    "}"
   ]
  },
  {
   "cell_type": "code",
   "execution_count": 70,
   "id": "013b69aa-cf59-4fd8-9f8e-91bcae55d297",
   "metadata": {},
   "outputs": [
    {
     "data": {
      "text/plain": [
       "{'Random forest': 0.8021978021978022}"
      ]
     },
     "execution_count": 70,
     "metadata": {},
     "output_type": "execute_result"
    }
   ],
   "source": [
    "evaluateamodel(X_train_scaler,X_test_scaler,y_train, y_test,model)"
   ]
  },
  {
   "cell_type": "code",
   "execution_count": 72,
   "id": "344ebe13-c268-4f1b-89f7-aab21fefda68",
   "metadata": {},
   "outputs": [
    {
     "data": {
      "text/plain": [
       "'Random forest'"
      ]
     },
     "execution_count": 72,
     "metadata": {},
     "output_type": "execute_result"
    }
   ],
   "source": [
    "list(model.keys())[0]"
   ]
  },
  {
   "cell_type": "code",
   "execution_count": 73,
   "id": "b980b749-7845-4617-92b3-5ef62cba8586",
   "metadata": {},
   "outputs": [],
   "source": [
    "## Hyper paremater tuning\n",
    "classifier=RandomForestClassifier()"
   ]
  },
  {
   "cell_type": "code",
   "execution_count": 74,
   "id": "8764b825-aab6-49bc-8bc4-2ba97ddc7e66",
   "metadata": {},
   "outputs": [],
   "source": [
    "parameter={\n",
    "    'max_depth':[3,5,10,None],\n",
    "    'n_estimators':[100,200,300],\n",
    "    'criterion' : [\"gini\", \"entropy\"]\n",
    "}"
   ]
  },
  {
   "cell_type": "code",
   "execution_count": 75,
   "id": "aa5e26d5-d3f0-4e2d-aa3a-adfb7142d3af",
   "metadata": {},
   "outputs": [],
   "source": [
    "from sklearn.model_selection import RandomizedSearchCV"
   ]
  },
  {
   "cell_type": "code",
   "execution_count": 78,
   "id": "4dfe65af-c971-4f1d-90a1-0ea928581a0c",
   "metadata": {},
   "outputs": [],
   "source": [
    "rcv=RandomizedSearchCV(classifier,parameter,cv=5,scoring='accuracy',verbose=3)"
   ]
  },
  {
   "cell_type": "code",
   "execution_count": 79,
   "id": "8054eb67-1455-436c-ba92-bca966bce24d",
   "metadata": {},
   "outputs": [
    {
     "name": "stdout",
     "output_type": "stream",
     "text": [
      "Fitting 5 folds for each of 10 candidates, totalling 50 fits\n",
      "[CV 1/5] END criterion=entropy, max_depth=3, n_estimators=100;, score=0.884 total time=   0.1s\n",
      "[CV 2/5] END criterion=entropy, max_depth=3, n_estimators=100;, score=0.860 total time=   0.0s\n",
      "[CV 3/5] END criterion=entropy, max_depth=3, n_estimators=100;, score=0.786 total time=   0.0s\n",
      "[CV 4/5] END criterion=entropy, max_depth=3, n_estimators=100;, score=0.952 total time=   0.0s\n",
      "[CV 5/5] END criterion=entropy, max_depth=3, n_estimators=100;, score=0.786 total time=   0.0s\n",
      "[CV 1/5] END criterion=gini, max_depth=3, n_estimators=100;, score=0.884 total time=   0.0s\n",
      "[CV 2/5] END criterion=gini, max_depth=3, n_estimators=100;, score=0.860 total time=   0.0s\n",
      "[CV 3/5] END criterion=gini, max_depth=3, n_estimators=100;, score=0.738 total time=   0.0s\n",
      "[CV 4/5] END criterion=gini, max_depth=3, n_estimators=100;, score=0.905 total time=   0.0s\n",
      "[CV 5/5] END criterion=gini, max_depth=3, n_estimators=100;, score=0.762 total time=   0.0s\n",
      "[CV 1/5] END criterion=gini, max_depth=10, n_estimators=200;, score=0.860 total time=   0.1s\n",
      "[CV 2/5] END criterion=gini, max_depth=10, n_estimators=200;, score=0.837 total time=   0.2s\n",
      "[CV 3/5] END criterion=gini, max_depth=10, n_estimators=200;, score=0.786 total time=   0.1s\n",
      "[CV 4/5] END criterion=gini, max_depth=10, n_estimators=200;, score=0.881 total time=   0.1s\n",
      "[CV 5/5] END criterion=gini, max_depth=10, n_estimators=200;, score=0.762 total time=   0.1s\n",
      "[CV 1/5] END criterion=gini, max_depth=None, n_estimators=300;, score=0.884 total time=   0.2s\n",
      "[CV 2/5] END criterion=gini, max_depth=None, n_estimators=300;, score=0.814 total time=   0.2s\n",
      "[CV 3/5] END criterion=gini, max_depth=None, n_estimators=300;, score=0.714 total time=   0.2s\n",
      "[CV 4/5] END criterion=gini, max_depth=None, n_estimators=300;, score=0.857 total time=   0.2s\n",
      "[CV 5/5] END criterion=gini, max_depth=None, n_estimators=300;, score=0.738 total time=   0.2s\n",
      "[CV 1/5] END criterion=gini, max_depth=5, n_estimators=300;, score=0.860 total time=   0.2s\n",
      "[CV 2/5] END criterion=gini, max_depth=5, n_estimators=300;, score=0.860 total time=   0.3s\n",
      "[CV 3/5] END criterion=gini, max_depth=5, n_estimators=300;, score=0.690 total time=   0.2s\n",
      "[CV 4/5] END criterion=gini, max_depth=5, n_estimators=300;, score=0.881 total time=   0.2s\n",
      "[CV 5/5] END criterion=gini, max_depth=5, n_estimators=300;, score=0.762 total time=   0.2s\n",
      "[CV 1/5] END criterion=gini, max_depth=None, n_estimators=100;, score=0.884 total time=   0.0s\n",
      "[CV 2/5] END criterion=gini, max_depth=None, n_estimators=100;, score=0.791 total time=   0.0s\n",
      "[CV 3/5] END criterion=gini, max_depth=None, n_estimators=100;, score=0.714 total time=   0.0s\n",
      "[CV 4/5] END criterion=gini, max_depth=None, n_estimators=100;, score=0.857 total time=   0.0s\n",
      "[CV 5/5] END criterion=gini, max_depth=None, n_estimators=100;, score=0.714 total time=   0.0s\n",
      "[CV 1/5] END criterion=gini, max_depth=5, n_estimators=200;, score=0.884 total time=   0.1s\n",
      "[CV 2/5] END criterion=gini, max_depth=5, n_estimators=200;, score=0.837 total time=   0.1s\n",
      "[CV 3/5] END criterion=gini, max_depth=5, n_estimators=200;, score=0.738 total time=   0.1s\n",
      "[CV 4/5] END criterion=gini, max_depth=5, n_estimators=200;, score=0.905 total time=   0.1s\n",
      "[CV 5/5] END criterion=gini, max_depth=5, n_estimators=200;, score=0.738 total time=   0.1s\n",
      "[CV 1/5] END criterion=entropy, max_depth=None, n_estimators=200;, score=0.837 total time=   0.1s\n",
      "[CV 2/5] END criterion=entropy, max_depth=None, n_estimators=200;, score=0.860 total time=   0.1s\n",
      "[CV 3/5] END criterion=entropy, max_depth=None, n_estimators=200;, score=0.690 total time=   0.1s\n",
      "[CV 4/5] END criterion=entropy, max_depth=None, n_estimators=200;, score=0.833 total time=   0.1s\n",
      "[CV 5/5] END criterion=entropy, max_depth=None, n_estimators=200;, score=0.762 total time=   0.1s\n",
      "[CV 1/5] END criterion=gini, max_depth=5, n_estimators=100;, score=0.860 total time=   0.0s\n",
      "[CV 2/5] END criterion=gini, max_depth=5, n_estimators=100;, score=0.860 total time=   0.0s\n",
      "[CV 3/5] END criterion=gini, max_depth=5, n_estimators=100;, score=0.690 total time=   0.0s\n",
      "[CV 4/5] END criterion=gini, max_depth=5, n_estimators=100;, score=0.905 total time=   0.0s\n",
      "[CV 5/5] END criterion=gini, max_depth=5, n_estimators=100;, score=0.738 total time=   0.0s\n",
      "[CV 1/5] END criterion=gini, max_depth=10, n_estimators=100;, score=0.837 total time=   0.0s\n",
      "[CV 2/5] END criterion=gini, max_depth=10, n_estimators=100;, score=0.814 total time=   0.1s\n",
      "[CV 3/5] END criterion=gini, max_depth=10, n_estimators=100;, score=0.738 total time=   0.0s\n",
      "[CV 4/5] END criterion=gini, max_depth=10, n_estimators=100;, score=0.905 total time=   0.0s\n",
      "[CV 5/5] END criterion=gini, max_depth=10, n_estimators=100;, score=0.738 total time=   0.0s\n"
     ]
    },
    {
     "data": {
      "text/plain": [
       "RandomizedSearchCV(cv=5, estimator=RandomForestClassifier(),\n",
       "                   param_distributions={'criterion': ['gini', 'entropy'],\n",
       "                                        'max_depth': [3, 5, 10, None],\n",
       "                                        'n_estimators': [100, 200, 300]},\n",
       "                   scoring='accuracy', verbose=3)"
      ]
     },
     "execution_count": 79,
     "metadata": {},
     "output_type": "execute_result"
    }
   ],
   "source": [
    "rcv.fit(X_train_scaler,y_train)"
   ]
  },
  {
   "cell_type": "code",
   "execution_count": 81,
   "id": "07930e1a-59bc-4385-bc75-0b92e2b3d0de",
   "metadata": {},
   "outputs": [
    {
     "data": {
      "text/plain": [
       "{'n_estimators': 100, 'max_depth': 3, 'criterion': 'entropy'}"
      ]
     },
     "execution_count": 81,
     "metadata": {},
     "output_type": "execute_result"
    }
   ],
   "source": [
    "rcv.best_params_"
   ]
  },
  {
   "cell_type": "code",
   "execution_count": 82,
   "id": "493c792a-c98c-4f52-8f62-f9e46354f3b9",
   "metadata": {},
   "outputs": [],
   "source": [
    "y_predictcv=rcv.predict(X_test_scaler)"
   ]
  },
  {
   "cell_type": "code",
   "execution_count": 83,
   "id": "363808be-4204-4f22-916d-d3586a3bad85",
   "metadata": {},
   "outputs": [
    {
     "data": {
      "text/plain": [
       "0.8351648351648352"
      ]
     },
     "execution_count": 83,
     "metadata": {},
     "output_type": "execute_result"
    }
   ],
   "source": [
    "accuracy_score(y_test,y_predictcv)"
   ]
  },
  {
   "cell_type": "code",
   "execution_count": 84,
   "id": "a57db6a3-6583-48b9-826a-2e4edc63f998",
   "metadata": {},
   "outputs": [],
   "source": [
    "classifier=RandomForestClassifier(n_estimators=100,max_depth=3,criterion='entropy',oob_score=True)"
   ]
  },
  {
   "cell_type": "code",
   "execution_count": 85,
   "id": "0f664c41-a33c-4b1e-98c5-68b61dcf87ad",
   "metadata": {},
   "outputs": [
    {
     "data": {
      "text/plain": [
       "RandomForestClassifier(criterion='entropy', max_depth=3, oob_score=True)"
      ]
     },
     "execution_count": 85,
     "metadata": {},
     "output_type": "execute_result"
    }
   ],
   "source": [
    "classifier.fit(X_train_scaler,y_train)"
   ]
  },
  {
   "cell_type": "code",
   "execution_count": 86,
   "id": "15c95eb8-c4d7-459a-8db3-2b21e2a583b7",
   "metadata": {},
   "outputs": [],
   "source": [
    "y_predict_parm=classifier.predict(X_test_scaler)"
   ]
  },
  {
   "cell_type": "code",
   "execution_count": 87,
   "id": "d2dda616-0446-4b7e-aa26-d62044ce7af5",
   "metadata": {},
   "outputs": [
    {
     "data": {
      "text/plain": [
       "0.8351648351648352"
      ]
     },
     "execution_count": 87,
     "metadata": {},
     "output_type": "execute_result"
    }
   ],
   "source": [
    "accuracy_score(y_test,y_predict_parm)"
   ]
  },
  {
   "cell_type": "markdown",
   "id": "e5fdfa4e-8377-447f-8756-958113f4c537",
   "metadata": {},
   "source": [
    "#### Default parmaeter we got 80 percent\n",
    "#### after hyper parameter tuning we got 83 percent"
   ]
  },
  {
   "cell_type": "code",
   "execution_count": null,
   "id": "1b06be0d-c5ef-4bc6-9878-b7695ae0dd02",
   "metadata": {},
   "outputs": [],
   "source": []
  }
 ],
 "metadata": {
  "kernelspec": {
   "display_name": "Python 3 (ipykernel)",
   "language": "python",
   "name": "python3"
  },
  "language_info": {
   "codemirror_mode": {
    "name": "ipython",
    "version": 3
   },
   "file_extension": ".py",
   "mimetype": "text/x-python",
   "name": "python",
   "nbconvert_exporter": "python",
   "pygments_lexer": "ipython3",
   "version": "3.9.12"
  }
 },
 "nbformat": 4,
 "nbformat_minor": 5
}
