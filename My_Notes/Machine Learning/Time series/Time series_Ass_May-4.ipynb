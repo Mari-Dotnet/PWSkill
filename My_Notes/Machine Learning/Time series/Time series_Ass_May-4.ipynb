{
 "cells": [
  {
   "cell_type": "markdown",
   "id": "899cfea1-c9bc-436b-bdb9-45f3f0bfb65c",
   "metadata": {},
   "source": [
    "#### Q1. What is a time series, and what are some common applications of time series analysis?\n",
    "- A time series refers to a sequence of data points collected or recorded over a period of time. In time series analysis, the focus is on analyzing and understanding the patterns, trends, and behavior of the data points as they change over time. \n",
    "- Application:\n",
    "    - Social media analysis\n",
    "    - Sales and demand forecasting\n",
    "    - Finance and economics"
   ]
  },
  {
   "cell_type": "markdown",
   "id": "49403bf0-4022-4fab-bc82-8487a77a03d8",
   "metadata": {},
   "source": [
    "#### Q2. What are some common time series patterns, and how can they be identified and interpreted?\n",
    "- Trent \n",
    "    - A trend refers to the long-term upward or downward movement in the data.\n",
    "    - Trends can be linear or nonlinear.\n",
    "- Seasonality:\n",
    "    - Seasonality refers to regular patterns that repeat at fixed intervals within a time series\n",
    "    - These patterns could be daily, weekly, monthly, or yearly.\n",
    "- Cyclical\n",
    "    - The cyclic pattern are over the long time period.\n",
    "    - its combinaiton of sessonial and noise\n",
    "- Noise:\n",
    "    - some uncertinaity and randomness of the data\n",
    "    - pandamic,war,famous report."
   ]
  },
  {
   "cell_type": "markdown",
   "id": "b71fdd2c-c8af-421f-a601-55c701d17ed5",
   "metadata": {},
   "source": [
    "#### Q3. How can time series data be preprocessed before applying analysis techniques?\n",
    "- check the time series components\n",
    "- check stationary or non stationary\n",
    "- outlier detection"
   ]
  },
  {
   "cell_type": "markdown",
   "id": "9f6e99d5-6816-4d66-a0e9-9b54bab57ed2",
   "metadata": {},
   "source": [
    "#### Q4. How can time series forecasting be used in business decision-making, and what are some commonchallenges and limitations?\n",
    "- Data quality and availability: Accurate forecasting relies on high-quality data that is complete, consistent, and free from errors. In some cases, historical data may not be available or may be limited, making it difficult to build reliable forecasting models.\n",
    "\n",
    "- Complex patterns: Time series data can exhibit complex patterns, including multiple interacting factors, nonlinear relationships, or irregular fluctuations. Capturing and modeling such complexities can be challenging and may require advanced modeling techniques.\n",
    "\n",
    "- Assumptions of stationarity: Many traditional time series forecasting methods assume stationarity, meaning that statistical properties of the data remain constant over time. However, real-world time series often exhibit non-stationary behavior, requiring additional preprocessing or advanced modeling techniques."
   ]
  },
  {
   "cell_type": "markdown",
   "id": "28e631d3-1b9f-4451-8421-61f48868d093",
   "metadata": {},
   "source": [
    "#### Q5. What is ARIMA modelling, and how can it be used to forecast time series data?\n",
    "- ARIMA model is defined as ARIMA(p, d, q). The parameters p, d, and q are determined based on the characteristics of the time series data and can be estimated using techniques such as autocorrelation function (ACF) and partial autocorrelation function (PACF) plots.\n",
    "\n",
    "- Preprocessing the data: This includes checking for stationarity, performing differencing if necessary, and identifying any outliers or missing values.\n",
    "\n",
    "- Model identification: Determining the appropriate values of p, d, and q based on ACF and PACF plots or statistical criteria such as Akaike Information Criterion (AIC) or Bayesian Information Criterion (BIC).\n",
    "\n",
    "- Parameter estimation: Estimating the parameters of the AR, I, and MA components using methods such as maximum likelihood estimation (MLE).\n",
    "\n",
    "- Model fitting: Fitting the ARIMA model to the data using the estimated parameters.\n",
    "\n",
    "- Model evaluation: Assessing the goodness of fit and diagnostic checks by analyzing residual errors, performing statistical tests, and validating the model's performance.\n",
    "\n",
    "- Forecasting: Generating future predictions by using the fitted ARIMA model. The forecasted values can provide insights into future behavior, trends, and patterns of the time series."
   ]
  },
  {
   "cell_type": "markdown",
   "id": "efb79868-f269-4290-ad08-9febc3f9e5bc",
   "metadata": {},
   "source": [
    "#### Q6. How do Autocorrelation Function (ACF) and Partial Autocorrelation Function (PACF) plots help in identifying the order of ARIMA models?\n",
    "- Autocorrelation Function (ACF) plot: The ACF plot shows the correlation between the observations of a time series at different lags. It helps in identifying the order of the Moving Average (MA) component in the ARIMA model.\n",
    "    - The x-axis represents the lags (time intervals) between observations.\n",
    "    - The y-axis represents the correlation coefficient, which indicates the strength and direction of the correlation.\n",
    "    \n",
    "- The PACF plot shows the correlation between observations at different lags, excluding the indirect correlation through shorter lags. It helps in identifying the order of the Autoregressive (AR) component in the ARIMA model.\n",
    "    - The x-axis represents the lags (time intervals) between observations.\n",
    "    - The y-axis represents the partial correlation coefficient, which measures the correlation after removing the influence of shorter lags."
   ]
  },
  {
   "cell_type": "markdown",
   "id": "e82aa59e-031f-4c7f-96af-9dab47d8ee09",
   "metadata": {},
   "source": [
    "#### Q7. What are the assumptions of ARIMA models, and how can they be tested for in practice?\n",
    "- ARIMA models assume that the time series is stationary, meaning that the statistical properties (mean, variance, and autocovariance) remain constant over time. Stationarity is crucial for ARIMA models to establish meaningful relationships between the past and future observations."
   ]
  },
  {
   "cell_type": "markdown",
   "id": "d66e26ab-56e6-4d95-87ad-2a65c2516614",
   "metadata": {},
   "source": [
    "#### Q8. Suppose you have monthly sales data for a retail store for the past three years. Which type of time series model would you recommend for forecasting future sales, and why?\n",
    "-  model selection depends on the specific characteristics of the data and the desired level of accuracy. It may require experimentation and evaluation of multiple models to determine the best fit for the sales data. "
   ]
  },
  {
   "cell_type": "markdown",
   "id": "9e68a2ff-f3b8-4d37-920c-3b5e09dbe494",
   "metadata": {},
   "source": [
    "#### Q9. What are some of the limitations of time series analysis? Provide an example of a scenario where the limitations of time series analysis may be particularly relevant.\n",
    "- Non-stationarity: Many time series analysis methods assume stationarity, meaning that the statistical properties of the data remain constant over time. However, real-world data often exhibit trends, seasonality, or other forms of non-stationarity. Preprocessing techniques like differencing or more advanced models like SARIMA or state-space \n",
    "\n",
    "- Example scenario:\n",
    "Consider a scenario where a retail company wants to forecast sales for a newly launched product. The company only has a few months of sales data available, and the sales pattern has been highly volatile and unpredictable. In such a situation, the limitations of time series analysis become relevant:\n",
    "\n",
    "- Limited historical data: The short time series with limited data points can make it challenging to build accurate forecasting models. The forecasts may be less reliable due to the limited historical information."
   ]
  },
  {
   "cell_type": "markdown",
   "id": "6d2cbb44-d0bd-4f2c-a9ac-dec484eab0da",
   "metadata": {},
   "source": [
    "#### Q10. Explain the difference between a stationary and non-stationary time series. How does the stationarity of a time series affect the choice of forecasting model?\n",
    "\n",
    "- Mean: In a stationary time series, the mean remains constant over time. It does not exhibit any significant trend or systematic patterns. In contrast, a non-stationary time series shows a changing mean, indicating a trend or drift in the data.\n",
    "\n",
    "- Variance: Stationary time series have constant variance throughout the time series. Non-stationary time series, especially those with a trend component, often have increasing or varying variance over time.\n",
    "\n",
    "- Autocovariance: Stationary time series have autocovariance that depends only on the time lag between observations and not on the specific time points. The autocovariance function remains relatively constant over time. In contrast, non-stationary time series exhibit autocovariance that varies with time, often showing a decreasing trend."
   ]
  }
 ],
 "metadata": {
  "kernelspec": {
   "display_name": "Python 3 (ipykernel)",
   "language": "python",
   "name": "python3"
  },
  "language_info": {
   "codemirror_mode": {
    "name": "ipython",
    "version": 3
   },
   "file_extension": ".py",
   "mimetype": "text/x-python",
   "name": "python",
   "nbconvert_exporter": "python",
   "pygments_lexer": "ipython3",
   "version": "3.9.12"
  }
 },
 "nbformat": 4,
 "nbformat_minor": 5
}
