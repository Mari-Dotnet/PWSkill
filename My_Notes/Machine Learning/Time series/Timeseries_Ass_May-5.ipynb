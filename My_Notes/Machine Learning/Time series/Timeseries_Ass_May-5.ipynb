{
 "cells": [
  {
   "cell_type": "markdown",
   "id": "93a9599f-52b8-4f98-b782-41d775110278",
   "metadata": {},
   "source": [
    "#### Q1. What is meant by time-dependent seasonal components?\n",
    "- Time-dependent seasonal components refer to patterns or variations in a time series that exhibit a seasonal nature, where the characteristics of the seasonal pattern change over time. In other words, the seasonal effect in the data varies from one season to another and is not constant throughout the entire series."
   ]
  },
  {
   "cell_type": "markdown",
   "id": "c322dbb5-5260-4b43-89f2-f136bf2a2fdd",
   "metadata": {},
   "source": [
    "#### Q2. How can time-dependent seasonal components be identified in time series data?\n",
    "-  identifying time-dependent seasonal components may require a combination of approaches. Visual examination, statistical tests, decomposition techniques, and domain knowledge can all contribute to a comprehensive understanding of the seasonal patterns and their variations over time. Additionally, iterative analysis and model refinement may be necessary to capture the time-dependent seasonal components accurately."
   ]
  },
  {
   "cell_type": "markdown",
   "id": "22e5ff34-636b-4c5e-ba66-06d884ef6f9a",
   "metadata": {},
   "source": [
    "#### Q3. What are the factors that can influence time-dependent seasonal components?\n",
    "- Economic factors \n",
    "- Market dynamics\n",
    "- External events\n",
    "- Climate or weather patterns:"
   ]
  },
  {
   "cell_type": "markdown",
   "id": "9e8f5a7f-de0c-4295-8039-d04f1b7bb59d",
   "metadata": {},
   "source": [
    "#### Q4. How are autoregression models used in time series analysis and forecasting?\n",
    "Autoregression models, often referred to as AR models, are widely used in time series analysis and forecasting. They are a class of models that capture the dependence of a variable on its own past values. Autoregression models assume that the future values of a time series can be predicted based on its previous values.\n",
    "\n",
    "In an autoregression model, the value of the dependent variable at a given time point is regressed on one or more lagged values of the same variable. The order of the autoregression, denoted as AR(p), specifies the number of lagged values included in the model."
   ]
  },
  {
   "cell_type": "markdown",
   "id": "a2b6fb69-dfcc-411c-87ae-44006795dc57",
   "metadata": {},
   "source": [
    "#### Q5. How do you use autoregression models to make predictions for future time points?\n",
    "Model Estimation: First, you need to estimate the autoregression model using historical time series data. The order of the autoregression model, denoted as AR(p), determines the number of lagged values included in the model. The appropriate order can be determined through model selection techniques, such as AIC or BIC.\n",
    "\n",
    "Data Preparation: Once the model is estimated, you need to prepare the data for prediction. This involves selecting the appropriate lagged values of the variable as input for the model. For example, if the autoregression model is AR(2), you would need the two most recent values of the variable to predict the next value.\n",
    "\n",
    "Forecasting: With the estimated coefficients and the lagged values, you can generate forecasts for future time points. Start by using the available historical data to predict the next value. Then, update the lagged values with the new observed value and repeat the process for subsequent time points. This creates a recursive or rolling forecast, where the predicted value at each step becomes the input for the next prediction.\n",
    "\n",
    "Repeating the Forecasting Process: Depending on the forecasting horizon desired, you can repeat the forecasting process for as many future time points as needed. Each time point requires updating the lagged values and using the model's coefficients to generate a new forecast.\n",
    "\n",
    "Incorporating Forecast Uncertainty: It is important to assess the uncertainty or variability associated with the forecasts. This can be done by calculating prediction intervals, which provide a range of possible values within which the future observations are likely to fall. The width of the prediction interval depends on the model's residuals and their variability.\n",
    "\n",
    "Evaluation and Refinement: After making predictions, it is essential to evaluate the forecast accuracy using appropriate evaluation metrics such as mean squared error (MSE), mean absolute error (MAE), or forecast error percentages. This evaluation helps assess the performance of the autoregression model and identify any necessary refinements"
   ]
  },
  {
   "cell_type": "markdown",
   "id": "4345b4fa-dfe9-48d6-b784-34395ebfe069",
   "metadata": {},
   "source": [
    "\n",
    "#### Q6. What is a moving average (MA) model and how does it differ from other time series models?\n",
    "-  A moving average (MA) model is a type of time series model that describes the relationship between an observation and a linear combination of past error terms (also known as residuals). In an MA model, the current observation is modeled as a linear combination of the error terms at previous time points."
   ]
  },
  {
   "cell_type": "markdown",
   "id": "43930f4a-eec9-4e70-b34e-2443553ce991",
   "metadata": {},
   "source": [
    "#### Q7. What is a mixed ARMA model and how does it differ from an AR or MA model?\n",
    "\n",
    "- A mixed autoregressive moving average (ARMA) model, often referred to as a mixed ARMA model or ARMA(p, q) model, is a time series model that combines both autoregressive (AR) and moving average (MA) components. It incorporates the past values of the observed variable as well as the past error terms to model the current observation.\n",
    "\n",
    "- The key characteristic of a mixed ARMA model is that it captures both the autoregressive relationship with past observations and the moving average relationship with past error terms. It provides a more comprehensive representation of the time series dynamics compared to AR or MA models alone."
   ]
  },
  {
   "cell_type": "code",
   "execution_count": null,
   "id": "d1a65237-1a2b-41e2-8958-c74a7a68b638",
   "metadata": {},
   "outputs": [],
   "source": []
  }
 ],
 "metadata": {
  "kernelspec": {
   "display_name": "Python 3 (ipykernel)",
   "language": "python",
   "name": "python3"
  },
  "language_info": {
   "codemirror_mode": {
    "name": "ipython",
    "version": 3
   },
   "file_extension": ".py",
   "mimetype": "text/x-python",
   "name": "python",
   "nbconvert_exporter": "python",
   "pygments_lexer": "ipython3",
   "version": "3.9.12"
  }
 },
 "nbformat": 4,
 "nbformat_minor": 5
}
