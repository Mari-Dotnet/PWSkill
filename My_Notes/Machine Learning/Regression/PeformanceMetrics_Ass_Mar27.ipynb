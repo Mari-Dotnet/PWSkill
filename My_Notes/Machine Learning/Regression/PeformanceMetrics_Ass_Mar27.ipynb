{
 "cells": [
  {
   "cell_type": "markdown",
   "id": "f2969dcc-dafd-4d1a-a44b-33d80ba94063",
   "metadata": {},
   "source": [
    "#### Q1. Explain the concept of R-squared in linear regression models. How is it calculated, and what does it represent?\n",
    "\n",
    "- To find the accuracy of the model peformance on actual point vs predict points\n",
    "- Rsq= 1- (SSres/SStotal)\n",
    "- ssres : actual- predict\n",
    "- sstotal : predict point - mean on output value"
   ]
  },
  {
   "cell_type": "markdown",
   "id": "215e96ab-5786-4b6e-a159-9d7d28263b4f",
   "metadata": {},
   "source": [
    "#### Q2. Define adjusted R-squared and explain how it differs from the regular R-squared.\n",
    "- The not importand independent feature added on model the R-square value in increased, but the adjust rsquare value is decrese."
   ]
  },
  {
   "cell_type": "markdown",
   "id": "dbd3241f-0cdc-4317-8da2-95635de556b7",
   "metadata": {},
   "source": [
    "#### Q3. When is it more appropriate to use adjusted R-squared?\n",
    "- whenever the not importand feature added on our model that time adjust r-square error get bettter result compare to the r-square."
   ]
  },
  {
   "cell_type": "markdown",
   "id": "1d7e1410-aff6-4717-9803-4139fb3b20ed",
   "metadata": {},
   "source": [
    "#### Q4. What are RMSE, MSE, and MAE in the context of regression analysis? How are these metrics calculated, and what do they represent?\n",
    "- Thse are the cost function to get the global minima and get the best fit line."
   ]
  },
  {
   "cell_type": "markdown",
   "id": "c51c0405-30e0-4207-9207-87fac1f8a0ef",
   "metadata": {},
   "source": [
    "#### Q5. Discuss the advantages and disadvantages of using RMSE, MSE, and MAE as evaluation metrics in regression analysis.\n",
    "- MSE \n",
    "    - Advantages\n",
    "        - its differentiable\n",
    "        - it have one local and global minima\n",
    "    -  Dis Advantages\n",
    "        - not robust to outliers\n",
    "        - its not in the same unit\n",
    "\n",
    "- MAE \n",
    "    - Advantages\n",
    "        - robust to outliers\n",
    "        - it will be in the same unit\n",
    "    -  Dis Advantages\n",
    "        - convergense it will take time\n",
    "        - optimization it will take time\n",
    "- RMSE \n",
    "    - Advantages\n",
    "        - its differentiables\n",
    "        - it will be in the same unit\n",
    "    -  Dis Advantages\n",
    "        - not robust to outliers\n"
   ]
  },
  {
   "cell_type": "markdown",
   "id": "94ac3c20-7617-40a0-b1b4-f3591bdf69bc",
   "metadata": {},
   "source": [
    "#### Q6. Explain the concept of Lasso regularization. How does it differ from Ridge regularization, and when is  it more appropriate to use?\n",
    "- Ridge regression is used for to reduce the overfitting\n",
    "- The lasso regression is used for feature selection"
   ]
  },
  {
   "cell_type": "markdown",
   "id": "bb28c9fa-a905-4949-bd6d-0ce0cbce9025",
   "metadata": {},
   "source": [
    "#### Q7. How do regularized linear models help to prevent overfitting in machine learning? Provide an example to illustrate.\n",
    "- Ridge regression is used to prevent the overfitting \n",
    "- Ridge Regression adds a penalty term to the cost function that shrinks the coefficients towards zero, reducing the impact of multicollinearity."
   ]
  },
  {
   "cell_type": "markdown",
   "id": "be32d31c-1a28-4478-800f-4fa54c9f91b8",
   "metadata": {},
   "source": [
    "#### Q9. You are comparing the performance of two regression models using different evaluation metrics. Model A has an RMSE of 10, while Model B has an MAE of 8. Which model would you choose as the better performer, and why? Are there any limitations to your choice of metric?\n",
    "- we are using MAE \n",
    "- Both MAE and RMSE value in same unit and MAE  robust to outliers\n",
    "- in this case MAE veluse is less so we can use MAE "
   ]
  },
  {
   "cell_type": "markdown",
   "id": "a97a5924-914e-490d-9fe4-74c840b12493",
   "metadata": {},
   "source": [
    "Q10. You are comparing the performance of two regularized linear models using different types of\n",
    "regularization. Model A uses Ridge regularization with a regularization parameter of 0.1, while Model B\n",
    "uses Lasso regularization with a regularization parameter of 0.5. Which model would you choose as the\n",
    "better performer, and why? Are there any trade-offs or limitations to your choice of regularization\n",
    "method?\n",
    "\n",
    "- Ridge regression is used for to reduce the overfitting\n",
    "- The lasso regression is used for feature selection\n",
    "- First we used lasso regression and we can use ridge regression to get better model."
   ]
  },
  {
   "cell_type": "code",
   "execution_count": null,
   "id": "acf0c39e-eb4f-4d38-8cd7-6331e5133538",
   "metadata": {},
   "outputs": [],
   "source": []
  }
 ],
 "metadata": {
  "kernelspec": {
   "display_name": "Python 3 (ipykernel)",
   "language": "python",
   "name": "python3"
  },
  "language_info": {
   "codemirror_mode": {
    "name": "ipython",
    "version": 3
   },
   "file_extension": ".py",
   "mimetype": "text/x-python",
   "name": "python",
   "nbconvert_exporter": "python",
   "pygments_lexer": "ipython3",
   "version": "3.9.12"
  }
 },
 "nbformat": 4,
 "nbformat_minor": 5
}
