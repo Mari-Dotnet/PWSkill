{
 "cells": [
  {
   "cell_type": "markdown",
   "id": "b951cd4e-cb57-445e-9975-7e9d7177c6fb",
   "metadata": {},
   "source": [
    "#### simple Liner regression"
   ]
  },
  {
   "cell_type": "markdown",
   "id": "36bc55ca-ffe0-4e28-8b9d-f326d685b797",
   "metadata": {},
   "source": [
    "- MSE \n",
    "    - Advantages\n",
    "        - its differentiable\n",
    "        - it have one local and global minima\n",
    "    -  Dis Advantages\n",
    "        - not robust to outliers\n",
    "        - its not in the same unit\n",
    "\n",
    "- MAE \n",
    "    - Advantages\n",
    "        - robust to outliers\n",
    "        - it will be in the same unit\n",
    "    -  Dis Advantages\n",
    "        - convergense it will take time\n",
    "        - optimization it will take time\n",
    "- RMSE \n",
    "    - Advantages\n",
    "        - its differentiables\n",
    "        - it will be in the same unit\n",
    "    -  Dis Advantages\n",
    "        - not robust to outliers"
   ]
  },
  {
   "cell_type": "code",
   "execution_count": 51,
   "id": "350601b9-5179-432f-91c7-b496ba0d3de2",
   "metadata": {},
   "outputs": [],
   "source": [
    "import pandas as pd\n",
    "import numpy as np\n",
    "import matplotlib.pyplot as plt\n",
    "import seaborn as sns\n",
    "import warnings\n",
    "warnings.filterwarnings('ignore')"
   ]
  },
  {
   "cell_type": "code",
   "execution_count": 4,
   "id": "7888638a-fc90-4dc1-9e16-a9ca80791a35",
   "metadata": {},
   "outputs": [],
   "source": [
    "## read data\n",
    "df=pd.read_csv('height-weight.csv')"
   ]
  },
  {
   "cell_type": "code",
   "execution_count": 5,
   "id": "ee59efcc-2e6a-4c27-8149-132f5e2e91fb",
   "metadata": {},
   "outputs": [
    {
     "data": {
      "text/html": [
       "<div>\n",
       "<style scoped>\n",
       "    .dataframe tbody tr th:only-of-type {\n",
       "        vertical-align: middle;\n",
       "    }\n",
       "\n",
       "    .dataframe tbody tr th {\n",
       "        vertical-align: top;\n",
       "    }\n",
       "\n",
       "    .dataframe thead th {\n",
       "        text-align: right;\n",
       "    }\n",
       "</style>\n",
       "<table border=\"1\" class=\"dataframe\">\n",
       "  <thead>\n",
       "    <tr style=\"text-align: right;\">\n",
       "      <th></th>\n",
       "      <th>Weight</th>\n",
       "      <th>Height</th>\n",
       "    </tr>\n",
       "  </thead>\n",
       "  <tbody>\n",
       "    <tr>\n",
       "      <th>0</th>\n",
       "      <td>45</td>\n",
       "      <td>120</td>\n",
       "    </tr>\n",
       "    <tr>\n",
       "      <th>1</th>\n",
       "      <td>58</td>\n",
       "      <td>135</td>\n",
       "    </tr>\n",
       "    <tr>\n",
       "      <th>2</th>\n",
       "      <td>48</td>\n",
       "      <td>123</td>\n",
       "    </tr>\n",
       "    <tr>\n",
       "      <th>3</th>\n",
       "      <td>60</td>\n",
       "      <td>145</td>\n",
       "    </tr>\n",
       "    <tr>\n",
       "      <th>4</th>\n",
       "      <td>70</td>\n",
       "      <td>160</td>\n",
       "    </tr>\n",
       "  </tbody>\n",
       "</table>\n",
       "</div>"
      ],
      "text/plain": [
       "   Weight  Height\n",
       "0      45     120\n",
       "1      58     135\n",
       "2      48     123\n",
       "3      60     145\n",
       "4      70     160"
      ]
     },
     "execution_count": 5,
     "metadata": {},
     "output_type": "execute_result"
    }
   ],
   "source": [
    "df.head()"
   ]
  },
  {
   "cell_type": "code",
   "execution_count": 6,
   "id": "f39ef14e-0f30-4458-9175-67588d0bdeb1",
   "metadata": {},
   "outputs": [
    {
     "data": {
      "text/plain": [
       "Text(0.5, 1.0, 'wight vs height')"
      ]
     },
     "execution_count": 6,
     "metadata": {},
     "output_type": "execute_result"
    },
    {
     "data": {
      "image/png": "[encoded data removed]",
      "text/plain": [
       "<Figure size 432x288 with 1 Axes>"
      ]
     },
     "metadata": {
      "needs_background": "light"
     },
     "output_type": "display_data"
    }
   ],
   "source": [
    "plt.scatter(df['Weight'],df['Height'])\n",
    "plt.xlabel('Weight')\n",
    "plt.ylabel('height')\n",
    "plt.title('wight vs height')"
   ]
  },
  {
   "cell_type": "code",
   "execution_count": 21,
   "id": "d0d0f0d7-52e2-48af-ad91-87ffdf5f034e",
   "metadata": {},
   "outputs": [],
   "source": [
    "## divide our datset into independent and dependent\n",
    "X=df[['Weight']] ## input feature\n",
    "y=df['Height']  ## output feature"
   ]
  },
  {
   "cell_type": "code",
   "execution_count": 22,
   "id": "a7abc024-48a9-487c-9487-4067814ac06d",
   "metadata": {},
   "outputs": [],
   "source": [
    "## train test split\n",
    "from sklearn.model_selection import train_test_split"
   ]
  },
  {
   "cell_type": "code",
   "execution_count": 23,
   "id": "51bacd2c-342d-4130-b39e-75bc491a1557",
   "metadata": {},
   "outputs": [],
   "source": [
    "X_train,X_test,y_train,y_test=train_test_split(X,y,test_size=0.20,random_state=42)"
   ]
  },
  {
   "cell_type": "code",
   "execution_count": 24,
   "id": "59130ab8-f054-4f20-ba67-0f604bc1f23f",
   "metadata": {},
   "outputs": [
    {
     "data": {
      "text/plain": [
       "((18, 1), (18,))"
      ]
     },
     "execution_count": 24,
     "metadata": {},
     "output_type": "execute_result"
    }
   ],
   "source": [
    "X_train.shape,y_train.shape"
   ]
  },
  {
   "cell_type": "code",
   "execution_count": 25,
   "id": "89643b32-ad8e-4d14-81bf-16b6c076dde6",
   "metadata": {},
   "outputs": [
    {
     "data": {
      "text/plain": [
       "((5, 1), (5,))"
      ]
     },
     "execution_count": 25,
     "metadata": {},
     "output_type": "execute_result"
    }
   ],
   "source": [
    "X_test.shape, y_test.shape"
   ]
  },
  {
   "cell_type": "code",
   "execution_count": 26,
   "id": "b30524ff-0c8c-4cbf-8cae-aac957f63170",
   "metadata": {},
   "outputs": [],
   "source": [
    "## standardtise the indepndent data\n",
    "from sklearn.preprocessing import StandardScaler"
   ]
  },
  {
   "cell_type": "code",
   "execution_count": 27,
   "id": "155ce43e-478b-42fd-9d76-eda0df8480ee",
   "metadata": {},
   "outputs": [],
   "source": [
    "scaler=StandardScaler()"
   ]
  },
  {
   "cell_type": "code",
   "execution_count": 31,
   "id": "61dbd55e-ccb5-4c68-95ed-8381ef848d98",
   "metadata": {},
   "outputs": [],
   "source": [
    "X_train=scaler.fit_transform(X_train)\n",
    "X_test= scaler.fit_transform(X_test)"
   ]
  },
  {
   "cell_type": "code",
   "execution_count": 33,
   "id": "da8d1a4f-01f8-447f-ae36-7f19c896583a",
   "metadata": {},
   "outputs": [
    {
     "data": {
      "text/plain": [
       "<matplotlib.collections.PathCollection at 0x1d2fdc64700>"
      ]
     },
     "execution_count": 33,
     "metadata": {},
     "output_type": "execute_result"
    },
    {
     "data": {
      "image/png": "[encoded data removed]",
      "text/plain": [
       "<Figure size 432x288 with 1 Axes>"
      ]
     },
     "metadata": {
      "needs_background": "light"
     },
     "output_type": "display_data"
    }
   ],
   "source": [
    "plt.scatter(X_train,y_train)"
   ]
  },
  {
   "cell_type": "code",
   "execution_count": 34,
   "id": "c9d6f769-13c3-407a-80ee-2abef50a2c16",
   "metadata": {},
   "outputs": [],
   "source": [
    "## train our model\n",
    "from sklearn.linear_model import LinearRegression"
   ]
  },
  {
   "cell_type": "code",
   "execution_count": 35,
   "id": "f58f6fe8-15be-45af-a516-b7ad14c9ee11",
   "metadata": {},
   "outputs": [],
   "source": [
    "model=LinearRegression()"
   ]
  },
  {
   "cell_type": "code",
   "execution_count": 37,
   "id": "85396277-1011-46f7-bb2b-d88011f65fd8",
   "metadata": {},
   "outputs": [
    {
     "data": {
      "text/plain": [
       "LinearRegression()"
      ]
     },
     "execution_count": 37,
     "metadata": {},
     "output_type": "execute_result"
    }
   ],
   "source": [
    "model.fit(X_train,y_train)"
   ]
  },
  {
   "cell_type": "code",
   "execution_count": 41,
   "id": "2ed2f4c7-bcd7-4ade-8fd9-607e26726b8d",
   "metadata": {},
   "outputs": [
    {
     "name": "stdout",
     "output_type": "stream",
     "text": [
      "The slope of the weight is  [17.03440872]\n",
      "The intercept of the weight is  157.5\n"
     ]
    }
   ],
   "source": [
    "print(\"The slope of the weight is \",model.coef_)\n",
    "print(\"The intercept of the weight is \",model.intercept_)"
   ]
  },
  {
   "cell_type": "code",
   "execution_count": 45,
   "id": "f630d266-fb7b-42d1-8dc5-7c2acacafa5e",
   "metadata": {},
   "outputs": [
    {
     "data": {
      "text/plain": [
       "[<matplotlib.lines.Line2D at 0x1d2fe7ea760>]"
      ]
     },
     "execution_count": 45,
     "metadata": {},
     "output_type": "execute_result"
    },
    {
     "data": {
      "image/png": "[encoded data removed]",
      "text/plain": [
       "<Figure size 432x288 with 1 Axes>"
      ]
     },
     "metadata": {
      "needs_background": "light"
     },
     "output_type": "display_data"
    }
   ],
   "source": [
    "plt.scatter(X_train,y_train)\n",
    "plt.plot(X_train,model.predict(X_train),'r')"
   ]
  },
  {
   "cell_type": "code",
   "execution_count": 46,
   "id": "625038f1-bc65-4527-85c9-26f253557ba5",
   "metadata": {},
   "outputs": [],
   "source": [
    "y_pred_test=model.predict(X_test)"
   ]
  },
  {
   "cell_type": "code",
   "execution_count": 48,
   "id": "d4fc940d-0c31-44e9-bd88-94d0d185a226",
   "metadata": {},
   "outputs": [
    {
     "data": {
      "text/plain": [
       "(array([163.44962265, 163.44962265, 129.59832137, 180.88817179,\n",
       "        150.11426154]),\n",
       " 15    177\n",
       " 9     170\n",
       " 0     120\n",
       " 8     182\n",
       " 17    159\n",
       " Name: Height, dtype: int64)"
      ]
     },
     "execution_count": 48,
     "metadata": {},
     "output_type": "execute_result"
    }
   ],
   "source": [
    "y_pred_test,y_test"
   ]
  },
  {
   "cell_type": "code",
   "execution_count": 49,
   "id": "7cfd4995-258a-48b9-9dd6-a7740590d8d1",
   "metadata": {},
   "outputs": [
    {
     "data": {
      "text/plain": [
       "[<matplotlib.lines.Line2D at 0x1d2fe9f7b80>]"
      ]
     },
     "execution_count": 49,
     "metadata": {},
     "output_type": "execute_result"
    },
    {
     "data": {
      "image/png": "[encoded data removed]",
      "text/plain": [
       "<Figure size 432x288 with 1 Axes>"
      ]
     },
     "metadata": {
      "needs_background": "light"
     },
     "output_type": "display_data"
    }
   ],
   "source": [
    "plt.scatter(X_test,y_test)\n",
    "plt.plot(X_test,model.predict(X_test),'r')"
   ]
  },
  {
   "cell_type": "markdown",
   "id": "7b1d9205-3fa6-4d6c-bf55-c2042012a963",
   "metadata": {},
   "source": [
    "#### performance Metrics\n",
    "- MSE, MAE, RMSE\n",
    "- Rsquare , Adjust R square"
   ]
  },
  {
   "cell_type": "code",
   "execution_count": 50,
   "id": "ca094ed5-ce95-4f66-9939-13f2b44a4c13",
   "metadata": {},
   "outputs": [],
   "source": [
    "from sklearn.metrics import mean_squared_error,mean_absolute_error"
   ]
  },
  {
   "cell_type": "code",
   "execution_count": 54,
   "id": "af4e7840-1e71-4ac9-a930-86673d84f0d1",
   "metadata": {},
   "outputs": [
    {
     "name": "stdout",
     "output_type": "stream",
     "text": [
      "mse 79.76809057832979\n",
      "mae 7.9393285483063725\n",
      "rmse 8.931298370244372\n"
     ]
    }
   ],
   "source": [
    "mse=mean_squared_error(y_test,y_pred_test)\n",
    "mae=mean_absolute_error(y_test,y_pred_test)\n",
    "rmse=np.sqrt(mse)\n",
    "print( \"mse\",mse)\n",
    "print( \"mae\",mae)\n",
    "print(\"rmse\",rmse)"
   ]
  },
  {
   "cell_type": "code",
   "execution_count": 55,
   "id": "3e1461bc-939c-454d-9076-e3010e30d021",
   "metadata": {},
   "outputs": [],
   "source": [
    "from sklearn.metrics import r2_score"
   ]
  },
  {
   "cell_type": "code",
   "execution_count": 57,
   "id": "fea3d44b-5b83-4502-a71d-3814c3855625",
   "metadata": {},
   "outputs": [
    {
     "data": {
      "text/plain": [
       "0.8379487839705635"
      ]
     },
     "execution_count": 57,
     "metadata": {},
     "output_type": "execute_result"
    }
   ],
   "source": [
    "score=r2_score(y_test,y_pred_test)\n",
    "score"
   ]
  },
  {
   "cell_type": "code",
   "execution_count": 67,
   "id": "e5217328-a5ea-4f0f-b3de-9e937f3cea1b",
   "metadata": {},
   "outputs": [
    {
     "data": {
      "text/plain": [
       "array([[0.]])"
      ]
     },
     "execution_count": 67,
     "metadata": {},
     "output_type": "execute_result"
    }
   ],
   "source": [
    "## New data point weight 80\n",
    "scaleweight=scaler.transform([[80]])\n"
   ]
  },
  {
   "cell_type": "code",
   "execution_count": 68,
   "id": "c39fd0cf-60be-4d73-9e1b-9c7c0663fe7b",
   "metadata": {},
   "outputs": [
    {
     "data": {
      "text/plain": [
       "array([[0.]])"
      ]
     },
     "execution_count": 68,
     "metadata": {},
     "output_type": "execute_result"
    }
   ],
   "source": [
    "scaler.fit_transform([[90]])"
   ]
  },
  {
   "cell_type": "code",
   "execution_count": 72,
   "id": "df1b6c11-ecdc-465d-ae4b-89a04d372b43",
   "metadata": {},
   "outputs": [
    {
     "data": {
      "text/plain": [
       "array([[-10.]])"
      ]
     },
     "execution_count": 72,
     "metadata": {},
     "output_type": "execute_result"
    }
   ],
   "source": [
    "scaler.transform([[80]])"
   ]
  },
  {
   "cell_type": "code",
   "execution_count": 75,
   "id": "a505b216-6664-4795-bd0a-b4c1ce542068",
   "metadata": {},
   "outputs": [
    {
     "data": {
      "text/plain": [
       "<matplotlib.collections.PathCollection at 0x1d2ffe86e80>"
      ]
     },
     "execution_count": 75,
     "metadata": {},
     "output_type": "execute_result"
    },
    {
     "data": {
      "image/png": "[encoded data removed]",
      "text/plain": [
       "<Figure size 432x288 with 1 Axes>"
      ]
     },
     "metadata": {
      "needs_background": "light"
     },
     "output_type": "display_data"
    }
   ],
   "source": [
    "### Assumption required for liner regression\n",
    "## plot the scatter plot\n",
    "plt.scatter(y_test,y_pred_test)\n",
    "## the output is liner "
   ]
  },
  {
   "cell_type": "code",
   "execution_count": 77,
   "id": "ed68fd3e-5a4a-4e8a-9a47-49392cf54d9d",
   "metadata": {},
   "outputs": [
    {
     "data": {
      "text/plain": [
       "15    13.550377\n",
       "9      6.550377\n",
       "0     -9.598321\n",
       "8      1.111828\n",
       "17     8.885738\n",
       "Name: Height, dtype: float64"
      ]
     },
     "execution_count": 77,
     "metadata": {},
     "output_type": "execute_result"
    }
   ],
   "source": [
    "## Residual\n",
    "residual=y_test-y_pred_test\n",
    "residual"
   ]
  },
  {
   "cell_type": "code",
   "execution_count": 80,
   "id": "5785ebae-0951-41db-b71b-f7c3daacc936",
   "metadata": {},
   "outputs": [
    {
     "data": {
      "text/plain": [
       "<AxesSubplot:xlabel='Height', ylabel='Density'>"
      ]
     },
     "execution_count": 80,
     "metadata": {},
     "output_type": "execute_result"
    },
    {
     "data": {
      "image/png": "[encoded data removed]",
      "text/plain": [
       "<Figure size 432x288 with 1 Axes>"
      ]
     },
     "metadata": {
      "needs_background": "light"
     },
     "output_type": "display_data"
    }
   ],
   "source": [
    "## plot the residual\n",
    "sns.distplot(residual,kde=True)\n",
    "\n",
    "## This distirbution is normal"
   ]
  },
  {
   "cell_type": "code",
   "execution_count": 82,
   "id": "00529f69-468b-46d8-8098-ccab6ef1bbfe",
   "metadata": {},
   "outputs": [
    {
     "data": {
      "text/plain": [
       "<matplotlib.collections.PathCollection at 0x1d2808baa00>"
      ]
     },
     "execution_count": 82,
     "metadata": {},
     "output_type": "execute_result"
    },
    {
     "data": {
      "image/png": "[encoded data removed]",
      "text/plain": [
       "<Figure size 432x288 with 1 Axes>"
      ]
     },
     "metadata": {
      "needs_background": "light"
     },
     "output_type": "display_data"
    }
   ],
   "source": [
    "### plot predict vs residual\n",
    "## uniform distribution\n",
    "plt.scatter(y_pred_test,residual)"
   ]
  },
  {
   "cell_type": "code",
   "execution_count": null,
   "id": "b77eab68-76e8-4b5d-a1ef-f78db0d2e7f9",
   "metadata": {},
   "outputs": [],
   "source": []
  }
 ],
 "metadata": {
  "kernelspec": {
   "display_name": "Python 3 (ipykernel)",
   "language": "python",
   "name": "python3"
  },
  "language_info": {
   "codemirror_mode": {
    "name": "ipython",
    "version": 3
   },
   "file_extension": ".py",
   "mimetype": "text/x-python",
   "name": "python",
   "nbconvert_exporter": "python",
   "pygments_lexer": "ipython3",
   "version": "3.9.12"
  }
 },
 "nbformat": 4,
 "nbformat_minor": 5
}
