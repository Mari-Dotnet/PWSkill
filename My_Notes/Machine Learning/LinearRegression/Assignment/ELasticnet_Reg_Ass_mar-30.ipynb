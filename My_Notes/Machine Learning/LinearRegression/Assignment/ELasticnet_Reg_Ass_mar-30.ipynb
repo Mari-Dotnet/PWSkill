{
 "cells": [
  {
   "cell_type": "markdown",
   "id": "0fa18b41-bf5b-4ac7-8b3b-26a2c9e984e0",
   "metadata": {},
   "source": [
    "### Q1. What is Elastic Net Regression and how does it differ from other regression techniques?\n",
    "- Ridge regression is used for reduce the overfitting\n",
    "- Lasso regression is used for feature selection\n",
    "- Elastinet is combination of both ridge and lasso regression"
   ]
  },
  {
   "cell_type": "markdown",
   "id": "223191b9-4e54-40a8-8566-e720f483e115",
   "metadata": {},
   "source": [
    "### Q2. How do you choose the optimal values of the regularization parameters for Elastic Net Regression?\n",
    "- The regularization parameter is a hyperparameter of Elastic Net Regression that controls the strength of the regularization penalty. A larger value of this parameter will result in a stronger penalty, which will encourage the model to use fewer features"
   ]
  },
  {
   "cell_type": "markdown",
   "id": "da30dcd0-9870-455e-8830-889f761552b9",
   "metadata": {},
   "source": [
    "### Q3. What are the advantages and disadvantages of Elastic Net Regression?\n",
    "- Advantages:\n",
    "    - Its combined both ridge and Lasso\n",
    "    - For reducing the overfit and feature selection\n",
    "- Dis advantages:\n",
    "    -  Elastic Net Regression is sensitive to the scale of the features, which means that it can give different importance to features based on their scale"
   ]
  },
  {
   "cell_type": "markdown",
   "id": "c3ffd2df-5f4e-4f47-bfb3-2c00a7d6d893",
   "metadata": {},
   "source": [
    "#### Q4. What are some common use cases for Elastic Net Regression?\n",
    "- Elastic Net Regression is a regularization method that combines the penalties of Lasso and Ridge Regression. It is useful when the number of independent variables is large and some of them are highly correlated. Elastic Net Regression can handle such situations by shrinking the less important coefficients towards zero, while also encouraging grouping and sparsity."
   ]
  },
  {
   "cell_type": "markdown",
   "id": "55bce638-e671-44f0-ad20-76d44de2fea6",
   "metadata": {},
   "source": [
    "#### Q5. How do you interpret the coefficients in Elastic Net Regression?\n",
    "\n",
    "- Positive coefficients indicate that an increase in the corresponding independent variable is associated with an increase in the dependent variable, while negative coefficients indicate the opposite.\n",
    "\n",
    "- The magnitude of the coefficients reflects the strength of the relationship between the independent variable and the dependent variable, taking into account the regularization imposed by the penalty terms. Larger coefficients indicate stronger relationships.\n",
    "\n",
    "- Coefficients that are close to zero indicate that the corresponding independent variable has little or no effect on the dependent variable. In other words, the variable is less important for predicting the outcome.\n",
    "\n",
    "- The signs and magnitudes of the coefficients can change as the regularization parameter is varied. It is important to carefully select the optimal value of the regularization parameter to balance between bias and variance."
   ]
  },
  {
   "cell_type": "markdown",
   "id": "6d0692b3-767b-4af4-bdd0-774e56875690",
   "metadata": {},
   "source": [
    "#### Q6. How do you handle missing values when using Elastic Net Regression?\n",
    "- Delete missing values\n",
    "- Impute missing values"
   ]
  },
  {
   "cell_type": "markdown",
   "id": "c2ccb4ce-2f5b-41fe-a84f-cb154e7fdf74",
   "metadata": {},
   "source": [
    "### Q7. How do you use Elastic Net Regression for feature selection?\n",
    "- Elastic Net Regression can be used for feature selection by taking advantage of the L1 regularization penalty term, which encourages sparsity in the resulting coefficients. The L1 penalty encourages many of the coefficients to be exactly zero, effectively removing the corresponding features from the model."
   ]
  },
  {
   "cell_type": "markdown",
   "id": "bd8f0fc3-ece4-4e70-a9cd-46533880b7fd",
   "metadata": {},
   "source": [
    "### Q8. How do you pickle and unpickle a trained Elastic Net Regression model in Python?\n",
    "- pickle.dump(Elastic,open('Elastic.pkl','wb'))\n",
    "- model=pickle.load(open('Elastic.pkl','rb'))"
   ]
  },
  {
   "cell_type": "markdown",
   "id": "52470e2d-2267-4e8c-9bb0-0edc9a29554b",
   "metadata": {},
   "source": [
    "#### Q9. What is the purpose of pickling a model in machine learning?\n",
    "-  Model pickling is a technique for storing trained models on disk so that they can be used later without having to retrain the model. It involves converting the trained model into a serialized form that can be stored as a file."
   ]
  },
  {
   "cell_type": "code",
   "execution_count": null,
   "id": "ad045872-2367-440c-982c-e1c307f6d4ed",
   "metadata": {},
   "outputs": [],
   "source": []
  }
 ],
 "metadata": {
  "kernelspec": {
   "display_name": "Python 3 (ipykernel)",
   "language": "python",
   "name": "python3"
  },
  "language_info": {
   "codemirror_mode": {
    "name": "ipython",
    "version": 3
   },
   "file_extension": ".py",
   "mimetype": "text/x-python",
   "name": "python",
   "nbconvert_exporter": "python",
   "pygments_lexer": "ipython3",
   "version": "3.9.12"
  }
 },
 "nbformat": 4,
 "nbformat_minor": 5
}
