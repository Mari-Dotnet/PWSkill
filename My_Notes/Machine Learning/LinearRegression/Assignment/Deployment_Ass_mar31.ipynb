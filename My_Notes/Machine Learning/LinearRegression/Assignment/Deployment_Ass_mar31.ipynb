{
 "cells": [
  {
   "cell_type": "markdown",
   "id": "2498f47e-3d79-4c74-9c40-955906d8da6c",
   "metadata": {},
   "source": [
    "#### Q1. What are the key steps involved in building an end-to-end web application, from development to deployment on the cloud?\n",
    "- machine learning pickle file\n",
    "- Flas web application with UI \n",
    "- using that pickle inside the web applcation to given our input and get the predict value\n",
    "- add ebextension folder with python.config file for beanstalk\n",
    "- move the code to git hub repository\n",
    "- create application AWS using beanstalk\n",
    "- Code pipeline used to move our code github to application"
   ]
  },
  {
   "cell_type": "markdown",
   "id": "9f12ffac-ec2b-4e6f-b85e-bd9593736038",
   "metadata": {},
   "source": [
    "#### Q2. Explain the difference between traditional web hosting and cloud hosting.\n",
    "- traditional web hosting and cloud hosting differ in their infrastructure, scalability, pricing, security, and control. Cloud hosting is generally more scalable, cost-effective, and secure, while traditional hosting provides more control over the underlying infrastructure."
   ]
  },
  {
   "cell_type": "markdown",
   "id": "33cc579b-b584-4517-8f99-2310fe9d3891",
   "metadata": {},
   "source": [
    "#### Q3. How do you choose the right cloud provider for your application deployment, and what factors should you consider?\n",
    "-  when choosing a cloud provider for your application deployment, consider factors such as cost, scalability, reliability, security, performance, support, and integration. Evaluate different providers based on these factors and choose the one that best meets your requirements and budget."
   ]
  },
  {
   "cell_type": "markdown",
   "id": "faea73ef-44c6-437b-9a4d-0b792e453b18",
   "metadata": {},
   "source": [
    "#### Q4. How do you design and build a responsive user interface for your web application, and what are some best practices to follow?\n",
    "- Designing and building a responsive user interface involves using a mobile-first approach, using a grid-based layout, using responsive typography, optimizing images, using flexible layouts, and testing your user interface on different devices."
   ]
  },
  {
   "cell_type": "markdown",
   "id": "92c1c9dc-693c-4ca7-8064-63c30003fee8",
   "metadata": {},
   "source": [
    "### Q5. How do you integrate the machine learning model with the user interface for the Algerian Forest Fires project(which we discussed in class), and what APIs or libraries can you use for this purpose?\n",
    "- Flask for web applicarion\n",
    "- Pickle for to read machine learning model"
   ]
  },
  {
   "cell_type": "code",
   "execution_count": null,
   "id": "1ed80ec8-2237-4fcf-bc48-740a3723eb78",
   "metadata": {},
   "outputs": [],
   "source": []
  }
 ],
 "metadata": {
  "kernelspec": {
   "display_name": "Python 3 (ipykernel)",
   "language": "python",
   "name": "python3"
  },
  "language_info": {
   "codemirror_mode": {
    "name": "ipython",
    "version": 3
   },
   "file_extension": ".py",
   "mimetype": "text/x-python",
   "name": "python",
   "nbconvert_exporter": "python",
   "pygments_lexer": "ipython3",
   "version": "3.9.12"
  }
 },
 "nbformat": 4,
 "nbformat_minor": 5
}
