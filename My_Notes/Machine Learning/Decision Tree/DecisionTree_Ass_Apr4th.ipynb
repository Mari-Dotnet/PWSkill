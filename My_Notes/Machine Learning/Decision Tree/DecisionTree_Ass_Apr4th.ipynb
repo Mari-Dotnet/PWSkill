{
 "cells": [
  {
   "cell_type": "markdown",
   "id": "ec66308c-9b9c-4d26-8da8-c1bdd34d9840",
   "metadata": {},
   "source": [
    "#### Q1. Describe the decision tree classifier algorithm and how it works to make predictions.\n",
    "- Decision tree to find the out root node based on that root it will get all possbile leaf node.\n",
    "- whenever the prediction happen that value going to particular leaf in that leaf has some numer of yes or no. which one of value is high that is our predicted output."
   ]
  },
  {
   "cell_type": "markdown",
   "id": "dfa9b3d3-9916-4852-b5fc-35a73e500f53",
   "metadata": {},
   "source": [
    "### Q2. Provide a step-by-step explanation of the mathematical intuition behind decision tree classification.\n",
    "- Fist we need to take one feature in that featue we can calculate the entoropy and gini impurity.\n",
    "- based on that we can calcuate the infirmation gain. \n",
    "- in same way we can take  the second feature and calclate the entropy and information gain.\n",
    "- in which one of the feature information gain is high we can select as root node."
   ]
  },
  {
   "cell_type": "markdown",
   "id": "6c31a9c3-8257-440d-ad42-b2cd32c220d3",
   "metadata": {},
   "source": [
    "#### Q3. Explain how a decision tree classifier can be used to solve a binary classification problem.\n",
    "- to check the parent root node based on root node and create child leaf node based on possbile values.\n",
    "- how many value are \"yes\" and \"no\" on the child leaf.\n",
    "- caluculate the entory and information gain."
   ]
  },
  {
   "cell_type": "markdown",
   "id": "f8dac97a-47e7-4912-989f-721a42f1a50e",
   "metadata": {},
   "source": [
    "### Q4. Discuss the geometric intuition behind decision tree classification and how it can be used to make predictions.\n",
    "- whenever the prediction happen that value going to particular leaf in that leaf has some numer of yes or no. which one of value is high that is our predicted output."
   ]
  },
  {
   "cell_type": "markdown",
   "id": "66d75d58-2371-485a-9b7c-a63cfbb935e1",
   "metadata": {},
   "source": [
    "#### Q5. Define the confusion matrix and describe how it can be used to evaluate the performance of a classification model.\n",
    "- comparing its predicted labels with the actual labels of a test dataset. It is a widely used tool for evaluating the accuracy of a classification model and gaining insights into its strengths and weaknesses."
   ]
  },
  {
   "cell_type": "markdown",
   "id": "c0bb4771-6565-4310-abe3-5151ceb51f29",
   "metadata": {
    "tags": []
   },
   "source": [
    "#### Q6. Provide an example of a confusion matrix and explain how precision, recall, and F1 score can be calculated from it.\n",
    "\n",
    "- True positives (TP):20\n",
    "- False positives (FP): 5\n",
    "- False negatives (FN): 5\n",
    "- True negatives (TN):20\n",
    "\n",
    "- precision:\n",
    "    - TF/(TP+FP) = 20/25 : 0.8\n",
    "\n",
    "- Recall:\n",
    "    - TF/(TP+FN) = 20/25 : 0.8\n",
    "\n",
    "- Fl score:\n",
    "    - 2*(precision*recall)/(precision+recall)= 2*(0.*0.8)/0.8+0.8 :2* 0.4= 0.8"
   ]
  },
  {
   "cell_type": "markdown",
   "id": "8b7c0731-aa74-4f94-967d-00e4590e9243",
   "metadata": {},
   "source": [
    "#### Q7. Discuss the importance of choosing an appropriate evaluation metric for a classification problem and explain how this can be done.\n",
    "- Accuracy is impordtant .\n",
    "- based on that accuracy value we can define our model is perform well or bad."
   ]
  },
  {
   "cell_type": "markdown",
   "id": "9da2abe9-21ac-44f2-b650-f61b15eb5eb4",
   "metadata": {},
   "source": [
    "#### Q8. Provide an example of a classification problem where precision is the most important metric, and explain why.\n",
    "- The precsion is importand the when  The number of instances that were incorrectly classified as positive.\n",
    "- Eg: mail is not spam but its classified as Spam"
   ]
  },
  {
   "cell_type": "markdown",
   "id": "7ff20e2e-7e86-43fd-9ea0-3b747d2e9fd4",
   "metadata": {},
   "source": [
    "#### Q9. Provide an example of a classification problem where recall is the most important metric, and explain why.\n",
    "- False negatives (FN): The number of instances that were incorrectly classified as negative.\n",
    "- Eg: The preson have diabetes but prediction is no diabetes."
   ]
  },
  {
   "cell_type": "code",
   "execution_count": null,
   "id": "4d8a620d-a4f3-4b57-ab49-47ff46b1f009",
   "metadata": {},
   "outputs": [],
   "source": []
  }
 ],
 "metadata": {
  "kernelspec": {
   "display_name": "Python 3 (ipykernel)",
   "language": "python",
   "name": "python3"
  },
  "language_info": {
   "codemirror_mode": {
    "name": "ipython",
    "version": 3
   },
   "file_extension": ".py",
   "mimetype": "text/x-python",
   "name": "python",
   "nbconvert_exporter": "python",
   "pygments_lexer": "ipython3",
   "version": "3.9.12"
  }
 },
 "nbformat": 4,
 "nbformat_minor": 5
}
