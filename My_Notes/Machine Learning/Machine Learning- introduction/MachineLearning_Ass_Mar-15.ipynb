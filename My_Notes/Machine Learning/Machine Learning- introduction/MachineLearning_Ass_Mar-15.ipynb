{
 "cells": [
  {
   "cell_type": "markdown",
   "id": "f58ca880-099c-48cd-8993-efcf46ab2dca",
   "metadata": {
    "tags": []
   },
   "source": [
    "### Q1.explain the example\n",
    "- Artifical intelligense\n",
    "    - Smart application that can perform its own without take any human intraction\n",
    "    - Self drving car,Robots\n",
    "- Machine learning\n",
    "    -Its subset of AI,Its provides stats tool to learn analyse , visualize and develop and predictive model from the data \n",
    "    - eg : Amazon, Netflix\n",
    "- Deep learning\n",
    "    - Its subset ofM macine learning, Mimin the human brain\n",
    "    - Eg: Char GPt"
   ]
  },
  {
   "cell_type": "markdown",
   "id": "64031da4-6f8b-4c51-9bb6-5abf1a40eb54",
   "metadata": {},
   "source": [
    "#### Q2- What is supervised machine learning ? \n",
    " - The supervised machine learning dataset have o/p variable.\n",
    " - The model is trained with i/p and o/p parameter and predict the output\n",
    "\n",
    "#### example of supervised example\n",
    "- prepare the exam (trained with lot example and finaly attatend the main exam)"
   ]
  },
  {
   "cell_type": "markdown",
   "id": "3f68fa84-77e6-4851-9c16-93016099cab4",
   "metadata": {},
   "source": [
    "#### Q3- What is un supervised machine learning ? \n",
    "- un supervied machine learning  model don't have o/p.\n",
    "- its have cluster and similar groups\n",
    "#### example of supervised example\n",
    "- Customer segmentation"
   ]
  },
  {
   "cell_type": "markdown",
   "id": "8875c932-212a-49ce-8d98-365142698b9a",
   "metadata": {},
   "source": [
    "#### Q5 difference between supervised , un supervided vd semi-superviced learning ?\n",
    "- supervied machine learning have o/p \n",
    "- un- supervied machine learning  don't have o/p \n",
    "- Semi supervied is combination of superivesed and un-supervised"
   ]
  },
  {
   "cell_type": "markdown",
   "id": "94431007-e48c-4114-a469-195368be98b3",
   "metadata": {},
   "source": [
    "#### Q6. what is train, test and validation. exaplin?\n",
    "- train\n",
    "    - Its specifically to train our model\n",
    "- test\n",
    "    - its specifically to test out model with different data\n",
    "    -  model doesn't know about the test data\n",
    "- validation\n",
    "    - to get the beter result we can do some hyper parameyter tunning in our model\n"
   ]
  },
  {
   "cell_type": "markdown",
   "id": "b73e65aa-d94f-46f1-9aa8-f6c262bbdeac",
   "metadata": {},
   "source": [
    "#### Q4- What is difference between AI vs ML vs DL vs DS ?\n",
    "- Artifical intelligense\n",
    "    - Smart application that can perform its own without take any human intraction\n",
    "    - Self drving car,Robots\n",
    "- Machine learning\n",
    "    -Its subset of AI,Its provides stats tool to learn analyse , visualize and develop and predictive model from the data \n",
    "    - eg : Amazon, Netflix\n",
    "- Deep learning\n",
    "    - Its subset ofM macine learning, Mimin the human brain\n",
    "    - Eg: Char GPt\n",
    "- Data science:\n",
    "    - Its combination of machine learning and deep learning"
   ]
  },
  {
   "cell_type": "markdown",
   "id": "97d15232-ebab-4077-a388-0e0c4e27da5e",
   "metadata": {
    "tags": []
   },
   "source": [
    "#### Q7- How can un-supervided  learning be used in anomaly detection?\n",
    "- Anomaly dection mostly used on un-supervised machine learning\n",
    "- we train a machine learning model to fir the normal behaviuor using on un-labelled dataset."
   ]
  },
  {
   "cell_type": "markdown",
   "id": "537a03c9-6c9f-423b-913a-f578c9b363ef",
   "metadata": {},
   "source": [
    "#### Q8.list of some commonlay used supervised and un-supervised machine learning algorithm ?\n",
    " - Supervised\n",
    "     - liner regression\n",
    "     - logistic regression\n",
    "     - SVM -Support vector machine\n",
    "     - decision tree\n",
    " - Un supervied\n",
    "     - k-means clustring\n",
    "     - Hierarchial clustring"
   ]
  },
  {
   "cell_type": "code",
   "execution_count": null,
   "id": "5b03f662-7bb4-4c4e-b07a-d8e7d2f8c804",
   "metadata": {},
   "outputs": [],
   "source": []
  }
 ],
 "metadata": {
  "kernelspec": {
   "display_name": "Python 3 (ipykernel)",
   "language": "python",
   "name": "python3"
  },
  "language_info": {
   "codemirror_mode": {
    "name": "ipython",
    "version": 3
   },
   "file_extension": ".py",
   "mimetype": "text/x-python",
   "name": "python",
   "nbconvert_exporter": "python",
   "pygments_lexer": "ipython3",
   "version": "3.9.12"
  }
 },
 "nbformat": 4,
 "nbformat_minor": 5
}
