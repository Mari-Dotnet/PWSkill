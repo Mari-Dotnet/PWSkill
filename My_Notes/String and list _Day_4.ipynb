{
 "cells": [
  {
   "cell_type": "code",
   "execution_count": 1,
   "id": "4f04439d-392f-40b5-a9f3-2997df04707d",
   "metadata": {},
   "outputs": [
    {
     "data": {
      "text/plain": [
       "'MARIMUTHU'"
      ]
     },
     "execution_count": 1,
     "metadata": {},
     "output_type": "execute_result"
    }
   ],
   "source": [
    "st=\"marimuthu\"\n",
    "st.swapcase()"
   ]
  },
  {
   "cell_type": "code",
   "execution_count": 2,
   "id": "927b6987-9268-4f85-9462-ea4b2efb8878",
   "metadata": {},
   "outputs": [
    {
     "data": {
      "text/plain": [
       "<reversed at 0x21b2d5a56d0>"
      ]
     },
     "execution_count": 2,
     "metadata": {},
     "output_type": "execute_result"
    }
   ],
   "source": [
    "reversed(st)"
   ]
  },
  {
   "cell_type": "code",
   "execution_count": 5,
   "id": "bd665bf7-d8c4-4a55-97f5-7a0f5681de2a",
   "metadata": {},
   "outputs": [
    {
     "data": {
      "text/plain": [
       "'u h t u m i r a m'"
      ]
     },
     "execution_count": 5,
     "metadata": {},
     "output_type": "execute_result"
    }
   ],
   "source": [
    "' '.join(reversed(st))"
   ]
  },
  {
   "cell_type": "code",
   "execution_count": 8,
   "id": "e790ccb4-9150-45ff-88a7-47d1e3753b56",
   "metadata": {},
   "outputs": [
    {
     "data": {
      "text/plain": [
       "'m hai a hai r hai i'"
      ]
     },
     "execution_count": 8,
     "metadata": {},
     "output_type": "execute_result"
    }
   ],
   "source": [
    "' hai '.join(\"mari\")"
   ]
  },
  {
   "cell_type": "code",
   "execution_count": 13,
   "id": "86a13d1d-5b24-4cae-a76d-cbae7e30f248",
   "metadata": {},
   "outputs": [
    {
     "data": {
      "text/plain": [
       "'cpw is good opw is good mpw is good ppw is good apw is good npw is good y'"
      ]
     },
     "execution_count": 13,
     "metadata": {},
     "output_type": "execute_result"
    }
   ],
   "source": [
    "str1=\"pw is good \"\n",
    "str2=\"company\"\n",
    "\n",
    "str1.join( str2)"
   ]
  },
  {
   "cell_type": "markdown",
   "id": "351d6f1f-2f05-49bc-b6a7-5938156ac37d",
   "metadata": {},
   "source": [
    "## remove the whitespace in string"
   ]
  },
  {
   "cell_type": "code",
   "execution_count": 19,
   "id": "1d9d1008-d106-4e19-9dc6-61aad12b09e3",
   "metadata": {},
   "outputs": [
    {
     "data": {
      "text/plain": [
       "'mari muthu'"
      ]
     },
     "execution_count": 19,
     "metadata": {},
     "output_type": "execute_result"
    }
   ],
   "source": [
    "string=\" mari muthu \"\n",
    "string.strip(\" \")"
   ]
  },
  {
   "cell_type": "code",
   "execution_count": 20,
   "id": "6eaaf036-1fc0-4267-b072-1e5048efd4a0",
   "metadata": {},
   "outputs": [
    {
     "data": {
      "text/plain": [
       "'mari muthu '"
      ]
     },
     "execution_count": 20,
     "metadata": {},
     "output_type": "execute_result"
    }
   ],
   "source": [
    "string.lstrip(\" \")"
   ]
  },
  {
   "cell_type": "code",
   "execution_count": 21,
   "id": "7e593d84-9590-4385-96fa-b61c75722947",
   "metadata": {},
   "outputs": [
    {
     "data": {
      "text/plain": [
       "' mari muthu'"
      ]
     },
     "execution_count": 21,
     "metadata": {},
     "output_type": "execute_result"
    }
   ],
   "source": [
    "string.rstrip(\" \")"
   ]
  },
  {
   "cell_type": "markdown",
   "id": "ab716e93-7210-4798-9086-76e3a957068c",
   "metadata": {},
   "source": [
    "## replace the string particular value"
   ]
  },
  {
   "cell_type": "code",
   "execution_count": 22,
   "id": "6cea3129-25c1-4676-a8d5-540d6e49d9e3",
   "metadata": {},
   "outputs": [
    {
     "data": {
      "text/plain": [
       "'mari came from Namakkal'"
      ]
     },
     "execution_count": 22,
     "metadata": {},
     "output_type": "execute_result"
    }
   ],
   "source": [
    "repl=\"mari came from india\"\n",
    "repl.replace(\"india\", \"Namakkal\")"
   ]
  },
  {
   "cell_type": "code",
   "execution_count": 25,
   "id": "27b6e264-bbca-46a7-8c97-01c2791d69e1",
   "metadata": {},
   "outputs": [
    {
     "data": {
      "text/plain": [
       "'marim&th&'"
      ]
     },
     "execution_count": 25,
     "metadata": {},
     "output_type": "execute_result"
    }
   ],
   "source": [
    "repl=\"marimuthu\"\n",
    "repl.replace(\"u\",\"&\")"
   ]
  },
  {
   "cell_type": "code",
   "execution_count": 27,
   "id": "f5fa2229-9782-41c4-a28d-c9d61524d665",
   "metadata": {},
   "outputs": [
    {
     "data": {
      "text/plain": [
       "'hello   world'"
      ]
     },
     "execution_count": 27,
     "metadata": {},
     "output_type": "execute_result"
    }
   ],
   "source": [
    "'hello\\tworld'.expandtabs()"
   ]
  },
  {
   "cell_type": "code",
   "execution_count": 29,
   "id": "bbd9036f-cf7b-4d83-ba48-8b5f998c4e87",
   "metadata": {},
   "outputs": [
    {
     "data": {
      "text/plain": [
       "'hello\\nworld'"
      ]
     },
     "execution_count": 29,
     "metadata": {},
     "output_type": "execute_result"
    }
   ],
   "source": [
    "'hello\\nworld'.expandtabs()"
   ]
  },
  {
   "cell_type": "code",
   "execution_count": 30,
   "id": "a1306799-0da6-4022-9ae3-1f1d25968a55",
   "metadata": {},
   "outputs": [
    {
     "data": {
      "text/plain": [
       "'welcome to data science'"
      ]
     },
     "execution_count": 30,
     "metadata": {},
     "output_type": "execute_result"
    }
   ],
   "source": [
    "str1=\"welcome to dat scivce\"\n",
    "str1.replace(\"dat\",\"data\").replace(\"scivce\",\"science\")"
   ]
  },
  {
   "cell_type": "code",
   "execution_count": 31,
   "id": "f7c0ec15-0a53-4e72-9d0e-f8f204a4f824",
   "metadata": {},
   "outputs": [
    {
     "data": {
      "text/plain": [
       "False"
      ]
     },
     "execution_count": 31,
     "metadata": {},
     "output_type": "execute_result"
    }
   ],
   "source": [
    "'mari'.isupper()"
   ]
  },
  {
   "cell_type": "code",
   "execution_count": 33,
   "id": "91088ad8-ed16-4c8f-9ca5-a67550f598bf",
   "metadata": {},
   "outputs": [
    {
     "data": {
      "text/plain": [
       "True"
      ]
     },
     "execution_count": 33,
     "metadata": {},
     "output_type": "execute_result"
    }
   ],
   "source": [
    "str=\"  \"\n",
    "str.isspace()"
   ]
  },
  {
   "cell_type": "code",
   "execution_count": 35,
   "id": "2d3cd338-e981-4140-96a5-aaeceb6cd3ad",
   "metadata": {},
   "outputs": [
    {
     "data": {
      "text/plain": [
       "'marimuthu'"
      ]
     },
     "execution_count": 35,
     "metadata": {},
     "output_type": "execute_result"
    }
   ],
   "source": [
    "str=\" mari muthu \"\n",
    "str.replace(\" \",\"\")"
   ]
  },
  {
   "cell_type": "code",
   "execution_count": 36,
   "id": "45cac03d-0403-405e-b6ca-0cd94f3b7625",
   "metadata": {},
   "outputs": [
    {
     "data": {
      "text/plain": [
       "True"
      ]
     },
     "execution_count": 36,
     "metadata": {},
     "output_type": "execute_result"
    }
   ],
   "source": [
    "'maripvm14@gmail.com'.endswith('.com')"
   ]
  },
  {
   "cell_type": "code",
   "execution_count": 37,
   "id": "4621d613-e9e5-4d61-aeb2-cca966aff0dd",
   "metadata": {},
   "outputs": [
    {
     "data": {
      "text/plain": [
       "True"
      ]
     },
     "execution_count": 37,
     "metadata": {},
     "output_type": "execute_result"
    }
   ],
   "source": [
    "##how to check str alphanumeric\n",
    "'mari1234'.isalnum()"
   ]
  },
  {
   "cell_type": "code",
   "execution_count": 39,
   "id": "4505455d-92c7-4130-bbb5-8585f239c108",
   "metadata": {},
   "outputs": [
    {
     "name": "stdout",
     "output_type": "stream",
     "text": [
      "The vowel is m not present\n",
      "The vowel is a present\n",
      "The vowel is r not present\n",
      "The vowel is i present\n",
      "The vowel is m not present\n",
      "The vowel is u present\n",
      "The vowel is t not present\n",
      "The vowel is h not present\n",
      "The vowel is u present\n"
     ]
    }
   ],
   "source": [
    "Name=\"marimuthu\"\n",
    "vowel=\"aAeEiIoOuU\"\n",
    "for i in Name:\n",
    "    if i in vowel:\n",
    "        print(\"The vowel is {} present\".format(i))\n",
    "    else:\n",
    "        print(\"The vowel is {} not present\".format(i))\n",
    "        "
   ]
  },
  {
   "cell_type": "markdown",
   "id": "fd8a0628-0f0a-4887-9ced-2fda7cd40e43",
   "metadata": {},
   "source": [
    "#### list"
   ]
  },
  {
   "cell_type": "code",
   "execution_count": 41,
   "id": "ff614f6f-227b-44fc-a4f2-7fd25238d3f0",
   "metadata": {},
   "outputs": [],
   "source": [
    "lst=[1,2,3,4]"
   ]
  },
  {
   "cell_type": "code",
   "execution_count": 47,
   "id": "36b3a6c6-8836-4176-9345-9a331e1fcbfc",
   "metadata": {},
   "outputs": [
    {
     "data": {
      "text/plain": [
       "[1, 2, 3, 4]"
      ]
     },
     "execution_count": 47,
     "metadata": {},
     "output_type": "execute_result"
    }
   ],
   "source": [
    "lst"
   ]
  },
  {
   "cell_type": "code",
   "execution_count": 51,
   "id": "6d08cc74-46e7-4277-9e15-b2d5999074f2",
   "metadata": {},
   "outputs": [],
   "source": [
    "##append\n",
    "lst.append(5)"
   ]
  },
  {
   "cell_type": "code",
   "execution_count": 52,
   "id": "2d5816a7-c6fd-4694-9f9b-9823c7d2ef8b",
   "metadata": {},
   "outputs": [
    {
     "data": {
      "text/plain": [
       "[1, 2, 3, 4, 5]"
      ]
     },
     "execution_count": 52,
     "metadata": {},
     "output_type": "execute_result"
    }
   ],
   "source": [
    "lst"
   ]
  },
  {
   "cell_type": "code",
   "execution_count": 53,
   "id": "e2197815-2c9c-4866-9ce0-286022ac8ac0",
   "metadata": {},
   "outputs": [
    {
     "data": {
      "text/plain": [
       "True"
      ]
     },
     "execution_count": 53,
     "metadata": {},
     "output_type": "execute_result"
    }
   ],
   "source": [
    "## check the values in list\n",
    "4 in lst"
   ]
  },
  {
   "cell_type": "code",
   "execution_count": 55,
   "id": "6ffb4fda-653e-4b49-895a-9ba59d4fc2a8",
   "metadata": {},
   "outputs": [],
   "source": [
    "lst.remove(1) # inside the function we can provide the number "
   ]
  },
  {
   "cell_type": "code",
   "execution_count": 56,
   "id": "69612429-aedf-4225-9589-8b8439f9629e",
   "metadata": {},
   "outputs": [
    {
     "data": {
      "text/plain": [
       "[2, 3, 4, 5]"
      ]
     },
     "execution_count": 56,
     "metadata": {},
     "output_type": "execute_result"
    }
   ],
   "source": [
    "lst"
   ]
  },
  {
   "cell_type": "code",
   "execution_count": 57,
   "id": "3466933c-0e1f-454a-b9a2-58e8cf08534d",
   "metadata": {},
   "outputs": [
    {
     "data": {
      "text/plain": [
       "5"
      ]
     },
     "execution_count": 57,
     "metadata": {},
     "output_type": "execute_result"
    }
   ],
   "source": [
    "#Last value remove from the list\n",
    "lst.pop()"
   ]
  },
  {
   "cell_type": "code",
   "execution_count": 58,
   "id": "834107f1-63a9-4b8c-adef-76d15085fdc3",
   "metadata": {},
   "outputs": [
    {
     "data": {
      "text/plain": [
       "[2, 3, 4]"
      ]
     },
     "execution_count": 58,
     "metadata": {},
     "output_type": "execute_result"
    }
   ],
   "source": [
    "lst"
   ]
  },
  {
   "cell_type": "code",
   "execution_count": 59,
   "id": "1e83336c-be38-4e36-8bfc-e856599c1380",
   "metadata": {},
   "outputs": [
    {
     "data": {
      "text/plain": [
       "2"
      ]
     },
     "execution_count": 59,
     "metadata": {},
     "output_type": "execute_result"
    }
   ],
   "source": [
    "lst.pop(0) # here we can provide the indesx value"
   ]
  },
  {
   "cell_type": "code",
   "execution_count": 60,
   "id": "891f5068-00d0-4a27-b857-57205bd3bc09",
   "metadata": {},
   "outputs": [
    {
     "data": {
      "text/plain": [
       "[5, 4, 3, 2, 1]"
      ]
     },
     "execution_count": 60,
     "metadata": {},
     "output_type": "execute_result"
    }
   ],
   "source": [
    "lst=[1,2,3,4,5]\n",
    "lst[::-1]"
   ]
  },
  {
   "cell_type": "code",
   "execution_count": 65,
   "id": "cc169f0f-5080-4c0a-96f8-2d73819a16b7",
   "metadata": {},
   "outputs": [],
   "source": [
    "lst.reverse()"
   ]
  },
  {
   "cell_type": "code",
   "execution_count": 66,
   "id": "939c714e-4614-44cd-a355-156e2039e3e0",
   "metadata": {},
   "outputs": [
    {
     "data": {
      "text/plain": [
       "[1, 2, 3, 4, 5]"
      ]
     },
     "execution_count": 66,
     "metadata": {},
     "output_type": "execute_result"
    }
   ],
   "source": [
    "lst"
   ]
  },
  {
   "cell_type": "code",
   "execution_count": 67,
   "id": "8f58c03a-514a-477e-b570-f5e59ea13b93",
   "metadata": {},
   "outputs": [],
   "source": [
    "##extend \n",
    "\n",
    "lst.append([6,8])"
   ]
  },
  {
   "cell_type": "code",
   "execution_count": 68,
   "id": "d064b9cf-2d54-4dac-912b-844c16e1f65e",
   "metadata": {},
   "outputs": [
    {
     "data": {
      "text/plain": [
       "[1, 2, 3, 4, 5, [6, 8]]"
      ]
     },
     "execution_count": 68,
     "metadata": {},
     "output_type": "execute_result"
    }
   ],
   "source": [
    "lst"
   ]
  },
  {
   "cell_type": "code",
   "execution_count": 69,
   "id": "b1234dee-e6c4-4b47-931f-c6a8efd246e3",
   "metadata": {},
   "outputs": [],
   "source": [
    "lst.extend([6,8])"
   ]
  },
  {
   "cell_type": "code",
   "execution_count": 70,
   "id": "62868a50-c3bf-470b-aa7d-cff4440430ea",
   "metadata": {},
   "outputs": [
    {
     "data": {
      "text/plain": [
       "[1, 2, 3, 4, 5, [6, 8], 6, 8]"
      ]
     },
     "execution_count": 70,
     "metadata": {},
     "output_type": "execute_result"
    }
   ],
   "source": [
    "lst"
   ]
  },
  {
   "cell_type": "code",
   "execution_count": 71,
   "id": "8a7d9a35-a079-4398-9084-edcfbef64497",
   "metadata": {},
   "outputs": [],
   "source": [
    "## logic\n",
    "list=[[1,2,3],[4,5,6],[7,8,9]]"
   ]
  },
  {
   "cell_type": "code",
   "execution_count": 72,
   "id": "e1f0a771-cd05-4d64-889f-d0f6e896bda1",
   "metadata": {},
   "outputs": [
    {
     "data": {
      "text/plain": [
       "[[1, 2, 3], [4, 5, 6], [7, 8, 9]]"
      ]
     },
     "execution_count": 72,
     "metadata": {},
     "output_type": "execute_result"
    }
   ],
   "source": [
    "list"
   ]
  },
  {
   "cell_type": "code",
   "execution_count": 79,
   "id": "4b940607-61d5-48b0-a1bf-1c2cd18ba390",
   "metadata": {},
   "outputs": [
    {
     "data": {
      "text/plain": [
       "[0, 1, 2, 3, 4, 5, 6, 7, 8, 9, 10, 11, 12, 13, 14, 15, 16, 17, 18, 19]"
      ]
     },
     "execution_count": 79,
     "metadata": {},
     "output_type": "execute_result"
    }
   ],
   "source": [
    "## List comprehension\n",
    "[ i for i in range(20)]"
   ]
  },
  {
   "cell_type": "code",
   "execution_count": 96,
   "id": "e108171f-8375-4fea-aa31-b2ec358a61b3",
   "metadata": {},
   "outputs": [
    {
     "data": {
      "text/plain": [
       "[0, '', 2, '', 4, '', 6, '', 8, '', 10, '', 12, '', 14, '', 16, '', 18, '']"
      ]
     },
     "execution_count": 96,
     "metadata": {},
     "output_type": "execute_result"
    }
   ],
   "source": [
    "[ i if i%2==0 else \"\"  for i in range(20)]"
   ]
  },
  {
   "cell_type": "code",
   "execution_count": 108,
   "id": "94117fe2-bb94-4849-b69c-8f0db701c7b1",
   "metadata": {},
   "outputs": [
    {
     "data": {
      "text/plain": [
       "20"
      ]
     },
     "execution_count": 108,
     "metadata": {},
     "output_type": "execute_result"
    }
   ],
   "source": [
    "## assignment\n",
    "sum([x for x in range(1,9) if x%2==0 ])"
   ]
  },
  {
   "cell_type": "code",
   "execution_count": 113,
   "id": "8fb63472-d8fb-4211-8851-5b8b9b7564c9",
   "metadata": {},
   "outputs": [
    {
     "data": {
      "text/plain": [
       "[1, 9, 25, 49]"
      ]
     },
     "execution_count": 113,
     "metadata": {},
     "output_type": "execute_result"
    }
   ],
   "source": [
    "[x**2 for x in range(1,9) if x%2!=0 ]"
   ]
  },
  {
   "cell_type": "code",
   "execution_count": 119,
   "id": "af1543c0-5d0d-448a-bd32-c5a549057df0",
   "metadata": {},
   "outputs": [
    {
     "data": {
      "text/plain": [
       "[-2, -1, 0, 1, 2, 3]"
      ]
     },
     "execution_count": 119,
     "metadata": {},
     "output_type": "execute_result"
    }
   ],
   "source": [
    "number=[-2,-1,0,1,2,3]\n",
    "number"
   ]
  },
  {
   "cell_type": "code",
   "execution_count": 121,
   "id": "653ae95d-e179-4e7f-bc82-1de1faecfbfa",
   "metadata": {},
   "outputs": [
    {
     "data": {
      "text/plain": [
       "[1, 2, 3]"
      ]
     },
     "execution_count": 121,
     "metadata": {},
     "output_type": "execute_result"
    }
   ],
   "source": [
    "[x for x in number if x>0]"
   ]
  },
  {
   "cell_type": "code",
   "execution_count": 122,
   "id": "219b1a13-e54b-4bd8-99b4-80a1b663d8de",
   "metadata": {},
   "outputs": [
    {
     "data": {
      "text/plain": [
       "[[1, 2, 3], [4, 5, 6], [7, 8, 9]]"
      ]
     },
     "execution_count": 122,
     "metadata": {},
     "output_type": "execute_result"
    }
   ],
   "source": [
    "list"
   ]
  },
  {
   "cell_type": "code",
   "execution_count": 158,
   "id": "bc1c8680-b018-45fb-b674-33d8e45251b1",
   "metadata": {},
   "outputs": [
    {
     "data": {
      "text/plain": [
       "[1, 2, 3, 4, 5, 6, 7, 8, 9]"
      ]
     },
     "execution_count": 158,
     "metadata": {},
     "output_type": "execute_result"
    }
   ],
   "source": [
    "[j for i in list for j in i]"
   ]
  },
  {
   "cell_type": "code",
   "execution_count": 159,
   "id": "42c13ee4-22c7-4cac-b760-6f21babc4161",
   "metadata": {},
   "outputs": [
    {
     "data": {
      "text/plain": [
       "True"
      ]
     },
     "execution_count": 159,
     "metadata": {},
     "output_type": "execute_result"
    }
   ],
   "source": [
    "'pwskills'.upper().lower().isalnum()"
   ]
  },
  {
   "cell_type": "code",
   "execution_count": 173,
   "id": "0bacea18-26f0-4d66-b22e-4b85f7119270",
   "metadata": {},
   "outputs": [
    {
     "name": "stdout",
     "output_type": "stream",
     "text": [
      "100\n"
     ]
    }
   ],
   "source": [
    "  _pw_skills=100 \n",
    "print(_pw_skills)"
   ]
  },
  {
   "cell_type": "code",
   "execution_count": 161,
   "id": "6e215339-0105-4350-a0d3-8a90238596d4",
   "metadata": {},
   "outputs": [
    {
     "ename": "SyntaxError",
     "evalue": "invalid syntax (2157032364.py, line 1)",
     "output_type": "error",
     "traceback": [
      "\u001b[1;36m  Input \u001b[1;32mIn [161]\u001b[1;36m\u001b[0m\n\u001b[1;33m    Num_100=100   Pw-skills=100    _pw_skills=100\u001b[0m\n\u001b[1;37m                  ^\u001b[0m\n\u001b[1;31mSyntaxError\u001b[0m\u001b[1;31m:\u001b[0m invalid syntax\n"
     ]
    }
   ],
   "source": [
    "\n",
    "  \n",
    "  _pw_skills=100"
   ]
  },
  {
   "cell_type": "code",
   "execution_count": 171,
   "id": "6630e8f0-580f-436e-864d-4abe90cb7fce",
   "metadata": {},
   "outputs": [
    {
     "name": "stdout",
     "output_type": "stream",
     "text": [
      "3.0\n",
      "(2+3j)\n"
     ]
    },
    {
     "data": {
      "text/plain": [
       "(-1+3j)"
      ]
     },
     "execution_count": 171,
     "metadata": {},
     "output_type": "execute_result"
    }
   ],
   "source": [
    "num1= 23\n",
    "\n",
    "num2= 44\n",
    "\n",
    "num2= 2+3j\n",
    "\n",
    "num1= num2.imag\n",
    "print(num1)\n",
    "print(num2)\n",
    "num2-num1"
   ]
  },
  {
   "cell_type": "code",
   "execution_count": 172,
   "id": "8dc06331-1b86-4507-ba00-c3f9da7d96b1",
   "metadata": {},
   "outputs": [
    {
     "ename": "ZeroDivisionError",
     "evalue": "division by zero",
     "output_type": "error",
     "traceback": [
      "\u001b[1;31m---------------------------------------------------------------------------\u001b[0m",
      "\u001b[1;31mZeroDivisionError\u001b[0m                         Traceback (most recent call last)",
      "Input \u001b[1;32mIn [172]\u001b[0m, in \u001b[0;36m<cell line: 1>\u001b[1;34m()\u001b[0m\n\u001b[1;32m----> 1\u001b[0m \u001b[38;5;241;43m1\u001b[39;49m\u001b[38;5;241;43m/\u001b[39;49m\u001b[43m \u001b[49m\u001b[38;5;28;43;01mFalse\u001b[39;49;00m\n",
      "\u001b[1;31mZeroDivisionError\u001b[0m: division by zero"
     ]
    }
   ],
   "source": [
    "1/ False"
   ]
  },
  {
   "cell_type": "code",
   "execution_count": 174,
   "id": "86f086c6-9bc8-48a9-a3de-754e2c5e1552",
   "metadata": {},
   "outputs": [
    {
     "ename": "ZeroDivisionError",
     "evalue": "division by zero",
     "output_type": "error",
     "traceback": [
      "\u001b[1;31m---------------------------------------------------------------------------\u001b[0m",
      "\u001b[1;31mZeroDivisionError\u001b[0m                         Traceback (most recent call last)",
      "Input \u001b[1;32mIn [174]\u001b[0m, in \u001b[0;36m<cell line: 1>\u001b[1;34m()\u001b[0m\n\u001b[1;32m----> 1\u001b[0m \u001b[38;5;28;43;01mTrue\u001b[39;49;00m\u001b[38;5;241;43m/\u001b[39;49m\u001b[43m \u001b[49m\u001b[38;5;28;43;01mFalse\u001b[39;49;00m\n",
      "\u001b[1;31mZeroDivisionError\u001b[0m: division by zero"
     ]
    }
   ],
   "source": [
    "True/ False"
   ]
  },
  {
   "cell_type": "code",
   "execution_count": 176,
   "id": "9d526808-97ee-4a13-b858-35b602b7c5d5",
   "metadata": {},
   "outputs": [
    {
     "data": {
      "text/plain": [
       "'fdfgdfgdf\\ngfdgfdg\\n'"
      ]
     },
     "execution_count": 176,
     "metadata": {},
     "output_type": "execute_result"
    }
   ],
   "source": [
    "'''fdfgdfgdf\n",
    "gfdgfdg\n",
    "'''"
   ]
  },
  {
   "cell_type": "code",
   "execution_count": 183,
   "id": "98d27c7a-8c83-43ce-abd8-837d36599787",
   "metadata": {},
   "outputs": [
    {
     "name": "stdout",
     "output_type": "stream",
     "text": [
      "[0, 10, 20, 30, 40, 50]\n"
     ]
    }
   ],
   "source": [
    "list_out=[]\n",
    "\n",
    "for i in range(0,51,10):\n",
    "\n",
    "    list_out.append(i)\n",
    "print(list_out)"
   ]
  },
  {
   "cell_type": "code",
   "execution_count": 188,
   "id": "13f74431-629e-45e4-9a5d-37b673d3edbe",
   "metadata": {},
   "outputs": [
    {
     "data": {
      "text/plain": [
       "25"
      ]
     },
     "execution_count": 188,
     "metadata": {},
     "output_type": "execute_result"
    }
   ],
   "source": [
    "5**2"
   ]
  },
  {
   "cell_type": "code",
   "execution_count": 196,
   "id": "81dc5aec-1d75-4d8e-87d8-48f09ae0efb9",
   "metadata": {},
   "outputs": [
    {
     "name": "stdout",
     "output_type": "stream",
     "text": [
      "{1, 4, 9, 16, 25}\n"
     ]
    }
   ],
   "source": [
    "numbers = (1,2,3,4,5, 5,4,3,2,1)\n",
    "\n",
    "list=[]\n",
    "\n",
    "for number in numbers:\n",
    "\n",
    "   list.append(number**2)\n",
    "\n",
    "print(set(list))"
   ]
  },
  {
   "cell_type": "code",
   "execution_count": 195,
   "id": "50657bea-3bdb-4aae-8132-ad263286d9a8",
   "metadata": {},
   "outputs": [
    {
     "data": {
      "text/plain": [
       "27"
      ]
     },
     "execution_count": 195,
     "metadata": {},
     "output_type": "execute_result"
    }
   ],
   "source": [
    "3**3"
   ]
  },
  {
   "cell_type": "code",
   "execution_count": 197,
   "id": "4d67afd6-1d5b-4b44-bb6d-b28123c759b8",
   "metadata": {},
   "outputs": [
    {
     "ename": "SyntaxError",
     "evalue": "invalid character '‘' (U+2018) (354407595.py, line 1)",
     "output_type": "error",
     "traceback": [
      "\u001b[1;36m  Input \u001b[1;32mIn [198]\u001b[1;36m\u001b[0m\n\u001b[1;33m    nt(‘pwskills’) + 1\u001b[0m\n\u001b[1;37m       ^\u001b[0m\n\u001b[1;31mSyntaxError\u001b[0m\u001b[1;31m:\u001b[0m invalid character '‘' (U+2018)\n"
     ]
    }
   ],
   "source": [
    "nt(‘pwskills’) + 1 \n",
    "\n",
    "\n",
    "nt(‘pwskills’) + int(1) \n",
    "\n",
    "\n",
    "‘pwskills’ + type(1) \n",
    "\n",
    "\n",
    "‘pwskills’ + str(1)"
   ]
  },
  {
   "cell_type": "code",
   "execution_count": null,
   "id": "591729bf-a879-43f3-905b-7416368d8444",
   "metadata": {},
   "outputs": [],
   "source": []
  }
 ],
 "metadata": {
  "kernelspec": {
   "display_name": "Python 3 (ipykernel)",
   "language": "python",
   "name": "python3"
  },
  "language_info": {
   "codemirror_mode": {
    "name": "ipython",
    "version": 3
   },
   "file_extension": ".py",
   "mimetype": "text/x-python",
   "name": "python",
   "nbconvert_exporter": "python",
   "pygments_lexer": "ipython3",
   "version": "3.9.12"
  }
 },
 "nbformat": 4,
 "nbformat_minor": 5
}
